{
 "cells": [
  {
   "cell_type": "markdown",
   "metadata": {
    "id": "L2vudERBJTiT"
   },
   "source": [
    "# **CASE: COMPRA DE PERFUMES**\n",
    "\n",
    "---"
   ]
  },
  {
   "cell_type": "markdown",
   "metadata": {
    "id": "nGD5Csd2q7VV"
   },
   "source": [
    "### Instalação de bibliotecas"
   ]
  },
  {
   "cell_type": "code",
   "execution_count": 1,
   "metadata": {
    "id": "DY4aICW6q8Eb"
   },
   "outputs": [
    {
     "name": "stderr",
     "output_type": "stream",
     "text": [
      "Installing package into ‘/usr/local/lib/R/site-library’\n",
      "(as ‘lib’ is unspecified)\n",
      "\n",
      "Installing package into ‘/usr/local/lib/R/site-library’\n",
      "(as ‘lib’ is unspecified)\n",
      "\n"
     ]
    }
   ],
   "source": [
    "# Para cálculo do VIF\n",
    "install.packages(\"rms\")\n",
    "# Para cálculo do KS e AUC\n",
    "install.packages(\"ROCR\")"
   ]
  },
  {
   "cell_type": "markdown",
   "metadata": {
    "id": "99PaLHQgvG4X"
   },
   "source": [
    "### Carregamento de bibliotecas"
   ]
  },
  {
   "cell_type": "code",
   "execution_count": 2,
   "metadata": {
    "id": "ypvOgRlIrJaq"
   },
   "outputs": [
    {
     "name": "stderr",
     "output_type": "stream",
     "text": [
      "Loading required package: Hmisc\n",
      "\n",
      "\n",
      "Attaching package: ‘Hmisc’\n",
      "\n",
      "\n",
      "The following objects are masked from ‘package:base’:\n",
      "\n",
      "    format.pval, units\n",
      "\n",
      "\n"
     ]
    }
   ],
   "source": [
    "library(rms)\n",
    "library(ROCR)"
   ]
  },
  {
   "cell_type": "markdown",
   "metadata": {
    "id": "AppXoGlSJa4f"
   },
   "source": [
    "### Leitura da base de dados"
   ]
  },
  {
   "cell_type": "code",
   "execution_count": 3,
   "metadata": {
    "id": "BKIVxb-yO6kt"
   },
   "outputs": [
    {
     "name": "stderr",
     "output_type": "stream",
     "text": [
      "Warning message in file(file, \"rt\"):\n",
      "“cannot open file 'Compra_Perfumes.txt': No such file or directory”\n"
     ]
    },
    {
     "ename": "ERROR",
     "evalue": "Error in file(file, \"rt\"): cannot open the connection\n",
     "output_type": "error",
     "traceback": [
      "Error in file(file, \"rt\"): cannot open the connection\nTraceback:\n",
      "1. read.table(file = \"Compra_Perfumes.txt\", sep = \"\\t\", dec = \",\", \n .     header = TRUE)",
      "2. file(file, \"rt\")"
     ]
    }
   ],
   "source": [
    "dados_perfume <- read.table(file = \"Compra_Perfumes.txt\",\n",
    "                            sep = \"\\t\",\n",
    "                            dec = \",\",\n",
    "                            header = TRUE)"
   ]
  },
  {
   "cell_type": "markdown",
   "metadata": {
    "id": "QjxtmJktJf24"
   },
   "source": [
    "### Visualização da base de dados"
   ]
  },
  {
   "cell_type": "code",
   "execution_count": 6,
   "metadata": {
    "id": "FJUJqh-_O4Dh"
   },
   "outputs": [
    {
     "data": {
      "text/html": [
       "<table class=\"dataframe\">\n",
       "<caption>A data.frame: 12640 × 6</caption>\n",
       "<thead>\n",
       "\t<tr><th scope=col>ID_Cliente</th><th scope=col>Genero</th><th scope=col>Idade</th><th scope=col>Cidade</th><th scope=col>Sistema_Operac</th><th scope=col>Utilizou_Cupom</th></tr>\n",
       "\t<tr><th scope=col>&lt;int&gt;</th><th scope=col>&lt;chr&gt;</th><th scope=col>&lt;int&gt;</th><th scope=col>&lt;chr&gt;</th><th scope=col>&lt;chr&gt;</th><th scope=col>&lt;int&gt;</th></tr>\n",
       "</thead>\n",
       "<tbody>\n",
       "\t<tr><td> 1</td><td>Feminino </td><td>35</td><td>Sao_Paulo     </td><td>iOS    </td><td>0</td></tr>\n",
       "\t<tr><td> 2</td><td>Feminino </td><td>35</td><td>Sao_Paulo     </td><td>Android</td><td>0</td></tr>\n",
       "\t<tr><td> 3</td><td>Feminino </td><td>38</td><td>Sao_Paulo     </td><td>Android</td><td>0</td></tr>\n",
       "\t<tr><td> 4</td><td>Feminino </td><td>41</td><td>Sao_Paulo     </td><td>Outros </td><td>0</td></tr>\n",
       "\t<tr><td> 5</td><td>Masculino</td><td>46</td><td>Sao_Paulo     </td><td>Android</td><td>0</td></tr>\n",
       "\t<tr><td> 6</td><td>Masculino</td><td>42</td><td>Sao_Paulo     </td><td>iOS    </td><td>0</td></tr>\n",
       "\t<tr><td> 7</td><td>Feminino </td><td>38</td><td>Rio_Janeiro   </td><td>Android</td><td>0</td></tr>\n",
       "\t<tr><td> 8</td><td>Feminino </td><td>39</td><td>Sao_Paulo     </td><td>iOS    </td><td>1</td></tr>\n",
       "\t<tr><td> 9</td><td>Feminino </td><td>42</td><td>Rio_Janeiro   </td><td>Android</td><td>0</td></tr>\n",
       "\t<tr><td>10</td><td>Feminino </td><td>36</td><td>Rio_Janeiro   </td><td>Android</td><td>0</td></tr>\n",
       "\t<tr><td>11</td><td>Feminino </td><td>44</td><td>Sao_Paulo     </td><td>iOS    </td><td>0</td></tr>\n",
       "\t<tr><td>12</td><td>Masculino</td><td>36</td><td>Sao_Paulo     </td><td>Android</td><td>0</td></tr>\n",
       "\t<tr><td>13</td><td>Masculino</td><td>41</td><td>Rio_Janeiro   </td><td>iOS    </td><td>0</td></tr>\n",
       "\t<tr><td>14</td><td>Feminino </td><td>41</td><td>Belo_Horizonte</td><td>iOS    </td><td>0</td></tr>\n",
       "\t<tr><td>15</td><td>Masculino</td><td>40</td><td>Sao_Paulo     </td><td>iOS    </td><td>0</td></tr>\n",
       "\t<tr><td>16</td><td>Masculino</td><td>43</td><td>Rio_Janeiro   </td><td>Android</td><td>0</td></tr>\n",
       "\t<tr><td>17</td><td>Feminino </td><td>29</td><td>Sao_Paulo     </td><td>iOS    </td><td>0</td></tr>\n",
       "\t<tr><td>18</td><td>Feminino </td><td>36</td><td>Rio_Janeiro   </td><td>iOS    </td><td>0</td></tr>\n",
       "\t<tr><td>19</td><td>Feminino </td><td>41</td><td>Sao_Paulo     </td><td>Outros </td><td>0</td></tr>\n",
       "\t<tr><td>20</td><td>Feminino </td><td>37</td><td>Sao_Paulo     </td><td>iOS    </td><td>0</td></tr>\n",
       "\t<tr><td>21</td><td>Feminino </td><td>51</td><td>Sao_Paulo     </td><td>Android</td><td>0</td></tr>\n",
       "\t<tr><td>22</td><td>Masculino</td><td>43</td><td>Rio_Janeiro   </td><td>iOS    </td><td>0</td></tr>\n",
       "\t<tr><td>23</td><td>Feminino </td><td>49</td><td>Rio_Janeiro   </td><td>Android</td><td>0</td></tr>\n",
       "\t<tr><td>24</td><td>Feminino </td><td>36</td><td>Sao_Paulo     </td><td>iOS    </td><td>0</td></tr>\n",
       "\t<tr><td>25</td><td>Masculino</td><td>39</td><td>Sao_Paulo     </td><td>Android</td><td>0</td></tr>\n",
       "\t<tr><td>26</td><td>Masculino</td><td>35</td><td>Belo_Horizonte</td><td>iOS    </td><td>0</td></tr>\n",
       "\t<tr><td>27</td><td>Feminino </td><td>61</td><td>Sao_Paulo     </td><td>Android</td><td>0</td></tr>\n",
       "\t<tr><td>28</td><td>Masculino</td><td>35</td><td>Sao_Paulo     </td><td>Android</td><td>0</td></tr>\n",
       "\t<tr><td>29</td><td>Feminino </td><td>39</td><td>Sao_Paulo     </td><td>iOS    </td><td>0</td></tr>\n",
       "\t<tr><td>30</td><td>Feminino </td><td>52</td><td>Rio_Janeiro   </td><td>iOS    </td><td>0</td></tr>\n",
       "\t<tr><td>⋮</td><td>⋮</td><td>⋮</td><td>⋮</td><td>⋮</td><td>⋮</td></tr>\n",
       "\t<tr><td>12611</td><td>Feminino </td><td>39</td><td>Curitiba      </td><td>Android</td><td>1</td></tr>\n",
       "\t<tr><td>12612</td><td>Feminino </td><td>37</td><td>Rio_Janeiro   </td><td>iOS    </td><td>0</td></tr>\n",
       "\t<tr><td>12613</td><td>Feminino </td><td>45</td><td>Sao_Paulo     </td><td>Android</td><td>0</td></tr>\n",
       "\t<tr><td>12614</td><td>Feminino </td><td>43</td><td>Sao_Paulo     </td><td>Outros </td><td>0</td></tr>\n",
       "\t<tr><td>12615</td><td>Masculino</td><td>36</td><td>Sao_Paulo     </td><td>iOS    </td><td>0</td></tr>\n",
       "\t<tr><td>12616</td><td>Masculino</td><td>42</td><td>Sao_Paulo     </td><td>iOS    </td><td>0</td></tr>\n",
       "\t<tr><td>12617</td><td>Feminino </td><td>47</td><td>Sao_Paulo     </td><td>Android</td><td>0</td></tr>\n",
       "\t<tr><td>12618</td><td>Feminino </td><td>46</td><td>Sao_Paulo     </td><td>iOS    </td><td>0</td></tr>\n",
       "\t<tr><td>12619</td><td>Feminino </td><td>39</td><td>Rio_Janeiro   </td><td>Outros </td><td>1</td></tr>\n",
       "\t<tr><td>12620</td><td>Feminino </td><td>35</td><td>Curitiba      </td><td>Android</td><td>0</td></tr>\n",
       "\t<tr><td>12621</td><td>Masculino</td><td>41</td><td>Curitiba      </td><td>Android</td><td>0</td></tr>\n",
       "\t<tr><td>12622</td><td>Feminino </td><td>32</td><td>Rio_Janeiro   </td><td>iOS    </td><td>0</td></tr>\n",
       "\t<tr><td>12623</td><td>Feminino </td><td>39</td><td>Sao_Paulo     </td><td>iOS    </td><td>0</td></tr>\n",
       "\t<tr><td>12624</td><td>Feminino </td><td>32</td><td>Sao_Paulo     </td><td>iOS    </td><td>0</td></tr>\n",
       "\t<tr><td>12625</td><td>Masculino</td><td>40</td><td>Sao_Paulo     </td><td>Android</td><td>0</td></tr>\n",
       "\t<tr><td>12626</td><td>Feminino </td><td>38</td><td>Rio_Janeiro   </td><td>Android</td><td>0</td></tr>\n",
       "\t<tr><td>12627</td><td>Feminino </td><td>42</td><td>Sao_Paulo     </td><td>iOS    </td><td>0</td></tr>\n",
       "\t<tr><td>12628</td><td>Feminino </td><td>42</td><td>Sao_Paulo     </td><td>iOS    </td><td>0</td></tr>\n",
       "\t<tr><td>12629</td><td>Feminino </td><td>44</td><td>Sao_Paulo     </td><td>iOS    </td><td>0</td></tr>\n",
       "\t<tr><td>12630</td><td>Feminino </td><td>44</td><td>Rio_Janeiro   </td><td>iOS    </td><td>0</td></tr>\n",
       "\t<tr><td>12631</td><td>Feminino </td><td>34</td><td>Sao_Paulo     </td><td>iOS    </td><td>0</td></tr>\n",
       "\t<tr><td>12632</td><td>Feminino </td><td>35</td><td>Sao_Paulo     </td><td>Android</td><td>0</td></tr>\n",
       "\t<tr><td>12633</td><td>Feminino </td><td>46</td><td>Curitiba      </td><td>Android</td><td>0</td></tr>\n",
       "\t<tr><td>12634</td><td>Feminino </td><td>27</td><td>Rio_Janeiro   </td><td>Android</td><td>0</td></tr>\n",
       "\t<tr><td>12635</td><td>Feminino </td><td>29</td><td>Sao_Paulo     </td><td>iOS    </td><td>0</td></tr>\n",
       "\t<tr><td>12636</td><td>Feminino </td><td>33</td><td>Sao_Paulo     </td><td>Android</td><td>0</td></tr>\n",
       "\t<tr><td>12637</td><td>Feminino </td><td>34</td><td>Sao_Paulo     </td><td>iOS    </td><td>0</td></tr>\n",
       "\t<tr><td>12638</td><td>Feminino </td><td>37</td><td>Rio_Janeiro   </td><td>Outros </td><td>0</td></tr>\n",
       "\t<tr><td>12639</td><td>Feminino </td><td>37</td><td>Sao_Paulo     </td><td>Android</td><td>0</td></tr>\n",
       "\t<tr><td>12640</td><td>Feminino </td><td>42</td><td>Belo_Horizonte</td><td>iOS    </td><td>0</td></tr>\n",
       "</tbody>\n",
       "</table>\n"
      ],
      "text/latex": [
       "A data.frame: 12640 × 6\n",
       "\\begin{tabular}{llllll}\n",
       " ID\\_Cliente & Genero & Idade & Cidade & Sistema\\_Operac & Utilizou\\_Cupom\\\\\n",
       " <int> & <chr> & <int> & <chr> & <chr> & <int>\\\\\n",
       "\\hline\n",
       "\t  1 & Feminino  & 35 & Sao\\_Paulo      & iOS     & 0\\\\\n",
       "\t  2 & Feminino  & 35 & Sao\\_Paulo      & Android & 0\\\\\n",
       "\t  3 & Feminino  & 38 & Sao\\_Paulo      & Android & 0\\\\\n",
       "\t  4 & Feminino  & 41 & Sao\\_Paulo      & Outros  & 0\\\\\n",
       "\t  5 & Masculino & 46 & Sao\\_Paulo      & Android & 0\\\\\n",
       "\t  6 & Masculino & 42 & Sao\\_Paulo      & iOS     & 0\\\\\n",
       "\t  7 & Feminino  & 38 & Rio\\_Janeiro    & Android & 0\\\\\n",
       "\t  8 & Feminino  & 39 & Sao\\_Paulo      & iOS     & 1\\\\\n",
       "\t  9 & Feminino  & 42 & Rio\\_Janeiro    & Android & 0\\\\\n",
       "\t 10 & Feminino  & 36 & Rio\\_Janeiro    & Android & 0\\\\\n",
       "\t 11 & Feminino  & 44 & Sao\\_Paulo      & iOS     & 0\\\\\n",
       "\t 12 & Masculino & 36 & Sao\\_Paulo      & Android & 0\\\\\n",
       "\t 13 & Masculino & 41 & Rio\\_Janeiro    & iOS     & 0\\\\\n",
       "\t 14 & Feminino  & 41 & Belo\\_Horizonte & iOS     & 0\\\\\n",
       "\t 15 & Masculino & 40 & Sao\\_Paulo      & iOS     & 0\\\\\n",
       "\t 16 & Masculino & 43 & Rio\\_Janeiro    & Android & 0\\\\\n",
       "\t 17 & Feminino  & 29 & Sao\\_Paulo      & iOS     & 0\\\\\n",
       "\t 18 & Feminino  & 36 & Rio\\_Janeiro    & iOS     & 0\\\\\n",
       "\t 19 & Feminino  & 41 & Sao\\_Paulo      & Outros  & 0\\\\\n",
       "\t 20 & Feminino  & 37 & Sao\\_Paulo      & iOS     & 0\\\\\n",
       "\t 21 & Feminino  & 51 & Sao\\_Paulo      & Android & 0\\\\\n",
       "\t 22 & Masculino & 43 & Rio\\_Janeiro    & iOS     & 0\\\\\n",
       "\t 23 & Feminino  & 49 & Rio\\_Janeiro    & Android & 0\\\\\n",
       "\t 24 & Feminino  & 36 & Sao\\_Paulo      & iOS     & 0\\\\\n",
       "\t 25 & Masculino & 39 & Sao\\_Paulo      & Android & 0\\\\\n",
       "\t 26 & Masculino & 35 & Belo\\_Horizonte & iOS     & 0\\\\\n",
       "\t 27 & Feminino  & 61 & Sao\\_Paulo      & Android & 0\\\\\n",
       "\t 28 & Masculino & 35 & Sao\\_Paulo      & Android & 0\\\\\n",
       "\t 29 & Feminino  & 39 & Sao\\_Paulo      & iOS     & 0\\\\\n",
       "\t 30 & Feminino  & 52 & Rio\\_Janeiro    & iOS     & 0\\\\\n",
       "\t ⋮ & ⋮ & ⋮ & ⋮ & ⋮ & ⋮\\\\\n",
       "\t 12611 & Feminino  & 39 & Curitiba       & Android & 1\\\\\n",
       "\t 12612 & Feminino  & 37 & Rio\\_Janeiro    & iOS     & 0\\\\\n",
       "\t 12613 & Feminino  & 45 & Sao\\_Paulo      & Android & 0\\\\\n",
       "\t 12614 & Feminino  & 43 & Sao\\_Paulo      & Outros  & 0\\\\\n",
       "\t 12615 & Masculino & 36 & Sao\\_Paulo      & iOS     & 0\\\\\n",
       "\t 12616 & Masculino & 42 & Sao\\_Paulo      & iOS     & 0\\\\\n",
       "\t 12617 & Feminino  & 47 & Sao\\_Paulo      & Android & 0\\\\\n",
       "\t 12618 & Feminino  & 46 & Sao\\_Paulo      & iOS     & 0\\\\\n",
       "\t 12619 & Feminino  & 39 & Rio\\_Janeiro    & Outros  & 1\\\\\n",
       "\t 12620 & Feminino  & 35 & Curitiba       & Android & 0\\\\\n",
       "\t 12621 & Masculino & 41 & Curitiba       & Android & 0\\\\\n",
       "\t 12622 & Feminino  & 32 & Rio\\_Janeiro    & iOS     & 0\\\\\n",
       "\t 12623 & Feminino  & 39 & Sao\\_Paulo      & iOS     & 0\\\\\n",
       "\t 12624 & Feminino  & 32 & Sao\\_Paulo      & iOS     & 0\\\\\n",
       "\t 12625 & Masculino & 40 & Sao\\_Paulo      & Android & 0\\\\\n",
       "\t 12626 & Feminino  & 38 & Rio\\_Janeiro    & Android & 0\\\\\n",
       "\t 12627 & Feminino  & 42 & Sao\\_Paulo      & iOS     & 0\\\\\n",
       "\t 12628 & Feminino  & 42 & Sao\\_Paulo      & iOS     & 0\\\\\n",
       "\t 12629 & Feminino  & 44 & Sao\\_Paulo      & iOS     & 0\\\\\n",
       "\t 12630 & Feminino  & 44 & Rio\\_Janeiro    & iOS     & 0\\\\\n",
       "\t 12631 & Feminino  & 34 & Sao\\_Paulo      & iOS     & 0\\\\\n",
       "\t 12632 & Feminino  & 35 & Sao\\_Paulo      & Android & 0\\\\\n",
       "\t 12633 & Feminino  & 46 & Curitiba       & Android & 0\\\\\n",
       "\t 12634 & Feminino  & 27 & Rio\\_Janeiro    & Android & 0\\\\\n",
       "\t 12635 & Feminino  & 29 & Sao\\_Paulo      & iOS     & 0\\\\\n",
       "\t 12636 & Feminino  & 33 & Sao\\_Paulo      & Android & 0\\\\\n",
       "\t 12637 & Feminino  & 34 & Sao\\_Paulo      & iOS     & 0\\\\\n",
       "\t 12638 & Feminino  & 37 & Rio\\_Janeiro    & Outros  & 0\\\\\n",
       "\t 12639 & Feminino  & 37 & Sao\\_Paulo      & Android & 0\\\\\n",
       "\t 12640 & Feminino  & 42 & Belo\\_Horizonte & iOS     & 0\\\\\n",
       "\\end{tabular}\n"
      ],
      "text/markdown": [
       "\n",
       "A data.frame: 12640 × 6\n",
       "\n",
       "| ID_Cliente &lt;int&gt; | Genero &lt;chr&gt; | Idade &lt;int&gt; | Cidade &lt;chr&gt; | Sistema_Operac &lt;chr&gt; | Utilizou_Cupom &lt;int&gt; |\n",
       "|---|---|---|---|---|---|\n",
       "|  1 | Feminino  | 35 | Sao_Paulo      | iOS     | 0 |\n",
       "|  2 | Feminino  | 35 | Sao_Paulo      | Android | 0 |\n",
       "|  3 | Feminino  | 38 | Sao_Paulo      | Android | 0 |\n",
       "|  4 | Feminino  | 41 | Sao_Paulo      | Outros  | 0 |\n",
       "|  5 | Masculino | 46 | Sao_Paulo      | Android | 0 |\n",
       "|  6 | Masculino | 42 | Sao_Paulo      | iOS     | 0 |\n",
       "|  7 | Feminino  | 38 | Rio_Janeiro    | Android | 0 |\n",
       "|  8 | Feminino  | 39 | Sao_Paulo      | iOS     | 1 |\n",
       "|  9 | Feminino  | 42 | Rio_Janeiro    | Android | 0 |\n",
       "| 10 | Feminino  | 36 | Rio_Janeiro    | Android | 0 |\n",
       "| 11 | Feminino  | 44 | Sao_Paulo      | iOS     | 0 |\n",
       "| 12 | Masculino | 36 | Sao_Paulo      | Android | 0 |\n",
       "| 13 | Masculino | 41 | Rio_Janeiro    | iOS     | 0 |\n",
       "| 14 | Feminino  | 41 | Belo_Horizonte | iOS     | 0 |\n",
       "| 15 | Masculino | 40 | Sao_Paulo      | iOS     | 0 |\n",
       "| 16 | Masculino | 43 | Rio_Janeiro    | Android | 0 |\n",
       "| 17 | Feminino  | 29 | Sao_Paulo      | iOS     | 0 |\n",
       "| 18 | Feminino  | 36 | Rio_Janeiro    | iOS     | 0 |\n",
       "| 19 | Feminino  | 41 | Sao_Paulo      | Outros  | 0 |\n",
       "| 20 | Feminino  | 37 | Sao_Paulo      | iOS     | 0 |\n",
       "| 21 | Feminino  | 51 | Sao_Paulo      | Android | 0 |\n",
       "| 22 | Masculino | 43 | Rio_Janeiro    | iOS     | 0 |\n",
       "| 23 | Feminino  | 49 | Rio_Janeiro    | Android | 0 |\n",
       "| 24 | Feminino  | 36 | Sao_Paulo      | iOS     | 0 |\n",
       "| 25 | Masculino | 39 | Sao_Paulo      | Android | 0 |\n",
       "| 26 | Masculino | 35 | Belo_Horizonte | iOS     | 0 |\n",
       "| 27 | Feminino  | 61 | Sao_Paulo      | Android | 0 |\n",
       "| 28 | Masculino | 35 | Sao_Paulo      | Android | 0 |\n",
       "| 29 | Feminino  | 39 | Sao_Paulo      | iOS     | 0 |\n",
       "| 30 | Feminino  | 52 | Rio_Janeiro    | iOS     | 0 |\n",
       "| ⋮ | ⋮ | ⋮ | ⋮ | ⋮ | ⋮ |\n",
       "| 12611 | Feminino  | 39 | Curitiba       | Android | 1 |\n",
       "| 12612 | Feminino  | 37 | Rio_Janeiro    | iOS     | 0 |\n",
       "| 12613 | Feminino  | 45 | Sao_Paulo      | Android | 0 |\n",
       "| 12614 | Feminino  | 43 | Sao_Paulo      | Outros  | 0 |\n",
       "| 12615 | Masculino | 36 | Sao_Paulo      | iOS     | 0 |\n",
       "| 12616 | Masculino | 42 | Sao_Paulo      | iOS     | 0 |\n",
       "| 12617 | Feminino  | 47 | Sao_Paulo      | Android | 0 |\n",
       "| 12618 | Feminino  | 46 | Sao_Paulo      | iOS     | 0 |\n",
       "| 12619 | Feminino  | 39 | Rio_Janeiro    | Outros  | 1 |\n",
       "| 12620 | Feminino  | 35 | Curitiba       | Android | 0 |\n",
       "| 12621 | Masculino | 41 | Curitiba       | Android | 0 |\n",
       "| 12622 | Feminino  | 32 | Rio_Janeiro    | iOS     | 0 |\n",
       "| 12623 | Feminino  | 39 | Sao_Paulo      | iOS     | 0 |\n",
       "| 12624 | Feminino  | 32 | Sao_Paulo      | iOS     | 0 |\n",
       "| 12625 | Masculino | 40 | Sao_Paulo      | Android | 0 |\n",
       "| 12626 | Feminino  | 38 | Rio_Janeiro    | Android | 0 |\n",
       "| 12627 | Feminino  | 42 | Sao_Paulo      | iOS     | 0 |\n",
       "| 12628 | Feminino  | 42 | Sao_Paulo      | iOS     | 0 |\n",
       "| 12629 | Feminino  | 44 | Sao_Paulo      | iOS     | 0 |\n",
       "| 12630 | Feminino  | 44 | Rio_Janeiro    | iOS     | 0 |\n",
       "| 12631 | Feminino  | 34 | Sao_Paulo      | iOS     | 0 |\n",
       "| 12632 | Feminino  | 35 | Sao_Paulo      | Android | 0 |\n",
       "| 12633 | Feminino  | 46 | Curitiba       | Android | 0 |\n",
       "| 12634 | Feminino  | 27 | Rio_Janeiro    | Android | 0 |\n",
       "| 12635 | Feminino  | 29 | Sao_Paulo      | iOS     | 0 |\n",
       "| 12636 | Feminino  | 33 | Sao_Paulo      | Android | 0 |\n",
       "| 12637 | Feminino  | 34 | Sao_Paulo      | iOS     | 0 |\n",
       "| 12638 | Feminino  | 37 | Rio_Janeiro    | Outros  | 0 |\n",
       "| 12639 | Feminino  | 37 | Sao_Paulo      | Android | 0 |\n",
       "| 12640 | Feminino  | 42 | Belo_Horizonte | iOS     | 0 |\n",
       "\n"
      ],
      "text/plain": [
       "      ID_Cliente Genero    Idade Cidade         Sistema_Operac Utilizou_Cupom\n",
       "1      1         Feminino  35    Sao_Paulo      iOS            0             \n",
       "2      2         Feminino  35    Sao_Paulo      Android        0             \n",
       "3      3         Feminino  38    Sao_Paulo      Android        0             \n",
       "4      4         Feminino  41    Sao_Paulo      Outros         0             \n",
       "5      5         Masculino 46    Sao_Paulo      Android        0             \n",
       "6      6         Masculino 42    Sao_Paulo      iOS            0             \n",
       "7      7         Feminino  38    Rio_Janeiro    Android        0             \n",
       "8      8         Feminino  39    Sao_Paulo      iOS            1             \n",
       "9      9         Feminino  42    Rio_Janeiro    Android        0             \n",
       "10    10         Feminino  36    Rio_Janeiro    Android        0             \n",
       "11    11         Feminino  44    Sao_Paulo      iOS            0             \n",
       "12    12         Masculino 36    Sao_Paulo      Android        0             \n",
       "13    13         Masculino 41    Rio_Janeiro    iOS            0             \n",
       "14    14         Feminino  41    Belo_Horizonte iOS            0             \n",
       "15    15         Masculino 40    Sao_Paulo      iOS            0             \n",
       "16    16         Masculino 43    Rio_Janeiro    Android        0             \n",
       "17    17         Feminino  29    Sao_Paulo      iOS            0             \n",
       "18    18         Feminino  36    Rio_Janeiro    iOS            0             \n",
       "19    19         Feminino  41    Sao_Paulo      Outros         0             \n",
       "20    20         Feminino  37    Sao_Paulo      iOS            0             \n",
       "21    21         Feminino  51    Sao_Paulo      Android        0             \n",
       "22    22         Masculino 43    Rio_Janeiro    iOS            0             \n",
       "23    23         Feminino  49    Rio_Janeiro    Android        0             \n",
       "24    24         Feminino  36    Sao_Paulo      iOS            0             \n",
       "25    25         Masculino 39    Sao_Paulo      Android        0             \n",
       "26    26         Masculino 35    Belo_Horizonte iOS            0             \n",
       "27    27         Feminino  61    Sao_Paulo      Android        0             \n",
       "28    28         Masculino 35    Sao_Paulo      Android        0             \n",
       "29    29         Feminino  39    Sao_Paulo      iOS            0             \n",
       "30    30         Feminino  52    Rio_Janeiro    iOS            0             \n",
       "⋮     ⋮          ⋮         ⋮     ⋮              ⋮              ⋮             \n",
       "12611 12611      Feminino  39    Curitiba       Android        1             \n",
       "12612 12612      Feminino  37    Rio_Janeiro    iOS            0             \n",
       "12613 12613      Feminino  45    Sao_Paulo      Android        0             \n",
       "12614 12614      Feminino  43    Sao_Paulo      Outros         0             \n",
       "12615 12615      Masculino 36    Sao_Paulo      iOS            0             \n",
       "12616 12616      Masculino 42    Sao_Paulo      iOS            0             \n",
       "12617 12617      Feminino  47    Sao_Paulo      Android        0             \n",
       "12618 12618      Feminino  46    Sao_Paulo      iOS            0             \n",
       "12619 12619      Feminino  39    Rio_Janeiro    Outros         1             \n",
       "12620 12620      Feminino  35    Curitiba       Android        0             \n",
       "12621 12621      Masculino 41    Curitiba       Android        0             \n",
       "12622 12622      Feminino  32    Rio_Janeiro    iOS            0             \n",
       "12623 12623      Feminino  39    Sao_Paulo      iOS            0             \n",
       "12624 12624      Feminino  32    Sao_Paulo      iOS            0             \n",
       "12625 12625      Masculino 40    Sao_Paulo      Android        0             \n",
       "12626 12626      Feminino  38    Rio_Janeiro    Android        0             \n",
       "12627 12627      Feminino  42    Sao_Paulo      iOS            0             \n",
       "12628 12628      Feminino  42    Sao_Paulo      iOS            0             \n",
       "12629 12629      Feminino  44    Sao_Paulo      iOS            0             \n",
       "12630 12630      Feminino  44    Rio_Janeiro    iOS            0             \n",
       "12631 12631      Feminino  34    Sao_Paulo      iOS            0             \n",
       "12632 12632      Feminino  35    Sao_Paulo      Android        0             \n",
       "12633 12633      Feminino  46    Curitiba       Android        0             \n",
       "12634 12634      Feminino  27    Rio_Janeiro    Android        0             \n",
       "12635 12635      Feminino  29    Sao_Paulo      iOS            0             \n",
       "12636 12636      Feminino  33    Sao_Paulo      Android        0             \n",
       "12637 12637      Feminino  34    Sao_Paulo      iOS            0             \n",
       "12638 12638      Feminino  37    Rio_Janeiro    Outros         0             \n",
       "12639 12639      Feminino  37    Sao_Paulo      Android        0             \n",
       "12640 12640      Feminino  42    Belo_Horizonte iOS            0             "
      ]
     },
     "metadata": {},
     "output_type": "display_data"
    }
   ],
   "source": [
    "View(dados_perfume)"
   ]
  },
  {
   "cell_type": "markdown",
   "metadata": {
    "id": "PYTvweDFJimD"
   },
   "source": [
    "### Análise exploratória breve"
   ]
  },
  {
   "cell_type": "code",
   "execution_count": 4,
   "metadata": {
    "id": "TD_M_1CzO0L8"
   },
   "outputs": [
    {
     "data": {
      "text/plain": [
       "   Min. 1st Qu.  Median    Mean 3rd Qu.    Max. \n",
       "  18.00   35.00   38.00   38.28   42.00   66.00 "
      ]
     },
     "metadata": {},
     "output_type": "display_data"
    }
   ],
   "source": [
    "# Medidas resumo: idade\n",
    "summary(dados_perfume$Idade)"
   ]
  },
  {
   "cell_type": "code",
   "execution_count": 5,
   "metadata": {
    "id": "xJ7mGpUpO_7M"
   },
   "outputs": [
    {
     "data": {
      "text/plain": [
       "\n",
       " Feminino Masculino \n",
       "     9153      3487 "
      ]
     },
     "metadata": {},
     "output_type": "display_data"
    },
    {
     "data": {
      "text/plain": [
       "\n",
       " Feminino Masculino \n",
       "0.7241297 0.2758703 "
      ]
     },
     "metadata": {},
     "output_type": "display_data"
    }
   ],
   "source": [
    "# Tabela de frequências: gênero\n",
    "table(dados_perfume$Genero)\n",
    "prop.table(table(dados_perfume$Genero))"
   ]
  },
  {
   "cell_type": "code",
   "execution_count": 6,
   "metadata": {
    "id": "7Zci06gGPACI"
   },
   "outputs": [
    {
     "data": {
      "text/plain": [
       "\n",
       "Belo_Horizonte       Curitiba    Rio_Janeiro      Sao_Paulo \n",
       "           985            672           4023           6960 "
      ]
     },
     "metadata": {},
     "output_type": "display_data"
    },
    {
     "data": {
      "text/plain": [
       "\n",
       "Belo_Horizonte       Curitiba    Rio_Janeiro      Sao_Paulo \n",
       "    0.07792722     0.05316456     0.31827532     0.55063291 "
      ]
     },
     "metadata": {},
     "output_type": "display_data"
    }
   ],
   "source": [
    "# Tabela de frequências: cidade\n",
    "table(dados_perfume$Cidade)\n",
    "prop.table(table(dados_perfume$Cidade))"
   ]
  },
  {
   "cell_type": "code",
   "execution_count": 7,
   "metadata": {
    "id": "qcrhoBJ3PAKH"
   },
   "outputs": [
    {
     "data": {
      "text/plain": [
       "\n",
       "Android  Outros     iOS \n",
       "   6395    1195    5050 "
      ]
     },
     "metadata": {},
     "output_type": "display_data"
    },
    {
     "data": {
      "text/plain": [
       "\n",
       "   Android     Outros        iOS \n",
       "0.50593354 0.09454114 0.39952532 "
      ]
     },
     "metadata": {},
     "output_type": "display_data"
    }
   ],
   "source": [
    "# Tabela de frequências: sistema operacional\n",
    "table(dados_perfume$Sistema_Operac)\n",
    "prop.table(table(dados_perfume$Sistema_Operac))"
   ]
  },
  {
   "cell_type": "code",
   "execution_count": 8,
   "metadata": {
    "id": "2a1Vxq36PJCQ"
   },
   "outputs": [
    {
     "data": {
      "text/plain": [
       "\n",
       "    0     1 \n",
       "11980   660 "
      ]
     },
     "metadata": {},
     "output_type": "display_data"
    },
    {
     "data": {
      "text/plain": [
       "\n",
       "         0          1 \n",
       "0.94778481 0.05221519 "
      ]
     },
     "metadata": {},
     "output_type": "display_data"
    }
   ],
   "source": [
    "# Tabela de frequências: utilização do cupom\n",
    "table(dados_perfume$Utilizou_Cupom)\n",
    "prop.table(table(dados_perfume$Utilizou_Cupom))"
   ]
  },
  {
   "cell_type": "markdown",
   "metadata": {
    "id": "hvZQdAvYJn80"
   },
   "source": [
    "### Análise bivariada: variáveis resposta vs. variáveis explicativas"
   ]
  },
  {
   "cell_type": "code",
   "execution_count": 9,
   "metadata": {
    "id": "YugAaIaWxki8"
   },
   "outputs": [
    {
     "data": {
      "image/png": "[encoded data removed]",
      "text/plain": [
       "Plot with title “Idade vs. Utilização do Cupom”"
      ]
     },
     "metadata": {
      "image/png": {
       "height": 420,
       "width": 420
      }
     },
     "output_type": "display_data"
    }
   ],
   "source": [
    "# Gráfico de boxplots: idade versus resposta\n",
    "boxplot(Idade ~ Utilizou_Cupom, data = dados_perfume, col = \"darkturquoise\", main = \"Idade vs. Utilização do Cupom\")"
   ]
  },
  {
   "cell_type": "code",
   "execution_count": 10,
   "metadata": {
    "id": "M6Pat478PQGL"
   },
   "outputs": [
    {
     "data": {
      "text/plain": [
       "           \n",
       "               0    1\n",
       "  Feminino  8571  582\n",
       "  Masculino 3409   78"
      ]
     },
     "metadata": {},
     "output_type": "display_data"
    },
    {
     "data": {
      "text/plain": [
       "           \n",
       "                     0          1\n",
       "  Feminino  0.93641429 0.06358571\n",
       "  Masculino 0.97763120 0.02236880"
      ]
     },
     "metadata": {},
     "output_type": "display_data"
    }
   ],
   "source": [
    "# Tabela de frequências: gênero versus resposta (somando 100% nas linhas)\n",
    "table(dados_perfume$Genero, dados_perfume$Utilizou_Cupom)\n",
    "prop.table(table(dados_perfume$Genero, dados_perfume$Utilizou_Cupom), 1)"
   ]
  },
  {
   "cell_type": "code",
   "execution_count": 14,
   "metadata": {
    "id": "jA2nn-WhxiOD"
   },
   "outputs": [
    {
     "data": {
      "text/plain": [
       "                \n",
       "                    0    1\n",
       "  Belo_Horizonte  895   90\n",
       "  Curitiba        618   54\n",
       "  Rio_Janeiro    3772  251\n",
       "  Sao_Paulo      6695  265"
      ]
     },
     "metadata": {},
     "output_type": "display_data"
    },
    {
     "data": {
      "text/plain": [
       "                \n",
       "                          0          1\n",
       "  Belo_Horizonte 0.90862944 0.09137056\n",
       "  Curitiba       0.91964286 0.08035714\n",
       "  Rio_Janeiro    0.93760875 0.06239125\n",
       "  Sao_Paulo      0.96192529 0.03807471"
      ]
     },
     "metadata": {},
     "output_type": "display_data"
    }
   ],
   "source": [
    "# Tabela de frequências: cidade versus resposta (somando 100% nas linhas)\n",
    "table(dados_perfume$Cidade, dados_perfume$Utilizou_Cupom)\n",
    "prop.table(table(dados_perfume$Cidade, dados_perfume$Utilizou_Cupom), 1)"
   ]
  },
  {
   "cell_type": "code",
   "execution_count": 15,
   "metadata": {
    "id": "ZcFnzvMRPndi"
   },
   "outputs": [
    {
     "data": {
      "text/plain": [
       "         \n",
       "             0    1\n",
       "  Android 6073  322\n",
       "  iOS     4789  261\n",
       "  Outros  1118   77"
      ]
     },
     "metadata": {},
     "output_type": "display_data"
    },
    {
     "data": {
      "text/plain": [
       "         \n",
       "                   0          1\n",
       "  Android 0.94964816 0.05035184\n",
       "  iOS     0.94831683 0.05168317\n",
       "  Outros  0.93556485 0.06443515"
      ]
     },
     "metadata": {},
     "output_type": "display_data"
    }
   ],
   "source": [
    "# Tabela de frequências: sistema operacional versus resposta (somando 100% nas linhas)\n",
    "table(dados_perfume$Sistema_Operac, dados_perfume$Utilizou_Cupom)\n",
    "prop.table(table(dados_perfume$Sistema_Operac, dados_perfume$Utilizou_Cupom), 1)"
   ]
  },
  {
   "cell_type": "markdown",
   "metadata": {
    "id": "usjTOesQJpQI"
   },
   "source": [
    "### Modelo de regressão logística múltipla"
   ]
  },
  {
   "cell_type": "code",
   "execution_count": 16,
   "metadata": {
    "id": "SRr0HokUyf6E"
   },
   "outputs": [],
   "source": [
    "# Comando auxiliar para para omitir notação científica nos p-valores e controlar largura dos outputs na tela do Colab\n",
    "options(scipen = 999, width = 200)"
   ]
  },
  {
   "cell_type": "code",
   "execution_count": 17,
   "metadata": {
    "id": "jzOA-NoBPTuv"
   },
   "outputs": [
    {
     "data": {
      "text/plain": [
       "\n",
       "Call:\n",
       "glm(formula = Utilizou_Cupom ~ Genero + Idade + Cidade + Sistema_Operac, \n",
       "    family = binomial(link = \"logit\"), data = dados_perfume)\n",
       "\n",
       "Deviance Residuals: \n",
       "    Min       1Q   Median       3Q      Max  \n",
       "-1.1241  -0.3637  -0.2814  -0.2007   3.2582  \n",
       "\n",
       "Coefficients:\n",
       "                      Estimate Std. Error z value             Pr(>|z|)    \n",
       "(Intercept)          -5.588703   0.289323 -19.316 < 0.0000000000000002 ***\n",
       "GeneroMasculino      -1.127865   0.123387  -9.141 < 0.0000000000000002 ***\n",
       "Idade                 0.087793   0.006238  14.074 < 0.0000000000000002 ***\n",
       "CidadeCuritiba       -0.068981   0.197877  -0.349              0.72739    \n",
       "CidadeRio_Janeiro    -0.431917   0.134592  -3.209              0.00133 ** \n",
       "CidadeSao_Paulo      -0.956902   0.132815  -7.205    0.000000000000581 ***\n",
       "Sistema_OperaciOS     0.005315   0.092899   0.057              0.95438    \n",
       "Sistema_OperacOutros  0.232414   0.137429   1.691              0.09081 .  \n",
       "---\n",
       "Signif. codes:  0 ‘***’ 0.001 ‘**’ 0.01 ‘*’ 0.05 ‘.’ 0.1 ‘ ’ 1\n",
       "\n",
       "(Dispersion parameter for binomial family taken to be 1)\n",
       "\n",
       "    Null deviance: 5182.1  on 12639  degrees of freedom\n",
       "Residual deviance: 4804.3  on 12632  degrees of freedom\n",
       "AIC: 4820.3\n",
       "\n",
       "Number of Fisher Scoring iterations: 6\n"
      ]
     },
     "metadata": {},
     "output_type": "display_data"
    }
   ],
   "source": [
    "# Ajuste do modelo 1: inicial\n",
    "regressao_1 <- glm(Utilizou_Cupom ~\n",
    "                     Genero +\n",
    "                     Idade +\n",
    "                     Cidade +\n",
    "                     Sistema_Operac,\n",
    "                   family = binomial(link = 'logit'),\n",
    "                   data = dados_perfume)\n",
    "\n",
    "summary(regressao_1)"
   ]
  },
  {
   "cell_type": "code",
   "execution_count": 18,
   "metadata": {
    "id": "_chXPFxunWD9"
   },
   "outputs": [
    {
     "data": {
      "text/plain": [
       "\n",
       "Call:\n",
       "glm(formula = Utilizou_Cupom ~ Genero + Idade + Cidade, family = binomial(link = \"logit\"), \n",
       "    data = dados_perfume)\n",
       "\n",
       "Deviance Residuals: \n",
       "    Min       1Q   Median       3Q      Max  \n",
       "-1.1229  -0.3682  -0.2843  -0.2027   3.2502  \n",
       "\n",
       "Coefficients:\n",
       "                   Estimate Std. Error z value             Pr(>|z|)    \n",
       "(Intercept)       -5.538180   0.280799 -19.723 < 0.0000000000000002 ***\n",
       "GeneroMasculino   -1.130207   0.123361  -9.162 < 0.0000000000000002 ***\n",
       "Idade              0.087654   0.006232  14.065 < 0.0000000000000002 ***\n",
       "CidadeCuritiba    -0.113573   0.184014  -0.617              0.53710    \n",
       "CidadeRio_Janeiro -0.449736   0.131397  -3.423              0.00062 ***\n",
       "CidadeSao_Paulo   -0.975022   0.129970  -7.502   0.0000000000000629 ***\n",
       "---\n",
       "Signif. codes:  0 ‘***’ 0.001 ‘**’ 0.01 ‘*’ 0.05 ‘.’ 0.1 ‘ ’ 1\n",
       "\n",
       "(Dispersion parameter for binomial family taken to be 1)\n",
       "\n",
       "    Null deviance: 5182.1  on 12639  degrees of freedom\n",
       "Residual deviance: 4807.3  on 12634  degrees of freedom\n",
       "AIC: 4819.3\n",
       "\n",
       "Number of Fisher Scoring iterations: 6\n"
      ]
     },
     "metadata": {},
     "output_type": "display_data"
    }
   ],
   "source": [
    "# Ajuste do modelo 2: retirando Sistema_Operac\n",
    "regressao_2 <- glm(Utilizou_Cupom ~\n",
    "                     Genero +\n",
    "                     Idade +\n",
    "                     Cidade,\n",
    "                   family = binomial(link = 'logit'),\n",
    "                   data = dados_perfume)\n",
    "\n",
    "summary(regressao_2)"
   ]
  },
  {
   "cell_type": "code",
   "execution_count": 19,
   "metadata": {
    "id": "GmUlRRizqdWP"
   },
   "outputs": [
    {
     "ename": "ERROR",
     "evalue": "Error in vif(regressao_2): could not find function \"vif\"\n",
     "output_type": "error",
     "traceback": [
      "Error in vif(regressao_2): could not find function \"vif\"\nTraceback:\n",
      "1. data.frame(VIF = vif(regressao_2))"
     ]
    }
   ],
   "source": [
    "# Avaliação de colinearidade no modelo 2\n",
    "data.frame(VIF = vif(regressao_2))"
   ]
  },
  {
   "cell_type": "markdown",
   "metadata": {
    "id": "8FPh79Xd8ST1"
   },
   "source": [
    "### Intervalos de confiança"
   ]
  },
  {
   "cell_type": "code",
   "execution_count": 20,
   "metadata": {
    "id": "qVTodUSmz15X"
   },
   "outputs": [],
   "source": [
    "# Escolha do beta (0 para intercepto, ou 1, 2, ... para os parâmetros referentes a cada variável explicativa)\n",
    "beta = 0"
   ]
  },
  {
   "cell_type": "code",
   "execution_count": 21,
   "metadata": {
    "id": "rBg7mDoO70cm"
   },
   "outputs": [
    {
     "name": "stdout",
     "output_type": "stream",
     "text": [
      "[1] \"Limite inferior\"\n"
     ]
    },
    {
     "data": {
      "text/html": [
       "-6.08854546437002"
      ],
      "text/latex": [
       "-6.08854546437002"
      ],
      "text/markdown": [
       "-6.08854546437002"
      ],
      "text/plain": [
       "[1] -6.088545"
      ]
     },
     "metadata": {},
     "output_type": "display_data"
    },
    {
     "name": "stdout",
     "output_type": "stream",
     "text": [
      "[1] \"Limite superior\"\n"
     ]
    },
    {
     "data": {
      "text/html": [
       "-4.98781495430694"
      ],
      "text/latex": [
       "-4.98781495430694"
      ],
      "text/markdown": [
       "-4.98781495430694"
      ],
      "text/plain": [
       "[1] -4.987815"
      ]
     },
     "metadata": {},
     "output_type": "display_data"
    }
   ],
   "source": [
    "# Cálculo do intervalo\n",
    "print(\"Limite inferior\")\n",
    "as.numeric(regressao_2$coefficients[beta + 1] - 1.96 * coef(summary(regressao_2))[beta + 1, \"Std. Error\"])\n",
    "print(\"Limite superior\")\n",
    "as.numeric(regressao_2$coefficients[beta + 1] + 1.96 * coef(summary(regressao_2))[beta + 1, \"Std. Error\"])"
   ]
  },
  {
   "cell_type": "markdown",
   "metadata": {
    "id": "HIigFeGjJwpL"
   },
   "source": [
    "### Aplicação do modelo e definição de resposta predita"
   ]
  },
  {
   "cell_type": "code",
   "execution_count": 22,
   "metadata": {
    "id": "EqfzhugvQ8qj"
   },
   "outputs": [],
   "source": [
    "# Aplicação do modelo na base (criação de uma nova coluna chamada \"probabilidade\")\n",
    "dados_perfume$probabilidade <- predict(regressao_2,\n",
    "                                       dados_perfume,\n",
    "                                       type = \"response\")"
   ]
  },
  {
   "cell_type": "code",
   "execution_count": 23,
   "metadata": {
    "id": "OsmFiZrHRJHw"
   },
   "outputs": [
    {
     "data": {
      "text/html": [
       "0.0522151898734177"
      ],
      "text/latex": [
       "0.0522151898734177"
      ],
      "text/markdown": [
       "0.0522151898734177"
      ],
      "text/plain": [
       "[1] 0.05221519"
      ]
     },
     "metadata": {},
     "output_type": "display_data"
    }
   ],
   "source": [
    "# Definição de ponto de corte (padrão: % de 1's na amostra)\n",
    "ponto_corte <- mean(dados_perfume$Utilizou_Cupom)\n",
    "ponto_corte"
   ]
  },
  {
   "cell_type": "code",
   "execution_count": 24,
   "metadata": {
    "id": "RNC-k-s4RSS4"
   },
   "outputs": [],
   "source": [
    "# Definição da resposta predita pelo modelo (criação de uma nova coluna chamada \"predito\")\n",
    "dados_perfume$predito <- as.factor(ifelse(dados_perfume$probabilidade > ponto_corte, 1, 0))"
   ]
  },
  {
   "cell_type": "markdown",
   "metadata": {
    "id": "l82_95h3JsBP"
   },
   "source": [
    "### Análise de desempenho"
   ]
  },
  {
   "cell_type": "code",
   "execution_count": 25,
   "metadata": {
    "id": "B_tsIjDaPVwI"
   },
   "outputs": [],
   "source": [
    "# Tabela de classificação\n",
    "tabela <- table(dados_perfume$Utilizou_Cupom, dados_perfume$predito)"
   ]
  },
  {
   "cell_type": "code",
   "execution_count": 26,
   "metadata": {
    "id": "XIH_nvQ9RfyC"
   },
   "outputs": [
    {
     "data": {
      "text/html": [
       "0.65126582278481"
      ],
      "text/latex": [
       "0.65126582278481"
      ],
      "text/markdown": [
       "0.65126582278481"
      ],
      "text/plain": [
       "[1] 0.6512658"
      ]
     },
     "metadata": {},
     "output_type": "display_data"
    }
   ],
   "source": [
    "# Acurácia\n",
    "(tabela[1,1] + tabela[2,2]) / sum(tabela)"
   ]
  },
  {
   "cell_type": "code",
   "execution_count": 27,
   "metadata": {
    "id": "izk0HXXIALP4"
   },
   "outputs": [
    {
     "data": {
      "text/html": [
       "0.65025041736227"
      ],
      "text/latex": [
       "0.65025041736227"
      ],
      "text/markdown": [
       "0.65025041736227"
      ],
      "text/plain": [
       "[1] 0.6502504"
      ]
     },
     "metadata": {},
     "output_type": "display_data"
    }
   ],
   "source": [
    "# Especificidade\n",
    "tabela[1,1] / (tabela[1,1] + tabela[1,2])"
   ]
  },
  {
   "cell_type": "code",
   "execution_count": 28,
   "metadata": {
    "id": "X1UCyp2OPW8w"
   },
   "outputs": [
    {
     "data": {
      "text/html": [
       "0.66969696969697"
      ],
      "text/latex": [
       "0.66969696969697"
      ],
      "text/markdown": [
       "0.66969696969697"
      ],
      "text/plain": [
       "[1] 0.669697"
      ]
     },
     "metadata": {},
     "output_type": "display_data"
    }
   ],
   "source": [
    "# Sensibilidade\n",
    "tabela[2,2] / (tabela[2,1] + tabela[2,2])"
   ]
  },
  {
   "cell_type": "code",
   "execution_count": null,
   "metadata": {
    "id": "BVca4OaaUfqZ"
   },
   "outputs": [],
   "source": [
    "# KS\n",
    "pred <- prediction(dados_perfume$probabilidade, dados_perfume$Utilizou_Cupom)\n",
    "perf <- performance(pred, \"tpr\", \"fpr\")\n",
    "ks <- max(attr(perf, 'y.values')[[1]] - attr(perf, 'x.values')[[1]])\n",
    "\n",
    "print(ks)"
   ]
  },
  {
   "cell_type": "code",
   "execution_count": null,
   "metadata": {
    "id": "JsaFkT9yU5v5"
   },
   "outputs": [],
   "source": [
    "# AUC\n",
    "pred <- prediction(dados_perfume$probabilidade, dados_perfume$Utilizou_Cupom)\n",
    "auc <- performance(pred, \"auc\")\n",
    "auc <- auc@y.values[[1]]\n",
    "\n",
    "print(auc)"
   ]
  },
  {
   "cell_type": "markdown",
   "metadata": {
    "id": "jVg-t0b6WD8S"
   },
   "source": [
    "### Exemplo de uso (aplicação) do modelo"
   ]
  },
  {
   "cell_type": "code",
   "execution_count": null,
   "metadata": {
    "id": "lU6Z4u1BWEJq"
   },
   "outputs": [],
   "source": [
    "# Criação de base de dados com um novo cliente, do gênero feminino, com 50 anos de idade e que mora na cidade de São Paulo\n",
    "# Obs.: os nomes das colunas e padrão de conteúdo devem ser idênticos aos da base utilizada para construção do modelo\n",
    "novos_dados <- data.frame(Genero = c(\"Feminino\"),\n",
    "                          Idade  = c(50),\n",
    "                          Cidade = c(\"Sao_Paulo\"))"
   ]
  },
  {
   "cell_type": "code",
   "execution_count": null,
   "metadata": {
    "id": "Xj6tful6W9lv"
   },
   "outputs": [],
   "source": [
    "# Aplicação do modelo\n",
    "novos_dados$PROB_USAR_CUPOM <- predict(regressao_2, novos_dados, type = \"response\")\n",
    "View(novos_dados)"
   ]
  }
 ],
 "metadata": {
  "colab": {
   "provenance": []
  },
  "kernelspec": {
   "display_name": "R",
   "language": "R",
   "name": "ir"
  },
  "language_info": {
   "codemirror_mode": "r",
   "file_extension": ".r",
   "mimetype": "text/x-r-source",
   "name": "R",
   "pygments_lexer": "r",
   "version": "4.4.1"
  }
 },
 "nbformat": 4,
 "nbformat_minor": 4
}

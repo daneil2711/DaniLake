{
 "cells": [
  {
   "cell_type": "markdown",
   "metadata": {
    "id": "L2vudERBJTiT"
   },
   "source": [
    "# **CASE: *TURNOVER* DE FUNCIONÁRIOS**\n",
    "\n",
    "---"
   ]
  },
  {
   "cell_type": "markdown",
   "metadata": {
    "id": "nGD5Csd2q7VV"
   },
   "source": [
    "### Instalação de bibliotecas"
   ]
  },
  {
   "cell_type": "code",
   "execution_count": 1,
   "metadata": {
    "id": "DY4aICW6q8Eb",
    "scrolled": true
   },
   "outputs": [],
   "source": [
    "# # Para cálculo do IV\n",
    "# install.packages(\"Information\")\n",
    "# # Para categorização de variáveis\n",
    "# install.packages(\"gtools\")\n",
    "# # Para cálculo do VIF\n",
    "# install.packages(\"rms\")\n",
    "# # Para cálculo do KS e AUC\n",
    "# install.packages(\"ROCR\")\n",
    "\n",
    "#install.packages(\"tidyverse\")\n",
    "# install.packages(\"Information\")"
   ]
  },
  {
   "cell_type": "markdown",
   "metadata": {
    "id": "99PaLHQgvG4X"
   },
   "source": [
    "### Carregamento de bibliotecas"
   ]
  },
  {
   "cell_type": "code",
   "execution_count": 2,
   "metadata": {
    "id": "ypvOgRlIrJaq"
   },
   "outputs": [
    {
     "name": "stderr",
     "output_type": "stream",
     "text": [
      "── \u001b[1mAttaching core tidyverse packages\u001b[22m ──────────────────────── tidyverse 2.0.0 ──\n",
      "\u001b[32m✔\u001b[39m \u001b[34mdplyr    \u001b[39m 1.1.4     \u001b[32m✔\u001b[39m \u001b[34mreadr    \u001b[39m 2.1.5\n",
      "\u001b[32m✔\u001b[39m \u001b[34mforcats  \u001b[39m 1.0.0     \u001b[32m✔\u001b[39m \u001b[34mstringr  \u001b[39m 1.5.1\n",
      "\u001b[32m✔\u001b[39m \u001b[34mggplot2  \u001b[39m 3.5.1     \u001b[32m✔\u001b[39m \u001b[34mtibble   \u001b[39m 3.2.1\n",
      "\u001b[32m✔\u001b[39m \u001b[34mlubridate\u001b[39m 1.9.3     \u001b[32m✔\u001b[39m \u001b[34mtidyr    \u001b[39m 1.3.1\n",
      "\u001b[32m✔\u001b[39m \u001b[34mpurrr    \u001b[39m 1.0.2     \n",
      "── \u001b[1mConflicts\u001b[22m ────────────────────────────────────────── tidyverse_conflicts() ──\n",
      "\u001b[31m✖\u001b[39m \u001b[34mdplyr\u001b[39m::\u001b[32mfilter()\u001b[39m masks \u001b[34mstats\u001b[39m::filter()\n",
      "\u001b[31m✖\u001b[39m \u001b[34mdplyr\u001b[39m::\u001b[32mlag()\u001b[39m    masks \u001b[34mstats\u001b[39m::lag()\n",
      "\u001b[36mℹ\u001b[39m Use the conflicted package (\u001b[3m\u001b[34m<http://conflicted.r-lib.org/>\u001b[39m\u001b[23m) to force all conflicts to become errors\n",
      "Loading required package: Hmisc\n",
      "\n",
      "\n",
      "Attaching package: ‘Hmisc’\n",
      "\n",
      "\n",
      "The following objects are masked from ‘package:dplyr’:\n",
      "\n",
      "    src, summarize\n",
      "\n",
      "\n",
      "The following objects are masked from ‘package:base’:\n",
      "\n",
      "    format.pval, units\n",
      "\n",
      "\n"
     ]
    }
   ],
   "source": [
    "library(tidyverse) # já pré-instalado, se for em Google Colab\n",
    "library(Information)\n",
    "library(gtools)\n",
    "library(rms)\n",
    "library(ROCR)"
   ]
  },
  {
   "cell_type": "markdown",
   "metadata": {
    "id": "AppXoGlSJa4f"
   },
   "source": [
    "### Leitura das bases de dados"
   ]
  },
  {
   "cell_type": "code",
   "execution_count": 3,
   "metadata": {
    "id": "BKIVxb-yO6kt"
   },
   "outputs": [],
   "source": [
    "dados_turnover_jan <- read.table(file = \"../Dados/Turnover_Funcionarios_Jan_23.txt\",\n",
    "                                 sep = \"\\t\",\n",
    "                                 dec = \".\",\n",
    "                                 header = TRUE)"
   ]
  },
  {
   "cell_type": "code",
   "execution_count": 4,
   "metadata": {
    "id": "pag7mJTb47Uk"
   },
   "outputs": [],
   "source": [
    "dados_turnover_jul <- read.table(file = \"../Dados/Turnover_Funcionarios_Jul_23.txt\",\n",
    "                                 sep = \"\\t\",\n",
    "                                 dec = \".\",\n",
    "                                 header = TRUE)"
   ]
  },
  {
   "cell_type": "markdown",
   "metadata": {
    "id": "QjxtmJktJf24"
   },
   "source": [
    "### Tamanho das bases de dados"
   ]
  },
  {
   "cell_type": "code",
   "execution_count": 5,
   "metadata": {
    "id": "FJUJqh-_O4Dh"
   },
   "outputs": [
    {
     "data": {
      "text/html": [
       "<style>\n",
       ".list-inline {list-style: none; margin:0; padding: 0}\n",
       ".list-inline>li {display: inline-block}\n",
       ".list-inline>li:not(:last-child)::after {content: \"\\00b7\"; padding: 0 .5ex}\n",
       "</style>\n",
       "<ol class=list-inline><li>3869</li><li>17</li></ol>\n"
      ],
      "text/latex": [
       "\\begin{enumerate*}\n",
       "\\item 3869\n",
       "\\item 17\n",
       "\\end{enumerate*}\n"
      ],
      "text/markdown": [
       "1. 3869\n",
       "2. 17\n",
       "\n",
       "\n"
      ],
      "text/plain": [
       "[1] 3869   17"
      ]
     },
     "metadata": {},
     "output_type": "display_data"
    }
   ],
   "source": [
    "dim(dados_turnover_jan)"
   ]
  },
  {
   "cell_type": "code",
   "execution_count": 6,
   "metadata": {
    "id": "s-4pZcBO5P3Z"
   },
   "outputs": [
    {
     "data": {
      "text/html": [
       "<style>\n",
       ".list-inline {list-style: none; margin:0; padding: 0}\n",
       ".list-inline>li {display: inline-block}\n",
       ".list-inline>li:not(:last-child)::after {content: \"\\00b7\"; padding: 0 .5ex}\n",
       "</style>\n",
       "<ol class=list-inline><li>4486</li><li>17</li></ol>\n"
      ],
      "text/latex": [
       "\\begin{enumerate*}\n",
       "\\item 4486\n",
       "\\item 17\n",
       "\\end{enumerate*}\n"
      ],
      "text/markdown": [
       "1. 4486\n",
       "2. 17\n",
       "\n",
       "\n"
      ],
      "text/plain": [
       "[1] 4486   17"
      ]
     },
     "metadata": {},
     "output_type": "display_data"
    }
   ],
   "source": [
    "dim(dados_turnover_jul)"
   ]
  },
  {
   "cell_type": "markdown",
   "metadata": {
    "id": "basvlxoTo_e-"
   },
   "source": [
    "### Análise exploratória breve (safra de jan/23)"
   ]
  },
  {
   "cell_type": "code",
   "execution_count": 7,
   "metadata": {
    "id": "9iiFkJR6o_sy"
   },
   "outputs": [
    {
     "data": {
      "text/plain": [
       " ID_respondente ult_avaliacao_clima qtde_projetos_3m qtde_projetos_6m\n",
       " Min.   :   1   Min.   :0.0000      Min.   :0.000    Min.   :2.000   \n",
       " 1st Qu.: 968   1st Qu.:0.3900      1st Qu.:1.000    1st Qu.:3.000   \n",
       " Median :1935   Median :0.6900      Median :2.000    Median :4.000   \n",
       " Mean   :1935   Mean   :0.6218      Mean   :1.882    Mean   :3.792   \n",
       " 3rd Qu.:2902   3rd Qu.:0.8800      3rd Qu.:3.000    3rd Qu.:5.000   \n",
       " Max.   :3869   Max.   :1.0000      Max.   :7.000    Max.   :7.000   \n",
       "                NA's   :217                                          \n",
       " qtde_projetos_12m qtde_projetos_24m media_horas_trabalho_3m\n",
       " Min.   : 2.00     Min.   : 2.000    Min.   :139.0          \n",
       " 1st Qu.: 4.00     1st Qu.: 6.000    1st Qu.:155.0          \n",
       " Median : 5.00     Median : 8.000    Median :162.0          \n",
       " Mean   : 5.31     Mean   : 7.829    Mean   :166.1          \n",
       " 3rd Qu.: 6.00     3rd Qu.:10.000    3rd Qu.:177.0          \n",
       " Max.   :10.00     Max.   :15.000    Max.   :214.0          \n",
       "                                                            \n",
       " media_horas_trabalho_6m media_horas_trabalho_12m tempo_empresa  \n",
       " Min.   :149.0           Min.   :139.0            Min.   : 1.00  \n",
       " 1st Qu.:156.0           1st Qu.:155.0            1st Qu.: 3.00  \n",
       " Median :160.0           Median :164.0            Median : 3.00  \n",
       " Mean   :166.2           Mean   :166.2            Mean   : 3.53  \n",
       " 3rd Qu.:177.0           3rd Qu.:176.0            3rd Qu.: 4.00  \n",
       " Max.   :204.0           Max.   :215.0            Max.   :11.00  \n",
       "                                                                 \n",
       " flag_promocao_3m  flag_promocao_6m  flag_promocao_12m flag_promocao_vida\n",
       " Min.   :0.00000   Min.   :0.00000   Min.   :0.00000   Min.   :0.0000    \n",
       " 1st Qu.:0.00000   1st Qu.:0.00000   1st Qu.:0.00000   1st Qu.:0.0000    \n",
       " Median :0.00000   Median :0.00000   Median :0.00000   Median :0.0000    \n",
       " Mean   :0.03463   Mean   :0.03102   Mean   :0.02998   Mean   :0.4598    \n",
       " 3rd Qu.:0.00000   3rd Qu.:0.00000   3rd Qu.:0.00000   3rd Qu.:1.0000    \n",
       " Max.   :1.00000   Max.   :1.00000   Max.   :1.00000   Max.   :1.0000    \n",
       "                                                                         \n",
       " departamento       patamar_salario       turnover     \n",
       " Length:3869        Length:3869        Min.   :0.0000  \n",
       " Class :character   Class :character   1st Qu.:0.0000  \n",
       " Mode  :character   Mode  :character   Median :0.0000  \n",
       "                                       Mean   :0.1752  \n",
       "                                       3rd Qu.:0.0000  \n",
       "                                       Max.   :1.0000  \n",
       "                                                       "
      ]
     },
     "metadata": {},
     "output_type": "display_data"
    }
   ],
   "source": [
    "##### Medidas resumo\n",
    "summa <- summary(dados_turnover_jan)\n",
    "View(summa)"
   ]
  },
  {
   "cell_type": "code",
   "execution_count": 8,
   "metadata": {
    "id": "amZHuAkmpQ-Q"
   },
   "outputs": [
    {
     "data": {
      "text/plain": [
       "\n",
       "            dados marketing/produto     RH/financeiro        TI/suporte \n",
       "              886               697               408               863 \n",
       "           vendas              <NA> \n",
       "             1015                 0 "
      ]
     },
     "metadata": {},
     "output_type": "display_data"
    },
    {
     "data": {
      "text/plain": [
       "\n",
       "            dados marketing/produto     RH/financeiro        TI/suporte \n",
       "        0.2289997         0.1801499         0.1054536         0.2230551 \n",
       "           vendas              <NA> \n",
       "        0.2623417         0.0000000 "
      ]
     },
     "metadata": {},
     "output_type": "display_data"
    }
   ],
   "source": [
    "# Tabela de frequências: departamento\n",
    "table(dados_turnover_jan$departamento, useNA = \"always\")\n",
    "prop.table(table(dados_turnover_jan$departamento, useNA = \"always\"))"
   ]
  },
  {
   "cell_type": "code",
   "execution_count": 9,
   "metadata": {
    "id": "_k-jK2ecpcre"
   },
   "outputs": [
    {
     "data": {
      "text/plain": [
       "\n",
       "01_menor_igual_media       02_acima_media                 <NA> \n",
       "                3220                  649                    0 "
      ]
     },
     "metadata": {},
     "output_type": "display_data"
    },
    {
     "data": {
      "text/plain": [
       "\n",
       "01_menor_igual_media       02_acima_media                 <NA> \n",
       "           0.8322564            0.1677436            0.0000000 "
      ]
     },
     "metadata": {},
     "output_type": "display_data"
    }
   ],
   "source": [
    "# Tabela de frequências: patamar de salário\n",
    "table(dados_turnover_jan$patamar_salario, useNA = \"always\")\n",
    "prop.table(table(dados_turnover_jan$patamar_salario, useNA = \"always\"))"
   ]
  },
  {
   "cell_type": "markdown",
   "metadata": {
    "id": "PYTvweDFJimD"
   },
   "source": [
    "### Análise do poder preditivo das variáveis (IV)"
   ]
  },
  {
   "cell_type": "code",
   "execution_count": 10,
   "metadata": {
    "id": "SRr0HokUyf6E"
   },
   "outputs": [],
   "source": [
    "# Comando auxiliar para para omitir notação científica nos p-valores e controlar largura dos outputs na tela do Colab\n",
    "options(scipen = 999, width = 200)"
   ]
  },
  {
   "cell_type": "code",
   "execution_count": 11,
   "metadata": {
    "id": "TD_M_1CzO0L8"
   },
   "outputs": [
    {
     "data": {
      "text/html": [
       "<table class=\"dataframe\">\n",
       "<caption>A data.frame: 15 × 2</caption>\n",
       "<thead>\n",
       "\t<tr><th></th><th scope=col>Variable</th><th scope=col>IV</th></tr>\n",
       "\t<tr><th></th><th scope=col>&lt;chr&gt;</th><th scope=col>&lt;dbl&gt;</th></tr>\n",
       "</thead>\n",
       "<tbody>\n",
       "\t<tr><th scope=row>14</th><td>departamento            </td><td>0.27160174710</td></tr>\n",
       "\t<tr><th scope=row>15</th><td>patamar_salario         </td><td>0.16864940252</td></tr>\n",
       "\t<tr><th scope=row>9</th><td>tempo_empresa           </td><td>0.08746832259</td></tr>\n",
       "\t<tr><th scope=row>1</th><td>ult_avaliacao_clima     </td><td>0.07513113611</td></tr>\n",
       "\t<tr><th scope=row>10</th><td>flag_promocao_3m        </td><td>0.02395402484</td></tr>\n",
       "\t<tr><th scope=row>7</th><td>media_horas_trabalho_6m </td><td>0.01505152877</td></tr>\n",
       "\t<tr><th scope=row>5</th><td>qtde_projetos_24m       </td><td>0.01422702507</td></tr>\n",
       "\t<tr><th scope=row>6</th><td>media_horas_trabalho_3m </td><td>0.01032487509</td></tr>\n",
       "\t<tr><th scope=row>8</th><td>media_horas_trabalho_12m</td><td>0.00867632135</td></tr>\n",
       "\t<tr><th scope=row>13</th><td>flag_promocao_vida      </td><td>0.00859313406</td></tr>\n",
       "\t<tr><th scope=row>3</th><td>qtde_projetos_6m        </td><td>0.00718821875</td></tr>\n",
       "\t<tr><th scope=row>2</th><td>qtde_projetos_3m        </td><td>0.00533545163</td></tr>\n",
       "\t<tr><th scope=row>4</th><td>qtde_projetos_12m       </td><td>0.00356911819</td></tr>\n",
       "\t<tr><th scope=row>11</th><td>flag_promocao_6m        </td><td>0.00011477882</td></tr>\n",
       "\t<tr><th scope=row>12</th><td>flag_promocao_12m       </td><td>0.00004908394</td></tr>\n",
       "</tbody>\n",
       "</table>\n"
      ],
      "text/latex": [
       "A data.frame: 15 × 2\n",
       "\\begin{tabular}{r|ll}\n",
       "  & Variable & IV\\\\\n",
       "  & <chr> & <dbl>\\\\\n",
       "\\hline\n",
       "\t14 & departamento             & 0.27160174710\\\\\n",
       "\t15 & patamar\\_salario          & 0.16864940252\\\\\n",
       "\t9 & tempo\\_empresa            & 0.08746832259\\\\\n",
       "\t1 & ult\\_avaliacao\\_clima      & 0.07513113611\\\\\n",
       "\t10 & flag\\_promocao\\_3m         & 0.02395402484\\\\\n",
       "\t7 & media\\_horas\\_trabalho\\_6m  & 0.01505152877\\\\\n",
       "\t5 & qtde\\_projetos\\_24m        & 0.01422702507\\\\\n",
       "\t6 & media\\_horas\\_trabalho\\_3m  & 0.01032487509\\\\\n",
       "\t8 & media\\_horas\\_trabalho\\_12m & 0.00867632135\\\\\n",
       "\t13 & flag\\_promocao\\_vida       & 0.00859313406\\\\\n",
       "\t3 & qtde\\_projetos\\_6m         & 0.00718821875\\\\\n",
       "\t2 & qtde\\_projetos\\_3m         & 0.00533545163\\\\\n",
       "\t4 & qtde\\_projetos\\_12m        & 0.00356911819\\\\\n",
       "\t11 & flag\\_promocao\\_6m         & 0.00011477882\\\\\n",
       "\t12 & flag\\_promocao\\_12m        & 0.00004908394\\\\\n",
       "\\end{tabular}\n"
      ],
      "text/markdown": [
       "\n",
       "A data.frame: 15 × 2\n",
       "\n",
       "| <!--/--> | Variable &lt;chr&gt; | IV &lt;dbl&gt; |\n",
       "|---|---|---|\n",
       "| 14 | departamento             | 0.27160174710 |\n",
       "| 15 | patamar_salario          | 0.16864940252 |\n",
       "| 9 | tempo_empresa            | 0.08746832259 |\n",
       "| 1 | ult_avaliacao_clima      | 0.07513113611 |\n",
       "| 10 | flag_promocao_3m         | 0.02395402484 |\n",
       "| 7 | media_horas_trabalho_6m  | 0.01505152877 |\n",
       "| 5 | qtde_projetos_24m        | 0.01422702507 |\n",
       "| 6 | media_horas_trabalho_3m  | 0.01032487509 |\n",
       "| 8 | media_horas_trabalho_12m | 0.00867632135 |\n",
       "| 13 | flag_promocao_vida       | 0.00859313406 |\n",
       "| 3 | qtde_projetos_6m         | 0.00718821875 |\n",
       "| 2 | qtde_projetos_3m         | 0.00533545163 |\n",
       "| 4 | qtde_projetos_12m        | 0.00356911819 |\n",
       "| 11 | flag_promocao_6m         | 0.00011477882 |\n",
       "| 12 | flag_promocao_12m        | 0.00004908394 |\n",
       "\n"
      ],
      "text/plain": [
       "   Variable                 IV           \n",
       "14 departamento             0.27160174710\n",
       "15 patamar_salario          0.16864940252\n",
       "9  tempo_empresa            0.08746832259\n",
       "1  ult_avaliacao_clima      0.07513113611\n",
       "10 flag_promocao_3m         0.02395402484\n",
       "7  media_horas_trabalho_6m  0.01505152877\n",
       "5  qtde_projetos_24m        0.01422702507\n",
       "6  media_horas_trabalho_3m  0.01032487509\n",
       "8  media_horas_trabalho_12m 0.00867632135\n",
       "13 flag_promocao_vida       0.00859313406\n",
       "3  qtde_projetos_6m         0.00718821875\n",
       "2  qtde_projetos_3m         0.00533545163\n",
       "4  qtde_projetos_12m        0.00356911819\n",
       "11 flag_promocao_6m         0.00011477882\n",
       "12 flag_promocao_12m        0.00004908394"
      ]
     },
     "metadata": {},
     "output_type": "display_data"
    }
   ],
   "source": [
    "# Cálculo e exibição dos IV\n",
    "IV <- create_infotables(data = dados_turnover_jan[,c(2:17)],\n",
    "                        y = \"turnover\")\n",
    "IV$Summary"
   ]
  },
  {
   "cell_type": "markdown",
   "metadata": {
    "id": "8JpaJy-MN2cu"
   },
   "source": [
    "### Categorização de variáveis com valores *missing* (safra de jan/23)"
   ]
  },
  {
   "cell_type": "code",
   "execution_count": 12,
   "metadata": {
    "id": "4BI8SESXt8oj",
    "scrolled": true
   },
   "outputs": [
    {
     "data": {
      "text/plain": [
       "             \n",
       "                      0         1      <NA>\n",
       "  [0,0.51]    0.7821138 0.2178862 0.0000000\n",
       "  (0.51,0.83] 0.8221504 0.1778496 0.0000000\n",
       "  (0.83,1]    0.8717300 0.1282700 0.0000000\n",
       "  <NA>        0.8248848 0.1751152 0.0000000"
      ]
     },
     "metadata": {},
     "output_type": "display_data"
    },
    {
     "data": {
      "text/plain": [
       "             \n",
       "                      0         1      <NA>\n",
       "  [0,0.39]    0.7744035 0.2255965 0.0000000\n",
       "  (0.39,0.69] 0.8110497 0.1889503 0.0000000\n",
       "  (0.69,0.88] 0.8426230 0.1573770 0.0000000\n",
       "  (0.88,1]    0.8714286 0.1285714 0.0000000\n",
       "  <NA>        0.8248848 0.1751152 0.0000000"
      ]
     },
     "metadata": {},
     "output_type": "display_data"
    },
    {
     "data": {
      "text/plain": [
       "             \n",
       "                      0         1      <NA>\n",
       "  [0,0.31]    0.7720000 0.2280000 0.0000000\n",
       "  (0.31,0.59] 0.7991632 0.2008368 0.0000000\n",
       "  (0.59,0.78] 0.8147651 0.1852349 0.0000000\n",
       "  (0.78,0.92] 0.8777633 0.1222367 0.0000000\n",
       "  (0.92,1]    0.8614009 0.1385991 0.0000000\n",
       "  <NA>        0.8248848 0.1751152 0.0000000"
      ]
     },
     "metadata": {},
     "output_type": "display_data"
    },
    {
     "data": {
      "text/plain": [
       "              \n",
       "                       0         1      <NA>\n",
       "  [0,0.245]    0.7635468 0.2364532 0.0000000\n",
       "  (0.245,0.51] 0.8003221 0.1996779 0.0000000\n",
       "  (0.51,0.69]  0.8140704 0.1859296 0.0000000\n",
       "  (0.69,0.83]  0.8296875 0.1703125 0.0000000\n",
       "  (0.83,0.93]  0.8780069 0.1219931 0.0000000\n",
       "  (0.93,1]     0.8656716 0.1343284 0.0000000\n",
       "  <NA>         0.8248848 0.1751152 0.0000000"
      ]
     },
     "metadata": {},
     "output_type": "display_data"
    }
   ],
   "source": [
    "# Cenários de categorização da variável 'ult_avaliacao_clima', com diferentes quantidades de grupos\n",
    "prop.table(table(quantcut(dados_turnover_jan$ult_avaliacao_clima, q = 3), dados_turnover_jan$turnover, useNA = \"always\"), 1)\n",
    "prop.table(table(quantcut(dados_turnover_jan$ult_avaliacao_clima, q = 4), dados_turnover_jan$turnover, useNA = \"always\"), 1)\n",
    "prop.table(table(quantcut(dados_turnover_jan$ult_avaliacao_clima, q = 5), dados_turnover_jan$turnover, useNA = \"always\"), 1)\n",
    "prop.table(table(quantcut(dados_turnover_jan$ult_avaliacao_clima, q = 6), dados_turnover_jan$turnover, useNA = \"always\"), 1)"
   ]
  },
  {
   "cell_type": "code",
   "execution_count": 13,
   "metadata": {
    "id": "zCI9KtN_OFWc"
   },
   "outputs": [],
   "source": [
    "# Criação de variável 'ult_avaliacao_clima_cat' com cenário escolhido de categorização\n",
    "dados_turnover_jan$ult_avaliacao_clima_cat <- as.factor(quantcut(dados_turnover_jan$ult_avaliacao_clima, q = 3))"
   ]
  },
  {
   "cell_type": "code",
   "execution_count": 14,
   "metadata": {
    "id": "8BIn9lDXOn86"
   },
   "outputs": [],
   "source": [
    "# Criação de categoria 'Vazio' na nova variável 'ult_avaliacao_clima_cat'\n",
    "levels(dados_turnover_jan$ult_avaliacao_clima_cat) <- c(levels(dados_turnover_jan$ult_avaliacao_clima_cat), \"Vazio\")\n",
    "dados_turnover_jan$ult_avaliacao_clima_cat[is.na(dados_turnover_jan$ult_avaliacao_clima_cat)] <- \"Vazio\""
   ]
  },
  {
   "cell_type": "code",
   "execution_count": 15,
   "metadata": {
    "scrolled": true
   },
   "outputs": [
    {
     "data": {
      "text/html": [
       "<table class=\"dataframe\">\n",
       "<caption>A data.frame: 3869 × 18</caption>\n",
       "<thead>\n",
       "\t<tr><th scope=col>ID_respondente</th><th scope=col>ult_avaliacao_clima</th><th scope=col>qtde_projetos_3m</th><th scope=col>qtde_projetos_6m</th><th scope=col>qtde_projetos_12m</th><th scope=col>qtde_projetos_24m</th><th scope=col>media_horas_trabalho_3m</th><th scope=col>media_horas_trabalho_6m</th><th scope=col>media_horas_trabalho_12m</th><th scope=col>tempo_empresa</th><th scope=col>flag_promocao_3m</th><th scope=col>flag_promocao_6m</th><th scope=col>flag_promocao_12m</th><th scope=col>flag_promocao_vida</th><th scope=col>departamento</th><th scope=col>patamar_salario</th><th scope=col>turnover</th><th scope=col>ult_avaliacao_clima_cat</th></tr>\n",
       "\t<tr><th scope=col>&lt;int&gt;</th><th scope=col>&lt;dbl&gt;</th><th scope=col>&lt;int&gt;</th><th scope=col>&lt;int&gt;</th><th scope=col>&lt;int&gt;</th><th scope=col>&lt;int&gt;</th><th scope=col>&lt;int&gt;</th><th scope=col>&lt;int&gt;</th><th scope=col>&lt;int&gt;</th><th scope=col>&lt;int&gt;</th><th scope=col>&lt;int&gt;</th><th scope=col>&lt;int&gt;</th><th scope=col>&lt;int&gt;</th><th scope=col>&lt;int&gt;</th><th scope=col>&lt;chr&gt;</th><th scope=col>&lt;chr&gt;</th><th scope=col>&lt;int&gt;</th><th scope=col>&lt;fct&gt;</th></tr>\n",
       "</thead>\n",
       "<tbody>\n",
       "\t<tr><td> 1</td><td>0.92</td><td>0</td><td>5</td><td>7</td><td>10</td><td>183</td><td>180</td><td>186</td><td> 2</td><td>1</td><td>0</td><td>0</td><td>1</td><td>marketing/produto</td><td>01_menor_igual_media</td><td>0</td><td>(0.83,1]   </td></tr>\n",
       "\t<tr><td> 2</td><td>0.73</td><td>3</td><td>3</td><td>4</td><td> 6</td><td>158</td><td>159</td><td>154</td><td> 4</td><td>0</td><td>0</td><td>0</td><td>0</td><td>vendas           </td><td>02_acima_media      </td><td>0</td><td>(0.51,0.83]</td></tr>\n",
       "\t<tr><td> 3</td><td>0.80</td><td>1</td><td>3</td><td>6</td><td> 9</td><td>171</td><td>176</td><td>174</td><td> 3</td><td>0</td><td>0</td><td>0</td><td>0</td><td>dados            </td><td>01_menor_igual_media</td><td>0</td><td>(0.51,0.83]</td></tr>\n",
       "\t<tr><td> 4</td><td>0.66</td><td>0</td><td>4</td><td>7</td><td> 9</td><td>160</td><td>157</td><td>162</td><td>10</td><td>0</td><td>0</td><td>0</td><td>1</td><td>marketing/produto</td><td>01_menor_igual_media</td><td>0</td><td>(0.51,0.83]</td></tr>\n",
       "\t<tr><td> 5</td><td>0.06</td><td>3</td><td>6</td><td>7</td><td> 9</td><td>202</td><td>192</td><td>182</td><td> 5</td><td>0</td><td>0</td><td>0</td><td>1</td><td>vendas           </td><td>01_menor_igual_media</td><td>0</td><td>[0,0.51]   </td></tr>\n",
       "\t<tr><td> 6</td><td>0.14</td><td>3</td><td>3</td><td>4</td><td> 4</td><td>146</td><td>151</td><td>155</td><td> 4</td><td>0</td><td>0</td><td>0</td><td>0</td><td>dados            </td><td>01_menor_igual_media</td><td>0</td><td>[0,0.51]   </td></tr>\n",
       "\t<tr><td> 7</td><td>0.99</td><td>1</td><td>5</td><td>5</td><td> 6</td><td>150</td><td>158</td><td>159</td><td> 3</td><td>0</td><td>0</td><td>0</td><td>0</td><td>vendas           </td><td>01_menor_igual_media</td><td>0</td><td>(0.83,1]   </td></tr>\n",
       "\t<tr><td> 8</td><td>  NA</td><td>1</td><td>6</td><td>8</td><td>11</td><td>191</td><td>192</td><td>180</td><td> 5</td><td>0</td><td>0</td><td>0</td><td>0</td><td>dados            </td><td>01_menor_igual_media</td><td>0</td><td>Vazio      </td></tr>\n",
       "\t<tr><td> 9</td><td>  NA</td><td>2</td><td>5</td><td>7</td><td> 9</td><td>154</td><td>155</td><td>155</td><td> 6</td><td>0</td><td>0</td><td>0</td><td>1</td><td>marketing/produto</td><td>01_menor_igual_media</td><td>0</td><td>Vazio      </td></tr>\n",
       "\t<tr><td>10</td><td>0.87</td><td>1</td><td>5</td><td>5</td><td> 7</td><td>162</td><td>159</td><td>159</td><td> 3</td><td>0</td><td>0</td><td>0</td><td>1</td><td>vendas           </td><td>01_menor_igual_media</td><td>0</td><td>(0.83,1]   </td></tr>\n",
       "\t<tr><td>11</td><td>0.87</td><td>3</td><td>3</td><td>3</td><td> 8</td><td>156</td><td>156</td><td>156</td><td> 5</td><td>0</td><td>0</td><td>0</td><td>1</td><td>TI/suporte       </td><td>01_menor_igual_media</td><td>0</td><td>(0.83,1]   </td></tr>\n",
       "\t<tr><td>12</td><td>0.37</td><td>2</td><td>5</td><td>6</td><td>10</td><td>146</td><td>156</td><td>162</td><td> 1</td><td>0</td><td>0</td><td>0</td><td>1</td><td>vendas           </td><td>01_menor_igual_media</td><td>1</td><td>[0,0.51]   </td></tr>\n",
       "\t<tr><td>13</td><td>0.94</td><td>1</td><td>4</td><td>5</td><td> 6</td><td>152</td><td>158</td><td>146</td><td> 3</td><td>0</td><td>0</td><td>0</td><td>1</td><td>vendas           </td><td>01_menor_igual_media</td><td>0</td><td>(0.83,1]   </td></tr>\n",
       "\t<tr><td>14</td><td>0.06</td><td>3</td><td>4</td><td>6</td><td> 8</td><td>193</td><td>192</td><td>181</td><td> 6</td><td>0</td><td>0</td><td>0</td><td>0</td><td>dados            </td><td>02_acima_media      </td><td>0</td><td>[0,0.51]   </td></tr>\n",
       "\t<tr><td>15</td><td>0.65</td><td>2</td><td>3</td><td>4</td><td> 5</td><td>153</td><td>159</td><td>149</td><td> 3</td><td>0</td><td>0</td><td>0</td><td>0</td><td>vendas           </td><td>01_menor_igual_media</td><td>1</td><td>(0.51,0.83]</td></tr>\n",
       "\t<tr><td>16</td><td>0.74</td><td>3</td><td>4</td><td>5</td><td> 9</td><td>153</td><td>156</td><td>153</td><td> 3</td><td>0</td><td>0</td><td>0</td><td>0</td><td>vendas           </td><td>02_acima_media      </td><td>0</td><td>(0.51,0.83]</td></tr>\n",
       "\t<tr><td>17</td><td>0.98</td><td>4</td><td>5</td><td>5</td><td> 6</td><td>176</td><td>179</td><td>178</td><td> 5</td><td>0</td><td>0</td><td>0</td><td>1</td><td>marketing/produto</td><td>01_menor_igual_media</td><td>0</td><td>(0.83,1]   </td></tr>\n",
       "\t<tr><td>18</td><td>0.75</td><td>3</td><td>4</td><td>5</td><td> 8</td><td>185</td><td>184</td><td>187</td><td> 3</td><td>0</td><td>0</td><td>0</td><td>1</td><td>marketing/produto</td><td>01_menor_igual_media</td><td>0</td><td>(0.51,0.83]</td></tr>\n",
       "\t<tr><td>19</td><td>0.24</td><td>0</td><td>2</td><td>4</td><td> 4</td><td>150</td><td>154</td><td>146</td><td> 3</td><td>0</td><td>0</td><td>0</td><td>1</td><td>TI/suporte       </td><td>01_menor_igual_media</td><td>0</td><td>[0,0.51]   </td></tr>\n",
       "\t<tr><td>20</td><td>0.19</td><td>3</td><td>6</td><td>9</td><td>10</td><td>183</td><td>192</td><td>189</td><td> 4</td><td>0</td><td>0</td><td>0</td><td>0</td><td>RH/financeiro    </td><td>01_menor_igual_media</td><td>1</td><td>[0,0.51]   </td></tr>\n",
       "\t<tr><td>21</td><td>0.98</td><td>0</td><td>4</td><td>7</td><td> 8</td><td>158</td><td>155</td><td>156</td><td> 1</td><td>0</td><td>0</td><td>0</td><td>1</td><td>marketing/produto</td><td>01_menor_igual_media</td><td>0</td><td>(0.83,1]   </td></tr>\n",
       "\t<tr><td>22</td><td>0.58</td><td>2</td><td>2</td><td>5</td><td> 9</td><td>163</td><td>155</td><td>167</td><td> 3</td><td>0</td><td>1</td><td>0</td><td>1</td><td>vendas           </td><td>01_menor_igual_media</td><td>0</td><td>(0.51,0.83]</td></tr>\n",
       "\t<tr><td>23</td><td>0.23</td><td>1</td><td>4</td><td>5</td><td> 7</td><td>158</td><td>159</td><td>157</td><td> 4</td><td>0</td><td>0</td><td>0</td><td>0</td><td>marketing/produto</td><td>01_menor_igual_media</td><td>0</td><td>[0,0.51]   </td></tr>\n",
       "\t<tr><td>24</td><td>0.38</td><td>1</td><td>4</td><td>7</td><td>11</td><td>178</td><td>178</td><td>186</td><td> 4</td><td>0</td><td>0</td><td>0</td><td>1</td><td>dados            </td><td>01_menor_igual_media</td><td>0</td><td>[0,0.51]   </td></tr>\n",
       "\t<tr><td>25</td><td>0.38</td><td>3</td><td>3</td><td>3</td><td> 4</td><td>155</td><td>156</td><td>152</td><td> 3</td><td>0</td><td>0</td><td>0</td><td>1</td><td>marketing/produto</td><td>01_menor_igual_media</td><td>0</td><td>[0,0.51]   </td></tr>\n",
       "\t<tr><td>26</td><td>0.92</td><td>3</td><td>4</td><td>4</td><td> 6</td><td>168</td><td>159</td><td>167</td><td> 1</td><td>0</td><td>0</td><td>0</td><td>1</td><td>dados            </td><td>01_menor_igual_media</td><td>0</td><td>(0.83,1]   </td></tr>\n",
       "\t<tr><td>27</td><td>0.14</td><td>0</td><td>4</td><td>4</td><td> 9</td><td>184</td><td>190</td><td>194</td><td> 1</td><td>0</td><td>0</td><td>0</td><td>1</td><td>TI/suporte       </td><td>01_menor_igual_media</td><td>0</td><td>[0,0.51]   </td></tr>\n",
       "\t<tr><td>28</td><td>0.72</td><td>0</td><td>3</td><td>3</td><td> 5</td><td>150</td><td>151</td><td>142</td><td> 3</td><td>0</td><td>0</td><td>0</td><td>0</td><td>TI/suporte       </td><td>01_menor_igual_media</td><td>0</td><td>(0.51,0.83]</td></tr>\n",
       "\t<tr><td>29</td><td>0.17</td><td>1</td><td>3</td><td>4</td><td> 4</td><td>161</td><td>164</td><td>157</td><td> 3</td><td>0</td><td>0</td><td>0</td><td>1</td><td>TI/suporte       </td><td>02_acima_media      </td><td>0</td><td>[0,0.51]   </td></tr>\n",
       "\t<tr><td>30</td><td>0.72</td><td>0</td><td>2</td><td>5</td><td>10</td><td>155</td><td>155</td><td>154</td><td> 3</td><td>0</td><td>0</td><td>0</td><td>1</td><td>dados            </td><td>01_menor_igual_media</td><td>0</td><td>(0.51,0.83]</td></tr>\n",
       "\t<tr><td>⋮</td><td>⋮</td><td>⋮</td><td>⋮</td><td>⋮</td><td>⋮</td><td>⋮</td><td>⋮</td><td>⋮</td><td>⋮</td><td>⋮</td><td>⋮</td><td>⋮</td><td>⋮</td><td>⋮</td><td>⋮</td><td>⋮</td><td>⋮</td></tr>\n",
       "\t<tr><td>3840</td><td>0.98</td><td>0</td><td>4</td><td>5</td><td> 6</td><td>161</td><td>157</td><td>163</td><td> 3</td><td>0</td><td>0</td><td>0</td><td>0</td><td>marketing/produto</td><td>02_acima_media      </td><td>0</td><td>(0.83,1]   </td></tr>\n",
       "\t<tr><td>3841</td><td>0.54</td><td>3</td><td>4</td><td>5</td><td> 6</td><td>181</td><td>178</td><td>190</td><td> 5</td><td>0</td><td>0</td><td>0</td><td>0</td><td>TI/suporte       </td><td>01_menor_igual_media</td><td>0</td><td>(0.51,0.83]</td></tr>\n",
       "\t<tr><td>3842</td><td>0.66</td><td>2</td><td>2</td><td>5</td><td> 5</td><td>154</td><td>154</td><td>155</td><td> 3</td><td>0</td><td>0</td><td>0</td><td>0</td><td>marketing/produto</td><td>01_menor_igual_media</td><td>0</td><td>(0.51,0.83]</td></tr>\n",
       "\t<tr><td>3843</td><td>0.93</td><td>2</td><td>4</td><td>5</td><td>10</td><td>161</td><td>158</td><td>170</td><td> 2</td><td>0</td><td>0</td><td>0</td><td>1</td><td>RH/financeiro    </td><td>02_acima_media      </td><td>0</td><td>(0.83,1]   </td></tr>\n",
       "\t<tr><td>3844</td><td>0.06</td><td>2</td><td>7</td><td>9</td><td>11</td><td>211</td><td>202</td><td>199</td><td> 4</td><td>0</td><td>0</td><td>0</td><td>1</td><td>dados            </td><td>01_menor_igual_media</td><td>0</td><td>[0,0.51]   </td></tr>\n",
       "\t<tr><td>3845</td><td>0.44</td><td>0</td><td>2</td><td>4</td><td> 7</td><td>154</td><td>152</td><td>153</td><td> 3</td><td>0</td><td>0</td><td>0</td><td>0</td><td>TI/suporte       </td><td>01_menor_igual_media</td><td>0</td><td>[0,0.51]   </td></tr>\n",
       "\t<tr><td>3846</td><td>0.92</td><td>3</td><td>5</td><td>8</td><td>10</td><td>189</td><td>186</td><td>188</td><td> 5</td><td>0</td><td>1</td><td>0</td><td>1</td><td>vendas           </td><td>01_menor_igual_media</td><td>0</td><td>(0.83,1]   </td></tr>\n",
       "\t<tr><td>3847</td><td>0.68</td><td>1</td><td>2</td><td>2</td><td> 3</td><td>158</td><td>155</td><td>158</td><td> 3</td><td>0</td><td>0</td><td>0</td><td>1</td><td>vendas           </td><td>01_menor_igual_media</td><td>1</td><td>(0.51,0.83]</td></tr>\n",
       "\t<tr><td>3848</td><td>0.48</td><td>2</td><td>4</td><td>4</td><td> 9</td><td>149</td><td>150</td><td>155</td><td> 7</td><td>0</td><td>0</td><td>0</td><td>0</td><td>vendas           </td><td>01_menor_igual_media</td><td>1</td><td>[0,0.51]   </td></tr>\n",
       "\t<tr><td>3849</td><td>0.20</td><td>1</td><td>6</td><td>7</td><td>10</td><td>177</td><td>182</td><td>176</td><td> 4</td><td>0</td><td>0</td><td>0</td><td>0</td><td>TI/suporte       </td><td>01_menor_igual_media</td><td>0</td><td>[0,0.51]   </td></tr>\n",
       "\t<tr><td>3850</td><td>0.82</td><td>2</td><td>4</td><td>4</td><td> 4</td><td>176</td><td>178</td><td>188</td><td> 1</td><td>0</td><td>0</td><td>0</td><td>0</td><td>TI/suporte       </td><td>01_menor_igual_media</td><td>0</td><td>(0.51,0.83]</td></tr>\n",
       "\t<tr><td>3851</td><td>0.27</td><td>0</td><td>5</td><td>5</td><td> 6</td><td>188</td><td>184</td><td>176</td><td> 5</td><td>0</td><td>0</td><td>0</td><td>1</td><td>marketing/produto</td><td>01_menor_igual_media</td><td>0</td><td>[0,0.51]   </td></tr>\n",
       "\t<tr><td>3852</td><td>0.42</td><td>2</td><td>3</td><td>6</td><td>11</td><td>182</td><td>184</td><td>179</td><td> 5</td><td>0</td><td>0</td><td>1</td><td>1</td><td>TI/suporte       </td><td>01_menor_igual_media</td><td>0</td><td>[0,0.51]   </td></tr>\n",
       "\t<tr><td>3853</td><td>0.83</td><td>2</td><td>3</td><td>4</td><td> 6</td><td>161</td><td>163</td><td>151</td><td> 3</td><td>0</td><td>0</td><td>0</td><td>1</td><td>marketing/produto</td><td>01_menor_igual_media</td><td>0</td><td>(0.51,0.83]</td></tr>\n",
       "\t<tr><td>3854</td><td>0.96</td><td>5</td><td>5</td><td>5</td><td> 6</td><td>156</td><td>158</td><td>156</td><td> 1</td><td>0</td><td>0</td><td>0</td><td>1</td><td>vendas           </td><td>01_menor_igual_media</td><td>0</td><td>(0.83,1]   </td></tr>\n",
       "\t<tr><td>3855</td><td>0.43</td><td>2</td><td>3</td><td>6</td><td>11</td><td>145</td><td>150</td><td>160</td><td> 5</td><td>0</td><td>0</td><td>0</td><td>0</td><td>TI/suporte       </td><td>01_menor_igual_media</td><td>0</td><td>[0,0.51]   </td></tr>\n",
       "\t<tr><td>3856</td><td>0.13</td><td>5</td><td>5</td><td>5</td><td> 7</td><td>163</td><td>159</td><td>170</td><td> 7</td><td>0</td><td>0</td><td>0</td><td>0</td><td>vendas           </td><td>01_menor_igual_media</td><td>0</td><td>[0,0.51]   </td></tr>\n",
       "\t<tr><td>3857</td><td>0.77</td><td>3</td><td>3</td><td>6</td><td>11</td><td>152</td><td>158</td><td>156</td><td> 3</td><td>0</td><td>1</td><td>0</td><td>1</td><td>TI/suporte       </td><td>01_menor_igual_media</td><td>0</td><td>(0.51,0.83]</td></tr>\n",
       "\t<tr><td>3858</td><td>0.42</td><td>2</td><td>2</td><td>2</td><td> 6</td><td>150</td><td>153</td><td>155</td><td>10</td><td>0</td><td>0</td><td>0</td><td>0</td><td>marketing/produto</td><td>02_acima_media      </td><td>0</td><td>[0,0.51]   </td></tr>\n",
       "\t<tr><td>3859</td><td>0.41</td><td>5</td><td>5</td><td>8</td><td>11</td><td>182</td><td>175</td><td>176</td><td> 6</td><td>0</td><td>0</td><td>0</td><td>0</td><td>dados            </td><td>01_menor_igual_media</td><td>0</td><td>[0,0.51]   </td></tr>\n",
       "\t<tr><td>3860</td><td>0.86</td><td>2</td><td>3</td><td>6</td><td> 7</td><td>170</td><td>167</td><td>179</td><td> 2</td><td>0</td><td>0</td><td>0</td><td>1</td><td>marketing/produto</td><td>01_menor_igual_media</td><td>0</td><td>(0.83,1]   </td></tr>\n",
       "\t<tr><td>3861</td><td>0.83</td><td>1</td><td>3</td><td>5</td><td> 6</td><td>176</td><td>173</td><td>171</td><td> 1</td><td>0</td><td>0</td><td>0</td><td>1</td><td>marketing/produto</td><td>01_menor_igual_media</td><td>0</td><td>(0.51,0.83]</td></tr>\n",
       "\t<tr><td>3862</td><td>0.92</td><td>0</td><td>3</td><td>5</td><td> 8</td><td>164</td><td>159</td><td>166</td><td> 2</td><td>0</td><td>0</td><td>0</td><td>0</td><td>marketing/produto</td><td>02_acima_media      </td><td>0</td><td>(0.83,1]   </td></tr>\n",
       "\t<tr><td>3863</td><td>  NA</td><td>2</td><td>5</td><td>7</td><td>11</td><td>146</td><td>160</td><td>164</td><td> 5</td><td>0</td><td>0</td><td>0</td><td>1</td><td>vendas           </td><td>02_acima_media      </td><td>0</td><td>Vazio      </td></tr>\n",
       "\t<tr><td>3864</td><td>0.49</td><td>0</td><td>2</td><td>4</td><td> 6</td><td>149</td><td>155</td><td>166</td><td> 3</td><td>0</td><td>0</td><td>0</td><td>1</td><td>TI/suporte       </td><td>01_menor_igual_media</td><td>0</td><td>[0,0.51]   </td></tr>\n",
       "\t<tr><td>3865</td><td>0.48</td><td>4</td><td>4</td><td>7</td><td>11</td><td>181</td><td>184</td><td>187</td><td> 1</td><td>0</td><td>0</td><td>0</td><td>1</td><td>RH/financeiro    </td><td>01_menor_igual_media</td><td>0</td><td>[0,0.51]   </td></tr>\n",
       "\t<tr><td>3866</td><td>0.94</td><td>3</td><td>5</td><td>6</td><td> 6</td><td>188</td><td>188</td><td>198</td><td> 3</td><td>0</td><td>0</td><td>0</td><td>1</td><td>dados            </td><td>01_menor_igual_media</td><td>0</td><td>(0.83,1]   </td></tr>\n",
       "\t<tr><td>3867</td><td>0.01</td><td>3</td><td>3</td><td>6</td><td> 6</td><td>166</td><td>158</td><td>159</td><td> 3</td><td>0</td><td>0</td><td>0</td><td>0</td><td>TI/suporte       </td><td>01_menor_igual_media</td><td>0</td><td>[0,0.51]   </td></tr>\n",
       "\t<tr><td>3868</td><td>0.07</td><td>5</td><td>6</td><td>7</td><td> 7</td><td>175</td><td>178</td><td>168</td><td> 4</td><td>0</td><td>0</td><td>0</td><td>0</td><td>vendas           </td><td>01_menor_igual_media</td><td>1</td><td>[0,0.51]   </td></tr>\n",
       "\t<tr><td>3869</td><td>0.97</td><td>0</td><td>3</td><td>6</td><td> 9</td><td>151</td><td>156</td><td>154</td><td>10</td><td>0</td><td>0</td><td>0</td><td>1</td><td>marketing/produto</td><td>02_acima_media      </td><td>0</td><td>(0.83,1]   </td></tr>\n",
       "</tbody>\n",
       "</table>\n"
      ],
      "text/latex": [
       "A data.frame: 3869 × 18\n",
       "\\begin{tabular}{llllllllllllllllll}\n",
       " ID\\_respondente & ult\\_avaliacao\\_clima & qtde\\_projetos\\_3m & qtde\\_projetos\\_6m & qtde\\_projetos\\_12m & qtde\\_projetos\\_24m & media\\_horas\\_trabalho\\_3m & media\\_horas\\_trabalho\\_6m & media\\_horas\\_trabalho\\_12m & tempo\\_empresa & flag\\_promocao\\_3m & flag\\_promocao\\_6m & flag\\_promocao\\_12m & flag\\_promocao\\_vida & departamento & patamar\\_salario & turnover & ult\\_avaliacao\\_clima\\_cat\\\\\n",
       " <int> & <dbl> & <int> & <int> & <int> & <int> & <int> & <int> & <int> & <int> & <int> & <int> & <int> & <int> & <chr> & <chr> & <int> & <fct>\\\\\n",
       "\\hline\n",
       "\t  1 & 0.92 & 0 & 5 & 7 & 10 & 183 & 180 & 186 &  2 & 1 & 0 & 0 & 1 & marketing/produto & 01\\_menor\\_igual\\_media & 0 & (0.83,1{]}   \\\\\n",
       "\t  2 & 0.73 & 3 & 3 & 4 &  6 & 158 & 159 & 154 &  4 & 0 & 0 & 0 & 0 & vendas            & 02\\_acima\\_media       & 0 & (0.51,0.83{]}\\\\\n",
       "\t  3 & 0.80 & 1 & 3 & 6 &  9 & 171 & 176 & 174 &  3 & 0 & 0 & 0 & 0 & dados             & 01\\_menor\\_igual\\_media & 0 & (0.51,0.83{]}\\\\\n",
       "\t  4 & 0.66 & 0 & 4 & 7 &  9 & 160 & 157 & 162 & 10 & 0 & 0 & 0 & 1 & marketing/produto & 01\\_menor\\_igual\\_media & 0 & (0.51,0.83{]}\\\\\n",
       "\t  5 & 0.06 & 3 & 6 & 7 &  9 & 202 & 192 & 182 &  5 & 0 & 0 & 0 & 1 & vendas            & 01\\_menor\\_igual\\_media & 0 & {[}0,0.51{]}   \\\\\n",
       "\t  6 & 0.14 & 3 & 3 & 4 &  4 & 146 & 151 & 155 &  4 & 0 & 0 & 0 & 0 & dados             & 01\\_menor\\_igual\\_media & 0 & {[}0,0.51{]}   \\\\\n",
       "\t  7 & 0.99 & 1 & 5 & 5 &  6 & 150 & 158 & 159 &  3 & 0 & 0 & 0 & 0 & vendas            & 01\\_menor\\_igual\\_media & 0 & (0.83,1{]}   \\\\\n",
       "\t  8 &   NA & 1 & 6 & 8 & 11 & 191 & 192 & 180 &  5 & 0 & 0 & 0 & 0 & dados             & 01\\_menor\\_igual\\_media & 0 & Vazio      \\\\\n",
       "\t  9 &   NA & 2 & 5 & 7 &  9 & 154 & 155 & 155 &  6 & 0 & 0 & 0 & 1 & marketing/produto & 01\\_menor\\_igual\\_media & 0 & Vazio      \\\\\n",
       "\t 10 & 0.87 & 1 & 5 & 5 &  7 & 162 & 159 & 159 &  3 & 0 & 0 & 0 & 1 & vendas            & 01\\_menor\\_igual\\_media & 0 & (0.83,1{]}   \\\\\n",
       "\t 11 & 0.87 & 3 & 3 & 3 &  8 & 156 & 156 & 156 &  5 & 0 & 0 & 0 & 1 & TI/suporte        & 01\\_menor\\_igual\\_media & 0 & (0.83,1{]}   \\\\\n",
       "\t 12 & 0.37 & 2 & 5 & 6 & 10 & 146 & 156 & 162 &  1 & 0 & 0 & 0 & 1 & vendas            & 01\\_menor\\_igual\\_media & 1 & {[}0,0.51{]}   \\\\\n",
       "\t 13 & 0.94 & 1 & 4 & 5 &  6 & 152 & 158 & 146 &  3 & 0 & 0 & 0 & 1 & vendas            & 01\\_menor\\_igual\\_media & 0 & (0.83,1{]}   \\\\\n",
       "\t 14 & 0.06 & 3 & 4 & 6 &  8 & 193 & 192 & 181 &  6 & 0 & 0 & 0 & 0 & dados             & 02\\_acima\\_media       & 0 & {[}0,0.51{]}   \\\\\n",
       "\t 15 & 0.65 & 2 & 3 & 4 &  5 & 153 & 159 & 149 &  3 & 0 & 0 & 0 & 0 & vendas            & 01\\_menor\\_igual\\_media & 1 & (0.51,0.83{]}\\\\\n",
       "\t 16 & 0.74 & 3 & 4 & 5 &  9 & 153 & 156 & 153 &  3 & 0 & 0 & 0 & 0 & vendas            & 02\\_acima\\_media       & 0 & (0.51,0.83{]}\\\\\n",
       "\t 17 & 0.98 & 4 & 5 & 5 &  6 & 176 & 179 & 178 &  5 & 0 & 0 & 0 & 1 & marketing/produto & 01\\_menor\\_igual\\_media & 0 & (0.83,1{]}   \\\\\n",
       "\t 18 & 0.75 & 3 & 4 & 5 &  8 & 185 & 184 & 187 &  3 & 0 & 0 & 0 & 1 & marketing/produto & 01\\_menor\\_igual\\_media & 0 & (0.51,0.83{]}\\\\\n",
       "\t 19 & 0.24 & 0 & 2 & 4 &  4 & 150 & 154 & 146 &  3 & 0 & 0 & 0 & 1 & TI/suporte        & 01\\_menor\\_igual\\_media & 0 & {[}0,0.51{]}   \\\\\n",
       "\t 20 & 0.19 & 3 & 6 & 9 & 10 & 183 & 192 & 189 &  4 & 0 & 0 & 0 & 0 & RH/financeiro     & 01\\_menor\\_igual\\_media & 1 & {[}0,0.51{]}   \\\\\n",
       "\t 21 & 0.98 & 0 & 4 & 7 &  8 & 158 & 155 & 156 &  1 & 0 & 0 & 0 & 1 & marketing/produto & 01\\_menor\\_igual\\_media & 0 & (0.83,1{]}   \\\\\n",
       "\t 22 & 0.58 & 2 & 2 & 5 &  9 & 163 & 155 & 167 &  3 & 0 & 1 & 0 & 1 & vendas            & 01\\_menor\\_igual\\_media & 0 & (0.51,0.83{]}\\\\\n",
       "\t 23 & 0.23 & 1 & 4 & 5 &  7 & 158 & 159 & 157 &  4 & 0 & 0 & 0 & 0 & marketing/produto & 01\\_menor\\_igual\\_media & 0 & {[}0,0.51{]}   \\\\\n",
       "\t 24 & 0.38 & 1 & 4 & 7 & 11 & 178 & 178 & 186 &  4 & 0 & 0 & 0 & 1 & dados             & 01\\_menor\\_igual\\_media & 0 & {[}0,0.51{]}   \\\\\n",
       "\t 25 & 0.38 & 3 & 3 & 3 &  4 & 155 & 156 & 152 &  3 & 0 & 0 & 0 & 1 & marketing/produto & 01\\_menor\\_igual\\_media & 0 & {[}0,0.51{]}   \\\\\n",
       "\t 26 & 0.92 & 3 & 4 & 4 &  6 & 168 & 159 & 167 &  1 & 0 & 0 & 0 & 1 & dados             & 01\\_menor\\_igual\\_media & 0 & (0.83,1{]}   \\\\\n",
       "\t 27 & 0.14 & 0 & 4 & 4 &  9 & 184 & 190 & 194 &  1 & 0 & 0 & 0 & 1 & TI/suporte        & 01\\_menor\\_igual\\_media & 0 & {[}0,0.51{]}   \\\\\n",
       "\t 28 & 0.72 & 0 & 3 & 3 &  5 & 150 & 151 & 142 &  3 & 0 & 0 & 0 & 0 & TI/suporte        & 01\\_menor\\_igual\\_media & 0 & (0.51,0.83{]}\\\\\n",
       "\t 29 & 0.17 & 1 & 3 & 4 &  4 & 161 & 164 & 157 &  3 & 0 & 0 & 0 & 1 & TI/suporte        & 02\\_acima\\_media       & 0 & {[}0,0.51{]}   \\\\\n",
       "\t 30 & 0.72 & 0 & 2 & 5 & 10 & 155 & 155 & 154 &  3 & 0 & 0 & 0 & 1 & dados             & 01\\_menor\\_igual\\_media & 0 & (0.51,0.83{]}\\\\\n",
       "\t ⋮ & ⋮ & ⋮ & ⋮ & ⋮ & ⋮ & ⋮ & ⋮ & ⋮ & ⋮ & ⋮ & ⋮ & ⋮ & ⋮ & ⋮ & ⋮ & ⋮ & ⋮\\\\\n",
       "\t 3840 & 0.98 & 0 & 4 & 5 &  6 & 161 & 157 & 163 &  3 & 0 & 0 & 0 & 0 & marketing/produto & 02\\_acima\\_media       & 0 & (0.83,1{]}   \\\\\n",
       "\t 3841 & 0.54 & 3 & 4 & 5 &  6 & 181 & 178 & 190 &  5 & 0 & 0 & 0 & 0 & TI/suporte        & 01\\_menor\\_igual\\_media & 0 & (0.51,0.83{]}\\\\\n",
       "\t 3842 & 0.66 & 2 & 2 & 5 &  5 & 154 & 154 & 155 &  3 & 0 & 0 & 0 & 0 & marketing/produto & 01\\_menor\\_igual\\_media & 0 & (0.51,0.83{]}\\\\\n",
       "\t 3843 & 0.93 & 2 & 4 & 5 & 10 & 161 & 158 & 170 &  2 & 0 & 0 & 0 & 1 & RH/financeiro     & 02\\_acima\\_media       & 0 & (0.83,1{]}   \\\\\n",
       "\t 3844 & 0.06 & 2 & 7 & 9 & 11 & 211 & 202 & 199 &  4 & 0 & 0 & 0 & 1 & dados             & 01\\_menor\\_igual\\_media & 0 & {[}0,0.51{]}   \\\\\n",
       "\t 3845 & 0.44 & 0 & 2 & 4 &  7 & 154 & 152 & 153 &  3 & 0 & 0 & 0 & 0 & TI/suporte        & 01\\_menor\\_igual\\_media & 0 & {[}0,0.51{]}   \\\\\n",
       "\t 3846 & 0.92 & 3 & 5 & 8 & 10 & 189 & 186 & 188 &  5 & 0 & 1 & 0 & 1 & vendas            & 01\\_menor\\_igual\\_media & 0 & (0.83,1{]}   \\\\\n",
       "\t 3847 & 0.68 & 1 & 2 & 2 &  3 & 158 & 155 & 158 &  3 & 0 & 0 & 0 & 1 & vendas            & 01\\_menor\\_igual\\_media & 1 & (0.51,0.83{]}\\\\\n",
       "\t 3848 & 0.48 & 2 & 4 & 4 &  9 & 149 & 150 & 155 &  7 & 0 & 0 & 0 & 0 & vendas            & 01\\_menor\\_igual\\_media & 1 & {[}0,0.51{]}   \\\\\n",
       "\t 3849 & 0.20 & 1 & 6 & 7 & 10 & 177 & 182 & 176 &  4 & 0 & 0 & 0 & 0 & TI/suporte        & 01\\_menor\\_igual\\_media & 0 & {[}0,0.51{]}   \\\\\n",
       "\t 3850 & 0.82 & 2 & 4 & 4 &  4 & 176 & 178 & 188 &  1 & 0 & 0 & 0 & 0 & TI/suporte        & 01\\_menor\\_igual\\_media & 0 & (0.51,0.83{]}\\\\\n",
       "\t 3851 & 0.27 & 0 & 5 & 5 &  6 & 188 & 184 & 176 &  5 & 0 & 0 & 0 & 1 & marketing/produto & 01\\_menor\\_igual\\_media & 0 & {[}0,0.51{]}   \\\\\n",
       "\t 3852 & 0.42 & 2 & 3 & 6 & 11 & 182 & 184 & 179 &  5 & 0 & 0 & 1 & 1 & TI/suporte        & 01\\_menor\\_igual\\_media & 0 & {[}0,0.51{]}   \\\\\n",
       "\t 3853 & 0.83 & 2 & 3 & 4 &  6 & 161 & 163 & 151 &  3 & 0 & 0 & 0 & 1 & marketing/produto & 01\\_menor\\_igual\\_media & 0 & (0.51,0.83{]}\\\\\n",
       "\t 3854 & 0.96 & 5 & 5 & 5 &  6 & 156 & 158 & 156 &  1 & 0 & 0 & 0 & 1 & vendas            & 01\\_menor\\_igual\\_media & 0 & (0.83,1{]}   \\\\\n",
       "\t 3855 & 0.43 & 2 & 3 & 6 & 11 & 145 & 150 & 160 &  5 & 0 & 0 & 0 & 0 & TI/suporte        & 01\\_menor\\_igual\\_media & 0 & {[}0,0.51{]}   \\\\\n",
       "\t 3856 & 0.13 & 5 & 5 & 5 &  7 & 163 & 159 & 170 &  7 & 0 & 0 & 0 & 0 & vendas            & 01\\_menor\\_igual\\_media & 0 & {[}0,0.51{]}   \\\\\n",
       "\t 3857 & 0.77 & 3 & 3 & 6 & 11 & 152 & 158 & 156 &  3 & 0 & 1 & 0 & 1 & TI/suporte        & 01\\_menor\\_igual\\_media & 0 & (0.51,0.83{]}\\\\\n",
       "\t 3858 & 0.42 & 2 & 2 & 2 &  6 & 150 & 153 & 155 & 10 & 0 & 0 & 0 & 0 & marketing/produto & 02\\_acima\\_media       & 0 & {[}0,0.51{]}   \\\\\n",
       "\t 3859 & 0.41 & 5 & 5 & 8 & 11 & 182 & 175 & 176 &  6 & 0 & 0 & 0 & 0 & dados             & 01\\_menor\\_igual\\_media & 0 & {[}0,0.51{]}   \\\\\n",
       "\t 3860 & 0.86 & 2 & 3 & 6 &  7 & 170 & 167 & 179 &  2 & 0 & 0 & 0 & 1 & marketing/produto & 01\\_menor\\_igual\\_media & 0 & (0.83,1{]}   \\\\\n",
       "\t 3861 & 0.83 & 1 & 3 & 5 &  6 & 176 & 173 & 171 &  1 & 0 & 0 & 0 & 1 & marketing/produto & 01\\_menor\\_igual\\_media & 0 & (0.51,0.83{]}\\\\\n",
       "\t 3862 & 0.92 & 0 & 3 & 5 &  8 & 164 & 159 & 166 &  2 & 0 & 0 & 0 & 0 & marketing/produto & 02\\_acima\\_media       & 0 & (0.83,1{]}   \\\\\n",
       "\t 3863 &   NA & 2 & 5 & 7 & 11 & 146 & 160 & 164 &  5 & 0 & 0 & 0 & 1 & vendas            & 02\\_acima\\_media       & 0 & Vazio      \\\\\n",
       "\t 3864 & 0.49 & 0 & 2 & 4 &  6 & 149 & 155 & 166 &  3 & 0 & 0 & 0 & 1 & TI/suporte        & 01\\_menor\\_igual\\_media & 0 & {[}0,0.51{]}   \\\\\n",
       "\t 3865 & 0.48 & 4 & 4 & 7 & 11 & 181 & 184 & 187 &  1 & 0 & 0 & 0 & 1 & RH/financeiro     & 01\\_menor\\_igual\\_media & 0 & {[}0,0.51{]}   \\\\\n",
       "\t 3866 & 0.94 & 3 & 5 & 6 &  6 & 188 & 188 & 198 &  3 & 0 & 0 & 0 & 1 & dados             & 01\\_menor\\_igual\\_media & 0 & (0.83,1{]}   \\\\\n",
       "\t 3867 & 0.01 & 3 & 3 & 6 &  6 & 166 & 158 & 159 &  3 & 0 & 0 & 0 & 0 & TI/suporte        & 01\\_menor\\_igual\\_media & 0 & {[}0,0.51{]}   \\\\\n",
       "\t 3868 & 0.07 & 5 & 6 & 7 &  7 & 175 & 178 & 168 &  4 & 0 & 0 & 0 & 0 & vendas            & 01\\_menor\\_igual\\_media & 1 & {[}0,0.51{]}   \\\\\n",
       "\t 3869 & 0.97 & 0 & 3 & 6 &  9 & 151 & 156 & 154 & 10 & 0 & 0 & 0 & 1 & marketing/produto & 02\\_acima\\_media       & 0 & (0.83,1{]}   \\\\\n",
       "\\end{tabular}\n"
      ],
      "text/markdown": [
       "\n",
       "A data.frame: 3869 × 18\n",
       "\n",
       "| ID_respondente &lt;int&gt; | ult_avaliacao_clima &lt;dbl&gt; | qtde_projetos_3m &lt;int&gt; | qtde_projetos_6m &lt;int&gt; | qtde_projetos_12m &lt;int&gt; | qtde_projetos_24m &lt;int&gt; | media_horas_trabalho_3m &lt;int&gt; | media_horas_trabalho_6m &lt;int&gt; | media_horas_trabalho_12m &lt;int&gt; | tempo_empresa &lt;int&gt; | flag_promocao_3m &lt;int&gt; | flag_promocao_6m &lt;int&gt; | flag_promocao_12m &lt;int&gt; | flag_promocao_vida &lt;int&gt; | departamento &lt;chr&gt; | patamar_salario &lt;chr&gt; | turnover &lt;int&gt; | ult_avaliacao_clima_cat &lt;fct&gt; |\n",
       "|---|---|---|---|---|---|---|---|---|---|---|---|---|---|---|---|---|---|\n",
       "|  1 | 0.92 | 0 | 5 | 7 | 10 | 183 | 180 | 186 |  2 | 1 | 0 | 0 | 1 | marketing/produto | 01_menor_igual_media | 0 | (0.83,1]    |\n",
       "|  2 | 0.73 | 3 | 3 | 4 |  6 | 158 | 159 | 154 |  4 | 0 | 0 | 0 | 0 | vendas            | 02_acima_media       | 0 | (0.51,0.83] |\n",
       "|  3 | 0.80 | 1 | 3 | 6 |  9 | 171 | 176 | 174 |  3 | 0 | 0 | 0 | 0 | dados             | 01_menor_igual_media | 0 | (0.51,0.83] |\n",
       "|  4 | 0.66 | 0 | 4 | 7 |  9 | 160 | 157 | 162 | 10 | 0 | 0 | 0 | 1 | marketing/produto | 01_menor_igual_media | 0 | (0.51,0.83] |\n",
       "|  5 | 0.06 | 3 | 6 | 7 |  9 | 202 | 192 | 182 |  5 | 0 | 0 | 0 | 1 | vendas            | 01_menor_igual_media | 0 | [0,0.51]    |\n",
       "|  6 | 0.14 | 3 | 3 | 4 |  4 | 146 | 151 | 155 |  4 | 0 | 0 | 0 | 0 | dados             | 01_menor_igual_media | 0 | [0,0.51]    |\n",
       "|  7 | 0.99 | 1 | 5 | 5 |  6 | 150 | 158 | 159 |  3 | 0 | 0 | 0 | 0 | vendas            | 01_menor_igual_media | 0 | (0.83,1]    |\n",
       "|  8 |   NA | 1 | 6 | 8 | 11 | 191 | 192 | 180 |  5 | 0 | 0 | 0 | 0 | dados             | 01_menor_igual_media | 0 | Vazio       |\n",
       "|  9 |   NA | 2 | 5 | 7 |  9 | 154 | 155 | 155 |  6 | 0 | 0 | 0 | 1 | marketing/produto | 01_menor_igual_media | 0 | Vazio       |\n",
       "| 10 | 0.87 | 1 | 5 | 5 |  7 | 162 | 159 | 159 |  3 | 0 | 0 | 0 | 1 | vendas            | 01_menor_igual_media | 0 | (0.83,1]    |\n",
       "| 11 | 0.87 | 3 | 3 | 3 |  8 | 156 | 156 | 156 |  5 | 0 | 0 | 0 | 1 | TI/suporte        | 01_menor_igual_media | 0 | (0.83,1]    |\n",
       "| 12 | 0.37 | 2 | 5 | 6 | 10 | 146 | 156 | 162 |  1 | 0 | 0 | 0 | 1 | vendas            | 01_menor_igual_media | 1 | [0,0.51]    |\n",
       "| 13 | 0.94 | 1 | 4 | 5 |  6 | 152 | 158 | 146 |  3 | 0 | 0 | 0 | 1 | vendas            | 01_menor_igual_media | 0 | (0.83,1]    |\n",
       "| 14 | 0.06 | 3 | 4 | 6 |  8 | 193 | 192 | 181 |  6 | 0 | 0 | 0 | 0 | dados             | 02_acima_media       | 0 | [0,0.51]    |\n",
       "| 15 | 0.65 | 2 | 3 | 4 |  5 | 153 | 159 | 149 |  3 | 0 | 0 | 0 | 0 | vendas            | 01_menor_igual_media | 1 | (0.51,0.83] |\n",
       "| 16 | 0.74 | 3 | 4 | 5 |  9 | 153 | 156 | 153 |  3 | 0 | 0 | 0 | 0 | vendas            | 02_acima_media       | 0 | (0.51,0.83] |\n",
       "| 17 | 0.98 | 4 | 5 | 5 |  6 | 176 | 179 | 178 |  5 | 0 | 0 | 0 | 1 | marketing/produto | 01_menor_igual_media | 0 | (0.83,1]    |\n",
       "| 18 | 0.75 | 3 | 4 | 5 |  8 | 185 | 184 | 187 |  3 | 0 | 0 | 0 | 1 | marketing/produto | 01_menor_igual_media | 0 | (0.51,0.83] |\n",
       "| 19 | 0.24 | 0 | 2 | 4 |  4 | 150 | 154 | 146 |  3 | 0 | 0 | 0 | 1 | TI/suporte        | 01_menor_igual_media | 0 | [0,0.51]    |\n",
       "| 20 | 0.19 | 3 | 6 | 9 | 10 | 183 | 192 | 189 |  4 | 0 | 0 | 0 | 0 | RH/financeiro     | 01_menor_igual_media | 1 | [0,0.51]    |\n",
       "| 21 | 0.98 | 0 | 4 | 7 |  8 | 158 | 155 | 156 |  1 | 0 | 0 | 0 | 1 | marketing/produto | 01_menor_igual_media | 0 | (0.83,1]    |\n",
       "| 22 | 0.58 | 2 | 2 | 5 |  9 | 163 | 155 | 167 |  3 | 0 | 1 | 0 | 1 | vendas            | 01_menor_igual_media | 0 | (0.51,0.83] |\n",
       "| 23 | 0.23 | 1 | 4 | 5 |  7 | 158 | 159 | 157 |  4 | 0 | 0 | 0 | 0 | marketing/produto | 01_menor_igual_media | 0 | [0,0.51]    |\n",
       "| 24 | 0.38 | 1 | 4 | 7 | 11 | 178 | 178 | 186 |  4 | 0 | 0 | 0 | 1 | dados             | 01_menor_igual_media | 0 | [0,0.51]    |\n",
       "| 25 | 0.38 | 3 | 3 | 3 |  4 | 155 | 156 | 152 |  3 | 0 | 0 | 0 | 1 | marketing/produto | 01_menor_igual_media | 0 | [0,0.51]    |\n",
       "| 26 | 0.92 | 3 | 4 | 4 |  6 | 168 | 159 | 167 |  1 | 0 | 0 | 0 | 1 | dados             | 01_menor_igual_media | 0 | (0.83,1]    |\n",
       "| 27 | 0.14 | 0 | 4 | 4 |  9 | 184 | 190 | 194 |  1 | 0 | 0 | 0 | 1 | TI/suporte        | 01_menor_igual_media | 0 | [0,0.51]    |\n",
       "| 28 | 0.72 | 0 | 3 | 3 |  5 | 150 | 151 | 142 |  3 | 0 | 0 | 0 | 0 | TI/suporte        | 01_menor_igual_media | 0 | (0.51,0.83] |\n",
       "| 29 | 0.17 | 1 | 3 | 4 |  4 | 161 | 164 | 157 |  3 | 0 | 0 | 0 | 1 | TI/suporte        | 02_acima_media       | 0 | [0,0.51]    |\n",
       "| 30 | 0.72 | 0 | 2 | 5 | 10 | 155 | 155 | 154 |  3 | 0 | 0 | 0 | 1 | dados             | 01_menor_igual_media | 0 | (0.51,0.83] |\n",
       "| ⋮ | ⋮ | ⋮ | ⋮ | ⋮ | ⋮ | ⋮ | ⋮ | ⋮ | ⋮ | ⋮ | ⋮ | ⋮ | ⋮ | ⋮ | ⋮ | ⋮ | ⋮ |\n",
       "| 3840 | 0.98 | 0 | 4 | 5 |  6 | 161 | 157 | 163 |  3 | 0 | 0 | 0 | 0 | marketing/produto | 02_acima_media       | 0 | (0.83,1]    |\n",
       "| 3841 | 0.54 | 3 | 4 | 5 |  6 | 181 | 178 | 190 |  5 | 0 | 0 | 0 | 0 | TI/suporte        | 01_menor_igual_media | 0 | (0.51,0.83] |\n",
       "| 3842 | 0.66 | 2 | 2 | 5 |  5 | 154 | 154 | 155 |  3 | 0 | 0 | 0 | 0 | marketing/produto | 01_menor_igual_media | 0 | (0.51,0.83] |\n",
       "| 3843 | 0.93 | 2 | 4 | 5 | 10 | 161 | 158 | 170 |  2 | 0 | 0 | 0 | 1 | RH/financeiro     | 02_acima_media       | 0 | (0.83,1]    |\n",
       "| 3844 | 0.06 | 2 | 7 | 9 | 11 | 211 | 202 | 199 |  4 | 0 | 0 | 0 | 1 | dados             | 01_menor_igual_media | 0 | [0,0.51]    |\n",
       "| 3845 | 0.44 | 0 | 2 | 4 |  7 | 154 | 152 | 153 |  3 | 0 | 0 | 0 | 0 | TI/suporte        | 01_menor_igual_media | 0 | [0,0.51]    |\n",
       "| 3846 | 0.92 | 3 | 5 | 8 | 10 | 189 | 186 | 188 |  5 | 0 | 1 | 0 | 1 | vendas            | 01_menor_igual_media | 0 | (0.83,1]    |\n",
       "| 3847 | 0.68 | 1 | 2 | 2 |  3 | 158 | 155 | 158 |  3 | 0 | 0 | 0 | 1 | vendas            | 01_menor_igual_media | 1 | (0.51,0.83] |\n",
       "| 3848 | 0.48 | 2 | 4 | 4 |  9 | 149 | 150 | 155 |  7 | 0 | 0 | 0 | 0 | vendas            | 01_menor_igual_media | 1 | [0,0.51]    |\n",
       "| 3849 | 0.20 | 1 | 6 | 7 | 10 | 177 | 182 | 176 |  4 | 0 | 0 | 0 | 0 | TI/suporte        | 01_menor_igual_media | 0 | [0,0.51]    |\n",
       "| 3850 | 0.82 | 2 | 4 | 4 |  4 | 176 | 178 | 188 |  1 | 0 | 0 | 0 | 0 | TI/suporte        | 01_menor_igual_media | 0 | (0.51,0.83] |\n",
       "| 3851 | 0.27 | 0 | 5 | 5 |  6 | 188 | 184 | 176 |  5 | 0 | 0 | 0 | 1 | marketing/produto | 01_menor_igual_media | 0 | [0,0.51]    |\n",
       "| 3852 | 0.42 | 2 | 3 | 6 | 11 | 182 | 184 | 179 |  5 | 0 | 0 | 1 | 1 | TI/suporte        | 01_menor_igual_media | 0 | [0,0.51]    |\n",
       "| 3853 | 0.83 | 2 | 3 | 4 |  6 | 161 | 163 | 151 |  3 | 0 | 0 | 0 | 1 | marketing/produto | 01_menor_igual_media | 0 | (0.51,0.83] |\n",
       "| 3854 | 0.96 | 5 | 5 | 5 |  6 | 156 | 158 | 156 |  1 | 0 | 0 | 0 | 1 | vendas            | 01_menor_igual_media | 0 | (0.83,1]    |\n",
       "| 3855 | 0.43 | 2 | 3 | 6 | 11 | 145 | 150 | 160 |  5 | 0 | 0 | 0 | 0 | TI/suporte        | 01_menor_igual_media | 0 | [0,0.51]    |\n",
       "| 3856 | 0.13 | 5 | 5 | 5 |  7 | 163 | 159 | 170 |  7 | 0 | 0 | 0 | 0 | vendas            | 01_menor_igual_media | 0 | [0,0.51]    |\n",
       "| 3857 | 0.77 | 3 | 3 | 6 | 11 | 152 | 158 | 156 |  3 | 0 | 1 | 0 | 1 | TI/suporte        | 01_menor_igual_media | 0 | (0.51,0.83] |\n",
       "| 3858 | 0.42 | 2 | 2 | 2 |  6 | 150 | 153 | 155 | 10 | 0 | 0 | 0 | 0 | marketing/produto | 02_acima_media       | 0 | [0,0.51]    |\n",
       "| 3859 | 0.41 | 5 | 5 | 8 | 11 | 182 | 175 | 176 |  6 | 0 | 0 | 0 | 0 | dados             | 01_menor_igual_media | 0 | [0,0.51]    |\n",
       "| 3860 | 0.86 | 2 | 3 | 6 |  7 | 170 | 167 | 179 |  2 | 0 | 0 | 0 | 1 | marketing/produto | 01_menor_igual_media | 0 | (0.83,1]    |\n",
       "| 3861 | 0.83 | 1 | 3 | 5 |  6 | 176 | 173 | 171 |  1 | 0 | 0 | 0 | 1 | marketing/produto | 01_menor_igual_media | 0 | (0.51,0.83] |\n",
       "| 3862 | 0.92 | 0 | 3 | 5 |  8 | 164 | 159 | 166 |  2 | 0 | 0 | 0 | 0 | marketing/produto | 02_acima_media       | 0 | (0.83,1]    |\n",
       "| 3863 |   NA | 2 | 5 | 7 | 11 | 146 | 160 | 164 |  5 | 0 | 0 | 0 | 1 | vendas            | 02_acima_media       | 0 | Vazio       |\n",
       "| 3864 | 0.49 | 0 | 2 | 4 |  6 | 149 | 155 | 166 |  3 | 0 | 0 | 0 | 1 | TI/suporte        | 01_menor_igual_media | 0 | [0,0.51]    |\n",
       "| 3865 | 0.48 | 4 | 4 | 7 | 11 | 181 | 184 | 187 |  1 | 0 | 0 | 0 | 1 | RH/financeiro     | 01_menor_igual_media | 0 | [0,0.51]    |\n",
       "| 3866 | 0.94 | 3 | 5 | 6 |  6 | 188 | 188 | 198 |  3 | 0 | 0 | 0 | 1 | dados             | 01_menor_igual_media | 0 | (0.83,1]    |\n",
       "| 3867 | 0.01 | 3 | 3 | 6 |  6 | 166 | 158 | 159 |  3 | 0 | 0 | 0 | 0 | TI/suporte        | 01_menor_igual_media | 0 | [0,0.51]    |\n",
       "| 3868 | 0.07 | 5 | 6 | 7 |  7 | 175 | 178 | 168 |  4 | 0 | 0 | 0 | 0 | vendas            | 01_menor_igual_media | 1 | [0,0.51]    |\n",
       "| 3869 | 0.97 | 0 | 3 | 6 |  9 | 151 | 156 | 154 | 10 | 0 | 0 | 0 | 1 | marketing/produto | 02_acima_media       | 0 | (0.83,1]    |\n",
       "\n"
      ],
      "text/plain": [
       "     ID_respondente ult_avaliacao_clima qtde_projetos_3m qtde_projetos_6m qtde_projetos_12m qtde_projetos_24m media_horas_trabalho_3m media_horas_trabalho_6m media_horas_trabalho_12m tempo_empresa\n",
       "1     1             0.92                0                5                7                 10                183                     180                     186                       2           \n",
       "2     2             0.73                3                3                4                  6                158                     159                     154                       4           \n",
       "3     3             0.80                1                3                6                  9                171                     176                     174                       3           \n",
       "4     4             0.66                0                4                7                  9                160                     157                     162                      10           \n",
       "5     5             0.06                3                6                7                  9                202                     192                     182                       5           \n",
       "6     6             0.14                3                3                4                  4                146                     151                     155                       4           \n",
       "7     7             0.99                1                5                5                  6                150                     158                     159                       3           \n",
       "8     8               NA                1                6                8                 11                191                     192                     180                       5           \n",
       "9     9               NA                2                5                7                  9                154                     155                     155                       6           \n",
       "10   10             0.87                1                5                5                  7                162                     159                     159                       3           \n",
       "11   11             0.87                3                3                3                  8                156                     156                     156                       5           \n",
       "12   12             0.37                2                5                6                 10                146                     156                     162                       1           \n",
       "13   13             0.94                1                4                5                  6                152                     158                     146                       3           \n",
       "14   14             0.06                3                4                6                  8                193                     192                     181                       6           \n",
       "15   15             0.65                2                3                4                  5                153                     159                     149                       3           \n",
       "16   16             0.74                3                4                5                  9                153                     156                     153                       3           \n",
       "17   17             0.98                4                5                5                  6                176                     179                     178                       5           \n",
       "18   18             0.75                3                4                5                  8                185                     184                     187                       3           \n",
       "19   19             0.24                0                2                4                  4                150                     154                     146                       3           \n",
       "20   20             0.19                3                6                9                 10                183                     192                     189                       4           \n",
       "21   21             0.98                0                4                7                  8                158                     155                     156                       1           \n",
       "22   22             0.58                2                2                5                  9                163                     155                     167                       3           \n",
       "23   23             0.23                1                4                5                  7                158                     159                     157                       4           \n",
       "24   24             0.38                1                4                7                 11                178                     178                     186                       4           \n",
       "25   25             0.38                3                3                3                  4                155                     156                     152                       3           \n",
       "26   26             0.92                3                4                4                  6                168                     159                     167                       1           \n",
       "27   27             0.14                0                4                4                  9                184                     190                     194                       1           \n",
       "28   28             0.72                0                3                3                  5                150                     151                     142                       3           \n",
       "29   29             0.17                1                3                4                  4                161                     164                     157                       3           \n",
       "30   30             0.72                0                2                5                 10                155                     155                     154                       3           \n",
       "⋮    ⋮              ⋮                   ⋮                ⋮                ⋮                 ⋮                 ⋮                       ⋮                       ⋮                        ⋮            \n",
       "3840 3840           0.98                0                4                5                  6                161                     157                     163                       3           \n",
       "3841 3841           0.54                3                4                5                  6                181                     178                     190                       5           \n",
       "3842 3842           0.66                2                2                5                  5                154                     154                     155                       3           \n",
       "3843 3843           0.93                2                4                5                 10                161                     158                     170                       2           \n",
       "3844 3844           0.06                2                7                9                 11                211                     202                     199                       4           \n",
       "3845 3845           0.44                0                2                4                  7                154                     152                     153                       3           \n",
       "3846 3846           0.92                3                5                8                 10                189                     186                     188                       5           \n",
       "3847 3847           0.68                1                2                2                  3                158                     155                     158                       3           \n",
       "3848 3848           0.48                2                4                4                  9                149                     150                     155                       7           \n",
       "3849 3849           0.20                1                6                7                 10                177                     182                     176                       4           \n",
       "3850 3850           0.82                2                4                4                  4                176                     178                     188                       1           \n",
       "3851 3851           0.27                0                5                5                  6                188                     184                     176                       5           \n",
       "3852 3852           0.42                2                3                6                 11                182                     184                     179                       5           \n",
       "3853 3853           0.83                2                3                4                  6                161                     163                     151                       3           \n",
       "3854 3854           0.96                5                5                5                  6                156                     158                     156                       1           \n",
       "3855 3855           0.43                2                3                6                 11                145                     150                     160                       5           \n",
       "3856 3856           0.13                5                5                5                  7                163                     159                     170                       7           \n",
       "3857 3857           0.77                3                3                6                 11                152                     158                     156                       3           \n",
       "3858 3858           0.42                2                2                2                  6                150                     153                     155                      10           \n",
       "3859 3859           0.41                5                5                8                 11                182                     175                     176                       6           \n",
       "3860 3860           0.86                2                3                6                  7                170                     167                     179                       2           \n",
       "3861 3861           0.83                1                3                5                  6                176                     173                     171                       1           \n",
       "3862 3862           0.92                0                3                5                  8                164                     159                     166                       2           \n",
       "3863 3863             NA                2                5                7                 11                146                     160                     164                       5           \n",
       "3864 3864           0.49                0                2                4                  6                149                     155                     166                       3           \n",
       "3865 3865           0.48                4                4                7                 11                181                     184                     187                       1           \n",
       "3866 3866           0.94                3                5                6                  6                188                     188                     198                       3           \n",
       "3867 3867           0.01                3                3                6                  6                166                     158                     159                       3           \n",
       "3868 3868           0.07                5                6                7                  7                175                     178                     168                       4           \n",
       "3869 3869           0.97                0                3                6                  9                151                     156                     154                      10           \n",
       "     flag_promocao_3m flag_promocao_6m flag_promocao_12m flag_promocao_vida departamento      patamar_salario      turnover ult_avaliacao_clima_cat\n",
       "1    1                0                0                 1                  marketing/produto 01_menor_igual_media 0        (0.83,1]               \n",
       "2    0                0                0                 0                  vendas            02_acima_media       0        (0.51,0.83]            \n",
       "3    0                0                0                 0                  dados             01_menor_igual_media 0        (0.51,0.83]            \n",
       "4    0                0                0                 1                  marketing/produto 01_menor_igual_media 0        (0.51,0.83]            \n",
       "5    0                0                0                 1                  vendas            01_menor_igual_media 0        [0,0.51]               \n",
       "6    0                0                0                 0                  dados             01_menor_igual_media 0        [0,0.51]               \n",
       "7    0                0                0                 0                  vendas            01_menor_igual_media 0        (0.83,1]               \n",
       "8    0                0                0                 0                  dados             01_menor_igual_media 0        Vazio                  \n",
       "9    0                0                0                 1                  marketing/produto 01_menor_igual_media 0        Vazio                  \n",
       "10   0                0                0                 1                  vendas            01_menor_igual_media 0        (0.83,1]               \n",
       "11   0                0                0                 1                  TI/suporte        01_menor_igual_media 0        (0.83,1]               \n",
       "12   0                0                0                 1                  vendas            01_menor_igual_media 1        [0,0.51]               \n",
       "13   0                0                0                 1                  vendas            01_menor_igual_media 0        (0.83,1]               \n",
       "14   0                0                0                 0                  dados             02_acima_media       0        [0,0.51]               \n",
       "15   0                0                0                 0                  vendas            01_menor_igual_media 1        (0.51,0.83]            \n",
       "16   0                0                0                 0                  vendas            02_acima_media       0        (0.51,0.83]            \n",
       "17   0                0                0                 1                  marketing/produto 01_menor_igual_media 0        (0.83,1]               \n",
       "18   0                0                0                 1                  marketing/produto 01_menor_igual_media 0        (0.51,0.83]            \n",
       "19   0                0                0                 1                  TI/suporte        01_menor_igual_media 0        [0,0.51]               \n",
       "20   0                0                0                 0                  RH/financeiro     01_menor_igual_media 1        [0,0.51]               \n",
       "21   0                0                0                 1                  marketing/produto 01_menor_igual_media 0        (0.83,1]               \n",
       "22   0                1                0                 1                  vendas            01_menor_igual_media 0        (0.51,0.83]            \n",
       "23   0                0                0                 0                  marketing/produto 01_menor_igual_media 0        [0,0.51]               \n",
       "24   0                0                0                 1                  dados             01_menor_igual_media 0        [0,0.51]               \n",
       "25   0                0                0                 1                  marketing/produto 01_menor_igual_media 0        [0,0.51]               \n",
       "26   0                0                0                 1                  dados             01_menor_igual_media 0        (0.83,1]               \n",
       "27   0                0                0                 1                  TI/suporte        01_menor_igual_media 0        [0,0.51]               \n",
       "28   0                0                0                 0                  TI/suporte        01_menor_igual_media 0        (0.51,0.83]            \n",
       "29   0                0                0                 1                  TI/suporte        02_acima_media       0        [0,0.51]               \n",
       "30   0                0                0                 1                  dados             01_menor_igual_media 0        (0.51,0.83]            \n",
       "⋮    ⋮                ⋮                ⋮                 ⋮                  ⋮                 ⋮                    ⋮        ⋮                      \n",
       "3840 0                0                0                 0                  marketing/produto 02_acima_media       0        (0.83,1]               \n",
       "3841 0                0                0                 0                  TI/suporte        01_menor_igual_media 0        (0.51,0.83]            \n",
       "3842 0                0                0                 0                  marketing/produto 01_menor_igual_media 0        (0.51,0.83]            \n",
       "3843 0                0                0                 1                  RH/financeiro     02_acima_media       0        (0.83,1]               \n",
       "3844 0                0                0                 1                  dados             01_menor_igual_media 0        [0,0.51]               \n",
       "3845 0                0                0                 0                  TI/suporte        01_menor_igual_media 0        [0,0.51]               \n",
       "3846 0                1                0                 1                  vendas            01_menor_igual_media 0        (0.83,1]               \n",
       "3847 0                0                0                 1                  vendas            01_menor_igual_media 1        (0.51,0.83]            \n",
       "3848 0                0                0                 0                  vendas            01_menor_igual_media 1        [0,0.51]               \n",
       "3849 0                0                0                 0                  TI/suporte        01_menor_igual_media 0        [0,0.51]               \n",
       "3850 0                0                0                 0                  TI/suporte        01_menor_igual_media 0        (0.51,0.83]            \n",
       "3851 0                0                0                 1                  marketing/produto 01_menor_igual_media 0        [0,0.51]               \n",
       "3852 0                0                1                 1                  TI/suporte        01_menor_igual_media 0        [0,0.51]               \n",
       "3853 0                0                0                 1                  marketing/produto 01_menor_igual_media 0        (0.51,0.83]            \n",
       "3854 0                0                0                 1                  vendas            01_menor_igual_media 0        (0.83,1]               \n",
       "3855 0                0                0                 0                  TI/suporte        01_menor_igual_media 0        [0,0.51]               \n",
       "3856 0                0                0                 0                  vendas            01_menor_igual_media 0        [0,0.51]               \n",
       "3857 0                1                0                 1                  TI/suporte        01_menor_igual_media 0        (0.51,0.83]            \n",
       "3858 0                0                0                 0                  marketing/produto 02_acima_media       0        [0,0.51]               \n",
       "3859 0                0                0                 0                  dados             01_menor_igual_media 0        [0,0.51]               \n",
       "3860 0                0                0                 1                  marketing/produto 01_menor_igual_media 0        (0.83,1]               \n",
       "3861 0                0                0                 1                  marketing/produto 01_menor_igual_media 0        (0.51,0.83]            \n",
       "3862 0                0                0                 0                  marketing/produto 02_acima_media       0        (0.83,1]               \n",
       "3863 0                0                0                 1                  vendas            02_acima_media       0        Vazio                  \n",
       "3864 0                0                0                 1                  TI/suporte        01_menor_igual_media 0        [0,0.51]               \n",
       "3865 0                0                0                 1                  RH/financeiro     01_menor_igual_media 0        [0,0.51]               \n",
       "3866 0                0                0                 1                  dados             01_menor_igual_media 0        (0.83,1]               \n",
       "3867 0                0                0                 0                  TI/suporte        01_menor_igual_media 0        [0,0.51]               \n",
       "3868 0                0                0                 0                  vendas            01_menor_igual_media 1        [0,0.51]               \n",
       "3869 0                0                0                 1                  marketing/produto 02_acima_media       0        (0.83,1]               "
      ]
     },
     "metadata": {},
     "output_type": "display_data"
    }
   ],
   "source": [
    "View(dados_turnover_jan)"
   ]
  },
  {
   "cell_type": "markdown",
   "metadata": {
    "id": "hvZQdAvYJn80"
   },
   "source": [
    "### Separação de conjuntos de treino e teste"
   ]
  },
  {
   "cell_type": "code",
   "execution_count": 16,
   "metadata": {},
   "outputs": [],
   "source": [
    "# Aletorizando a ordem das linhas da base\n",
    "set.seed(12345)\n",
    "dados_turnover_jan = sample_n(dados_turnover_jan, size = nrow(dados_turnover_jan))\n",
    "# Definindo tamanho do conjunto de treino\n",
    "tamanho_treino <- floor(nrow(dados_turnover_jan) * 0.7)\n",
    "# Separando os conjuntos de treino e teste\n",
    "dados_turnover_treino <- dados_turnover_jan[1:tamanho_treino,]\n",
    "dados_turnover_teste  <- dados_turnover_jan[(tamanho_treino+1):nrow(dados_turnover_jan),]"
   ]
  },
  {
   "cell_type": "code",
   "execution_count": 17,
   "metadata": {
    "id": "lg03z-MAv53B"
   },
   "outputs": [],
   "source": [
    "# Aletorizando a ordem das linhas da base\n",
    "set.seed(12345)\n",
    "dados_turnover_jan = sample_n(dados_turnover_jan, size = nrow(dados_turnover_jan))"
   ]
  },
  {
   "cell_type": "code",
   "execution_count": 18,
   "metadata": {
    "id": "YugAaIaWxki8"
   },
   "outputs": [],
   "source": [
    "# Definindo tamanho do conjunto de treino\n",
    "tamanho_treino <- floor(nrow(dados_turnover_jan) * 0.7)"
   ]
  },
  {
   "cell_type": "code",
   "execution_count": 19,
   "metadata": {
    "id": "UDz8lfptvcag"
   },
   "outputs": [],
   "source": [
    "# Separando os conjuntos de treino e teste\n",
    "dados_turnover_treino <- dados_turnover_jan[1:tamanho_treino,]\n",
    "dados_turnover_teste  <- dados_turnover_jan[(tamanho_treino+1):nrow(dados_turnover_jan),]"
   ]
  },
  {
   "cell_type": "code",
   "execution_count": 20,
   "metadata": {
    "scrolled": true
   },
   "outputs": [
    {
     "data": {
      "text/html": [
       "<table class=\"dataframe\">\n",
       "<caption>A data.frame: 2708 × 18</caption>\n",
       "<thead>\n",
       "\t<tr><th></th><th scope=col>ID_respondente</th><th scope=col>ult_avaliacao_clima</th><th scope=col>qtde_projetos_3m</th><th scope=col>qtde_projetos_6m</th><th scope=col>qtde_projetos_12m</th><th scope=col>qtde_projetos_24m</th><th scope=col>media_horas_trabalho_3m</th><th scope=col>media_horas_trabalho_6m</th><th scope=col>media_horas_trabalho_12m</th><th scope=col>tempo_empresa</th><th scope=col>flag_promocao_3m</th><th scope=col>flag_promocao_6m</th><th scope=col>flag_promocao_12m</th><th scope=col>flag_promocao_vida</th><th scope=col>departamento</th><th scope=col>patamar_salario</th><th scope=col>turnover</th><th scope=col>ult_avaliacao_clima_cat</th></tr>\n",
       "\t<tr><th></th><th scope=col>&lt;int&gt;</th><th scope=col>&lt;dbl&gt;</th><th scope=col>&lt;int&gt;</th><th scope=col>&lt;int&gt;</th><th scope=col>&lt;int&gt;</th><th scope=col>&lt;int&gt;</th><th scope=col>&lt;int&gt;</th><th scope=col>&lt;int&gt;</th><th scope=col>&lt;int&gt;</th><th scope=col>&lt;int&gt;</th><th scope=col>&lt;int&gt;</th><th scope=col>&lt;int&gt;</th><th scope=col>&lt;int&gt;</th><th scope=col>&lt;int&gt;</th><th scope=col>&lt;chr&gt;</th><th scope=col>&lt;chr&gt;</th><th scope=col>&lt;int&gt;</th><th scope=col>&lt;fct&gt;</th></tr>\n",
       "</thead>\n",
       "<tbody>\n",
       "\t<tr><th scope=row>1</th><td>2541</td><td>0.94</td><td>3</td><td>4</td><td>4</td><td> 5</td><td>183</td><td>183</td><td>175</td><td>3</td><td>0</td><td>0</td><td>0</td><td>0</td><td>dados            </td><td>01_menor_igual_media</td><td>0</td><td>(0.83,1]   </td></tr>\n",
       "\t<tr><th scope=row>2</th><td> 971</td><td>0.58</td><td>1</td><td>2</td><td>2</td><td> 7</td><td>155</td><td>155</td><td>149</td><td>3</td><td>0</td><td>0</td><td>0</td><td>0</td><td>vendas           </td><td>01_menor_igual_media</td><td>0</td><td>(0.51,0.83]</td></tr>\n",
       "\t<tr><th scope=row>3</th><td> 903</td><td>0.70</td><td>2</td><td>3</td><td>3</td><td> 4</td><td>155</td><td>158</td><td>158</td><td>2</td><td>0</td><td>0</td><td>0</td><td>0</td><td>vendas           </td><td>01_menor_igual_media</td><td>1</td><td>(0.51,0.83]</td></tr>\n",
       "\t<tr><th scope=row>4</th><td>2750</td><td>0.62</td><td>2</td><td>4</td><td>4</td><td> 8</td><td>156</td><td>158</td><td>156</td><td>4</td><td>0</td><td>0</td><td>0</td><td>0</td><td>dados            </td><td>01_menor_igual_media</td><td>0</td><td>(0.51,0.83]</td></tr>\n",
       "\t<tr><th scope=row>5</th><td>2931</td><td>0.90</td><td>0</td><td>4</td><td>6</td><td> 8</td><td>147</td><td>157</td><td>160</td><td>2</td><td>0</td><td>0</td><td>0</td><td>0</td><td>vendas           </td><td>02_acima_media      </td><td>0</td><td>(0.83,1]   </td></tr>\n",
       "\t<tr><th scope=row>6</th><td> 780</td><td>0.68</td><td>2</td><td>3</td><td>5</td><td> 9</td><td>158</td><td>155</td><td>151</td><td>2</td><td>0</td><td>0</td><td>0</td><td>0</td><td>TI/suporte       </td><td>01_menor_igual_media</td><td>0</td><td>(0.51,0.83]</td></tr>\n",
       "\t<tr><th scope=row>7</th><td>1037</td><td>0.50</td><td>3</td><td>4</td><td>4</td><td> 5</td><td>158</td><td>158</td><td>167</td><td>3</td><td>0</td><td>0</td><td>1</td><td>1</td><td>dados            </td><td>01_menor_igual_media</td><td>0</td><td>[0,0.51]   </td></tr>\n",
       "\t<tr><th scope=row>8</th><td> 739</td><td>  NA</td><td>0</td><td>3</td><td>3</td><td> 6</td><td>152</td><td>155</td><td>168</td><td>3</td><td>0</td><td>0</td><td>0</td><td>0</td><td>TI/suporte       </td><td>01_menor_igual_media</td><td>0</td><td>Vazio      </td></tr>\n",
       "\t<tr><th scope=row>9</th><td>3509</td><td>0.05</td><td>1</td><td>5</td><td>5</td><td> 6</td><td>153</td><td>163</td><td>163</td><td>6</td><td>0</td><td>0</td><td>0</td><td>1</td><td>dados            </td><td>01_menor_igual_media</td><td>0</td><td>[0,0.51]   </td></tr>\n",
       "\t<tr><th scope=row>10</th><td>3634</td><td>0.09</td><td>1</td><td>5</td><td>6</td><td> 8</td><td>150</td><td>150</td><td>159</td><td>2</td><td>0</td><td>0</td><td>0</td><td>0</td><td>TI/suporte       </td><td>02_acima_media      </td><td>0</td><td>[0,0.51]   </td></tr>\n",
       "\t<tr><th scope=row>11</th><td>2258</td><td>  NA</td><td>0</td><td>5</td><td>7</td><td> 9</td><td>184</td><td>183</td><td>178</td><td>4</td><td>0</td><td>0</td><td>0</td><td>1</td><td>dados            </td><td>02_acima_media      </td><td>0</td><td>Vazio      </td></tr>\n",
       "\t<tr><th scope=row>12</th><td>2718</td><td>0.83</td><td>3</td><td>5</td><td>6</td><td> 6</td><td>186</td><td>178</td><td>189</td><td>3</td><td>0</td><td>0</td><td>0</td><td>1</td><td>marketing/produto</td><td>01_menor_igual_media</td><td>0</td><td>(0.51,0.83]</td></tr>\n",
       "\t<tr><th scope=row>13</th><td>2325</td><td>0.65</td><td>0</td><td>2</td><td>5</td><td> 5</td><td>149</td><td>154</td><td>154</td><td>3</td><td>0</td><td>0</td><td>0</td><td>1</td><td>marketing/produto</td><td>01_menor_igual_media</td><td>1</td><td>(0.51,0.83]</td></tr>\n",
       "\t<tr><th scope=row>14</th><td> 675</td><td>0.20</td><td>6</td><td>6</td><td>9</td><td>11</td><td>167</td><td>170</td><td>173</td><td>6</td><td>0</td><td>0</td><td>0</td><td>1</td><td>marketing/produto</td><td>01_menor_igual_media</td><td>0</td><td>[0,0.51]   </td></tr>\n",
       "\t<tr><th scope=row>15</th><td>2388</td><td>0.25</td><td>4</td><td>6</td><td>9</td><td>12</td><td>151</td><td>154</td><td>152</td><td>4</td><td>0</td><td>0</td><td>0</td><td>0</td><td>dados            </td><td>01_menor_igual_media</td><td>0</td><td>[0,0.51]   </td></tr>\n",
       "\t<tr><th scope=row>16</th><td>2568</td><td>0.74</td><td>1</td><td>5</td><td>7</td><td>11</td><td>177</td><td>184</td><td>177</td><td>3</td><td>0</td><td>0</td><td>0</td><td>0</td><td>TI/suporte       </td><td>01_menor_igual_media</td><td>0</td><td>(0.51,0.83]</td></tr>\n",
       "\t<tr><th scope=row>17</th><td>2531</td><td>0.68</td><td>0</td><td>3</td><td>4</td><td> 7</td><td>145</td><td>154</td><td>154</td><td>8</td><td>1</td><td>0</td><td>0</td><td>1</td><td>RH/financeiro    </td><td>01_menor_igual_media</td><td>0</td><td>(0.51,0.83]</td></tr>\n",
       "\t<tr><th scope=row>18</th><td>2254</td><td>0.98</td><td>1</td><td>2</td><td>3</td><td> 3</td><td>185</td><td>184</td><td>191</td><td>3</td><td>0</td><td>0</td><td>0</td><td>1</td><td>TI/suporte       </td><td>01_menor_igual_media</td><td>1</td><td>(0.83,1]   </td></tr>\n",
       "\t<tr><th scope=row>19</th><td>2201</td><td>0.28</td><td>0</td><td>4</td><td>5</td><td> 6</td><td>186</td><td>184</td><td>173</td><td>2</td><td>0</td><td>0</td><td>0</td><td>1</td><td>dados            </td><td>01_menor_igual_media</td><td>0</td><td>[0,0.51]   </td></tr>\n",
       "\t<tr><th scope=row>20</th><td>2907</td><td>0.82</td><td>0</td><td>4</td><td>7</td><td>11</td><td>151</td><td>154</td><td>152</td><td>1</td><td>0</td><td>0</td><td>0</td><td>0</td><td>dados            </td><td>01_menor_igual_media</td><td>0</td><td>(0.51,0.83]</td></tr>\n",
       "\t<tr><th scope=row>21</th><td>2810</td><td>0.95</td><td>2</td><td>4</td><td>5</td><td>10</td><td>165</td><td>158</td><td>167</td><td>3</td><td>0</td><td>0</td><td>0</td><td>1</td><td>vendas           </td><td>01_menor_igual_media</td><td>0</td><td>(0.83,1]   </td></tr>\n",
       "\t<tr><th scope=row>22</th><td>1371</td><td>0.53</td><td>1</td><td>4</td><td>6</td><td>10</td><td>189</td><td>186</td><td>186</td><td>3</td><td>0</td><td>0</td><td>0</td><td>0</td><td>TI/suporte       </td><td>01_menor_igual_media</td><td>0</td><td>(0.51,0.83]</td></tr>\n",
       "\t<tr><th scope=row>23</th><td>  43</td><td>  NA</td><td>3</td><td>3</td><td>5</td><td> 7</td><td>152</td><td>156</td><td>155</td><td>4</td><td>0</td><td>0</td><td>0</td><td>1</td><td>TI/suporte       </td><td>01_menor_igual_media</td><td>0</td><td>Vazio      </td></tr>\n",
       "\t<tr><th scope=row>24</th><td>1899</td><td>0.92</td><td>2</td><td>6</td><td>8</td><td>13</td><td>148</td><td>150</td><td>149</td><td>6</td><td>0</td><td>0</td><td>0</td><td>0</td><td>marketing/produto</td><td>02_acima_media      </td><td>0</td><td>(0.83,1]   </td></tr>\n",
       "\t<tr><th scope=row>25</th><td>1923</td><td>0.98</td><td>4</td><td>4</td><td>4</td><td> 9</td><td>170</td><td>171</td><td>160</td><td>5</td><td>0</td><td>0</td><td>0</td><td>0</td><td>marketing/produto</td><td>01_menor_igual_media</td><td>0</td><td>(0.83,1]   </td></tr>\n",
       "\t<tr><th scope=row>26</th><td>1033</td><td>0.98</td><td>1</td><td>5</td><td>6</td><td> 7</td><td>182</td><td>184</td><td>183</td><td>3</td><td>0</td><td>0</td><td>0</td><td>1</td><td>TI/suporte       </td><td>01_menor_igual_media</td><td>0</td><td>(0.83,1]   </td></tr>\n",
       "\t<tr><th scope=row>27</th><td>3568</td><td>0.96</td><td>4</td><td>4</td><td>5</td><td> 9</td><td>173</td><td>164</td><td>165</td><td>4</td><td>0</td><td>0</td><td>1</td><td>1</td><td>vendas           </td><td>01_menor_igual_media</td><td>0</td><td>(0.83,1]   </td></tr>\n",
       "\t<tr><th scope=row>28</th><td> 325</td><td>0.97</td><td>1</td><td>3</td><td>3</td><td> 4</td><td>187</td><td>181</td><td>170</td><td>1</td><td>0</td><td>0</td><td>0</td><td>0</td><td>marketing/produto</td><td>02_acima_media      </td><td>1</td><td>(0.83,1]   </td></tr>\n",
       "\t<tr><th scope=row>29</th><td> 948</td><td>0.99</td><td>1</td><td>3</td><td>4</td><td> 4</td><td>144</td><td>154</td><td>157</td><td>1</td><td>0</td><td>0</td><td>0</td><td>1</td><td>TI/suporte       </td><td>01_menor_igual_media</td><td>1</td><td>(0.83,1]   </td></tr>\n",
       "\t<tr><th scope=row>30</th><td> 760</td><td>0.99</td><td>1</td><td>5</td><td>7</td><td>12</td><td>174</td><td>172</td><td>173</td><td>1</td><td>0</td><td>0</td><td>0</td><td>1</td><td>vendas           </td><td>01_menor_igual_media</td><td>1</td><td>(0.83,1]   </td></tr>\n",
       "\t<tr><th scope=row>⋮</th><td>⋮</td><td>⋮</td><td>⋮</td><td>⋮</td><td>⋮</td><td>⋮</td><td>⋮</td><td>⋮</td><td>⋮</td><td>⋮</td><td>⋮</td><td>⋮</td><td>⋮</td><td>⋮</td><td>⋮</td><td>⋮</td><td>⋮</td><td>⋮</td></tr>\n",
       "\t<tr><th scope=row>2679</th><td>1368</td><td>0.80</td><td>1</td><td>4</td><td>7</td><td>11</td><td>145</td><td>155</td><td>153</td><td>1</td><td>0</td><td>0</td><td>0</td><td>1</td><td>marketing/produto</td><td>01_menor_igual_media</td><td>0</td><td>(0.51,0.83]</td></tr>\n",
       "\t<tr><th scope=row>2680</th><td>2499</td><td>  NA</td><td>3</td><td>6</td><td>6</td><td> 7</td><td>165</td><td>176</td><td>172</td><td>6</td><td>0</td><td>0</td><td>0</td><td>1</td><td>dados            </td><td>01_menor_igual_media</td><td>0</td><td>Vazio      </td></tr>\n",
       "\t<tr><th scope=row>2681</th><td> 429</td><td>0.97</td><td>2</td><td>4</td><td>7</td><td>11</td><td>143</td><td>153</td><td>151</td><td>2</td><td>0</td><td>0</td><td>0</td><td>0</td><td>TI/suporte       </td><td>01_menor_igual_media</td><td>0</td><td>(0.83,1]   </td></tr>\n",
       "\t<tr><th scope=row>2682</th><td> 420</td><td>0.94</td><td>2</td><td>2</td><td>4</td><td> 7</td><td>161</td><td>164</td><td>168</td><td>3</td><td>0</td><td>0</td><td>0</td><td>0</td><td>vendas           </td><td>01_menor_igual_media</td><td>0</td><td>(0.83,1]   </td></tr>\n",
       "\t<tr><th scope=row>2683</th><td>1108</td><td>0.94</td><td>3</td><td>4</td><td>5</td><td>10</td><td>190</td><td>188</td><td>178</td><td>4</td><td>1</td><td>0</td><td>0</td><td>1</td><td>vendas           </td><td>01_menor_igual_media</td><td>0</td><td>(0.83,1]   </td></tr>\n",
       "\t<tr><th scope=row>2684</th><td> 737</td><td>0.60</td><td>1</td><td>3</td><td>4</td><td> 7</td><td>152</td><td>155</td><td>152</td><td>2</td><td>0</td><td>0</td><td>0</td><td>0</td><td>dados            </td><td>01_menor_igual_media</td><td>0</td><td>(0.51,0.83]</td></tr>\n",
       "\t<tr><th scope=row>2685</th><td>2335</td><td>0.29</td><td>0</td><td>3</td><td>5</td><td> 5</td><td>149</td><td>154</td><td>164</td><td>6</td><td>0</td><td>0</td><td>0</td><td>1</td><td>vendas           </td><td>01_menor_igual_media</td><td>0</td><td>[0,0.51]   </td></tr>\n",
       "\t<tr><th scope=row>2686</th><td>1992</td><td>0.90</td><td>1</td><td>3</td><td>3</td><td> 8</td><td>163</td><td>164</td><td>161</td><td>3</td><td>0</td><td>0</td><td>0</td><td>1</td><td>dados            </td><td>01_menor_igual_media</td><td>0</td><td>(0.83,1]   </td></tr>\n",
       "\t<tr><th scope=row>2687</th><td> 188</td><td>0.90</td><td>1</td><td>4</td><td>5</td><td> 5</td><td>150</td><td>160</td><td>162</td><td>3</td><td>0</td><td>0</td><td>0</td><td>0</td><td>dados            </td><td>01_menor_igual_media</td><td>0</td><td>(0.83,1]   </td></tr>\n",
       "\t<tr><th scope=row>2688</th><td>3544</td><td>0.80</td><td>4</td><td>4</td><td>4</td><td> 8</td><td>173</td><td>173</td><td>173</td><td>4</td><td>0</td><td>0</td><td>0</td><td>0</td><td>dados            </td><td>02_acima_media      </td><td>0</td><td>(0.51,0.83]</td></tr>\n",
       "\t<tr><th scope=row>2689</th><td>3110</td><td>0.48</td><td>2</td><td>3</td><td>3</td><td> 5</td><td>156</td><td>156</td><td>150</td><td>4</td><td>0</td><td>0</td><td>0</td><td>1</td><td>dados            </td><td>02_acima_media      </td><td>0</td><td>[0,0.51]   </td></tr>\n",
       "\t<tr><th scope=row>2690</th><td> 949</td><td>0.09</td><td>1</td><td>6</td><td>7</td><td>12</td><td>172</td><td>182</td><td>185</td><td>4</td><td>0</td><td>0</td><td>0</td><td>0</td><td>RH/financeiro    </td><td>01_menor_igual_media</td><td>0</td><td>[0,0.51]   </td></tr>\n",
       "\t<tr><th scope=row>2691</th><td>2075</td><td>0.57</td><td>1</td><td>5</td><td>6</td><td> 7</td><td>176</td><td>178</td><td>175</td><td>3</td><td>0</td><td>0</td><td>0</td><td>1</td><td>TI/suporte       </td><td>01_menor_igual_media</td><td>0</td><td>(0.51,0.83]</td></tr>\n",
       "\t<tr><th scope=row>2692</th><td>2601</td><td>0.95</td><td>2</td><td>4</td><td>5</td><td> 6</td><td>180</td><td>174</td><td>164</td><td>3</td><td>0</td><td>0</td><td>1</td><td>1</td><td>TI/suporte       </td><td>01_menor_igual_media</td><td>0</td><td>(0.83,1]   </td></tr>\n",
       "\t<tr><th scope=row>2693</th><td>1449</td><td>0.20</td><td>1</td><td>3</td><td>5</td><td> 5</td><td>145</td><td>153</td><td>163</td><td>1</td><td>0</td><td>0</td><td>0</td><td>0</td><td>TI/suporte       </td><td>02_acima_media      </td><td>0</td><td>[0,0.51]   </td></tr>\n",
       "\t<tr><th scope=row>2694</th><td>1026</td><td>0.89</td><td>1</td><td>4</td><td>6</td><td> 9</td><td>169</td><td>172</td><td>173</td><td>5</td><td>0</td><td>0</td><td>0</td><td>1</td><td>dados            </td><td>01_menor_igual_media</td><td>0</td><td>(0.83,1]   </td></tr>\n",
       "\t<tr><th scope=row>2695</th><td> 428</td><td>0.26</td><td>2</td><td>5</td><td>8</td><td>11</td><td>188</td><td>178</td><td>184</td><td>5</td><td>0</td><td>0</td><td>0</td><td>1</td><td>dados            </td><td>01_menor_igual_media</td><td>0</td><td>[0,0.51]   </td></tr>\n",
       "\t<tr><th scope=row>2696</th><td>2882</td><td>0.78</td><td>1</td><td>3</td><td>4</td><td> 6</td><td>182</td><td>181</td><td>183</td><td>4</td><td>0</td><td>0</td><td>0</td><td>0</td><td>dados            </td><td>01_menor_igual_media</td><td>0</td><td>(0.51,0.83]</td></tr>\n",
       "\t<tr><th scope=row>2697</th><td>2613</td><td>0.94</td><td>3</td><td>3</td><td>5</td><td>10</td><td>157</td><td>162</td><td>164</td><td>3</td><td>0</td><td>0</td><td>0</td><td>1</td><td>vendas           </td><td>01_menor_igual_media</td><td>1</td><td>(0.83,1]   </td></tr>\n",
       "\t<tr><th scope=row>2698</th><td>3244</td><td>0.87</td><td>5</td><td>5</td><td>6</td><td>10</td><td>168</td><td>166</td><td>167</td><td>6</td><td>0</td><td>0</td><td>0</td><td>0</td><td>marketing/produto</td><td>01_menor_igual_media</td><td>0</td><td>(0.83,1]   </td></tr>\n",
       "\t<tr><th scope=row>2699</th><td>3166</td><td>0.02</td><td>2</td><td>2</td><td>4</td><td> 9</td><td>148</td><td>153</td><td>153</td><td>3</td><td>0</td><td>0</td><td>0</td><td>1</td><td>TI/suporte       </td><td>01_menor_igual_media</td><td>0</td><td>[0,0.51]   </td></tr>\n",
       "\t<tr><th scope=row>2700</th><td>2348</td><td>0.88</td><td>0</td><td>4</td><td>6</td><td>11</td><td>154</td><td>156</td><td>154</td><td>2</td><td>0</td><td>0</td><td>0</td><td>0</td><td>RH/financeiro    </td><td>01_menor_igual_media</td><td>0</td><td>(0.83,1]   </td></tr>\n",
       "\t<tr><th scope=row>2701</th><td>3137</td><td>0.47</td><td>1</td><td>6</td><td>8</td><td>10</td><td>186</td><td>181</td><td>188</td><td>4</td><td>0</td><td>0</td><td>0</td><td>0</td><td>dados            </td><td>02_acima_media      </td><td>0</td><td>[0,0.51]   </td></tr>\n",
       "\t<tr><th scope=row>2702</th><td>1868</td><td>0.31</td><td>0</td><td>2</td><td>3</td><td> 7</td><td>159</td><td>156</td><td>159</td><td>3</td><td>0</td><td>0</td><td>0</td><td>0</td><td>TI/suporte       </td><td>01_menor_igual_media</td><td>0</td><td>[0,0.51]   </td></tr>\n",
       "\t<tr><th scope=row>2703</th><td>1582</td><td>0.75</td><td>2</td><td>5</td><td>5</td><td> 6</td><td>174</td><td>175</td><td>167</td><td>3</td><td>0</td><td>0</td><td>0</td><td>0</td><td>marketing/produto</td><td>02_acima_media      </td><td>0</td><td>(0.51,0.83]</td></tr>\n",
       "\t<tr><th scope=row>2704</th><td> 179</td><td>0.49</td><td>1</td><td>5</td><td>7</td><td>12</td><td>189</td><td>184</td><td>174</td><td>2</td><td>0</td><td>0</td><td>0</td><td>1</td><td>vendas           </td><td>02_acima_media      </td><td>0</td><td>[0,0.51]   </td></tr>\n",
       "\t<tr><th scope=row>2705</th><td>1398</td><td>0.87</td><td>4</td><td>4</td><td>7</td><td> 8</td><td>154</td><td>155</td><td>167</td><td>3</td><td>0</td><td>0</td><td>0</td><td>0</td><td>marketing/produto</td><td>02_acima_media      </td><td>0</td><td>(0.83,1]   </td></tr>\n",
       "\t<tr><th scope=row>2706</th><td>3698</td><td>0.97</td><td>3</td><td>4</td><td>5</td><td> 5</td><td>196</td><td>193</td><td>195</td><td>7</td><td>0</td><td>0</td><td>0</td><td>1</td><td>vendas           </td><td>02_acima_media      </td><td>0</td><td>(0.83,1]   </td></tr>\n",
       "\t<tr><th scope=row>2707</th><td>1753</td><td>0.45</td><td>0</td><td>4</td><td>5</td><td> 7</td><td>167</td><td>166</td><td>154</td><td>1</td><td>0</td><td>0</td><td>0</td><td>1</td><td>marketing/produto</td><td>01_menor_igual_media</td><td>0</td><td>[0,0.51]   </td></tr>\n",
       "\t<tr><th scope=row>2708</th><td> 175</td><td>0.69</td><td>3</td><td>4</td><td>6</td><td>11</td><td>179</td><td>169</td><td>171</td><td>3</td><td>0</td><td>0</td><td>0</td><td>1</td><td>vendas           </td><td>01_menor_igual_media</td><td>0</td><td>(0.51,0.83]</td></tr>\n",
       "</tbody>\n",
       "</table>\n"
      ],
      "text/latex": [
       "A data.frame: 2708 × 18\n",
       "\\begin{tabular}{r|llllllllllllllllll}\n",
       "  & ID\\_respondente & ult\\_avaliacao\\_clima & qtde\\_projetos\\_3m & qtde\\_projetos\\_6m & qtde\\_projetos\\_12m & qtde\\_projetos\\_24m & media\\_horas\\_trabalho\\_3m & media\\_horas\\_trabalho\\_6m & media\\_horas\\_trabalho\\_12m & tempo\\_empresa & flag\\_promocao\\_3m & flag\\_promocao\\_6m & flag\\_promocao\\_12m & flag\\_promocao\\_vida & departamento & patamar\\_salario & turnover & ult\\_avaliacao\\_clima\\_cat\\\\\n",
       "  & <int> & <dbl> & <int> & <int> & <int> & <int> & <int> & <int> & <int> & <int> & <int> & <int> & <int> & <int> & <chr> & <chr> & <int> & <fct>\\\\\n",
       "\\hline\n",
       "\t1 & 2541 & 0.94 & 3 & 4 & 4 &  5 & 183 & 183 & 175 & 3 & 0 & 0 & 0 & 0 & dados             & 01\\_menor\\_igual\\_media & 0 & (0.83,1{]}   \\\\\n",
       "\t2 &  971 & 0.58 & 1 & 2 & 2 &  7 & 155 & 155 & 149 & 3 & 0 & 0 & 0 & 0 & vendas            & 01\\_menor\\_igual\\_media & 0 & (0.51,0.83{]}\\\\\n",
       "\t3 &  903 & 0.70 & 2 & 3 & 3 &  4 & 155 & 158 & 158 & 2 & 0 & 0 & 0 & 0 & vendas            & 01\\_menor\\_igual\\_media & 1 & (0.51,0.83{]}\\\\\n",
       "\t4 & 2750 & 0.62 & 2 & 4 & 4 &  8 & 156 & 158 & 156 & 4 & 0 & 0 & 0 & 0 & dados             & 01\\_menor\\_igual\\_media & 0 & (0.51,0.83{]}\\\\\n",
       "\t5 & 2931 & 0.90 & 0 & 4 & 6 &  8 & 147 & 157 & 160 & 2 & 0 & 0 & 0 & 0 & vendas            & 02\\_acima\\_media       & 0 & (0.83,1{]}   \\\\\n",
       "\t6 &  780 & 0.68 & 2 & 3 & 5 &  9 & 158 & 155 & 151 & 2 & 0 & 0 & 0 & 0 & TI/suporte        & 01\\_menor\\_igual\\_media & 0 & (0.51,0.83{]}\\\\\n",
       "\t7 & 1037 & 0.50 & 3 & 4 & 4 &  5 & 158 & 158 & 167 & 3 & 0 & 0 & 1 & 1 & dados             & 01\\_menor\\_igual\\_media & 0 & {[}0,0.51{]}   \\\\\n",
       "\t8 &  739 &   NA & 0 & 3 & 3 &  6 & 152 & 155 & 168 & 3 & 0 & 0 & 0 & 0 & TI/suporte        & 01\\_menor\\_igual\\_media & 0 & Vazio      \\\\\n",
       "\t9 & 3509 & 0.05 & 1 & 5 & 5 &  6 & 153 & 163 & 163 & 6 & 0 & 0 & 0 & 1 & dados             & 01\\_menor\\_igual\\_media & 0 & {[}0,0.51{]}   \\\\\n",
       "\t10 & 3634 & 0.09 & 1 & 5 & 6 &  8 & 150 & 150 & 159 & 2 & 0 & 0 & 0 & 0 & TI/suporte        & 02\\_acima\\_media       & 0 & {[}0,0.51{]}   \\\\\n",
       "\t11 & 2258 &   NA & 0 & 5 & 7 &  9 & 184 & 183 & 178 & 4 & 0 & 0 & 0 & 1 & dados             & 02\\_acima\\_media       & 0 & Vazio      \\\\\n",
       "\t12 & 2718 & 0.83 & 3 & 5 & 6 &  6 & 186 & 178 & 189 & 3 & 0 & 0 & 0 & 1 & marketing/produto & 01\\_menor\\_igual\\_media & 0 & (0.51,0.83{]}\\\\\n",
       "\t13 & 2325 & 0.65 & 0 & 2 & 5 &  5 & 149 & 154 & 154 & 3 & 0 & 0 & 0 & 1 & marketing/produto & 01\\_menor\\_igual\\_media & 1 & (0.51,0.83{]}\\\\\n",
       "\t14 &  675 & 0.20 & 6 & 6 & 9 & 11 & 167 & 170 & 173 & 6 & 0 & 0 & 0 & 1 & marketing/produto & 01\\_menor\\_igual\\_media & 0 & {[}0,0.51{]}   \\\\\n",
       "\t15 & 2388 & 0.25 & 4 & 6 & 9 & 12 & 151 & 154 & 152 & 4 & 0 & 0 & 0 & 0 & dados             & 01\\_menor\\_igual\\_media & 0 & {[}0,0.51{]}   \\\\\n",
       "\t16 & 2568 & 0.74 & 1 & 5 & 7 & 11 & 177 & 184 & 177 & 3 & 0 & 0 & 0 & 0 & TI/suporte        & 01\\_menor\\_igual\\_media & 0 & (0.51,0.83{]}\\\\\n",
       "\t17 & 2531 & 0.68 & 0 & 3 & 4 &  7 & 145 & 154 & 154 & 8 & 1 & 0 & 0 & 1 & RH/financeiro     & 01\\_menor\\_igual\\_media & 0 & (0.51,0.83{]}\\\\\n",
       "\t18 & 2254 & 0.98 & 1 & 2 & 3 &  3 & 185 & 184 & 191 & 3 & 0 & 0 & 0 & 1 & TI/suporte        & 01\\_menor\\_igual\\_media & 1 & (0.83,1{]}   \\\\\n",
       "\t19 & 2201 & 0.28 & 0 & 4 & 5 &  6 & 186 & 184 & 173 & 2 & 0 & 0 & 0 & 1 & dados             & 01\\_menor\\_igual\\_media & 0 & {[}0,0.51{]}   \\\\\n",
       "\t20 & 2907 & 0.82 & 0 & 4 & 7 & 11 & 151 & 154 & 152 & 1 & 0 & 0 & 0 & 0 & dados             & 01\\_menor\\_igual\\_media & 0 & (0.51,0.83{]}\\\\\n",
       "\t21 & 2810 & 0.95 & 2 & 4 & 5 & 10 & 165 & 158 & 167 & 3 & 0 & 0 & 0 & 1 & vendas            & 01\\_menor\\_igual\\_media & 0 & (0.83,1{]}   \\\\\n",
       "\t22 & 1371 & 0.53 & 1 & 4 & 6 & 10 & 189 & 186 & 186 & 3 & 0 & 0 & 0 & 0 & TI/suporte        & 01\\_menor\\_igual\\_media & 0 & (0.51,0.83{]}\\\\\n",
       "\t23 &   43 &   NA & 3 & 3 & 5 &  7 & 152 & 156 & 155 & 4 & 0 & 0 & 0 & 1 & TI/suporte        & 01\\_menor\\_igual\\_media & 0 & Vazio      \\\\\n",
       "\t24 & 1899 & 0.92 & 2 & 6 & 8 & 13 & 148 & 150 & 149 & 6 & 0 & 0 & 0 & 0 & marketing/produto & 02\\_acima\\_media       & 0 & (0.83,1{]}   \\\\\n",
       "\t25 & 1923 & 0.98 & 4 & 4 & 4 &  9 & 170 & 171 & 160 & 5 & 0 & 0 & 0 & 0 & marketing/produto & 01\\_menor\\_igual\\_media & 0 & (0.83,1{]}   \\\\\n",
       "\t26 & 1033 & 0.98 & 1 & 5 & 6 &  7 & 182 & 184 & 183 & 3 & 0 & 0 & 0 & 1 & TI/suporte        & 01\\_menor\\_igual\\_media & 0 & (0.83,1{]}   \\\\\n",
       "\t27 & 3568 & 0.96 & 4 & 4 & 5 &  9 & 173 & 164 & 165 & 4 & 0 & 0 & 1 & 1 & vendas            & 01\\_menor\\_igual\\_media & 0 & (0.83,1{]}   \\\\\n",
       "\t28 &  325 & 0.97 & 1 & 3 & 3 &  4 & 187 & 181 & 170 & 1 & 0 & 0 & 0 & 0 & marketing/produto & 02\\_acima\\_media       & 1 & (0.83,1{]}   \\\\\n",
       "\t29 &  948 & 0.99 & 1 & 3 & 4 &  4 & 144 & 154 & 157 & 1 & 0 & 0 & 0 & 1 & TI/suporte        & 01\\_menor\\_igual\\_media & 1 & (0.83,1{]}   \\\\\n",
       "\t30 &  760 & 0.99 & 1 & 5 & 7 & 12 & 174 & 172 & 173 & 1 & 0 & 0 & 0 & 1 & vendas            & 01\\_menor\\_igual\\_media & 1 & (0.83,1{]}   \\\\\n",
       "\t⋮ & ⋮ & ⋮ & ⋮ & ⋮ & ⋮ & ⋮ & ⋮ & ⋮ & ⋮ & ⋮ & ⋮ & ⋮ & ⋮ & ⋮ & ⋮ & ⋮ & ⋮ & ⋮\\\\\n",
       "\t2679 & 1368 & 0.80 & 1 & 4 & 7 & 11 & 145 & 155 & 153 & 1 & 0 & 0 & 0 & 1 & marketing/produto & 01\\_menor\\_igual\\_media & 0 & (0.51,0.83{]}\\\\\n",
       "\t2680 & 2499 &   NA & 3 & 6 & 6 &  7 & 165 & 176 & 172 & 6 & 0 & 0 & 0 & 1 & dados             & 01\\_menor\\_igual\\_media & 0 & Vazio      \\\\\n",
       "\t2681 &  429 & 0.97 & 2 & 4 & 7 & 11 & 143 & 153 & 151 & 2 & 0 & 0 & 0 & 0 & TI/suporte        & 01\\_menor\\_igual\\_media & 0 & (0.83,1{]}   \\\\\n",
       "\t2682 &  420 & 0.94 & 2 & 2 & 4 &  7 & 161 & 164 & 168 & 3 & 0 & 0 & 0 & 0 & vendas            & 01\\_menor\\_igual\\_media & 0 & (0.83,1{]}   \\\\\n",
       "\t2683 & 1108 & 0.94 & 3 & 4 & 5 & 10 & 190 & 188 & 178 & 4 & 1 & 0 & 0 & 1 & vendas            & 01\\_menor\\_igual\\_media & 0 & (0.83,1{]}   \\\\\n",
       "\t2684 &  737 & 0.60 & 1 & 3 & 4 &  7 & 152 & 155 & 152 & 2 & 0 & 0 & 0 & 0 & dados             & 01\\_menor\\_igual\\_media & 0 & (0.51,0.83{]}\\\\\n",
       "\t2685 & 2335 & 0.29 & 0 & 3 & 5 &  5 & 149 & 154 & 164 & 6 & 0 & 0 & 0 & 1 & vendas            & 01\\_menor\\_igual\\_media & 0 & {[}0,0.51{]}   \\\\\n",
       "\t2686 & 1992 & 0.90 & 1 & 3 & 3 &  8 & 163 & 164 & 161 & 3 & 0 & 0 & 0 & 1 & dados             & 01\\_menor\\_igual\\_media & 0 & (0.83,1{]}   \\\\\n",
       "\t2687 &  188 & 0.90 & 1 & 4 & 5 &  5 & 150 & 160 & 162 & 3 & 0 & 0 & 0 & 0 & dados             & 01\\_menor\\_igual\\_media & 0 & (0.83,1{]}   \\\\\n",
       "\t2688 & 3544 & 0.80 & 4 & 4 & 4 &  8 & 173 & 173 & 173 & 4 & 0 & 0 & 0 & 0 & dados             & 02\\_acima\\_media       & 0 & (0.51,0.83{]}\\\\\n",
       "\t2689 & 3110 & 0.48 & 2 & 3 & 3 &  5 & 156 & 156 & 150 & 4 & 0 & 0 & 0 & 1 & dados             & 02\\_acima\\_media       & 0 & {[}0,0.51{]}   \\\\\n",
       "\t2690 &  949 & 0.09 & 1 & 6 & 7 & 12 & 172 & 182 & 185 & 4 & 0 & 0 & 0 & 0 & RH/financeiro     & 01\\_menor\\_igual\\_media & 0 & {[}0,0.51{]}   \\\\\n",
       "\t2691 & 2075 & 0.57 & 1 & 5 & 6 &  7 & 176 & 178 & 175 & 3 & 0 & 0 & 0 & 1 & TI/suporte        & 01\\_menor\\_igual\\_media & 0 & (0.51,0.83{]}\\\\\n",
       "\t2692 & 2601 & 0.95 & 2 & 4 & 5 &  6 & 180 & 174 & 164 & 3 & 0 & 0 & 1 & 1 & TI/suporte        & 01\\_menor\\_igual\\_media & 0 & (0.83,1{]}   \\\\\n",
       "\t2693 & 1449 & 0.20 & 1 & 3 & 5 &  5 & 145 & 153 & 163 & 1 & 0 & 0 & 0 & 0 & TI/suporte        & 02\\_acima\\_media       & 0 & {[}0,0.51{]}   \\\\\n",
       "\t2694 & 1026 & 0.89 & 1 & 4 & 6 &  9 & 169 & 172 & 173 & 5 & 0 & 0 & 0 & 1 & dados             & 01\\_menor\\_igual\\_media & 0 & (0.83,1{]}   \\\\\n",
       "\t2695 &  428 & 0.26 & 2 & 5 & 8 & 11 & 188 & 178 & 184 & 5 & 0 & 0 & 0 & 1 & dados             & 01\\_menor\\_igual\\_media & 0 & {[}0,0.51{]}   \\\\\n",
       "\t2696 & 2882 & 0.78 & 1 & 3 & 4 &  6 & 182 & 181 & 183 & 4 & 0 & 0 & 0 & 0 & dados             & 01\\_menor\\_igual\\_media & 0 & (0.51,0.83{]}\\\\\n",
       "\t2697 & 2613 & 0.94 & 3 & 3 & 5 & 10 & 157 & 162 & 164 & 3 & 0 & 0 & 0 & 1 & vendas            & 01\\_menor\\_igual\\_media & 1 & (0.83,1{]}   \\\\\n",
       "\t2698 & 3244 & 0.87 & 5 & 5 & 6 & 10 & 168 & 166 & 167 & 6 & 0 & 0 & 0 & 0 & marketing/produto & 01\\_menor\\_igual\\_media & 0 & (0.83,1{]}   \\\\\n",
       "\t2699 & 3166 & 0.02 & 2 & 2 & 4 &  9 & 148 & 153 & 153 & 3 & 0 & 0 & 0 & 1 & TI/suporte        & 01\\_menor\\_igual\\_media & 0 & {[}0,0.51{]}   \\\\\n",
       "\t2700 & 2348 & 0.88 & 0 & 4 & 6 & 11 & 154 & 156 & 154 & 2 & 0 & 0 & 0 & 0 & RH/financeiro     & 01\\_menor\\_igual\\_media & 0 & (0.83,1{]}   \\\\\n",
       "\t2701 & 3137 & 0.47 & 1 & 6 & 8 & 10 & 186 & 181 & 188 & 4 & 0 & 0 & 0 & 0 & dados             & 02\\_acima\\_media       & 0 & {[}0,0.51{]}   \\\\\n",
       "\t2702 & 1868 & 0.31 & 0 & 2 & 3 &  7 & 159 & 156 & 159 & 3 & 0 & 0 & 0 & 0 & TI/suporte        & 01\\_menor\\_igual\\_media & 0 & {[}0,0.51{]}   \\\\\n",
       "\t2703 & 1582 & 0.75 & 2 & 5 & 5 &  6 & 174 & 175 & 167 & 3 & 0 & 0 & 0 & 0 & marketing/produto & 02\\_acima\\_media       & 0 & (0.51,0.83{]}\\\\\n",
       "\t2704 &  179 & 0.49 & 1 & 5 & 7 & 12 & 189 & 184 & 174 & 2 & 0 & 0 & 0 & 1 & vendas            & 02\\_acima\\_media       & 0 & {[}0,0.51{]}   \\\\\n",
       "\t2705 & 1398 & 0.87 & 4 & 4 & 7 &  8 & 154 & 155 & 167 & 3 & 0 & 0 & 0 & 0 & marketing/produto & 02\\_acima\\_media       & 0 & (0.83,1{]}   \\\\\n",
       "\t2706 & 3698 & 0.97 & 3 & 4 & 5 &  5 & 196 & 193 & 195 & 7 & 0 & 0 & 0 & 1 & vendas            & 02\\_acima\\_media       & 0 & (0.83,1{]}   \\\\\n",
       "\t2707 & 1753 & 0.45 & 0 & 4 & 5 &  7 & 167 & 166 & 154 & 1 & 0 & 0 & 0 & 1 & marketing/produto & 01\\_menor\\_igual\\_media & 0 & {[}0,0.51{]}   \\\\\n",
       "\t2708 &  175 & 0.69 & 3 & 4 & 6 & 11 & 179 & 169 & 171 & 3 & 0 & 0 & 0 & 1 & vendas            & 01\\_menor\\_igual\\_media & 0 & (0.51,0.83{]}\\\\\n",
       "\\end{tabular}\n"
      ],
      "text/markdown": [
       "\n",
       "A data.frame: 2708 × 18\n",
       "\n",
       "| <!--/--> | ID_respondente &lt;int&gt; | ult_avaliacao_clima &lt;dbl&gt; | qtde_projetos_3m &lt;int&gt; | qtde_projetos_6m &lt;int&gt; | qtde_projetos_12m &lt;int&gt; | qtde_projetos_24m &lt;int&gt; | media_horas_trabalho_3m &lt;int&gt; | media_horas_trabalho_6m &lt;int&gt; | media_horas_trabalho_12m &lt;int&gt; | tempo_empresa &lt;int&gt; | flag_promocao_3m &lt;int&gt; | flag_promocao_6m &lt;int&gt; | flag_promocao_12m &lt;int&gt; | flag_promocao_vida &lt;int&gt; | departamento &lt;chr&gt; | patamar_salario &lt;chr&gt; | turnover &lt;int&gt; | ult_avaliacao_clima_cat &lt;fct&gt; |\n",
       "|---|---|---|---|---|---|---|---|---|---|---|---|---|---|---|---|---|---|---|\n",
       "| 1 | 2541 | 0.94 | 3 | 4 | 4 |  5 | 183 | 183 | 175 | 3 | 0 | 0 | 0 | 0 | dados             | 01_menor_igual_media | 0 | (0.83,1]    |\n",
       "| 2 |  971 | 0.58 | 1 | 2 | 2 |  7 | 155 | 155 | 149 | 3 | 0 | 0 | 0 | 0 | vendas            | 01_menor_igual_media | 0 | (0.51,0.83] |\n",
       "| 3 |  903 | 0.70 | 2 | 3 | 3 |  4 | 155 | 158 | 158 | 2 | 0 | 0 | 0 | 0 | vendas            | 01_menor_igual_media | 1 | (0.51,0.83] |\n",
       "| 4 | 2750 | 0.62 | 2 | 4 | 4 |  8 | 156 | 158 | 156 | 4 | 0 | 0 | 0 | 0 | dados             | 01_menor_igual_media | 0 | (0.51,0.83] |\n",
       "| 5 | 2931 | 0.90 | 0 | 4 | 6 |  8 | 147 | 157 | 160 | 2 | 0 | 0 | 0 | 0 | vendas            | 02_acima_media       | 0 | (0.83,1]    |\n",
       "| 6 |  780 | 0.68 | 2 | 3 | 5 |  9 | 158 | 155 | 151 | 2 | 0 | 0 | 0 | 0 | TI/suporte        | 01_menor_igual_media | 0 | (0.51,0.83] |\n",
       "| 7 | 1037 | 0.50 | 3 | 4 | 4 |  5 | 158 | 158 | 167 | 3 | 0 | 0 | 1 | 1 | dados             | 01_menor_igual_media | 0 | [0,0.51]    |\n",
       "| 8 |  739 |   NA | 0 | 3 | 3 |  6 | 152 | 155 | 168 | 3 | 0 | 0 | 0 | 0 | TI/suporte        | 01_menor_igual_media | 0 | Vazio       |\n",
       "| 9 | 3509 | 0.05 | 1 | 5 | 5 |  6 | 153 | 163 | 163 | 6 | 0 | 0 | 0 | 1 | dados             | 01_menor_igual_media | 0 | [0,0.51]    |\n",
       "| 10 | 3634 | 0.09 | 1 | 5 | 6 |  8 | 150 | 150 | 159 | 2 | 0 | 0 | 0 | 0 | TI/suporte        | 02_acima_media       | 0 | [0,0.51]    |\n",
       "| 11 | 2258 |   NA | 0 | 5 | 7 |  9 | 184 | 183 | 178 | 4 | 0 | 0 | 0 | 1 | dados             | 02_acima_media       | 0 | Vazio       |\n",
       "| 12 | 2718 | 0.83 | 3 | 5 | 6 |  6 | 186 | 178 | 189 | 3 | 0 | 0 | 0 | 1 | marketing/produto | 01_menor_igual_media | 0 | (0.51,0.83] |\n",
       "| 13 | 2325 | 0.65 | 0 | 2 | 5 |  5 | 149 | 154 | 154 | 3 | 0 | 0 | 0 | 1 | marketing/produto | 01_menor_igual_media | 1 | (0.51,0.83] |\n",
       "| 14 |  675 | 0.20 | 6 | 6 | 9 | 11 | 167 | 170 | 173 | 6 | 0 | 0 | 0 | 1 | marketing/produto | 01_menor_igual_media | 0 | [0,0.51]    |\n",
       "| 15 | 2388 | 0.25 | 4 | 6 | 9 | 12 | 151 | 154 | 152 | 4 | 0 | 0 | 0 | 0 | dados             | 01_menor_igual_media | 0 | [0,0.51]    |\n",
       "| 16 | 2568 | 0.74 | 1 | 5 | 7 | 11 | 177 | 184 | 177 | 3 | 0 | 0 | 0 | 0 | TI/suporte        | 01_menor_igual_media | 0 | (0.51,0.83] |\n",
       "| 17 | 2531 | 0.68 | 0 | 3 | 4 |  7 | 145 | 154 | 154 | 8 | 1 | 0 | 0 | 1 | RH/financeiro     | 01_menor_igual_media | 0 | (0.51,0.83] |\n",
       "| 18 | 2254 | 0.98 | 1 | 2 | 3 |  3 | 185 | 184 | 191 | 3 | 0 | 0 | 0 | 1 | TI/suporte        | 01_menor_igual_media | 1 | (0.83,1]    |\n",
       "| 19 | 2201 | 0.28 | 0 | 4 | 5 |  6 | 186 | 184 | 173 | 2 | 0 | 0 | 0 | 1 | dados             | 01_menor_igual_media | 0 | [0,0.51]    |\n",
       "| 20 | 2907 | 0.82 | 0 | 4 | 7 | 11 | 151 | 154 | 152 | 1 | 0 | 0 | 0 | 0 | dados             | 01_menor_igual_media | 0 | (0.51,0.83] |\n",
       "| 21 | 2810 | 0.95 | 2 | 4 | 5 | 10 | 165 | 158 | 167 | 3 | 0 | 0 | 0 | 1 | vendas            | 01_menor_igual_media | 0 | (0.83,1]    |\n",
       "| 22 | 1371 | 0.53 | 1 | 4 | 6 | 10 | 189 | 186 | 186 | 3 | 0 | 0 | 0 | 0 | TI/suporte        | 01_menor_igual_media | 0 | (0.51,0.83] |\n",
       "| 23 |   43 |   NA | 3 | 3 | 5 |  7 | 152 | 156 | 155 | 4 | 0 | 0 | 0 | 1 | TI/suporte        | 01_menor_igual_media | 0 | Vazio       |\n",
       "| 24 | 1899 | 0.92 | 2 | 6 | 8 | 13 | 148 | 150 | 149 | 6 | 0 | 0 | 0 | 0 | marketing/produto | 02_acima_media       | 0 | (0.83,1]    |\n",
       "| 25 | 1923 | 0.98 | 4 | 4 | 4 |  9 | 170 | 171 | 160 | 5 | 0 | 0 | 0 | 0 | marketing/produto | 01_menor_igual_media | 0 | (0.83,1]    |\n",
       "| 26 | 1033 | 0.98 | 1 | 5 | 6 |  7 | 182 | 184 | 183 | 3 | 0 | 0 | 0 | 1 | TI/suporte        | 01_menor_igual_media | 0 | (0.83,1]    |\n",
       "| 27 | 3568 | 0.96 | 4 | 4 | 5 |  9 | 173 | 164 | 165 | 4 | 0 | 0 | 1 | 1 | vendas            | 01_menor_igual_media | 0 | (0.83,1]    |\n",
       "| 28 |  325 | 0.97 | 1 | 3 | 3 |  4 | 187 | 181 | 170 | 1 | 0 | 0 | 0 | 0 | marketing/produto | 02_acima_media       | 1 | (0.83,1]    |\n",
       "| 29 |  948 | 0.99 | 1 | 3 | 4 |  4 | 144 | 154 | 157 | 1 | 0 | 0 | 0 | 1 | TI/suporte        | 01_menor_igual_media | 1 | (0.83,1]    |\n",
       "| 30 |  760 | 0.99 | 1 | 5 | 7 | 12 | 174 | 172 | 173 | 1 | 0 | 0 | 0 | 1 | vendas            | 01_menor_igual_media | 1 | (0.83,1]    |\n",
       "| ⋮ | ⋮ | ⋮ | ⋮ | ⋮ | ⋮ | ⋮ | ⋮ | ⋮ | ⋮ | ⋮ | ⋮ | ⋮ | ⋮ | ⋮ | ⋮ | ⋮ | ⋮ | ⋮ |\n",
       "| 2679 | 1368 | 0.80 | 1 | 4 | 7 | 11 | 145 | 155 | 153 | 1 | 0 | 0 | 0 | 1 | marketing/produto | 01_menor_igual_media | 0 | (0.51,0.83] |\n",
       "| 2680 | 2499 |   NA | 3 | 6 | 6 |  7 | 165 | 176 | 172 | 6 | 0 | 0 | 0 | 1 | dados             | 01_menor_igual_media | 0 | Vazio       |\n",
       "| 2681 |  429 | 0.97 | 2 | 4 | 7 | 11 | 143 | 153 | 151 | 2 | 0 | 0 | 0 | 0 | TI/suporte        | 01_menor_igual_media | 0 | (0.83,1]    |\n",
       "| 2682 |  420 | 0.94 | 2 | 2 | 4 |  7 | 161 | 164 | 168 | 3 | 0 | 0 | 0 | 0 | vendas            | 01_menor_igual_media | 0 | (0.83,1]    |\n",
       "| 2683 | 1108 | 0.94 | 3 | 4 | 5 | 10 | 190 | 188 | 178 | 4 | 1 | 0 | 0 | 1 | vendas            | 01_menor_igual_media | 0 | (0.83,1]    |\n",
       "| 2684 |  737 | 0.60 | 1 | 3 | 4 |  7 | 152 | 155 | 152 | 2 | 0 | 0 | 0 | 0 | dados             | 01_menor_igual_media | 0 | (0.51,0.83] |\n",
       "| 2685 | 2335 | 0.29 | 0 | 3 | 5 |  5 | 149 | 154 | 164 | 6 | 0 | 0 | 0 | 1 | vendas            | 01_menor_igual_media | 0 | [0,0.51]    |\n",
       "| 2686 | 1992 | 0.90 | 1 | 3 | 3 |  8 | 163 | 164 | 161 | 3 | 0 | 0 | 0 | 1 | dados             | 01_menor_igual_media | 0 | (0.83,1]    |\n",
       "| 2687 |  188 | 0.90 | 1 | 4 | 5 |  5 | 150 | 160 | 162 | 3 | 0 | 0 | 0 | 0 | dados             | 01_menor_igual_media | 0 | (0.83,1]    |\n",
       "| 2688 | 3544 | 0.80 | 4 | 4 | 4 |  8 | 173 | 173 | 173 | 4 | 0 | 0 | 0 | 0 | dados             | 02_acima_media       | 0 | (0.51,0.83] |\n",
       "| 2689 | 3110 | 0.48 | 2 | 3 | 3 |  5 | 156 | 156 | 150 | 4 | 0 | 0 | 0 | 1 | dados             | 02_acima_media       | 0 | [0,0.51]    |\n",
       "| 2690 |  949 | 0.09 | 1 | 6 | 7 | 12 | 172 | 182 | 185 | 4 | 0 | 0 | 0 | 0 | RH/financeiro     | 01_menor_igual_media | 0 | [0,0.51]    |\n",
       "| 2691 | 2075 | 0.57 | 1 | 5 | 6 |  7 | 176 | 178 | 175 | 3 | 0 | 0 | 0 | 1 | TI/suporte        | 01_menor_igual_media | 0 | (0.51,0.83] |\n",
       "| 2692 | 2601 | 0.95 | 2 | 4 | 5 |  6 | 180 | 174 | 164 | 3 | 0 | 0 | 1 | 1 | TI/suporte        | 01_menor_igual_media | 0 | (0.83,1]    |\n",
       "| 2693 | 1449 | 0.20 | 1 | 3 | 5 |  5 | 145 | 153 | 163 | 1 | 0 | 0 | 0 | 0 | TI/suporte        | 02_acima_media       | 0 | [0,0.51]    |\n",
       "| 2694 | 1026 | 0.89 | 1 | 4 | 6 |  9 | 169 | 172 | 173 | 5 | 0 | 0 | 0 | 1 | dados             | 01_menor_igual_media | 0 | (0.83,1]    |\n",
       "| 2695 |  428 | 0.26 | 2 | 5 | 8 | 11 | 188 | 178 | 184 | 5 | 0 | 0 | 0 | 1 | dados             | 01_menor_igual_media | 0 | [0,0.51]    |\n",
       "| 2696 | 2882 | 0.78 | 1 | 3 | 4 |  6 | 182 | 181 | 183 | 4 | 0 | 0 | 0 | 0 | dados             | 01_menor_igual_media | 0 | (0.51,0.83] |\n",
       "| 2697 | 2613 | 0.94 | 3 | 3 | 5 | 10 | 157 | 162 | 164 | 3 | 0 | 0 | 0 | 1 | vendas            | 01_menor_igual_media | 1 | (0.83,1]    |\n",
       "| 2698 | 3244 | 0.87 | 5 | 5 | 6 | 10 | 168 | 166 | 167 | 6 | 0 | 0 | 0 | 0 | marketing/produto | 01_menor_igual_media | 0 | (0.83,1]    |\n",
       "| 2699 | 3166 | 0.02 | 2 | 2 | 4 |  9 | 148 | 153 | 153 | 3 | 0 | 0 | 0 | 1 | TI/suporte        | 01_menor_igual_media | 0 | [0,0.51]    |\n",
       "| 2700 | 2348 | 0.88 | 0 | 4 | 6 | 11 | 154 | 156 | 154 | 2 | 0 | 0 | 0 | 0 | RH/financeiro     | 01_menor_igual_media | 0 | (0.83,1]    |\n",
       "| 2701 | 3137 | 0.47 | 1 | 6 | 8 | 10 | 186 | 181 | 188 | 4 | 0 | 0 | 0 | 0 | dados             | 02_acima_media       | 0 | [0,0.51]    |\n",
       "| 2702 | 1868 | 0.31 | 0 | 2 | 3 |  7 | 159 | 156 | 159 | 3 | 0 | 0 | 0 | 0 | TI/suporte        | 01_menor_igual_media | 0 | [0,0.51]    |\n",
       "| 2703 | 1582 | 0.75 | 2 | 5 | 5 |  6 | 174 | 175 | 167 | 3 | 0 | 0 | 0 | 0 | marketing/produto | 02_acima_media       | 0 | (0.51,0.83] |\n",
       "| 2704 |  179 | 0.49 | 1 | 5 | 7 | 12 | 189 | 184 | 174 | 2 | 0 | 0 | 0 | 1 | vendas            | 02_acima_media       | 0 | [0,0.51]    |\n",
       "| 2705 | 1398 | 0.87 | 4 | 4 | 7 |  8 | 154 | 155 | 167 | 3 | 0 | 0 | 0 | 0 | marketing/produto | 02_acima_media       | 0 | (0.83,1]    |\n",
       "| 2706 | 3698 | 0.97 | 3 | 4 | 5 |  5 | 196 | 193 | 195 | 7 | 0 | 0 | 0 | 1 | vendas            | 02_acima_media       | 0 | (0.83,1]    |\n",
       "| 2707 | 1753 | 0.45 | 0 | 4 | 5 |  7 | 167 | 166 | 154 | 1 | 0 | 0 | 0 | 1 | marketing/produto | 01_menor_igual_media | 0 | [0,0.51]    |\n",
       "| 2708 |  175 | 0.69 | 3 | 4 | 6 | 11 | 179 | 169 | 171 | 3 | 0 | 0 | 0 | 1 | vendas            | 01_menor_igual_media | 0 | (0.51,0.83] |\n",
       "\n"
      ],
      "text/plain": [
       "     ID_respondente ult_avaliacao_clima qtde_projetos_3m qtde_projetos_6m qtde_projetos_12m qtde_projetos_24m media_horas_trabalho_3m media_horas_trabalho_6m media_horas_trabalho_12m tempo_empresa\n",
       "1    2541           0.94                3                4                4                  5                183                     183                     175                      3            \n",
       "2     971           0.58                1                2                2                  7                155                     155                     149                      3            \n",
       "3     903           0.70                2                3                3                  4                155                     158                     158                      2            \n",
       "4    2750           0.62                2                4                4                  8                156                     158                     156                      4            \n",
       "5    2931           0.90                0                4                6                  8                147                     157                     160                      2            \n",
       "6     780           0.68                2                3                5                  9                158                     155                     151                      2            \n",
       "7    1037           0.50                3                4                4                  5                158                     158                     167                      3            \n",
       "8     739             NA                0                3                3                  6                152                     155                     168                      3            \n",
       "9    3509           0.05                1                5                5                  6                153                     163                     163                      6            \n",
       "10   3634           0.09                1                5                6                  8                150                     150                     159                      2            \n",
       "11   2258             NA                0                5                7                  9                184                     183                     178                      4            \n",
       "12   2718           0.83                3                5                6                  6                186                     178                     189                      3            \n",
       "13   2325           0.65                0                2                5                  5                149                     154                     154                      3            \n",
       "14    675           0.20                6                6                9                 11                167                     170                     173                      6            \n",
       "15   2388           0.25                4                6                9                 12                151                     154                     152                      4            \n",
       "16   2568           0.74                1                5                7                 11                177                     184                     177                      3            \n",
       "17   2531           0.68                0                3                4                  7                145                     154                     154                      8            \n",
       "18   2254           0.98                1                2                3                  3                185                     184                     191                      3            \n",
       "19   2201           0.28                0                4                5                  6                186                     184                     173                      2            \n",
       "20   2907           0.82                0                4                7                 11                151                     154                     152                      1            \n",
       "21   2810           0.95                2                4                5                 10                165                     158                     167                      3            \n",
       "22   1371           0.53                1                4                6                 10                189                     186                     186                      3            \n",
       "23     43             NA                3                3                5                  7                152                     156                     155                      4            \n",
       "24   1899           0.92                2                6                8                 13                148                     150                     149                      6            \n",
       "25   1923           0.98                4                4                4                  9                170                     171                     160                      5            \n",
       "26   1033           0.98                1                5                6                  7                182                     184                     183                      3            \n",
       "27   3568           0.96                4                4                5                  9                173                     164                     165                      4            \n",
       "28    325           0.97                1                3                3                  4                187                     181                     170                      1            \n",
       "29    948           0.99                1                3                4                  4                144                     154                     157                      1            \n",
       "30    760           0.99                1                5                7                 12                174                     172                     173                      1            \n",
       "⋮    ⋮              ⋮                   ⋮                ⋮                ⋮                 ⋮                 ⋮                       ⋮                       ⋮                        ⋮            \n",
       "2679 1368           0.80                1                4                7                 11                145                     155                     153                      1            \n",
       "2680 2499             NA                3                6                6                  7                165                     176                     172                      6            \n",
       "2681  429           0.97                2                4                7                 11                143                     153                     151                      2            \n",
       "2682  420           0.94                2                2                4                  7                161                     164                     168                      3            \n",
       "2683 1108           0.94                3                4                5                 10                190                     188                     178                      4            \n",
       "2684  737           0.60                1                3                4                  7                152                     155                     152                      2            \n",
       "2685 2335           0.29                0                3                5                  5                149                     154                     164                      6            \n",
       "2686 1992           0.90                1                3                3                  8                163                     164                     161                      3            \n",
       "2687  188           0.90                1                4                5                  5                150                     160                     162                      3            \n",
       "2688 3544           0.80                4                4                4                  8                173                     173                     173                      4            \n",
       "2689 3110           0.48                2                3                3                  5                156                     156                     150                      4            \n",
       "2690  949           0.09                1                6                7                 12                172                     182                     185                      4            \n",
       "2691 2075           0.57                1                5                6                  7                176                     178                     175                      3            \n",
       "2692 2601           0.95                2                4                5                  6                180                     174                     164                      3            \n",
       "2693 1449           0.20                1                3                5                  5                145                     153                     163                      1            \n",
       "2694 1026           0.89                1                4                6                  9                169                     172                     173                      5            \n",
       "2695  428           0.26                2                5                8                 11                188                     178                     184                      5            \n",
       "2696 2882           0.78                1                3                4                  6                182                     181                     183                      4            \n",
       "2697 2613           0.94                3                3                5                 10                157                     162                     164                      3            \n",
       "2698 3244           0.87                5                5                6                 10                168                     166                     167                      6            \n",
       "2699 3166           0.02                2                2                4                  9                148                     153                     153                      3            \n",
       "2700 2348           0.88                0                4                6                 11                154                     156                     154                      2            \n",
       "2701 3137           0.47                1                6                8                 10                186                     181                     188                      4            \n",
       "2702 1868           0.31                0                2                3                  7                159                     156                     159                      3            \n",
       "2703 1582           0.75                2                5                5                  6                174                     175                     167                      3            \n",
       "2704  179           0.49                1                5                7                 12                189                     184                     174                      2            \n",
       "2705 1398           0.87                4                4                7                  8                154                     155                     167                      3            \n",
       "2706 3698           0.97                3                4                5                  5                196                     193                     195                      7            \n",
       "2707 1753           0.45                0                4                5                  7                167                     166                     154                      1            \n",
       "2708  175           0.69                3                4                6                 11                179                     169                     171                      3            \n",
       "     flag_promocao_3m flag_promocao_6m flag_promocao_12m flag_promocao_vida departamento      patamar_salario      turnover ult_avaliacao_clima_cat\n",
       "1    0                0                0                 0                  dados             01_menor_igual_media 0        (0.83,1]               \n",
       "2    0                0                0                 0                  vendas            01_menor_igual_media 0        (0.51,0.83]            \n",
       "3    0                0                0                 0                  vendas            01_menor_igual_media 1        (0.51,0.83]            \n",
       "4    0                0                0                 0                  dados             01_menor_igual_media 0        (0.51,0.83]            \n",
       "5    0                0                0                 0                  vendas            02_acima_media       0        (0.83,1]               \n",
       "6    0                0                0                 0                  TI/suporte        01_menor_igual_media 0        (0.51,0.83]            \n",
       "7    0                0                1                 1                  dados             01_menor_igual_media 0        [0,0.51]               \n",
       "8    0                0                0                 0                  TI/suporte        01_menor_igual_media 0        Vazio                  \n",
       "9    0                0                0                 1                  dados             01_menor_igual_media 0        [0,0.51]               \n",
       "10   0                0                0                 0                  TI/suporte        02_acima_media       0        [0,0.51]               \n",
       "11   0                0                0                 1                  dados             02_acima_media       0        Vazio                  \n",
       "12   0                0                0                 1                  marketing/produto 01_menor_igual_media 0        (0.51,0.83]            \n",
       "13   0                0                0                 1                  marketing/produto 01_menor_igual_media 1        (0.51,0.83]            \n",
       "14   0                0                0                 1                  marketing/produto 01_menor_igual_media 0        [0,0.51]               \n",
       "15   0                0                0                 0                  dados             01_menor_igual_media 0        [0,0.51]               \n",
       "16   0                0                0                 0                  TI/suporte        01_menor_igual_media 0        (0.51,0.83]            \n",
       "17   1                0                0                 1                  RH/financeiro     01_menor_igual_media 0        (0.51,0.83]            \n",
       "18   0                0                0                 1                  TI/suporte        01_menor_igual_media 1        (0.83,1]               \n",
       "19   0                0                0                 1                  dados             01_menor_igual_media 0        [0,0.51]               \n",
       "20   0                0                0                 0                  dados             01_menor_igual_media 0        (0.51,0.83]            \n",
       "21   0                0                0                 1                  vendas            01_menor_igual_media 0        (0.83,1]               \n",
       "22   0                0                0                 0                  TI/suporte        01_menor_igual_media 0        (0.51,0.83]            \n",
       "23   0                0                0                 1                  TI/suporte        01_menor_igual_media 0        Vazio                  \n",
       "24   0                0                0                 0                  marketing/produto 02_acima_media       0        (0.83,1]               \n",
       "25   0                0                0                 0                  marketing/produto 01_menor_igual_media 0        (0.83,1]               \n",
       "26   0                0                0                 1                  TI/suporte        01_menor_igual_media 0        (0.83,1]               \n",
       "27   0                0                1                 1                  vendas            01_menor_igual_media 0        (0.83,1]               \n",
       "28   0                0                0                 0                  marketing/produto 02_acima_media       1        (0.83,1]               \n",
       "29   0                0                0                 1                  TI/suporte        01_menor_igual_media 1        (0.83,1]               \n",
       "30   0                0                0                 1                  vendas            01_menor_igual_media 1        (0.83,1]               \n",
       "⋮    ⋮                ⋮                ⋮                 ⋮                  ⋮                 ⋮                    ⋮        ⋮                      \n",
       "2679 0                0                0                 1                  marketing/produto 01_menor_igual_media 0        (0.51,0.83]            \n",
       "2680 0                0                0                 1                  dados             01_menor_igual_media 0        Vazio                  \n",
       "2681 0                0                0                 0                  TI/suporte        01_menor_igual_media 0        (0.83,1]               \n",
       "2682 0                0                0                 0                  vendas            01_menor_igual_media 0        (0.83,1]               \n",
       "2683 1                0                0                 1                  vendas            01_menor_igual_media 0        (0.83,1]               \n",
       "2684 0                0                0                 0                  dados             01_menor_igual_media 0        (0.51,0.83]            \n",
       "2685 0                0                0                 1                  vendas            01_menor_igual_media 0        [0,0.51]               \n",
       "2686 0                0                0                 1                  dados             01_menor_igual_media 0        (0.83,1]               \n",
       "2687 0                0                0                 0                  dados             01_menor_igual_media 0        (0.83,1]               \n",
       "2688 0                0                0                 0                  dados             02_acima_media       0        (0.51,0.83]            \n",
       "2689 0                0                0                 1                  dados             02_acima_media       0        [0,0.51]               \n",
       "2690 0                0                0                 0                  RH/financeiro     01_menor_igual_media 0        [0,0.51]               \n",
       "2691 0                0                0                 1                  TI/suporte        01_menor_igual_media 0        (0.51,0.83]            \n",
       "2692 0                0                1                 1                  TI/suporte        01_menor_igual_media 0        (0.83,1]               \n",
       "2693 0                0                0                 0                  TI/suporte        02_acima_media       0        [0,0.51]               \n",
       "2694 0                0                0                 1                  dados             01_menor_igual_media 0        (0.83,1]               \n",
       "2695 0                0                0                 1                  dados             01_menor_igual_media 0        [0,0.51]               \n",
       "2696 0                0                0                 0                  dados             01_menor_igual_media 0        (0.51,0.83]            \n",
       "2697 0                0                0                 1                  vendas            01_menor_igual_media 1        (0.83,1]               \n",
       "2698 0                0                0                 0                  marketing/produto 01_menor_igual_media 0        (0.83,1]               \n",
       "2699 0                0                0                 1                  TI/suporte        01_menor_igual_media 0        [0,0.51]               \n",
       "2700 0                0                0                 0                  RH/financeiro     01_menor_igual_media 0        (0.83,1]               \n",
       "2701 0                0                0                 0                  dados             02_acima_media       0        [0,0.51]               \n",
       "2702 0                0                0                 0                  TI/suporte        01_menor_igual_media 0        [0,0.51]               \n",
       "2703 0                0                0                 0                  marketing/produto 02_acima_media       0        (0.51,0.83]            \n",
       "2704 0                0                0                 1                  vendas            02_acima_media       0        [0,0.51]               \n",
       "2705 0                0                0                 0                  marketing/produto 02_acima_media       0        (0.83,1]               \n",
       "2706 0                0                0                 1                  vendas            02_acima_media       0        (0.83,1]               \n",
       "2707 0                0                0                 1                  marketing/produto 01_menor_igual_media 0        [0,0.51]               \n",
       "2708 0                0                0                 1                  vendas            01_menor_igual_media 0        (0.51,0.83]            "
      ]
     },
     "metadata": {},
     "output_type": "display_data"
    }
   ],
   "source": [
    "View(dados_turnover_treino)"
   ]
  },
  {
   "cell_type": "markdown",
   "metadata": {
    "id": "usjTOesQJpQI"
   },
   "source": [
    "### Modelo de regressão logística múltipla"
   ]
  },
  {
   "cell_type": "code",
   "execution_count": 21,
   "metadata": {
    "id": "jzOA-NoBPTuv"
   },
   "outputs": [
    {
     "data": {
      "text/plain": [
       "\n",
       "Call:\n",
       "glm(formula = turnover ~ ult_avaliacao_clima_cat + qtde_projetos_24m + \n",
       "    media_horas_trabalho_6m + tempo_empresa + flag_promocao_3m + \n",
       "    departamento + patamar_salario, family = binomial(link = \"logit\"), \n",
       "    data = dados_turnover_treino)\n",
       "\n",
       "Coefficients:\n",
       "                                    Estimate Std. Error z value             Pr(>|z|)    \n",
       "(Intercept)                        -1.655743   0.710856  -2.329               0.0198 *  \n",
       "ult_avaliacao_clima_cat(0.51,0.83] -0.287120   0.127124  -2.259               0.0239 *  \n",
       "ult_avaliacao_clima_cat(0.83,1]    -0.664763   0.138009  -4.817      0.0000014585706 ***\n",
       "ult_avaliacao_clima_catVazio       -0.135505   0.239861  -0.565               0.5721    \n",
       "qtde_projetos_24m                   0.022907   0.022958   0.998               0.3184    \n",
       "media_horas_trabalho_6m             0.001164   0.004243   0.274               0.7837    \n",
       "tempo_empresa                      -0.247579   0.038764  -6.387      0.0000000001693 ***\n",
       "flag_promocao_3m                   -0.805048   0.409027  -1.968               0.0490 *  \n",
       "departamentomarketing/produto       0.876334   0.207602   4.221      0.0000242992040 ***\n",
       "departamentoRH/financeiro           1.113349   0.219067   5.082      0.0000003730451 ***\n",
       "departamentoTI/suporte              0.999802   0.187368   5.336      0.0000000949990 ***\n",
       "departamentovendas                  1.593017   0.177523   8.974 < 0.0000000000000002 ***\n",
       "patamar_salario02_acima_media      -1.338654   0.206876  -6.471      0.0000000000975 ***\n",
       "---\n",
       "Signif. codes:  0 ‘***’ 0.001 ‘**’ 0.01 ‘*’ 0.05 ‘.’ 0.1 ‘ ’ 1\n",
       "\n",
       "(Dispersion parameter for binomial family taken to be 1)\n",
       "\n",
       "    Null deviance: 2524.2  on 2707  degrees of freedom\n",
       "Residual deviance: 2294.3  on 2695  degrees of freedom\n",
       "AIC: 2320.3\n",
       "\n",
       "Number of Fisher Scoring iterations: 5\n"
      ]
     },
     "metadata": {},
     "output_type": "display_data"
    }
   ],
   "source": [
    "# Ajuste do modelo 1: inicial\n",
    "regressao_1 <- glm(turnover ~\n",
    "                     ult_avaliacao_clima_cat +\n",
    "                     qtde_projetos_24m +\n",
    "                     media_horas_trabalho_6m +\n",
    "                     tempo_empresa +\n",
    "                     flag_promocao_3m +\n",
    "                     departamento +\n",
    "                     patamar_salario,\n",
    "                   family = binomial (link = 'logit'),\n",
    "                   data = dados_turnover_treino)\n",
    "\n",
    "summary(regressao_1)"
   ]
  },
  {
   "cell_type": "code",
   "execution_count": 22,
   "metadata": {
    "id": "_chXPFxunWD9"
   },
   "outputs": [
    {
     "data": {
      "text/plain": [
       "\n",
       "Call:\n",
       "glm(formula = turnover ~ ult_avaliacao_clima_cat + qtde_projetos_24m + \n",
       "    tempo_empresa + flag_promocao_3m + departamento + patamar_salario, \n",
       "    family = binomial(link = \"logit\"), data = dados_turnover_treino)\n",
       "\n",
       "Coefficients:\n",
       "                                   Estimate Std. Error z value             Pr(>|z|)    \n",
       "(Intercept)                        -1.47518    0.26892  -5.486      0.0000000412149 ***\n",
       "ult_avaliacao_clima_cat(0.51,0.83] -0.28759    0.12710  -2.263               0.0237 *  \n",
       "ult_avaliacao_clima_cat(0.83,1]    -0.66420    0.13799  -4.813      0.0000014837027 ***\n",
       "ult_avaliacao_clima_catVazio       -0.13706    0.23977  -0.572               0.5676    \n",
       "qtde_projetos_24m                   0.02425    0.02243   1.081               0.2796    \n",
       "tempo_empresa                      -0.24657    0.03857  -6.392      0.0000000001634 ***\n",
       "flag_promocao_3m                   -0.80341    0.40889  -1.965               0.0494 *  \n",
       "departamentomarketing/produto       0.87390    0.20741   4.213      0.0000251475101 ***\n",
       "departamentoRH/financeiro           1.11253    0.21906   5.079      0.0000003800025 ***\n",
       "departamentoTI/suporte              0.99986    0.18736   5.336      0.0000000947965 ***\n",
       "departamentovendas                  1.59143    0.17742   8.970 < 0.0000000000000002 ***\n",
       "patamar_salario02_acima_media      -1.33874    0.20686  -6.472      0.0000000000969 ***\n",
       "---\n",
       "Signif. codes:  0 ‘***’ 0.001 ‘**’ 0.01 ‘*’ 0.05 ‘.’ 0.1 ‘ ’ 1\n",
       "\n",
       "(Dispersion parameter for binomial family taken to be 1)\n",
       "\n",
       "    Null deviance: 2524.2  on 2707  degrees of freedom\n",
       "Residual deviance: 2294.4  on 2696  degrees of freedom\n",
       "AIC: 2318.4\n",
       "\n",
       "Number of Fisher Scoring iterations: 5\n"
      ]
     },
     "metadata": {},
     "output_type": "display_data"
    }
   ],
   "source": [
    "# Ajuste do modelo 2: retirando 'media_horas_trabalho_6m'\n",
    "regressao_2 <- glm(turnover ~\n",
    "                     ult_avaliacao_clima_cat +\n",
    "                     qtde_projetos_24m +\n",
    "                     tempo_empresa +\n",
    "                     flag_promocao_3m +\n",
    "                     departamento +\n",
    "                     patamar_salario,\n",
    "                   family = binomial (link = 'logit'),\n",
    "                   data = dados_turnover_treino)\n",
    "\n",
    "summary(regressao_2)"
   ]
  },
  {
   "cell_type": "code",
   "execution_count": 23,
   "metadata": {
    "id": "8E7yJXxviNAg"
   },
   "outputs": [
    {
     "data": {
      "text/plain": [
       "\n",
       "Call:\n",
       "glm(formula = turnover ~ ult_avaliacao_clima_cat + tempo_empresa + \n",
       "    flag_promocao_3m + departamento + patamar_salario, family = binomial(link = \"logit\"), \n",
       "    data = dados_turnover_treino)\n",
       "\n",
       "Coefficients:\n",
       "                                   Estimate Std. Error z value             Pr(>|z|)    \n",
       "(Intercept)                        -1.29612    0.21087  -6.147       0.000000000792 ***\n",
       "ult_avaliacao_clima_cat(0.51,0.83] -0.29140    0.12699  -2.295               0.0218 *  \n",
       "ult_avaliacao_clima_cat(0.83,1]    -0.66284    0.13788  -4.807       0.000001530599 ***\n",
       "ult_avaliacao_clima_catVazio       -0.14482    0.23971  -0.604               0.5458    \n",
       "tempo_empresa                      -0.24282    0.03833  -6.335       0.000000000237 ***\n",
       "flag_promocao_3m                   -0.80565    0.40886  -1.970               0.0488 *  \n",
       "departamentomarketing/produto       0.87647    0.20740   4.226       0.000023802266 ***\n",
       "departamentoRH/financeiro           1.10789    0.21903   5.058       0.000000423391 ***\n",
       "departamentoTI/suporte              0.99571    0.18730   5.316       0.000000106030 ***\n",
       "departamentovendas                  1.58907    0.17740   8.957 < 0.0000000000000002 ***\n",
       "patamar_salario02_acima_media      -1.33015    0.20663  -6.437       0.000000000122 ***\n",
       "---\n",
       "Signif. codes:  0 ‘***’ 0.001 ‘**’ 0.01 ‘*’ 0.05 ‘.’ 0.1 ‘ ’ 1\n",
       "\n",
       "(Dispersion parameter for binomial family taken to be 1)\n",
       "\n",
       "    Null deviance: 2524.2  on 2707  degrees of freedom\n",
       "Residual deviance: 2295.6  on 2697  degrees of freedom\n",
       "AIC: 2317.6\n",
       "\n",
       "Number of Fisher Scoring iterations: 5\n"
      ]
     },
     "metadata": {},
     "output_type": "display_data"
    }
   ],
   "source": [
    "# Ajuste do modelo 3: retirando 'qtde_projetos_24m'\n",
    "regressao_3 <- glm(turnover ~\n",
    "                     ult_avaliacao_clima_cat +\n",
    "                     tempo_empresa +\n",
    "                     flag_promocao_3m +\n",
    "                     departamento +\n",
    "                     patamar_salario,\n",
    "                   family = binomial (link = 'logit'),\n",
    "                   data = dados_turnover_treino)\n",
    "\n",
    "summary(regressao_3)"
   ]
  },
  {
   "cell_type": "code",
   "execution_count": 24,
   "metadata": {
    "id": "GmUlRRizqdWP"
   },
   "outputs": [
    {
     "data": {
      "text/html": [
       "<table class=\"dataframe\">\n",
       "<caption>A data.frame: 10 × 1</caption>\n",
       "<thead>\n",
       "\t<tr><th></th><th scope=col>VIF</th></tr>\n",
       "\t<tr><th></th><th scope=col>&lt;dbl&gt;</th></tr>\n",
       "</thead>\n",
       "<tbody>\n",
       "\t<tr><th scope=row>ult_avaliacao_clima_cat(0.51,0.83]</th><td>1.279333</td></tr>\n",
       "\t<tr><th scope=row>ult_avaliacao_clima_cat(0.83,1]</th><td>1.271227</td></tr>\n",
       "\t<tr><th scope=row>ult_avaliacao_clima_catVazio</th><td>1.087210</td></tr>\n",
       "\t<tr><th scope=row>tempo_empresa</th><td>1.026730</td></tr>\n",
       "\t<tr><th scope=row>flag_promocao_3m</th><td>1.006806</td></tr>\n",
       "\t<tr><th scope=row>departamentomarketing/produto</th><td>1.951655</td></tr>\n",
       "\t<tr><th scope=row>departamentoRH/financeiro</th><td>1.778039</td></tr>\n",
       "\t<tr><th scope=row>departamentoTI/suporte</th><td>2.372352</td></tr>\n",
       "\t<tr><th scope=row>departamentovendas</th><td>2.659806</td></tr>\n",
       "\t<tr><th scope=row>patamar_salario02_acima_media</th><td>1.011010</td></tr>\n",
       "</tbody>\n",
       "</table>\n"
      ],
      "text/latex": [
       "A data.frame: 10 × 1\n",
       "\\begin{tabular}{r|l}\n",
       "  & VIF\\\\\n",
       "  & <dbl>\\\\\n",
       "\\hline\n",
       "\tult\\_avaliacao\\_clima\\_cat(0.51,0.83{]} & 1.279333\\\\\n",
       "\tult\\_avaliacao\\_clima\\_cat(0.83,1{]} & 1.271227\\\\\n",
       "\tult\\_avaliacao\\_clima\\_catVazio & 1.087210\\\\\n",
       "\ttempo\\_empresa & 1.026730\\\\\n",
       "\tflag\\_promocao\\_3m & 1.006806\\\\\n",
       "\tdepartamentomarketing/produto & 1.951655\\\\\n",
       "\tdepartamentoRH/financeiro & 1.778039\\\\\n",
       "\tdepartamentoTI/suporte & 2.372352\\\\\n",
       "\tdepartamentovendas & 2.659806\\\\\n",
       "\tpatamar\\_salario02\\_acima\\_media & 1.011010\\\\\n",
       "\\end{tabular}\n"
      ],
      "text/markdown": [
       "\n",
       "A data.frame: 10 × 1\n",
       "\n",
       "| <!--/--> | VIF &lt;dbl&gt; |\n",
       "|---|---|\n",
       "| ult_avaliacao_clima_cat(0.51,0.83] | 1.279333 |\n",
       "| ult_avaliacao_clima_cat(0.83,1] | 1.271227 |\n",
       "| ult_avaliacao_clima_catVazio | 1.087210 |\n",
       "| tempo_empresa | 1.026730 |\n",
       "| flag_promocao_3m | 1.006806 |\n",
       "| departamentomarketing/produto | 1.951655 |\n",
       "| departamentoRH/financeiro | 1.778039 |\n",
       "| departamentoTI/suporte | 2.372352 |\n",
       "| departamentovendas | 2.659806 |\n",
       "| patamar_salario02_acima_media | 1.011010 |\n",
       "\n"
      ],
      "text/plain": [
       "                                   VIF     \n",
       "ult_avaliacao_clima_cat(0.51,0.83] 1.279333\n",
       "ult_avaliacao_clima_cat(0.83,1]    1.271227\n",
       "ult_avaliacao_clima_catVazio       1.087210\n",
       "tempo_empresa                      1.026730\n",
       "flag_promocao_3m                   1.006806\n",
       "departamentomarketing/produto      1.951655\n",
       "departamentoRH/financeiro          1.778039\n",
       "departamentoTI/suporte             2.372352\n",
       "departamentovendas                 2.659806\n",
       "patamar_salario02_acima_media      1.011010"
      ]
     },
     "metadata": {},
     "output_type": "display_data"
    }
   ],
   "source": [
    "# Avaliação de colinearidade no modelo 3 (é natural que os VIF sejam altos para dummies de uma mesma variável qualitativa)\n",
    "data.frame(VIF = vif(regressao_3))"
   ]
  },
  {
   "cell_type": "markdown",
   "metadata": {
    "id": "HIigFeGjJwpL"
   },
   "source": [
    "### Aplicação do modelo no conjunto de treino"
   ]
  },
  {
   "cell_type": "code",
   "execution_count": 25,
   "metadata": {
    "id": "EqfzhugvQ8qj"
   },
   "outputs": [],
   "source": [
    "# Aplicação do modelo no conjunto de treino (criação de uma nova coluna chamada \"probabilidade\")\n",
    "dados_turnover_treino$probabilidade <- predict(regressao_3,\n",
    "                                               dados_turnover_treino,\n",
    "                                               type = \"response\")"
   ]
  },
  {
   "cell_type": "code",
   "execution_count": 51,
   "metadata": {
    "id": "OsmFiZrHRJHw"
   },
   "outputs": [
    {
     "data": {
      "text/html": [
       "0.19"
      ],
      "text/latex": [
       "0.19"
      ],
      "text/markdown": [
       "0.19"
      ],
      "text/plain": [
       "[1] 0.19"
      ]
     },
     "metadata": {},
     "output_type": "display_data"
    }
   ],
   "source": [
    "# Definição de ponto de corte (padrão: % de 1's na amostra)\n",
    "ponto_corte <- 0.19\n",
    "ponto_corte"
   ]
  },
  {
   "cell_type": "code",
   "execution_count": 52,
   "metadata": {
    "id": "RNC-k-s4RSS4"
   },
   "outputs": [],
   "source": [
    "# Definição da resposta predita pelo modelo (criação de uma nova coluna chamada \"predito\")\n",
    "dados_turnover_treino$predito <- as.factor(ifelse(dados_turnover_treino$probabilidade > ponto_corte, 1, 0))"
   ]
  },
  {
   "cell_type": "markdown",
   "metadata": {
    "id": "l82_95h3JsBP"
   },
   "source": [
    "### Análise de desempenho no conjunto de treino"
   ]
  },
  {
   "cell_type": "code",
   "execution_count": 53,
   "metadata": {
    "id": "B_tsIjDaPVwI"
   },
   "outputs": [],
   "source": [
    "# Tabela de classificação\n",
    "tabela <- table(dados_turnover_treino$turnover, dados_turnover_treino$predito)"
   ]
  },
  {
   "cell_type": "code",
   "execution_count": 54,
   "metadata": {
    "id": "XIH_nvQ9RfyC"
   },
   "outputs": [
    {
     "data": {
      "text/html": [
       "0.624815361890694"
      ],
      "text/latex": [
       "0.624815361890694"
      ],
      "text/markdown": [
       "0.624815361890694"
      ],
      "text/plain": [
       "[1] 0.6248154"
      ]
     },
     "metadata": {},
     "output_type": "display_data"
    }
   ],
   "source": [
    "# Acurácia\n",
    "(tabela[1,1] + tabela[2,2]) / sum(tabela)"
   ]
  },
  {
   "cell_type": "code",
   "execution_count": 55,
   "metadata": {
    "id": "izk0HXXIALP4"
   },
   "outputs": [
    {
     "data": {
      "text/html": [
       "0.607174887892377"
      ],
      "text/latex": [
       "0.607174887892377"
      ],
      "text/markdown": [
       "0.607174887892377"
      ],
      "text/plain": [
       "[1] 0.6071749"
      ]
     },
     "metadata": {},
     "output_type": "display_data"
    }
   ],
   "source": [
    "# Especificidade\n",
    "tabela[1,1] / (tabela[1,1] + tabela[1,2])"
   ]
  },
  {
   "cell_type": "code",
   "execution_count": 56,
   "metadata": {
    "id": "X1UCyp2OPW8w"
   },
   "outputs": [
    {
     "data": {
      "text/html": [
       "0.707112970711297"
      ],
      "text/latex": [
       "0.707112970711297"
      ],
      "text/markdown": [
       "0.707112970711297"
      ],
      "text/plain": [
       "[1] 0.707113"
      ]
     },
     "metadata": {},
     "output_type": "display_data"
    }
   ],
   "source": [
    "# Sensibilidade\n",
    "tabela[2,2] / (tabela[2,1] + tabela[2,2])"
   ]
  },
  {
   "cell_type": "code",
   "execution_count": 29,
   "metadata": {
    "id": "XIH_nvQ9RfyC"
   },
   "outputs": [
    {
     "data": {
      "text/html": [
       "0.614475627769572"
      ],
      "text/latex": [
       "0.614475627769572"
      ],
      "text/markdown": [
       "0.614475627769572"
      ],
      "text/plain": [
       "[1] 0.6144756"
      ]
     },
     "metadata": {},
     "output_type": "display_data"
    }
   ],
   "source": [
    "# Acurácia\n",
    "(tabela[1,1] + tabela[2,2]) / sum(tabela)"
   ]
  },
  {
   "cell_type": "code",
   "execution_count": 30,
   "metadata": {
    "id": "izk0HXXIALP4"
   },
   "outputs": [
    {
     "data": {
      "text/html": [
       "0.590582959641256"
      ],
      "text/latex": [
       "0.590582959641256"
      ],
      "text/markdown": [
       "0.590582959641256"
      ],
      "text/plain": [
       "[1] 0.590583"
      ]
     },
     "metadata": {},
     "output_type": "display_data"
    }
   ],
   "source": [
    "# Especificidade\n",
    "tabela[1,1] / (tabela[1,1] + tabela[1,2])"
   ]
  },
  {
   "cell_type": "code",
   "execution_count": 31,
   "metadata": {
    "id": "X1UCyp2OPW8w"
   },
   "outputs": [
    {
     "data": {
      "text/html": [
       "0.725941422594142"
      ],
      "text/latex": [
       "0.725941422594142"
      ],
      "text/markdown": [
       "0.725941422594142"
      ],
      "text/plain": [
       "[1] 0.7259414"
      ]
     },
     "metadata": {},
     "output_type": "display_data"
    }
   ],
   "source": [
    "# Sensibilidade\n",
    "tabela[2,2] / (tabela[2,1] + tabela[2,2])"
   ]
  },
  {
   "cell_type": "code",
   "execution_count": 32,
   "metadata": {
    "id": "BVca4OaaUfqZ"
   },
   "outputs": [
    {
     "name": "stdout",
     "output_type": "stream",
     "text": [
      "[1] 0.3184663\n"
     ]
    }
   ],
   "source": [
    "# KS\n",
    "pred <- prediction(dados_turnover_treino$probabilidade, dados_turnover_treino$turnover)\n",
    "perf <- performance(pred, \"tpr\", \"fpr\")\n",
    "ks <- max(attr(perf, 'y.values')[[1]] - attr(perf, 'x.values')[[1]])\n",
    "\n",
    "print(ks)"
   ]
  },
  {
   "cell_type": "code",
   "execution_count": 33,
   "metadata": {
    "id": "JsaFkT9yU5v5"
   },
   "outputs": [
    {
     "name": "stdout",
     "output_type": "stream",
     "text": [
      "[1] 0.7101\n"
     ]
    }
   ],
   "source": [
    "# AUC\n",
    "pred <- prediction(dados_turnover_treino$probabilidade, dados_turnover_treino$turnover)\n",
    "auc <- performance(pred, \"auc\")\n",
    "auc <- auc@y.values[[1]]\n",
    "\n",
    "print(auc)"
   ]
  },
  {
   "cell_type": "markdown",
   "metadata": {
    "id": "W93Tcc_O7t7Y"
   },
   "source": [
    "### Aplicação do modelo no conjunto de teste"
   ]
  },
  {
   "cell_type": "code",
   "execution_count": 34,
   "metadata": {
    "id": "7qL6s8Tg7t7g"
   },
   "outputs": [],
   "source": [
    "# Aplicação do modelo no conjunto de teste (criação de uma nova coluna chamada \"probabilidade\")\n",
    "dados_turnover_teste$probabilidade <- predict(regressao_3,\n",
    "                                              dados_turnover_teste,\n",
    "                                              type = \"response\")"
   ]
  },
  {
   "cell_type": "code",
   "execution_count": 35,
   "metadata": {
    "id": "IPwYaew07t7g"
   },
   "outputs": [],
   "source": [
    "# Definição da resposta predita pelo modelo (criação de uma nova coluna chamada \"predito\")\n",
    "dados_turnover_teste$predito <- as.factor(ifelse(dados_turnover_teste$probabilidade > ponto_corte, 1, 0))"
   ]
  },
  {
   "cell_type": "markdown",
   "metadata": {
    "id": "EGuDYEJ-7t7g"
   },
   "source": [
    "### Análise de desempenho no conjunto de teste"
   ]
  },
  {
   "cell_type": "code",
   "execution_count": 36,
   "metadata": {
    "id": "Q6Kxjpeo7t7g"
   },
   "outputs": [],
   "source": [
    "# Tabela de classificação\n",
    "tabela <- table(dados_turnover_teste$turnover, dados_turnover_teste$predito)"
   ]
  },
  {
   "cell_type": "code",
   "execution_count": 37,
   "metadata": {
    "id": "JbE30vqK7t7g"
   },
   "outputs": [
    {
     "data": {
      "text/html": [
       "0.614987080103359"
      ],
      "text/latex": [
       "0.614987080103359"
      ],
      "text/markdown": [
       "0.614987080103359"
      ],
      "text/plain": [
       "[1] 0.6149871"
      ]
     },
     "metadata": {},
     "output_type": "display_data"
    }
   ],
   "source": [
    "# Acurácia\n",
    "(tabela[1,1] + tabela[2,2]) / sum(tabela)"
   ]
  },
  {
   "cell_type": "code",
   "execution_count": 38,
   "metadata": {
    "id": "d9qGkRTp7t7g"
   },
   "outputs": [
    {
     "data": {
      "text/html": [
       "0.593132154006244"
      ],
      "text/latex": [
       "0.593132154006244"
      ],
      "text/markdown": [
       "0.593132154006244"
      ],
      "text/plain": [
       "[1] 0.5931322"
      ]
     },
     "metadata": {},
     "output_type": "display_data"
    }
   ],
   "source": [
    "# Especificidade\n",
    "tabela[1,1] / (tabela[1,1] + tabela[1,2])"
   ]
  },
  {
   "cell_type": "code",
   "execution_count": 39,
   "metadata": {
    "id": "NVOBKoeg7t7h"
   },
   "outputs": [
    {
     "data": {
      "text/html": [
       "0.72"
      ],
      "text/latex": [
       "0.72"
      ],
      "text/markdown": [
       "0.72"
      ],
      "text/plain": [
       "[1] 0.72"
      ]
     },
     "metadata": {},
     "output_type": "display_data"
    }
   ],
   "source": [
    "# Sensibilidade\n",
    "tabela[2,2] / (tabela[2,1] + tabela[2,2])"
   ]
  },
  {
   "cell_type": "code",
   "execution_count": 40,
   "metadata": {
    "id": "TOKshwni7t7h"
   },
   "outputs": [
    {
     "name": "stdout",
     "output_type": "stream",
     "text": [
      "[1] 0.3224454\n"
     ]
    }
   ],
   "source": [
    "# KS\n",
    "pred <- prediction(dados_turnover_teste$probabilidade, dados_turnover_teste$turnover)\n",
    "perf <- performance(pred, \"tpr\", \"fpr\")\n",
    "ks <- max(attr(perf, 'y.values')[[1]] - attr(perf, 'x.values')[[1]])\n",
    "\n",
    "print(ks)"
   ]
  },
  {
   "cell_type": "code",
   "execution_count": 41,
   "metadata": {
    "id": "QeDv8stL7t7h"
   },
   "outputs": [
    {
     "name": "stdout",
     "output_type": "stream",
     "text": [
      "[1] 0.7034313\n"
     ]
    }
   ],
   "source": [
    "# AUC\n",
    "pred <- prediction(dados_turnover_teste$probabilidade, dados_turnover_teste$turnover)\n",
    "auc <- performance(pred, \"auc\")\n",
    "auc <- auc@y.values[[1]]\n",
    "\n",
    "print(auc)"
   ]
  },
  {
   "cell_type": "markdown",
   "metadata": {
    "id": "9Qx1wMbz8P1w"
   },
   "source": [
    "### Aplicação do modelo na base de validação (safra de jul/23)"
   ]
  },
  {
   "cell_type": "code",
   "execution_count": 42,
   "metadata": {
    "id": "Cqv3-gI0PGZr"
   },
   "outputs": [],
   "source": [
    "# Criação de variável 'ult_avaliacao_clima_cat' com cenário escolhido de categorização\n",
    "dados_turnover_jul$ult_avaliacao_clima_cat <- as.factor(case_when(dados_turnover_jul$ult_avaliacao_clima <= 0.51 ~ \"[0,0.51]\",\n",
    "                                                                  dados_turnover_jul$ult_avaliacao_clima <= 0.83 ~ \"(0.51,0.83]\",\n",
    "                                                                  dados_turnover_jul$ult_avaliacao_clima <= 1    ~ \"(0.83,1]\",\n",
    "                                                                  is.na(dados_turnover_jul$ult_avaliacao_clima)  ~ \"Vazio\"))"
   ]
  },
  {
   "cell_type": "code",
   "execution_count": 43,
   "metadata": {
    "id": "86pvSe388P14"
   },
   "outputs": [],
   "source": [
    "# Aplicação do modelo no conjunto de teste (criação de uma nova coluna chamada \"probabilidade\")\n",
    "dados_turnover_jul$probabilidade <- predict(regressao_3,\n",
    "                                            dados_turnover_jul,\n",
    "                                            type = \"response\")"
   ]
  },
  {
   "cell_type": "code",
   "execution_count": 44,
   "metadata": {
    "id": "BGQ6Zxo78P15"
   },
   "outputs": [],
   "source": [
    "# Definição da resposta predita pelo modelo (criação de uma nova coluna chamada \"predito\")\n",
    "dados_turnover_jul$predito <- as.factor(ifelse(dados_turnover_jul$probabilidade > ponto_corte, 1, 0))"
   ]
  },
  {
   "cell_type": "markdown",
   "metadata": {
    "id": "pHb1tp9K8P15"
   },
   "source": [
    "### Análise de desempenho na base de validação"
   ]
  },
  {
   "cell_type": "code",
   "execution_count": 45,
   "metadata": {
    "id": "woI_4Jij8P15"
   },
   "outputs": [],
   "source": [
    "# Tabela de classificação\n",
    "tabela <- table(dados_turnover_jul$turnover, dados_turnover_jul$predito)"
   ]
  },
  {
   "cell_type": "code",
   "execution_count": 46,
   "metadata": {
    "id": "Z9RWh68o8P15"
   },
   "outputs": [
    {
     "data": {
      "text/html": [
       "0.607445385644226"
      ],
      "text/latex": [
       "0.607445385644226"
      ],
      "text/markdown": [
       "0.607445385644226"
      ],
      "text/plain": [
       "[1] 0.6074454"
      ]
     },
     "metadata": {},
     "output_type": "display_data"
    }
   ],
   "source": [
    "# Acurácia\n",
    "(tabela[1,1] + tabela[2,2]) / sum(tabela)"
   ]
  },
  {
   "cell_type": "code",
   "execution_count": 47,
   "metadata": {
    "id": "3eTmtaE88P15"
   },
   "outputs": [
    {
     "data": {
      "text/html": [
       "0.584910836762689"
      ],
      "text/latex": [
       "0.584910836762689"
      ],
      "text/markdown": [
       "0.584910836762689"
      ],
      "text/plain": [
       "[1] 0.5849108"
      ]
     },
     "metadata": {},
     "output_type": "display_data"
    }
   ],
   "source": [
    "# Especificidade\n",
    "tabela[1,1] / (tabela[1,1] + tabela[1,2])"
   ]
  },
  {
   "cell_type": "code",
   "execution_count": 48,
   "metadata": {
    "id": "h4X8a7is8P16"
   },
   "outputs": [
    {
     "data": {
      "text/html": [
       "0.705112960760999"
      ],
      "text/latex": [
       "0.705112960760999"
      ],
      "text/markdown": [
       "0.705112960760999"
      ],
      "text/plain": [
       "[1] 0.705113"
      ]
     },
     "metadata": {},
     "output_type": "display_data"
    }
   ],
   "source": [
    "# Sensibilidade\n",
    "tabela[2,2] / (tabela[2,1] + tabela[2,2])"
   ]
  },
  {
   "cell_type": "code",
   "execution_count": 49,
   "metadata": {
    "id": "Qywkudof8P16"
   },
   "outputs": [
    {
     "name": "stdout",
     "output_type": "stream",
     "text": [
      "[1] 0.2946877\n"
     ]
    }
   ],
   "source": [
    "# KS\n",
    "pred <- prediction(dados_turnover_jul$probabilidade, dados_turnover_jul$turnover)\n",
    "perf <- performance(pred, \"tpr\", \"fpr\")\n",
    "ks <- max(attr(perf, 'y.values')[[1]] - attr(perf, 'x.values')[[1]])\n",
    "\n",
    "print(ks)"
   ]
  },
  {
   "cell_type": "code",
   "execution_count": 50,
   "metadata": {
    "id": "2r9OtMYa8P16"
   },
   "outputs": [
    {
     "name": "stdout",
     "output_type": "stream",
     "text": [
      "[1] 0.6891257\n"
     ]
    }
   ],
   "source": [
    "# AUC\n",
    "pred <- prediction(dados_turnover_jul$probabilidade, dados_turnover_jul$turnover)\n",
    "auc <- performance(pred, \"auc\")\n",
    "auc <- auc@y.values[[1]]\n",
    "\n",
    "print(auc)"
   ]
  },
  {
   "cell_type": "code",
   "execution_count": null,
   "metadata": {},
   "outputs": [],
   "source": []
  }
 ],
 "metadata": {
  "colab": {
   "provenance": []
  },
  "kernelspec": {
   "display_name": "R",
   "language": "R",
   "name": "ir"
  },
  "language_info": {
   "codemirror_mode": "r",
   "file_extension": ".r",
   "mimetype": "text/x-r-source",
   "name": "R",
   "pygments_lexer": "r",
   "version": "4.4.1"
  }
 },
 "nbformat": 4,
 "nbformat_minor": 4
}

{
  "nbformat": 4,
  "nbformat_minor": 0,
  "metadata": {
    "colab": {
      "provenance": []
    },
    "kernelspec": {
      "name": "ir",
      "display_name": "R"
    },
    "language_info": {
      "name": "R"
    }
  },
  "cells": [
    {
      "cell_type": "markdown",
      "source": [
        "# **CASE: *TURNOVER* DE FUNCIONÁRIOS**\n",
        "\n",
        "---"
      ],
      "metadata": {
        "id": "L2vudERBJTiT"
      }
    },
    {
      "cell_type": "markdown",
      "source": [
        "### Instalação de bibliotecas"
      ],
      "metadata": {
        "id": "nGD5Csd2q7VV"
      }
    },
    {
      "cell_type": "code",
      "source": [
        "# Para cálculo do IV\n",
        "install.packages(\"Information\")\n",
        "# Para categorização de variáveis\n",
        "install.packages(\"gtools\")\n",
        "# Para cálculo do VIF\n",
        "install.packages(\"rms\")\n",
        "# Para cálculo do KS e AUC\n",
        "install.packages(\"ROCR\")"
      ],
      "metadata": {
        "id": "DY4aICW6q8Eb"
      },
      "execution_count": null,
      "outputs": []
    },
    {
      "cell_type": "markdown",
      "source": [
        "### Carregamento de bibliotecas"
      ],
      "metadata": {
        "id": "99PaLHQgvG4X"
      }
    },
    {
      "cell_type": "code",
      "source": [
        "library(tidyverse) # já pré-instalado, se for em Google Colab\n",
        "library(Information)\n",
        "library(gtools)\n",
        "library(rms)\n",
        "library(ROCR)"
      ],
      "metadata": {
        "id": "ypvOgRlIrJaq"
      },
      "execution_count": null,
      "outputs": []
    },
    {
      "cell_type": "markdown",
      "source": [
        "### Leitura das bases de dados"
      ],
      "metadata": {
        "id": "AppXoGlSJa4f"
      }
    },
    {
      "cell_type": "code",
      "source": [
        "dados_turnover_jan <- read.table(file = \"Turnover_Funcionarios_Jan_23.txt\",\n",
        "                                 sep = \"\\t\",\n",
        "                                 dec = \".\",\n",
        "                                 header = TRUE)"
      ],
      "metadata": {
        "id": "BKIVxb-yO6kt"
      },
      "execution_count": null,
      "outputs": []
    },
    {
      "cell_type": "code",
      "source": [
        "dados_turnover_jul <- read.table(file = \"Turnover_Funcionarios_Jul_23.txt\",\n",
        "                                 sep = \"\\t\",\n",
        "                                 dec = \".\",\n",
        "                                 header = TRUE)"
      ],
      "metadata": {
        "id": "pag7mJTb47Uk"
      },
      "execution_count": null,
      "outputs": []
    },
    {
      "cell_type": "markdown",
      "source": [
        "### Tamanho das bases de dados"
      ],
      "metadata": {
        "id": "QjxtmJktJf24"
      }
    },
    {
      "cell_type": "code",
      "source": [
        "dim(dados_turnover_jan)"
      ],
      "metadata": {
        "id": "FJUJqh-_O4Dh"
      },
      "execution_count": null,
      "outputs": []
    },
    {
      "cell_type": "code",
      "source": [
        "dim(dados_turnover_jul)"
      ],
      "metadata": {
        "id": "s-4pZcBO5P3Z"
      },
      "execution_count": null,
      "outputs": []
    },
    {
      "cell_type": "markdown",
      "source": [
        "### Análise exploratória breve (safra de jan/23)"
      ],
      "metadata": {
        "id": "basvlxoTo_e-"
      }
    },
    {
      "cell_type": "code",
      "source": [
        "# Medidas resumo\n",
        "summary(dados_turnover_jan)"
      ],
      "metadata": {
        "id": "9iiFkJR6o_sy"
      },
      "execution_count": null,
      "outputs": []
    },
    {
      "cell_type": "code",
      "source": [
        "# Tabela de frequências: departamento\n",
        "table(dados_turnover_jan$departamento, useNA = \"always\")\n",
        "prop.table(table(dados_turnover_jan$departamento, useNA = \"always\"))"
      ],
      "metadata": {
        "id": "amZHuAkmpQ-Q"
      },
      "execution_count": null,
      "outputs": []
    },
    {
      "cell_type": "code",
      "source": [
        "# Tabela de frequências: patamar de salário\n",
        "table(dados_turnover_jan$patamar_salario, useNA = \"always\")\n",
        "prop.table(table(dados_turnover_jan$patamar_salario, useNA = \"always\"))"
      ],
      "metadata": {
        "id": "_k-jK2ecpcre"
      },
      "execution_count": null,
      "outputs": []
    },
    {
      "cell_type": "markdown",
      "source": [
        "### Análise do poder preditivo das variáveis (IV)"
      ],
      "metadata": {
        "id": "PYTvweDFJimD"
      }
    },
    {
      "cell_type": "code",
      "source": [
        "# Comando auxiliar para para omitir notação científica nos p-valores e controlar largura dos outputs na tela do Colab\n",
        "options(scipen = 999, width = 200)"
      ],
      "metadata": {
        "id": "SRr0HokUyf6E"
      },
      "execution_count": null,
      "outputs": []
    },
    {
      "cell_type": "code",
      "source": [
        "# Cálculo e exibição dos IV\n",
        "IV <- create_infotables(data = dados_turnover_jan[,c(2:17)],\n",
        "                        y = \"turnover\")\n",
        "IV$Summary"
      ],
      "metadata": {
        "id": "TD_M_1CzO0L8"
      },
      "execution_count": null,
      "outputs": []
    },
    {
      "cell_type": "markdown",
      "source": [
        "### Categorização de variáveis com valores *missing* (safra de jan/23)"
      ],
      "metadata": {
        "id": "8JpaJy-MN2cu"
      }
    },
    {
      "cell_type": "code",
      "source": [
        "# Cenários de categorização da variável 'ult_avaliacao_clima', com diferentes quantidades de grupos\n",
        "prop.table(table(quantcut(dados_turnover_jan$ult_avaliacao_clima, q = 3), dados_turnover_jan$turnover, useNA = \"always\"), 1)\n",
        "prop.table(table(quantcut(dados_turnover_jan$ult_avaliacao_clima, q = 4), dados_turnover_jan$turnover, useNA = \"always\"), 1)\n",
        "prop.table(table(quantcut(dados_turnover_jan$ult_avaliacao_clima, q = 5), dados_turnover_jan$turnover, useNA = \"always\"), 1)\n",
        "prop.table(table(quantcut(dados_turnover_jan$ult_avaliacao_clima, q = 6), dados_turnover_jan$turnover, useNA = \"always\"), 1)"
      ],
      "metadata": {
        "id": "4BI8SESXt8oj"
      },
      "execution_count": null,
      "outputs": []
    },
    {
      "cell_type": "code",
      "source": [
        "# Criação de variável 'ult_avaliacao_clima_cat' com cenário escolhido de categorização\n",
        "dados_turnover_jan$ult_avaliacao_clima_cat <- as.factor(quantcut(dados_turnover_jan$ult_avaliacao_clima, q = 3))"
      ],
      "metadata": {
        "id": "zCI9KtN_OFWc"
      },
      "execution_count": null,
      "outputs": []
    },
    {
      "cell_type": "code",
      "source": [
        "# Criação de categoria 'Vazio' na nova variável 'ult_avaliacao_clima_cat'\n",
        "levels(dados_turnover_jan$ult_avaliacao_clima_cat) <- c(levels(dados_turnover_jan$ult_avaliacao_clima_cat), \"Vazio\")\n",
        "dados_turnover_jan$ult_avaliacao_clima_cat[is.na(dados_turnover_jan$ult_avaliacao_clima_cat)] <- \"Vazio\""
      ],
      "metadata": {
        "id": "8BIn9lDXOn86"
      },
      "execution_count": null,
      "outputs": []
    },
    {
      "cell_type": "markdown",
      "source": [
        "### Separação de conjuntos de treino e teste"
      ],
      "metadata": {
        "id": "hvZQdAvYJn80"
      }
    },
    {
      "cell_type": "code",
      "source": [
        "# Aletorizando a ordem das linhas da base\n",
        "set.seed(12345)\n",
        "dados_turnover_jan = sample_n(dados_turnover_jan, size = nrow(dados_turnover_jan))"
      ],
      "metadata": {
        "id": "lg03z-MAv53B"
      },
      "execution_count": null,
      "outputs": []
    },
    {
      "cell_type": "code",
      "source": [
        "# Definindo tamanho do conjunto de treino\n",
        "tamanho_treino <- floor(nrow(dados_turnover_jan) * 0.7)"
      ],
      "metadata": {
        "id": "YugAaIaWxki8"
      },
      "execution_count": null,
      "outputs": []
    },
    {
      "cell_type": "code",
      "source": [
        "# Separando os conjuntos de treino e teste\n",
        "dados_turnover_treino <- dados_turnover_jan[1:tamanho_treino,]\n",
        "dados_turnover_teste  <- dados_turnover_jan[(tamanho_treino+1):nrow(dados_turnover_jan),]"
      ],
      "metadata": {
        "id": "UDz8lfptvcag"
      },
      "execution_count": null,
      "outputs": []
    },
    {
      "cell_type": "markdown",
      "source": [
        "### Modelo de regressão logística múltipla"
      ],
      "metadata": {
        "id": "usjTOesQJpQI"
      }
    },
    {
      "cell_type": "code",
      "source": [
        "# Ajuste do modelo 1: inicial\n",
        "regressao_1 <- glm(turnover ~\n",
        "                     ult_avaliacao_clima_cat +\n",
        "                     qtde_projetos_24m +\n",
        "                     media_horas_trabalho_6m +\n",
        "                     tempo_empresa +\n",
        "                     flag_promocao_3m +\n",
        "                     departamento +\n",
        "                     patamar_salario,\n",
        "                   family = binomial (link = 'logit'),\n",
        "                   data = dados_turnover_treino)\n",
        "\n",
        "summary(regressao_1)"
      ],
      "metadata": {
        "id": "jzOA-NoBPTuv"
      },
      "execution_count": null,
      "outputs": []
    },
    {
      "cell_type": "code",
      "source": [
        "# Ajuste do modelo 2: retirando 'media_horas_trabalho_6m'\n",
        "regressao_2 <- glm(turnover ~\n",
        "                     ult_avaliacao_clima_cat +\n",
        "                     qtde_projetos_24m +\n",
        "                     tempo_empresa +\n",
        "                     flag_promocao_3m +\n",
        "                     departamento +\n",
        "                     patamar_salario,\n",
        "                   family = binomial (link = 'logit'),\n",
        "                   data = dados_turnover_treino)\n",
        "\n",
        "summary(regressao_2)"
      ],
      "metadata": {
        "id": "_chXPFxunWD9"
      },
      "execution_count": null,
      "outputs": []
    },
    {
      "cell_type": "code",
      "source": [
        "# Ajuste do modelo 3: retirando 'qtde_projetos_24m'\n",
        "regressao_3 <- glm(turnover ~\n",
        "                     ult_avaliacao_clima_cat +\n",
        "                     tempo_empresa +\n",
        "                     flag_promocao_3m +\n",
        "                     departamento +\n",
        "                     patamar_salario,\n",
        "                   family = binomial (link = 'logit'),\n",
        "                   data = dados_turnover_treino)\n",
        "\n",
        "summary(regressao_3)"
      ],
      "metadata": {
        "id": "8E7yJXxviNAg"
      },
      "execution_count": null,
      "outputs": []
    },
    {
      "cell_type": "code",
      "source": [
        "# Avaliação de colinearidade no modelo 3 (é natural que os VIF sejam altos para dummies de uma mesma variável qualitativa)\n",
        "data.frame(VIF = vif(regressao_3))"
      ],
      "metadata": {
        "id": "GmUlRRizqdWP"
      },
      "execution_count": null,
      "outputs": []
    },
    {
      "cell_type": "markdown",
      "source": [
        "### Aplicação do modelo no conjunto de treino"
      ],
      "metadata": {
        "id": "HIigFeGjJwpL"
      }
    },
    {
      "cell_type": "code",
      "source": [
        "# Aplicação do modelo no conjunto de treino (criação de uma nova coluna chamada \"probabilidade\")\n",
        "dados_turnover_treino$probabilidade <- predict(regressao_3,\n",
        "                                               dados_turnover_treino,\n",
        "                                               type = \"response\")"
      ],
      "metadata": {
        "id": "EqfzhugvQ8qj"
      },
      "execution_count": null,
      "outputs": []
    },
    {
      "cell_type": "code",
      "source": [
        "# Definição de ponto de corte (padrão: % de 1's na amostra)\n",
        "ponto_corte <- mean(dados_turnover_treino$turnover)\n",
        "ponto_corte"
      ],
      "metadata": {
        "id": "OsmFiZrHRJHw"
      },
      "execution_count": null,
      "outputs": []
    },
    {
      "cell_type": "code",
      "source": [
        "# Definição da resposta predita pelo modelo (criação de uma nova coluna chamada \"predito\")\n",
        "dados_turnover_treino$predito <- as.factor(ifelse(dados_turnover_treino$probabilidade > ponto_corte, 1, 0))"
      ],
      "metadata": {
        "id": "RNC-k-s4RSS4"
      },
      "execution_count": null,
      "outputs": []
    },
    {
      "cell_type": "markdown",
      "source": [
        "### Análise de desempenho no conjunto de treino"
      ],
      "metadata": {
        "id": "l82_95h3JsBP"
      }
    },
    {
      "cell_type": "code",
      "source": [
        "# Tabela de classificação\n",
        "tabela <- table(dados_turnover_treino$turnover, dados_turnover_treino$predito)"
      ],
      "metadata": {
        "id": "B_tsIjDaPVwI"
      },
      "execution_count": null,
      "outputs": []
    },
    {
      "cell_type": "code",
      "source": [
        "# Acurácia\n",
        "(tabela[1,1] + tabela[2,2]) / sum(tabela)"
      ],
      "metadata": {
        "id": "XIH_nvQ9RfyC"
      },
      "execution_count": null,
      "outputs": []
    },
    {
      "cell_type": "code",
      "source": [
        "# Especificidade\n",
        "tabela[1,1] / (tabela[1,1] + tabela[1,2])"
      ],
      "metadata": {
        "id": "izk0HXXIALP4"
      },
      "execution_count": null,
      "outputs": []
    },
    {
      "cell_type": "code",
      "source": [
        "# Sensibilidade\n",
        "tabela[2,2] / (tabela[2,1] + tabela[2,2])"
      ],
      "metadata": {
        "id": "X1UCyp2OPW8w"
      },
      "execution_count": null,
      "outputs": []
    },
    {
      "cell_type": "code",
      "source": [
        "# KS\n",
        "pred <- prediction(dados_turnover_treino$probabilidade, dados_turnover_treino$turnover)\n",
        "perf <- performance(pred, \"tpr\", \"fpr\")\n",
        "ks <- max(attr(perf, 'y.values')[[1]] - attr(perf, 'x.values')[[1]])\n",
        "\n",
        "print(ks)"
      ],
      "metadata": {
        "id": "BVca4OaaUfqZ"
      },
      "execution_count": null,
      "outputs": []
    },
    {
      "cell_type": "code",
      "source": [
        "# AUC\n",
        "pred <- prediction(dados_turnover_treino$probabilidade, dados_turnover_treino$turnover)\n",
        "auc <- performance(pred, \"auc\")\n",
        "auc <- auc@y.values[[1]]\n",
        "\n",
        "print(auc)"
      ],
      "metadata": {
        "id": "JsaFkT9yU5v5"
      },
      "execution_count": null,
      "outputs": []
    },
    {
      "cell_type": "markdown",
      "source": [
        "### Aplicação do modelo no conjunto de teste"
      ],
      "metadata": {
        "id": "W93Tcc_O7t7Y"
      }
    },
    {
      "cell_type": "code",
      "source": [
        "# Aplicação do modelo no conjunto de teste (criação de uma nova coluna chamada \"probabilidade\")\n",
        "dados_turnover_teste$probabilidade <- predict(regressao_3,\n",
        "                                              dados_turnover_teste,\n",
        "                                              type = \"response\")"
      ],
      "metadata": {
        "id": "7qL6s8Tg7t7g"
      },
      "execution_count": null,
      "outputs": []
    },
    {
      "cell_type": "code",
      "source": [
        "# Definição da resposta predita pelo modelo (criação de uma nova coluna chamada \"predito\")\n",
        "dados_turnover_teste$predito <- as.factor(ifelse(dados_turnover_teste$probabilidade > ponto_corte, 1, 0))"
      ],
      "metadata": {
        "id": "IPwYaew07t7g"
      },
      "execution_count": null,
      "outputs": []
    },
    {
      "cell_type": "markdown",
      "source": [
        "### Análise de desempenho no conjunto de teste"
      ],
      "metadata": {
        "id": "EGuDYEJ-7t7g"
      }
    },
    {
      "cell_type": "code",
      "source": [
        "# Tabela de classificação\n",
        "tabela <- table(dados_turnover_teste$turnover, dados_turnover_teste$predito)"
      ],
      "metadata": {
        "id": "Q6Kxjpeo7t7g"
      },
      "execution_count": null,
      "outputs": []
    },
    {
      "cell_type": "code",
      "source": [
        "# Acurácia\n",
        "(tabela[1,1] + tabela[2,2]) / sum(tabela)"
      ],
      "metadata": {
        "id": "JbE30vqK7t7g"
      },
      "execution_count": null,
      "outputs": []
    },
    {
      "cell_type": "code",
      "source": [
        "# Especificidade\n",
        "tabela[1,1] / (tabela[1,1] + tabela[1,2])"
      ],
      "metadata": {
        "id": "d9qGkRTp7t7g"
      },
      "execution_count": null,
      "outputs": []
    },
    {
      "cell_type": "code",
      "source": [
        "# Sensibilidade\n",
        "tabela[2,2] / (tabela[2,1] + tabela[2,2])"
      ],
      "metadata": {
        "id": "NVOBKoeg7t7h"
      },
      "execution_count": null,
      "outputs": []
    },
    {
      "cell_type": "code",
      "source": [
        "# KS\n",
        "pred <- prediction(dados_turnover_teste$probabilidade, dados_turnover_teste$turnover)\n",
        "perf <- performance(pred, \"tpr\", \"fpr\")\n",
        "ks <- max(attr(perf, 'y.values')[[1]] - attr(perf, 'x.values')[[1]])\n",
        "\n",
        "print(ks)"
      ],
      "metadata": {
        "id": "TOKshwni7t7h"
      },
      "execution_count": null,
      "outputs": []
    },
    {
      "cell_type": "code",
      "source": [
        "# AUC\n",
        "pred <- prediction(dados_turnover_teste$probabilidade, dados_turnover_teste$turnover)\n",
        "auc <- performance(pred, \"auc\")\n",
        "auc <- auc@y.values[[1]]\n",
        "\n",
        "print(auc)"
      ],
      "metadata": {
        "id": "QeDv8stL7t7h"
      },
      "execution_count": null,
      "outputs": []
    },
    {
      "cell_type": "markdown",
      "source": [
        "### Aplicação do modelo na base de validação (safra de jul/23)"
      ],
      "metadata": {
        "id": "9Qx1wMbz8P1w"
      }
    },
    {
      "cell_type": "code",
      "source": [
        "# Criação de variável 'ult_avaliacao_clima_cat' com cenário escolhido de categorização\n",
        "dados_turnover_jul$ult_avaliacao_clima_cat <- as.factor(case_when(dados_turnover_jul$ult_avaliacao_clima <= 0.51 ~ \"[0,0.51]\",\n",
        "                                                                  dados_turnover_jul$ult_avaliacao_clima <= 0.83 ~ \"(0.51,0.83]\",\n",
        "                                                                  dados_turnover_jul$ult_avaliacao_clima <= 1    ~ \"(0.83,1]\",\n",
        "                                                                  is.na(dados_turnover_jul$ult_avaliacao_clima)  ~ \"Vazio\"))"
      ],
      "metadata": {
        "id": "Cqv3-gI0PGZr"
      },
      "execution_count": null,
      "outputs": []
    },
    {
      "cell_type": "code",
      "source": [
        "# Aplicação do modelo no conjunto de teste (criação de uma nova coluna chamada \"probabilidade\")\n",
        "dados_turnover_jul$probabilidade <- predict(regressao_3,\n",
        "                                            dados_turnover_jul,\n",
        "                                            type = \"response\")"
      ],
      "metadata": {
        "id": "86pvSe388P14"
      },
      "execution_count": null,
      "outputs": []
    },
    {
      "cell_type": "code",
      "source": [
        "# Definição da resposta predita pelo modelo (criação de uma nova coluna chamada \"predito\")\n",
        "dados_turnover_jul$predito <- as.factor(ifelse(dados_turnover_jul$probabilidade > ponto_corte, 1, 0))"
      ],
      "metadata": {
        "id": "BGQ6Zxo78P15"
      },
      "execution_count": null,
      "outputs": []
    },
    {
      "cell_type": "markdown",
      "source": [
        "### Análise de desempenho na base de validação"
      ],
      "metadata": {
        "id": "pHb1tp9K8P15"
      }
    },
    {
      "cell_type": "code",
      "source": [
        "# Tabela de classificação\n",
        "tabela <- table(dados_turnover_jul$turnover, dados_turnover_jul$predito)"
      ],
      "metadata": {
        "id": "woI_4Jij8P15"
      },
      "execution_count": null,
      "outputs": []
    },
    {
      "cell_type": "code",
      "source": [
        "# Acurácia\n",
        "(tabela[1,1] + tabela[2,2]) / sum(tabela)"
      ],
      "metadata": {
        "id": "Z9RWh68o8P15"
      },
      "execution_count": null,
      "outputs": []
    },
    {
      "cell_type": "code",
      "source": [
        "# Especificidade\n",
        "tabela[1,1] / (tabela[1,1] + tabela[1,2])"
      ],
      "metadata": {
        "id": "3eTmtaE88P15"
      },
      "execution_count": null,
      "outputs": []
    },
    {
      "cell_type": "code",
      "source": [
        "# Sensibilidade\n",
        "tabela[2,2] / (tabela[2,1] + tabela[2,2])"
      ],
      "metadata": {
        "id": "h4X8a7is8P16"
      },
      "execution_count": null,
      "outputs": []
    },
    {
      "cell_type": "code",
      "source": [
        "# KS\n",
        "pred <- prediction(dados_turnover_jul$probabilidade, dados_turnover_jul$turnover)\n",
        "perf <- performance(pred, \"tpr\", \"fpr\")\n",
        "ks <- max(attr(perf, 'y.values')[[1]] - attr(perf, 'x.values')[[1]])\n",
        "\n",
        "print(ks)"
      ],
      "metadata": {
        "id": "Qywkudof8P16"
      },
      "execution_count": null,
      "outputs": []
    },
    {
      "cell_type": "code",
      "source": [
        "# AUC\n",
        "pred <- prediction(dados_turnover_jul$probabilidade, dados_turnover_jul$turnover)\n",
        "auc <- performance(pred, \"auc\")\n",
        "auc <- auc@y.values[[1]]\n",
        "\n",
        "print(auc)"
      ],
      "metadata": {
        "id": "2r9OtMYa8P16"
      },
      "execution_count": null,
      "outputs": []
    }
  ]
}
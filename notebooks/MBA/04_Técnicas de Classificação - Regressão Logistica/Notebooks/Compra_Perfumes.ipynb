{
  "nbformat": 4,
  "nbformat_minor": 0,
  "metadata": {
    "colab": {
      "provenance": []
    },
    "kernelspec": {
      "name": "ir",
      "display_name": "R"
    },
    "language_info": {
      "name": "R"
    }
  },
  "cells": [
    {
      "cell_type": "markdown",
      "source": [
        "# **CASE: COMPRA DE PERFUMES**\n",
        "\n",
        "---"
      ],
      "metadata": {
        "id": "L2vudERBJTiT"
      }
    },
    {
      "cell_type": "markdown",
      "source": [
        "### Instalação de bibliotecas"
      ],
      "metadata": {
        "id": "nGD5Csd2q7VV"
      }
    },
    {
      "cell_type": "code",
      "source": [
        "# Para cálculo do VIF\n",
        "install.packages(\"rms\")\n",
        "# Para cálculo do KS e AUC\n",
        "install.packages(\"ROCR\")"
      ],
      "metadata": {
        "id": "DY4aICW6q8Eb"
      },
      "execution_count": null,
      "outputs": []
    },
    {
      "cell_type": "markdown",
      "source": [
        "### Carregamento de bibliotecas"
      ],
      "metadata": {
        "id": "99PaLHQgvG4X"
      }
    },
    {
      "cell_type": "code",
      "source": [
        "library(rms)\n",
        "library(ROCR)"
      ],
      "metadata": {
        "id": "ypvOgRlIrJaq"
      },
      "execution_count": null,
      "outputs": []
    },
    {
      "cell_type": "markdown",
      "source": [
        "### Leitura da base de dados"
      ],
      "metadata": {
        "id": "AppXoGlSJa4f"
      }
    },
    {
      "cell_type": "code",
      "source": [
        "dados_perfume <- read.table(file = \"Compra_Perfumes.txt\",\n",
        "                            sep = \"\\t\",\n",
        "                            dec = \",\",\n",
        "                            header = TRUE)"
      ],
      "metadata": {
        "id": "BKIVxb-yO6kt"
      },
      "execution_count": null,
      "outputs": []
    },
    {
      "cell_type": "markdown",
      "source": [
        "### Visualização da base de dados"
      ],
      "metadata": {
        "id": "QjxtmJktJf24"
      }
    },
    {
      "cell_type": "code",
      "source": [
        "View(dados_perfume)"
      ],
      "metadata": {
        "id": "FJUJqh-_O4Dh"
      },
      "execution_count": null,
      "outputs": []
    },
    {
      "cell_type": "markdown",
      "source": [
        "### Análise exploratória breve"
      ],
      "metadata": {
        "id": "PYTvweDFJimD"
      }
    },
    {
      "cell_type": "code",
      "source": [
        "# Medidas resumo: idade\n",
        "summary(dados_perfume$Idade)"
      ],
      "metadata": {
        "id": "TD_M_1CzO0L8"
      },
      "execution_count": null,
      "outputs": []
    },
    {
      "cell_type": "code",
      "source": [
        "# Tabela de frequências: gênero\n",
        "table(dados_perfume$Genero)\n",
        "prop.table(table(dados_perfume$Genero))"
      ],
      "metadata": {
        "id": "xJ7mGpUpO_7M"
      },
      "execution_count": null,
      "outputs": []
    },
    {
      "cell_type": "code",
      "source": [
        "# Tabela de frequências: cidade\n",
        "table(dados_perfume$Cidade)\n",
        "prop.table(table(dados_perfume$Cidade))"
      ],
      "metadata": {
        "id": "7Zci06gGPACI"
      },
      "execution_count": null,
      "outputs": []
    },
    {
      "cell_type": "code",
      "source": [
        "# Tabela de frequências: sistema operacional\n",
        "table(dados_perfume$Sistema_Operac)\n",
        "prop.table(table(dados_perfume$Sistema_Operac))"
      ],
      "metadata": {
        "id": "qcrhoBJ3PAKH"
      },
      "execution_count": null,
      "outputs": []
    },
    {
      "cell_type": "code",
      "source": [
        "# Tabela de frequências: utilização do cupom\n",
        "table(dados_perfume$Utilizou_Cupom)\n",
        "prop.table(table(dados_perfume$Utilizou_Cupom))"
      ],
      "metadata": {
        "id": "2a1Vxq36PJCQ"
      },
      "execution_count": null,
      "outputs": []
    },
    {
      "cell_type": "markdown",
      "source": [
        "### Análise bivariada: variáveis resposta vs. variáveis explicativas"
      ],
      "metadata": {
        "id": "hvZQdAvYJn80"
      }
    },
    {
      "cell_type": "code",
      "source": [
        "# Gráfico de boxplots: idade versus resposta\n",
        "boxplot(Idade ~ Utilizou_Cupom, data = dados_perfume, col = \"darkturquoise\", main = \"Idade vs. Utilização do Cupom\")"
      ],
      "metadata": {
        "id": "YugAaIaWxki8"
      },
      "execution_count": null,
      "outputs": []
    },
    {
      "cell_type": "code",
      "source": [
        "# Tabela de frequências: gênero versus resposta (somando 100% nas linhas)\n",
        "table(dados_perfume$Genero, dados_perfume$Utilizou_Cupom)\n",
        "prop.table(table(dados_perfume$Genero, dados_perfume$Utilizou_Cupom), 1)"
      ],
      "metadata": {
        "id": "M6Pat478PQGL"
      },
      "execution_count": null,
      "outputs": []
    },
    {
      "cell_type": "code",
      "source": [
        "# Tabela de frequências: cidade versus resposta (somando 100% nas linhas)\n",
        "table(dados_perfume$Cidade, dados_perfume$Utilizou_Cupom)\n",
        "prop.table(table(dados_perfume$Cidade, dados_perfume$Utilizou_Cupom), 1)"
      ],
      "metadata": {
        "id": "jA2nn-WhxiOD"
      },
      "execution_count": null,
      "outputs": []
    },
    {
      "cell_type": "code",
      "source": [
        "# Tabela de frequências: sistema operacional versus resposta (somando 100% nas linhas)\n",
        "table(dados_perfume$Sistema_Operac, dados_perfume$Utilizou_Cupom)\n",
        "prop.table(table(dados_perfume$Sistema_Operac, dados_perfume$Utilizou_Cupom), 1)"
      ],
      "metadata": {
        "id": "ZcFnzvMRPndi"
      },
      "execution_count": null,
      "outputs": []
    },
    {
      "cell_type": "markdown",
      "source": [
        "### Modelo de regressão logística múltipla"
      ],
      "metadata": {
        "id": "usjTOesQJpQI"
      }
    },
    {
      "cell_type": "code",
      "source": [
        "# Comando auxiliar para para omitir notação científica nos p-valores e controlar largura dos outputs na tela do Colab\n",
        "options(scipen = 999, width = 200)"
      ],
      "metadata": {
        "id": "SRr0HokUyf6E"
      },
      "execution_count": null,
      "outputs": []
    },
    {
      "cell_type": "code",
      "source": [
        "# Ajuste do modelo 1: inicial\n",
        "regressao_1 <- glm(Utilizou_Cupom ~\n",
        "                     Genero +\n",
        "                     Idade +\n",
        "                     Cidade +\n",
        "                     Sistema_Operac,\n",
        "                   family = binomial(link = 'logit'),\n",
        "                   data = dados_perfume)\n",
        "\n",
        "summary(regressao_1)"
      ],
      "metadata": {
        "id": "jzOA-NoBPTuv"
      },
      "execution_count": null,
      "outputs": []
    },
    {
      "cell_type": "code",
      "source": [
        "# Ajuste do modelo 2: retirando Sistema_Operac\n",
        "regressao_2 <- glm(Utilizou_Cupom ~\n",
        "                     Genero +\n",
        "                     Idade +\n",
        "                     Cidade,\n",
        "                   family = binomial(link = 'logit'),\n",
        "                   data = dados_perfume)\n",
        "\n",
        "summary(regressao_2)"
      ],
      "metadata": {
        "id": "_chXPFxunWD9"
      },
      "execution_count": null,
      "outputs": []
    },
    {
      "cell_type": "code",
      "source": [
        "# Avaliação de colinearidade no modelo 2\n",
        "data.frame(VIF = vif(regressao_2))"
      ],
      "metadata": {
        "id": "GmUlRRizqdWP"
      },
      "execution_count": null,
      "outputs": []
    },
    {
      "cell_type": "markdown",
      "source": [
        "### Intervalos de confiança"
      ],
      "metadata": {
        "id": "8FPh79Xd8ST1"
      }
    },
    {
      "cell_type": "code",
      "source": [
        "# Escolha do beta (0 para intercepto, ou 1, 2, ... para os parâmetros referentes a cada variável explicativa)\n",
        "beta = 0"
      ],
      "metadata": {
        "id": "qVTodUSmz15X"
      },
      "execution_count": null,
      "outputs": []
    },
    {
      "cell_type": "code",
      "source": [
        "# Cálculo do intervalo\n",
        "print(\"Limite inferior\")\n",
        "as.numeric(regressao_2$coefficients[beta + 1] - 1.96 * coef(summary(regressao_2))[beta + 1, \"Std. Error\"])\n",
        "print(\"Limite superior\")\n",
        "as.numeric(regressao_2$coefficients[beta + 1] + 1.96 * coef(summary(regressao_2))[beta + 1, \"Std. Error\"])"
      ],
      "metadata": {
        "id": "rBg7mDoO70cm"
      },
      "execution_count": null,
      "outputs": []
    },
    {
      "cell_type": "markdown",
      "source": [
        "### Aplicação do modelo e definição de resposta predita"
      ],
      "metadata": {
        "id": "HIigFeGjJwpL"
      }
    },
    {
      "cell_type": "code",
      "source": [
        "# Aplicação do modelo na base (criação de uma nova coluna chamada \"probabilidade\")\n",
        "dados_perfume$probabilidade <- predict(regressao_2,\n",
        "                                       dados_perfume,\n",
        "                                       type = \"response\")"
      ],
      "metadata": {
        "id": "EqfzhugvQ8qj"
      },
      "execution_count": null,
      "outputs": []
    },
    {
      "cell_type": "code",
      "source": [
        "# Definição de ponto de corte (padrão: % de 1's na amostra)\n",
        "ponto_corte <- mean(dados_perfume$Utilizou_Cupom)\n",
        "ponto_corte"
      ],
      "metadata": {
        "id": "OsmFiZrHRJHw"
      },
      "execution_count": null,
      "outputs": []
    },
    {
      "cell_type": "code",
      "source": [
        "# Definição da resposta predita pelo modelo (criação de uma nova coluna chamada \"predito\")\n",
        "dados_perfume$predito <- as.factor(ifelse(dados_perfume$probabilidade > ponto_corte, 1, 0))"
      ],
      "metadata": {
        "id": "RNC-k-s4RSS4"
      },
      "execution_count": null,
      "outputs": []
    },
    {
      "cell_type": "markdown",
      "source": [
        "### Análise de desempenho"
      ],
      "metadata": {
        "id": "l82_95h3JsBP"
      }
    },
    {
      "cell_type": "code",
      "source": [
        "# Tabela de classificação\n",
        "tabela <- table(dados_perfume$Utilizou_Cupom, dados_perfume$predito)"
      ],
      "metadata": {
        "id": "B_tsIjDaPVwI"
      },
      "execution_count": null,
      "outputs": []
    },
    {
      "cell_type": "code",
      "source": [
        "# Acurácia\n",
        "(tabela[1,1] + tabela[2,2]) / sum(tabela)"
      ],
      "metadata": {
        "id": "XIH_nvQ9RfyC"
      },
      "execution_count": null,
      "outputs": []
    },
    {
      "cell_type": "code",
      "source": [
        "# Especificidade\n",
        "tabela[1,1] / (tabela[1,1] + tabela[1,2])"
      ],
      "metadata": {
        "id": "izk0HXXIALP4"
      },
      "execution_count": null,
      "outputs": []
    },
    {
      "cell_type": "code",
      "source": [
        "# Sensibilidade\n",
        "tabela[2,2] / (tabela[2,1] + tabela[2,2])"
      ],
      "metadata": {
        "id": "X1UCyp2OPW8w"
      },
      "execution_count": null,
      "outputs": []
    },
    {
      "cell_type": "code",
      "source": [
        "# KS\n",
        "pred <- prediction(dados_perfume$probabilidade, dados_perfume$Utilizou_Cupom)\n",
        "perf <- performance(pred, \"tpr\", \"fpr\")\n",
        "ks <- max(attr(perf, 'y.values')[[1]] - attr(perf, 'x.values')[[1]])\n",
        "\n",
        "print(ks)"
      ],
      "metadata": {
        "id": "BVca4OaaUfqZ"
      },
      "execution_count": null,
      "outputs": []
    },
    {
      "cell_type": "code",
      "source": [
        "# AUC\n",
        "pred <- prediction(dados_perfume$probabilidade, dados_perfume$Utilizou_Cupom)\n",
        "auc <- performance(pred, \"auc\")\n",
        "auc <- auc@y.values[[1]]\n",
        "\n",
        "print(auc)"
      ],
      "metadata": {
        "id": "JsaFkT9yU5v5"
      },
      "execution_count": null,
      "outputs": []
    },
    {
      "cell_type": "markdown",
      "source": [
        "### Exemplo de uso (aplicação) do modelo"
      ],
      "metadata": {
        "id": "jVg-t0b6WD8S"
      }
    },
    {
      "cell_type": "code",
      "source": [
        "# Criação de base de dados com um novo cliente, do gênero feminino, com 50 anos de idade e que mora na cidade de São Paulo\n",
        "# Obs.: os nomes das colunas e padrão de conteúdo devem ser idênticos aos da base utilizada para construção do modelo\n",
        "novos_dados <- data.frame(Genero = c(\"Feminino\"),\n",
        "                          Idade  = c(50),\n",
        "                          Cidade = c(\"Sao_Paulo\"))"
      ],
      "metadata": {
        "id": "lU6Z4u1BWEJq"
      },
      "execution_count": null,
      "outputs": []
    },
    {
      "cell_type": "code",
      "source": [
        "# Aplicação do modelo\n",
        "novos_dados$PROB_USAR_CUPOM <- predict(regressao_2, novos_dados, type = \"response\")\n",
        "View(novos_dados)"
      ],
      "metadata": {
        "id": "Xj6tful6W9lv"
      },
      "execution_count": null,
      "outputs": []
    }
  ]
}
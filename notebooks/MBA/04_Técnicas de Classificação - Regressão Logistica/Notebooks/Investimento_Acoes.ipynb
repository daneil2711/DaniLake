{
 "cells": [
  {
   "cell_type": "markdown",
   "metadata": {
    "id": "L2vudERBJTiT"
   },
   "source": [
    "# **CASE: INVESTIMENTO EM AÇÕES**\n",
    "\n",
    "---"
   ]
  },
  {
   "cell_type": "markdown",
   "metadata": {
    "id": "nGD5Csd2q7VV"
   },
   "source": [
    "### Instalação de bibliotecas"
   ]
  },
  {
   "cell_type": "code",
   "execution_count": null,
   "metadata": {
    "id": "DY4aICW6q8Eb"
   },
   "outputs": [],
   "source": [
    "# Para cálculo do VIF\n",
    "install.packages(\"rms\")\n",
    "# Para cálculo do KS e AUC\n",
    "install.packages(\"ROCR\")"
   ]
  },
  {
   "cell_type": "markdown",
   "metadata": {
    "id": "99PaLHQgvG4X"
   },
   "source": [
    "### Carregamento de bibliotecas"
   ]
  },
  {
   "cell_type": "code",
   "execution_count": 1,
   "metadata": {
    "id": "ypvOgRlIrJaq"
   },
   "outputs": [
    {
     "name": "stderr",
     "output_type": "stream",
     "text": [
      "Loading required package: Hmisc\n",
      "\n",
      "\n",
      "Attaching package: ‘Hmisc’\n",
      "\n",
      "\n",
      "The following objects are masked from ‘package:base’:\n",
      "\n",
      "    format.pval, units\n",
      "\n",
      "\n"
     ]
    }
   ],
   "source": [
    "library(rms)\n",
    "library(ROCR)"
   ]
  },
  {
   "cell_type": "markdown",
   "metadata": {
    "id": "AppXoGlSJa4f"
   },
   "source": [
    "### Leitura da base de dados"
   ]
  },
  {
   "cell_type": "code",
   "execution_count": 4,
   "metadata": {
    "id": "BKIVxb-yO6kt"
   },
   "outputs": [],
   "source": [
    "dados_investimento <- read.table(file = \"../Dados/Investimento_Acoes.txt\",\n",
    "                                 sep = \"\\t\",\n",
    "                                 dec = \".\",\n",
    "                                 header = TRUE)"
   ]
  },
  {
   "cell_type": "markdown",
   "metadata": {
    "id": "QjxtmJktJf24"
   },
   "source": [
    "### Visualização da base de dados"
   ]
  },
  {
   "cell_type": "code",
   "execution_count": 5,
   "metadata": {
    "id": "FJUJqh-_O4Dh",
    "scrolled": true
   },
   "outputs": [
    {
     "data": {
      "text/html": [
       "<table class=\"dataframe\">\n",
       "<caption>A data.frame: 7817 × 7</caption>\n",
       "<thead>\n",
       "\t<tr><th scope=col>ID_Cliente</th><th scope=col>Investimento_Fixa</th><th scope=col>Investimento_Tesouro</th><th scope=col>Investimento_Poupanca</th><th scope=col>Rendimento_Liq_12M</th><th scope=col>Saldo_Conta</th><th scope=col>Investiu_Variavel_6M</th></tr>\n",
       "\t<tr><th scope=col>&lt;int&gt;</th><th scope=col>&lt;dbl&gt;</th><th scope=col>&lt;dbl&gt;</th><th scope=col>&lt;dbl&gt;</th><th scope=col>&lt;dbl&gt;</th><th scope=col>&lt;dbl&gt;</th><th scope=col>&lt;int&gt;</th></tr>\n",
       "</thead>\n",
       "<tbody>\n",
       "\t<tr><td> 1</td><td>    0.00</td><td> 5434.42</td><td>   0.00</td><td>229.52</td><td>   0.00</td><td>0</td></tr>\n",
       "\t<tr><td> 2</td><td> 8240.53</td><td> 4066.68</td><td>   0.00</td><td>429.71</td><td>6145.54</td><td>0</td></tr>\n",
       "\t<tr><td> 3</td><td> 3843.34</td><td> 4757.95</td><td>   0.00</td><td> 65.21</td><td>   0.00</td><td>0</td></tr>\n",
       "\t<tr><td> 4</td><td> 2297.05</td><td> 4201.29</td><td>   0.00</td><td>308.23</td><td>   0.00</td><td>0</td></tr>\n",
       "\t<tr><td> 5</td><td> 2477.00</td><td> 4146.93</td><td>   0.00</td><td>156.40</td><td>1328.92</td><td>0</td></tr>\n",
       "\t<tr><td> 6</td><td>    0.00</td><td> 1224.36</td><td>   0.00</td><td> 44.74</td><td>1252.03</td><td>0</td></tr>\n",
       "\t<tr><td> 7</td><td> 7581.91</td><td> 6226.31</td><td>   0.00</td><td> 36.74</td><td>   0.00</td><td>0</td></tr>\n",
       "\t<tr><td> 8</td><td>13175.12</td><td> 8205.17</td><td>1218.63</td><td> 13.82</td><td>   0.00</td><td>0</td></tr>\n",
       "\t<tr><td> 9</td><td> 8915.83</td><td>14130.66</td><td>   0.00</td><td>912.88</td><td>   0.00</td><td>0</td></tr>\n",
       "\t<tr><td>10</td><td> 1606.04</td><td> 1701.19</td><td>   0.00</td><td>126.81</td><td>   0.00</td><td>0</td></tr>\n",
       "\t<tr><td>11</td><td> 5695.82</td><td> 2925.83</td><td>   0.00</td><td> 35.59</td><td>   0.00</td><td>0</td></tr>\n",
       "\t<tr><td>12</td><td> 6705.23</td><td> 3329.08</td><td>   0.00</td><td>319.36</td><td>3761.99</td><td>0</td></tr>\n",
       "\t<tr><td>13</td><td> 2934.76</td><td>    0.00</td><td>   0.00</td><td> 53.05</td><td>   0.00</td><td>0</td></tr>\n",
       "\t<tr><td>14</td><td> 7260.30</td><td> 5000.95</td><td>   0.00</td><td>226.37</td><td>   0.00</td><td>0</td></tr>\n",
       "\t<tr><td>15</td><td>    0.00</td><td> 4124.91</td><td>   0.00</td><td>127.27</td><td>   0.00</td><td>0</td></tr>\n",
       "\t<tr><td>16</td><td> 1161.93</td><td>    0.00</td><td>   0.00</td><td> 18.08</td><td>   0.00</td><td>0</td></tr>\n",
       "\t<tr><td>17</td><td>    0.00</td><td> 1015.48</td><td>   0.00</td><td> 30.31</td><td>1931.05</td><td>0</td></tr>\n",
       "\t<tr><td>18</td><td> 3025.28</td><td> 1119.41</td><td>2872.83</td><td>104.45</td><td>   0.00</td><td>0</td></tr>\n",
       "\t<tr><td>19</td><td>12558.16</td><td> 1734.78</td><td>   0.00</td><td>244.78</td><td>2163.11</td><td>0</td></tr>\n",
       "\t<tr><td>20</td><td>    0.00</td><td> 4253.52</td><td>   0.00</td><td>102.30</td><td>   0.00</td><td>0</td></tr>\n",
       "\t<tr><td>21</td><td> 1762.59</td><td>    0.00</td><td>   0.00</td><td> 69.10</td><td>   0.00</td><td>0</td></tr>\n",
       "\t<tr><td>22</td><td>    0.00</td><td> 4657.47</td><td>   0.00</td><td>108.45</td><td> 726.00</td><td>0</td></tr>\n",
       "\t<tr><td>23</td><td> 3493.48</td><td> 1123.42</td><td>   0.00</td><td>136.69</td><td> 585.92</td><td>0</td></tr>\n",
       "\t<tr><td>24</td><td> 3848.84</td><td> 3987.04</td><td>   0.00</td><td> 10.27</td><td> 287.58</td><td>0</td></tr>\n",
       "\t<tr><td>25</td><td> 8070.76</td><td>    0.00</td><td>   0.00</td><td>201.05</td><td> 641.01</td><td>0</td></tr>\n",
       "\t<tr><td>26</td><td>    0.00</td><td> 2761.84</td><td>   0.00</td><td>120.87</td><td>   0.00</td><td>0</td></tr>\n",
       "\t<tr><td>27</td><td> 3421.92</td><td>    0.00</td><td>   0.00</td><td>148.45</td><td>5449.88</td><td>0</td></tr>\n",
       "\t<tr><td>28</td><td> 3054.42</td><td> 3321.99</td><td>   0.00</td><td> 27.40</td><td>   0.00</td><td>0</td></tr>\n",
       "\t<tr><td>29</td><td> 3900.05</td><td> 2609.73</td><td>1494.03</td><td>324.96</td><td>   0.00</td><td>0</td></tr>\n",
       "\t<tr><td>30</td><td> 3175.70</td><td> 2666.83</td><td>   0.00</td><td>  9.12</td><td>   0.00</td><td>0</td></tr>\n",
       "\t<tr><td>⋮</td><td>⋮</td><td>⋮</td><td>⋮</td><td>⋮</td><td>⋮</td><td>⋮</td></tr>\n",
       "\t<tr><td>7788</td><td> 2396.12</td><td>    0.00</td><td>   0.00</td><td> 82.52</td><td>   0.00</td><td>0</td></tr>\n",
       "\t<tr><td>7789</td><td> 9998.04</td><td> 2415.73</td><td>1935.43</td><td>510.27</td><td>   0.00</td><td>0</td></tr>\n",
       "\t<tr><td>7790</td><td>    0.00</td><td> 5861.77</td><td>   0.00</td><td>280.01</td><td>   0.00</td><td>0</td></tr>\n",
       "\t<tr><td>7791</td><td> 3287.26</td><td> 1886.84</td><td>   0.00</td><td> 27.68</td><td>   0.00</td><td>0</td></tr>\n",
       "\t<tr><td>7792</td><td> 5605.06</td><td> 1497.35</td><td>   0.00</td><td>271.98</td><td>   0.00</td><td>0</td></tr>\n",
       "\t<tr><td>7793</td><td> 4061.57</td><td> 2205.07</td><td>   0.00</td><td> 27.57</td><td>   0.00</td><td>0</td></tr>\n",
       "\t<tr><td>7794</td><td> 3913.42</td><td> 3278.87</td><td>   0.00</td><td>  9.63</td><td>   0.00</td><td>0</td></tr>\n",
       "\t<tr><td>7795</td><td> 2217.48</td><td>    0.00</td><td>4421.91</td><td>125.43</td><td>1589.65</td><td>0</td></tr>\n",
       "\t<tr><td>7796</td><td> 2064.98</td><td> 9372.03</td><td>   0.00</td><td> 16.31</td><td>   0.00</td><td>0</td></tr>\n",
       "\t<tr><td>7797</td><td> 1945.16</td><td> 3545.21</td><td>   0.00</td><td> 55.81</td><td>4603.53</td><td>0</td></tr>\n",
       "\t<tr><td>7798</td><td> 7887.32</td><td> 1076.65</td><td>   0.00</td><td>443.59</td><td> 178.51</td><td>0</td></tr>\n",
       "\t<tr><td>7799</td><td> 1324.33</td><td> 7693.56</td><td>   0.00</td><td>342.33</td><td>   0.00</td><td>0</td></tr>\n",
       "\t<tr><td>7800</td><td> 4266.72</td><td> 3065.76</td><td>   0.00</td><td>328.70</td><td>7411.28</td><td>0</td></tr>\n",
       "\t<tr><td>7801</td><td> 2900.76</td><td>    0.00</td><td>2718.68</td><td> 29.37</td><td>   0.00</td><td>0</td></tr>\n",
       "\t<tr><td>7802</td><td> 1364.08</td><td> 3393.51</td><td>   0.00</td><td>191.80</td><td>   0.00</td><td>0</td></tr>\n",
       "\t<tr><td>7803</td><td> 1332.45</td><td> 1607.60</td><td>   0.00</td><td>107.22</td><td>   0.00</td><td>0</td></tr>\n",
       "\t<tr><td>7804</td><td> 3904.88</td><td> 3060.24</td><td>   0.00</td><td>296.23</td><td>   0.00</td><td>0</td></tr>\n",
       "\t<tr><td>7805</td><td>11559.95</td><td> 1883.57</td><td> 661.74</td><td>397.27</td><td>   0.00</td><td>0</td></tr>\n",
       "\t<tr><td>7806</td><td> 6479.65</td><td>12087.54</td><td>1210.25</td><td>496.98</td><td>   0.00</td><td>0</td></tr>\n",
       "\t<tr><td>7807</td><td> 3112.74</td><td>    0.00</td><td>   0.00</td><td>141.51</td><td>   0.00</td><td>0</td></tr>\n",
       "\t<tr><td>7808</td><td> 1509.12</td><td> 5308.27</td><td> 907.29</td><td>330.62</td><td>2789.14</td><td>0</td></tr>\n",
       "\t<tr><td>7809</td><td>10226.97</td><td>    0.00</td><td>   0.00</td><td>333.57</td><td>   0.00</td><td>0</td></tr>\n",
       "\t<tr><td>7810</td><td> 1373.68</td><td> 6295.34</td><td>   0.00</td><td>210.77</td><td>   0.00</td><td>0</td></tr>\n",
       "\t<tr><td>7811</td><td> 1488.59</td><td> 2152.72</td><td>   0.00</td><td>118.40</td><td> 107.94</td><td>0</td></tr>\n",
       "\t<tr><td>7812</td><td> 7082.77</td><td> 1263.50</td><td> 556.29</td><td> 73.78</td><td> 198.35</td><td>0</td></tr>\n",
       "\t<tr><td>7813</td><td> 2232.44</td><td>    0.00</td><td>   0.00</td><td> 65.54</td><td> 280.96</td><td>0</td></tr>\n",
       "\t<tr><td>7814</td><td> 1668.10</td><td> 2904.59</td><td>   0.00</td><td>164.43</td><td>   0.00</td><td>0</td></tr>\n",
       "\t<tr><td>7815</td><td> 5925.43</td><td>    0.00</td><td>   0.00</td><td> 21.16</td><td>   0.00</td><td>0</td></tr>\n",
       "\t<tr><td>7816</td><td> 7210.73</td><td>    0.00</td><td> 277.28</td><td>353.16</td><td>1304.86</td><td>1</td></tr>\n",
       "\t<tr><td>7817</td><td> 1051.18</td><td> 1667.99</td><td>   0.00</td><td> 15.28</td><td>   0.00</td><td>0</td></tr>\n",
       "</tbody>\n",
       "</table>\n"
      ],
      "text/latex": [
       "A data.frame: 7817 × 7\n",
       "\\begin{tabular}{lllllll}\n",
       " ID\\_Cliente & Investimento\\_Fixa & Investimento\\_Tesouro & Investimento\\_Poupanca & Rendimento\\_Liq\\_12M & Saldo\\_Conta & Investiu\\_Variavel\\_6M\\\\\n",
       " <int> & <dbl> & <dbl> & <dbl> & <dbl> & <dbl> & <int>\\\\\n",
       "\\hline\n",
       "\t  1 &     0.00 &  5434.42 &    0.00 & 229.52 &    0.00 & 0\\\\\n",
       "\t  2 &  8240.53 &  4066.68 &    0.00 & 429.71 & 6145.54 & 0\\\\\n",
       "\t  3 &  3843.34 &  4757.95 &    0.00 &  65.21 &    0.00 & 0\\\\\n",
       "\t  4 &  2297.05 &  4201.29 &    0.00 & 308.23 &    0.00 & 0\\\\\n",
       "\t  5 &  2477.00 &  4146.93 &    0.00 & 156.40 & 1328.92 & 0\\\\\n",
       "\t  6 &     0.00 &  1224.36 &    0.00 &  44.74 & 1252.03 & 0\\\\\n",
       "\t  7 &  7581.91 &  6226.31 &    0.00 &  36.74 &    0.00 & 0\\\\\n",
       "\t  8 & 13175.12 &  8205.17 & 1218.63 &  13.82 &    0.00 & 0\\\\\n",
       "\t  9 &  8915.83 & 14130.66 &    0.00 & 912.88 &    0.00 & 0\\\\\n",
       "\t 10 &  1606.04 &  1701.19 &    0.00 & 126.81 &    0.00 & 0\\\\\n",
       "\t 11 &  5695.82 &  2925.83 &    0.00 &  35.59 &    0.00 & 0\\\\\n",
       "\t 12 &  6705.23 &  3329.08 &    0.00 & 319.36 & 3761.99 & 0\\\\\n",
       "\t 13 &  2934.76 &     0.00 &    0.00 &  53.05 &    0.00 & 0\\\\\n",
       "\t 14 &  7260.30 &  5000.95 &    0.00 & 226.37 &    0.00 & 0\\\\\n",
       "\t 15 &     0.00 &  4124.91 &    0.00 & 127.27 &    0.00 & 0\\\\\n",
       "\t 16 &  1161.93 &     0.00 &    0.00 &  18.08 &    0.00 & 0\\\\\n",
       "\t 17 &     0.00 &  1015.48 &    0.00 &  30.31 & 1931.05 & 0\\\\\n",
       "\t 18 &  3025.28 &  1119.41 & 2872.83 & 104.45 &    0.00 & 0\\\\\n",
       "\t 19 & 12558.16 &  1734.78 &    0.00 & 244.78 & 2163.11 & 0\\\\\n",
       "\t 20 &     0.00 &  4253.52 &    0.00 & 102.30 &    0.00 & 0\\\\\n",
       "\t 21 &  1762.59 &     0.00 &    0.00 &  69.10 &    0.00 & 0\\\\\n",
       "\t 22 &     0.00 &  4657.47 &    0.00 & 108.45 &  726.00 & 0\\\\\n",
       "\t 23 &  3493.48 &  1123.42 &    0.00 & 136.69 &  585.92 & 0\\\\\n",
       "\t 24 &  3848.84 &  3987.04 &    0.00 &  10.27 &  287.58 & 0\\\\\n",
       "\t 25 &  8070.76 &     0.00 &    0.00 & 201.05 &  641.01 & 0\\\\\n",
       "\t 26 &     0.00 &  2761.84 &    0.00 & 120.87 &    0.00 & 0\\\\\n",
       "\t 27 &  3421.92 &     0.00 &    0.00 & 148.45 & 5449.88 & 0\\\\\n",
       "\t 28 &  3054.42 &  3321.99 &    0.00 &  27.40 &    0.00 & 0\\\\\n",
       "\t 29 &  3900.05 &  2609.73 & 1494.03 & 324.96 &    0.00 & 0\\\\\n",
       "\t 30 &  3175.70 &  2666.83 &    0.00 &   9.12 &    0.00 & 0\\\\\n",
       "\t ⋮ & ⋮ & ⋮ & ⋮ & ⋮ & ⋮ & ⋮\\\\\n",
       "\t 7788 &  2396.12 &     0.00 &    0.00 &  82.52 &    0.00 & 0\\\\\n",
       "\t 7789 &  9998.04 &  2415.73 & 1935.43 & 510.27 &    0.00 & 0\\\\\n",
       "\t 7790 &     0.00 &  5861.77 &    0.00 & 280.01 &    0.00 & 0\\\\\n",
       "\t 7791 &  3287.26 &  1886.84 &    0.00 &  27.68 &    0.00 & 0\\\\\n",
       "\t 7792 &  5605.06 &  1497.35 &    0.00 & 271.98 &    0.00 & 0\\\\\n",
       "\t 7793 &  4061.57 &  2205.07 &    0.00 &  27.57 &    0.00 & 0\\\\\n",
       "\t 7794 &  3913.42 &  3278.87 &    0.00 &   9.63 &    0.00 & 0\\\\\n",
       "\t 7795 &  2217.48 &     0.00 & 4421.91 & 125.43 & 1589.65 & 0\\\\\n",
       "\t 7796 &  2064.98 &  9372.03 &    0.00 &  16.31 &    0.00 & 0\\\\\n",
       "\t 7797 &  1945.16 &  3545.21 &    0.00 &  55.81 & 4603.53 & 0\\\\\n",
       "\t 7798 &  7887.32 &  1076.65 &    0.00 & 443.59 &  178.51 & 0\\\\\n",
       "\t 7799 &  1324.33 &  7693.56 &    0.00 & 342.33 &    0.00 & 0\\\\\n",
       "\t 7800 &  4266.72 &  3065.76 &    0.00 & 328.70 & 7411.28 & 0\\\\\n",
       "\t 7801 &  2900.76 &     0.00 & 2718.68 &  29.37 &    0.00 & 0\\\\\n",
       "\t 7802 &  1364.08 &  3393.51 &    0.00 & 191.80 &    0.00 & 0\\\\\n",
       "\t 7803 &  1332.45 &  1607.60 &    0.00 & 107.22 &    0.00 & 0\\\\\n",
       "\t 7804 &  3904.88 &  3060.24 &    0.00 & 296.23 &    0.00 & 0\\\\\n",
       "\t 7805 & 11559.95 &  1883.57 &  661.74 & 397.27 &    0.00 & 0\\\\\n",
       "\t 7806 &  6479.65 & 12087.54 & 1210.25 & 496.98 &    0.00 & 0\\\\\n",
       "\t 7807 &  3112.74 &     0.00 &    0.00 & 141.51 &    0.00 & 0\\\\\n",
       "\t 7808 &  1509.12 &  5308.27 &  907.29 & 330.62 & 2789.14 & 0\\\\\n",
       "\t 7809 & 10226.97 &     0.00 &    0.00 & 333.57 &    0.00 & 0\\\\\n",
       "\t 7810 &  1373.68 &  6295.34 &    0.00 & 210.77 &    0.00 & 0\\\\\n",
       "\t 7811 &  1488.59 &  2152.72 &    0.00 & 118.40 &  107.94 & 0\\\\\n",
       "\t 7812 &  7082.77 &  1263.50 &  556.29 &  73.78 &  198.35 & 0\\\\\n",
       "\t 7813 &  2232.44 &     0.00 &    0.00 &  65.54 &  280.96 & 0\\\\\n",
       "\t 7814 &  1668.10 &  2904.59 &    0.00 & 164.43 &    0.00 & 0\\\\\n",
       "\t 7815 &  5925.43 &     0.00 &    0.00 &  21.16 &    0.00 & 0\\\\\n",
       "\t 7816 &  7210.73 &     0.00 &  277.28 & 353.16 & 1304.86 & 1\\\\\n",
       "\t 7817 &  1051.18 &  1667.99 &    0.00 &  15.28 &    0.00 & 0\\\\\n",
       "\\end{tabular}\n"
      ],
      "text/markdown": [
       "\n",
       "A data.frame: 7817 × 7\n",
       "\n",
       "| ID_Cliente &lt;int&gt; | Investimento_Fixa &lt;dbl&gt; | Investimento_Tesouro &lt;dbl&gt; | Investimento_Poupanca &lt;dbl&gt; | Rendimento_Liq_12M &lt;dbl&gt; | Saldo_Conta &lt;dbl&gt; | Investiu_Variavel_6M &lt;int&gt; |\n",
       "|---|---|---|---|---|---|---|\n",
       "|  1 |     0.00 |  5434.42 |    0.00 | 229.52 |    0.00 | 0 |\n",
       "|  2 |  8240.53 |  4066.68 |    0.00 | 429.71 | 6145.54 | 0 |\n",
       "|  3 |  3843.34 |  4757.95 |    0.00 |  65.21 |    0.00 | 0 |\n",
       "|  4 |  2297.05 |  4201.29 |    0.00 | 308.23 |    0.00 | 0 |\n",
       "|  5 |  2477.00 |  4146.93 |    0.00 | 156.40 | 1328.92 | 0 |\n",
       "|  6 |     0.00 |  1224.36 |    0.00 |  44.74 | 1252.03 | 0 |\n",
       "|  7 |  7581.91 |  6226.31 |    0.00 |  36.74 |    0.00 | 0 |\n",
       "|  8 | 13175.12 |  8205.17 | 1218.63 |  13.82 |    0.00 | 0 |\n",
       "|  9 |  8915.83 | 14130.66 |    0.00 | 912.88 |    0.00 | 0 |\n",
       "| 10 |  1606.04 |  1701.19 |    0.00 | 126.81 |    0.00 | 0 |\n",
       "| 11 |  5695.82 |  2925.83 |    0.00 |  35.59 |    0.00 | 0 |\n",
       "| 12 |  6705.23 |  3329.08 |    0.00 | 319.36 | 3761.99 | 0 |\n",
       "| 13 |  2934.76 |     0.00 |    0.00 |  53.05 |    0.00 | 0 |\n",
       "| 14 |  7260.30 |  5000.95 |    0.00 | 226.37 |    0.00 | 0 |\n",
       "| 15 |     0.00 |  4124.91 |    0.00 | 127.27 |    0.00 | 0 |\n",
       "| 16 |  1161.93 |     0.00 |    0.00 |  18.08 |    0.00 | 0 |\n",
       "| 17 |     0.00 |  1015.48 |    0.00 |  30.31 | 1931.05 | 0 |\n",
       "| 18 |  3025.28 |  1119.41 | 2872.83 | 104.45 |    0.00 | 0 |\n",
       "| 19 | 12558.16 |  1734.78 |    0.00 | 244.78 | 2163.11 | 0 |\n",
       "| 20 |     0.00 |  4253.52 |    0.00 | 102.30 |    0.00 | 0 |\n",
       "| 21 |  1762.59 |     0.00 |    0.00 |  69.10 |    0.00 | 0 |\n",
       "| 22 |     0.00 |  4657.47 |    0.00 | 108.45 |  726.00 | 0 |\n",
       "| 23 |  3493.48 |  1123.42 |    0.00 | 136.69 |  585.92 | 0 |\n",
       "| 24 |  3848.84 |  3987.04 |    0.00 |  10.27 |  287.58 | 0 |\n",
       "| 25 |  8070.76 |     0.00 |    0.00 | 201.05 |  641.01 | 0 |\n",
       "| 26 |     0.00 |  2761.84 |    0.00 | 120.87 |    0.00 | 0 |\n",
       "| 27 |  3421.92 |     0.00 |    0.00 | 148.45 | 5449.88 | 0 |\n",
       "| 28 |  3054.42 |  3321.99 |    0.00 |  27.40 |    0.00 | 0 |\n",
       "| 29 |  3900.05 |  2609.73 | 1494.03 | 324.96 |    0.00 | 0 |\n",
       "| 30 |  3175.70 |  2666.83 |    0.00 |   9.12 |    0.00 | 0 |\n",
       "| ⋮ | ⋮ | ⋮ | ⋮ | ⋮ | ⋮ | ⋮ |\n",
       "| 7788 |  2396.12 |     0.00 |    0.00 |  82.52 |    0.00 | 0 |\n",
       "| 7789 |  9998.04 |  2415.73 | 1935.43 | 510.27 |    0.00 | 0 |\n",
       "| 7790 |     0.00 |  5861.77 |    0.00 | 280.01 |    0.00 | 0 |\n",
       "| 7791 |  3287.26 |  1886.84 |    0.00 |  27.68 |    0.00 | 0 |\n",
       "| 7792 |  5605.06 |  1497.35 |    0.00 | 271.98 |    0.00 | 0 |\n",
       "| 7793 |  4061.57 |  2205.07 |    0.00 |  27.57 |    0.00 | 0 |\n",
       "| 7794 |  3913.42 |  3278.87 |    0.00 |   9.63 |    0.00 | 0 |\n",
       "| 7795 |  2217.48 |     0.00 | 4421.91 | 125.43 | 1589.65 | 0 |\n",
       "| 7796 |  2064.98 |  9372.03 |    0.00 |  16.31 |    0.00 | 0 |\n",
       "| 7797 |  1945.16 |  3545.21 |    0.00 |  55.81 | 4603.53 | 0 |\n",
       "| 7798 |  7887.32 |  1076.65 |    0.00 | 443.59 |  178.51 | 0 |\n",
       "| 7799 |  1324.33 |  7693.56 |    0.00 | 342.33 |    0.00 | 0 |\n",
       "| 7800 |  4266.72 |  3065.76 |    0.00 | 328.70 | 7411.28 | 0 |\n",
       "| 7801 |  2900.76 |     0.00 | 2718.68 |  29.37 |    0.00 | 0 |\n",
       "| 7802 |  1364.08 |  3393.51 |    0.00 | 191.80 |    0.00 | 0 |\n",
       "| 7803 |  1332.45 |  1607.60 |    0.00 | 107.22 |    0.00 | 0 |\n",
       "| 7804 |  3904.88 |  3060.24 |    0.00 | 296.23 |    0.00 | 0 |\n",
       "| 7805 | 11559.95 |  1883.57 |  661.74 | 397.27 |    0.00 | 0 |\n",
       "| 7806 |  6479.65 | 12087.54 | 1210.25 | 496.98 |    0.00 | 0 |\n",
       "| 7807 |  3112.74 |     0.00 |    0.00 | 141.51 |    0.00 | 0 |\n",
       "| 7808 |  1509.12 |  5308.27 |  907.29 | 330.62 | 2789.14 | 0 |\n",
       "| 7809 | 10226.97 |     0.00 |    0.00 | 333.57 |    0.00 | 0 |\n",
       "| 7810 |  1373.68 |  6295.34 |    0.00 | 210.77 |    0.00 | 0 |\n",
       "| 7811 |  1488.59 |  2152.72 |    0.00 | 118.40 |  107.94 | 0 |\n",
       "| 7812 |  7082.77 |  1263.50 |  556.29 |  73.78 |  198.35 | 0 |\n",
       "| 7813 |  2232.44 |     0.00 |    0.00 |  65.54 |  280.96 | 0 |\n",
       "| 7814 |  1668.10 |  2904.59 |    0.00 | 164.43 |    0.00 | 0 |\n",
       "| 7815 |  5925.43 |     0.00 |    0.00 |  21.16 |    0.00 | 0 |\n",
       "| 7816 |  7210.73 |     0.00 |  277.28 | 353.16 | 1304.86 | 1 |\n",
       "| 7817 |  1051.18 |  1667.99 |    0.00 |  15.28 |    0.00 | 0 |\n",
       "\n"
      ],
      "text/plain": [
       "     ID_Cliente Investimento_Fixa Investimento_Tesouro Investimento_Poupanca\n",
       "1     1             0.00           5434.42                0.00              \n",
       "2     2          8240.53           4066.68                0.00              \n",
       "3     3          3843.34           4757.95                0.00              \n",
       "4     4          2297.05           4201.29                0.00              \n",
       "5     5          2477.00           4146.93                0.00              \n",
       "6     6             0.00           1224.36                0.00              \n",
       "7     7          7581.91           6226.31                0.00              \n",
       "8     8         13175.12           8205.17             1218.63              \n",
       "9     9          8915.83          14130.66                0.00              \n",
       "10   10          1606.04           1701.19                0.00              \n",
       "11   11          5695.82           2925.83                0.00              \n",
       "12   12          6705.23           3329.08                0.00              \n",
       "13   13          2934.76              0.00                0.00              \n",
       "14   14          7260.30           5000.95                0.00              \n",
       "15   15             0.00           4124.91                0.00              \n",
       "16   16          1161.93              0.00                0.00              \n",
       "17   17             0.00           1015.48                0.00              \n",
       "18   18          3025.28           1119.41             2872.83              \n",
       "19   19         12558.16           1734.78                0.00              \n",
       "20   20             0.00           4253.52                0.00              \n",
       "21   21          1762.59              0.00                0.00              \n",
       "22   22             0.00           4657.47                0.00              \n",
       "23   23          3493.48           1123.42                0.00              \n",
       "24   24          3848.84           3987.04                0.00              \n",
       "25   25          8070.76              0.00                0.00              \n",
       "26   26             0.00           2761.84                0.00              \n",
       "27   27          3421.92              0.00                0.00              \n",
       "28   28          3054.42           3321.99                0.00              \n",
       "29   29          3900.05           2609.73             1494.03              \n",
       "30   30          3175.70           2666.83                0.00              \n",
       "⋮    ⋮          ⋮                 ⋮                    ⋮                    \n",
       "7788 7788        2396.12              0.00                0.00              \n",
       "7789 7789        9998.04           2415.73             1935.43              \n",
       "7790 7790           0.00           5861.77                0.00              \n",
       "7791 7791        3287.26           1886.84                0.00              \n",
       "7792 7792        5605.06           1497.35                0.00              \n",
       "7793 7793        4061.57           2205.07                0.00              \n",
       "7794 7794        3913.42           3278.87                0.00              \n",
       "7795 7795        2217.48              0.00             4421.91              \n",
       "7796 7796        2064.98           9372.03                0.00              \n",
       "7797 7797        1945.16           3545.21                0.00              \n",
       "7798 7798        7887.32           1076.65                0.00              \n",
       "7799 7799        1324.33           7693.56                0.00              \n",
       "7800 7800        4266.72           3065.76                0.00              \n",
       "7801 7801        2900.76              0.00             2718.68              \n",
       "7802 7802        1364.08           3393.51                0.00              \n",
       "7803 7803        1332.45           1607.60                0.00              \n",
       "7804 7804        3904.88           3060.24                0.00              \n",
       "7805 7805       11559.95           1883.57              661.74              \n",
       "7806 7806        6479.65          12087.54             1210.25              \n",
       "7807 7807        3112.74              0.00                0.00              \n",
       "7808 7808        1509.12           5308.27              907.29              \n",
       "7809 7809       10226.97              0.00                0.00              \n",
       "7810 7810        1373.68           6295.34                0.00              \n",
       "7811 7811        1488.59           2152.72                0.00              \n",
       "7812 7812        7082.77           1263.50              556.29              \n",
       "7813 7813        2232.44              0.00                0.00              \n",
       "7814 7814        1668.10           2904.59                0.00              \n",
       "7815 7815        5925.43              0.00                0.00              \n",
       "7816 7816        7210.73              0.00              277.28              \n",
       "7817 7817        1051.18           1667.99                0.00              \n",
       "     Rendimento_Liq_12M Saldo_Conta Investiu_Variavel_6M\n",
       "1    229.52                0.00     0                   \n",
       "2    429.71             6145.54     0                   \n",
       "3     65.21                0.00     0                   \n",
       "4    308.23                0.00     0                   \n",
       "5    156.40             1328.92     0                   \n",
       "6     44.74             1252.03     0                   \n",
       "7     36.74                0.00     0                   \n",
       "8     13.82                0.00     0                   \n",
       "9    912.88                0.00     0                   \n",
       "10   126.81                0.00     0                   \n",
       "11    35.59                0.00     0                   \n",
       "12   319.36             3761.99     0                   \n",
       "13    53.05                0.00     0                   \n",
       "14   226.37                0.00     0                   \n",
       "15   127.27                0.00     0                   \n",
       "16    18.08                0.00     0                   \n",
       "17    30.31             1931.05     0                   \n",
       "18   104.45                0.00     0                   \n",
       "19   244.78             2163.11     0                   \n",
       "20   102.30                0.00     0                   \n",
       "21    69.10                0.00     0                   \n",
       "22   108.45              726.00     0                   \n",
       "23   136.69              585.92     0                   \n",
       "24    10.27              287.58     0                   \n",
       "25   201.05              641.01     0                   \n",
       "26   120.87                0.00     0                   \n",
       "27   148.45             5449.88     0                   \n",
       "28    27.40                0.00     0                   \n",
       "29   324.96                0.00     0                   \n",
       "30     9.12                0.00     0                   \n",
       "⋮    ⋮                  ⋮           ⋮                   \n",
       "7788  82.52                0.00     0                   \n",
       "7789 510.27                0.00     0                   \n",
       "7790 280.01                0.00     0                   \n",
       "7791  27.68                0.00     0                   \n",
       "7792 271.98                0.00     0                   \n",
       "7793  27.57                0.00     0                   \n",
       "7794   9.63                0.00     0                   \n",
       "7795 125.43             1589.65     0                   \n",
       "7796  16.31                0.00     0                   \n",
       "7797  55.81             4603.53     0                   \n",
       "7798 443.59              178.51     0                   \n",
       "7799 342.33                0.00     0                   \n",
       "7800 328.70             7411.28     0                   \n",
       "7801  29.37                0.00     0                   \n",
       "7802 191.80                0.00     0                   \n",
       "7803 107.22                0.00     0                   \n",
       "7804 296.23                0.00     0                   \n",
       "7805 397.27                0.00     0                   \n",
       "7806 496.98                0.00     0                   \n",
       "7807 141.51                0.00     0                   \n",
       "7808 330.62             2789.14     0                   \n",
       "7809 333.57                0.00     0                   \n",
       "7810 210.77                0.00     0                   \n",
       "7811 118.40              107.94     0                   \n",
       "7812  73.78              198.35     0                   \n",
       "7813  65.54              280.96     0                   \n",
       "7814 164.43                0.00     0                   \n",
       "7815  21.16                0.00     0                   \n",
       "7816 353.16             1304.86     1                   \n",
       "7817  15.28                0.00     0                   "
      ]
     },
     "metadata": {},
     "output_type": "display_data"
    }
   ],
   "source": [
    "View(dados_investimento)"
   ]
  },
  {
   "cell_type": "markdown",
   "metadata": {
    "id": "PYTvweDFJimD"
   },
   "source": [
    "### Análise exploratória breve"
   ]
  },
  {
   "cell_type": "code",
   "execution_count": 6,
   "metadata": {
    "id": "TD_M_1CzO0L8"
   },
   "outputs": [
    {
     "data": {
      "text/plain": [
       "   ID_Cliente   Investimento_Fixa Investimento_Tesouro Investimento_Poupanca\n",
       " Min.   :   1   Min.   :    0     Min.   :    0        Min.   :    0.0      \n",
       " 1st Qu.:1955   1st Qu.: 1420     1st Qu.: 1026        1st Qu.:    0.0      \n",
       " Median :3909   Median : 3036     Median : 2228        Median :    0.0      \n",
       " Mean   :3909   Mean   : 4131     Mean   : 3063        Mean   :  312.3      \n",
       " 3rd Qu.:5863   3rd Qu.: 5813     3rd Qu.: 4427        3rd Qu.:    0.0      \n",
       " Max.   :7817   Max.   :39843     Max.   :26943        Max.   :15107.3      \n",
       " Rendimento_Liq_12M  Saldo_Conta      Investiu_Variavel_6M\n",
       " Min.   :   8.94    Min.   :    0.0   Min.   :0.00000     \n",
       " 1st Qu.:  53.70    1st Qu.:    0.0   1st Qu.:0.00000     \n",
       " Median : 124.72    Median :    0.0   Median :0.00000     \n",
       " Mean   : 179.52    Mean   :  483.3   Mean   :0.07778     \n",
       " 3rd Qu.: 247.37    3rd Qu.:  463.6   3rd Qu.:0.00000     \n",
       " Max.   :1473.21    Max.   :12572.7   Max.   :1.00000     "
      ]
     },
     "metadata": {},
     "output_type": "display_data"
    }
   ],
   "source": [
    "# Medidas resumo\n",
    "summary(dados_investimento)"
   ]
  },
  {
   "cell_type": "markdown",
   "metadata": {
    "id": "hvZQdAvYJn80"
   },
   "source": [
    "### Análise bivariada: variável resposta vs. variáveis explicativas"
   ]
  },
  {
   "cell_type": "code",
   "execution_count": 7,
   "metadata": {
    "id": "wkGE0SWRjTKA"
   },
   "outputs": [],
   "source": [
    "# Comando auxiliar para aumentar resolução do gráfico (recomendado apenas no Colab)\n",
    "reset_options <- options()\n",
    "options(repr.plot.width = 20, repr.plot.height = 7)"
   ]
  },
  {
   "cell_type": "code",
   "execution_count": 8,
   "metadata": {
    "id": "YugAaIaWxki8"
   },
   "outputs": [
    {
     "data": {
      "image/png": "[encoded data removed]",
      "text/plain": [
       "Plot with title “Saldo em Conta”"
      ]
     },
     "metadata": {
      "image/png": {
       "height": 420,
       "width": 1200
      }
     },
     "output_type": "display_data"
    }
   ],
   "source": [
    "# Gráficos de boxplots\n",
    "par(mfrow = c(1,5), cex = 1)\n",
    "boxplot(Investimento_Fixa ~ Investiu_Variavel_6M,     data = dados_investimento, col = \"darkturquoise\", main = \"Investimento em Renda Fixa\")\n",
    "boxplot(Investimento_Tesouro ~ Investiu_Variavel_6M,  data = dados_investimento, col = \"darkturquoise\", main = \"Investimento em Tesouro\")\n",
    "boxplot(Investimento_Poupanca ~ Investiu_Variavel_6M, data = dados_investimento, col = \"darkturquoise\", main = \"Investimento em Poupança\")\n",
    "boxplot(Rendimento_Liq_12M ~ Investiu_Variavel_6M,    data = dados_investimento, col = \"darkturquoise\", main = \"Rendimento Líquido em 12M\")\n",
    "boxplot(Saldo_Conta ~ Investiu_Variavel_6M,           data = dados_investimento, col = \"darkturquoise\", main = \"Saldo em Conta\")"
   ]
  },
  {
   "cell_type": "code",
   "execution_count": 9,
   "metadata": {
    "id": "fQ5HiNQqvXVu"
   },
   "outputs": [],
   "source": [
    "# Resetando parâmetros gráficos (recomendado apenas no Colab)\n",
    "options(reset_options)"
   ]
  },
  {
   "cell_type": "markdown",
   "metadata": {
    "id": "usjTOesQJpQI"
   },
   "source": [
    "### Modelo de regressão logística múltipla"
   ]
  },
  {
   "cell_type": "code",
   "execution_count": 10,
   "metadata": {
    "id": "SRr0HokUyf6E"
   },
   "outputs": [],
   "source": [
    "# Comando auxiliar para para omitir notação científica nos p-valores e controlar largura dos outputs na tela do Colab\n",
    "options(scipen = 999, width = 200)"
   ]
  },
  {
   "cell_type": "code",
   "execution_count": 11,
   "metadata": {
    "id": "jzOA-NoBPTuv"
   },
   "outputs": [
    {
     "data": {
      "text/plain": [
       "\n",
       "Call:\n",
       "glm(formula = Investiu_Variavel_6M ~ Investimento_Fixa + Investimento_Tesouro + \n",
       "    Investimento_Poupanca + Rendimento_Liq_12M + Saldo_Conta, \n",
       "    family = binomial(link = \"logit\"), data = dados_investimento)\n",
       "\n",
       "Coefficients:\n",
       "                         Estimate  Std. Error z value             Pr(>|z|)    \n",
       "(Intercept)           -3.03374236  0.08096865 -37.468 < 0.0000000000000002 ***\n",
       "Investimento_Fixa      0.00008317  0.00001087   7.648   0.0000000000000204 ***\n",
       "Investimento_Tesouro  -0.00001037  0.00001534  -0.676              0.49906    \n",
       "Investimento_Poupanca -0.00052821  0.00010053  -5.254   0.0000001486182413 ***\n",
       "Rendimento_Liq_12M     0.00078165  0.00028365   2.756              0.00586 ** \n",
       "Saldo_Conta            0.00019513  0.00003278   5.953   0.0000000026284680 ***\n",
       "---\n",
       "Signif. codes:  0 ‘***’ 0.001 ‘**’ 0.01 ‘*’ 0.05 ‘.’ 0.1 ‘ ’ 1\n",
       "\n",
       "(Dispersion parameter for binomial family taken to be 1)\n",
       "\n",
       "    Null deviance: 4273.0  on 7816  degrees of freedom\n",
       "Residual deviance: 4043.6  on 7811  degrees of freedom\n",
       "AIC: 4055.6\n",
       "\n",
       "Number of Fisher Scoring iterations: 7\n"
      ]
     },
     "metadata": {},
     "output_type": "display_data"
    }
   ],
   "source": [
    "# Ajuste do modelo 1: inicial\n",
    "regressao_1 <- glm(Investiu_Variavel_6M ~\n",
    "                     Investimento_Fixa +\n",
    "                     Investimento_Tesouro +\n",
    "                     Investimento_Poupanca +\n",
    "                     Rendimento_Liq_12M +\n",
    "                     Saldo_Conta,\n",
    "                   family = binomial(link = 'logit'),\n",
    "                   data = dados_investimento)\n",
    "\n",
    "summary(regressao_1)"
   ]
  },
  {
   "cell_type": "code",
   "execution_count": 12,
   "metadata": {
    "id": "_chXPFxunWD9"
   },
   "outputs": [
    {
     "data": {
      "text/plain": [
       "\n",
       "Call:\n",
       "glm(formula = Investiu_Variavel_6M ~ Investimento_Fixa + Investimento_Poupanca + \n",
       "    Rendimento_Liq_12M + Saldo_Conta, family = binomial(link = \"logit\"), \n",
       "    data = dados_investimento)\n",
       "\n",
       "Coefficients:\n",
       "                         Estimate  Std. Error z value             Pr(>|z|)    \n",
       "(Intercept)           -3.05918437  0.07194886 -42.519 < 0.0000000000000002 ***\n",
       "Investimento_Fixa      0.00008578  0.00001011   8.484 < 0.0000000000000002 ***\n",
       "Investimento_Poupanca -0.00052722  0.00010055  -5.243        0.00000015775 ***\n",
       "Rendimento_Liq_12M     0.00068468  0.00024342   2.813              0.00491 ** \n",
       "Saldo_Conta            0.00019556  0.00003278   5.966        0.00000000244 ***\n",
       "---\n",
       "Signif. codes:  0 ‘***’ 0.001 ‘**’ 0.01 ‘*’ 0.05 ‘.’ 0.1 ‘ ’ 1\n",
       "\n",
       "(Dispersion parameter for binomial family taken to be 1)\n",
       "\n",
       "    Null deviance: 4273.0  on 7816  degrees of freedom\n",
       "Residual deviance: 4044.1  on 7812  degrees of freedom\n",
       "AIC: 4054.1\n",
       "\n",
       "Number of Fisher Scoring iterations: 7\n"
      ]
     },
     "metadata": {},
     "output_type": "display_data"
    }
   ],
   "source": [
    "# Ajuste do modelo 2: retirando Investimento_Tesouro\n",
    "regressao_2 <- glm(Investiu_Variavel_6M ~\n",
    "                     Investimento_Fixa +\n",
    "                     Investimento_Poupanca +\n",
    "                     Rendimento_Liq_12M +\n",
    "                     Saldo_Conta,\n",
    "                   family = binomial(link = 'logit'),\n",
    "                   data = dados_investimento)\n",
    "\n",
    "summary(regressao_2)"
   ]
  },
  {
   "cell_type": "code",
   "execution_count": 13,
   "metadata": {
    "id": "5VwsoEm4xE5K"
   },
   "outputs": [
    {
     "data": {
      "text/html": [
       "<table class=\"dataframe\">\n",
       "<caption>A data.frame: 4 × 1</caption>\n",
       "<thead>\n",
       "\t<tr><th></th><th scope=col>VIF</th></tr>\n",
       "\t<tr><th></th><th scope=col>&lt;dbl&gt;</th></tr>\n",
       "</thead>\n",
       "<tbody>\n",
       "\t<tr><th scope=row>Investimento_Fixa</th><td>1.535397</td></tr>\n",
       "\t<tr><th scope=row>Investimento_Poupanca</th><td>1.000747</td></tr>\n",
       "\t<tr><th scope=row>Rendimento_Liq_12M</th><td>1.536669</td></tr>\n",
       "\t<tr><th scope=row>Saldo_Conta</th><td>1.001571</td></tr>\n",
       "</tbody>\n",
       "</table>\n"
      ],
      "text/latex": [
       "A data.frame: 4 × 1\n",
       "\\begin{tabular}{r|l}\n",
       "  & VIF\\\\\n",
       "  & <dbl>\\\\\n",
       "\\hline\n",
       "\tInvestimento\\_Fixa & 1.535397\\\\\n",
       "\tInvestimento\\_Poupanca & 1.000747\\\\\n",
       "\tRendimento\\_Liq\\_12M & 1.536669\\\\\n",
       "\tSaldo\\_Conta & 1.001571\\\\\n",
       "\\end{tabular}\n"
      ],
      "text/markdown": [
       "\n",
       "A data.frame: 4 × 1\n",
       "\n",
       "| <!--/--> | VIF &lt;dbl&gt; |\n",
       "|---|---|\n",
       "| Investimento_Fixa | 1.535397 |\n",
       "| Investimento_Poupanca | 1.000747 |\n",
       "| Rendimento_Liq_12M | 1.536669 |\n",
       "| Saldo_Conta | 1.001571 |\n",
       "\n"
      ],
      "text/plain": [
       "                      VIF     \n",
       "Investimento_Fixa     1.535397\n",
       "Investimento_Poupanca 1.000747\n",
       "Rendimento_Liq_12M    1.536669\n",
       "Saldo_Conta           1.001571"
      ]
     },
     "metadata": {},
     "output_type": "display_data"
    }
   ],
   "source": [
    "# Avaliação de colinearidade no modelo 2\n",
    "data.frame(VIF = vif(regressao_2))"
   ]
  },
  {
   "cell_type": "code",
   "execution_count": 14,
   "metadata": {
    "id": "WopNkH4RJsjA"
   },
   "outputs": [
    {
     "data": {
      "text/plain": [
       "\n",
       "Call:\n",
       "glm(formula = Investiu_Variavel_6M ~ Investimento_Fixa + Investimento_Poupanca + \n",
       "    Saldo_Conta, family = binomial(link = \"logit\"), data = dados_investimento)\n",
       "\n",
       "Coefficients:\n",
       "                          Estimate   Std. Error z value             Pr(>|z|)    \n",
       "(Intercept)           -2.999416204  0.068369380 -43.871 < 0.0000000000000002 ***\n",
       "Investimento_Fixa      0.000102193  0.000008159  12.526 < 0.0000000000000002 ***\n",
       "Investimento_Poupanca -0.000523673  0.000100636  -5.204        0.00000019541 ***\n",
       "Saldo_Conta            0.000193633  0.000032805   5.903        0.00000000358 ***\n",
       "---\n",
       "Signif. codes:  0 ‘***’ 0.001 ‘**’ 0.01 ‘*’ 0.05 ‘.’ 0.1 ‘ ’ 1\n",
       "\n",
       "(Dispersion parameter for binomial family taken to be 1)\n",
       "\n",
       "    Null deviance: 4273.0  on 7816  degrees of freedom\n",
       "Residual deviance: 4051.8  on 7813  degrees of freedom\n",
       "AIC: 4059.8\n",
       "\n",
       "Number of Fisher Scoring iterations: 6\n"
      ]
     },
     "metadata": {},
     "output_type": "display_data"
    }
   ],
   "source": [
    "# Ajuste do modelo 3: retirando Rendimento_Liq_12M (colinearidade)\n",
    "regressao_3 <- glm(Investiu_Variavel_6M ~\n",
    "                     Investimento_Fixa +\n",
    "                     Investimento_Poupanca +\n",
    "                     Saldo_Conta,\n",
    "                   family = binomial(link = 'logit'),\n",
    "                   data = dados_investimento)\n",
    "\n",
    "summary(regressao_3)"
   ]
  },
  {
   "cell_type": "code",
   "execution_count": 15,
   "metadata": {
    "id": "RoYTGKKrJspk"
   },
   "outputs": [
    {
     "data": {
      "text/html": [
       "<table class=\"dataframe\">\n",
       "<caption>A data.frame: 3 × 1</caption>\n",
       "<thead>\n",
       "\t<tr><th></th><th scope=col>VIF</th></tr>\n",
       "\t<tr><th></th><th scope=col>&lt;dbl&gt;</th></tr>\n",
       "</thead>\n",
       "<tbody>\n",
       "\t<tr><th scope=row>Investimento_Fixa</th><td>1.001116</td></tr>\n",
       "\t<tr><th scope=row>Investimento_Poupanca</th><td>1.000395</td></tr>\n",
       "\t<tr><th scope=row>Saldo_Conta</th><td>1.000855</td></tr>\n",
       "</tbody>\n",
       "</table>\n"
      ],
      "text/latex": [
       "A data.frame: 3 × 1\n",
       "\\begin{tabular}{r|l}\n",
       "  & VIF\\\\\n",
       "  & <dbl>\\\\\n",
       "\\hline\n",
       "\tInvestimento\\_Fixa & 1.001116\\\\\n",
       "\tInvestimento\\_Poupanca & 1.000395\\\\\n",
       "\tSaldo\\_Conta & 1.000855\\\\\n",
       "\\end{tabular}\n"
      ],
      "text/markdown": [
       "\n",
       "A data.frame: 3 × 1\n",
       "\n",
       "| <!--/--> | VIF &lt;dbl&gt; |\n",
       "|---|---|\n",
       "| Investimento_Fixa | 1.001116 |\n",
       "| Investimento_Poupanca | 1.000395 |\n",
       "| Saldo_Conta | 1.000855 |\n",
       "\n"
      ],
      "text/plain": [
       "                      VIF     \n",
       "Investimento_Fixa     1.001116\n",
       "Investimento_Poupanca 1.000395\n",
       "Saldo_Conta           1.000855"
      ]
     },
     "metadata": {},
     "output_type": "display_data"
    }
   ],
   "source": [
    "# Avaliação de colinearidade no modelo 3\n",
    "data.frame(VIF = vif(regressao_3))"
   ]
  },
  {
   "cell_type": "markdown",
   "metadata": {
    "id": "HIigFeGjJwpL"
   },
   "source": [
    "### Aplicação do modelo 2 e definição de resposta predita"
   ]
  },
  {
   "cell_type": "code",
   "execution_count": 16,
   "metadata": {
    "id": "EqfzhugvQ8qj"
   },
   "outputs": [],
   "source": [
    "# Aplicação do modelo na base (criação de uma nova coluna chamada \"probabilidade\")\n",
    "dados_investimento$probabilidade_modelo_2 <- predict(regressao_2,\n",
    "                                                     dados_investimento,\n",
    "                                                     type = \"response\")"
   ]
  },
  {
   "cell_type": "code",
   "execution_count": 17,
   "metadata": {
    "id": "OsmFiZrHRJHw"
   },
   "outputs": [
    {
     "data": {
      "text/html": [
       "0.0777791991812716"
      ],
      "text/latex": [
       "0.0777791991812716"
      ],
      "text/markdown": [
       "0.0777791991812716"
      ],
      "text/plain": [
       "[1] 0.0777792"
      ]
     },
     "metadata": {},
     "output_type": "display_data"
    }
   ],
   "source": [
    "# Definição de ponto de corte (padrão: % de 1's na amostra)\n",
    "ponto_corte <- mean(dados_investimento$Investiu_Variavel_6M)\n",
    "ponto_corte"
   ]
  },
  {
   "cell_type": "code",
   "execution_count": 18,
   "metadata": {
    "id": "RNC-k-s4RSS4"
   },
   "outputs": [],
   "source": [
    "# Definição da resposta predita pelo modelo (criação de uma nova coluna chamada \"predito\")\n",
    "dados_investimento$predito_modelo_2 <- as.factor(ifelse(dados_investimento$probabilidade_modelo_2 > ponto_corte, 1, 0))"
   ]
  },
  {
   "cell_type": "markdown",
   "metadata": {
    "id": "l82_95h3JsBP"
   },
   "source": [
    "### Análise de desempenho: modelo 2"
   ]
  },
  {
   "cell_type": "code",
   "execution_count": 19,
   "metadata": {
    "id": "B_tsIjDaPVwI"
   },
   "outputs": [
    {
     "data": {
      "text/plain": [
       "   \n",
       "       0    1\n",
       "  0 4909 2300\n",
       "  1  277  331"
      ]
     },
     "metadata": {},
     "output_type": "display_data"
    }
   ],
   "source": [
    "# Tabela de classificação\n",
    "tabela <- table(dados_investimento$Investiu_Variavel_6M, dados_investimento$predito_modelo_2)\n",
    "tabela"
   ]
  },
  {
   "cell_type": "code",
   "execution_count": 20,
   "metadata": {
    "id": "XIH_nvQ9RfyC"
   },
   "outputs": [
    {
     "data": {
      "text/html": [
       "0.670333887680696"
      ],
      "text/latex": [
       "0.670333887680696"
      ],
      "text/markdown": [
       "0.670333887680696"
      ],
      "text/plain": [
       "[1] 0.6703339"
      ]
     },
     "metadata": {},
     "output_type": "display_data"
    }
   ],
   "source": [
    "# Acurácia\n",
    "(tabela[1,1] + tabela[2,2]) / sum(tabela)"
   ]
  },
  {
   "cell_type": "code",
   "execution_count": 21,
   "metadata": {
    "id": "izk0HXXIALP4"
   },
   "outputs": [
    {
     "data": {
      "text/html": [
       "0.680954362602303"
      ],
      "text/latex": [
       "0.680954362602303"
      ],
      "text/markdown": [
       "0.680954362602303"
      ],
      "text/plain": [
       "[1] 0.6809544"
      ]
     },
     "metadata": {},
     "output_type": "display_data"
    }
   ],
   "source": [
    "# Especificidade\n",
    "tabela[1,1] / (tabela[1,1] + tabela[1,2])"
   ]
  },
  {
   "cell_type": "code",
   "execution_count": 22,
   "metadata": {
    "id": "X1UCyp2OPW8w"
   },
   "outputs": [
    {
     "data": {
      "text/html": [
       "0.544407894736842"
      ],
      "text/latex": [
       "0.544407894736842"
      ],
      "text/markdown": [
       "0.544407894736842"
      ],
      "text/plain": [
       "[1] 0.5444079"
      ]
     },
     "metadata": {},
     "output_type": "display_data"
    }
   ],
   "source": [
    "# Sensibilidade\n",
    "tabela[2,2] / (tabela[2,1] + tabela[2,2])"
   ]
  },
  {
   "cell_type": "code",
   "execution_count": 23,
   "metadata": {
    "id": "BVca4OaaUfqZ"
   },
   "outputs": [
    {
     "name": "stdout",
     "output_type": "stream",
     "text": [
      "[1] 0.2538206\n"
     ]
    }
   ],
   "source": [
    "# KS\n",
    "pred <- prediction(dados_investimento$probabilidade_modelo_2, dados_investimento$Investiu_Variavel_6M)\n",
    "perf <- performance(pred, \"tpr\", \"fpr\")\n",
    "ks <- max(attr(perf, 'y.values')[[1]] - attr(perf, 'x.values')[[1]])\n",
    "\n",
    "print(ks)"
   ]
  },
  {
   "cell_type": "code",
   "execution_count": 24,
   "metadata": {
    "id": "JsaFkT9yU5v5"
   },
   "outputs": [
    {
     "name": "stdout",
     "output_type": "stream",
     "text": [
      "[1] 0.6595507\n"
     ]
    }
   ],
   "source": [
    "# AUC\n",
    "pred <- prediction(dados_investimento$probabilidade_modelo_2, dados_investimento$Investiu_Variavel_6M)\n",
    "auc <- performance(pred, \"auc\")\n",
    "auc <- auc@y.values[[1]]\n",
    "\n",
    "print(auc)"
   ]
  },
  {
   "cell_type": "markdown",
   "metadata": {
    "id": "dK6UI-rOK9Y2"
   },
   "source": [
    "### Aplicação do modelo 3 e definição de resposta predita"
   ]
  },
  {
   "cell_type": "code",
   "execution_count": 25,
   "metadata": {
    "id": "YcOcK-lfLCO8"
   },
   "outputs": [],
   "source": [
    "# Aplicação do modelo na base (criação de uma nova coluna chamada \"probabilidade\")\n",
    "dados_investimento$probabilidade_modelo_3 <- predict(regressao_3,\n",
    "                                                     dados_investimento,\n",
    "                                                     type = \"response\")"
   ]
  },
  {
   "cell_type": "code",
   "execution_count": 26,
   "metadata": {
    "id": "jzSluOOILDoh"
   },
   "outputs": [
    {
     "data": {
      "text/html": [
       "0.0777791991812716"
      ],
      "text/latex": [
       "0.0777791991812716"
      ],
      "text/markdown": [
       "0.0777791991812716"
      ],
      "text/plain": [
       "[1] 0.0777792"
      ]
     },
     "metadata": {},
     "output_type": "display_data"
    }
   ],
   "source": [
    "# Definição de ponto de corte (padrão: % de 1's na amostra)\n",
    "ponto_corte <- mean(dados_investimento$Investiu_Variavel_6M)\n",
    "ponto_corte"
   ]
  },
  {
   "cell_type": "code",
   "execution_count": 27,
   "metadata": {
    "id": "F8ndcqxDLKXv"
   },
   "outputs": [],
   "source": [
    "# Definição da resposta predita pelo modelo (criação de uma nova coluna chamada \"predito\")\n",
    "dados_investimento$predito_modelo_3 <- as.factor(ifelse(dados_investimento$probabilidade_modelo_3 > ponto_corte, 1, 0))"
   ]
  },
  {
   "cell_type": "markdown",
   "metadata": {
    "id": "Kcg_kHwcKtmo"
   },
   "source": [
    "### Análise de desempenho: modelo 3"
   ]
  },
  {
   "cell_type": "code",
   "execution_count": 28,
   "metadata": {
    "id": "ZnmGhDG0Kw9d"
   },
   "outputs": [
    {
     "data": {
      "text/plain": [
       "   \n",
       "       0    1\n",
       "  0 4874 2335\n",
       "  1  278  330"
      ]
     },
     "metadata": {},
     "output_type": "display_data"
    }
   ],
   "source": [
    "# Tabela de classificação\n",
    "tabela <- table(dados_investimento$Investiu_Variavel_6M, dados_investimento$predito_modelo_3)\n",
    "tabela"
   ]
  },
  {
   "cell_type": "code",
   "execution_count": 29,
   "metadata": {
    "id": "nNxmy0OfKxEE"
   },
   "outputs": [
    {
     "data": {
      "text/html": [
       "0.665728540360752"
      ],
      "text/latex": [
       "0.665728540360752"
      ],
      "text/markdown": [
       "0.665728540360752"
      ],
      "text/plain": [
       "[1] 0.6657285"
      ]
     },
     "metadata": {},
     "output_type": "display_data"
    }
   ],
   "source": [
    "# Acurácia\n",
    "(tabela[1,1] + tabela[2,2]) / sum(tabela)"
   ]
  },
  {
   "cell_type": "code",
   "execution_count": 30,
   "metadata": {
    "id": "nY2gXTcPKxI-"
   },
   "outputs": [
    {
     "data": {
      "text/html": [
       "0.676099320294077"
      ],
      "text/latex": [
       "0.676099320294077"
      ],
      "text/markdown": [
       "0.676099320294077"
      ],
      "text/plain": [
       "[1] 0.6760993"
      ]
     },
     "metadata": {},
     "output_type": "display_data"
    }
   ],
   "source": [
    "# Especificidade\n",
    "tabela[1,1] / (tabela[1,1] + tabela[1,2])"
   ]
  },
  {
   "cell_type": "code",
   "execution_count": null,
   "metadata": {
    "id": "6Gb6eWPaKxNL"
   },
   "outputs": [],
   "source": [
    "# Sensibilidade\n",
    "tabela[2,2] / (tabela[2,1] + tabela[2,2])"
   ]
  },
  {
   "cell_type": "code",
   "execution_count": null,
   "metadata": {
    "id": "vEi603zWKxQw"
   },
   "outputs": [],
   "source": [
    "# KS\n",
    "pred <- prediction(dados_investimento$probabilidade_modelo_3, dados_investimento$Investiu_Variavel_6M)\n",
    "perf <- performance(pred, \"tpr\", \"fpr\")\n",
    "ks <- max(attr(perf, 'y.values')[[1]] - attr(perf, 'x.values')[[1]])\n",
    "\n",
    "print(ks)"
   ]
  },
  {
   "cell_type": "code",
   "execution_count": null,
   "metadata": {
    "id": "qT4Bah-FKxVH"
   },
   "outputs": [],
   "source": [
    "# AUC\n",
    "pred <- prediction(dados_investimento$probabilidade_modelo_3, dados_investimento$Investiu_Variavel_6M)\n",
    "auc <- performance(pred, \"auc\")\n",
    "auc <- auc@y.values[[1]]\n",
    "\n",
    "print(auc)"
   ]
  },
  {
   "cell_type": "markdown",
   "metadata": {
    "id": "8FPh79Xd8ST1"
   },
   "source": [
    "### Intervalos de confiança"
   ]
  },
  {
   "cell_type": "code",
   "execution_count": null,
   "metadata": {
    "id": "qVTodUSmz15X"
   },
   "outputs": [],
   "source": [
    "# Escolha do beta (0 para intercepto, ou 1, 2, ... para os parâmetros referentes a cada variável explicativa)\n",
    "beta = 0"
   ]
  },
  {
   "cell_type": "code",
   "execution_count": null,
   "metadata": {
    "id": "rBg7mDoO70cm"
   },
   "outputs": [],
   "source": [
    "# Cálculo do intervalo\n",
    "print(\"Limite inferior\")\n",
    "as.numeric(regressao_3$coefficients[beta + 1] - 1.96 * coef(summary(regressao_3))[beta + 1, \"Std. Error\"])\n",
    "print(\"Limite superior\")\n",
    "as.numeric(regressao_3$coefficients[beta + 1] + 1.96 * coef(summary(regressao_3))[beta + 1, \"Std. Error\"])"
   ]
  },
  {
   "cell_type": "markdown",
   "metadata": {
    "id": "jVg-t0b6WD8S"
   },
   "source": [
    "### Exemplo de uso (aplicação) do modelo"
   ]
  },
  {
   "cell_type": "code",
   "execution_count": null,
   "metadata": {
    "id": "lU6Z4u1BWEJq"
   },
   "outputs": [],
   "source": [
    "# Criação de base de dados com um novo investidor, que tem 6.000 reais investidos em renda fixa, não tem investimento em poupança, e tem 3.000 reais de saldo em conta\n",
    "# Obs.: os nomes das colunas e padrão de conteúdo devem ser idênticos aos da base utilizada para construção do modelo\n",
    "novos_dados <- data.frame(Investimento_Fixa     = c(6000),\n",
    "                          Investimento_Poupanca = c(0),\n",
    "                          Saldo_Conta           = c(3000))"
   ]
  },
  {
   "cell_type": "code",
   "execution_count": null,
   "metadata": {
    "id": "Xj6tful6W9lv"
   },
   "outputs": [],
   "source": [
    "# Aplicação do modelo\n",
    "novos_dados$PROB_INVESTIR_VARIAVEL <- predict(regressao_3, novos_dados, type = \"response\")\n",
    "View(novos_dados)"
   ]
  }
 ],
 "metadata": {
  "colab": {
   "provenance": []
  },
  "kernelspec": {
   "display_name": "R",
   "language": "R",
   "name": "ir"
  },
  "language_info": {
   "codemirror_mode": "r",
   "file_extension": ".r",
   "mimetype": "text/x-r-source",
   "name": "R",
   "pygments_lexer": "r",
   "version": "4.4.1"
  }
 },
 "nbformat": 4,
 "nbformat_minor": 4
}

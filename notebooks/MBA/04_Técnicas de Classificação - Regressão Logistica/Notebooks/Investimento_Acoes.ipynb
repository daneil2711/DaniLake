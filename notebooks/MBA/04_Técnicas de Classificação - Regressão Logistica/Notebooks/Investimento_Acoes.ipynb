{
 "cells": [
  {
   "cell_type": "markdown",
   "metadata": {
    "id": "L2vudERBJTiT"
   },
   "source": [
    "# **CASE: INVESTIMENTO EM AÇÕES**\n",
    "\n",
    "---"
   ]
  },
  {
   "cell_type": "markdown",
   "metadata": {
    "id": "nGD5Csd2q7VV"
   },
   "source": [
    "### Instalação de bibliotecas"
   ]
  },
  {
   "cell_type": "code",
   "execution_count": null,
   "metadata": {
    "id": "DY4aICW6q8Eb"
   },
   "outputs": [],
   "source": [
    "# Para cálculo do VIF\n",
    "install.packages(\"rms\")\n",
    "# Para cálculo do KS e AUC\n",
    "install.packages(\"ROCR\")"
   ]
  },
  {
   "cell_type": "markdown",
   "metadata": {
    "id": "99PaLHQgvG4X"
   },
   "source": [
    "### Carregamento de bibliotecas"
   ]
  },
  {
   "cell_type": "code",
   "execution_count": null,
   "metadata": {
    "id": "ypvOgRlIrJaq"
   },
   "outputs": [],
   "source": [
    "library(rms)\n",
    "library(ROCR)"
   ]
  },
  {
   "cell_type": "markdown",
   "metadata": {
    "id": "AppXoGlSJa4f"
   },
   "source": [
    "### Leitura da base de dados"
   ]
  },
  {
   "cell_type": "code",
   "execution_count": null,
   "metadata": {
    "id": "BKIVxb-yO6kt"
   },
   "outputs": [],
   "source": [
    "dados_investimento <- read.table(file = \"Investimento_Acoes.txt\",\n",
    "                                 sep = \"\\t\",\n",
    "                                 dec = \".\",\n",
    "                                 header = TRUE)"
   ]
  },
  {
   "cell_type": "markdown",
   "metadata": {
    "id": "QjxtmJktJf24"
   },
   "source": [
    "### Visualização da base de dados"
   ]
  },
  {
   "cell_type": "code",
   "execution_count": null,
   "metadata": {
    "id": "FJUJqh-_O4Dh"
   },
   "outputs": [],
   "source": [
    "View(dados_investimento)"
   ]
  },
  {
   "cell_type": "markdown",
   "metadata": {
    "id": "PYTvweDFJimD"
   },
   "source": [
    "### Análise exploratória breve"
   ]
  },
  {
   "cell_type": "code",
   "execution_count": null,
   "metadata": {
    "id": "TD_M_1CzO0L8"
   },
   "outputs": [],
   "source": [
    "# Medidas resumo\n",
    "summary(dados_investimento)"
   ]
  },
  {
   "cell_type": "markdown",
   "metadata": {
    "id": "hvZQdAvYJn80"
   },
   "source": [
    "### Análise bivariada: variável resposta vs. variáveis explicativas"
   ]
  },
  {
   "cell_type": "code",
   "execution_count": null,
   "metadata": {
    "id": "wkGE0SWRjTKA"
   },
   "outputs": [],
   "source": [
    "# Comando auxiliar para aumentar resolução do gráfico (recomendado apenas no Colab)\n",
    "reset_options <- options()\n",
    "options(repr.plot.width = 20, repr.plot.height = 7)"
   ]
  },
  {
   "cell_type": "code",
   "execution_count": null,
   "metadata": {
    "id": "YugAaIaWxki8"
   },
   "outputs": [],
   "source": [
    "# Gráficos de boxplots\n",
    "par(mfrow = c(1,5), cex = 1)\n",
    "boxplot(Investimento_Fixa ~ Investiu_Variavel_6M,     data = dados_investimento, col = \"darkturquoise\", main = \"Investimento em Renda Fixa\")\n",
    "boxplot(Investimento_Tesouro ~ Investiu_Variavel_6M,  data = dados_investimento, col = \"darkturquoise\", main = \"Investimento em Tesouro\")\n",
    "boxplot(Investimento_Poupanca ~ Investiu_Variavel_6M, data = dados_investimento, col = \"darkturquoise\", main = \"Investimento em Poupança\")\n",
    "boxplot(Rendimento_Liq_12M ~ Investiu_Variavel_6M,    data = dados_investimento, col = \"darkturquoise\", main = \"Rendimento Líquido em 12M\")\n",
    "boxplot(Saldo_Conta ~ Investiu_Variavel_6M,           data = dados_investimento, col = \"darkturquoise\", main = \"Saldo em Conta\")"
   ]
  },
  {
   "cell_type": "code",
   "execution_count": null,
   "metadata": {
    "id": "fQ5HiNQqvXVu"
   },
   "outputs": [],
   "source": [
    "# Resetando parâmetros gráficos (recomendado apenas no Colab)\n",
    "options(reset_options)"
   ]
  },
  {
   "cell_type": "markdown",
   "metadata": {
    "id": "usjTOesQJpQI"
   },
   "source": [
    "### Modelo de regressão logística múltipla"
   ]
  },
  {
   "cell_type": "code",
   "execution_count": null,
   "metadata": {
    "id": "SRr0HokUyf6E"
   },
   "outputs": [],
   "source": [
    "# Comando auxiliar para para omitir notação científica nos p-valores e controlar largura dos outputs na tela do Colab\n",
    "options(scipen = 999, width = 200)"
   ]
  },
  {
   "cell_type": "code",
   "execution_count": null,
   "metadata": {
    "id": "jzOA-NoBPTuv"
   },
   "outputs": [],
   "source": [
    "# Ajuste do modelo 1: inicial\n",
    "regressao_1 <- glm(Investiu_Variavel_6M ~\n",
    "                     Investimento_Fixa +\n",
    "                     Investimento_Tesouro +\n",
    "                     Investimento_Poupanca +\n",
    "                     Rendimento_Liq_12M +\n",
    "                     Saldo_Conta,\n",
    "                   family = binomial(link = 'logit'),\n",
    "                   data = dados_investimento)\n",
    "\n",
    "summary(regressao_1)"
   ]
  },
  {
   "cell_type": "code",
   "execution_count": null,
   "metadata": {
    "id": "_chXPFxunWD9"
   },
   "outputs": [],
   "source": [
    "# Ajuste do modelo 2: retirando Investimento_Tesouro\n",
    "regressao_2 <- glm(Investiu_Variavel_6M ~\n",
    "                     Investimento_Fixa +\n",
    "                     Investimento_Poupanca +\n",
    "                     Rendimento_Liq_12M +\n",
    "                     Saldo_Conta,\n",
    "                   family = binomial(link = 'logit'),\n",
    "                   data = dados_investimento)\n",
    "\n",
    "summary(regressao_2)"
   ]
  },
  {
   "cell_type": "code",
   "execution_count": null,
   "metadata": {
    "id": "5VwsoEm4xE5K"
   },
   "outputs": [],
   "source": [
    "# Avaliação de colinearidade no modelo 2\n",
    "data.frame(VIF = vif(regressao_2))"
   ]
  },
  {
   "cell_type": "code",
   "execution_count": null,
   "metadata": {
    "id": "WopNkH4RJsjA"
   },
   "outputs": [],
   "source": [
    "# Ajuste do modelo 3: retirando Rendimento_Liq_12M (colinearidade)\n",
    "regressao_3 <- glm(Investiu_Variavel_6M ~\n",
    "                     Investimento_Fixa +\n",
    "                     Investimento_Poupanca +\n",
    "                     Saldo_Conta,\n",
    "                   family = binomial(link = 'logit'),\n",
    "                   data = dados_investimento)\n",
    "\n",
    "summary(regressao_3)"
   ]
  },
  {
   "cell_type": "code",
   "execution_count": null,
   "metadata": {
    "id": "RoYTGKKrJspk"
   },
   "outputs": [],
   "source": [
    "# Avaliação de colinearidade no modelo 3\n",
    "data.frame(VIF = vif(regressao_3))"
   ]
  },
  {
   "cell_type": "markdown",
   "metadata": {
    "id": "HIigFeGjJwpL"
   },
   "source": [
    "### Aplicação do modelo 2 e definição de resposta predita"
   ]
  },
  {
   "cell_type": "code",
   "execution_count": null,
   "metadata": {
    "id": "EqfzhugvQ8qj"
   },
   "outputs": [],
   "source": [
    "# Aplicação do modelo na base (criação de uma nova coluna chamada \"probabilidade\")\n",
    "dados_investimento$probabilidade_modelo_2 <- predict(regressao_2,\n",
    "                                                     dados_investimento,\n",
    "                                                     type = \"response\")"
   ]
  },
  {
   "cell_type": "code",
   "execution_count": null,
   "metadata": {
    "id": "OsmFiZrHRJHw"
   },
   "outputs": [],
   "source": [
    "# Definição de ponto de corte (padrão: % de 1's na amostra)\n",
    "ponto_corte <- mean(dados_investimento$Investiu_Variavel_6M)\n",
    "ponto_corte"
   ]
  },
  {
   "cell_type": "code",
   "execution_count": null,
   "metadata": {
    "id": "RNC-k-s4RSS4"
   },
   "outputs": [],
   "source": [
    "# Definição da resposta predita pelo modelo (criação de uma nova coluna chamada \"predito\")\n",
    "dados_investimento$predito_modelo_2 <- as.factor(ifelse(dados_investimento$probabilidade_modelo_2 > ponto_corte, 1, 0))"
   ]
  },
  {
   "cell_type": "markdown",
   "metadata": {
    "id": "l82_95h3JsBP"
   },
   "source": [
    "### Análise de desempenho: modelo 2"
   ]
  },
  {
   "cell_type": "code",
   "execution_count": null,
   "metadata": {
    "id": "B_tsIjDaPVwI"
   },
   "outputs": [],
   "source": [
    "# Tabela de classificação\n",
    "tabela <- table(dados_investimento$Investiu_Variavel_6M, dados_investimento$predito_modelo_2)\n",
    "tabela"
   ]
  },
  {
   "cell_type": "code",
   "execution_count": null,
   "metadata": {
    "id": "XIH_nvQ9RfyC"
   },
   "outputs": [],
   "source": [
    "# Acurácia\n",
    "(tabela[1,1] + tabela[2,2]) / sum(tabela)"
   ]
  },
  {
   "cell_type": "code",
   "execution_count": null,
   "metadata": {
    "id": "izk0HXXIALP4"
   },
   "outputs": [],
   "source": [
    "# Especificidade\n",
    "tabela[1,1] / (tabela[1,1] + tabela[1,2])"
   ]
  },
  {
   "cell_type": "code",
   "execution_count": null,
   "metadata": {
    "id": "X1UCyp2OPW8w"
   },
   "outputs": [],
   "source": [
    "# Sensibilidade\n",
    "tabela[2,2] / (tabela[2,1] + tabela[2,2])"
   ]
  },
  {
   "cell_type": "code",
   "execution_count": null,
   "metadata": {
    "id": "BVca4OaaUfqZ"
   },
   "outputs": [],
   "source": [
    "# KS\n",
    "pred <- prediction(dados_investimento$probabilidade_modelo_2, dados_investimento$Investiu_Variavel_6M)\n",
    "perf <- performance(pred, \"tpr\", \"fpr\")\n",
    "ks <- max(attr(perf, 'y.values')[[1]] - attr(perf, 'x.values')[[1]])\n",
    "\n",
    "print(ks)"
   ]
  },
  {
   "cell_type": "code",
   "execution_count": null,
   "metadata": {
    "id": "JsaFkT9yU5v5"
   },
   "outputs": [],
   "source": [
    "# AUC\n",
    "pred <- prediction(dados_investimento$probabilidade_modelo_2, dados_investimento$Investiu_Variavel_6M)\n",
    "auc <- performance(pred, \"auc\")\n",
    "auc <- auc@y.values[[1]]\n",
    "\n",
    "print(auc)"
   ]
  },
  {
   "cell_type": "markdown",
   "metadata": {
    "id": "dK6UI-rOK9Y2"
   },
   "source": [
    "### Aplicação do modelo 3 e definição de resposta predita"
   ]
  },
  {
   "cell_type": "code",
   "execution_count": null,
   "metadata": {
    "id": "YcOcK-lfLCO8"
   },
   "outputs": [],
   "source": [
    "# Aplicação do modelo na base (criação de uma nova coluna chamada \"probabilidade\")\n",
    "dados_investimento$probabilidade_modelo_3 <- predict(regressao_3,\n",
    "                                                     dados_investimento,\n",
    "                                                     type = \"response\")"
   ]
  },
  {
   "cell_type": "code",
   "execution_count": null,
   "metadata": {
    "id": "jzSluOOILDoh"
   },
   "outputs": [],
   "source": [
    "# Definição de ponto de corte (padrão: % de 1's na amostra)\n",
    "ponto_corte <- mean(dados_investimento$Investiu_Variavel_6M)\n",
    "ponto_corte"
   ]
  },
  {
   "cell_type": "code",
   "execution_count": null,
   "metadata": {
    "id": "F8ndcqxDLKXv"
   },
   "outputs": [],
   "source": [
    "# Definição da resposta predita pelo modelo (criação de uma nova coluna chamada \"predito\")\n",
    "dados_investimento$predito_modelo_3 <- as.factor(ifelse(dados_investimento$probabilidade_modelo_3 > ponto_corte, 1, 0))"
   ]
  },
  {
   "cell_type": "markdown",
   "metadata": {
    "id": "Kcg_kHwcKtmo"
   },
   "source": [
    "### Análise de desempenho: modelo 3"
   ]
  },
  {
   "cell_type": "code",
   "execution_count": null,
   "metadata": {
    "id": "ZnmGhDG0Kw9d"
   },
   "outputs": [],
   "source": [
    "# Tabela de classificação\n",
    "tabela <- table(dados_investimento$Investiu_Variavel_6M, dados_investimento$predito_modelo_3)\n",
    "tabela"
   ]
  },
  {
   "cell_type": "code",
   "execution_count": null,
   "metadata": {
    "id": "nNxmy0OfKxEE"
   },
   "outputs": [],
   "source": [
    "# Acurácia\n",
    "(tabela[1,1] + tabela[2,2]) / sum(tabela)"
   ]
  },
  {
   "cell_type": "code",
   "execution_count": null,
   "metadata": {
    "id": "nY2gXTcPKxI-"
   },
   "outputs": [],
   "source": [
    "# Especificidade\n",
    "tabela[1,1] / (tabela[1,1] + tabela[1,2])"
   ]
  },
  {
   "cell_type": "code",
   "execution_count": null,
   "metadata": {
    "id": "6Gb6eWPaKxNL"
   },
   "outputs": [],
   "source": [
    "# Sensibilidade\n",
    "tabela[2,2] / (tabela[2,1] + tabela[2,2])"
   ]
  },
  {
   "cell_type": "code",
   "execution_count": null,
   "metadata": {
    "id": "vEi603zWKxQw"
   },
   "outputs": [],
   "source": [
    "# KS\n",
    "pred <- prediction(dados_investimento$probabilidade_modelo_3, dados_investimento$Investiu_Variavel_6M)\n",
    "perf <- performance(pred, \"tpr\", \"fpr\")\n",
    "ks <- max(attr(perf, 'y.values')[[1]] - attr(perf, 'x.values')[[1]])\n",
    "\n",
    "print(ks)"
   ]
  },
  {
   "cell_type": "code",
   "execution_count": null,
   "metadata": {
    "id": "qT4Bah-FKxVH"
   },
   "outputs": [],
   "source": [
    "# AUC\n",
    "pred <- prediction(dados_investimento$probabilidade_modelo_3, dados_investimento$Investiu_Variavel_6M)\n",
    "auc <- performance(pred, \"auc\")\n",
    "auc <- auc@y.values[[1]]\n",
    "\n",
    "print(auc)"
   ]
  },
  {
   "cell_type": "markdown",
   "metadata": {
    "id": "8FPh79Xd8ST1"
   },
   "source": [
    "### Intervalos de confiança"
   ]
  },
  {
   "cell_type": "code",
   "execution_count": null,
   "metadata": {
    "id": "qVTodUSmz15X"
   },
   "outputs": [],
   "source": [
    "# Escolha do beta (0 para intercepto, ou 1, 2, ... para os parâmetros referentes a cada variável explicativa)\n",
    "beta = 0"
   ]
  },
  {
   "cell_type": "code",
   "execution_count": null,
   "metadata": {
    "id": "rBg7mDoO70cm"
   },
   "outputs": [],
   "source": [
    "# Cálculo do intervalo\n",
    "print(\"Limite inferior\")\n",
    "as.numeric(regressao_3$coefficients[beta + 1] - 1.96 * coef(summary(regressao_3))[beta + 1, \"Std. Error\"])\n",
    "print(\"Limite superior\")\n",
    "as.numeric(regressao_3$coefficients[beta + 1] + 1.96 * coef(summary(regressao_3))[beta + 1, \"Std. Error\"])"
   ]
  },
  {
   "cell_type": "markdown",
   "metadata": {
    "id": "jVg-t0b6WD8S"
   },
   "source": [
    "### Exemplo de uso (aplicação) do modelo"
   ]
  },
  {
   "cell_type": "code",
   "execution_count": null,
   "metadata": {
    "id": "lU6Z4u1BWEJq"
   },
   "outputs": [],
   "source": [
    "# Criação de base de dados com um novo investidor, que tem 6.000 reais investidos em renda fixa, não tem investimento em poupança, e tem 3.000 reais de saldo em conta\n",
    "# Obs.: os nomes das colunas e padrão de conteúdo devem ser idênticos aos da base utilizada para construção do modelo\n",
    "novos_dados <- data.frame(Investimento_Fixa     = c(6000),\n",
    "                          Investimento_Poupanca = c(0),\n",
    "                          Saldo_Conta           = c(3000))"
   ]
  },
  {
   "cell_type": "code",
   "execution_count": null,
   "metadata": {
    "id": "Xj6tful6W9lv"
   },
   "outputs": [],
   "source": [
    "# Aplicação do modelo\n",
    "novos_dados$PROB_INVESTIR_VARIAVEL <- predict(regressao_3, novos_dados, type = \"response\")\n",
    "View(novos_dados)"
   ]
  }
 ],
 "metadata": {
  "colab": {
   "provenance": []
  },
  "kernelspec": {
   "display_name": "R",
   "language": "R",
   "name": "ir"
  },
  "language_info": {
   "codemirror_mode": "r",
   "file_extension": ".r",
   "mimetype": "text/x-r-source",
   "name": "R",
   "pygments_lexer": "r",
   "version": "4.4.1"
  }
 },
 "nbformat": 4,
 "nbformat_minor": 4
}

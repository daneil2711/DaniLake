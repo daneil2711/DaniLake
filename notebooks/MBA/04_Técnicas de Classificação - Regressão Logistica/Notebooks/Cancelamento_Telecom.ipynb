{
 "cells": [
  {
   "cell_type": "markdown",
   "metadata": {
    "id": "L2vudERBJTiT"
   },
   "source": [
    "# **CASE: CANCELAMENTO EM TELECOM**\n",
    "\n",
    "---"
   ]
  },
  {
   "cell_type": "markdown",
   "metadata": {
    "id": "nGD5Csd2q7VV"
   },
   "source": [
    "### Instalação de bibliotecas"
   ]
  },
  {
   "cell_type": "code",
   "execution_count": 1,
   "metadata": {
    "id": "DY4aICW6q8Eb"
   },
   "outputs": [],
   "source": [
    "# # Para cálculo do VIF\n",
    "# install.packages(\"rms\")\n",
    "# # Para cálculo do KS e AUC\n",
    "# install.packages(\"ROCR\")"
   ]
  },
  {
   "cell_type": "markdown",
   "metadata": {
    "id": "99PaLHQgvG4X"
   },
   "source": [
    "### Carregamento de bibliotecas"
   ]
  },
  {
   "cell_type": "code",
   "execution_count": 2,
   "metadata": {
    "id": "ypvOgRlIrJaq"
   },
   "outputs": [
    {
     "name": "stderr",
     "output_type": "stream",
     "text": [
      "Loading required package: Hmisc\n",
      "\n",
      "\n",
      "Attaching package: ‘Hmisc’\n",
      "\n",
      "\n",
      "The following objects are masked from ‘package:base’:\n",
      "\n",
      "    format.pval, units\n",
      "\n",
      "\n"
     ]
    }
   ],
   "source": [
    "library(rms)\n",
    "library(ROCR)"
   ]
  },
  {
   "cell_type": "markdown",
   "metadata": {
    "id": "AppXoGlSJa4f"
   },
   "source": [
    "### Leitura da base de dados"
   ]
  },
  {
   "cell_type": "code",
   "execution_count": 3,
   "metadata": {
    "id": "BKIVxb-yO6kt"
   },
   "outputs": [],
   "source": [
    "dados_telecom <- read.table(file = \"../Dados/Cancelamento_Telecom.txt\",\n",
    "                            sep = \"\\t\",\n",
    "                            dec = \".\",\n",
    "                            header = TRUE)"
   ]
  },
  {
   "cell_type": "markdown",
   "metadata": {
    "id": "QjxtmJktJf24"
   },
   "source": [
    "### Visualização da base de dados"
   ]
  },
  {
   "cell_type": "code",
   "execution_count": 4,
   "metadata": {
    "id": "FJUJqh-_O4Dh"
   },
   "outputs": [
    {
     "data": {
      "text/html": [
       "<table class=\"dataframe\">\n",
       "<caption>A data.frame: 10000 × 8</caption>\n",
       "<thead>\n",
       "\t<tr><th scope=col>ID_CLIENTE</th><th scope=col>SCORE_CREDITO</th><th scope=col>GENERO</th><th scope=col>IDADE</th><th scope=col>TEMPO_RELACIONAMENTO</th><th scope=col>TIPO_PLANO</th><th scope=col>RENDA</th><th scope=col>CANCELOU</th></tr>\n",
       "\t<tr><th scope=col>&lt;int&gt;</th><th scope=col>&lt;int&gt;</th><th scope=col>&lt;chr&gt;</th><th scope=col>&lt;int&gt;</th><th scope=col>&lt;dbl&gt;</th><th scope=col>&lt;chr&gt;</th><th scope=col>&lt;int&gt;</th><th scope=col>&lt;int&gt;</th></tr>\n",
       "</thead>\n",
       "<tbody>\n",
       "\t<tr><td> 1</td><td>691</td><td>Feminino </td><td>51</td><td> 7.2</td><td>Pre_Pago</td><td> 9104</td><td>0</td></tr>\n",
       "\t<tr><td> 2</td><td>749</td><td>Masculino</td><td>33</td><td> 6.3</td><td>Pre_Pago</td><td> 7916</td><td>0</td></tr>\n",
       "\t<tr><td> 3</td><td>680</td><td>Masculino</td><td>35</td><td> 6.3</td><td>Pos_Pago</td><td> 7374</td><td>0</td></tr>\n",
       "\t<tr><td> 4</td><td>479</td><td>Feminino </td><td>34</td><td> 4.2</td><td>Pre_Pago</td><td>11342</td><td>0</td></tr>\n",
       "\t<tr><td> 5</td><td>579</td><td>Masculino</td><td>27</td><td> 4.4</td><td>Pre_Pago</td><td> 5522</td><td>0</td></tr>\n",
       "\t<tr><td> 6</td><td>619</td><td>Masculino</td><td>42</td><td> 5.5</td><td>Pre_Pago</td><td> 4593</td><td>0</td></tr>\n",
       "\t<tr><td> 7</td><td>495</td><td>Masculino</td><td>41</td><td> 6.7</td><td>Pos_Pago</td><td> 5295</td><td>0</td></tr>\n",
       "\t<tr><td> 8</td><td>594</td><td>Feminino </td><td>35</td><td> 5.4</td><td>Pre_Pago</td><td>12984</td><td>0</td></tr>\n",
       "\t<tr><td> 9</td><td>561</td><td>Feminino </td><td>39</td><td> 8.0</td><td>Pre_Pago</td><td> 7560</td><td>0</td></tr>\n",
       "\t<tr><td>10</td><td>551</td><td>Feminino </td><td>25</td><td> 7.3</td><td>Pos_Pago</td><td>10938</td><td>0</td></tr>\n",
       "\t<tr><td>11</td><td>663</td><td>Feminino </td><td>32</td><td> 6.4</td><td>Pre_Pago</td><td> 9278</td><td>0</td></tr>\n",
       "\t<tr><td>12</td><td>735</td><td>Masculino</td><td>37</td><td> 6.4</td><td>Pre_Pago</td><td> 8054</td><td>0</td></tr>\n",
       "\t<tr><td>13</td><td>679</td><td>Feminino </td><td>37</td><td> 7.4</td><td>Pre_Pago</td><td>13419</td><td>0</td></tr>\n",
       "\t<tr><td>14</td><td>732</td><td>Feminino </td><td>57</td><td> 8.5</td><td>Pre_Pago</td><td>11218</td><td>0</td></tr>\n",
       "\t<tr><td>15</td><td>570</td><td>Feminino </td><td>35</td><td> 4.9</td><td>Pre_Pago</td><td> 4572</td><td>0</td></tr>\n",
       "\t<tr><td>16</td><td>570</td><td>Masculino</td><td>39</td><td> 5.8</td><td>Pre_Pago</td><td> 9675</td><td>0</td></tr>\n",
       "\t<tr><td>17</td><td>559</td><td>Masculino</td><td>28</td><td>10.9</td><td>Pre_Pago</td><td> 5109</td><td>0</td></tr>\n",
       "\t<tr><td>18</td><td>609</td><td>Masculino</td><td>51</td><td> 4.1</td><td>Pos_Pago</td><td> 9583</td><td>0</td></tr>\n",
       "\t<tr><td>19</td><td>604</td><td>Feminino </td><td>29</td><td> 6.4</td><td>Pre_Pago</td><td> 8193</td><td>0</td></tr>\n",
       "\t<tr><td>20</td><td>609</td><td>Masculino</td><td>42</td><td> 9.0</td><td>Pos_Pago</td><td> 6026</td><td>0</td></tr>\n",
       "\t<tr><td>21</td><td>585</td><td>Masculino</td><td>37</td><td> 5.9</td><td>Pos_Pago</td><td>10650</td><td>0</td></tr>\n",
       "\t<tr><td>22</td><td>569</td><td>Masculino</td><td>37</td><td> 5.9</td><td>Pos_Pago</td><td>11087</td><td>0</td></tr>\n",
       "\t<tr><td>23</td><td>522</td><td>Masculino</td><td>49</td><td> 5.4</td><td>Pre_Pago</td><td>12582</td><td>0</td></tr>\n",
       "\t<tr><td>24</td><td>646</td><td>Feminino </td><td>57</td><td> 4.3</td><td>Pre_Pago</td><td> 5159</td><td>0</td></tr>\n",
       "\t<tr><td>25</td><td>541</td><td>Feminino </td><td>56</td><td> 3.1</td><td>Pre_Pago</td><td> 7629</td><td>0</td></tr>\n",
       "\t<tr><td>26</td><td>662</td><td>Masculino</td><td>42</td><td> 4.9</td><td>Pos_Pago</td><td> 2681</td><td>0</td></tr>\n",
       "\t<tr><td>27</td><td>502</td><td>Masculino</td><td>34</td><td> 6.8</td><td>Pre_Pago</td><td> 6160</td><td>0</td></tr>\n",
       "\t<tr><td>28</td><td>737</td><td>Masculino</td><td>25</td><td> 8.2</td><td>Pre_Pago</td><td> 8449</td><td>0</td></tr>\n",
       "\t<tr><td>29</td><td>624</td><td>Feminino </td><td>32</td><td> 2.5</td><td>Pre_Pago</td><td>12232</td><td>1</td></tr>\n",
       "\t<tr><td>30</td><td>425</td><td>Feminino </td><td>84</td><td> 8.5</td><td>Pos_Pago</td><td>12264</td><td>0</td></tr>\n",
       "\t<tr><td>⋮</td><td>⋮</td><td>⋮</td><td>⋮</td><td>⋮</td><td>⋮</td><td>⋮</td><td>⋮</td></tr>\n",
       "\t<tr><td> 9971</td><td>575</td><td>Masculino</td><td>52</td><td>3.4</td><td>Pos_Pago</td><td>10949</td><td>0</td></tr>\n",
       "\t<tr><td> 9972</td><td>488</td><td>Feminino </td><td>40</td><td>7.4</td><td>Pos_Pago</td><td>14039</td><td>0</td></tr>\n",
       "\t<tr><td> 9973</td><td>561</td><td>Masculino</td><td>26</td><td>2.7</td><td>Pre_Pago</td><td> 4984</td><td>1</td></tr>\n",
       "\t<tr><td> 9974</td><td>576</td><td>Feminino </td><td>51</td><td>4.4</td><td>Pre_Pago</td><td> 5396</td><td>0</td></tr>\n",
       "\t<tr><td> 9975</td><td>748</td><td>Masculino</td><td>29</td><td>9.7</td><td>Pre_Pago</td><td> 8592</td><td>0</td></tr>\n",
       "\t<tr><td> 9976</td><td>705</td><td>Masculino</td><td>41</td><td>5.1</td><td>Pos_Pago</td><td> 7391</td><td>0</td></tr>\n",
       "\t<tr><td> 9977</td><td>695</td><td>Masculino</td><td>38</td><td>4.9</td><td>Pre_Pago</td><td> 4513</td><td>0</td></tr>\n",
       "\t<tr><td> 9978</td><td>737</td><td>Masculino</td><td>30</td><td>3.2</td><td>Pre_Pago</td><td> 7852</td><td>1</td></tr>\n",
       "\t<tr><td> 9979</td><td>647</td><td>Masculino</td><td>32</td><td>5.7</td><td>Pre_Pago</td><td> 7541</td><td>0</td></tr>\n",
       "\t<tr><td> 9980</td><td>608</td><td>Feminino </td><td>49</td><td>5.7</td><td>Pre_Pago</td><td> 7701</td><td>0</td></tr>\n",
       "\t<tr><td> 9981</td><td>579</td><td>Masculino</td><td>41</td><td>7.9</td><td>Pre_Pago</td><td> 7201</td><td>0</td></tr>\n",
       "\t<tr><td> 9982</td><td>501</td><td>Masculino</td><td>22</td><td>5.6</td><td>Pre_Pago</td><td> 7383</td><td>1</td></tr>\n",
       "\t<tr><td> 9983</td><td>568</td><td>Feminino </td><td>27</td><td>5.4</td><td>Pos_Pago</td><td>12578</td><td>0</td></tr>\n",
       "\t<tr><td> 9984</td><td>596</td><td>Masculino</td><td>42</td><td>3.7</td><td>Pre_Pago</td><td> 5507</td><td>0</td></tr>\n",
       "\t<tr><td> 9985</td><td>718</td><td>Feminino </td><td>29</td><td>5.8</td><td>Pre_Pago</td><td> 8951</td><td>0</td></tr>\n",
       "\t<tr><td> 9986</td><td>617</td><td>Feminino </td><td>38</td><td>2.6</td><td>Pos_Pago</td><td> 4633</td><td>0</td></tr>\n",
       "\t<tr><td> 9987</td><td>519</td><td>Masculino</td><td>32</td><td>5.8</td><td>Pre_Pago</td><td> 9506</td><td>0</td></tr>\n",
       "\t<tr><td> 9988</td><td>492</td><td>Masculino</td><td>49</td><td>3.2</td><td>Pre_Pago</td><td> 8525</td><td>0</td></tr>\n",
       "\t<tr><td> 9989</td><td>475</td><td>Masculino</td><td>27</td><td>2.5</td><td>Pre_Pago</td><td> 2955</td><td>0</td></tr>\n",
       "\t<tr><td> 9990</td><td>717</td><td>Feminino </td><td>38</td><td>4.9</td><td>Pre_Pago</td><td> 4311</td><td>0</td></tr>\n",
       "\t<tr><td> 9991</td><td>557</td><td>Masculino</td><td>34</td><td>5.6</td><td>Pre_Pago</td><td> 6646</td><td>0</td></tr>\n",
       "\t<tr><td> 9992</td><td>658</td><td>Feminino </td><td>36</td><td>3.8</td><td>Pos_Pago</td><td> 6805</td><td>0</td></tr>\n",
       "\t<tr><td> 9993</td><td>814</td><td>Masculino</td><td>30</td><td>6.6</td><td>Pre_Pago</td><td>12316</td><td>0</td></tr>\n",
       "\t<tr><td> 9994</td><td>735</td><td>Feminino </td><td>41</td><td>4.2</td><td>Pre_Pago</td><td>15435</td><td>0</td></tr>\n",
       "\t<tr><td> 9995</td><td>533</td><td>Feminino </td><td>42</td><td>8.9</td><td>Pre_Pago</td><td> 5086</td><td>0</td></tr>\n",
       "\t<tr><td> 9996</td><td>604</td><td>Feminino </td><td>32</td><td>2.0</td><td>Pre_Pago</td><td> 6884</td><td>0</td></tr>\n",
       "\t<tr><td> 9997</td><td>509</td><td>Feminino </td><td>34</td><td>6.9</td><td>Pre_Pago</td><td> 6413</td><td>0</td></tr>\n",
       "\t<tr><td> 9998</td><td>645</td><td>Masculino</td><td>33</td><td>6.8</td><td>Pre_Pago</td><td> 6259</td><td>0</td></tr>\n",
       "\t<tr><td> 9999</td><td>665</td><td>Masculino</td><td>41</td><td>7.0</td><td>Pre_Pago</td><td> 7965</td><td>0</td></tr>\n",
       "\t<tr><td>10000</td><td>498</td><td>Masculino</td><td>46</td><td>4.1</td><td>Pre_Pago</td><td>10343</td><td>0</td></tr>\n",
       "</tbody>\n",
       "</table>\n"
      ],
      "text/latex": [
       "A data.frame: 10000 × 8\n",
       "\\begin{tabular}{llllllll}\n",
       " ID\\_CLIENTE & SCORE\\_CREDITO & GENERO & IDADE & TEMPO\\_RELACIONAMENTO & TIPO\\_PLANO & RENDA & CANCELOU\\\\\n",
       " <int> & <int> & <chr> & <int> & <dbl> & <chr> & <int> & <int>\\\\\n",
       "\\hline\n",
       "\t  1 & 691 & Feminino  & 51 &  7.2 & Pre\\_Pago &  9104 & 0\\\\\n",
       "\t  2 & 749 & Masculino & 33 &  6.3 & Pre\\_Pago &  7916 & 0\\\\\n",
       "\t  3 & 680 & Masculino & 35 &  6.3 & Pos\\_Pago &  7374 & 0\\\\\n",
       "\t  4 & 479 & Feminino  & 34 &  4.2 & Pre\\_Pago & 11342 & 0\\\\\n",
       "\t  5 & 579 & Masculino & 27 &  4.4 & Pre\\_Pago &  5522 & 0\\\\\n",
       "\t  6 & 619 & Masculino & 42 &  5.5 & Pre\\_Pago &  4593 & 0\\\\\n",
       "\t  7 & 495 & Masculino & 41 &  6.7 & Pos\\_Pago &  5295 & 0\\\\\n",
       "\t  8 & 594 & Feminino  & 35 &  5.4 & Pre\\_Pago & 12984 & 0\\\\\n",
       "\t  9 & 561 & Feminino  & 39 &  8.0 & Pre\\_Pago &  7560 & 0\\\\\n",
       "\t 10 & 551 & Feminino  & 25 &  7.3 & Pos\\_Pago & 10938 & 0\\\\\n",
       "\t 11 & 663 & Feminino  & 32 &  6.4 & Pre\\_Pago &  9278 & 0\\\\\n",
       "\t 12 & 735 & Masculino & 37 &  6.4 & Pre\\_Pago &  8054 & 0\\\\\n",
       "\t 13 & 679 & Feminino  & 37 &  7.4 & Pre\\_Pago & 13419 & 0\\\\\n",
       "\t 14 & 732 & Feminino  & 57 &  8.5 & Pre\\_Pago & 11218 & 0\\\\\n",
       "\t 15 & 570 & Feminino  & 35 &  4.9 & Pre\\_Pago &  4572 & 0\\\\\n",
       "\t 16 & 570 & Masculino & 39 &  5.8 & Pre\\_Pago &  9675 & 0\\\\\n",
       "\t 17 & 559 & Masculino & 28 & 10.9 & Pre\\_Pago &  5109 & 0\\\\\n",
       "\t 18 & 609 & Masculino & 51 &  4.1 & Pos\\_Pago &  9583 & 0\\\\\n",
       "\t 19 & 604 & Feminino  & 29 &  6.4 & Pre\\_Pago &  8193 & 0\\\\\n",
       "\t 20 & 609 & Masculino & 42 &  9.0 & Pos\\_Pago &  6026 & 0\\\\\n",
       "\t 21 & 585 & Masculino & 37 &  5.9 & Pos\\_Pago & 10650 & 0\\\\\n",
       "\t 22 & 569 & Masculino & 37 &  5.9 & Pos\\_Pago & 11087 & 0\\\\\n",
       "\t 23 & 522 & Masculino & 49 &  5.4 & Pre\\_Pago & 12582 & 0\\\\\n",
       "\t 24 & 646 & Feminino  & 57 &  4.3 & Pre\\_Pago &  5159 & 0\\\\\n",
       "\t 25 & 541 & Feminino  & 56 &  3.1 & Pre\\_Pago &  7629 & 0\\\\\n",
       "\t 26 & 662 & Masculino & 42 &  4.9 & Pos\\_Pago &  2681 & 0\\\\\n",
       "\t 27 & 502 & Masculino & 34 &  6.8 & Pre\\_Pago &  6160 & 0\\\\\n",
       "\t 28 & 737 & Masculino & 25 &  8.2 & Pre\\_Pago &  8449 & 0\\\\\n",
       "\t 29 & 624 & Feminino  & 32 &  2.5 & Pre\\_Pago & 12232 & 1\\\\\n",
       "\t 30 & 425 & Feminino  & 84 &  8.5 & Pos\\_Pago & 12264 & 0\\\\\n",
       "\t ⋮ & ⋮ & ⋮ & ⋮ & ⋮ & ⋮ & ⋮ & ⋮\\\\\n",
       "\t  9971 & 575 & Masculino & 52 & 3.4 & Pos\\_Pago & 10949 & 0\\\\\n",
       "\t  9972 & 488 & Feminino  & 40 & 7.4 & Pos\\_Pago & 14039 & 0\\\\\n",
       "\t  9973 & 561 & Masculino & 26 & 2.7 & Pre\\_Pago &  4984 & 1\\\\\n",
       "\t  9974 & 576 & Feminino  & 51 & 4.4 & Pre\\_Pago &  5396 & 0\\\\\n",
       "\t  9975 & 748 & Masculino & 29 & 9.7 & Pre\\_Pago &  8592 & 0\\\\\n",
       "\t  9976 & 705 & Masculino & 41 & 5.1 & Pos\\_Pago &  7391 & 0\\\\\n",
       "\t  9977 & 695 & Masculino & 38 & 4.9 & Pre\\_Pago &  4513 & 0\\\\\n",
       "\t  9978 & 737 & Masculino & 30 & 3.2 & Pre\\_Pago &  7852 & 1\\\\\n",
       "\t  9979 & 647 & Masculino & 32 & 5.7 & Pre\\_Pago &  7541 & 0\\\\\n",
       "\t  9980 & 608 & Feminino  & 49 & 5.7 & Pre\\_Pago &  7701 & 0\\\\\n",
       "\t  9981 & 579 & Masculino & 41 & 7.9 & Pre\\_Pago &  7201 & 0\\\\\n",
       "\t  9982 & 501 & Masculino & 22 & 5.6 & Pre\\_Pago &  7383 & 1\\\\\n",
       "\t  9983 & 568 & Feminino  & 27 & 5.4 & Pos\\_Pago & 12578 & 0\\\\\n",
       "\t  9984 & 596 & Masculino & 42 & 3.7 & Pre\\_Pago &  5507 & 0\\\\\n",
       "\t  9985 & 718 & Feminino  & 29 & 5.8 & Pre\\_Pago &  8951 & 0\\\\\n",
       "\t  9986 & 617 & Feminino  & 38 & 2.6 & Pos\\_Pago &  4633 & 0\\\\\n",
       "\t  9987 & 519 & Masculino & 32 & 5.8 & Pre\\_Pago &  9506 & 0\\\\\n",
       "\t  9988 & 492 & Masculino & 49 & 3.2 & Pre\\_Pago &  8525 & 0\\\\\n",
       "\t  9989 & 475 & Masculino & 27 & 2.5 & Pre\\_Pago &  2955 & 0\\\\\n",
       "\t  9990 & 717 & Feminino  & 38 & 4.9 & Pre\\_Pago &  4311 & 0\\\\\n",
       "\t  9991 & 557 & Masculino & 34 & 5.6 & Pre\\_Pago &  6646 & 0\\\\\n",
       "\t  9992 & 658 & Feminino  & 36 & 3.8 & Pos\\_Pago &  6805 & 0\\\\\n",
       "\t  9993 & 814 & Masculino & 30 & 6.6 & Pre\\_Pago & 12316 & 0\\\\\n",
       "\t  9994 & 735 & Feminino  & 41 & 4.2 & Pre\\_Pago & 15435 & 0\\\\\n",
       "\t  9995 & 533 & Feminino  & 42 & 8.9 & Pre\\_Pago &  5086 & 0\\\\\n",
       "\t  9996 & 604 & Feminino  & 32 & 2.0 & Pre\\_Pago &  6884 & 0\\\\\n",
       "\t  9997 & 509 & Feminino  & 34 & 6.9 & Pre\\_Pago &  6413 & 0\\\\\n",
       "\t  9998 & 645 & Masculino & 33 & 6.8 & Pre\\_Pago &  6259 & 0\\\\\n",
       "\t  9999 & 665 & Masculino & 41 & 7.0 & Pre\\_Pago &  7965 & 0\\\\\n",
       "\t 10000 & 498 & Masculino & 46 & 4.1 & Pre\\_Pago & 10343 & 0\\\\\n",
       "\\end{tabular}\n"
      ],
      "text/markdown": [
       "\n",
       "A data.frame: 10000 × 8\n",
       "\n",
       "| ID_CLIENTE &lt;int&gt; | SCORE_CREDITO &lt;int&gt; | GENERO &lt;chr&gt; | IDADE &lt;int&gt; | TEMPO_RELACIONAMENTO &lt;dbl&gt; | TIPO_PLANO &lt;chr&gt; | RENDA &lt;int&gt; | CANCELOU &lt;int&gt; |\n",
       "|---|---|---|---|---|---|---|---|\n",
       "|  1 | 691 | Feminino  | 51 |  7.2 | Pre_Pago |  9104 | 0 |\n",
       "|  2 | 749 | Masculino | 33 |  6.3 | Pre_Pago |  7916 | 0 |\n",
       "|  3 | 680 | Masculino | 35 |  6.3 | Pos_Pago |  7374 | 0 |\n",
       "|  4 | 479 | Feminino  | 34 |  4.2 | Pre_Pago | 11342 | 0 |\n",
       "|  5 | 579 | Masculino | 27 |  4.4 | Pre_Pago |  5522 | 0 |\n",
       "|  6 | 619 | Masculino | 42 |  5.5 | Pre_Pago |  4593 | 0 |\n",
       "|  7 | 495 | Masculino | 41 |  6.7 | Pos_Pago |  5295 | 0 |\n",
       "|  8 | 594 | Feminino  | 35 |  5.4 | Pre_Pago | 12984 | 0 |\n",
       "|  9 | 561 | Feminino  | 39 |  8.0 | Pre_Pago |  7560 | 0 |\n",
       "| 10 | 551 | Feminino  | 25 |  7.3 | Pos_Pago | 10938 | 0 |\n",
       "| 11 | 663 | Feminino  | 32 |  6.4 | Pre_Pago |  9278 | 0 |\n",
       "| 12 | 735 | Masculino | 37 |  6.4 | Pre_Pago |  8054 | 0 |\n",
       "| 13 | 679 | Feminino  | 37 |  7.4 | Pre_Pago | 13419 | 0 |\n",
       "| 14 | 732 | Feminino  | 57 |  8.5 | Pre_Pago | 11218 | 0 |\n",
       "| 15 | 570 | Feminino  | 35 |  4.9 | Pre_Pago |  4572 | 0 |\n",
       "| 16 | 570 | Masculino | 39 |  5.8 | Pre_Pago |  9675 | 0 |\n",
       "| 17 | 559 | Masculino | 28 | 10.9 | Pre_Pago |  5109 | 0 |\n",
       "| 18 | 609 | Masculino | 51 |  4.1 | Pos_Pago |  9583 | 0 |\n",
       "| 19 | 604 | Feminino  | 29 |  6.4 | Pre_Pago |  8193 | 0 |\n",
       "| 20 | 609 | Masculino | 42 |  9.0 | Pos_Pago |  6026 | 0 |\n",
       "| 21 | 585 | Masculino | 37 |  5.9 | Pos_Pago | 10650 | 0 |\n",
       "| 22 | 569 | Masculino | 37 |  5.9 | Pos_Pago | 11087 | 0 |\n",
       "| 23 | 522 | Masculino | 49 |  5.4 | Pre_Pago | 12582 | 0 |\n",
       "| 24 | 646 | Feminino  | 57 |  4.3 | Pre_Pago |  5159 | 0 |\n",
       "| 25 | 541 | Feminino  | 56 |  3.1 | Pre_Pago |  7629 | 0 |\n",
       "| 26 | 662 | Masculino | 42 |  4.9 | Pos_Pago |  2681 | 0 |\n",
       "| 27 | 502 | Masculino | 34 |  6.8 | Pre_Pago |  6160 | 0 |\n",
       "| 28 | 737 | Masculino | 25 |  8.2 | Pre_Pago |  8449 | 0 |\n",
       "| 29 | 624 | Feminino  | 32 |  2.5 | Pre_Pago | 12232 | 1 |\n",
       "| 30 | 425 | Feminino  | 84 |  8.5 | Pos_Pago | 12264 | 0 |\n",
       "| ⋮ | ⋮ | ⋮ | ⋮ | ⋮ | ⋮ | ⋮ | ⋮ |\n",
       "|  9971 | 575 | Masculino | 52 | 3.4 | Pos_Pago | 10949 | 0 |\n",
       "|  9972 | 488 | Feminino  | 40 | 7.4 | Pos_Pago | 14039 | 0 |\n",
       "|  9973 | 561 | Masculino | 26 | 2.7 | Pre_Pago |  4984 | 1 |\n",
       "|  9974 | 576 | Feminino  | 51 | 4.4 | Pre_Pago |  5396 | 0 |\n",
       "|  9975 | 748 | Masculino | 29 | 9.7 | Pre_Pago |  8592 | 0 |\n",
       "|  9976 | 705 | Masculino | 41 | 5.1 | Pos_Pago |  7391 | 0 |\n",
       "|  9977 | 695 | Masculino | 38 | 4.9 | Pre_Pago |  4513 | 0 |\n",
       "|  9978 | 737 | Masculino | 30 | 3.2 | Pre_Pago |  7852 | 1 |\n",
       "|  9979 | 647 | Masculino | 32 | 5.7 | Pre_Pago |  7541 | 0 |\n",
       "|  9980 | 608 | Feminino  | 49 | 5.7 | Pre_Pago |  7701 | 0 |\n",
       "|  9981 | 579 | Masculino | 41 | 7.9 | Pre_Pago |  7201 | 0 |\n",
       "|  9982 | 501 | Masculino | 22 | 5.6 | Pre_Pago |  7383 | 1 |\n",
       "|  9983 | 568 | Feminino  | 27 | 5.4 | Pos_Pago | 12578 | 0 |\n",
       "|  9984 | 596 | Masculino | 42 | 3.7 | Pre_Pago |  5507 | 0 |\n",
       "|  9985 | 718 | Feminino  | 29 | 5.8 | Pre_Pago |  8951 | 0 |\n",
       "|  9986 | 617 | Feminino  | 38 | 2.6 | Pos_Pago |  4633 | 0 |\n",
       "|  9987 | 519 | Masculino | 32 | 5.8 | Pre_Pago |  9506 | 0 |\n",
       "|  9988 | 492 | Masculino | 49 | 3.2 | Pre_Pago |  8525 | 0 |\n",
       "|  9989 | 475 | Masculino | 27 | 2.5 | Pre_Pago |  2955 | 0 |\n",
       "|  9990 | 717 | Feminino  | 38 | 4.9 | Pre_Pago |  4311 | 0 |\n",
       "|  9991 | 557 | Masculino | 34 | 5.6 | Pre_Pago |  6646 | 0 |\n",
       "|  9992 | 658 | Feminino  | 36 | 3.8 | Pos_Pago |  6805 | 0 |\n",
       "|  9993 | 814 | Masculino | 30 | 6.6 | Pre_Pago | 12316 | 0 |\n",
       "|  9994 | 735 | Feminino  | 41 | 4.2 | Pre_Pago | 15435 | 0 |\n",
       "|  9995 | 533 | Feminino  | 42 | 8.9 | Pre_Pago |  5086 | 0 |\n",
       "|  9996 | 604 | Feminino  | 32 | 2.0 | Pre_Pago |  6884 | 0 |\n",
       "|  9997 | 509 | Feminino  | 34 | 6.9 | Pre_Pago |  6413 | 0 |\n",
       "|  9998 | 645 | Masculino | 33 | 6.8 | Pre_Pago |  6259 | 0 |\n",
       "|  9999 | 665 | Masculino | 41 | 7.0 | Pre_Pago |  7965 | 0 |\n",
       "| 10000 | 498 | Masculino | 46 | 4.1 | Pre_Pago | 10343 | 0 |\n",
       "\n"
      ],
      "text/plain": [
       "      ID_CLIENTE SCORE_CREDITO GENERO    IDADE TEMPO_RELACIONAMENTO TIPO_PLANO\n",
       "1      1         691           Feminino  51     7.2                 Pre_Pago  \n",
       "2      2         749           Masculino 33     6.3                 Pre_Pago  \n",
       "3      3         680           Masculino 35     6.3                 Pos_Pago  \n",
       "4      4         479           Feminino  34     4.2                 Pre_Pago  \n",
       "5      5         579           Masculino 27     4.4                 Pre_Pago  \n",
       "6      6         619           Masculino 42     5.5                 Pre_Pago  \n",
       "7      7         495           Masculino 41     6.7                 Pos_Pago  \n",
       "8      8         594           Feminino  35     5.4                 Pre_Pago  \n",
       "9      9         561           Feminino  39     8.0                 Pre_Pago  \n",
       "10    10         551           Feminino  25     7.3                 Pos_Pago  \n",
       "11    11         663           Feminino  32     6.4                 Pre_Pago  \n",
       "12    12         735           Masculino 37     6.4                 Pre_Pago  \n",
       "13    13         679           Feminino  37     7.4                 Pre_Pago  \n",
       "14    14         732           Feminino  57     8.5                 Pre_Pago  \n",
       "15    15         570           Feminino  35     4.9                 Pre_Pago  \n",
       "16    16         570           Masculino 39     5.8                 Pre_Pago  \n",
       "17    17         559           Masculino 28    10.9                 Pre_Pago  \n",
       "18    18         609           Masculino 51     4.1                 Pos_Pago  \n",
       "19    19         604           Feminino  29     6.4                 Pre_Pago  \n",
       "20    20         609           Masculino 42     9.0                 Pos_Pago  \n",
       "21    21         585           Masculino 37     5.9                 Pos_Pago  \n",
       "22    22         569           Masculino 37     5.9                 Pos_Pago  \n",
       "23    23         522           Masculino 49     5.4                 Pre_Pago  \n",
       "24    24         646           Feminino  57     4.3                 Pre_Pago  \n",
       "25    25         541           Feminino  56     3.1                 Pre_Pago  \n",
       "26    26         662           Masculino 42     4.9                 Pos_Pago  \n",
       "27    27         502           Masculino 34     6.8                 Pre_Pago  \n",
       "28    28         737           Masculino 25     8.2                 Pre_Pago  \n",
       "29    29         624           Feminino  32     2.5                 Pre_Pago  \n",
       "30    30         425           Feminino  84     8.5                 Pos_Pago  \n",
       "⋮     ⋮          ⋮             ⋮         ⋮     ⋮                    ⋮         \n",
       "9971   9971      575           Masculino 52    3.4                  Pos_Pago  \n",
       "9972   9972      488           Feminino  40    7.4                  Pos_Pago  \n",
       "9973   9973      561           Masculino 26    2.7                  Pre_Pago  \n",
       "9974   9974      576           Feminino  51    4.4                  Pre_Pago  \n",
       "9975   9975      748           Masculino 29    9.7                  Pre_Pago  \n",
       "9976   9976      705           Masculino 41    5.1                  Pos_Pago  \n",
       "9977   9977      695           Masculino 38    4.9                  Pre_Pago  \n",
       "9978   9978      737           Masculino 30    3.2                  Pre_Pago  \n",
       "9979   9979      647           Masculino 32    5.7                  Pre_Pago  \n",
       "9980   9980      608           Feminino  49    5.7                  Pre_Pago  \n",
       "9981   9981      579           Masculino 41    7.9                  Pre_Pago  \n",
       "9982   9982      501           Masculino 22    5.6                  Pre_Pago  \n",
       "9983   9983      568           Feminino  27    5.4                  Pos_Pago  \n",
       "9984   9984      596           Masculino 42    3.7                  Pre_Pago  \n",
       "9985   9985      718           Feminino  29    5.8                  Pre_Pago  \n",
       "9986   9986      617           Feminino  38    2.6                  Pos_Pago  \n",
       "9987   9987      519           Masculino 32    5.8                  Pre_Pago  \n",
       "9988   9988      492           Masculino 49    3.2                  Pre_Pago  \n",
       "9989   9989      475           Masculino 27    2.5                  Pre_Pago  \n",
       "9990   9990      717           Feminino  38    4.9                  Pre_Pago  \n",
       "9991   9991      557           Masculino 34    5.6                  Pre_Pago  \n",
       "9992   9992      658           Feminino  36    3.8                  Pos_Pago  \n",
       "9993   9993      814           Masculino 30    6.6                  Pre_Pago  \n",
       "9994   9994      735           Feminino  41    4.2                  Pre_Pago  \n",
       "9995   9995      533           Feminino  42    8.9                  Pre_Pago  \n",
       "9996   9996      604           Feminino  32    2.0                  Pre_Pago  \n",
       "9997   9997      509           Feminino  34    6.9                  Pre_Pago  \n",
       "9998   9998      645           Masculino 33    6.8                  Pre_Pago  \n",
       "9999   9999      665           Masculino 41    7.0                  Pre_Pago  \n",
       "10000 10000      498           Masculino 46    4.1                  Pre_Pago  \n",
       "      RENDA CANCELOU\n",
       "1      9104 0       \n",
       "2      7916 0       \n",
       "3      7374 0       \n",
       "4     11342 0       \n",
       "5      5522 0       \n",
       "6      4593 0       \n",
       "7      5295 0       \n",
       "8     12984 0       \n",
       "9      7560 0       \n",
       "10    10938 0       \n",
       "11     9278 0       \n",
       "12     8054 0       \n",
       "13    13419 0       \n",
       "14    11218 0       \n",
       "15     4572 0       \n",
       "16     9675 0       \n",
       "17     5109 0       \n",
       "18     9583 0       \n",
       "19     8193 0       \n",
       "20     6026 0       \n",
       "21    10650 0       \n",
       "22    11087 0       \n",
       "23    12582 0       \n",
       "24     5159 0       \n",
       "25     7629 0       \n",
       "26     2681 0       \n",
       "27     6160 0       \n",
       "28     8449 0       \n",
       "29    12232 1       \n",
       "30    12264 0       \n",
       "⋮     ⋮     ⋮       \n",
       "9971  10949 0       \n",
       "9972  14039 0       \n",
       "9973   4984 1       \n",
       "9974   5396 0       \n",
       "9975   8592 0       \n",
       "9976   7391 0       \n",
       "9977   4513 0       \n",
       "9978   7852 1       \n",
       "9979   7541 0       \n",
       "9980   7701 0       \n",
       "9981   7201 0       \n",
       "9982   7383 1       \n",
       "9983  12578 0       \n",
       "9984   5507 0       \n",
       "9985   8951 0       \n",
       "9986   4633 0       \n",
       "9987   9506 0       \n",
       "9988   8525 0       \n",
       "9989   2955 0       \n",
       "9990   4311 0       \n",
       "9991   6646 0       \n",
       "9992   6805 0       \n",
       "9993  12316 0       \n",
       "9994  15435 0       \n",
       "9995   5086 0       \n",
       "9996   6884 0       \n",
       "9997   6413 0       \n",
       "9998   6259 0       \n",
       "9999   7965 0       \n",
       "10000 10343 0       "
      ]
     },
     "metadata": {},
     "output_type": "display_data"
    }
   ],
   "source": [
    "View(dados_telecom)"
   ]
  },
  {
   "cell_type": "markdown",
   "metadata": {
    "id": "PYTvweDFJimD"
   },
   "source": [
    "### Análise exploratória breve"
   ]
  },
  {
   "cell_type": "code",
   "execution_count": 5,
   "metadata": {
    "id": "TD_M_1CzO0L8"
   },
   "outputs": [
    {
     "data": {
      "text/plain": [
       "   ID_CLIENTE    SCORE_CREDITO      GENERO              IDADE      \n",
       " Min.   :    1   Min.   :376.0   Length:10000       Min.   :18.00  \n",
       " 1st Qu.: 2501   1st Qu.:543.0   Class :character   1st Qu.:32.00  \n",
       " Median : 5000   Median :597.0   Mode  :character   Median :37.00  \n",
       " Mean   : 5000   Mean   :605.5                      Mean   :38.92  \n",
       " 3rd Qu.: 7500   3rd Qu.:658.0                      3rd Qu.:44.00  \n",
       " Max.   :10000   Max.   :992.0                      Max.   :92.00  \n",
       " TEMPO_RELACIONAMENTO  TIPO_PLANO            RENDA          CANCELOU     \n",
       " Min.   : 0.600       Length:10000       Min.   : 1560   Min.   :0.0000  \n",
       " 1st Qu.: 4.200       Class :character   1st Qu.: 5764   1st Qu.:0.0000  \n",
       " Median : 5.700       Mode  :character   Median : 7392   Median :0.0000  \n",
       " Mean   : 6.018                          Mean   : 7684   Mean   :0.0704  \n",
       " 3rd Qu.: 7.500                          3rd Qu.: 9234   3rd Qu.:0.0000  \n",
       " Max.   :20.800                          Max.   :22292   Max.   :1.0000  "
      ]
     },
     "metadata": {},
     "output_type": "display_data"
    }
   ],
   "source": [
    "# Medidas resumo\n",
    "summary(dados_telecom)"
   ]
  },
  {
   "cell_type": "code",
   "execution_count": 6,
   "metadata": {
    "id": "xJ7mGpUpO_7M"
   },
   "outputs": [
    {
     "data": {
      "text/plain": [
       "\n",
       " Feminino Masculino \n",
       "     4543      5457 "
      ]
     },
     "metadata": {},
     "output_type": "display_data"
    },
    {
     "data": {
      "text/plain": [
       "\n",
       " Feminino Masculino \n",
       "   0.4543    0.5457 "
      ]
     },
     "metadata": {},
     "output_type": "display_data"
    }
   ],
   "source": [
    "# Tabela de frequências: gênero\n",
    "table(dados_telecom$GENERO)\n",
    "prop.table(table(dados_telecom$GENERO))"
   ]
  },
  {
   "cell_type": "code",
   "execution_count": 7,
   "metadata": {
    "id": "7Zci06gGPACI"
   },
   "outputs": [
    {
     "data": {
      "text/plain": [
       "\n",
       "Pos_Pago Pre_Pago \n",
       "    2945     7055 "
      ]
     },
     "metadata": {},
     "output_type": "display_data"
    },
    {
     "data": {
      "text/plain": [
       "\n",
       "Pos_Pago Pre_Pago \n",
       "  0.2945   0.7055 "
      ]
     },
     "metadata": {},
     "output_type": "display_data"
    }
   ],
   "source": [
    "# Tabela de frequências: tipo de plano\n",
    "table(dados_telecom$TIPO_PLANO)\n",
    "prop.table(table(dados_telecom$TIPO_PLANO))"
   ]
  },
  {
   "cell_type": "code",
   "execution_count": 8,
   "metadata": {
    "id": "qcrhoBJ3PAKH"
   },
   "outputs": [
    {
     "data": {
      "text/plain": [
       "\n",
       "   0    1 \n",
       "9296  704 "
      ]
     },
     "metadata": {},
     "output_type": "display_data"
    },
    {
     "data": {
      "text/plain": [
       "\n",
       "     0      1 \n",
       "0.9296 0.0704 "
      ]
     },
     "metadata": {},
     "output_type": "display_data"
    }
   ],
   "source": [
    "# Tabela de frequências: cancelamento\n",
    "table(dados_telecom$CANCELOU)\n",
    "prop.table(table(dados_telecom$CANCELOU))"
   ]
  },
  {
   "cell_type": "markdown",
   "metadata": {
    "id": "hvZQdAvYJn80"
   },
   "source": [
    "### Análise bivariada: variável resposta vs. variáveis explicativas"
   ]
  },
  {
   "cell_type": "code",
   "execution_count": 9,
   "metadata": {
    "id": "lg03z-MAv53B"
   },
   "outputs": [],
   "source": [
    "# Comando auxiliar para aumentar resolução do gráfico (recomendado apenas no Colab)\n",
    "reset_options <- options()\n",
    "options(repr.plot.width = 20, repr.plot.height = 7)"
   ]
  },
  {
   "cell_type": "code",
   "execution_count": 10,
   "metadata": {
    "id": "YugAaIaWxki8"
   },
   "outputs": [
    {
     "data": {
      "image/png": "[encoded data removed]",
      "text/plain": [
       "Plot with title “Renda”"
      ]
     },
     "metadata": {
      "image/png": {
       "height": 420,
       "width": 1200
      }
     },
     "output_type": "display_data"
    }
   ],
   "source": [
    "# Gráficos de boxplots\n",
    "par(mfrow = c(1,4), cex = 1)\n",
    "boxplot(SCORE_CREDITO        ~ CANCELOU, data = dados_telecom, col = \"darkturquoise\", main = \"Score de Crédito\")\n",
    "boxplot(IDADE                ~ CANCELOU, data = dados_telecom, col = \"darkturquoise\", main = \"Idade\")\n",
    "boxplot(TEMPO_RELACIONAMENTO ~ CANCELOU, data = dados_telecom, col = \"darkturquoise\", main = \"Tempo de Relacionamento\")\n",
    "boxplot(RENDA                ~ CANCELOU, data = dados_telecom, col = \"darkturquoise\", main = \"Renda\")"
   ]
  },
  {
   "cell_type": "code",
   "execution_count": 11,
   "metadata": {
    "id": "UDz8lfptvcag"
   },
   "outputs": [],
   "source": [
    "# Resetando parâmetros gráficos (recomendado apenas no Colab)\n",
    "options(reset_options)"
   ]
  },
  {
   "cell_type": "code",
   "execution_count": 12,
   "metadata": {
    "id": "M6Pat478PQGL"
   },
   "outputs": [
    {
     "data": {
      "text/plain": [
       "           \n",
       "               0    1\n",
       "  Feminino  4225  318\n",
       "  Masculino 5071  386"
      ]
     },
     "metadata": {},
     "output_type": "display_data"
    },
    {
     "data": {
      "text/plain": [
       "           \n",
       "                     0          1\n",
       "  Feminino  0.93000220 0.06999780\n",
       "  Masculino 0.92926516 0.07073484"
      ]
     },
     "metadata": {},
     "output_type": "display_data"
    }
   ],
   "source": [
    "# Tabela de frequências: gênero versus resposta (somando 100% nas linhas)\n",
    "table(dados_telecom$GENERO, dados_telecom$CANCELOU)\n",
    "prop.table(table(dados_telecom$GENERO, dados_telecom$CANCELOU), 1)"
   ]
  },
  {
   "cell_type": "code",
   "execution_count": 13,
   "metadata": {
    "id": "jA2nn-WhxiOD"
   },
   "outputs": [
    {
     "data": {
      "text/plain": [
       "          \n",
       "              0    1\n",
       "  Pos_Pago 2896   49\n",
       "  Pre_Pago 6400  655"
      ]
     },
     "metadata": {},
     "output_type": "display_data"
    },
    {
     "data": {
      "text/plain": [
       "          \n",
       "                    0          1\n",
       "  Pos_Pago 0.98336163 0.01663837\n",
       "  Pre_Pago 0.90715804 0.09284196"
      ]
     },
     "metadata": {},
     "output_type": "display_data"
    }
   ],
   "source": [
    "# Tabela de frequências: tipo de plano versus resposta (somando 100% nas linhas)\n",
    "table(dados_telecom$TIPO_PLANO, dados_telecom$CANCELOU)\n",
    "prop.table(table(dados_telecom$TIPO_PLANO, dados_telecom$CANCELOU), 1)"
   ]
  },
  {
   "cell_type": "markdown",
   "metadata": {
    "id": "usjTOesQJpQI"
   },
   "source": [
    "### Modelo de regressão logística múltipla"
   ]
  },
  {
   "cell_type": "code",
   "execution_count": 14,
   "metadata": {
    "id": "SRr0HokUyf6E"
   },
   "outputs": [],
   "source": [
    "# Comando auxiliar para para omitir notação científica nos p-valores e controlar largura dos outputs na tela do Colab\n",
    "options(scipen = 999, width = 200)"
   ]
  },
  {
   "cell_type": "code",
   "execution_count": 15,
   "metadata": {
    "id": "jzOA-NoBPTuv"
   },
   "outputs": [
    {
     "data": {
      "text/plain": [
       "\n",
       "Call:\n",
       "glm(formula = CANCELOU ~ SCORE_CREDITO + GENERO + IDADE + TEMPO_RELACIONAMENTO + \n",
       "    TIPO_PLANO + RENDA, family = binomial(link = \"logit\"), data = dados_telecom)\n",
       "\n",
       "Coefficients:\n",
       "                        Estimate  Std. Error z value             Pr(>|z|)    \n",
       "(Intercept)           0.54195649  0.40508470   1.338                0.181    \n",
       "SCORE_CREDITO        -0.00003190  0.00048113  -0.066                0.947    \n",
       "GENEROMasculino      -0.04805218  0.08191646  -0.587                0.557    \n",
       "IDADE                -0.10524076  0.00577591 -18.221 < 0.0000000000000002 ***\n",
       "TEMPO_RELACIONAMENTO -0.02258008  0.01742456  -1.296                0.195    \n",
       "TIPO_PLANOPre_Pago    1.84595884  0.15142423  12.191 < 0.0000000000000002 ***\n",
       "RENDA                -0.00010475  0.00001673  -6.262        0.00000000038 ***\n",
       "---\n",
       "Signif. codes:  0 ‘***’ 0.001 ‘**’ 0.01 ‘*’ 0.05 ‘.’ 0.1 ‘ ’ 1\n",
       "\n",
       "(Dispersion parameter for binomial family taken to be 1)\n",
       "\n",
       "    Null deviance: 5093.4  on 9999  degrees of freedom\n",
       "Residual deviance: 4379.5  on 9993  degrees of freedom\n",
       "AIC: 4393.5\n",
       "\n",
       "Number of Fisher Scoring iterations: 7\n"
      ]
     },
     "metadata": {},
     "output_type": "display_data"
    }
   ],
   "source": [
    "# Ajuste do modelo 1: inicial\n",
    "regressao_1 <- glm(CANCELOU ~\n",
    "                     SCORE_CREDITO +\n",
    "                     GENERO +\n",
    "                     IDADE +\n",
    "                     TEMPO_RELACIONAMENTO +\n",
    "                     TIPO_PLANO +\n",
    "                     RENDA,\n",
    "                   family = binomial(link = 'logit'),\n",
    "                   data = dados_telecom)\n",
    "\n",
    "summary(regressao_1)"
   ]
  },
  {
   "cell_type": "code",
   "execution_count": 16,
   "metadata": {
    "id": "_chXPFxunWD9"
   },
   "outputs": [
    {
     "data": {
      "text/plain": [
       "\n",
       "Call:\n",
       "glm(formula = CANCELOU ~ GENERO + IDADE + TEMPO_RELACIONAMENTO + \n",
       "    TIPO_PLANO + RENDA, family = binomial(link = \"logit\"), data = dados_telecom)\n",
       "\n",
       "Coefficients:\n",
       "                        Estimate  Std. Error z value             Pr(>|z|)    \n",
       "(Intercept)           0.52270749  0.28251230   1.850               0.0643 .  \n",
       "GENEROMasculino      -0.04804121  0.08191635  -0.586               0.5576    \n",
       "IDADE                -0.10524042  0.00577587 -18.221 < 0.0000000000000002 ***\n",
       "TEMPO_RELACIONAMENTO -0.02259241  0.01742332  -1.297               0.1947    \n",
       "TIPO_PLANOPre_Pago    1.84597972  0.15142381  12.191 < 0.0000000000000002 ***\n",
       "RENDA                -0.00010475  0.00001673  -6.262        0.00000000038 ***\n",
       "---\n",
       "Signif. codes:  0 ‘***’ 0.001 ‘**’ 0.01 ‘*’ 0.05 ‘.’ 0.1 ‘ ’ 1\n",
       "\n",
       "(Dispersion parameter for binomial family taken to be 1)\n",
       "\n",
       "    Null deviance: 5093.4  on 9999  degrees of freedom\n",
       "Residual deviance: 4379.5  on 9994  degrees of freedom\n",
       "AIC: 4391.5\n",
       "\n",
       "Number of Fisher Scoring iterations: 7\n"
      ]
     },
     "metadata": {},
     "output_type": "display_data"
    }
   ],
   "source": [
    "# Ajuste do modelo 2: retirando SCORE_CREDITO\n",
    "regressao_2 <- glm(CANCELOU ~\n",
    "                     GENERO +\n",
    "                     IDADE +\n",
    "                     TEMPO_RELACIONAMENTO +\n",
    "                     TIPO_PLANO +\n",
    "                     RENDA,\n",
    "                   family = binomial(link = 'logit'),\n",
    "                   data = dados_telecom)\n",
    "\n",
    "summary(regressao_2)"
   ]
  },
  {
   "cell_type": "code",
   "execution_count": 17,
   "metadata": {
    "id": "8E7yJXxviNAg"
   },
   "outputs": [
    {
     "data": {
      "text/plain": [
       "\n",
       "Call:\n",
       "glm(formula = CANCELOU ~ IDADE + TEMPO_RELACIONAMENTO + TIPO_PLANO + \n",
       "    RENDA, family = binomial(link = \"logit\"), data = dados_telecom)\n",
       "\n",
       "Coefficients:\n",
       "                        Estimate  Std. Error z value             Pr(>|z|)    \n",
       "(Intercept)           0.49443900  0.27839007   1.776               0.0757 .  \n",
       "IDADE                -0.10516076  0.00577460 -18.211 < 0.0000000000000002 ***\n",
       "TEMPO_RELACIONAMENTO -0.02270529  0.01742521  -1.303               0.1926    \n",
       "TIPO_PLANOPre_Pago    1.84514225  0.15141110  12.186 < 0.0000000000000002 ***\n",
       "RENDA                -0.00010467  0.00001673  -6.258       0.000000000389 ***\n",
       "---\n",
       "Signif. codes:  0 ‘***’ 0.001 ‘**’ 0.01 ‘*’ 0.05 ‘.’ 0.1 ‘ ’ 1\n",
       "\n",
       "(Dispersion parameter for binomial family taken to be 1)\n",
       "\n",
       "    Null deviance: 5093.4  on 9999  degrees of freedom\n",
       "Residual deviance: 4379.8  on 9995  degrees of freedom\n",
       "AIC: 4389.8\n",
       "\n",
       "Number of Fisher Scoring iterations: 7\n"
      ]
     },
     "metadata": {},
     "output_type": "display_data"
    }
   ],
   "source": [
    "# Ajuste do modelo 3: retirando GENERO\n",
    "regressao_3 <- glm(CANCELOU ~\n",
    "                     IDADE +\n",
    "                     TEMPO_RELACIONAMENTO +\n",
    "                     TIPO_PLANO +\n",
    "                     RENDA,\n",
    "                   family = binomial(link = 'logit'),\n",
    "                   data = dados_telecom)\n",
    "\n",
    "summary(regressao_3)"
   ]
  },
  {
   "cell_type": "code",
   "execution_count": 18,
   "metadata": {
    "id": "OuBCpVx2iUY9"
   },
   "outputs": [
    {
     "data": {
      "text/plain": [
       "\n",
       "Call:\n",
       "glm(formula = CANCELOU ~ IDADE + TIPO_PLANO + RENDA, family = binomial(link = \"logit\"), \n",
       "    data = dados_telecom)\n",
       "\n",
       "Coefficients:\n",
       "                     Estimate Std. Error z value             Pr(>|z|)    \n",
       "(Intercept)         0.3800625  0.2640484   1.439                 0.15    \n",
       "IDADE              -0.1051055  0.0057732 -18.206 < 0.0000000000000002 ***\n",
       "TIPO_PLANOPre_Pago  1.8430802  0.1513994  12.174 < 0.0000000000000002 ***\n",
       "RENDA              -0.0001075  0.0000166  -6.477      0.0000000000938 ***\n",
       "---\n",
       "Signif. codes:  0 ‘***’ 0.001 ‘**’ 0.01 ‘*’ 0.05 ‘.’ 0.1 ‘ ’ 1\n",
       "\n",
       "(Dispersion parameter for binomial family taken to be 1)\n",
       "\n",
       "    Null deviance: 5093.4  on 9999  degrees of freedom\n",
       "Residual deviance: 4381.5  on 9996  degrees of freedom\n",
       "AIC: 4389.5\n",
       "\n",
       "Number of Fisher Scoring iterations: 7\n"
      ]
     },
     "metadata": {},
     "output_type": "display_data"
    }
   ],
   "source": [
    "# Ajuste do modelo 4: retirando TEMPO_RELACIONAMENTO\n",
    "regressao_4 <- glm(CANCELOU ~\n",
    "                     IDADE +\n",
    "                     TIPO_PLANO +\n",
    "                     RENDA,\n",
    "                   family = binomial(link = 'logit'),\n",
    "                   data = dados_telecom)\n",
    "\n",
    "summary(regressao_4)"
   ]
  },
  {
   "cell_type": "code",
   "execution_count": 19,
   "metadata": {
    "id": "GmUlRRizqdWP"
   },
   "outputs": [
    {
     "data": {
      "text/html": [
       "<table class=\"dataframe\">\n",
       "<caption>A data.frame: 3 × 1</caption>\n",
       "<thead>\n",
       "\t<tr><th></th><th scope=col>VIF</th></tr>\n",
       "\t<tr><th></th><th scope=col>&lt;dbl&gt;</th></tr>\n",
       "</thead>\n",
       "<tbody>\n",
       "\t<tr><th scope=row>IDADE</th><td>1.003087</td></tr>\n",
       "\t<tr><th scope=row>TIPO_PLANOPre_Pago</th><td>1.001811</td></tr>\n",
       "\t<tr><th scope=row>RENDA</th><td>1.001501</td></tr>\n",
       "</tbody>\n",
       "</table>\n"
      ],
      "text/latex": [
       "A data.frame: 3 × 1\n",
       "\\begin{tabular}{r|l}\n",
       "  & VIF\\\\\n",
       "  & <dbl>\\\\\n",
       "\\hline\n",
       "\tIDADE & 1.003087\\\\\n",
       "\tTIPO\\_PLANOPre\\_Pago & 1.001811\\\\\n",
       "\tRENDA & 1.001501\\\\\n",
       "\\end{tabular}\n"
      ],
      "text/markdown": [
       "\n",
       "A data.frame: 3 × 1\n",
       "\n",
       "| <!--/--> | VIF &lt;dbl&gt; |\n",
       "|---|---|\n",
       "| IDADE | 1.003087 |\n",
       "| TIPO_PLANOPre_Pago | 1.001811 |\n",
       "| RENDA | 1.001501 |\n",
       "\n"
      ],
      "text/plain": [
       "                   VIF     \n",
       "IDADE              1.003087\n",
       "TIPO_PLANOPre_Pago 1.001811\n",
       "RENDA              1.001501"
      ]
     },
     "metadata": {},
     "output_type": "display_data"
    }
   ],
   "source": [
    "# Avaliação de colinearidade no modelo 4\n",
    "data.frame(VIF = vif(regressao_4))"
   ]
  },
  {
   "cell_type": "markdown",
   "metadata": {
    "id": "8FPh79Xd8ST1"
   },
   "source": [
    "### Intervalos de confiança"
   ]
  },
  {
   "cell_type": "code",
   "execution_count": 20,
   "metadata": {
    "id": "qVTodUSmz15X"
   },
   "outputs": [],
   "source": [
    "# Escolha do beta (0 para intercepto, ou 1, 2, ... para os parâmetros referentes a cada variável explicativa)\n",
    "beta = 0"
   ]
  },
  {
   "cell_type": "code",
   "execution_count": 21,
   "metadata": {
    "id": "rBg7mDoO70cm"
   },
   "outputs": [
    {
     "name": "stdout",
     "output_type": "stream",
     "text": [
      "[1] \"Limite inferior\"\n"
     ]
    },
    {
     "data": {
      "text/html": [
       "-0.137472379186284"
      ],
      "text/latex": [
       "-0.137472379186284"
      ],
      "text/markdown": [
       "-0.137472379186284"
      ],
      "text/plain": [
       "[1] -0.1374724"
      ]
     },
     "metadata": {},
     "output_type": "display_data"
    },
    {
     "name": "stdout",
     "output_type": "stream",
     "text": [
      "[1] \"Limite superior\"\n"
     ]
    },
    {
     "data": {
      "text/html": [
       "0.897597373773307"
      ],
      "text/latex": [
       "0.897597373773307"
      ],
      "text/markdown": [
       "0.897597373773307"
      ],
      "text/plain": [
       "[1] 0.8975974"
      ]
     },
     "metadata": {},
     "output_type": "display_data"
    }
   ],
   "source": [
    "# Cálculo do intervalo\n",
    "print(\"Limite inferior\")\n",
    "as.numeric(regressao_4$coefficients[beta + 1] - 1.96 * coef(summary(regressao_4))[beta + 1, \"Std. Error\"])\n",
    "print(\"Limite superior\")\n",
    "as.numeric(regressao_4$coefficients[beta + 1] + 1.96 * coef(summary(regressao_4))[beta + 1, \"Std. Error\"])"
   ]
  },
  {
   "cell_type": "markdown",
   "metadata": {
    "id": "HIigFeGjJwpL"
   },
   "source": [
    "### Aplicação do modelo e definição de resposta predita"
   ]
  },
  {
   "cell_type": "code",
   "execution_count": 22,
   "metadata": {
    "id": "EqfzhugvQ8qj"
   },
   "outputs": [],
   "source": [
    "# Aplicação do modelo na base (criação de uma nova coluna chamada \"probabilidade\")\n",
    "dados_telecom$probabilidade <- predict(regressao_4,\n",
    "                                       dados_telecom,\n",
    "                                       type = \"response\")"
   ]
  },
  {
   "cell_type": "code",
   "execution_count": 23,
   "metadata": {
    "id": "OsmFiZrHRJHw"
   },
   "outputs": [
    {
     "data": {
      "text/html": [
       "0.0704"
      ],
      "text/latex": [
       "0.0704"
      ],
      "text/markdown": [
       "0.0704"
      ],
      "text/plain": [
       "[1] 0.0704"
      ]
     },
     "metadata": {},
     "output_type": "display_data"
    }
   ],
   "source": [
    "# Definição de ponto de corte (padrão: % de 1's na amostra)\n",
    "ponto_corte <- mean(dados_telecom$CANCELOU)\n",
    "ponto_corte"
   ]
  },
  {
   "cell_type": "code",
   "execution_count": 24,
   "metadata": {
    "id": "RNC-k-s4RSS4"
   },
   "outputs": [],
   "source": [
    "# Definição da resposta predita pelo modelo (criação de uma nova coluna chamada \"predito\")\n",
    "dados_telecom$predito <- as.factor(ifelse(dados_telecom$probabilidade > ponto_corte, 1, 0))"
   ]
  },
  {
   "cell_type": "markdown",
   "metadata": {
    "id": "l82_95h3JsBP"
   },
   "source": [
    "### Análise de desempenho"
   ]
  },
  {
   "cell_type": "code",
   "execution_count": 25,
   "metadata": {
    "id": "B_tsIjDaPVwI"
   },
   "outputs": [],
   "source": [
    "# Tabela de classificação\n",
    "tabela <- table(dados_telecom$CANCELOU, dados_telecom$predito)"
   ]
  },
  {
   "cell_type": "code",
   "execution_count": 26,
   "metadata": {
    "id": "XIH_nvQ9RfyC"
   },
   "outputs": [
    {
     "data": {
      "text/html": [
       "0.6586"
      ],
      "text/latex": [
       "0.6586"
      ],
      "text/markdown": [
       "0.6586"
      ],
      "text/plain": [
       "[1] 0.6586"
      ]
     },
     "metadata": {},
     "output_type": "display_data"
    }
   ],
   "source": [
    "# Acurácia\n",
    "(tabela[1,1] + tabela[2,2]) / sum(tabela)"
   ]
  },
  {
   "cell_type": "code",
   "execution_count": 27,
   "metadata": {
    "id": "izk0HXXIALP4"
   },
   "outputs": [
    {
     "data": {
      "text/html": [
       "0.651247848537005"
      ],
      "text/latex": [
       "0.651247848537005"
      ],
      "text/markdown": [
       "0.651247848537005"
      ],
      "text/plain": [
       "[1] 0.6512478"
      ]
     },
     "metadata": {},
     "output_type": "display_data"
    }
   ],
   "source": [
    "# Especificidade\n",
    "tabela[1,1] / (tabela[1,1] + tabela[1,2])"
   ]
  },
  {
   "cell_type": "code",
   "execution_count": 28,
   "metadata": {
    "id": "X1UCyp2OPW8w"
   },
   "outputs": [
    {
     "data": {
      "text/html": [
       "0.755681818181818"
      ],
      "text/latex": [
       "0.755681818181818"
      ],
      "text/markdown": [
       "0.755681818181818"
      ],
      "text/plain": [
       "[1] 0.7556818"
      ]
     },
     "metadata": {},
     "output_type": "display_data"
    }
   ],
   "source": [
    "# Sensibilidade\n",
    "tabela[2,2] / (tabela[2,1] + tabela[2,2])"
   ]
  },
  {
   "cell_type": "code",
   "execution_count": 29,
   "metadata": {
    "id": "BVca4OaaUfqZ"
   },
   "outputs": [
    {
     "name": "stdout",
     "output_type": "stream",
     "text": [
      "[1] 0.4140808\n"
     ]
    }
   ],
   "source": [
    "# KS\n",
    "pred <- prediction(dados_telecom$probabilidade, dados_telecom$CANCELOU)\n",
    "perf <- performance(pred, \"tpr\", \"fpr\")\n",
    "ks <- max(attr(perf, 'y.values')[[1]] - attr(perf, 'x.values')[[1]])\n",
    "\n",
    "print(ks)"
   ]
  },
  {
   "cell_type": "code",
   "execution_count": 30,
   "metadata": {
    "id": "JsaFkT9yU5v5"
   },
   "outputs": [
    {
     "name": "stdout",
     "output_type": "stream",
     "text": [
      "[1] 0.782512\n"
     ]
    }
   ],
   "source": [
    "# AUC\n",
    "pred <- prediction(dados_telecom$probabilidade, dados_telecom$CANCELOU)\n",
    "auc <- performance(pred, \"auc\")\n",
    "auc <- auc@y.values[[1]]\n",
    "\n",
    "print(auc)"
   ]
  },
  {
   "cell_type": "markdown",
   "metadata": {
    "id": "jVg-t0b6WD8S"
   },
   "source": [
    "### Exemplo de uso (aplicação) do modelo"
   ]
  },
  {
   "cell_type": "code",
   "execution_count": 31,
   "metadata": {
    "id": "lU6Z4u1BWEJq"
   },
   "outputs": [],
   "source": [
    "# Criação de base de dados com um novo cliente, que possui plano pré-pago, renda mensal de 5.000 reais e 30 anos de idade.\n",
    "# Obs.: os nomes das colunas e padrão de conteúdo devem ser idênticos aos da base utilizada para construção do modelo\n",
    "novos_dados <- data.frame(IDADE      = c(30),\n",
    "                          TIPO_PLANO = c(\"Pre_Pago\"),\n",
    "                          RENDA      = c(5000))"
   ]
  },
  {
   "cell_type": "code",
   "execution_count": 32,
   "metadata": {
    "id": "Xj6tful6W9lv"
   },
   "outputs": [
    {
     "data": {
      "text/html": [
       "<table class=\"dataframe\">\n",
       "<caption>A data.frame: 1 × 4</caption>\n",
       "<thead>\n",
       "\t<tr><th scope=col>IDADE</th><th scope=col>TIPO_PLANO</th><th scope=col>RENDA</th><th scope=col>PROB_CANCELAR_6M</th></tr>\n",
       "\t<tr><th scope=col>&lt;dbl&gt;</th><th scope=col>&lt;chr&gt;</th><th scope=col>&lt;dbl&gt;</th><th scope=col>&lt;dbl&gt;</th></tr>\n",
       "</thead>\n",
       "<tbody>\n",
       "\t<tr><td>30</td><td>Pre_Pago</td><td>5000</td><td>0.1873068</td></tr>\n",
       "</tbody>\n",
       "</table>\n"
      ],
      "text/latex": [
       "A data.frame: 1 × 4\n",
       "\\begin{tabular}{llll}\n",
       " IDADE & TIPO\\_PLANO & RENDA & PROB\\_CANCELAR\\_6M\\\\\n",
       " <dbl> & <chr> & <dbl> & <dbl>\\\\\n",
       "\\hline\n",
       "\t 30 & Pre\\_Pago & 5000 & 0.1873068\\\\\n",
       "\\end{tabular}\n"
      ],
      "text/markdown": [
       "\n",
       "A data.frame: 1 × 4\n",
       "\n",
       "| IDADE &lt;dbl&gt; | TIPO_PLANO &lt;chr&gt; | RENDA &lt;dbl&gt; | PROB_CANCELAR_6M &lt;dbl&gt; |\n",
       "|---|---|---|---|\n",
       "| 30 | Pre_Pago | 5000 | 0.1873068 |\n",
       "\n"
      ],
      "text/plain": [
       "  IDADE TIPO_PLANO RENDA PROB_CANCELAR_6M\n",
       "1 30    Pre_Pago   5000  0.1873068       "
      ]
     },
     "metadata": {},
     "output_type": "display_data"
    }
   ],
   "source": [
    "# Aplicação do modelo\n",
    "novos_dados$PROB_CANCELAR_6M <- predict(regressao_4, novos_dados, type = \"response\")\n",
    "View(novos_dados)"
   ]
  }
 ],
 "metadata": {
  "colab": {
   "provenance": []
  },
  "kernelspec": {
   "display_name": "R",
   "language": "R",
   "name": "ir"
  },
  "language_info": {
   "codemirror_mode": "r",
   "file_extension": ".r",
   "mimetype": "text/x-r-source",
   "name": "R",
   "pygments_lexer": "r",
   "version": "4.4.1"
  }
 },
 "nbformat": 4,
 "nbformat_minor": 4
}

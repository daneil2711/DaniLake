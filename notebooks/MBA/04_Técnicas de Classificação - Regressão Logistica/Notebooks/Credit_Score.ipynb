{
  "nbformat": 4,
  "nbformat_minor": 0,
  "metadata": {
    "colab": {
      "provenance": []
    },
    "kernelspec": {
      "name": "ir",
      "display_name": "R"
    },
    "language_info": {
      "name": "R"
    }
  },
  "cells": [
    {
      "cell_type": "markdown",
      "source": [
        "# **CASE: *CREDIT SCORE***\n",
        "\n",
        "---"
      ],
      "metadata": {
        "id": "L2vudERBJTiT"
      }
    },
    {
      "cell_type": "markdown",
      "source": [
        "### Instalação de bibliotecas"
      ],
      "metadata": {
        "id": "nGD5Csd2q7VV"
      }
    },
    {
      "cell_type": "code",
      "source": [
        "# Para cálculo do VIF\n",
        "install.packages(\"rms\")\n",
        "# Para cálculo do KS e AUC\n",
        "install.packages(\"ROCR\")"
      ],
      "metadata": {
        "id": "DY4aICW6q8Eb"
      },
      "execution_count": null,
      "outputs": []
    },
    {
      "cell_type": "markdown",
      "source": [
        "### Carregamento de bibliotecas"
      ],
      "metadata": {
        "id": "99PaLHQgvG4X"
      }
    },
    {
      "cell_type": "code",
      "source": [
        "library(rms)\n",
        "library(ROCR)"
      ],
      "metadata": {
        "id": "ypvOgRlIrJaq"
      },
      "execution_count": null,
      "outputs": []
    },
    {
      "cell_type": "markdown",
      "source": [
        "### Leitura da base de dados"
      ],
      "metadata": {
        "id": "AppXoGlSJa4f"
      }
    },
    {
      "cell_type": "code",
      "source": [
        "dados_credito <- read.table(file = \"Credit_Score.txt\",\n",
        "                            sep = \"\\t\",\n",
        "                            dec = \".\",\n",
        "                            header = TRUE)"
      ],
      "metadata": {
        "id": "BKIVxb-yO6kt"
      },
      "execution_count": null,
      "outputs": []
    },
    {
      "cell_type": "markdown",
      "source": [
        "### Visualização da base de dados"
      ],
      "metadata": {
        "id": "QjxtmJktJf24"
      }
    },
    {
      "cell_type": "code",
      "source": [
        "View(dados_credito)"
      ],
      "metadata": {
        "id": "FJUJqh-_O4Dh"
      },
      "execution_count": null,
      "outputs": []
    },
    {
      "cell_type": "markdown",
      "source": [
        "### Análise exploratória breve"
      ],
      "metadata": {
        "id": "PYTvweDFJimD"
      }
    },
    {
      "cell_type": "code",
      "source": [
        "# Medidas resumo\n",
        "summary(dados_credito)"
      ],
      "metadata": {
        "id": "TD_M_1CzO0L8"
      },
      "execution_count": null,
      "outputs": []
    },
    {
      "cell_type": "code",
      "source": [
        "# Tabela de frequências: safra\n",
        "table(dados_credito$SAFRA)\n",
        "prop.table(table(dados_credito$SAFRA))"
      ],
      "metadata": {
        "id": "xJ7mGpUpO_7M"
      },
      "execution_count": null,
      "outputs": []
    },
    {
      "cell_type": "code",
      "source": [
        "# Tabela de frequências: flag de pagamento parcial\n",
        "table(dados_credito$FLAG_PGTO_PARCIAL_12M)\n",
        "prop.table(table(dados_credito$FLAG_PGTO_PARCIAL_12M))"
      ],
      "metadata": {
        "id": "7Zci06gGPACI"
      },
      "execution_count": null,
      "outputs": []
    },
    {
      "cell_type": "code",
      "source": [
        "# Tabela de frequências: mau/bom (resposta)\n",
        "table(dados_credito$RESPOSTA_MAU_BOM)\n",
        "prop.table(table(dados_credito$RESPOSTA_MAU_BOM))"
      ],
      "metadata": {
        "id": "qcrhoBJ3PAKH"
      },
      "execution_count": null,
      "outputs": []
    },
    {
      "cell_type": "markdown",
      "source": [
        "### Análise bivariada: variável resposta vs. variáveis explicativas e safra"
      ],
      "metadata": {
        "id": "hvZQdAvYJn80"
      }
    },
    {
      "cell_type": "code",
      "source": [
        "# Comando auxiliar para aumentar resolução do gráfico (recomendado apenas no Colab)\n",
        "reset_options <- options()\n",
        "options(repr.plot.width = 20, repr.plot.height = 12)"
      ],
      "metadata": {
        "id": "lg03z-MAv53B"
      },
      "execution_count": null,
      "outputs": []
    },
    {
      "cell_type": "code",
      "source": [
        "# Gráficos de boxplots\n",
        "par(mfrow = c(3,4), cex = 1)\n",
        "boxplot(IDADE                        ~ RESPOSTA_MAU_BOM, data = dados_credito, col = \"darkturquoise\", main = \"Idade\")\n",
        "boxplot(RENDA_MEDIA_MENSAL           ~ RESPOSTA_MAU_BOM, data = dados_credito, col = \"darkturquoise\", main = \"Renda Média Mensal\")\n",
        "boxplot(TOTAL_INVESTIMENTOS          ~ RESPOSTA_MAU_BOM, data = dados_credito, col = \"darkturquoise\", main = \"Valor Total em Investimentos\")\n",
        "boxplot(QTDE_CONSULTAS_CREDITO_12M   ~ RESPOSTA_MAU_BOM, data = dados_credito, col = \"darkturquoise\", main = \"Qtde. de Consultas de Crédito\")\n",
        "boxplot(QTDE_CARTOES                 ~ RESPOSTA_MAU_BOM, data = dados_credito, col = \"darkturquoise\", main = \"Qtde. de Cartões\")\n",
        "boxplot(QTDE_EMPRESTIMOS_12M         ~ RESPOSTA_MAU_BOM, data = dados_credito, col = \"darkturquoise\", main = \"Qtde. de Empréstimos\")\n",
        "boxplot(QTDE_CHEQUE_ESPECIAL_12M     ~ RESPOSTA_MAU_BOM, data = dados_credito, col = \"darkturquoise\", main = \"Qtde. de Cheque Especial\")\n",
        "boxplot(QTDE_PGTOS_EM_ATRASO_12M     ~ RESPOSTA_MAU_BOM, data = dados_credito, col = \"darkturquoise\", main = \"Qtde. de Pagamentos em Atraso\")\n",
        "boxplot(TOTAL_DIAS_ATRASO_12M        ~ RESPOSTA_MAU_BOM, data = dados_credito, col = \"darkturquoise\", main = \"Total de Dias de Atraso\")\n",
        "boxplot(VALOR_PGTOS_12M              ~ RESPOSTA_MAU_BOM, data = dados_credito, col = \"darkturquoise\", main = \"Valor Total de Pagamentos\")\n",
        "boxplot(PERC_MEDIO_LIMITE_TOMADO_12M ~ RESPOSTA_MAU_BOM, data = dados_credito, col = \"darkturquoise\", main = \"% Médio de Limite Comprometido\")"
      ],
      "metadata": {
        "id": "YugAaIaWxki8"
      },
      "execution_count": null,
      "outputs": []
    },
    {
      "cell_type": "code",
      "source": [
        "# Resetando parâmetros gráficos (recomendado apenas no Colab)\n",
        "options(reset_options)"
      ],
      "metadata": {
        "id": "UDz8lfptvcag"
      },
      "execution_count": null,
      "outputs": []
    },
    {
      "cell_type": "code",
      "source": [
        "# Tabela de frequências: safra versus resposta (somando 100% nas linhas)\n",
        "table(dados_credito$SAFRA, dados_credito$RESPOSTA_MAU_BOM)\n",
        "prop.table(table(dados_credito$SAFRA, dados_credito$RESPOSTA_MAU_BOM), 1)"
      ],
      "metadata": {
        "id": "M6Pat478PQGL"
      },
      "execution_count": null,
      "outputs": []
    },
    {
      "cell_type": "code",
      "source": [
        "# Tabela de frequências: flag de pagamento parcial versus resposta (somando 100% nas linhas)\n",
        "table(dados_credito$FLAG_PGTO_PARCIAL_12M, dados_credito$RESPOSTA_MAU_BOM)\n",
        "prop.table(table(dados_credito$FLAG_PGTO_PARCIAL_12M, dados_credito$RESPOSTA_MAU_BOM), 1)"
      ],
      "metadata": {
        "id": "jA2nn-WhxiOD"
      },
      "execution_count": null,
      "outputs": []
    },
    {
      "cell_type": "markdown",
      "source": [
        "### Modelo de regressão logística múltipla"
      ],
      "metadata": {
        "id": "usjTOesQJpQI"
      }
    },
    {
      "cell_type": "code",
      "source": [
        "# Comando auxiliar para para omitir notação científica nos p-valores e controlar largura dos outputs na tela do Colab\n",
        "options(scipen = 999, width = 200)"
      ],
      "metadata": {
        "id": "SRr0HokUyf6E"
      },
      "execution_count": null,
      "outputs": []
    },
    {
      "cell_type": "code",
      "source": [
        "# Ajuste do modelo 1: inicial\n",
        "regressao_1 <- glm(RESPOSTA_MAU_BOM ~\n",
        "                     IDADE +\n",
        "                     RENDA_MEDIA_MENSAL +\n",
        "                     QTDE_CONSULTAS_CREDITO_12M +\n",
        "                     QTDE_CARTOES +\n",
        "                     QTDE_EMPRESTIMOS_12M +\n",
        "                     QTDE_CHEQUE_ESPECIAL_12M +\n",
        "                     QTDE_PGTOS_EM_ATRASO_12M +\n",
        "                     TOTAL_DIAS_ATRASO_12M +\n",
        "                     VALOR_PGTOS_12M +\n",
        "                     PERC_MEDIO_LIMITE_TOMADO_12M,\n",
        "                   family = binomial(link = 'logit'),\n",
        "                   data = dados_credito)\n",
        "\n",
        "summary(regressao_1)"
      ],
      "metadata": {
        "id": "jzOA-NoBPTuv"
      },
      "execution_count": null,
      "outputs": []
    },
    {
      "cell_type": "code",
      "source": [
        "# Ajuste do modelo 2: retirando PERC_MEDIO_LIMITE_TOMADO_12M\n",
        "regressao_2 <- glm(RESPOSTA_MAU_BOM ~\n",
        "                     IDADE +\n",
        "                     RENDA_MEDIA_MENSAL +\n",
        "                     QTDE_CONSULTAS_CREDITO_12M +\n",
        "                     QTDE_CARTOES +\n",
        "                     QTDE_EMPRESTIMOS_12M +\n",
        "                     QTDE_CHEQUE_ESPECIAL_12M +\n",
        "                     QTDE_PGTOS_EM_ATRASO_12M +\n",
        "                     TOTAL_DIAS_ATRASO_12M +\n",
        "                     VALOR_PGTOS_12M,\n",
        "                   family = binomial(link = 'logit'),\n",
        "                   data = dados_credito)\n",
        "\n",
        "summary(regressao_2)"
      ],
      "metadata": {
        "id": "_chXPFxunWD9"
      },
      "execution_count": null,
      "outputs": []
    },
    {
      "cell_type": "code",
      "source": [
        "# Ajuste do modelo 3: retirando RENDA_MEDIA_MENSAL\n",
        "regressao_3 <- glm(RESPOSTA_MAU_BOM ~\n",
        "                     IDADE +\n",
        "                     QTDE_CONSULTAS_CREDITO_12M +\n",
        "                     QTDE_CARTOES +\n",
        "                     QTDE_EMPRESTIMOS_12M +\n",
        "                     QTDE_CHEQUE_ESPECIAL_12M +\n",
        "                     QTDE_PGTOS_EM_ATRASO_12M +\n",
        "                     TOTAL_DIAS_ATRASO_12M +\n",
        "                     VALOR_PGTOS_12M,\n",
        "                   family = binomial(link = 'logit'),\n",
        "                   data = dados_credito)\n",
        "\n",
        "summary(regressao_3)"
      ],
      "metadata": {
        "id": "8E7yJXxviNAg"
      },
      "execution_count": null,
      "outputs": []
    },
    {
      "cell_type": "code",
      "source": [
        "# Ajuste do modelo 4: retirando QTDE_CONSULTAS_CREDITO_12M\n",
        "regressao_4 <- glm(RESPOSTA_MAU_BOM ~\n",
        "                     IDADE +\n",
        "                     QTDE_CARTOES +\n",
        "                     QTDE_EMPRESTIMOS_12M +\n",
        "                     QTDE_CHEQUE_ESPECIAL_12M +\n",
        "                     QTDE_PGTOS_EM_ATRASO_12M +\n",
        "                     TOTAL_DIAS_ATRASO_12M +\n",
        "                     VALOR_PGTOS_12M,\n",
        "                   family = binomial(link = 'logit'),\n",
        "                   data = dados_credito)\n",
        "\n",
        "summary(regressao_4)"
      ],
      "metadata": {
        "id": "OuBCpVx2iUY9"
      },
      "execution_count": null,
      "outputs": []
    },
    {
      "cell_type": "code",
      "source": [
        "# Ajuste do modelo 5: retirando QTDE_CARTOES\n",
        "regressao_5 <- glm(RESPOSTA_MAU_BOM ~\n",
        "                     IDADE +\n",
        "                     QTDE_EMPRESTIMOS_12M +\n",
        "                     QTDE_CHEQUE_ESPECIAL_12M +\n",
        "                     QTDE_PGTOS_EM_ATRASO_12M +\n",
        "                     TOTAL_DIAS_ATRASO_12M +\n",
        "                     VALOR_PGTOS_12M,\n",
        "                   family = binomial(link = 'logit'),\n",
        "                   data = dados_credito)\n",
        "\n",
        "summary(regressao_5)"
      ],
      "metadata": {
        "id": "NUD8acF9QOwB"
      },
      "execution_count": null,
      "outputs": []
    },
    {
      "cell_type": "code",
      "source": [
        "# Ajuste do modelo 6: retirando IDADE\n",
        "regressao_6 <- glm(RESPOSTA_MAU_BOM ~\n",
        "                     QTDE_EMPRESTIMOS_12M +\n",
        "                     QTDE_CHEQUE_ESPECIAL_12M +\n",
        "                     QTDE_PGTOS_EM_ATRASO_12M +\n",
        "                     TOTAL_DIAS_ATRASO_12M +\n",
        "                     VALOR_PGTOS_12M,\n",
        "                   family = binomial(link = 'logit'),\n",
        "                   data = dados_credito)\n",
        "\n",
        "summary(regressao_6)"
      ],
      "metadata": {
        "id": "KAdl9LrJQU3-"
      },
      "execution_count": null,
      "outputs": []
    },
    {
      "cell_type": "code",
      "source": [
        "# Ajuste do modelo 7: retirando TOTAL_DIAS_ATRASO_12M\n",
        "regressao_7 <- glm(RESPOSTA_MAU_BOM ~\n",
        "                     QTDE_EMPRESTIMOS_12M +\n",
        "                     QTDE_CHEQUE_ESPECIAL_12M +\n",
        "                     QTDE_PGTOS_EM_ATRASO_12M +\n",
        "                     VALOR_PGTOS_12M,\n",
        "                   family = binomial(link = 'logit'),\n",
        "                   data = dados_credito)\n",
        "\n",
        "summary(regressao_7)"
      ],
      "metadata": {
        "id": "JM7jSpd2QZo_"
      },
      "execution_count": null,
      "outputs": []
    },
    {
      "cell_type": "code",
      "source": [
        "# Avaliação de colinearidade no modelo 7\n",
        "data.frame(VIF = vif(regressao_7))"
      ],
      "metadata": {
        "id": "GmUlRRizqdWP"
      },
      "execution_count": null,
      "outputs": []
    },
    {
      "cell_type": "markdown",
      "source": [
        "### Intervalos de confiança"
      ],
      "metadata": {
        "id": "8FPh79Xd8ST1"
      }
    },
    {
      "cell_type": "code",
      "source": [
        "# Escolha do beta (0 para intercepto, ou 1, 2, ... para os parâmetros referentes a cada variável explicativa)\n",
        "beta = 0"
      ],
      "metadata": {
        "id": "qVTodUSmz15X"
      },
      "execution_count": null,
      "outputs": []
    },
    {
      "cell_type": "code",
      "source": [
        "# Cálculo do intervalo\n",
        "print(\"Limite inferior\")\n",
        "as.numeric(regressao_7$coefficients[beta + 1] - 1.96 * coef(summary(regressao_7))[beta + 1, \"Std. Error\"])\n",
        "print(\"Limite superior\")\n",
        "as.numeric(regressao_7$coefficients[beta + 1] + 1.96 * coef(summary(regressao_7))[beta + 1, \"Std. Error\"])"
      ],
      "metadata": {
        "id": "rBg7mDoO70cm"
      },
      "execution_count": null,
      "outputs": []
    },
    {
      "cell_type": "markdown",
      "source": [
        "### Aplicação do modelo e definição de resposta predita"
      ],
      "metadata": {
        "id": "HIigFeGjJwpL"
      }
    },
    {
      "cell_type": "code",
      "source": [
        "# Aplicação do modelo na base (criação de uma nova coluna chamada \"probabilidade\")\n",
        "dados_credito$probabilidade <- predict(regressao_7,\n",
        "                                       dados_credito,\n",
        "                                       type = \"response\")"
      ],
      "metadata": {
        "id": "EqfzhugvQ8qj"
      },
      "execution_count": null,
      "outputs": []
    },
    {
      "cell_type": "code",
      "source": [
        "# Definição de ponto de corte (padrão: % de 1's na amostra)\n",
        "ponto_corte <- mean(dados_credito$RESPOSTA_MAU_BOM)\n",
        "ponto_corte"
      ],
      "metadata": {
        "id": "OsmFiZrHRJHw"
      },
      "execution_count": null,
      "outputs": []
    },
    {
      "cell_type": "code",
      "source": [
        "# Definição da resposta predita pelo modelo (criação de uma nova coluna chamada \"predito\")\n",
        "dados_credito$predito <- as.factor(ifelse(dados_credito$probabilidade > ponto_corte, 1, 0))"
      ],
      "metadata": {
        "id": "RNC-k-s4RSS4"
      },
      "execution_count": null,
      "outputs": []
    },
    {
      "cell_type": "markdown",
      "source": [
        "### Análise de desempenho"
      ],
      "metadata": {
        "id": "l82_95h3JsBP"
      }
    },
    {
      "cell_type": "code",
      "source": [
        "# Tabela de classificação\n",
        "tabela <- table(dados_credito$RESPOSTA_MAU_BOM, dados_credito$predito)"
      ],
      "metadata": {
        "id": "B_tsIjDaPVwI"
      },
      "execution_count": null,
      "outputs": []
    },
    {
      "cell_type": "code",
      "source": [
        "# Acurácia\n",
        "(tabela[1,1] + tabela[2,2]) / sum(tabela)"
      ],
      "metadata": {
        "id": "XIH_nvQ9RfyC"
      },
      "execution_count": null,
      "outputs": []
    },
    {
      "cell_type": "code",
      "source": [
        "# Especificidade\n",
        "tabela[1,1] / (tabela[1,1] + tabela[1,2])"
      ],
      "metadata": {
        "id": "izk0HXXIALP4"
      },
      "execution_count": null,
      "outputs": []
    },
    {
      "cell_type": "code",
      "source": [
        "# Sensibilidade\n",
        "tabela[2,2] / (tabela[2,1] + tabela[2,2])"
      ],
      "metadata": {
        "id": "X1UCyp2OPW8w"
      },
      "execution_count": null,
      "outputs": []
    },
    {
      "cell_type": "code",
      "source": [
        "# KS\n",
        "pred <- prediction(dados_credito$probabilidade, dados_credito$RESPOSTA_MAU_BOM)\n",
        "perf <- performance(pred, \"tpr\", \"fpr\")\n",
        "ks <- max(attr(perf, 'y.values')[[1]] - attr(perf, 'x.values')[[1]])\n",
        "\n",
        "print(ks)"
      ],
      "metadata": {
        "id": "BVca4OaaUfqZ"
      },
      "execution_count": null,
      "outputs": []
    },
    {
      "cell_type": "code",
      "source": [
        "# AUC\n",
        "pred <- prediction(dados_credito$probabilidade, dados_credito$RESPOSTA_MAU_BOM)\n",
        "auc <- performance(pred, \"auc\")\n",
        "auc <- auc@y.values[[1]]\n",
        "\n",
        "print(auc)"
      ],
      "metadata": {
        "id": "JsaFkT9yU5v5"
      },
      "execution_count": null,
      "outputs": []
    },
    {
      "cell_type": "markdown",
      "source": [
        "### Exemplo de uso (aplicação) do modelo"
      ],
      "metadata": {
        "id": "jVg-t0b6WD8S"
      }
    },
    {
      "cell_type": "code",
      "source": [
        "# Criação de base de dados com um novo cliente, que possui plano pré-pago, renda mensal de 5.000 reais e 30 anos de idade.\n",
        "# Obs.: os nomes das colunas e padrão de conteúdo devem ser idênticos aos da base utilizada para construção do modelo\n",
        "novos_dados <- data.frame(QTDE_EMPRESTIMOS_12M     = c(1),\n",
        "                          QTDE_CHEQUE_ESPECIAL_12M = c(0),\n",
        "                          QTDE_PGTOS_EM_ATRASO_12M = c(0),\n",
        "                          VALOR_PGTOS_12M          = c(10000))"
      ],
      "metadata": {
        "id": "lU6Z4u1BWEJq"
      },
      "execution_count": null,
      "outputs": []
    },
    {
      "cell_type": "code",
      "source": [
        "# Aplicação do modelo\n",
        "novos_dados$PROB_CANCELAR_6M <- predict(regressao_7, novos_dados, type = \"response\")\n",
        "View(novos_dados)"
      ],
      "metadata": {
        "id": "Xj6tful6W9lv"
      },
      "execution_count": null,
      "outputs": []
    }
  ]
}
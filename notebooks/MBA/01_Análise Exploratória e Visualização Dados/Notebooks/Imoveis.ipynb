{
  "nbformat": 4,
  "nbformat_minor": 0,
  "metadata": {
    "colab": {
      "provenance": []
    },
    "kernelspec": {
      "name": "ir",
      "display_name": "R"
    },
    "language_info": {
      "name": "R"
    }
  },
  "cells": [
    {
      "cell_type": "markdown",
      "source": [
        "# **CASE: PERFIL DE IMÓVEIS RESIDENCIAIS**\n",
        "\n",
        "---"
      ],
      "metadata": {
        "id": "L2vudERBJTiT"
      }
    },
    {
      "cell_type": "markdown",
      "source": [
        "### Leitura da base de dados"
      ],
      "metadata": {
        "id": "AppXoGlSJa4f"
      }
    },
    {
      "cell_type": "code",
      "source": [
        "dados <- read.table(file   = \"Imoveis.txt\",\n",
        "                    sep    = \"\\t\",\n",
        "                    header = TRUE)"
      ],
      "metadata": {
        "id": "BKIVxb-yO6kt"
      },
      "execution_count": null,
      "outputs": []
    },
    {
      "cell_type": "markdown",
      "source": [
        "### Visualização da base de dados"
      ],
      "metadata": {
        "id": "QjxtmJktJf24"
      }
    },
    {
      "cell_type": "code",
      "source": [
        "View(dados)"
      ],
      "metadata": {
        "id": "FJUJqh-_O4Dh"
      },
      "execution_count": null,
      "outputs": []
    },
    {
      "cell_type": "markdown",
      "source": [
        "### Análise de unicidade"
      ],
      "metadata": {
        "id": "_TwVYJ3s1Q4M"
      }
    },
    {
      "cell_type": "markdown",
      "source": [
        "*Verificação de quais registros estão duplicados em uma variável*"
      ],
      "metadata": {
        "id": "bjcuqrBL2gJG"
      }
    },
    {
      "cell_type": "code",
      "source": [
        "duplicated(dados$ID_IMOVEL)"
      ],
      "metadata": {
        "id": "UzXTvddvESqB"
      },
      "execution_count": null,
      "outputs": []
    },
    {
      "cell_type": "markdown",
      "source": [
        "*Contabilização da quantidade de duplicados*"
      ],
      "metadata": {
        "id": "u8jVFaIT22Mv"
      }
    },
    {
      "cell_type": "code",
      "source": [
        "sum(duplicated(dados$ID_IMOVEL))"
      ],
      "metadata": {
        "id": "IzDDy3fAESsZ"
      },
      "execution_count": null,
      "outputs": []
    },
    {
      "cell_type": "markdown",
      "source": [
        "### Análise univariada: variáveis qualitativas *(exemplos)*"
      ],
      "metadata": {
        "id": "7AB2_SR31Rw6"
      }
    },
    {
      "cell_type": "markdown",
      "source": [
        "*Tabela de frequências absolutas, incluindo missings*"
      ],
      "metadata": {
        "id": "0U2XWv4O3HXF"
      }
    },
    {
      "cell_type": "code",
      "source": [
        "  table(dados$INCIDENCIA_LUZ, useNA = \"ifany\")"
      ],
      "metadata": {
        "id": "6U_0-wvYEZ0k"
      },
      "execution_count": null,
      "outputs": []
    },
    {
      "cell_type": "markdown",
      "source": [
        "*Tabela de frequências relativas, incluindo missings*"
      ],
      "metadata": {
        "id": "gCaIbQZs3LY2"
      }
    },
    {
      "cell_type": "code",
      "source": [
        "  prop.table(table(dados$INCIDENCIA_LUZ, useNA = \"ifany\"))"
      ],
      "metadata": {
        "id": "kPTX5oL7EcB8"
      },
      "execution_count": null,
      "outputs": []
    },
    {
      "cell_type": "markdown",
      "source": [
        "*Arredondando as frequências na tabela anterior*"
      ],
      "metadata": {
        "id": "8BBoIXAr3U1J"
      }
    },
    {
      "cell_type": "code",
      "source": [
        "  round(prop.table(table(dados$INCIDENCIA_LUZ, useNA = \"ifany\")), 2) * 100"
      ],
      "metadata": {
        "id": "pXLqti5REdES"
      },
      "execution_count": null,
      "outputs": []
    },
    {
      "cell_type": "markdown",
      "source": [
        "*Ordenando categorias em uma variável qualitativa ordinal*"
      ],
      "metadata": {
        "id": "TYWC845Q3X-r"
      }
    },
    {
      "cell_type": "code",
      "source": [
        "  dados$INCIDENCIA_LUZ <- factor(dados$INCIDENCIA_LUZ,\n",
        "                                 levels = c(\"Nenhuma\", \"Pouca\", \"Muita\"))"
      ],
      "metadata": {
        "id": "aHR2RwXXEdcT"
      },
      "execution_count": null,
      "outputs": []
    },
    {
      "cell_type": "markdown",
      "source": [
        "*Gráfico de barras (básico)*"
      ],
      "metadata": {
        "id": "sGxgeey23gQE"
      }
    },
    {
      "cell_type": "code",
      "source": [
        "  tab_abs <- table(dados$INCIDENCIA_LUZ, useNA = \"ifany\")\n",
        "  barplot(height = tab_abs)"
      ],
      "metadata": {
        "id": "20ay98zUEgrt"
      },
      "execution_count": null,
      "outputs": []
    },
    {
      "cell_type": "markdown",
      "source": [
        "*Gráfico de barras (formatado)*"
      ],
      "metadata": {
        "id": "g7jjHcQk3mDb"
      }
    },
    {
      "cell_type": "code",
      "source": [
        "  tab_abs  <- table(dados$INCIDENCIA_LUZ, useNA = \"ifany\")\n",
        "  p <- barplot(height = sort(tab_abs, decreasing = TRUE),\n",
        "               main   = \"Gráfico de barras\",\n",
        "               col    = \"darkturquoise\",\n",
        "               ylim   = c(0, 250))\n",
        "  text(x = p,\n",
        "       y = sort(tab_abs, decreasing = TRUE) + 10,\n",
        "       labels = sort(tab_abs, decreasing = TRUE))"
      ],
      "metadata": {
        "id": "CaX-79x4Ehzz"
      },
      "execution_count": null,
      "outputs": []
    },
    {
      "cell_type": "markdown",
      "source": [
        "*Gráfico de setores (básico)*"
      ],
      "metadata": {
        "id": "HAcQ9r2i3pTP"
      }
    },
    {
      "cell_type": "code",
      "source": [
        "  tab_abs <- table(dados$INCIDENCIA_LUZ, useNA = \"ifany\")\n",
        "  pie(x = tab_abs)"
      ],
      "metadata": {
        "id": "OLFLSiyTEjAN"
      },
      "execution_count": null,
      "outputs": []
    },
    {
      "cell_type": "markdown",
      "source": [
        "*Gráfico de setores (formatado)*"
      ],
      "metadata": {
        "id": "LRC7vio63t8q"
      }
    },
    {
      "cell_type": "code",
      "source": [
        "  tab_abs  <- table(dados$INCIDENCIA_LUZ,\n",
        "                    useNA = \"ifany\")\n",
        "  tab_perc <- 100 * round(prop.table(table(dados$INCIDENCIA_LUZ,\n",
        "                                           useNA = \"ifany\")), 2)\n",
        "  pie(x      = tab_abs,\n",
        "      main   = \"Gráfico de setores\",\n",
        "      col    = c(\"lightsalmon\", \"darkslategray2\", \"darkseagreen2\"),\n",
        "      labels = paste0(tab_abs, \" (\", tab_perc, \"%)\"))\n",
        "  legend(x      = \"topright\",\n",
        "         legend = names(tab_abs),\n",
        "         cex    = 0.8,\n",
        "         fill   = c(\"lightsalmon\", \"darkslategray2\", \"darkseagreen2\"))"
      ],
      "metadata": {
        "id": "V_y3sUtZEklF"
      },
      "execution_count": null,
      "outputs": []
    },
    {
      "cell_type": "markdown",
      "source": [
        "### Análise univariada: variáveis quantitativas *(exemplos)*"
      ],
      "metadata": {
        "id": "x-sad0ZI1TIa"
      }
    },
    {
      "cell_type": "markdown",
      "source": [
        "*Mínimo, máximo, quartis, mediana, média e qtde. de missings*"
      ],
      "metadata": {
        "id": "mKRUWvPJ31bQ"
      }
    },
    {
      "cell_type": "code",
      "source": [
        "  summary(dados$METRAGEM)"
      ],
      "metadata": {
        "id": "j-GShWEpFY8Q"
      },
      "execution_count": null,
      "outputs": []
    },
    {
      "cell_type": "markdown",
      "source": [
        "*Moda*"
      ],
      "metadata": {
        "id": "4uz0VOup376S"
      }
    },
    {
      "cell_type": "code",
      "source": [
        "  names(sort(-table(dados$METRAGEM)))[1]"
      ],
      "metadata": {
        "id": "nkfjiec8FY-k"
      },
      "execution_count": null,
      "outputs": []
    },
    {
      "cell_type": "markdown",
      "source": [
        "*Percentis*"
      ],
      "metadata": {
        "id": "KlauyCLU39X2"
      }
    },
    {
      "cell_type": "code",
      "source": [
        "  quantile(x     = dados$METRAGEM,\n",
        "           probs = c(0.01, 0.80, 0.99),\n",
        "           na.rm = TRUE)"
      ],
      "metadata": {
        "id": "7O6t98WqFZA5"
      },
      "execution_count": null,
      "outputs": []
    },
    {
      "cell_type": "markdown",
      "source": [
        "*Variância e desvio padrão*"
      ],
      "metadata": {
        "id": "evrfMl9U4AYS"
      }
    },
    {
      "cell_type": "code",
      "source": [
        "  var(dados$METRAGEM, na.rm = TRUE)\n",
        "  sd(dados$METRAGEM, na.rm = TRUE)"
      ],
      "metadata": {
        "id": "5dWwXv9ZFZDT"
      },
      "execution_count": null,
      "outputs": []
    },
    {
      "cell_type": "markdown",
      "source": [
        "*Coeficiente de variação*"
      ],
      "metadata": {
        "id": "2FIN1etz4GCt"
      }
    },
    {
      "cell_type": "code",
      "source": [
        "  sd(dados$METRAGEM, na.rm = TRUE) / mean(dados$METRAGEM, na.rm = TRUE)"
      ],
      "metadata": {
        "id": "uClMEnL4FZFr"
      },
      "execution_count": null,
      "outputs": []
    },
    {
      "cell_type": "markdown",
      "source": [
        "*Amplitude*"
      ],
      "metadata": {
        "id": "wzLJsXCd4IHF"
      }
    },
    {
      "cell_type": "code",
      "source": [
        "  max(dados$METRAGEM, na.rm = TRUE) - min(dados$METRAGEM, na.rm = TRUE)"
      ],
      "metadata": {
        "id": "OW-J1cj1FZIK"
      },
      "execution_count": null,
      "outputs": []
    },
    {
      "cell_type": "markdown",
      "source": [
        "*Amplitude percentílica*"
      ],
      "metadata": {
        "id": "2DlKhleC4Jrr"
      }
    },
    {
      "cell_type": "code",
      "source": [
        "  as.numeric(quantile(dados$METRAGEM, probs = 0.99, na.rm = TRUE) -\n",
        "               quantile(dados$METRAGEM, probs = 0.01, na.rm = TRUE))"
      ],
      "metadata": {
        "id": "JI5318ieFZKI"
      },
      "execution_count": null,
      "outputs": []
    },
    {
      "cell_type": "markdown",
      "source": [
        "*Intervalo interquartil*"
      ],
      "metadata": {
        "id": "ruOFWBsb4L-9"
      }
    },
    {
      "cell_type": "code",
      "source": [
        "  as.numeric(quantile(dados$METRAGEM, probs = 0.75, na.rm = TRUE) -\n",
        "               quantile(dados$METRAGEM, probs = 0.25, na.rm = TRUE))"
      ],
      "metadata": {
        "id": "Tj1CguCLFkdZ"
      },
      "execution_count": null,
      "outputs": []
    },
    {
      "cell_type": "markdown",
      "source": [
        "*Histograma (básico)*"
      ],
      "metadata": {
        "id": "3JS45LdO4TOE"
      }
    },
    {
      "cell_type": "code",
      "source": [
        "  hist(x = dados$METRAGEM)"
      ],
      "metadata": {
        "id": "OcfNNLwHFlys"
      },
      "execution_count": null,
      "outputs": []
    },
    {
      "cell_type": "markdown",
      "source": [
        "*Histograma (formatado)*"
      ],
      "metadata": {
        "id": "rZtuK6FB4Vm-"
      }
    },
    {
      "cell_type": "code",
      "source": [
        "  hist(x      = dados$METRAGEM,\n",
        "       main   = \"Histograma\",\n",
        "       xlab   = \"Metragem (em m2)\",\n",
        "       ylab   = \"Frequência\",\n",
        "       col    = \"darkturquoise\",\n",
        "       border = \"white\")"
      ],
      "metadata": {
        "id": "ZZ01baecFl1L"
      },
      "execution_count": null,
      "outputs": []
    },
    {
      "cell_type": "markdown",
      "source": [
        "*Boxplot (básico)*"
      ],
      "metadata": {
        "id": "tlYAzvuE4Xm-"
      }
    },
    {
      "cell_type": "code",
      "source": [
        "  boxplot(x = dados$METRAGEM)"
      ],
      "metadata": {
        "id": "YWeB5UT2Fl4b"
      },
      "execution_count": null,
      "outputs": []
    },
    {
      "cell_type": "markdown",
      "source": [
        "*Boxplot (formatado)*"
      ],
      "metadata": {
        "id": "NLEmwxMu4ZbT"
      }
    },
    {
      "cell_type": "code",
      "source": [
        "  boxplot(x    = dados$METRAGEM,\n",
        "          main = \"Boxplot\",\n",
        "          xlab = \"Metragem (em m2)\",\n",
        "          ylab = \"Frequência\",\n",
        "          col  = \"darkturquoise\")"
      ],
      "metadata": {
        "id": "-UM23ZQkFphL"
      },
      "execution_count": null,
      "outputs": []
    },
    {
      "cell_type": "markdown",
      "source": [
        "### Análise bivariada/trivariada: qualitativas vs. qualitativas *(exemplos)*"
      ],
      "metadata": {
        "id": "Ow5hlnpK1Ucv"
      }
    },
    {
      "cell_type": "markdown",
      "source": [
        "*Tabela de frequências absolutas de dupla entrada*"
      ],
      "metadata": {
        "id": "sZ6YYU_8HDTW"
      }
    },
    {
      "cell_type": "code",
      "source": [
        "  table(dados$INCIDENCIA_LUZ,\n",
        "        dados$TIPO_IMOVEL,\n",
        "        useNA = \"ifany\")"
      ],
      "metadata": {
        "id": "T4Cpz-XiNmrw"
      },
      "execution_count": null,
      "outputs": []
    },
    {
      "cell_type": "markdown",
      "source": [
        "*Tabela de frequências relativas de dupla entrada, somando 100% em cada linha*"
      ],
      "metadata": {
        "id": "XPUTK-HTHIkh"
      }
    },
    {
      "cell_type": "code",
      "source": [
        "  prop.table(table(dados$INCIDENCIA_LUZ,\n",
        "                   dados$TIPO_IMOVEL,\n",
        "                   useNA = \"ifany\"), 1)"
      ],
      "metadata": {
        "id": "jZD3LavONmuV"
      },
      "execution_count": null,
      "outputs": []
    },
    {
      "cell_type": "markdown",
      "source": [
        "*Tabela de frequências relativas de dupla entrada, somando 100% em cada coluna*"
      ],
      "metadata": {
        "id": "SGXZWuEfHMhG"
      }
    },
    {
      "cell_type": "code",
      "source": [
        "  prop.table(table(dados$INCIDENCIA_LUZ,\n",
        "                   dados$TIPO_IMOVEL,\n",
        "                   useNA = \"ifany\"), 2)"
      ],
      "metadata": {
        "id": "UnzHle9dNmwv"
      },
      "execution_count": null,
      "outputs": []
    },
    {
      "cell_type": "markdown",
      "source": [
        "*Gráfico de barras empilhadas (básico)*"
      ],
      "metadata": {
        "id": "cbSGkhhcHPhY"
      }
    },
    {
      "cell_type": "code",
      "source": [
        "  tab_perc <- prop.table(table(dados$INCIDENCIA_LUZ,\n",
        "                               dados$TIPO_IMOVEL,\n",
        "                               useNA = \"ifany\"), 1)\n",
        "  plot(tab_perc)\n",
        "\n",
        "  tab_perc <- prop.table(table(dados$TIPO_IMOVEL,\n",
        "                               dados$INCIDENCIA_LUZ,\n",
        "                               useNA = \"ifany\"), 1)\n",
        "  plot(tab_perc)"
      ],
      "metadata": {
        "id": "zGD1W0tJNmzN"
      },
      "execution_count": null,
      "outputs": []
    },
    {
      "cell_type": "markdown",
      "source": [
        "*Gráfico de barras empilhadas (formatado)*"
      ],
      "metadata": {
        "id": "4Ts5LY4bHTma"
      }
    },
    {
      "cell_type": "code",
      "source": [
        "  tab_perc <- prop.table(table(dados$INCIDENCIA_LUZ,\n",
        "                               dados$TIPO_IMOVEL,\n",
        "                               useNA = \"ifany\"), 2) * 100\n",
        "  barplot(height = tab_perc,\n",
        "          col    = c(\"turquoise\", \"turquoise2\", \"turquoise4\"),\n",
        "          main   = \"Gráfico de barras empilhadas\",\n",
        "          xlab   = \"Tipo de imóvel\",\n",
        "          ylab   = \"Frequência (%)\")\n",
        "  legend(x      = \"bottomright\",\n",
        "         legend = row.names(tab_perc),\n",
        "         cex    = 0.8,\n",
        "         fill   = c(\"turquoise\", \"turquoise2\", \"turquoise4\"))\n",
        "\n",
        "  tab_perc <- prop.table(table(dados$TIPO_IMOVEL,\n",
        "                               dados$INCIDENCIA_LUZ,\n",
        "                               useNA = \"ifany\"), 2) * 100\n",
        "  barplot(height = tab_perc,\n",
        "          col    = c(\"turquoise4\", \"turquoise2\"),\n",
        "          main   = \"Gráfico de barras empilhadas\",\n",
        "          xlab   = \"Incidência de luz solar\",\n",
        "          ylab   = \"Frequência (%)\")\n",
        "  legend(x      = \"bottomright\",\n",
        "         legend = row.names(tab_perc),\n",
        "         cex    = 0.8,\n",
        "         fill   = c(\"turquoise4\", \"turquoise2\"))"
      ],
      "metadata": {
        "id": "gPNuaeTfNm1z"
      },
      "execution_count": null,
      "outputs": []
    },
    {
      "cell_type": "markdown",
      "source": [
        "*Tabela de frequências absolutas de tripla entrada*"
      ],
      "metadata": {
        "id": "Tz5LXtmuHVts"
      }
    },
    {
      "cell_type": "code",
      "source": [
        "  table(dados$INCIDENCIA_LUZ[dados$TIPO_IMOVEL == \"Apartamento\"],\n",
        "        dados$FLUXO_VEICULOS[dados$TIPO_IMOVEL == \"Apartamento\"],\n",
        "        useNA = \"ifany\")\n",
        "  table(dados$INCIDENCIA_LUZ[dados$TIPO_IMOVEL == \"Casa\"],\n",
        "        dados$FLUXO_VEICULOS[dados$TIPO_IMOVEL == \"Casa\"],\n",
        "        useNA = \"ifany\")"
      ],
      "metadata": {
        "id": "p3eU0E2QNm4N"
      },
      "execution_count": null,
      "outputs": []
    },
    {
      "cell_type": "markdown",
      "source": [
        "*Tabela de frequências relativas de tripla entrada, somando 100% em cada linha*"
      ],
      "metadata": {
        "id": "k3WTAncoHbDL"
      }
    },
    {
      "cell_type": "code",
      "source": [
        "  prop.table(table(dados$INCIDENCIA_LUZ[dados$TIPO_IMOVEL == \"Apartamento\"],\n",
        "                   dados$FLUXO_VEICULOS[dados$TIPO_IMOVEL == \"Apartamento\"],\n",
        "                   useNA = \"ifany\"), 1)\n",
        "  prop.table(table(dados$INCIDENCIA_LUZ[dados$TIPO_IMOVEL == \"Casa\"],\n",
        "                   dados$FLUXO_VEICULOS[dados$TIPO_IMOVEL == \"Casa\"],\n",
        "                   useNA = \"ifany\"), 1)"
      ],
      "metadata": {
        "id": "qanzpjFANm6r"
      },
      "execution_count": null,
      "outputs": []
    },
    {
      "cell_type": "markdown",
      "source": [
        "*Tabela de frequências relativas de tripla entrada, somando 100% em cada coluna*"
      ],
      "metadata": {
        "id": "7-DNKBP4Heuu"
      }
    },
    {
      "cell_type": "code",
      "source": [
        "  prop.table(table(dados$INCIDENCIA_LUZ[dados$TIPO_IMOVEL == \"Apartamento\"],\n",
        "                   dados$FLUXO_VEICULOS[dados$TIPO_IMOVEL == \"Apartamento\"],\n",
        "                   useNA = \"ifany\"), 2)\n",
        "  prop.table(table(dados$INCIDENCIA_LUZ[dados$TIPO_IMOVEL == \"Casa\"],\n",
        "                   dados$FLUXO_VEICULOS[dados$TIPO_IMOVEL == \"Casa\"],\n",
        "                   useNA = \"ifany\"), 2)"
      ],
      "metadata": {
        "id": "OI-bHBVXNm9J"
      },
      "execution_count": null,
      "outputs": []
    },
    {
      "cell_type": "markdown",
      "source": [
        "### Análise bivariada/trivariada: quantitativas vs. quantitativas *(exemplos)*"
      ],
      "metadata": {
        "id": "-X1oWzQV1Wp3"
      }
    },
    {
      "cell_type": "markdown",
      "source": [
        "*Gráfico de dispersão (básico)*"
      ],
      "metadata": {
        "id": "tsSGS5FoHi-b"
      }
    },
    {
      "cell_type": "code",
      "source": [
        "  plot(dados$METRAGEM, dados$VALOR_VENDA)"
      ],
      "metadata": {
        "id": "0IKVB58_NnDV"
      },
      "execution_count": null,
      "outputs": []
    },
    {
      "cell_type": "markdown",
      "source": [
        "*Gráfico de dispersão (formatado)*"
      ],
      "metadata": {
        "id": "9hGbVFIxHoBr"
      }
    },
    {
      "cell_type": "code",
      "source": [
        "  options(scipen = 999) # comando para omitir notação científica na exibição de valores grandes\n",
        "  plot(dados$VALOR_VENDA ~ dados$METRAGEM,\n",
        "       col  = \"darkturquoise\",\n",
        "       pch  = 19,\n",
        "       main = \"Gráfico de dispersão: valor versus metragem\",\n",
        "       xlab = \"Metragem (em m2)\",\n",
        "       ylab = \"Valor (em R$)\")"
      ],
      "metadata": {
        "id": "4z8Z66PINnGD"
      },
      "execution_count": null,
      "outputs": []
    },
    {
      "cell_type": "markdown",
      "source": [
        "*Gráfico de dispersão (formatado e com transparência nos pontos)*"
      ],
      "metadata": {
        "id": "OZWSTAAxHpta"
      }
    },
    {
      "cell_type": "code",
      "source": [
        "  options(scipen = 999)\n",
        "  library(scales)\n",
        "  plot(dados$VALOR_VENDA ~ dados$METRAGEM,\n",
        "       col  = alpha(\"darkturquoise\", 0.4),\n",
        "       pch  = 19,\n",
        "       main = \"Gráfico de dispersão: valor versus metragem\",\n",
        "       xlab = \"Metragem (em m2)\",\n",
        "       ylab = \"Valor (em R$)\")"
      ],
      "metadata": {
        "id": "Mrw2BDAvNnIT"
      },
      "execution_count": null,
      "outputs": []
    },
    {
      "cell_type": "markdown",
      "source": [
        "### Análise bivariada/trivariada: qualitativas vs. quantitativas *(exemplos)*"
      ],
      "metadata": {
        "id": "3Bqqs8Gf1Xcy"
      }
    },
    {
      "cell_type": "markdown",
      "source": [
        "*Principais medidas resumo com quebra por variável qualitativa*"
      ],
      "metadata": {
        "id": "Hs5xBRzAH2IN"
      }
    },
    {
      "cell_type": "code",
      "source": [
        "  summary(dados$METRAGEM[dados$TIPO_IMOVEL == \"Apartamento\"])\n",
        "  summary(dados$METRAGEM[dados$TIPO_IMOVEL == \"Casa\"])"
      ],
      "metadata": {
        "id": "63BYNvQlOIGO"
      },
      "execution_count": null,
      "outputs": []
    },
    {
      "cell_type": "markdown",
      "source": [
        "*Percentis com quebra por variável qualitativa*"
      ],
      "metadata": {
        "id": "VjEAEM0xH5jn"
      }
    },
    {
      "cell_type": "code",
      "source": [
        "  print(\"Apartamento\")\n",
        "  quantile(x     = dados$METRAGEM[dados$TIPO_IMOVEL == \"Apartamento\"],\n",
        "           probs = c(0.01, 0.99),\n",
        "           na.rm = TRUE)\n",
        "  print(\"Casa\")\n",
        "  quantile(x     = dados$METRAGEM[dados$TIPO_IMOVEL == \"Casa\"],\n",
        "           probs = c(0.01, 0.99),\n",
        "           na.rm = TRUE)"
      ],
      "metadata": {
        "id": "cYHjQgjTOJQC"
      },
      "execution_count": null,
      "outputs": []
    },
    {
      "cell_type": "markdown",
      "source": [
        "*Histograma com quebra por variável qualitativa (básico)*"
      ],
      "metadata": {
        "id": "w9HB3lDrH8m0"
      }
    },
    {
      "cell_type": "code",
      "source": [
        "  par(mfrow = c(2,1))\n",
        "  hist(x = dados$METRAGEM[dados$TIPO_IMOVEL == \"Apartamento\"])\n",
        "  hist(x = dados$METRAGEM[dados$TIPO_IMOVEL == \"Casa\"])"
      ],
      "metadata": {
        "id": "Ych2mk_4OKe0"
      },
      "execution_count": null,
      "outputs": []
    },
    {
      "cell_type": "markdown",
      "source": [
        "*Histograma com quebra por variável qualitativa (formatado)*"
      ],
      "metadata": {
        "id": "GychAq19IBjx"
      }
    },
    {
      "cell_type": "code",
      "source": [
        "  par(mfrow = c(2,1))\n",
        "  hist(x      = dados$METRAGEM[dados$TIPO_IMOVEL == \"Apartamento\"],\n",
        "       main   = \"Histograma: apartamentos\",\n",
        "       xlab   = \"Metragem (em m2)\",\n",
        "       ylab   = \"Frequencia\",\n",
        "       xlim = c(0,400),\n",
        "       breaks = 10,\n",
        "       col    = \"darkturquoise\",\n",
        "       border = \"white\")\n",
        "  hist(x      = dados$METRAGEM[dados$TIPO_IMOVEL == \"Casa\"],\n",
        "       main   = \"Histograma: casas\",\n",
        "       xlab   = \"Metragem (em m2)\",\n",
        "       ylab   = \"Frequencia\",\n",
        "       xlim = c(0,400),\n",
        "       breaks = 10,\n",
        "       col    = \"darkturquoise\",\n",
        "       border = \"white\")"
      ],
      "metadata": {
        "id": "7tMQ7ja1OMgv"
      },
      "execution_count": null,
      "outputs": []
    },
    {
      "cell_type": "markdown",
      "source": [
        "*Boxplot com quebra por variável qualitativa (básico)*"
      ],
      "metadata": {
        "id": "F8lylqdcIDvz"
      }
    },
    {
      "cell_type": "code",
      "source": [
        "  par(mfrow = c(1,1))\n",
        "  boxplot(formula = dados$METRAGEM ~ dados$TIPO_IMOVEL)"
      ],
      "metadata": {
        "id": "bzFpXoCSOQCx"
      },
      "execution_count": null,
      "outputs": []
    },
    {
      "cell_type": "markdown",
      "source": [
        "*Boxplot com quebra por variável qualitativa (formatado)*"
      ],
      "metadata": {
        "id": "10CyA9AUIIYl"
      }
    },
    {
      "cell_type": "code",
      "source": [
        "  boxplot(formula = dados$METRAGEM ~ dados$TIPO_IMOVEL,\n",
        "          main    = \"Boxplot\",\n",
        "          xlab    = \"Tipo de imóvel\",\n",
        "          ylab    = \"Metragem (em m2)\",\n",
        "          col     = \"darkturquoise\")"
      ],
      "metadata": {
        "id": "-xVV65LyORG7"
      },
      "execution_count": null,
      "outputs": []
    },
    {
      "cell_type": "markdown",
      "source": [
        "*Gráfico de dispersão com terceira dimensão qualitativa (básico)*"
      ],
      "metadata": {
        "id": "ZLrUNTKScfkt"
      }
    },
    {
      "cell_type": "code",
      "source": [
        "  options(scipen = 999)\n",
        "  plot(dados$VALOR_VENDA ~ dados$METRAGEM,\n",
        "       col  = ifelse(dados$TIPO_IMOVEL == \"Apartamento\", \"darkturquoise\", \"lightsalmon\"))"
      ],
      "metadata": {
        "id": "1ujmvusrceVo"
      },
      "execution_count": null,
      "outputs": []
    },
    {
      "cell_type": "markdown",
      "source": [
        "*Gráfico de dispersão com terceira dimensão qualitativa (formatado e com transparência nos pontos)*"
      ],
      "metadata": {
        "id": "94BsB9ffHuw3"
      }
    },
    {
      "cell_type": "code",
      "source": [
        "  options(scipen = 999)\n",
        "  library(scales)\n",
        "  plot(dados$VALOR_VENDA ~ dados$METRAGEM,\n",
        "       col  = ifelse(dados$TIPO_IMOVEL == \"Apartamento\", alpha(\"darkturquoise\", 0.4), alpha(\"lightsalmon\", 0.4)),\n",
        "       pch  = 19,\n",
        "       main = \"Gráfico de dispersão com terceira dimensão qualitativa\",\n",
        "       xlab = \"Metragem (em m2)\",\n",
        "       ylab = \"Valor (em R$)\")"
      ],
      "metadata": {
        "id": "L8eg1TlXODkI"
      },
      "execution_count": null,
      "outputs": []
    },
    {
      "cell_type": "markdown",
      "source": [
        "### **ITENS DE EXERCÍCIO**"
      ],
      "metadata": {
        "id": "vMGEKkfmX9jP"
      }
    },
    {
      "cell_type": "markdown",
      "source": [
        "### Item (a)"
      ],
      "metadata": {
        "id": "PYTvweDFJimD"
      }
    },
    {
      "cell_type": "code",
      "source": [
        "table(dados$BAIRRO_IMOVEL)\n",
        "prop.table(table(dados$BAIRRO_IMOVEL))"
      ],
      "metadata": {
        "id": "TD_M_1CzO0L8"
      },
      "execution_count": null,
      "outputs": []
    },
    {
      "cell_type": "code",
      "source": [
        "table(dados$BAIRRO_IMOVEL, dados$TIPO_IMOVEL)\n",
        "round(prop.table(table(dados$BAIRRO, dados$TIPO_IMOVEL), 2), 2)"
      ],
      "metadata": {
        "id": "f0uqh0fWOyk_"
      },
      "execution_count": null,
      "outputs": []
    },
    {
      "cell_type": "markdown",
      "source": [
        "### Item (b)"
      ],
      "metadata": {
        "id": "hvZQdAvYJn80"
      }
    },
    {
      "cell_type": "code",
      "source": [
        "summary(dados$VAGAS_GARAGEM)\n",
        "table(dados$VAGAS_GARAGEM)"
      ],
      "metadata": {
        "id": "M6Pat478PQGL"
      },
      "execution_count": null,
      "outputs": []
    },
    {
      "cell_type": "code",
      "source": [
        "table(dados$VAGAS_GARAGEM, dados$BAIRRO_IMOVEL)\n",
        "round(prop.table(table(dados$VAGAS_GARAGEM, dados$BAIRRO_IMOVEL), 2), 2)"
      ],
      "metadata": {
        "id": "QGlAGZD5PQJW"
      },
      "execution_count": null,
      "outputs": []
    },
    {
      "cell_type": "code",
      "source": [
        "table(dados$VAGAS_GARAGEM, dados$TIPO_IMOVEL)\n",
        "round(prop.table(table(dados$VAGAS_GARAGEM, dados$TIPO_IMOVEL), 2), 2)"
      ],
      "metadata": {
        "id": "UjqvJSBnPQOl"
      },
      "execution_count": null,
      "outputs": []
    },
    {
      "cell_type": "markdown",
      "source": [
        "### Item (c)"
      ],
      "metadata": {
        "id": "usjTOesQJpQI"
      }
    },
    {
      "cell_type": "code",
      "source": [
        "boxplot(dados$METRAGEM ~ dados$VAGAS_GARAGEM,\n",
        "        main = \"Metragem versus vagas de garagem\",\n",
        "        xlab = \"Vagas de garagem\",\n",
        "        ylab = \"Metragem (em m2)\",\n",
        "        col  = \"darkturquoise\")"
      ],
      "metadata": {
        "id": "jzOA-NoBPTuv"
      },
      "execution_count": null,
      "outputs": []
    },
    {
      "cell_type": "markdown",
      "source": [
        "### Item (d)"
      ],
      "metadata": {
        "id": "l82_95h3JsBP"
      }
    },
    {
      "cell_type": "code",
      "source": [
        "hist(dados$COMERCIOS_RAIO_1KM,\n",
        "     main = \"Distribuicao da qtde. de estabelecimentos em ate 1km\",\n",
        "     xlab = \"Qtde. de estabelec.\",\n",
        "     ylab = \"Frequencia\",\n",
        "     col  = \"darkturquoise\",\n",
        "     border = \"white\")"
      ],
      "metadata": {
        "id": "B_tsIjDaPVwI"
      },
      "execution_count": null,
      "outputs": []
    },
    {
      "cell_type": "code",
      "source": [
        "par(mfrow = c(2,2))\n",
        "hist(dados$COMERCIOS_RAIO_1KM[dados$BAIRRO_IMOVEL == \"Jardim Sol\"],\n",
        "     main = \"Qtde. de estabelec.: Jardim Sol\",\n",
        "     xlab = \"Qtde. de estabelecimentos\",\n",
        "     ylab = \"Frequencia\",\n",
        "     xlim = c(0,40),\n",
        "     col  = \"darkturquoise\",\n",
        "     border = \"white\")\n",
        "hist(dados$COMERCIOS_RAIO_1KM[dados$BAIRRO_IMOVEL == \"Recanto Mar\"],\n",
        "     main = \"Qtde. de estabelec.: Recanto Mar\",\n",
        "     xlab = \"Qtde. de estabelecimentos\",\n",
        "     ylab = \"Frequencia\",\n",
        "     xlim = c(0,40),\n",
        "     col  = \"darkturquoise\",\n",
        "     border = \"white\")\n",
        "hist(dados$COMERCIOS_RAIO_1KM[dados$BAIRRO_IMOVEL == \"Santa Rosa\"],\n",
        "     main = \"Qtde. de estabelec.: Santa Rosa\",\n",
        "     xlab = \"Qtde. de estabelecimentos\",\n",
        "     ylab = \"Frequencia\",\n",
        "     xlim = c(0,40),\n",
        "     col  = \"darkturquoise\",\n",
        "     border = \"white\")\n",
        "hist(dados$COMERCIOS_RAIO_1KM[dados$BAIRRO_IMOVEL == \"Vila Verde\"],\n",
        "     main = \"Qtde. de estabelec.: Vila Verde\",\n",
        "     xlab = \"Qtde. de estabelecimentos\",\n",
        "     ylab = \"Frequencia\",\n",
        "     xlim = c(0,40),\n",
        "     col  = \"darkturquoise\",\n",
        "     border = \"white\")"
      ],
      "metadata": {
        "id": "X1UCyp2OPW8w"
      },
      "execution_count": null,
      "outputs": []
    },
    {
      "cell_type": "markdown",
      "source": [
        "### Item (e)"
      ],
      "metadata": {
        "id": "lnBrvuxyJumV"
      }
    },
    {
      "cell_type": "code",
      "source": [
        "table(dados$INCIDENCIA_LUZ, dados$BAIRRO_IMOVEL)\n",
        "round(prop.table(table(dados$INCIDENCIA_LUZ, dados$BAIRRO_IMOVEL), 2), 2)"
      ],
      "metadata": {
        "id": "kMMMPoDTPZGJ"
      },
      "execution_count": null,
      "outputs": []
    },
    {
      "cell_type": "code",
      "source": [
        "par(mfrow = c(1,1))\n",
        "tab_perc <- prop.table(table(dados$INCIDENCIA_LUZ,\n",
        "                             dados$BAIRRO_IMOVEL,\n",
        "                             useNA = \"ifany\"), 2) * 100\n",
        "barplot(height = tab_perc,\n",
        "        col    = c(\"turquoise\", \"turquoise2\", \"turquoise4\"),\n",
        "        main   = \"Incidencia de luz solar versus bairro\",\n",
        "        xlab   = \"Bairro\",\n",
        "        ylab   = \"Frequencia (%)\")\n",
        "legend(x      = \"bottomright\",\n",
        "       legend = row.names(tab_perc),\n",
        "       cex    = 0.8,\n",
        "       fill   = c(\"turquoise\", \"turquoise2\", \"turquoise4\"))"
      ],
      "metadata": {
        "id": "s1jXW56LPaAO"
      },
      "execution_count": null,
      "outputs": []
    },
    {
      "cell_type": "markdown",
      "source": [
        "### Item (f)"
      ],
      "metadata": {
        "id": "HIigFeGjJwpL"
      }
    },
    {
      "cell_type": "code",
      "source": [
        "options(scipen = 999)\n",
        "hist(dados$VALOR_VENDA,\n",
        "     main = \"Distribuicao de precos dos imoveis\",\n",
        "     xlab = \"Preco do imovel, em R$\",\n",
        "     ylab = \"Frequencia\",\n",
        "     col  = \"darkturquoise\",\n",
        "     border = \"white\")"
      ],
      "metadata": {
        "id": "jP0o0OMaPdR8"
      },
      "execution_count": null,
      "outputs": []
    },
    {
      "cell_type": "markdown",
      "source": [
        "### Item (g)"
      ],
      "metadata": {
        "id": "L1dDOTJ0JykP"
      }
    },
    {
      "cell_type": "code",
      "source": [
        "options(scipen = 999)\n",
        "boxplot(dados$VALOR_VENDA ~ dados$BAIRRO_IMOVEL,\n",
        "     main = \"Distribuicao de precos dos imoveis, por bairro\",\n",
        "     xlab = \"Bairro\",\n",
        "     ylab = \"Preco do imovel, em R$\",\n",
        "     col  = \"darkturquoise\")"
      ],
      "metadata": {
        "id": "H5ix48ngPeYJ"
      },
      "execution_count": null,
      "outputs": []
    },
    {
      "cell_type": "markdown",
      "source": [
        "### Item (h)"
      ],
      "metadata": {
        "id": "8SXkGOQYJ0Nr"
      }
    },
    {
      "cell_type": "code",
      "source": [
        "options(scipen = 999)\n",
        "library(scales)\n",
        "\n",
        "plot(dados$VALOR_VENDA ~ dados$COMERCIOS_RAIO_1KM,\n",
        "     main = \"Precos dos imoveis versus qtde. de estabelec. comerciais\",\n",
        "     xlab = \"Qtde. de estabelecimentos\",\n",
        "     ylab = \"Preco do imovel, em R$\",\n",
        "     col  = alpha(\"darkturquoise\", 0.4),\n",
        "     pch = 19)"
      ],
      "metadata": {
        "id": "ElJGCPtvPfgG"
      },
      "execution_count": null,
      "outputs": []
    }
  ]
}
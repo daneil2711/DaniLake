{
  "nbformat": 4,
  "nbformat_minor": 0,
  "metadata": {
    "colab": {
      "provenance": []
    },
    "kernelspec": {
      "name": "ir",
      "display_name": "R"
    },
    "language_info": {
      "name": "R"
    }
  },
  "cells": [
    {
      "cell_type": "markdown",
      "source": [
        "# **CASE: VENDA DE VEÍCULOS**\n",
        "\n",
        "---"
      ],
      "metadata": {
        "id": "L2vudERBJTiT"
      }
    },
    {
      "cell_type": "markdown",
      "source": [
        "### Leitura da base de dados"
      ],
      "metadata": {
        "id": "AppXoGlSJa4f"
      }
    },
    {
      "cell_type": "code",
      "source": [
        "dados_veiculos <- read.table(file   = \"Venda_Veiculos.txt\",\n",
        "                             sep    = \"\\t\",\n",
        "                             header = TRUE)"
      ],
      "metadata": {
        "id": "BKIVxb-yO6kt"
      },
      "execution_count": null,
      "outputs": []
    },
    {
      "cell_type": "markdown",
      "source": [
        "### Visualização da base de dados"
      ],
      "metadata": {
        "id": "QjxtmJktJf24"
      }
    },
    {
      "cell_type": "code",
      "source": [
        "View(dados_veiculos)"
      ],
      "metadata": {
        "id": "FJUJqh-_O4Dh"
      },
      "execution_count": null,
      "outputs": []
    },
    {
      "cell_type": "markdown",
      "source": [
        "### Análise exploratória breve"
      ],
      "metadata": {
        "id": "PYTvweDFJimD"
      }
    },
    {
      "cell_type": "code",
      "source": [
        "# Medidas resumo\n",
        "summary(dados_veiculos)"
      ],
      "metadata": {
        "id": "TD_M_1CzO0L8"
      },
      "execution_count": null,
      "outputs": []
    },
    {
      "cell_type": "code",
      "source": [
        "# Histograma do tempo de experiência dos vendedores\n",
        "hist(dados_veiculos$Tempo_Experiencia,\n",
        "     main = \"Tempo de experiência dos vendedores (anos)\",\n",
        "     col = \"darkturquoise\",\n",
        "     border = \"white\",\n",
        "     xlab = \"Tempo de experiência\",\n",
        "     ylab = \"Frequência\",\n",
        "     breaks = 10)"
      ],
      "metadata": {
        "id": "aULjV5DiuN8a"
      },
      "execution_count": null,
      "outputs": []
    },
    {
      "cell_type": "code",
      "source": [
        "# Histograma do valor médio mensal em vendas\n",
        "hist(dados_veiculos$Valor_Medio_Mensal_Vendas,\n",
        "     main = \"Valor médio mensal em vendas (R$)\",\n",
        "     col = \"darkturquoise\",\n",
        "     border = \"white\",\n",
        "     xlab = \"Tempo de experiência\",\n",
        "     ylab = \"Frequência\",\n",
        "     breaks = 10)"
      ],
      "metadata": {
        "id": "542cpDRruQGm"
      },
      "execution_count": null,
      "outputs": []
    },
    {
      "cell_type": "markdown",
      "source": [
        "### Análise bivariada: variável resposta vs. variáveis explicativas"
      ],
      "metadata": {
        "id": "hvZQdAvYJn80"
      }
    },
    {
      "cell_type": "code",
      "source": [
        "# Gráfico de dispersão\n",
        "plot(x    = dados_veiculos$Tempo_Experiencia,\n",
        "     y    = dados_veiculos$Valor_Medio_Mensal_Vendas,\n",
        "     pch  = 19,\n",
        "     col  = \"darkturquoise\",\n",
        "     xlab = \"Tempo de experiência (anos)\",\n",
        "     ylab = \"Valor médio mensal em vendas (R$)\",\n",
        "     main = \"Valor médio mensal em vendas vs. tempo de experiência\")"
      ],
      "metadata": {
        "id": "M6Pat478PQGL"
      },
      "execution_count": null,
      "outputs": []
    },
    {
      "cell_type": "code",
      "source": [
        "# Coeficiente de correlação\n",
        "cor(dados_veiculos$Tempo_Experiencia, dados_veiculos$Valor_Medio_Mensal_Vendas)"
      ],
      "metadata": {
        "id": "_VuasR7YBwZ6"
      },
      "execution_count": null,
      "outputs": []
    },
    {
      "cell_type": "markdown",
      "source": [
        "### Modelo de regressão linear simples"
      ],
      "metadata": {
        "id": "usjTOesQJpQI"
      }
    },
    {
      "cell_type": "code",
      "source": [
        "# Comando auxiliar para para omitir notação científica nos p-valores e controlar largura dos outputs na tela do Colab\n",
        "options(scipen = 999, width = 200)"
      ],
      "metadata": {
        "id": "SRr0HokUyf6E"
      },
      "execution_count": null,
      "outputs": []
    },
    {
      "cell_type": "code",
      "source": [
        "# Ajuste do modelo\n",
        "regressao <- lm(Valor_Medio_Mensal_Vendas ~ Tempo_Experiencia,\n",
        "                data = dados_veiculos)\n",
        "\n",
        "summary(regressao)"
      ],
      "metadata": {
        "id": "jzOA-NoBPTuv"
      },
      "execution_count": null,
      "outputs": []
    },
    {
      "cell_type": "markdown",
      "source": [
        "### Intervalos de confiança"
      ],
      "metadata": {
        "id": "8FPh79Xd8ST1"
      }
    },
    {
      "cell_type": "code",
      "source": [
        "# Intercepto (beta 0)\n",
        "print(\"Limite inferior\")\n",
        "as.numeric(regressao$coefficients[1] - 1.96 * coef(summary(regressao))[1, \"Std. Error\"])\n",
        "print(\"Limite superior\")\n",
        "as.numeric(regressao$coefficients[1] + 1.96 * coef(summary(regressao))[1, \"Std. Error\"])"
      ],
      "metadata": {
        "id": "qVTodUSmz15X"
      },
      "execution_count": null,
      "outputs": []
    },
    {
      "cell_type": "code",
      "source": [
        "# Ângulo (beta 1)\n",
        "print(\"Limite inferior\")\n",
        "as.numeric(regressao$coefficients[2] - 1.96 * coef(summary(regressao))[2, \"Std. Error\"])\n",
        "print(\"Limite superior\")\n",
        "as.numeric(regressao$coefficients[2] + 1.96 * coef(summary(regressao))[2, \"Std. Error\"])"
      ],
      "metadata": {
        "id": "rBg7mDoO70cm"
      },
      "execution_count": null,
      "outputs": []
    },
    {
      "cell_type": "markdown",
      "source": [
        "### Gráfico de dispersão com reta ajustada"
      ],
      "metadata": {
        "id": "lnBrvuxyJumV"
      }
    },
    {
      "cell_type": "code",
      "source": [
        "plot(x    = dados_veiculos$Tempo_Experiencia,\n",
        "     y    = dados_veiculos$Valor_Medio_Mensal_Vendas,\n",
        "     pch  = 19,\n",
        "     col  = \"darkturquoise\",\n",
        "     xlab = \"Tempo de experiência (anos)\",\n",
        "     ylab = \"Valor médio mensal em vendas (R$)\",\n",
        "     main = \"Valor médio mensal em vendas vs. tempo de experiência\")\n",
        "points(abline(regressao,\n",
        "              col = \"red\"))"
      ],
      "metadata": {
        "id": "kMMMPoDTPZGJ"
      },
      "execution_count": null,
      "outputs": []
    },
    {
      "cell_type": "markdown",
      "source": [
        "### Qualidade de ajuste"
      ],
      "metadata": {
        "id": "l82_95h3JsBP"
      }
    },
    {
      "cell_type": "code",
      "source": [
        "# Coeficiente de determinação (R²)\n",
        "summary(regressao)$r.squared"
      ],
      "metadata": {
        "id": "B_tsIjDaPVwI"
      },
      "execution_count": null,
      "outputs": []
    },
    {
      "cell_type": "code",
      "source": [
        "# MAE\n",
        "sum(abs(regressao$residuals))/nrow(dados_veiculos)"
      ],
      "metadata": {
        "id": "izk0HXXIALP4"
      },
      "execution_count": null,
      "outputs": []
    },
    {
      "cell_type": "code",
      "source": [
        "# MAPE\n",
        "sum(abs(regressao$residuals/dados_veiculos$Valor_Medio_Mensal_Vendas))/nrow(dados_veiculos)"
      ],
      "metadata": {
        "id": "X1UCyp2OPW8w"
      },
      "execution_count": null,
      "outputs": []
    },
    {
      "cell_type": "markdown",
      "source": [
        "### Análise de resíduos"
      ],
      "metadata": {
        "id": "HIigFeGjJwpL"
      }
    },
    {
      "cell_type": "code",
      "source": [
        "# Histograma dos resíduos\n",
        "hist(x      = regressao$residuals,\n",
        "     main   = \"Histograma dos resíduos\",\n",
        "     col    = \"darkturquoise\",\n",
        "     border = \"white\")"
      ],
      "metadata": {
        "id": "jP0o0OMaPdR8"
      },
      "execution_count": null,
      "outputs": []
    },
    {
      "cell_type": "code",
      "source": [
        "# QQ plot dos resíduos\n",
        "qqnorm(y    = regressao$residuals,\n",
        "       main = \"QQ-plot dos resíduos\",\n",
        "       col  = \"darkturquoise\",\n",
        "       pch  = 19)\n",
        "qqline(y    = regressao$residuals,\n",
        "       col  = \"red\")"
      ],
      "metadata": {
        "id": "kT3zNDqXFP3e"
      },
      "execution_count": null,
      "outputs": []
    },
    {
      "cell_type": "code",
      "source": [
        "# Resíduos vs. tempo de experiência\n",
        "plot(x    = dados_veiculos$Tempo_Experiencia,\n",
        "     y    = regressao$residuals,\n",
        "     pch  = 19,\n",
        "     col  = \"darkturquoise\",\n",
        "     xlab = \"Tempo de experiência (anos)\",\n",
        "     ylab = \"Resíduos\",\n",
        "     main = \"Resíduos vs. tempo de experiência\")"
      ],
      "metadata": {
        "id": "0XeBMTHgFRlK"
      },
      "execution_count": null,
      "outputs": []
    },
    {
      "cell_type": "markdown",
      "source": [
        "### Exemplo de uso (aplicação) do modelo"
      ],
      "metadata": {
        "id": "jVg-t0b6WD8S"
      }
    },
    {
      "cell_type": "code",
      "source": [
        "# Criação de base de dados com um novo vendedor, com 12 anos de experiência\n",
        "# Obs.: o nome de coluna deve ser idêntico ao da base utilizada para construção do modelo (\"Tempo_Experiencia\")\n",
        "novos_dados <- data.frame(Tempo_Experiencia = c(12))"
      ],
      "metadata": {
        "id": "lU6Z4u1BWEJq"
      },
      "execution_count": null,
      "outputs": []
    },
    {
      "cell_type": "code",
      "source": [
        "# Aplicação do modelo\n",
        "novos_dados$Tempo_Experiencia_Predito <- predict(regressao, novos_dados)\n",
        "View(novos_dados)"
      ],
      "metadata": {
        "id": "Xj6tful6W9lv"
      },
      "execution_count": null,
      "outputs": []
    }
  ]
}
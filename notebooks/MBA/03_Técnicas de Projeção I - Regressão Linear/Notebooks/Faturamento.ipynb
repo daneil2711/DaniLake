{
  "nbformat": 4,
  "nbformat_minor": 0,
  "metadata": {
    "colab": {
      "provenance": []
    },
    "kernelspec": {
      "name": "ir",
      "display_name": "R"
    },
    "language_info": {
      "name": "R"
    }
  },
  "cells": [
    {
      "cell_type": "markdown",
      "source": [
        "# **CASE: FATURAMENTO EM** ***E-COMMERCE***\n",
        "---"
      ],
      "metadata": {
        "id": "L2vudERBJTiT"
      }
    },
    {
      "cell_type": "markdown",
      "source": [
        "### Leitura da base de dados"
      ],
      "metadata": {
        "id": "AppXoGlSJa4f"
      }
    },
    {
      "cell_type": "code",
      "source": [
        "dados_faturamento <- read.table(file   = \"Faturamento.txt\",\n",
        "                                sep    = \"\\t\",\n",
        "                                header = TRUE)"
      ],
      "metadata": {
        "id": "BKIVxb-yO6kt"
      },
      "execution_count": null,
      "outputs": []
    },
    {
      "cell_type": "markdown",
      "source": [
        "### Visualização da base de dados"
      ],
      "metadata": {
        "id": "QjxtmJktJf24"
      }
    },
    {
      "cell_type": "code",
      "source": [
        "View(dados_faturamento)"
      ],
      "metadata": {
        "id": "FJUJqh-_O4Dh"
      },
      "execution_count": null,
      "outputs": []
    },
    {
      "cell_type": "markdown",
      "source": [
        "### Análise exploratória breve"
      ],
      "metadata": {
        "id": "PYTvweDFJimD"
      }
    },
    {
      "cell_type": "code",
      "source": [
        "# Medidas resumo\n",
        "summary(dados_faturamento)"
      ],
      "metadata": {
        "id": "TD_M_1CzO0L8"
      },
      "execution_count": null,
      "outputs": []
    },
    {
      "cell_type": "code",
      "source": [
        "# Comando auxiliar para para omitir notação científica nos p-valores e no eixo vertical dos histogramas e controlar largura dos outputs na tela do Colab\n",
        "options(scipen = 999, width = 200)"
      ],
      "metadata": {
        "id": "SRr0HokUyf6E"
      },
      "execution_count": null,
      "outputs": []
    },
    {
      "cell_type": "code",
      "source": [
        "# Histograma do investimento em mídias\n",
        "hist(dados_faturamento$INVESTIMENTO,\n",
        "     main = \"Investimento em mídias (R$)\",\n",
        "     col = \"darkturquoise\",\n",
        "     border = \"white\",\n",
        "     xlab = \"Investimento em mídias (R$)\",\n",
        "     ylab = \"Frequência\",\n",
        "     breaks = 10)"
      ],
      "metadata": {
        "id": "aULjV5DiuN8a"
      },
      "execution_count": null,
      "outputs": []
    },
    {
      "cell_type": "code",
      "source": [
        "# Histograma do faturamento\n",
        "hist(dados_faturamento$FATURAMENTO,\n",
        "     main = \"Faturamento (R$)\",\n",
        "     col = \"darkturquoise\",\n",
        "     border = \"white\",\n",
        "     xlab = \"Faturamento (R$)\",\n",
        "     ylab = \"Frequência\",\n",
        "     breaks = 10)"
      ],
      "metadata": {
        "id": "542cpDRruQGm"
      },
      "execution_count": null,
      "outputs": []
    },
    {
      "cell_type": "markdown",
      "source": [
        "### Análise bivariada: variável resposta vs. variáveis explicativas"
      ],
      "metadata": {
        "id": "hvZQdAvYJn80"
      }
    },
    {
      "cell_type": "code",
      "source": [
        "# Gráfico de dispersão\n",
        "plot(x    = dados_faturamento$INVESTIMENTO,\n",
        "     y    = dados_faturamento$FATURAMENTO,\n",
        "     pch  = 19,\n",
        "     col  = \"darkturquoise\",\n",
        "     xlab = \"Investimento em mídias (R$)\",\n",
        "     ylab = \"Faturamento (R$)\",\n",
        "     main = \"Faturamento vs. investimento em mídias\")"
      ],
      "metadata": {
        "id": "M6Pat478PQGL"
      },
      "execution_count": null,
      "outputs": []
    },
    {
      "cell_type": "code",
      "source": [
        "# Coeficiente de correlação\n",
        "cor(dados_faturamento$INVESTIMENTO,\n",
        "    dados_faturamento$FATURAMENTO)"
      ],
      "metadata": {
        "id": "_VuasR7YBwZ6"
      },
      "execution_count": null,
      "outputs": []
    },
    {
      "cell_type": "markdown",
      "source": [
        "### Modelo de regressão linear simples"
      ],
      "metadata": {
        "id": "usjTOesQJpQI"
      }
    },
    {
      "cell_type": "code",
      "source": [
        "# Ajuste do modelo\n",
        "regressao <- lm(FATURAMENTO ~ INVESTIMENTO,\n",
        "                data = dados_faturamento)\n",
        "\n",
        "summary(regressao)"
      ],
      "metadata": {
        "id": "jzOA-NoBPTuv"
      },
      "execution_count": null,
      "outputs": []
    },
    {
      "cell_type": "markdown",
      "source": [
        "### Intervalos de confiança"
      ],
      "metadata": {
        "id": "8FPh79Xd8ST1"
      }
    },
    {
      "cell_type": "code",
      "source": [
        "# Intercepto (beta 0)\n",
        "print(\"Limite inferior\")\n",
        "as.numeric(regressao$coefficients[1] - 1.96 * coef(summary(regressao))[1, \"Std. Error\"])\n",
        "print(\"Limite superior\")\n",
        "as.numeric(regressao$coefficients[1] + 1.96 * coef(summary(regressao))[1, \"Std. Error\"])"
      ],
      "metadata": {
        "id": "qVTodUSmz15X"
      },
      "execution_count": null,
      "outputs": []
    },
    {
      "cell_type": "code",
      "source": [
        "# Ângulo (beta 1)\n",
        "print(\"Limite inferior\")\n",
        "as.numeric(regressao$coefficients[2] - 1.96 * coef(summary(regressao))[2, \"Std. Error\"])\n",
        "print(\"Limite superior\")\n",
        "as.numeric(regressao$coefficients[2] + 1.96 * coef(summary(regressao))[2, \"Std. Error\"])"
      ],
      "metadata": {
        "id": "rBg7mDoO70cm"
      },
      "execution_count": null,
      "outputs": []
    },
    {
      "cell_type": "markdown",
      "source": [
        "### Gráfico de dispersão com reta ajustada"
      ],
      "metadata": {
        "id": "lnBrvuxyJumV"
      }
    },
    {
      "cell_type": "code",
      "source": [
        "plot(x    = dados_faturamento$INVESTIMENTO,\n",
        "     y    = dados_faturamento$FATURAMENTO,\n",
        "     pch  = 19,\n",
        "     col  = \"darkturquoise\",\n",
        "     xlab = \"Investimento em mídias (R$)\",\n",
        "     ylab = \"Faturamento (R$)\",\n",
        "     main = \"Faturamento vs. investimento em mídias\")\n",
        "points(abline(regressao,\n",
        "              col = \"red\"))"
      ],
      "metadata": {
        "id": "kMMMPoDTPZGJ"
      },
      "execution_count": null,
      "outputs": []
    },
    {
      "cell_type": "markdown",
      "source": [
        "### Qualidade de ajuste"
      ],
      "metadata": {
        "id": "l82_95h3JsBP"
      }
    },
    {
      "cell_type": "code",
      "source": [
        "# Coeficiente de determinação (R²)\n",
        "summary(regressao)$r.squared"
      ],
      "metadata": {
        "id": "B_tsIjDaPVwI"
      },
      "execution_count": null,
      "outputs": []
    },
    {
      "cell_type": "code",
      "source": [
        "# MAE\n",
        "sum(abs(regressao$residuals))/nrow(dados_veiculos)"
      ],
      "metadata": {
        "id": "izk0HXXIALP4"
      },
      "execution_count": null,
      "outputs": []
    },
    {
      "cell_type": "code",
      "source": [
        "# MAPE\n",
        "sum(abs(regressao$residuals/dados_faturamento$FATURAMENTO))/nrow(dados_faturamento)"
      ],
      "metadata": {
        "id": "X1UCyp2OPW8w"
      },
      "execution_count": null,
      "outputs": []
    },
    {
      "cell_type": "markdown",
      "source": [
        "### Análise de resíduos"
      ],
      "metadata": {
        "id": "HIigFeGjJwpL"
      }
    },
    {
      "cell_type": "code",
      "source": [
        "# Histograma dos resíduos\n",
        "hist(x      = regressao$residuals,\n",
        "     main   = \"Histograma dos resíduos\",\n",
        "     col    = \"darkturquoise\",\n",
        "     border = \"white\")"
      ],
      "metadata": {
        "id": "jP0o0OMaPdR8"
      },
      "execution_count": null,
      "outputs": []
    },
    {
      "cell_type": "code",
      "source": [
        "# QQ plot dos resíduos\n",
        "qqnorm(y    = regressao$residuals,\n",
        "       main = \"QQ-plot dos resíduos\",\n",
        "       col  = \"darkturquoise\",\n",
        "       pch  = 19)\n",
        "qqline(y    = regressao$residuals,\n",
        "       col  = \"red\")"
      ],
      "metadata": {
        "id": "kT3zNDqXFP3e"
      },
      "execution_count": null,
      "outputs": []
    },
    {
      "cell_type": "code",
      "source": [
        "# Resíduos vs. investimento em mídias\n",
        "plot(x    = dados_veiculos$INVESTIMENTO,\n",
        "     y    = regressao$residuals,\n",
        "     pch  = 19,\n",
        "     col  = \"darkturquoise\",\n",
        "     xlab = \"Investimento em mídias (R$)\",\n",
        "     ylab = \"Resíduos\",\n",
        "     main = \"Resíduos vs. investimento em mídias\")"
      ],
      "metadata": {
        "id": "0XeBMTHgFRlK"
      },
      "execution_count": null,
      "outputs": []
    },
    {
      "cell_type": "markdown",
      "source": [
        "### Exemplo de uso (aplicação) do modelo"
      ],
      "metadata": {
        "id": "jVg-t0b6WD8S"
      }
    },
    {
      "cell_type": "code",
      "source": [
        "# Criação de base de dados com um novo produto, com 18.000 reais de investimento em mídias\n",
        "# Obs.: o nome de coluna deve ser idêntico ao da base utilizada para construção do modelo (\"INVESTIMENTO\")\n",
        "novos_dados <- data.frame(INVESTIMENTO = c(18000))"
      ],
      "metadata": {
        "id": "lU6Z4u1BWEJq"
      },
      "execution_count": null,
      "outputs": []
    },
    {
      "cell_type": "code",
      "source": [
        "# Aplicação do modelo\n",
        "novos_dados$INVESTIMENTO_PREDITO <- predict(regressao, novos_dados)\n",
        "View(novos_dados)"
      ],
      "metadata": {
        "id": "Xj6tful6W9lv"
      },
      "execution_count": null,
      "outputs": []
    }
  ]
}
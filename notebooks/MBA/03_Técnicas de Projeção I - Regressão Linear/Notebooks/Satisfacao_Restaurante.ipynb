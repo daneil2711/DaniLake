{
  "nbformat": 4,
  "nbformat_minor": 0,
  "metadata": {
    "colab": {
      "provenance": []
    },
    "kernelspec": {
      "name": "ir",
      "display_name": "R"
    },
    "language_info": {
      "name": "R"
    }
  },
  "cells": [
    {
      "cell_type": "markdown",
      "source": [
        "# **CASE: SATISFAÇÃO EM RESTAURANTE**\n",
        "\n",
        "---"
      ],
      "metadata": {
        "id": "L2vudERBJTiT"
      }
    },
    {
      "cell_type": "markdown",
      "source": [
        "### Instalação de bibliotecas"
      ],
      "metadata": {
        "id": "nGD5Csd2q7VV"
      }
    },
    {
      "cell_type": "code",
      "source": [
        "# Para geração de correlograma\n",
        "install.packages(\"GGally\")\n",
        "# Para cálculo do VIF\n",
        "install.packages(\"car\")"
      ],
      "metadata": {
        "id": "DY4aICW6q8Eb"
      },
      "execution_count": null,
      "outputs": []
    },
    {
      "cell_type": "markdown",
      "source": [
        "### Carregamento de bibliotecas"
      ],
      "metadata": {
        "id": "99PaLHQgvG4X"
      }
    },
    {
      "cell_type": "code",
      "source": [
        "library(GGally)\n",
        "library(car)"
      ],
      "metadata": {
        "id": "ypvOgRlIrJaq"
      },
      "execution_count": null,
      "outputs": []
    },
    {
      "cell_type": "markdown",
      "source": [
        "### Leitura da base de dados"
      ],
      "metadata": {
        "id": "AppXoGlSJa4f"
      }
    },
    {
      "cell_type": "code",
      "source": [
        "dados_restaurante <- read.table(file   = \"Satisfacao_Restaurante.txt\",\n",
        "                                sep    = \"\\t\",\n",
        "                                dec    = \".\",\n",
        "                                header = TRUE)"
      ],
      "metadata": {
        "id": "BKIVxb-yO6kt"
      },
      "execution_count": null,
      "outputs": []
    },
    {
      "cell_type": "markdown",
      "source": [
        "### Visualização da base de dados"
      ],
      "metadata": {
        "id": "QjxtmJktJf24"
      }
    },
    {
      "cell_type": "code",
      "source": [
        "View(dados_restaurante)"
      ],
      "metadata": {
        "id": "FJUJqh-_O4Dh"
      },
      "execution_count": null,
      "outputs": []
    },
    {
      "cell_type": "markdown",
      "source": [
        "### Análise exploratória breve"
      ],
      "metadata": {
        "id": "PYTvweDFJimD"
      }
    },
    {
      "cell_type": "code",
      "source": [
        "# Medidas resumo\n",
        "summary(dados_restaurante)"
      ],
      "metadata": {
        "id": "TD_M_1CzO0L8"
      },
      "execution_count": null,
      "outputs": []
    },
    {
      "cell_type": "code",
      "source": [
        "# Tabela de frequências\n",
        "table(dados_restaurante$FLAG_LITORAL)\n",
        "prop.table(table(dados_restaurante$FLAG_LITORAL))"
      ],
      "metadata": {
        "id": "GdcEw6ILyEIx"
      },
      "execution_count": null,
      "outputs": []
    },
    {
      "cell_type": "markdown",
      "source": [
        "### Análise bivariada: variável resposta vs. variáveis explicativas"
      ],
      "metadata": {
        "id": "hvZQdAvYJn80"
      }
    },
    {
      "cell_type": "code",
      "source": [
        "# Comando auxiliar para aumentar resolução do gráfico (recomendado apenas no Colab)\n",
        "reset_options <- options()\n",
        "options(repr.plot.width = 15, repr.plot.height = 15)"
      ],
      "metadata": {
        "id": "YugAaIaWxki8"
      },
      "execution_count": null,
      "outputs": []
    },
    {
      "cell_type": "code",
      "source": [
        "# Correlograma\n",
        "ggpairs(dados_restaurante[, !names(dados_restaurante) %in% c(\"ID_UNIDADE\", \"FLAG_LITORAL\")],\n",
        "        title = \"Correlograma\",\n",
        "        upper = list(continuous = wrap(\"cor\", size = 5)))"
      ],
      "metadata": {
        "id": "M6Pat478PQGL"
      },
      "execution_count": null,
      "outputs": []
    },
    {
      "cell_type": "code",
      "source": [
        "# Boxplot para variável qualitativa FLAG_LITORAL\n",
        "boxplot(dados_restaurante$QTDE_CLIENTES_DEZ ~ dados_restaurante$FLAG_LITORAL,\n",
        "        main = \"Boxplot de QTDE_CLIENTES_DEZ por FLAG_LITORAL\")"
      ],
      "metadata": {
        "id": "g9TSye3DCH35"
      },
      "execution_count": null,
      "outputs": []
    },
    {
      "cell_type": "code",
      "source": [
        "# Resetando parâmetros gráficos (recomendado apenas no Colab)\n",
        "options(reset_options)"
      ],
      "metadata": {
        "id": "jA2nn-WhxiOD"
      },
      "execution_count": null,
      "outputs": []
    },
    {
      "cell_type": "markdown",
      "source": [
        "### Modelo de regressão linear múltipla"
      ],
      "metadata": {
        "id": "usjTOesQJpQI"
      }
    },
    {
      "cell_type": "code",
      "source": [
        "# Comando auxiliar para para omitir notação científica nos p-valores e controlar largura dos outputs na tela do Colab\n",
        "options(scipen = 999, width = 200)"
      ],
      "metadata": {
        "id": "SRr0HokUyf6E"
      },
      "execution_count": null,
      "outputs": []
    },
    {
      "cell_type": "code",
      "source": [
        "# Ajuste do modelo 1: inicial\n",
        "regressao_1 <- lm(QTDE_CLIENTES_DEZ ~\n",
        "                  FLAG_LITORAL +\n",
        "                  TEMPO_MED_ESPERA +\n",
        "                  VALOR_MED_CONTA +\n",
        "                  NOTA_MED_COMIDA +\n",
        "                  NOTA_MED_ATENDIMENTO +\n",
        "                  NOTA_MED_AMBIENTE +\n",
        "                  QTDE_MED_CLIENTES,\n",
        "                data = dados_restaurante)\n",
        "\n",
        "summary(regressao_1)"
      ],
      "metadata": {
        "id": "jzOA-NoBPTuv"
      },
      "execution_count": null,
      "outputs": []
    },
    {
      "cell_type": "code",
      "source": [
        "# Ajuste do modelo 2: retirando VALOR_MED_CONTA\n",
        "regressao_2 <- lm(QTDE_CLIENTES_DEZ ~\n",
        "                  FLAG_LITORAL +\n",
        "                  TEMPO_MED_ESPERA +\n",
        "                  NOTA_MED_COMIDA +\n",
        "                  NOTA_MED_ATENDIMENTO +\n",
        "                  NOTA_MED_AMBIENTE +\n",
        "                  QTDE_MED_CLIENTES,\n",
        "                data = dados_restaurante)\n",
        "\n",
        "summary(regressao_2)"
      ],
      "metadata": {
        "id": "_chXPFxunWD9"
      },
      "execution_count": null,
      "outputs": []
    },
    {
      "cell_type": "code",
      "source": [
        "# Avaliação de colinearidade no modelo 2\n",
        "data.frame(VIF = vif(regressao_2))"
      ],
      "metadata": {
        "id": "GmUlRRizqdWP"
      },
      "execution_count": null,
      "outputs": []
    },
    {
      "cell_type": "markdown",
      "source": [
        "### Intervalos de confiança"
      ],
      "metadata": {
        "id": "8FPh79Xd8ST1"
      }
    },
    {
      "cell_type": "code",
      "source": [
        "# Escolha do beta (0 para intercepto, ou 1, 2, ... para os ângulos referentes a cada variável explicativa)\n",
        "beta = 0"
      ],
      "metadata": {
        "id": "qVTodUSmz15X"
      },
      "execution_count": null,
      "outputs": []
    },
    {
      "cell_type": "code",
      "source": [
        "# Cálculo do intervalo\n",
        "print(\"Limite inferior\")\n",
        "as.numeric(regressao_2$coefficients[beta + 1] - 1.96 * coef(summary(regressao_2))[beta + 1, \"Std. Error\"])\n",
        "print(\"Limite superior\")\n",
        "as.numeric(regressao_2$coefficients[beta + 1] + 1.96 * coef(summary(regressao_2))[beta + 1, \"Std. Error\"])"
      ],
      "metadata": {
        "id": "rBg7mDoO70cm"
      },
      "execution_count": null,
      "outputs": []
    },
    {
      "cell_type": "markdown",
      "source": [
        "### Qualidade de ajuste"
      ],
      "metadata": {
        "id": "l82_95h3JsBP"
      }
    },
    {
      "cell_type": "code",
      "source": [
        "# Coeficiente de determinação ajustado (R² ajustado)\n",
        "summary(regressao_2)$adj.r.squared"
      ],
      "metadata": {
        "id": "B_tsIjDaPVwI"
      },
      "execution_count": null,
      "outputs": []
    },
    {
      "cell_type": "code",
      "source": [
        "# MAE\n",
        "sum(abs(regressao_2$residuals))/nrow(dados_restaurante)"
      ],
      "metadata": {
        "id": "izk0HXXIALP4"
      },
      "execution_count": null,
      "outputs": []
    },
    {
      "cell_type": "code",
      "source": [
        "# MAPE\n",
        "sum(abs(regressao_2$residuals/dados_restaurante$QTDE_CLIENTES_DEZ))/nrow(dados_restaurante)"
      ],
      "metadata": {
        "id": "X1UCyp2OPW8w"
      },
      "execution_count": null,
      "outputs": []
    },
    {
      "cell_type": "markdown",
      "source": [
        "### Análise de resíduos"
      ],
      "metadata": {
        "id": "HIigFeGjJwpL"
      }
    },
    {
      "cell_type": "code",
      "source": [
        "# Histograma dos resíduos\n",
        "hist(x      = regressao_2$residuals,\n",
        "     main   = \"Histograma dos resíduos\",\n",
        "     col    = \"darkturquoise\",\n",
        "     border = \"white\")"
      ],
      "metadata": {
        "id": "jP0o0OMaPdR8"
      },
      "execution_count": null,
      "outputs": []
    },
    {
      "cell_type": "code",
      "source": [
        "# QQ plot dos resíduos\n",
        "qqnorm(y    = regressao_2$residuals,\n",
        "       main = \"QQ-plot dos resíduos\",\n",
        "       col  = \"darkturquoise\",\n",
        "       pch  = 19)\n",
        "qqline(y    = regressao_2$residuals,\n",
        "       col  = \"red\")"
      ],
      "metadata": {
        "id": "kT3zNDqXFP3e"
      },
      "execution_count": null,
      "outputs": []
    },
    {
      "cell_type": "code",
      "source": [
        "# Resíduos vs. valores preditos\n",
        "plot(x    = regressao_2$fitted.values,\n",
        "     y    = regressao_2$residuals,\n",
        "     pch  = 19,\n",
        "     col  = \"darkturquoise\",\n",
        "     xlab = \"Valores ajustados\",\n",
        "     ylab = \"Resíduos\",\n",
        "     main = \"Resíduos vs. valores ajustados\")"
      ],
      "metadata": {
        "id": "0XeBMTHgFRlK"
      },
      "execution_count": null,
      "outputs": []
    },
    {
      "cell_type": "markdown",
      "source": [
        "### Exemplo de uso (aplicação) do modelo"
      ],
      "metadata": {
        "id": "jVg-t0b6WD8S"
      }
    },
    {
      "cell_type": "code",
      "source": [
        "# Criação de base de dados com uma nova unidade no litoral, que recebeu em média 3.000 clientes por mês de jan a nov,\n",
        "# tem nota média igual a 9 para os três aspectos avaliados e tempo de espera médio de 20’\n",
        "# Obs.: os nomes das colunas devem ser idênticos aos da base utilizada para construção do modelo\n",
        "novos_dados <- data.frame(FLAG_LITORAL         = c(1),\n",
        "                          TEMPO_MED_ESPERA     = c(20),\n",
        "                          QTDE_MED_CLIENTES    = c(3000),\n",
        "                          NOTA_MED_COMIDA      = c(9),\n",
        "                          NOTA_MED_ATENDIMENTO = c(9),\n",
        "                          NOTA_MED_AMBIENTE    = c(9))"
      ],
      "metadata": {
        "id": "lU6Z4u1BWEJq"
      },
      "execution_count": null,
      "outputs": []
    },
    {
      "cell_type": "code",
      "source": [
        "# Aplicação do modelo\n",
        "novos_dados$QTDE_CLIENTES_DEZ_PREDITO <- predict(regressao_2, novos_dados)\n",
        "View(novos_dados)"
      ],
      "metadata": {
        "id": "Xj6tful6W9lv"
      },
      "execution_count": null,
      "outputs": []
    }
  ]
}
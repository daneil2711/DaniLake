{
  "nbformat": 4,
  "nbformat_minor": 0,
  "metadata": {
    "colab": {
      "provenance": []
    },
    "kernelspec": {
      "name": "ir",
      "display_name": "R"
    },
    "language_info": {
      "name": "R"
    }
  },
  "cells": [
    {
      "cell_type": "markdown",
      "source": [
        "# **CASE: SALÁRIO DE FUNCIONÁRIOS**\n",
        "\n",
        "---"
      ],
      "metadata": {
        "id": "L2vudERBJTiT"
      }
    },
    {
      "cell_type": "markdown",
      "source": [
        "### Instalação de bibliotecas"
      ],
      "metadata": {
        "id": "nGD5Csd2q7VV"
      }
    },
    {
      "cell_type": "code",
      "source": [
        "# Para geração de correlograma\n",
        "install.packages(\"GGally\")\n",
        "# Para cálculo do VIF\n",
        "install.packages(\"car\")"
      ],
      "metadata": {
        "id": "DY4aICW6q8Eb"
      },
      "execution_count": null,
      "outputs": []
    },
    {
      "cell_type": "markdown",
      "source": [
        "### Carregamento de bibliotecas"
      ],
      "metadata": {
        "id": "99PaLHQgvG4X"
      }
    },
    {
      "cell_type": "code",
      "source": [
        "library(GGally)\n",
        "library(car)"
      ],
      "metadata": {
        "id": "ypvOgRlIrJaq"
      },
      "execution_count": null,
      "outputs": []
    },
    {
      "cell_type": "markdown",
      "source": [
        "### Leitura da base de dados"
      ],
      "metadata": {
        "id": "AppXoGlSJa4f"
      }
    },
    {
      "cell_type": "code",
      "source": [
        "dados_salario <- read.table(file   = \"Salario_Funcionarios.txt\",\n",
        "                            sep    = \"\\t\",\n",
        "                            header = TRUE)"
      ],
      "metadata": {
        "id": "BKIVxb-yO6kt"
      },
      "execution_count": null,
      "outputs": []
    },
    {
      "cell_type": "markdown",
      "source": [
        "### Visualização da base de dados"
      ],
      "metadata": {
        "id": "QjxtmJktJf24"
      }
    },
    {
      "cell_type": "code",
      "source": [
        "View(dados_salario)"
      ],
      "metadata": {
        "id": "FJUJqh-_O4Dh"
      },
      "execution_count": null,
      "outputs": []
    },
    {
      "cell_type": "markdown",
      "source": [
        "### Análise exploratória breve"
      ],
      "metadata": {
        "id": "PYTvweDFJimD"
      }
    },
    {
      "cell_type": "code",
      "source": [
        "# Medidas resumo\n",
        "summary(dados_salario)"
      ],
      "metadata": {
        "id": "TD_M_1CzO0L8"
      },
      "execution_count": null,
      "outputs": []
    },
    {
      "cell_type": "code",
      "source": [
        "# Tabelas de frequências\n",
        "table(dados_salario$DESEMPENHO_PROVA)\n",
        "prop.table(table(dados_salario$DESEMPENHO_PROVA))\n",
        "\n",
        "table(dados_salario$FLAG_EXPERIENCIA)\n",
        "prop.table(table(dados_salario$FLAG_EXPERIENCIA))"
      ],
      "metadata": {
        "id": "H_VtmmiuVbI1"
      },
      "execution_count": null,
      "outputs": []
    },
    {
      "cell_type": "code",
      "source": [
        "# Definindo ordem dos níveis da variável qualitativa ordinal DESEMPENHO_PROVA\n",
        "dados_salario$DESEMPENHO_PROVA <- factor(dados_salario$DESEMPENHO_PROVA,\n",
        "                                         levels = c(\"Razoavel\", \"Bom\", \"Otimo\"))"
      ],
      "metadata": {
        "id": "PIL3LVrjWEQT"
      },
      "execution_count": null,
      "outputs": []
    },
    {
      "cell_type": "markdown",
      "source": [
        "### Análise bivariada: variável resposta vs. variáveis explicativas"
      ],
      "metadata": {
        "id": "hvZQdAvYJn80"
      }
    },
    {
      "cell_type": "code",
      "source": [
        "# Comando auxiliar para aumentar resolução do gráfico (recomendado apenas no Colab)\n",
        "reset_options <- options()\n",
        "options(repr.plot.width = 15, repr.plot.height = 15)"
      ],
      "metadata": {
        "id": "YugAaIaWxki8"
      },
      "execution_count": null,
      "outputs": []
    },
    {
      "cell_type": "code",
      "source": [
        "# Correlograma\n",
        "ggpairs(dados_salario[, !names(dados_salario) %in% c(\"ID_FUNCIONARIO\", \"DESEMPENHO_PROVA\", \"FLAG_EXPERIENCIA\")],\n",
        "        title = \"Correlograma\",\n",
        "        upper = list(continuous = wrap(\"cor\", size = 5)))"
      ],
      "metadata": {
        "id": "M6Pat478PQGL"
      },
      "execution_count": null,
      "outputs": []
    },
    {
      "cell_type": "code",
      "source": [
        "# Boxplots para variáveis qualitativas\n",
        "boxplot(dados_salario$SALARIO_DEFINIDO ~ dados_salario$DESEMPENHO_PROVA,\n",
        "        main = \"Boxplot de SALARIO_DEFINIDO por DESEMPENHO_PROVA\")\n",
        "boxplot(dados_salario$SALARIO_DEFINIDO ~ dados_salario$FLAG_EXPERIENCIA,\n",
        "        main = \"Boxplot de SALARIO_DEFINIDO por FLAG_EXPERIENCIA\")"
      ],
      "metadata": {
        "id": "r9u5OOW1VzBo"
      },
      "execution_count": null,
      "outputs": []
    },
    {
      "cell_type": "code",
      "source": [
        "# Resetando parâmetros gráficos (recomendado apenas no Colab)\n",
        "options(reset_options)"
      ],
      "metadata": {
        "id": "jA2nn-WhxiOD"
      },
      "execution_count": null,
      "outputs": []
    },
    {
      "cell_type": "markdown",
      "source": [
        "### Modelo de regressão linear múltipla"
      ],
      "metadata": {
        "id": "usjTOesQJpQI"
      }
    },
    {
      "cell_type": "code",
      "source": [
        "# Comando auxiliar para para omitir notação científica nos p-valores e controlar largura dos outputs na tela do Colab\n",
        "options(scipen = 999, width = 200)"
      ],
      "metadata": {
        "id": "SRr0HokUyf6E"
      },
      "execution_count": null,
      "outputs": []
    },
    {
      "cell_type": "code",
      "source": [
        "# Ajuste do modelo 1: inicial\n",
        "regressao_1 <- lm(SALARIO_DEFINIDO ~\n",
        "                  PRETENSAO_SALARIAL +\n",
        "                  DESEMPENHO_PROVA +\n",
        "                  FLAG_EXPERIENCIA,\n",
        "                data = dados_salario)\n",
        "\n",
        "summary(regressao_1)"
      ],
      "metadata": {
        "id": "jzOA-NoBPTuv"
      },
      "execution_count": null,
      "outputs": []
    },
    {
      "cell_type": "code",
      "source": [
        "# Avaliação de colinearidade no modelo 1\n",
        "data.frame(VIF = vif(regressao_1))"
      ],
      "metadata": {
        "id": "GmUlRRizqdWP"
      },
      "execution_count": null,
      "outputs": []
    },
    {
      "cell_type": "markdown",
      "source": [
        "### Intervalos de confiança"
      ],
      "metadata": {
        "id": "8FPh79Xd8ST1"
      }
    },
    {
      "cell_type": "code",
      "source": [
        "# Escolha do beta (0 para intercepto, ou 1, 2, ... para os ângulos referentes a cada variável explicativa)\n",
        "beta = 0"
      ],
      "metadata": {
        "id": "qVTodUSmz15X"
      },
      "execution_count": null,
      "outputs": []
    },
    {
      "cell_type": "code",
      "source": [
        "# Cálculo do intervalo\n",
        "print(\"Limite inferior\")\n",
        "as.numeric(regressao_1$coefficients[beta + 1] - 1.96 * coef(summary(regressao_1))[beta + 1, \"Std. Error\"])\n",
        "print(\"Limite superior\")\n",
        "as.numeric(regressao_1$coefficients[beta + 1] + 1.96 * coef(summary(regressao_1))[beta + 1, \"Std. Error\"])"
      ],
      "metadata": {
        "id": "rBg7mDoO70cm"
      },
      "execution_count": null,
      "outputs": []
    },
    {
      "cell_type": "markdown",
      "source": [
        "### Qualidade de ajuste"
      ],
      "metadata": {
        "id": "l82_95h3JsBP"
      }
    },
    {
      "cell_type": "code",
      "source": [
        "# Coeficiente de determinação ajustado (R² ajustado)\n",
        "summary(regressao_1)$adj.r.squared"
      ],
      "metadata": {
        "id": "B_tsIjDaPVwI"
      },
      "execution_count": null,
      "outputs": []
    },
    {
      "cell_type": "code",
      "source": [
        "# MAE\n",
        "sum(abs(regressao_1$residuals))/nrow(dados_salario)"
      ],
      "metadata": {
        "id": "izk0HXXIALP4"
      },
      "execution_count": null,
      "outputs": []
    },
    {
      "cell_type": "code",
      "source": [
        "# MAPE\n",
        "sum(abs(regressao_1$residuals/dados_salario$SALARIO_DEFINIDO))/nrow(dados_salario)"
      ],
      "metadata": {
        "id": "X1UCyp2OPW8w"
      },
      "execution_count": null,
      "outputs": []
    },
    {
      "cell_type": "markdown",
      "source": [
        "### Análise de resíduos"
      ],
      "metadata": {
        "id": "HIigFeGjJwpL"
      }
    },
    {
      "cell_type": "code",
      "source": [
        "# Histograma dos resíduos\n",
        "hist(x      = regressao_1$residuals,\n",
        "     main   = \"Histograma dos resíduos\",\n",
        "     col    = \"darkturquoise\",\n",
        "     border = \"white\")"
      ],
      "metadata": {
        "id": "jP0o0OMaPdR8"
      },
      "execution_count": null,
      "outputs": []
    },
    {
      "cell_type": "code",
      "source": [
        "# QQ plot dos resíduos\n",
        "qqnorm(y    = regressao_1$residuals,\n",
        "       main = \"QQ-plot dos resíduos\",\n",
        "       col  = \"darkturquoise\",\n",
        "       pch  = 19)\n",
        "qqline(y    = regressao_1$residuals,\n",
        "       col  = \"red\")"
      ],
      "metadata": {
        "id": "kT3zNDqXFP3e"
      },
      "execution_count": null,
      "outputs": []
    },
    {
      "cell_type": "code",
      "source": [
        "# Resíduos vs. valores preditos\n",
        "plot(x    = regressao_1$fitted.values,\n",
        "     y    = regressao_1$residuals,\n",
        "     pch  = 19,\n",
        "     col  = \"darkturquoise\",\n",
        "     xlab = \"Valores ajustados\",\n",
        "     ylab = \"Resíduos\",\n",
        "     main = \"Resíduos vs. valores ajustados\")"
      ],
      "metadata": {
        "id": "0XeBMTHgFRlK"
      },
      "execution_count": null,
      "outputs": []
    },
    {
      "cell_type": "markdown",
      "source": [
        "### Exemplo de uso (aplicação) do modelo"
      ],
      "metadata": {
        "id": "jVg-t0b6WD8S"
      }
    },
    {
      "cell_type": "code",
      "source": [
        "# Criação de base de dados com um novo funcionário, com pretensão salarial de R$ 3.000, com ótimo desempenho na prova de seleção, e com experiência anterior na área\n",
        "# Obs.: os nomes das colunas devem ser idênticos aos da base utilizada para construção do modelo\n",
        "novos_dados <- data.frame(PRETENSAO_SALARIAL = c(300),\n",
        "                          DESEMPENHO_PROVA   = c(\"Otimo\"),\n",
        "                          FLAG_EXPERIENCIA   = c(\"Sim\"))"
      ],
      "metadata": {
        "id": "lU6Z4u1BWEJq"
      },
      "execution_count": null,
      "outputs": []
    },
    {
      "cell_type": "code",
      "source": [
        "# Aplicação do modelo\n",
        "novos_dados$SALARIO_DEFINIDO_PREDITO <- predict(regressao_1, novos_dados)\n",
        "View(novos_dados)"
      ],
      "metadata": {
        "id": "Xj6tful6W9lv"
      },
      "execution_count": null,
      "outputs": []
    }
  ]
}
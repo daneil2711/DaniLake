{
  "nbformat": 4,
  "nbformat_minor": 0,
  "metadata": {
    "colab": {
      "provenance": []
    },
    "kernelspec": {
      "name": "ir",
      "display_name": "R"
    },
    "language_info": {
      "name": "R"
    }
  },
  "cells": [
    {
      "cell_type": "markdown",
      "source": [
        "# **CASE: EPIDEMIOLOGIA**\n",
        "\n",
        "---"
      ],
      "metadata": {
        "id": "L2vudERBJTiT"
      }
    },
    {
      "cell_type": "markdown",
      "source": [
        "### Leitura da base de dados"
      ],
      "metadata": {
        "id": "AppXoGlSJa4f"
      }
    },
    {
      "cell_type": "code",
      "source": [
        "dados_epidemiologia <- read.table(file   = \"Epidemiologia.txt\",\n",
        "                                  sep    = \"\\t\",\n",
        "                                  header = TRUE)"
      ],
      "metadata": {
        "id": "BKIVxb-yO6kt"
      },
      "execution_count": null,
      "outputs": []
    },
    {
      "cell_type": "markdown",
      "source": [
        "### Visualização da base de dados"
      ],
      "metadata": {
        "id": "QjxtmJktJf24"
      }
    },
    {
      "cell_type": "code",
      "source": [
        "View(dados_epidemiologia)"
      ],
      "metadata": {
        "id": "FJUJqh-_O4Dh"
      },
      "execution_count": null,
      "outputs": []
    },
    {
      "cell_type": "markdown",
      "source": [
        "### Análise exploratória breve"
      ],
      "metadata": {
        "id": "PYTvweDFJimD"
      }
    },
    {
      "cell_type": "code",
      "source": [
        "# Medidas resumo\n",
        "summary(dados_epidemiologia)"
      ],
      "metadata": {
        "id": "TD_M_1CzO0L8"
      },
      "execution_count": null,
      "outputs": []
    },
    {
      "cell_type": "code",
      "source": [
        "# Histograma do volume de chuva em janeiro\n",
        "hist(dados_epidemiologia$VOLUME_CHUVA_JAN_MM,\n",
        "     main = \"Volume de chuva em janeiro\",\n",
        "     col = \"darkturquoise\",\n",
        "     border = \"white\",\n",
        "     xlab = \"Volume de chuva (mm)\",\n",
        "     ylab = \"Frequência\",\n",
        "     breaks = 10)"
      ],
      "metadata": {
        "id": "aULjV5DiuN8a"
      },
      "execution_count": null,
      "outputs": []
    },
    {
      "cell_type": "code",
      "source": [
        "# Histograma da qtde. de casos de dengue em fevereiro\n",
        "hist(dados_epidemiologia$QTDE_CASOS_DENGUE_FEV,\n",
        "     main = \"Qtde. de casos de dengue em fevereiro\",\n",
        "     col = \"darkturquoise\",\n",
        "     border = \"white\",\n",
        "     xlab = \"Qtde. de casos de dengue\",\n",
        "     ylab = \"Frequência\",\n",
        "     breaks = 10)"
      ],
      "metadata": {
        "id": "542cpDRruQGm"
      },
      "execution_count": null,
      "outputs": []
    },
    {
      "cell_type": "markdown",
      "source": [
        "### Análise bivariada: variável resposta vs. variáveis explicativas"
      ],
      "metadata": {
        "id": "hvZQdAvYJn80"
      }
    },
    {
      "cell_type": "code",
      "source": [
        "# Gráfico de dispersão\n",
        "plot(x    = dados_epidemiologia$VOLUME_CHUVA_JAN_MM,\n",
        "     y    = dados_epidemiologia$QTDE_CASOS_DENGUE_FEV,\n",
        "     pch  = 19,\n",
        "     col  = \"darkturquoise\",\n",
        "     xlab = \"Volume de chuva (mm)\",\n",
        "     ylab = \"Qtde. de casos de dengue\",\n",
        "     main = \"Qtde. de casos de dengue vs. volume de chuva\")"
      ],
      "metadata": {
        "id": "M6Pat478PQGL"
      },
      "execution_count": null,
      "outputs": []
    },
    {
      "cell_type": "code",
      "source": [
        "# Coeficiente de correlação\n",
        "cor(dados_epidemiologia$VOLUME_CHUVA_JAN_MM,\n",
        "    dados_epidemiologia$QTDE_CASOS_DENGUE_FEV)"
      ],
      "metadata": {
        "id": "_VuasR7YBwZ6"
      },
      "execution_count": null,
      "outputs": []
    },
    {
      "cell_type": "markdown",
      "source": [
        "### Modelo de regressão linear simples"
      ],
      "metadata": {
        "id": "usjTOesQJpQI"
      }
    },
    {
      "cell_type": "code",
      "source": [
        "# Comando auxiliar para para omitir notação científica nos p-valores e controlar largura dos outputs na tela do Colab\n",
        "options(scipen = 999, width = 200)"
      ],
      "metadata": {
        "id": "TaGntz__gEbE"
      },
      "execution_count": null,
      "outputs": []
    },
    {
      "cell_type": "code",
      "source": [
        "# Ajuste do modelo\n",
        "regressao <- lm(QTDE_CASOS_DENGUE_FEV ~ VOLUME_CHUVA_JAN_MM,\n",
        "                data = dados_epidemiologia)\n",
        "\n",
        "summary(regressao)"
      ],
      "metadata": {
        "id": "jzOA-NoBPTuv"
      },
      "execution_count": null,
      "outputs": []
    },
    {
      "cell_type": "markdown",
      "source": [
        "### Intervalos de confiança"
      ],
      "metadata": {
        "id": "8FPh79Xd8ST1"
      }
    },
    {
      "cell_type": "code",
      "source": [
        "# Intercepto (beta 0)\n",
        "print(\"Limite inferior\")\n",
        "as.numeric(regressao$coefficients[1] - 1.96 * coef(summary(regressao))[1, \"Std. Error\"])\n",
        "print(\"Limite superior\")\n",
        "as.numeric(regressao$coefficients[1] + 1.96 * coef(summary(regressao))[1, \"Std. Error\"])"
      ],
      "metadata": {
        "id": "qVTodUSmz15X"
      },
      "execution_count": null,
      "outputs": []
    },
    {
      "cell_type": "code",
      "source": [
        "# Ângulo (beta 1)\n",
        "print(\"Limite inferior\")\n",
        "as.numeric(regressao$coefficients[2] - 1.96 * coef(summary(regressao))[2, \"Std. Error\"])\n",
        "print(\"Limite superior\")\n",
        "as.numeric(regressao$coefficients[2] + 1.96 * coef(summary(regressao))[2, \"Std. Error\"])"
      ],
      "metadata": {
        "id": "rBg7mDoO70cm"
      },
      "execution_count": null,
      "outputs": []
    },
    {
      "cell_type": "markdown",
      "source": [
        "### Gráfico de dispersão com reta ajustada"
      ],
      "metadata": {
        "id": "lnBrvuxyJumV"
      }
    },
    {
      "cell_type": "code",
      "source": [
        "plot(x    = dados_epidemiologia$VOLUME_CHUVA_JAN_MM,\n",
        "     y    = dados_epidemiologia$QTDE_CASOS_DENGUE_FEV,\n",
        "     pch  = 19,\n",
        "     col  = \"darkturquoise\",\n",
        "     xlab = \"Volume de chuva (mm)\",\n",
        "     ylab = \"Qtde. de casos de dengue\",\n",
        "     main = \"Qtde. de casos de dengue vs. volume de chuva\")\n",
        "points(abline(regressao,\n",
        "              col = \"red\"))"
      ],
      "metadata": {
        "id": "kMMMPoDTPZGJ"
      },
      "execution_count": null,
      "outputs": []
    },
    {
      "cell_type": "markdown",
      "source": [
        "### Qualidade de ajuste"
      ],
      "metadata": {
        "id": "l82_95h3JsBP"
      }
    },
    {
      "cell_type": "code",
      "source": [
        "# Coeficiente de determinação (R²)\n",
        "summary(regressao)$r.squared"
      ],
      "metadata": {
        "id": "B_tsIjDaPVwI"
      },
      "execution_count": null,
      "outputs": []
    },
    {
      "cell_type": "code",
      "source": [
        "# MAE\n",
        "sum(abs(regressao$residuals))/nrow(dados_epidemiologia)"
      ],
      "metadata": {
        "id": "izk0HXXIALP4"
      },
      "execution_count": null,
      "outputs": []
    },
    {
      "cell_type": "code",
      "source": [
        "# MAPE\n",
        "sum(abs(regressao$residuals/dados_epidemiologia$QTDE_CASOS_DENGUE_FEV))/nrow(dados_epidemiologia)"
      ],
      "metadata": {
        "id": "X1UCyp2OPW8w"
      },
      "execution_count": null,
      "outputs": []
    },
    {
      "cell_type": "markdown",
      "source": [
        "### Análise de resíduos"
      ],
      "metadata": {
        "id": "HIigFeGjJwpL"
      }
    },
    {
      "cell_type": "code",
      "source": [
        "# Histograma dos resíduos\n",
        "hist(x      = regressao$residuals,\n",
        "     main   = \"Histograma dos resíduos\",\n",
        "     col    = \"darkturquoise\",\n",
        "     border = \"white\")"
      ],
      "metadata": {
        "id": "jP0o0OMaPdR8"
      },
      "execution_count": null,
      "outputs": []
    },
    {
      "cell_type": "code",
      "source": [
        "# QQ plot dos resíduos\n",
        "qqnorm(y    = regressao$residuals,\n",
        "       main = \"QQ-plot dos resíduos\",\n",
        "       col  = \"darkturquoise\",\n",
        "       pch  = 19)\n",
        "qqline(y    = regressao$residuals,\n",
        "       col  = \"red\")"
      ],
      "metadata": {
        "id": "kT3zNDqXFP3e"
      },
      "execution_count": null,
      "outputs": []
    },
    {
      "cell_type": "code",
      "source": [
        "# Resíduos vs. volume de chuva\n",
        "plot(x    = dados_epidemiologia$VOLUME_CHUVA_JAN_MM,\n",
        "     y    = regressao$residuals,\n",
        "     pch  = 19,\n",
        "     col  = \"darkturquoise\",\n",
        "     xlab = \"Volume de chuva (mm)\",\n",
        "     ylab = \"Resíduos\",\n",
        "     main = \"Resíduos vs. volume de chuva\")"
      ],
      "metadata": {
        "id": "0XeBMTHgFRlK"
      },
      "execution_count": null,
      "outputs": []
    },
    {
      "cell_type": "markdown",
      "source": [
        "### Exemplo de uso (aplicação) do modelo"
      ],
      "metadata": {
        "id": "jVg-t0b6WD8S"
      }
    },
    {
      "cell_type": "code",
      "source": [
        "# Criação de base de dados com uma nova cidade, com 280mm de chuva em janeiro\n",
        "# Obs.: o nome de coluna deve ser idêntico ao da base utilizada para construção do modelo (\"VOLUME_CHUVA_JAN_MM\")\n",
        "novos_dados <- data.frame(VOLUME_CHUVA_JAN_MM = c(280))"
      ],
      "metadata": {
        "id": "lU6Z4u1BWEJq"
      },
      "execution_count": null,
      "outputs": []
    },
    {
      "cell_type": "code",
      "source": [
        "# Aplicação do modelo\n",
        "novos_dados$VOLUME_CHUVA_JAN_MM_PREDITO <- predict(regressao, novos_dados)\n",
        "View(novos_dados)"
      ],
      "metadata": {
        "id": "Xj6tful6W9lv"
      },
      "execution_count": null,
      "outputs": []
    }
  ]
}
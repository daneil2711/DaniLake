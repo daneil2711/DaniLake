{
 "cells": [
  {
   "cell_type": "markdown",
   "metadata": {
    "id": "L2vudERBJTiT"
   },
   "source": [
    "# **CASE: VENDA DE VEÍCULOS**\n",
    "\n",
    "---"
   ]
  },
  {
   "cell_type": "code",
   "execution_count": 1,
   "metadata": {},
   "outputs": [],
   "source": [
    "import pandas as pd\n",
    "import numpy as np\n",
    "import matplotlib.pyplot as plt\n",
    "import seaborn as sns\n",
    "\n",
    "import statsmodels.api as sm\n",
    "from sklearn.metrics import mean_absolute_error, mean_absolute_percentage_error"
   ]
  },
  {
   "cell_type": "markdown",
   "metadata": {
    "id": "AppXoGlSJa4f"
   },
   "source": [
    "### Leitura da base de dados"
   ]
  },
  {
   "cell_type": "code",
   "execution_count": 3,
   "metadata": {
    "id": "BKIVxb-yO6kt"
   },
   "outputs": [],
   "source": [
    "dados_faturamento = pd.read_csv( \"../Dados/Faturamento.txt\",sep= \"\\t\")"
   ]
  },
  {
   "cell_type": "markdown",
   "metadata": {
    "id": "QjxtmJktJf24"
   },
   "source": [
    "### Visualização da base de dados"
   ]
  },
  {
   "cell_type": "code",
   "execution_count": 4,
   "metadata": {
    "id": "FJUJqh-_O4Dh",
    "scrolled": true
   },
   "outputs": [
    {
     "data": {
      "text/html": [
       "<div>\n",
       "<style scoped>\n",
       "    .dataframe tbody tr th:only-of-type {\n",
       "        vertical-align: middle;\n",
       "    }\n",
       "\n",
       "    .dataframe tbody tr th {\n",
       "        vertical-align: top;\n",
       "    }\n",
       "\n",
       "    .dataframe thead th {\n",
       "        text-align: right;\n",
       "    }\n",
       "</style>\n",
       "<table border=\"1\" class=\"dataframe\">\n",
       "  <thead>\n",
       "    <tr style=\"text-align: right;\">\n",
       "      <th></th>\n",
       "      <th>COD_PRODUTO</th>\n",
       "      <th>INVESTIMENTO</th>\n",
       "      <th>FATURAMENTO</th>\n",
       "    </tr>\n",
       "  </thead>\n",
       "  <tbody>\n",
       "    <tr>\n",
       "      <th>0</th>\n",
       "      <td>C_0001</td>\n",
       "      <td>20500</td>\n",
       "      <td>526400</td>\n",
       "    </tr>\n",
       "    <tr>\n",
       "      <th>1</th>\n",
       "      <td>C_0002</td>\n",
       "      <td>17500</td>\n",
       "      <td>312200</td>\n",
       "    </tr>\n",
       "    <tr>\n",
       "      <th>2</th>\n",
       "      <td>C_0003</td>\n",
       "      <td>18500</td>\n",
       "      <td>429200</td>\n",
       "    </tr>\n",
       "    <tr>\n",
       "      <th>3</th>\n",
       "      <td>C_0004</td>\n",
       "      <td>14500</td>\n",
       "      <td>470900</td>\n",
       "    </tr>\n",
       "    <tr>\n",
       "      <th>4</th>\n",
       "      <td>C_0005</td>\n",
       "      <td>12000</td>\n",
       "      <td>407100</td>\n",
       "    </tr>\n",
       "    <tr>\n",
       "      <th>5</th>\n",
       "      <td>C_0006</td>\n",
       "      <td>18800</td>\n",
       "      <td>339800</td>\n",
       "    </tr>\n",
       "    <tr>\n",
       "      <th>6</th>\n",
       "      <td>C_0007</td>\n",
       "      <td>18700</td>\n",
       "      <td>335900</td>\n",
       "    </tr>\n",
       "    <tr>\n",
       "      <th>7</th>\n",
       "      <td>C_0008</td>\n",
       "      <td>15000</td>\n",
       "      <td>361300</td>\n",
       "    </tr>\n",
       "    <tr>\n",
       "      <th>8</th>\n",
       "      <td>C_0009</td>\n",
       "      <td>16700</td>\n",
       "      <td>341700</td>\n",
       "    </tr>\n",
       "    <tr>\n",
       "      <th>9</th>\n",
       "      <td>C_0010</td>\n",
       "      <td>23500</td>\n",
       "      <td>484300</td>\n",
       "    </tr>\n",
       "    <tr>\n",
       "      <th>10</th>\n",
       "      <td>C_0011</td>\n",
       "      <td>13000</td>\n",
       "      <td>276400</td>\n",
       "    </tr>\n",
       "    <tr>\n",
       "      <th>11</th>\n",
       "      <td>C_0012</td>\n",
       "      <td>22500</td>\n",
       "      <td>357400</td>\n",
       "    </tr>\n",
       "    <tr>\n",
       "      <th>12</th>\n",
       "      <td>C_0013</td>\n",
       "      <td>16800</td>\n",
       "      <td>270600</td>\n",
       "    </tr>\n",
       "    <tr>\n",
       "      <th>13</th>\n",
       "      <td>C_0014</td>\n",
       "      <td>19200</td>\n",
       "      <td>439700</td>\n",
       "    </tr>\n",
       "    <tr>\n",
       "      <th>14</th>\n",
       "      <td>C_0015</td>\n",
       "      <td>18600</td>\n",
       "      <td>343500</td>\n",
       "    </tr>\n",
       "    <tr>\n",
       "      <th>15</th>\n",
       "      <td>C_0016</td>\n",
       "      <td>13700</td>\n",
       "      <td>327500</td>\n",
       "    </tr>\n",
       "    <tr>\n",
       "      <th>16</th>\n",
       "      <td>C_0017</td>\n",
       "      <td>21500</td>\n",
       "      <td>470700</td>\n",
       "    </tr>\n",
       "    <tr>\n",
       "      <th>17</th>\n",
       "      <td>C_0018</td>\n",
       "      <td>16500</td>\n",
       "      <td>326000</td>\n",
       "    </tr>\n",
       "    <tr>\n",
       "      <th>18</th>\n",
       "      <td>C_0019</td>\n",
       "      <td>17700</td>\n",
       "      <td>361100</td>\n",
       "    </tr>\n",
       "    <tr>\n",
       "      <th>19</th>\n",
       "      <td>C_0020</td>\n",
       "      <td>19700</td>\n",
       "      <td>267700</td>\n",
       "    </tr>\n",
       "    <tr>\n",
       "      <th>20</th>\n",
       "      <td>C_0021</td>\n",
       "      <td>15500</td>\n",
       "      <td>256300</td>\n",
       "    </tr>\n",
       "    <tr>\n",
       "      <th>21</th>\n",
       "      <td>C_0022</td>\n",
       "      <td>15800</td>\n",
       "      <td>396300</td>\n",
       "    </tr>\n",
       "    <tr>\n",
       "      <th>22</th>\n",
       "      <td>C_0023</td>\n",
       "      <td>20600</td>\n",
       "      <td>464300</td>\n",
       "    </tr>\n",
       "    <tr>\n",
       "      <th>23</th>\n",
       "      <td>C_0024</td>\n",
       "      <td>14800</td>\n",
       "      <td>431000</td>\n",
       "    </tr>\n",
       "    <tr>\n",
       "      <th>24</th>\n",
       "      <td>C_0025</td>\n",
       "      <td>15700</td>\n",
       "      <td>364000</td>\n",
       "    </tr>\n",
       "    <tr>\n",
       "      <th>25</th>\n",
       "      <td>C_0026</td>\n",
       "      <td>15700</td>\n",
       "      <td>433700</td>\n",
       "    </tr>\n",
       "    <tr>\n",
       "      <th>26</th>\n",
       "      <td>C_0027</td>\n",
       "      <td>22200</td>\n",
       "      <td>361100</td>\n",
       "    </tr>\n",
       "    <tr>\n",
       "      <th>27</th>\n",
       "      <td>C_0028</td>\n",
       "      <td>19800</td>\n",
       "      <td>452500</td>\n",
       "    </tr>\n",
       "    <tr>\n",
       "      <th>28</th>\n",
       "      <td>C_0029</td>\n",
       "      <td>18700</td>\n",
       "      <td>329900</td>\n",
       "    </tr>\n",
       "    <tr>\n",
       "      <th>29</th>\n",
       "      <td>C_0030</td>\n",
       "      <td>22600</td>\n",
       "      <td>357300</td>\n",
       "    </tr>\n",
       "    <tr>\n",
       "      <th>30</th>\n",
       "      <td>C_0031</td>\n",
       "      <td>13500</td>\n",
       "      <td>198000</td>\n",
       "    </tr>\n",
       "    <tr>\n",
       "      <th>31</th>\n",
       "      <td>C_0032</td>\n",
       "      <td>17700</td>\n",
       "      <td>324500</td>\n",
       "    </tr>\n",
       "    <tr>\n",
       "      <th>32</th>\n",
       "      <td>C_0033</td>\n",
       "      <td>11000</td>\n",
       "      <td>314100</td>\n",
       "    </tr>\n",
       "    <tr>\n",
       "      <th>33</th>\n",
       "      <td>C_0034</td>\n",
       "      <td>21200</td>\n",
       "      <td>380200</td>\n",
       "    </tr>\n",
       "    <tr>\n",
       "      <th>34</th>\n",
       "      <td>C_0035</td>\n",
       "      <td>23200</td>\n",
       "      <td>402100</td>\n",
       "    </tr>\n",
       "    <tr>\n",
       "      <th>35</th>\n",
       "      <td>C_0036</td>\n",
       "      <td>14700</td>\n",
       "      <td>331100</td>\n",
       "    </tr>\n",
       "    <tr>\n",
       "      <th>36</th>\n",
       "      <td>C_0037</td>\n",
       "      <td>21600</td>\n",
       "      <td>461200</td>\n",
       "    </tr>\n",
       "    <tr>\n",
       "      <th>37</th>\n",
       "      <td>C_0038</td>\n",
       "      <td>10000</td>\n",
       "      <td>233900</td>\n",
       "    </tr>\n",
       "    <tr>\n",
       "      <th>38</th>\n",
       "      <td>C_0039</td>\n",
       "      <td>20500</td>\n",
       "      <td>455800</td>\n",
       "    </tr>\n",
       "    <tr>\n",
       "      <th>39</th>\n",
       "      <td>C_0040</td>\n",
       "      <td>16500</td>\n",
       "      <td>312000</td>\n",
       "    </tr>\n",
       "    <tr>\n",
       "      <th>40</th>\n",
       "      <td>C_0041</td>\n",
       "      <td>19600</td>\n",
       "      <td>411900</td>\n",
       "    </tr>\n",
       "    <tr>\n",
       "      <th>41</th>\n",
       "      <td>C_0042</td>\n",
       "      <td>17500</td>\n",
       "      <td>242300</td>\n",
       "    </tr>\n",
       "    <tr>\n",
       "      <th>42</th>\n",
       "      <td>C_0043</td>\n",
       "      <td>16700</td>\n",
       "      <td>369200</td>\n",
       "    </tr>\n",
       "    <tr>\n",
       "      <th>43</th>\n",
       "      <td>C_0044</td>\n",
       "      <td>19500</td>\n",
       "      <td>357300</td>\n",
       "    </tr>\n",
       "    <tr>\n",
       "      <th>44</th>\n",
       "      <td>C_0045</td>\n",
       "      <td>12500</td>\n",
       "      <td>394600</td>\n",
       "    </tr>\n",
       "    <tr>\n",
       "      <th>45</th>\n",
       "      <td>C_0046</td>\n",
       "      <td>14000</td>\n",
       "      <td>235800</td>\n",
       "    </tr>\n",
       "    <tr>\n",
       "      <th>46</th>\n",
       "      <td>C_0047</td>\n",
       "      <td>17800</td>\n",
       "      <td>379300</td>\n",
       "    </tr>\n",
       "    <tr>\n",
       "      <th>47</th>\n",
       "      <td>C_0048</td>\n",
       "      <td>24500</td>\n",
       "      <td>498900</td>\n",
       "    </tr>\n",
       "    <tr>\n",
       "      <th>48</th>\n",
       "      <td>C_0049</td>\n",
       "      <td>20200</td>\n",
       "      <td>437800</td>\n",
       "    </tr>\n",
       "    <tr>\n",
       "      <th>49</th>\n",
       "      <td>C_0050</td>\n",
       "      <td>20700</td>\n",
       "      <td>467900</td>\n",
       "    </tr>\n",
       "  </tbody>\n",
       "</table>\n",
       "</div>"
      ],
      "text/plain": [
       "   COD_PRODUTO  INVESTIMENTO  FATURAMENTO\n",
       "0       C_0001         20500       526400\n",
       "1       C_0002         17500       312200\n",
       "2       C_0003         18500       429200\n",
       "3       C_0004         14500       470900\n",
       "4       C_0005         12000       407100\n",
       "5       C_0006         18800       339800\n",
       "6       C_0007         18700       335900\n",
       "7       C_0008         15000       361300\n",
       "8       C_0009         16700       341700\n",
       "9       C_0010         23500       484300\n",
       "10      C_0011         13000       276400\n",
       "11      C_0012         22500       357400\n",
       "12      C_0013         16800       270600\n",
       "13      C_0014         19200       439700\n",
       "14      C_0015         18600       343500\n",
       "15      C_0016         13700       327500\n",
       "16      C_0017         21500       470700\n",
       "17      C_0018         16500       326000\n",
       "18      C_0019         17700       361100\n",
       "19      C_0020         19700       267700\n",
       "20      C_0021         15500       256300\n",
       "21      C_0022         15800       396300\n",
       "22      C_0023         20600       464300\n",
       "23      C_0024         14800       431000\n",
       "24      C_0025         15700       364000\n",
       "25      C_0026         15700       433700\n",
       "26      C_0027         22200       361100\n",
       "27      C_0028         19800       452500\n",
       "28      C_0029         18700       329900\n",
       "29      C_0030         22600       357300\n",
       "30      C_0031         13500       198000\n",
       "31      C_0032         17700       324500\n",
       "32      C_0033         11000       314100\n",
       "33      C_0034         21200       380200\n",
       "34      C_0035         23200       402100\n",
       "35      C_0036         14700       331100\n",
       "36      C_0037         21600       461200\n",
       "37      C_0038         10000       233900\n",
       "38      C_0039         20500       455800\n",
       "39      C_0040         16500       312000\n",
       "40      C_0041         19600       411900\n",
       "41      C_0042         17500       242300\n",
       "42      C_0043         16700       369200\n",
       "43      C_0044         19500       357300\n",
       "44      C_0045         12500       394600\n",
       "45      C_0046         14000       235800\n",
       "46      C_0047         17800       379300\n",
       "47      C_0048         24500       498900\n",
       "48      C_0049         20200       437800\n",
       "49      C_0050         20700       467900"
      ]
     },
     "execution_count": 4,
     "metadata": {},
     "output_type": "execute_result"
    }
   ],
   "source": [
    "dados_faturamento"
   ]
  },
  {
   "cell_type": "markdown",
   "metadata": {
    "id": "PYTvweDFJimD"
   },
   "source": [
    "### Análise exploratória breve"
   ]
  },
  {
   "cell_type": "code",
   "execution_count": 5,
   "metadata": {
    "id": "TD_M_1CzO0L8"
   },
   "outputs": [
    {
     "data": {
      "text/html": [
       "<div>\n",
       "<style scoped>\n",
       "    .dataframe tbody tr th:only-of-type {\n",
       "        vertical-align: middle;\n",
       "    }\n",
       "\n",
       "    .dataframe tbody tr th {\n",
       "        vertical-align: top;\n",
       "    }\n",
       "\n",
       "    .dataframe thead th {\n",
       "        text-align: right;\n",
       "    }\n",
       "</style>\n",
       "<table border=\"1\" class=\"dataframe\">\n",
       "  <thead>\n",
       "    <tr style=\"text-align: right;\">\n",
       "      <th></th>\n",
       "      <th>INVESTIMENTO</th>\n",
       "      <th>FATURAMENTO</th>\n",
       "    </tr>\n",
       "  </thead>\n",
       "  <tbody>\n",
       "    <tr>\n",
       "      <th>count</th>\n",
       "      <td>50.000000</td>\n",
       "      <td>50.000000</td>\n",
       "    </tr>\n",
       "    <tr>\n",
       "      <th>mean</th>\n",
       "      <td>17784.000000</td>\n",
       "      <td>370074.000000</td>\n",
       "    </tr>\n",
       "    <tr>\n",
       "      <th>std</th>\n",
       "      <td>3413.021882</td>\n",
       "      <td>76846.504335</td>\n",
       "    </tr>\n",
       "    <tr>\n",
       "      <th>min</th>\n",
       "      <td>10000.000000</td>\n",
       "      <td>198000.000000</td>\n",
       "    </tr>\n",
       "    <tr>\n",
       "      <th>25%</th>\n",
       "      <td>15550.000000</td>\n",
       "      <td>326375.000000</td>\n",
       "    </tr>\n",
       "    <tr>\n",
       "      <th>50%</th>\n",
       "      <td>17750.000000</td>\n",
       "      <td>361200.000000</td>\n",
       "    </tr>\n",
       "    <tr>\n",
       "      <th>75%</th>\n",
       "      <td>20425.000000</td>\n",
       "      <td>433025.000000</td>\n",
       "    </tr>\n",
       "    <tr>\n",
       "      <th>max</th>\n",
       "      <td>24500.000000</td>\n",
       "      <td>526400.000000</td>\n",
       "    </tr>\n",
       "  </tbody>\n",
       "</table>\n",
       "</div>"
      ],
      "text/plain": [
       "       INVESTIMENTO    FATURAMENTO\n",
       "count     50.000000      50.000000\n",
       "mean   17784.000000  370074.000000\n",
       "std     3413.021882   76846.504335\n",
       "min    10000.000000  198000.000000\n",
       "25%    15550.000000  326375.000000\n",
       "50%    17750.000000  361200.000000\n",
       "75%    20425.000000  433025.000000\n",
       "max    24500.000000  526400.000000"
      ]
     },
     "execution_count": 5,
     "metadata": {},
     "output_type": "execute_result"
    }
   ],
   "source": [
    "# Medidas resumo\n",
    "dados_faturamento.describe()"
   ]
  },
  {
   "cell_type": "code",
   "execution_count": 11,
   "metadata": {
    "id": "aULjV5DiuN8a"
   },
   "outputs": [
    {
     "data": {
      "image/png": "[encoded data removed]",
      "text/plain": [
       "<Figure size 640x480 with 1 Axes>"
      ]
     },
     "metadata": {},
     "output_type": "display_data"
    }
   ],
   "source": [
    "# Histograma do investimento em mídias\n",
    "plt.hist(dados_faturamento['INVESTIMENTO'], color='darkturquoise', edgecolor='white',bins=10)\n",
    "plt.xlabel('Investimento em mídias (R$)')\n",
    "plt.ylabel('Frequência')\n",
    "plt.title('Investimento em mídias (R$)')\n",
    "plt.show() "
   ]
  },
  {
   "cell_type": "code",
   "execution_count": 12,
   "metadata": {
    "id": "542cpDRruQGm"
   },
   "outputs": [
    {
     "data": {
      "image/png": "[encoded data removed]",
      "text/plain": [
       "<Figure size 640x480 with 1 Axes>"
      ]
     },
     "metadata": {},
     "output_type": "display_data"
    }
   ],
   "source": [
    "# Histograma do faturamento\n",
    "plt.hist(dados_faturamento['FATURAMENTO'], color='darkturquoise', edgecolor='white',bins=10)\n",
    "plt.xlabel('Faturamento (R$)')\n",
    "plt.ylabel('Frequência')\n",
    "plt.title('Faturamento (R$)')\n",
    "plt.show() "
   ]
  },
  {
   "cell_type": "markdown",
   "metadata": {
    "id": "hvZQdAvYJn80"
   },
   "source": [
    "### Análise bivariada: variável resposta vs. variáveis explicativas"
   ]
  },
  {
   "cell_type": "code",
   "execution_count": 13,
   "metadata": {},
   "outputs": [
    {
     "data": {
      "image/png": "[encoded data removed]",
      "text/plain": [
       "<Figure size 640x480 with 1 Axes>"
      ]
     },
     "metadata": {},
     "output_type": "display_data"
    }
   ],
   "source": [
    "# Gráfico de dispersão\n",
    "plt.scatter(dados_faturamento['INVESTIMENTO'],dados_faturamento['FATURAMENTO'], color='darkturquoise')\n",
    "plt.xlabel('Investimento em mídias (R$)')\n",
    "plt.ylabel('Faturamento (R$)')\n",
    "plt.title(\"Faturamento vs. investimento em mídias\")\n",
    "plt.show() "
   ]
  },
  {
   "cell_type": "code",
   "execution_count": 20,
   "metadata": {
    "id": "_VuasR7YBwZ6"
   },
   "outputs": [
    {
     "data": {
      "text/html": [
       "<div>\n",
       "<style scoped>\n",
       "    .dataframe tbody tr th:only-of-type {\n",
       "        vertical-align: middle;\n",
       "    }\n",
       "\n",
       "    .dataframe tbody tr th {\n",
       "        vertical-align: top;\n",
       "    }\n",
       "\n",
       "    .dataframe thead th {\n",
       "        text-align: right;\n",
       "    }\n",
       "</style>\n",
       "<table border=\"1\" class=\"dataframe\">\n",
       "  <thead>\n",
       "    <tr style=\"text-align: right;\">\n",
       "      <th></th>\n",
       "      <th>INVESTIMENTO</th>\n",
       "      <th>FATURAMENTO</th>\n",
       "    </tr>\n",
       "  </thead>\n",
       "  <tbody>\n",
       "    <tr>\n",
       "      <th>INVESTIMENTO</th>\n",
       "      <td>1.000000</td>\n",
       "      <td>0.521644</td>\n",
       "    </tr>\n",
       "    <tr>\n",
       "      <th>FATURAMENTO</th>\n",
       "      <td>0.521644</td>\n",
       "      <td>1.000000</td>\n",
       "    </tr>\n",
       "  </tbody>\n",
       "</table>\n",
       "</div>"
      ],
      "text/plain": [
       "              INVESTIMENTO  FATURAMENTO\n",
       "INVESTIMENTO      1.000000     0.521644\n",
       "FATURAMENTO       0.521644     1.000000"
      ]
     },
     "execution_count": 20,
     "metadata": {},
     "output_type": "execute_result"
    }
   ],
   "source": [
    "# Coeficiente de correlação\n",
    "dados_faturamento[[\"INVESTIMENTO\",\"FATURAMENTO\"]].corr()\n"
   ]
  },
  {
   "cell_type": "markdown",
   "metadata": {
    "id": "usjTOesQJpQI"
   },
   "source": [
    "### Modelo de regressão linear simples"
   ]
  },
  {
   "cell_type": "code",
   "execution_count": 62,
   "metadata": {},
   "outputs": [],
   "source": [
    "# Ajuste do modelo\n",
    "modelo = sm.OLS(dados_faturamento['FATURAMENTO'], \n",
    "                sm.add_constant(dados_faturamento['INVESTIMENTO']))\n",
    "resultado = modelo.fit()"
   ]
  },
  {
   "cell_type": "code",
   "execution_count": 63,
   "metadata": {
    "id": "SRr0HokUyf6E"
   },
   "outputs": [
    {
     "data": {
      "text/html": [
       "<div>\n",
       "<style scoped>\n",
       "    .dataframe tbody tr th:only-of-type {\n",
       "        vertical-align: middle;\n",
       "    }\n",
       "\n",
       "    .dataframe tbody tr th {\n",
       "        vertical-align: top;\n",
       "    }\n",
       "\n",
       "    .dataframe thead th {\n",
       "        text-align: right;\n",
       "    }\n",
       "</style>\n",
       "<table border=\"1\" class=\"dataframe\">\n",
       "  <thead>\n",
       "    <tr style=\"text-align: right;\">\n",
       "      <th></th>\n",
       "      <th>Coef.</th>\n",
       "      <th>Std.Err.</th>\n",
       "      <th>t</th>\n",
       "      <th>P&gt;|t|</th>\n",
       "      <th>[0.025</th>\n",
       "      <th>0.975]</th>\n",
       "    </tr>\n",
       "  </thead>\n",
       "  <tbody>\n",
       "    <tr>\n",
       "      <th>const</th>\n",
       "      <td>161198.005702</td>\n",
       "      <td>50190.999344</td>\n",
       "      <td>3.211691</td>\n",
       "      <td>0.0023571026</td>\n",
       "      <td>60282.237900</td>\n",
       "      <td>262113.773503</td>\n",
       "    </tr>\n",
       "    <tr>\n",
       "      <th>INVESTIMENTO</th>\n",
       "      <td>11.745164</td>\n",
       "      <td>2.772660</td>\n",
       "      <td>4.236063</td>\n",
       "      <td>0.0001024271</td>\n",
       "      <td>6.170357</td>\n",
       "      <td>17.319971</td>\n",
       "    </tr>\n",
       "  </tbody>\n",
       "</table>\n",
       "</div>"
      ],
      "text/plain": [
       "                      Coef.      Std.Err.         t         P>|t|  \\\n",
       "const         161198.005702  50190.999344  3.211691  0.0023571026   \n",
       "INVESTIMENTO      11.745164      2.772660  4.236063  0.0001024271   \n",
       "\n",
       "                    [0.025         0.975]  \n",
       "const         60282.237900  262113.773503  \n",
       "INVESTIMENTO      6.170357      17.319971  "
      ]
     },
     "execution_count": 63,
     "metadata": {},
     "output_type": "execute_result"
    }
   ],
   "source": [
    "#PValues \n",
    "#Col [0.025 é o Limite Inferior (intervalor confiança)\n",
    "#Col 0.975] é o Limite Superior (intervalor confiança)\n",
    "\n",
    "summary_table = resultado.summary2().tables[1]\n",
    "summary_table['P>|t|'] = summary_table['P>|t|'].apply(lambda x: '{:.10f}'.format(x))\n",
    "summary_table"
   ]
  },
  {
   "cell_type": "code",
   "execution_count": 64,
   "metadata": {},
   "outputs": [
    {
     "data": {
      "text/html": [
       "<div>\n",
       "<style scoped>\n",
       "    .dataframe tbody tr th:only-of-type {\n",
       "        vertical-align: middle;\n",
       "    }\n",
       "\n",
       "    .dataframe tbody tr th {\n",
       "        vertical-align: top;\n",
       "    }\n",
       "\n",
       "    .dataframe thead th {\n",
       "        text-align: right;\n",
       "    }\n",
       "</style>\n",
       "<table border=\"1\" class=\"dataframe\">\n",
       "  <thead>\n",
       "    <tr style=\"text-align: right;\">\n",
       "      <th></th>\n",
       "      <th>0</th>\n",
       "      <th>1</th>\n",
       "      <th>2</th>\n",
       "      <th>3</th>\n",
       "    </tr>\n",
       "  </thead>\n",
       "  <tbody>\n",
       "    <tr>\n",
       "      <th>0</th>\n",
       "      <td>Model:</td>\n",
       "      <td>OLS</td>\n",
       "      <td>Adj. R-squared:</td>\n",
       "      <td>0.257</td>\n",
       "    </tr>\n",
       "    <tr>\n",
       "      <th>1</th>\n",
       "      <td>Dependent Variable:</td>\n",
       "      <td>FATURAMENTO</td>\n",
       "      <td>AIC:</td>\n",
       "      <td>1253.9598</td>\n",
       "    </tr>\n",
       "    <tr>\n",
       "      <th>2</th>\n",
       "      <td>Date:</td>\n",
       "      <td>2024-07-29 03:07</td>\n",
       "      <td>BIC:</td>\n",
       "      <td>1257.7839</td>\n",
       "    </tr>\n",
       "    <tr>\n",
       "      <th>3</th>\n",
       "      <td>No. Observations:</td>\n",
       "      <td>50</td>\n",
       "      <td>Log-Likelihood:</td>\n",
       "      <td>-624.98</td>\n",
       "    </tr>\n",
       "    <tr>\n",
       "      <th>4</th>\n",
       "      <td>Df Model:</td>\n",
       "      <td>1</td>\n",
       "      <td>F-statistic:</td>\n",
       "      <td>17.94</td>\n",
       "    </tr>\n",
       "    <tr>\n",
       "      <th>5</th>\n",
       "      <td>Df Residuals:</td>\n",
       "      <td>48</td>\n",
       "      <td>Prob (F-statistic):</td>\n",
       "      <td>0.000102</td>\n",
       "    </tr>\n",
       "    <tr>\n",
       "      <th>6</th>\n",
       "      <td>R-squared:</td>\n",
       "      <td>0.272</td>\n",
       "      <td>Scale:</td>\n",
       "      <td>4.3880e+09</td>\n",
       "    </tr>\n",
       "  </tbody>\n",
       "</table>\n",
       "</div>"
      ],
      "text/plain": [
       "                     0                 1                    2           3\n",
       "0               Model:               OLS      Adj. R-squared:       0.257\n",
       "1  Dependent Variable:       FATURAMENTO                 AIC:   1253.9598\n",
       "2                Date:  2024-07-29 03:07                 BIC:   1257.7839\n",
       "3    No. Observations:                50      Log-Likelihood:     -624.98\n",
       "4            Df Model:                 1         F-statistic:       17.94\n",
       "5        Df Residuals:                48  Prob (F-statistic):    0.000102\n",
       "6           R-squared:             0.272               Scale:  4.3880e+09"
      ]
     },
     "execution_count": 64,
     "metadata": {},
     "output_type": "execute_result"
    }
   ],
   "source": [
    "resultado.summary2().tables[0]"
   ]
  },
  {
   "cell_type": "code",
   "execution_count": 65,
   "metadata": {
    "scrolled": true
   },
   "outputs": [
    {
     "data": {
      "text/html": [
       "<div>\n",
       "<style scoped>\n",
       "    .dataframe tbody tr th:only-of-type {\n",
       "        vertical-align: middle;\n",
       "    }\n",
       "\n",
       "    .dataframe tbody tr th {\n",
       "        vertical-align: top;\n",
       "    }\n",
       "\n",
       "    .dataframe thead th {\n",
       "        text-align: right;\n",
       "    }\n",
       "</style>\n",
       "<table border=\"1\" class=\"dataframe\">\n",
       "  <thead>\n",
       "    <tr style=\"text-align: right;\">\n",
       "      <th></th>\n",
       "      <th>0</th>\n",
       "      <th>1</th>\n",
       "      <th>2</th>\n",
       "      <th>3</th>\n",
       "    </tr>\n",
       "  </thead>\n",
       "  <tbody>\n",
       "    <tr>\n",
       "      <th>0</th>\n",
       "      <td>Omnibus:</td>\n",
       "      <td>1.470</td>\n",
       "      <td>Durbin-Watson:</td>\n",
       "      <td>1.792</td>\n",
       "    </tr>\n",
       "    <tr>\n",
       "      <th>1</th>\n",
       "      <td>Prob(Omnibus):</td>\n",
       "      <td>0.480</td>\n",
       "      <td>Jarque-Bera (JB):</td>\n",
       "      <td>1.076</td>\n",
       "    </tr>\n",
       "    <tr>\n",
       "      <th>2</th>\n",
       "      <td>Skew:</td>\n",
       "      <td>0.023</td>\n",
       "      <td>Prob(JB):</td>\n",
       "      <td>0.584</td>\n",
       "    </tr>\n",
       "    <tr>\n",
       "      <th>3</th>\n",
       "      <td>Kurtosis:</td>\n",
       "      <td>2.283</td>\n",
       "      <td>Condition No.:</td>\n",
       "      <td>96985</td>\n",
       "    </tr>\n",
       "  </tbody>\n",
       "</table>\n",
       "</div>"
      ],
      "text/plain": [
       "                0      1                  2      3\n",
       "0        Omnibus:  1.470     Durbin-Watson:  1.792\n",
       "1  Prob(Omnibus):  0.480  Jarque-Bera (JB):  1.076\n",
       "2           Skew:  0.023          Prob(JB):  0.584\n",
       "3       Kurtosis:  2.283     Condition No.:  96985"
      ]
     },
     "execution_count": 65,
     "metadata": {},
     "output_type": "execute_result"
    }
   ],
   "source": [
    "resultado.summary2().tables[2]"
   ]
  },
  {
   "cell_type": "markdown",
   "metadata": {
    "id": "lnBrvuxyJumV"
   },
   "source": [
    "### Gráfico de dispersão com reta ajustada"
   ]
  },
  {
   "cell_type": "code",
   "execution_count": 66,
   "metadata": {},
   "outputs": [
    {
     "name": "stderr",
     "output_type": "stream",
     "text": [
      "/tmp/ipykernel_2958/3850616674.py:9: FutureWarning: Series.__getitem__ treating keys as positions is deprecated. In a future version, integer keys will always be treated as labels (consistent with DataFrame behavior). To access a value by position, use `ser.iloc[pos]`\n",
      "  y_vals = resultado.params[0] + resultado.params[1] * x_vals\n"
     ]
    },
    {
     "data": {
      "image/png": "[encoded data removed]",
      "text/plain": [
       "<Figure size 1000x600 with 1 Axes>"
      ]
     },
     "metadata": {},
     "output_type": "display_data"
    }
   ],
   "source": [
    "plt.figure(figsize=(10, 6))\n",
    "sns.scatterplot(x='INVESTIMENTO', y='FATURAMENTO', data=dados_faturamento, color='darkturquoise', s=100)\n",
    "plt.xlabel('Investimento em mídias (R$)')\n",
    "plt.ylabel('aturamento (R$)')\n",
    "plt.title('Faturamento vs. investimento em mídias')\n",
    "\n",
    "# Adicionando a linha de regressão\n",
    "x_vals = np.array(plt.gca().get_xlim())\n",
    "y_vals = resultado.params[0] + resultado.params[1] * x_vals\n",
    "plt.plot(x_vals, y_vals, color='red')\n",
    "\n",
    "plt.show()"
   ]
  },
  {
   "cell_type": "markdown",
   "metadata": {
    "id": "l82_95h3JsBP"
   },
   "source": [
    "### Qualidade de ajuste"
   ]
  },
  {
   "cell_type": "code",
   "execution_count": 67,
   "metadata": {},
   "outputs": [],
   "source": [
    "# Acessando valores resultantes do modelo\n",
    "r_squared = resultado.rsquared\n",
    "r_squared_adj = resultado.rsquared_adj\n",
    "coeficientes = resultado.params\n",
    "p_values = resultado.pvalues\n",
    "std_err = resultado.bse\n",
    "valores_preditos = resultado.fittedvalues\n",
    "residuos = resultado.resid\n",
    "\n",
    "# Exibindo os valores\n",
    "# print(f'R ao quadrado: {r_squared}')\n",
    "# print(f'R ao quadrado ajustado: {r_squared_adj}')\n",
    "# print(f'Coeficientes: \\n{coeficientes}')\n",
    "# print(f'p-valores: \\n{p_values}')\n",
    "# print(f'Erros padrão: \\n{std_err}')\n",
    "# print(f'Valores preditos: \\n{valores_preditos}')\n",
    "# print(f'Resíduos: \\n{residuos}')\n"
   ]
  },
  {
   "cell_type": "code",
   "execution_count": 68,
   "metadata": {},
   "outputs": [],
   "source": [
    "from sklearn.metrics import mean_absolute_error, mean_absolute_percentage_error"
   ]
  },
  {
   "cell_type": "code",
   "execution_count": 42,
   "metadata": {
    "id": "B_tsIjDaPVwI"
   },
   "outputs": [
    {
     "name": "stdout",
     "output_type": "stream",
     "text": [
      "0.27211223731059464\n"
     ]
    }
   ],
   "source": [
    "# Coeficiente de determinação (R²)\n",
    "print(resultado.rsquared)"
   ]
  },
  {
   "cell_type": "code",
   "execution_count": 44,
   "metadata": {
    "id": "izk0HXXIALP4"
   },
   "outputs": [
    {
     "name": "stdout",
     "output_type": "stream",
     "text": [
      "55299.25147865965\n"
     ]
    }
   ],
   "source": [
    "# MAE\n",
    "print(mean_absolute_error(dados_faturamento['FATURAMENTO'], resultado.fittedvalues))"
   ]
  },
  {
   "cell_type": "code",
   "execution_count": 45,
   "metadata": {
    "id": "X1UCyp2OPW8w"
   },
   "outputs": [
    {
     "name": "stdout",
     "output_type": "stream",
     "text": [
      "0.16080091231981242\n"
     ]
    }
   ],
   "source": [
    "# MAPE\n",
    "print(mean_absolute_percentage_error(dados_faturamento['FATURAMENTO'], resultado.fittedvalues))"
   ]
  },
  {
   "cell_type": "markdown",
   "metadata": {
    "id": "HIigFeGjJwpL"
   },
   "source": [
    "### Análise de resíduos"
   ]
  },
  {
   "cell_type": "code",
   "execution_count": 50,
   "metadata": {
    "id": "jP0o0OMaPdR8"
   },
   "outputs": [
    {
     "data": {
      "image/png": "[encoded data removed]",
      "text/plain": [
       "<Figure size 640x480 with 1 Axes>"
      ]
     },
     "metadata": {},
     "output_type": "display_data"
    }
   ],
   "source": [
    "# Histograma dos resíduos\n",
    "plt.hist(resultado.resid, color='darkturquoise', edgecolor='white',bins=7)\n",
    "plt.title('Histograma dos resíduos')\n",
    "plt.show() "
   ]
  },
  {
   "cell_type": "code",
   "execution_count": 51,
   "metadata": {},
   "outputs": [
    {
     "name": "stderr",
     "output_type": "stream",
     "text": [
      "/usr/local/lib/python3.9/dist-packages/statsmodels/graphics/gofplots.py:1043: UserWarning: color is redundantly defined by the 'color' keyword argument and the fmt string \"b\" (-> color=(0.0, 0.0, 1.0, 1)). The keyword argument will take precedence.\n",
      "  ax.plot(x, y, fmt, **plot_style)\n"
     ]
    },
    {
     "data": {
      "image/png": "[encoded data removed]",
      "text/plain": [
       "<Figure size 640x480 with 1 Axes>"
      ]
     },
     "metadata": {},
     "output_type": "display_data"
    }
   ],
   "source": [
    "# QQ plot dos resíduos\n",
    "sm.qqplot(resultado.resid, line='s', color='darkturquoise', marker='o', alpha=0.5)\n",
    "plt.title(\"QQ-plot dos resíduos\")\n",
    "plt.show()"
   ]
  },
  {
   "cell_type": "code",
   "execution_count": 52,
   "metadata": {},
   "outputs": [
    {
     "data": {
      "image/png": "[encoded data removed]",
      "text/plain": [
       "<Figure size 640x480 with 1 Axes>"
      ]
     },
     "metadata": {},
     "output_type": "display_data"
    }
   ],
   "source": [
    "# Resíduos vs. tempo de experiência\n",
    "plt.scatter(dados_faturamento['INVESTIMENTO'],resultado.resid, color='darkturquoise')\n",
    "plt.xlabel('Investimento em mídias (R$)')\n",
    "plt.ylabel('Resíduos')\n",
    "plt.title(\"Resíduos vs. Investimento em mídias (R$)\")\n",
    "plt.show() "
   ]
  },
  {
   "cell_type": "markdown",
   "metadata": {
    "id": "jVg-t0b6WD8S"
   },
   "source": [
    "### Exemplo de uso (aplicação) do modelo"
   ]
  },
  {
   "cell_type": "code",
   "execution_count": 74,
   "metadata": {},
   "outputs": [
    {
     "data": {
      "text/html": [
       "<div>\n",
       "<style scoped>\n",
       "    .dataframe tbody tr th:only-of-type {\n",
       "        vertical-align: middle;\n",
       "    }\n",
       "\n",
       "    .dataframe tbody tr th {\n",
       "        vertical-align: top;\n",
       "    }\n",
       "\n",
       "    .dataframe thead th {\n",
       "        text-align: right;\n",
       "    }\n",
       "</style>\n",
       "<table border=\"1\" class=\"dataframe\">\n",
       "  <thead>\n",
       "    <tr style=\"text-align: right;\">\n",
       "      <th></th>\n",
       "      <th>const</th>\n",
       "      <th>INVESTIMENTO</th>\n",
       "    </tr>\n",
       "  </thead>\n",
       "  <tbody>\n",
       "    <tr>\n",
       "      <th>0</th>\n",
       "      <td>1.0</td>\n",
       "      <td>18000</td>\n",
       "    </tr>\n",
       "    <tr>\n",
       "      <th>1</th>\n",
       "      <td>1.0</td>\n",
       "      <td>69550</td>\n",
       "    </tr>\n",
       "    <tr>\n",
       "      <th>2</th>\n",
       "      <td>1.0</td>\n",
       "      <td>75254</td>\n",
       "    </tr>\n",
       "  </tbody>\n",
       "</table>\n",
       "</div>"
      ],
      "text/plain": [
       "   const  INVESTIMENTO\n",
       "0    1.0         18000\n",
       "1    1.0         69550\n",
       "2    1.0         75254"
      ]
     },
     "execution_count": 74,
     "metadata": {},
     "output_type": "execute_result"
    }
   ],
   "source": [
    "# Criação de base de dados com um novo vendedor, com 12 anos de experiência\n",
    "# Obs.: o nome de coluna deve ser idêntico ao da base utilizada para construção do modelo (\"Tempo_Experiencia\") --- no Python n precisa, porém temos q adicinoar o \"constant\"\n",
    "novos_dados = pd.DataFrame({\"INVESTIMENTO\":[18000,69550,75254]})\n",
    "novos_dados = sm.add_constant(novos_dados)\n",
    "novos_dados\n"
   ]
  },
  {
   "cell_type": "code",
   "execution_count": 75,
   "metadata": {},
   "outputs": [
    {
     "data": {
      "text/html": [
       "<div>\n",
       "<style scoped>\n",
       "    .dataframe tbody tr th:only-of-type {\n",
       "        vertical-align: middle;\n",
       "    }\n",
       "\n",
       "    .dataframe tbody tr th {\n",
       "        vertical-align: top;\n",
       "    }\n",
       "\n",
       "    .dataframe thead th {\n",
       "        text-align: right;\n",
       "    }\n",
       "</style>\n",
       "<table border=\"1\" class=\"dataframe\">\n",
       "  <thead>\n",
       "    <tr style=\"text-align: right;\">\n",
       "      <th></th>\n",
       "      <th>const</th>\n",
       "      <th>INVESTIMENTO</th>\n",
       "      <th>INVESTIMENTO_PREDITO</th>\n",
       "    </tr>\n",
       "  </thead>\n",
       "  <tbody>\n",
       "    <tr>\n",
       "      <th>0</th>\n",
       "      <td>1.0</td>\n",
       "      <td>18000</td>\n",
       "      <td>372611.0</td>\n",
       "    </tr>\n",
       "    <tr>\n",
       "      <th>1</th>\n",
       "      <td>1.0</td>\n",
       "      <td>69550</td>\n",
       "      <td>978074.0</td>\n",
       "    </tr>\n",
       "    <tr>\n",
       "      <th>2</th>\n",
       "      <td>1.0</td>\n",
       "      <td>75254</td>\n",
       "      <td>1045069.0</td>\n",
       "    </tr>\n",
       "  </tbody>\n",
       "</table>\n",
       "</div>"
      ],
      "text/plain": [
       "   const  INVESTIMENTO  INVESTIMENTO_PREDITO\n",
       "0    1.0         18000              372611.0\n",
       "1    1.0         69550              978074.0\n",
       "2    1.0         75254             1045069.0"
      ]
     },
     "execution_count": 75,
     "metadata": {},
     "output_type": "execute_result"
    }
   ],
   "source": [
    "# Aplicação do modelo\n",
    "novos_dados[\"INVESTIMENTO_PREDITO\"] = resultado.predict(novos_dados).round()\n",
    "novos_dados"
   ]
  },
  {
   "cell_type": "code",
   "execution_count": null,
   "metadata": {},
   "outputs": [],
   "source": []
  }
 ],
 "metadata": {
  "colab": {
   "provenance": []
  },
  "kernelspec": {
   "display_name": "Python 3 (ipykernel)",
   "language": "python",
   "name": "python3"
  },
  "language_info": {
   "codemirror_mode": {
    "name": "ipython",
    "version": 3
   },
   "file_extension": ".py",
   "mimetype": "text/x-python",
   "name": "python",
   "nbconvert_exporter": "python",
   "pygments_lexer": "ipython3",
   "version": "3.9.2"
  }
 },
 "nbformat": 4,
 "nbformat_minor": 4
}

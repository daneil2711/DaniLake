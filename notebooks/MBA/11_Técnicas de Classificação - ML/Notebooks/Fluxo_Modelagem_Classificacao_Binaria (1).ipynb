{
 "cells": [
  {
   "cell_type": "markdown",
   "metadata": {
    "id": "L2vudERBJTiT"
   },
   "source": [
    "# **FLUXO DE MODELAGEM: ALGORITMOS DE CLASSIFICAÇÃO BINÁRIA**\n",
    "### *Exemplo: Recompra em e-Commerce*\n",
    "##### *Este script resume a sequência de passos principais para modelagem de classificação binária utilizando os algoritmos vistos em aula. Apesar de genérico, é possível que ajustes precisem ser realizados a depender das nuances da base de dados.*\n",
    "\n"
   ]
  },
  {
   "cell_type": "markdown",
   "metadata": {
    "id": "nGD5Csd2q7VV"
   },
   "source": [
    "### Instalação de bibliotecas"
   ]
  },
  {
   "cell_type": "code",
   "execution_count": 1,
   "metadata": {
    "id": "DY4aICW6q8Eb"
   },
   "outputs": [],
   "source": [
    "# Apenas a biblioteca shap precisa ser instalada; as demais utilizadas neste notebook já vêm pré-instaladas no Google Colab\n",
    "# ! pip install shap"
   ]
  },
  {
   "cell_type": "markdown",
   "metadata": {
    "id": "99PaLHQgvG4X"
   },
   "source": [
    "### Carregamento de bibliotecas"
   ]
  },
  {
   "cell_type": "code",
   "execution_count": 2,
   "metadata": {
    "id": "XY369Yf7IsFC"
   },
   "outputs": [],
   "source": [
    "from IPython.display import display\n",
    "import pandas as pd\n",
    "import numpy as np\n",
    "import seaborn as sns\n",
    "import matplotlib.pyplot as plt\n",
    "from imblearn.under_sampling import RandomUnderSampler                       # Balanceamento de classes\n",
    "from sklearn.compose import make_column_selector, ColumnTransformer          # Transformação e seleção de variáveis\n",
    "from sklearn.preprocessing import StandardScaler, OneHotEncoder              # Padronização de quantitativas e criação de dummies para qualitativas\n",
    "from sklearn.linear_model import LogisticRegression                          # Regressão logística\n",
    "from sklearn.tree import DecisionTreeClassifier                              # Árvore de decisão\n",
    "from sklearn.ensemble import RandomForestClassifier                          # Floresta aleatória\n",
    "from sklearn.ensemble import AdaBoostClassifier                              # AdaBoost\n",
    "from sklearn.ensemble import GradientBoostingClassifier                      # Gradient boosting\n",
    "from xgboost import XGBClassifier                                            # XGBoost\n",
    "from lightgbm import LGBMClassifier                                          # LightGBM\n",
    "from sklearn.model_selection import KFold, StratifiedKFold, cross_validate   # Validação cruzada\n",
    "from sklearn.model_selection import GridSearchCV, RandomizedSearchCV         # Otimização de hiperparâmetros via grid search e random search\n",
    "import shap                                                                  # Interpretabilidade de modelos de ML"
   ]
  },
  {
   "cell_type": "markdown",
   "metadata": {
    "id": "AppXoGlSJa4f"
   },
   "source": [
    "### Leitura da base de dados"
   ]
  },
  {
   "cell_type": "code",
   "execution_count": 3,
   "metadata": {
    "id": "BKIVxb-yO6kt"
   },
   "outputs": [],
   "source": [
    "# Leitura da base de dados (altere os separadores de coluna e de decimal, conforme a necessidade)\n",
    "dados = pd.read_table(\"../Dados/Recompra_eCommerce.txt\",\n",
    "                      decimal = \".\",\n",
    "                      sep = \"\\t\")"
   ]
  },
  {
   "cell_type": "markdown",
   "metadata": {
    "id": "o2OghHNJfuKz"
   },
   "source": [
    "### Verificação de tipos das variáveis da base de dados"
   ]
  },
  {
   "cell_type": "code",
   "execution_count": 4,
   "metadata": {
    "colab": {
     "base_uri": "https://localhost:8080/",
     "height": 426
    },
    "executionInfo": {
     "elapsed": 10,
     "status": "ok",
     "timestamp": 1727668449650,
     "user": {
      "displayName": "A. C.",
      "userId": "00912246211498097173"
     },
     "user_tz": 180
    },
    "id": "tSpQEHqEfrcj",
    "outputId": "e107560f-c57d-421a-e9c6-66a25343cf09"
   },
   "outputs": [
    {
     "data": {
      "text/html": [
       "<div>\n",
       "<style scoped>\n",
       "    .dataframe tbody tr th:only-of-type {\n",
       "        vertical-align: middle;\n",
       "    }\n",
       "\n",
       "    .dataframe tbody tr th {\n",
       "        vertical-align: top;\n",
       "    }\n",
       "\n",
       "    .dataframe thead th {\n",
       "        text-align: right;\n",
       "    }\n",
       "</style>\n",
       "<table border=\"1\" class=\"dataframe\">\n",
       "  <thead>\n",
       "    <tr style=\"text-align: right;\">\n",
       "      <th></th>\n",
       "      <th>0</th>\n",
       "    </tr>\n",
       "  </thead>\n",
       "  <tbody>\n",
       "    <tr>\n",
       "      <th>ID_CLIENTE</th>\n",
       "      <td>int64</td>\n",
       "    </tr>\n",
       "    <tr>\n",
       "      <th>IDADE</th>\n",
       "      <td>int64</td>\n",
       "    </tr>\n",
       "    <tr>\n",
       "      <th>VALOR_COMPRA_SITE</th>\n",
       "      <td>float64</td>\n",
       "    </tr>\n",
       "    <tr>\n",
       "      <th>QTDE_ITENS_COMPRA_SITE</th>\n",
       "      <td>int64</td>\n",
       "    </tr>\n",
       "    <tr>\n",
       "      <th>FLAG_ACESSORIOS_COMPRA_SITE</th>\n",
       "      <td>int64</td>\n",
       "    </tr>\n",
       "    <tr>\n",
       "      <th>FLAG_FEMININA_COMPRA_SITE</th>\n",
       "      <td>int64</td>\n",
       "    </tr>\n",
       "    <tr>\n",
       "      <th>FLAG_MASCULINA_COMPRA_SITE</th>\n",
       "      <td>int64</td>\n",
       "    </tr>\n",
       "    <tr>\n",
       "      <th>NOTA_SATISF_COMPRA_SITE</th>\n",
       "      <td>int64</td>\n",
       "    </tr>\n",
       "    <tr>\n",
       "      <th>FLAG_COMPROU_LOJA_FISICA_6M</th>\n",
       "      <td>int64</td>\n",
       "    </tr>\n",
       "    <tr>\n",
       "      <th>QTDE_COMPRAS_LOJA_FISICA_6M</th>\n",
       "      <td>int64</td>\n",
       "    </tr>\n",
       "    <tr>\n",
       "      <th>QTDE_ITENS_LOJA_FISICA_6M</th>\n",
       "      <td>int64</td>\n",
       "    </tr>\n",
       "    <tr>\n",
       "      <th>FLAG_RECOMPRA_PROX_3_MESES</th>\n",
       "      <td>int64</td>\n",
       "    </tr>\n",
       "  </tbody>\n",
       "</table>\n",
       "</div>"
      ],
      "text/plain": [
       "                                   0\n",
       "ID_CLIENTE                     int64\n",
       "IDADE                          int64\n",
       "VALOR_COMPRA_SITE            float64\n",
       "QTDE_ITENS_COMPRA_SITE         int64\n",
       "FLAG_ACESSORIOS_COMPRA_SITE    int64\n",
       "FLAG_FEMININA_COMPRA_SITE      int64\n",
       "FLAG_MASCULINA_COMPRA_SITE     int64\n",
       "NOTA_SATISF_COMPRA_SITE        int64\n",
       "FLAG_COMPROU_LOJA_FISICA_6M    int64\n",
       "QTDE_COMPRAS_LOJA_FISICA_6M    int64\n",
       "QTDE_ITENS_LOJA_FISICA_6M      int64\n",
       "FLAG_RECOMPRA_PROX_3_MESES     int64"
      ]
     },
     "execution_count": 4,
     "metadata": {},
     "output_type": "execute_result"
    }
   ],
   "source": [
    "pd.DataFrame(dados.dtypes)"
   ]
  },
  {
   "cell_type": "markdown",
   "metadata": {
    "id": "F2LMzESgiFdv"
   },
   "source": [
    "### Alteração de tipos de variáveis, se necessário\n",
    "##### Variáveis quantitativas devem ser armazenadas como **float64** (com decimais) ou **int64** (inteiras). Já variáveis qualitativas costumam ser representadas como **bool** (binárias), **object** (categóricas) ou **category** (categóricas, com otimização de memória)."
   ]
  },
  {
   "cell_type": "code",
   "execution_count": 5,
   "metadata": {
    "id": "roC6PzsbhBU2"
   },
   "outputs": [],
   "source": [
    "# dados['NOME_DA_VARIAVEL'] = dados['NOME_DA_VARIAVEL'].astype('int64')\n",
    "# dados['NOME_DA_VARIAVEL'] = dados['NOME_DA_VARIAVEL'].astype('float64')\n",
    "# dados['NOME_DA_VARIAVEL'] = dados['NOME_DA_VARIAVEL'].astype('bool')\n",
    "# dados['NOME_DA_VARIAVEL'] = dados['NOME_DA_VARIAVEL'].astype('object')\n",
    "# dados['NOME_DA_VARIAVEL'] = dados['NOME_DA_VARIAVEL'].astype('category')"
   ]
  },
  {
   "cell_type": "markdown",
   "metadata": {
    "id": "QjxtmJktJf24"
   },
   "source": [
    "### Visualização da base de dados"
   ]
  },
  {
   "cell_type": "code",
   "execution_count": 6,
   "metadata": {
    "colab": {
     "base_uri": "https://localhost:8080/",
     "height": 444
    },
    "executionInfo": {
     "elapsed": 10,
     "status": "ok",
     "timestamp": 1727668449650,
     "user": {
      "displayName": "A. C.",
      "userId": "00912246211498097173"
     },
     "user_tz": 180
    },
    "id": "FJUJqh-_O4Dh",
    "outputId": "a83136a1-dbf5-4c1e-d61a-02a63039a39a"
   },
   "outputs": [
    {
     "data": {
      "text/html": [
       "<div>\n",
       "<style scoped>\n",
       "    .dataframe tbody tr th:only-of-type {\n",
       "        vertical-align: middle;\n",
       "    }\n",
       "\n",
       "    .dataframe tbody tr th {\n",
       "        vertical-align: top;\n",
       "    }\n",
       "\n",
       "    .dataframe thead th {\n",
       "        text-align: right;\n",
       "    }\n",
       "</style>\n",
       "<table border=\"1\" class=\"dataframe\">\n",
       "  <thead>\n",
       "    <tr style=\"text-align: right;\">\n",
       "      <th></th>\n",
       "      <th>ID_CLIENTE</th>\n",
       "      <th>IDADE</th>\n",
       "      <th>VALOR_COMPRA_SITE</th>\n",
       "      <th>QTDE_ITENS_COMPRA_SITE</th>\n",
       "      <th>FLAG_ACESSORIOS_COMPRA_SITE</th>\n",
       "      <th>FLAG_FEMININA_COMPRA_SITE</th>\n",
       "      <th>FLAG_MASCULINA_COMPRA_SITE</th>\n",
       "      <th>NOTA_SATISF_COMPRA_SITE</th>\n",
       "      <th>FLAG_COMPROU_LOJA_FISICA_6M</th>\n",
       "      <th>QTDE_COMPRAS_LOJA_FISICA_6M</th>\n",
       "      <th>QTDE_ITENS_LOJA_FISICA_6M</th>\n",
       "      <th>FLAG_RECOMPRA_PROX_3_MESES</th>\n",
       "    </tr>\n",
       "  </thead>\n",
       "  <tbody>\n",
       "    <tr>\n",
       "      <th>0</th>\n",
       "      <td>1</td>\n",
       "      <td>29</td>\n",
       "      <td>185.5</td>\n",
       "      <td>2</td>\n",
       "      <td>0</td>\n",
       "      <td>1</td>\n",
       "      <td>0</td>\n",
       "      <td>7</td>\n",
       "      <td>1</td>\n",
       "      <td>4</td>\n",
       "      <td>4</td>\n",
       "      <td>1</td>\n",
       "    </tr>\n",
       "    <tr>\n",
       "      <th>1</th>\n",
       "      <td>2</td>\n",
       "      <td>27</td>\n",
       "      <td>215.5</td>\n",
       "      <td>2</td>\n",
       "      <td>0</td>\n",
       "      <td>1</td>\n",
       "      <td>1</td>\n",
       "      <td>7</td>\n",
       "      <td>1</td>\n",
       "      <td>2</td>\n",
       "      <td>2</td>\n",
       "      <td>1</td>\n",
       "    </tr>\n",
       "    <tr>\n",
       "      <th>2</th>\n",
       "      <td>3</td>\n",
       "      <td>29</td>\n",
       "      <td>106.4</td>\n",
       "      <td>4</td>\n",
       "      <td>0</td>\n",
       "      <td>1</td>\n",
       "      <td>0</td>\n",
       "      <td>10</td>\n",
       "      <td>1</td>\n",
       "      <td>1</td>\n",
       "      <td>5</td>\n",
       "      <td>1</td>\n",
       "    </tr>\n",
       "    <tr>\n",
       "      <th>3</th>\n",
       "      <td>4</td>\n",
       "      <td>18</td>\n",
       "      <td>140.2</td>\n",
       "      <td>1</td>\n",
       "      <td>0</td>\n",
       "      <td>1</td>\n",
       "      <td>0</td>\n",
       "      <td>8</td>\n",
       "      <td>1</td>\n",
       "      <td>1</td>\n",
       "      <td>4</td>\n",
       "      <td>0</td>\n",
       "    </tr>\n",
       "    <tr>\n",
       "      <th>4</th>\n",
       "      <td>5</td>\n",
       "      <td>24</td>\n",
       "      <td>72.9</td>\n",
       "      <td>2</td>\n",
       "      <td>0</td>\n",
       "      <td>1</td>\n",
       "      <td>0</td>\n",
       "      <td>7</td>\n",
       "      <td>0</td>\n",
       "      <td>0</td>\n",
       "      <td>0</td>\n",
       "      <td>0</td>\n",
       "    </tr>\n",
       "    <tr>\n",
       "      <th>...</th>\n",
       "      <td>...</td>\n",
       "      <td>...</td>\n",
       "      <td>...</td>\n",
       "      <td>...</td>\n",
       "      <td>...</td>\n",
       "      <td>...</td>\n",
       "      <td>...</td>\n",
       "      <td>...</td>\n",
       "      <td>...</td>\n",
       "      <td>...</td>\n",
       "      <td>...</td>\n",
       "      <td>...</td>\n",
       "    </tr>\n",
       "    <tr>\n",
       "      <th>1269</th>\n",
       "      <td>1270</td>\n",
       "      <td>40</td>\n",
       "      <td>165.9</td>\n",
       "      <td>6</td>\n",
       "      <td>0</td>\n",
       "      <td>1</td>\n",
       "      <td>0</td>\n",
       "      <td>8</td>\n",
       "      <td>1</td>\n",
       "      <td>3</td>\n",
       "      <td>9</td>\n",
       "      <td>1</td>\n",
       "    </tr>\n",
       "    <tr>\n",
       "      <th>1270</th>\n",
       "      <td>1271</td>\n",
       "      <td>33</td>\n",
       "      <td>55.6</td>\n",
       "      <td>1</td>\n",
       "      <td>0</td>\n",
       "      <td>1</td>\n",
       "      <td>0</td>\n",
       "      <td>9</td>\n",
       "      <td>0</td>\n",
       "      <td>0</td>\n",
       "      <td>0</td>\n",
       "      <td>0</td>\n",
       "    </tr>\n",
       "    <tr>\n",
       "      <th>1271</th>\n",
       "      <td>1272</td>\n",
       "      <td>28</td>\n",
       "      <td>105.7</td>\n",
       "      <td>4</td>\n",
       "      <td>0</td>\n",
       "      <td>0</td>\n",
       "      <td>1</td>\n",
       "      <td>6</td>\n",
       "      <td>0</td>\n",
       "      <td>0</td>\n",
       "      <td>0</td>\n",
       "      <td>0</td>\n",
       "    </tr>\n",
       "    <tr>\n",
       "      <th>1272</th>\n",
       "      <td>1273</td>\n",
       "      <td>28</td>\n",
       "      <td>284.9</td>\n",
       "      <td>3</td>\n",
       "      <td>0</td>\n",
       "      <td>1</td>\n",
       "      <td>1</td>\n",
       "      <td>8</td>\n",
       "      <td>0</td>\n",
       "      <td>0</td>\n",
       "      <td>0</td>\n",
       "      <td>0</td>\n",
       "    </tr>\n",
       "    <tr>\n",
       "      <th>1273</th>\n",
       "      <td>1274</td>\n",
       "      <td>32</td>\n",
       "      <td>351.4</td>\n",
       "      <td>5</td>\n",
       "      <td>1</td>\n",
       "      <td>0</td>\n",
       "      <td>1</td>\n",
       "      <td>8</td>\n",
       "      <td>0</td>\n",
       "      <td>0</td>\n",
       "      <td>0</td>\n",
       "      <td>1</td>\n",
       "    </tr>\n",
       "  </tbody>\n",
       "</table>\n",
       "<p>1274 rows × 12 columns</p>\n",
       "</div>"
      ],
      "text/plain": [
       "      ID_CLIENTE  IDADE  VALOR_COMPRA_SITE  QTDE_ITENS_COMPRA_SITE  \\\n",
       "0              1     29              185.5                       2   \n",
       "1              2     27              215.5                       2   \n",
       "2              3     29              106.4                       4   \n",
       "3              4     18              140.2                       1   \n",
       "4              5     24               72.9                       2   \n",
       "...          ...    ...                ...                     ...   \n",
       "1269        1270     40              165.9                       6   \n",
       "1270        1271     33               55.6                       1   \n",
       "1271        1272     28              105.7                       4   \n",
       "1272        1273     28              284.9                       3   \n",
       "1273        1274     32              351.4                       5   \n",
       "\n",
       "      FLAG_ACESSORIOS_COMPRA_SITE  FLAG_FEMININA_COMPRA_SITE  \\\n",
       "0                               0                          1   \n",
       "1                               0                          1   \n",
       "2                               0                          1   \n",
       "3                               0                          1   \n",
       "4                               0                          1   \n",
       "...                           ...                        ...   \n",
       "1269                            0                          1   \n",
       "1270                            0                          1   \n",
       "1271                            0                          0   \n",
       "1272                            0                          1   \n",
       "1273                            1                          0   \n",
       "\n",
       "      FLAG_MASCULINA_COMPRA_SITE  NOTA_SATISF_COMPRA_SITE  \\\n",
       "0                              0                        7   \n",
       "1                              1                        7   \n",
       "2                              0                       10   \n",
       "3                              0                        8   \n",
       "4                              0                        7   \n",
       "...                          ...                      ...   \n",
       "1269                           0                        8   \n",
       "1270                           0                        9   \n",
       "1271                           1                        6   \n",
       "1272                           1                        8   \n",
       "1273                           1                        8   \n",
       "\n",
       "      FLAG_COMPROU_LOJA_FISICA_6M  QTDE_COMPRAS_LOJA_FISICA_6M  \\\n",
       "0                               1                            4   \n",
       "1                               1                            2   \n",
       "2                               1                            1   \n",
       "3                               1                            1   \n",
       "4                               0                            0   \n",
       "...                           ...                          ...   \n",
       "1269                            1                            3   \n",
       "1270                            0                            0   \n",
       "1271                            0                            0   \n",
       "1272                            0                            0   \n",
       "1273                            0                            0   \n",
       "\n",
       "      QTDE_ITENS_LOJA_FISICA_6M  FLAG_RECOMPRA_PROX_3_MESES  \n",
       "0                             4                           1  \n",
       "1                             2                           1  \n",
       "2                             5                           1  \n",
       "3                             4                           0  \n",
       "4                             0                           0  \n",
       "...                         ...                         ...  \n",
       "1269                          9                           1  \n",
       "1270                          0                           0  \n",
       "1271                          0                           0  \n",
       "1272                          0                           0  \n",
       "1273                          0                           1  \n",
       "\n",
       "[1274 rows x 12 columns]"
      ]
     },
     "metadata": {},
     "output_type": "display_data"
    }
   ],
   "source": [
    "display(dados)"
   ]
  },
  {
   "cell_type": "markdown",
   "metadata": {
    "id": "4HQPPsmZ8ktW"
   },
   "source": [
    "### Tratamento de valores ausentes nas variáveis explicativas\n",
    "##### Apesar de algoritmos baseados em árvores lidarem bem com valores ausentes por natureza, algumas implementações como o *AdaBoostClassifier* e o *GradientBoostingClassifier* requerem o preenchimento preliminar de valores ausentes para funcionarem. Com base em análise exploratória prévia, sugere-se categorizar as variáveis quantitativas que contiverem valores ausentes, mantendo uma categoria à parte 'Ausente'. Obs.: a imputação simples a partir da média ou mediana da variável não é uma boa escolha na maioria das situações."
   ]
  },
  {
   "cell_type": "code",
   "execution_count": 7,
   "metadata": {
    "id": "LHLOeoIf8ktW"
   },
   "outputs": [],
   "source": [
    "# Exemplo de criação de uma variável fictícia \"VAR_COM_MISSINGS_CAT\", a partir de uma variável original \"VAR_COM_MISSINGS\",\n",
    "# categorizada em decis (valores empatados permanecem em uma mesma categoria)\n",
    "# dados['VAR_COM_MISSINGS_CAT'] = pd.qcut(dados['VAR_COM_MISSINGS'].dropna(), 10, duplicates = \"drop\")"
   ]
  },
  {
   "cell_type": "code",
   "execution_count": 8,
   "metadata": {
    "id": "0gV-uF5xDThw"
   },
   "outputs": [],
   "source": [
    "# Tabela de frequências da variável tratada, com categoria apartada para valores ausentes\n",
    "# dados['VAR_COM_MISSINGS_CAT'].value_counts(dropna = False)"
   ]
  },
  {
   "cell_type": "markdown",
   "metadata": {
    "id": "l_uzP6tR6vYh"
   },
   "source": [
    "### Separação de features e target"
   ]
  },
  {
   "cell_type": "code",
   "execution_count": 9,
   "metadata": {
    "id": "N0aaJOKVis7L"
   },
   "outputs": [],
   "source": [
    "X = dados.drop(columns = ['FLAG_RECOMPRA_PROX_3_MESES', 'ID_CLIENTE']) # Remover variável target, variáveis chave, variáveis auxiliares ou que foram substituídas por variáveis já tratadas\n",
    "y = dados['FLAG_RECOMPRA_PROX_3_MESES'] # Variável target"
   ]
  },
  {
   "cell_type": "markdown",
   "metadata": {
    "id": "5IJj3_Nht8Ob"
   },
   "source": [
    "### Cópias das features e target\n",
    "##### Criação de cópias dos objetos X e y, para preservá-los em caso de redução da base de desenvolvimento do modelo"
   ]
  },
  {
   "cell_type": "code",
   "execution_count": 10,
   "metadata": {
    "id": "DaMAjLZgAvV1"
   },
   "outputs": [],
   "source": [
    "X_sample = X\n",
    "y_sample = y"
   ]
  },
  {
   "cell_type": "markdown",
   "metadata": {
    "id": "fpIJu1M-bXbF"
   },
   "source": [
    "### Balanceamento de base de dados (undersampling) e redução do tamanho da amostra, se necessário\n",
    "##### Caso haja forte desbalanceamento entre as frequências das categorias da variável *target*, o balanceamento pode ajudar a proporcionar maior taxa de acerto em categorias minoritárias. Caso a base de dados seja grande mesmo após undersampling, pode-se selecionar uma sub-amostra ainda menor, para acelerar o processamento."
   ]
  },
  {
   "cell_type": "code",
   "execution_count": 11,
   "metadata": {
    "colab": {
     "base_uri": "https://localhost:8080/",
     "height": 178
    },
    "executionInfo": {
     "elapsed": 9,
     "status": "ok",
     "timestamp": 1727668449650,
     "user": {
      "displayName": "A. C.",
      "userId": "00912246211498097173"
     },
     "user_tz": 180
    },
    "id": "kHXFtrUFbsFF",
    "outputId": "c464d9be-975f-4838-9d84-fc0939e970a4"
   },
   "outputs": [
    {
     "data": {
      "text/plain": [
       "1    671\n",
       "0    603\n",
       "Name: FLAG_RECOMPRA_PROX_3_MESES, dtype: int64"
      ]
     },
     "execution_count": 11,
     "metadata": {},
     "output_type": "execute_result"
    }
   ],
   "source": [
    "# Contagem de valores na variável resposta antes do balanceamento/redução\n",
    "y.value_counts()"
   ]
  },
  {
   "cell_type": "code",
   "execution_count": 12,
   "metadata": {
    "id": "ORpcJUc9bDXg"
   },
   "outputs": [],
   "source": [
    "# Balanceamento de base de dados via undersampling; caso seja necessário reduzir ainda mais o tamanho da amostra, escolha os tamanhos no argumento 'sampling_strategy'\n",
    "# rus = RandomUnderSampler(sampling_strategy = {0: 500, 1: 500}, random_state = 123)\n",
    "# X_sample, y_sample = rus.fit_resample(X_sample, y_sample)"
   ]
  },
  {
   "cell_type": "code",
   "execution_count": 13,
   "metadata": {
    "colab": {
     "base_uri": "https://localhost:8080/",
     "height": 178
    },
    "executionInfo": {
     "elapsed": 9,
     "status": "ok",
     "timestamp": 1727668449651,
     "user": {
      "displayName": "A. C.",
      "userId": "00912246211498097173"
     },
     "user_tz": 180
    },
    "id": "Fssy7ALDbIx-",
    "outputId": "64bd4a50-d118-4c8e-d78e-630233d3173e"
   },
   "outputs": [
    {
     "data": {
      "text/plain": [
       "1    671\n",
       "0    603\n",
       "Name: FLAG_RECOMPRA_PROX_3_MESES, dtype: int64"
      ]
     },
     "execution_count": 13,
     "metadata": {},
     "output_type": "execute_result"
    }
   ],
   "source": [
    "# Contagem de valores na variável resposta após o balanceamento/redução\n",
    "y_sample.value_counts()"
   ]
  },
  {
   "cell_type": "markdown",
   "metadata": {
    "id": "SMXYzJyzWmRW"
   },
   "source": [
    "### Pré-processamento de variáveis explicativas: padronização e criação de dummies\n",
    "##### Nesta etapa, pode-se **padronizar** as variáveis quantitativas (note que a padronização não é necessária para regressões ou modelos baseados em árvores) e deve-se **criar colunas dummies** para as variáveis qualitativas."
   ]
  },
  {
   "cell_type": "code",
   "execution_count": 14,
   "metadata": {
    "id": "34MXRRRcWmRc"
   },
   "outputs": [],
   "source": [
    "# Pré-processamento automático, com base nos tipos das variáveis\n",
    "pre_processamento = ColumnTransformer(\n",
    "    transformers = [\n",
    "        # ('num', StandardScaler(), make_column_selector(dtype_include = ['int64', 'float64'])),\n",
    "        ('cat', OneHotEncoder(drop = 'first'), make_column_selector(dtype_include = ['object', 'category']))\n",
    "    ],\n",
    "    remainder = 'passthrough')"
   ]
  },
  {
   "cell_type": "markdown",
   "metadata": {
    "id": "WfpxB1z5q4ID"
   },
   "source": [
    "### Lista de algoritmos e hiperparâmetros testados via *grid search*\n",
    "##### Execute a próxima célula apenas se quiser otimizar via *grid search*"
   ]
  },
  {
   "cell_type": "code",
   "execution_count": 15,
   "metadata": {
    "id": "YSURyVXnq4IE"
   },
   "outputs": [],
   "source": [
    "# Lista de algoritmos e hiperparâmetros testados (altere os valores conforme a necessidade)\n",
    "modelos = {\n",
    "    'REGRESSÃO LOGÍSTICA': (LogisticRegression(), {\n",
    "        'fit_intercept': [True]\n",
    "    }),\n",
    "    'ÁRVORE DE DECISÃO': (DecisionTreeClassifier(), {\n",
    "        'criterion': ['gini', 'entropy'],\n",
    "        'min_impurity_decrease': [0.0, 0.01, 0.05, 0.1],\n",
    "        'min_samples_leaf': [10, 20, 50, 100],\n",
    "        'max_depth': [2, 3, 5, 10]\n",
    "    }),\n",
    "    'FLORESTA ALEATÓRIA': (RandomForestClassifier(n_jobs = -1), {\n",
    "        'n_estimators': [10, 50, 100, 200],\n",
    "        'criterion': ['gini', 'entropy'],\n",
    "        'min_impurity_decrease': [0.0, 0.01, 0.05, 0.1],\n",
    "        'min_samples_leaf': [10, 20, 50, 100],\n",
    "        'max_depth': [2, 3, 5, 10]\n",
    "    }),\n",
    "    'ADABOOST': (AdaBoostClassifier(), {\n",
    "        'n_estimators': [10, 50, 100, 200],\n",
    "        'learning_rate': [0.01, 0.05, 0.1, 0.5]\n",
    "    }),\n",
    "    'GRADIENT BOOSTING': (GradientBoostingClassifier(), {\n",
    "        'n_estimators': [10, 50, 100, 200],\n",
    "        'learning_rate': [0.01, 0.05, 0.1, 0.5],\n",
    "        'max_depth': [2, 3, 5, 10],\n",
    "        'min_samples_leaf': [10, 20, 50, 100]\n",
    "    }),\n",
    "    'XGBOOST': (XGBClassifier(n_jobs = -1), {\n",
    "        'n_estimators': [10, 50, 100, 200],\n",
    "        'learning_rate': [0.01, 0.05, 0.1, 0.5],\n",
    "        'max_depth': [2, 3, 5, 10],\n",
    "        'min_child_weight': [1, 3, 5, 10],\n",
    "        'gamma': [0, 0.1, 0.5, 1]\n",
    "    }),\n",
    "    'LIGHTGBM': (LGBMClassifier(verbose = -1, n_jobs = -1), {\n",
    "        'n_estimators': [10, 50, 100, 200],\n",
    "        'learning_rate': [0.01, 0.05, 0.1, 0.5],\n",
    "        'max_depth': [2, 3, 5, 10],\n",
    "        'min_data_in_leaf': [10, 20, 50, 100]\n",
    "    })\n",
    "}"
   ]
  },
  {
   "cell_type": "markdown",
   "metadata": {
    "id": "8gvIE8b_p2ar"
   },
   "source": [
    "### Lista de algoritmos e hiperparâmetros testados via *random search*\n",
    "##### Execute a próxima célula apenas se quiser otimizar via *random search*"
   ]
  },
  {
   "cell_type": "code",
   "execution_count": 16,
   "metadata": {
    "id": "rsbwpR8ap2as"
   },
   "outputs": [],
   "source": [
    "# Lista de algoritmos e hiperparâmetros testados (altere os valores conforme a necessidade)\n",
    "modelos = {\n",
    "    'REGRESSÃO LOGÍSTICA': (LogisticRegression(), {\n",
    "        'fit_intercept': [True]\n",
    "    }),\n",
    "    'ÁRVORE DE DECISÃO': (DecisionTreeClassifier(), {\n",
    "        'criterion': ['gini', 'entropy'],\n",
    "        'min_impurity_decrease': np.arange(0, 0.11, 0.01),\n",
    "        'min_samples_leaf': np.arange(10, 101),\n",
    "        'max_depth': np.arange(2, 11)\n",
    "    }),\n",
    "    'FLORESTA ALEATÓRIA': (RandomForestClassifier(n_jobs = -1), {\n",
    "        'n_estimators': np.arange(10, 201, 10),\n",
    "        'criterion': ['gini', 'entropy'],\n",
    "        'min_impurity_decrease': np.arange(0, 0.11, 0.01),\n",
    "        'min_samples_leaf': np.arange(10, 101),\n",
    "        'max_depth': np.arange(2, 11)\n",
    "    }),\n",
    "    'ADABOOST': (AdaBoostClassifier(), {\n",
    "        'n_estimators': np.arange(10, 201, 10),\n",
    "        'learning_rate': np.arange(0.01, 0.51, 0.01)\n",
    "    }),\n",
    "    'GRADIENT BOOSTING': (GradientBoostingClassifier(), {\n",
    "        'n_estimators': np.arange(10, 201, 10),\n",
    "        'learning_rate': np.arange(0.01, 0.51, 0.01),\n",
    "        'max_depth': np.arange(2, 11),\n",
    "        'min_samples_leaf': np.arange(10, 101)\n",
    "    }),\n",
    "    'XGBOOST': (XGBClassifier(n_jobs = -1), {\n",
    "        'n_estimators': np.arange(10, 201, 10),\n",
    "        'learning_rate': np.arange(0.01, 0.51, 0.01),\n",
    "        'max_depth': np.arange(2, 11),\n",
    "        'min_child_weight': np.arange(1, 11),\n",
    "        'gamma': np.arange(0, 1.1, 0.1)\n",
    "    }),\n",
    "    'LIGHTGBM': (LGBMClassifier(verbose = -1, n_jobs = -1), {\n",
    "        'n_estimators': np.arange(10, 201, 10),\n",
    "        'learning_rate': np.arange(0.01, 0.51, 0.01),\n",
    "        'max_depth': np.arange(2, 11),\n",
    "        'min_data_in_leaf': np.arange(10, 101)\n",
    "    })\n",
    "}"
   ]
  },
  {
   "cell_type": "markdown",
   "metadata": {
    "id": "y0HEylihrNgE"
   },
   "source": [
    "### Estimativa de desempenho por meio de validação cruzada aninhada"
   ]
  },
  {
   "cell_type": "code",
   "execution_count": 17,
   "metadata": {
    "id": "WTdvjU-jxjCv"
   },
   "outputs": [],
   "source": [
    "# Aplicação do pré-processamento\n",
    "X_transformed = pre_processamento.fit_transform(X)\n",
    "X_sample_transformed = X_transformed[X_sample.index]"
   ]
  },
  {
   "cell_type": "code",
   "execution_count": 18,
   "metadata": {
    "id": "ern5-3UgFPfP"
   },
   "outputs": [],
   "source": [
    "# Auxiliares para armazenamento do melhor modelo\n",
    "melhor_algoritmo = \"\"\n",
    "melhor_modelo = None\n",
    "melhor_score = float('-inf')"
   ]
  },
  {
   "cell_type": "code",
   "execution_count": 19,
   "metadata": {
    "id": "cmM5U6lCFPlt"
   },
   "outputs": [],
   "source": [
    "# Quantidade de folds nas camadas interna e externa (substitua KFold por StratifiedKFold se necessário)\n",
    "inner_cv = KFold(n_splits = 3, shuffle = True, random_state = 123)\n",
    "outer_cv = KFold(n_splits = 5, shuffle = True, random_state = 123)"
   ]
  },
  {
   "cell_type": "code",
   "execution_count": 20,
   "metadata": {
    "colab": {
     "base_uri": "https://localhost:8080/"
    },
    "executionInfo": {
     "elapsed": 685405,
     "status": "ok",
     "timestamp": 1727669135048,
     "user": {
      "displayName": "A. C.",
      "userId": "00912246211498097173"
     },
     "user_tz": 180
    },
    "id": "xUxTUI35rVMp",
    "outputId": "59464c5a-6f35-44f9-fc0d-d3ec63fa2e8a"
   },
   "outputs": [
    {
     "name": "stdout",
     "output_type": "stream",
     "text": [
      "--- REGRESSÃO LOGÍSTICA ---\n",
      "Média de AUC: 0.856\n",
      "D.P. de AUC: 0.019\n",
      "Média de Acurácia Balanceada: 0.777\n",
      "D.P. de Acurácia Balanceada: 0.017\n",
      "Média de Sensibilidade: 0.799\n",
      "D.P. de Sensibilidade: 0.027\n",
      "\n",
      "--- ÁRVORE DE DECISÃO ---\n",
      "Média de AUC: 0.882\n",
      "D.P. de AUC: 0.021\n",
      "Média de Acurácia Balanceada: 0.809\n",
      "D.P. de Acurácia Balanceada: 0.025\n",
      "Média de Sensibilidade: 0.825\n",
      "D.P. de Sensibilidade: 0.038\n",
      "\n",
      "--- FLORESTA ALEATÓRIA ---\n",
      "Média de AUC: 0.902\n",
      "D.P. de AUC: 0.015\n",
      "Média de Acurácia Balanceada: 0.827\n",
      "D.P. de Acurácia Balanceada: 0.015\n",
      "Média de Sensibilidade: 0.867\n",
      "D.P. de Sensibilidade: 0.027\n",
      "\n",
      "--- ADABOOST ---\n",
      "Média de AUC: 0.897\n",
      "D.P. de AUC: 0.013\n",
      "Média de Acurácia Balanceada: 0.819\n",
      "D.P. de Acurácia Balanceada: 0.014\n",
      "Média de Sensibilidade: 0.891\n",
      "D.P. de Sensibilidade: 0.035\n",
      "\n",
      "--- GRADIENT BOOSTING ---\n",
      "Média de AUC: 0.905\n",
      "D.P. de AUC: 0.013\n",
      "Média de Acurácia Balanceada: 0.825\n",
      "D.P. de Acurácia Balanceada: 0.019\n",
      "Média de Sensibilidade: 0.863\n",
      "D.P. de Sensibilidade: 0.029\n",
      "\n",
      "--- XGBOOST ---\n",
      "Média de AUC: 0.906\n",
      "D.P. de AUC: 0.012\n",
      "Média de Acurácia Balanceada: 0.828\n",
      "D.P. de Acurácia Balanceada: 0.019\n",
      "Média de Sensibilidade: 0.869\n",
      "D.P. de Sensibilidade: 0.015\n",
      "\n",
      "--- LIGHTGBM ---\n",
      "Média de AUC: 0.906\n",
      "D.P. de AUC: 0.013\n",
      "Média de Acurácia Balanceada: 0.833\n",
      "D.P. de Acurácia Balanceada: 0.017\n",
      "Média de Sensibilidade: 0.874\n",
      "D.P. de Sensibilidade: 0.028\n",
      "\n",
      "O melhor algoritmo é LIGHTGBM, para os valores de hiperparâmetros testados.\n"
     ]
    }
   ],
   "source": [
    "# Avaliação de modelos por validação cruzada aninhada\n",
    "for nome, (algoritmo, parametros) in modelos.items():\n",
    "\n",
    "  # Métricas de interesse\n",
    "  scoring = {'AUC': 'roc_auc', 'balanced_accuracy': 'balanced_accuracy', 'recall': 'recall'}\n",
    "\n",
    "  # Escolha entre grid search ou random search. No random search, altere a métrica que deseja otimizar em 'refit' e a quantidade de iterações, se for necessário\n",
    "  # grid_search = GridSearchCV(algoritmo, parametros, cv = inner_cv, scoring = scoring, refit = 'AUC', n_jobs = -1)\n",
    "  random_search = RandomizedSearchCV(algoritmo, parametros, cv = inner_cv, scoring = scoring, refit = 'AUC', n_iter = 50, random_state = 123, n_jobs = -1)\n",
    "  nested_scores = cross_validate(random_search, X = X_sample_transformed, y = y_sample, cv = outer_cv, scoring = scoring, n_jobs = -1)\n",
    "\n",
    "  # Verificando se o modelo atual é o melhor\n",
    "  if np.mean(nested_scores['test_AUC']) > melhor_score:\n",
    "      melhor_algoritmo = nome\n",
    "      melhor_modelo = random_search\n",
    "      melhor_score = np.mean(nested_scores['test_AUC'])\n",
    "\n",
    "  # Resultados\n",
    "  # Observação: os cálculos de acurácia balanceada e sensibilidade consideram ponto de corte = 0,50 por padrão; logo, só devem ser considerados para bases balanceadas\n",
    "  print(f'--- {nome} ---')\n",
    "  print(\"Média de AUC: \" + str(round(np.mean(nested_scores['test_AUC']), 3)))\n",
    "  print(\"D.P. de AUC: \" + str(round(np.std(nested_scores['test_AUC']), 3)))\n",
    "  print(\"Média de Acurácia Balanceada: \" + str(round(np.mean(nested_scores['test_balanced_accuracy']), 3)))\n",
    "  print(\"D.P. de Acurácia Balanceada: \" + str(round(np.std(nested_scores['test_balanced_accuracy']), 3)))\n",
    "  print(\"Média de Sensibilidade: \" + str(round(np.mean(nested_scores['test_recall']), 3)))\n",
    "  print(\"D.P. de Sensibilidade: \" + str(round(np.std(nested_scores['test_recall']), 3)))\n",
    "  print(\"\")\n",
    "\n",
    "print(f\"O melhor algoritmo é {melhor_algoritmo}, para os valores de hiperparâmetros testados.\")"
   ]
  },
  {
   "cell_type": "markdown",
   "metadata": {
    "id": "5DXaw8zI6LfS"
   },
   "source": [
    "### Ajuste de modelo final na base de desenvolvimento, usando validação cruzada\n",
    "\n"
   ]
  },
  {
   "cell_type": "code",
   "execution_count": 21,
   "metadata": {
    "id": "b3jCpmmT6K2D"
   },
   "outputs": [],
   "source": [
    "# Quantidade de folds (substitua KFold por StratifiedKFold se necessário)\n",
    "cv = KFold(n_splits = 10, shuffle = True, random_state = 123)"
   ]
  },
  {
   "cell_type": "code",
   "execution_count": 22,
   "metadata": {
    "id": "RE7wrbqcFr7U"
   },
   "outputs": [],
   "source": [
    "# Métricas de interesse\n",
    "scoring = {'AUC': 'roc_auc', 'balanced_accuracy': 'balanced_accuracy', 'recall': 'recall'}"
   ]
  },
  {
   "cell_type": "code",
   "execution_count": 23,
   "metadata": {
    "colab": {
     "base_uri": "https://localhost:8080/"
    },
    "executionInfo": {
     "elapsed": 259018,
     "status": "ok",
     "timestamp": 1727669394061,
     "user": {
      "displayName": "A. C.",
      "userId": "00912246211498097173"
     },
     "user_tz": 180
    },
    "id": "sMkdSeZ4Fr-A",
    "outputId": "e123e573-0dfe-4b04-89b4-333f672b022f"
   },
   "outputs": [
    {
     "name": "stdout",
     "output_type": "stream",
     "text": [
      "Melhores hiperparâmetros para LIGHTGBM: {'n_estimators': 20, 'min_data_in_leaf': 64, 'max_depth': 7, 'learning_rate': 0.24000000000000002}\n"
     ]
    }
   ],
   "source": [
    "# Escolha entre grid search ou random search. No random search, altere a métrica que deseja otimizar em 'refit' e a quantidade de iterações, se for necessário\n",
    "# modelo_final = GridSearchCV(melhor_modelo.estimator, modelos[melhor_algoritmo][1], cv = cv, scoring = scoring, refit = 'AUC', n_jobs = -1)\n",
    "modelo_final = RandomizedSearchCV(melhor_modelo.estimator, modelos[melhor_algoritmo][1], cv = cv, scoring = scoring, refit = 'AUC', n_iter = 50, random_state = 123, n_jobs = -1)\n",
    "modelo_final.fit(X_sample_transformed, y_sample)\n",
    "\n",
    "print(f\"Melhores hiperparâmetros para {melhor_algoritmo}: {modelo_final.best_params_}\")"
   ]
  },
  {
   "cell_type": "markdown",
   "metadata": {
    "id": "GqBbRgTcGxMz"
   },
   "source": [
    "### Importância das features do modelo final"
   ]
  },
  {
   "cell_type": "code",
   "execution_count": 24,
   "metadata": {
    "id": "gFEHik4Dbiy7"
   },
   "outputs": [],
   "source": [
    "# Auxiliar: nomes das features após pré-processamento\n",
    "features_qualitativas = X_sample.select_dtypes(include = ['object', 'category']).columns\n",
    "features_qualitativas = pre_processamento.named_transformers_['cat'].get_feature_names_out(features_qualitativas) if not features_qualitativas.empty else features_qualitativas\n",
    "features_quantitativas = X_sample.select_dtypes(include = ['int64', 'float64']).columns\n",
    "features = list(features_qualitativas) + list(features_quantitativas)"
   ]
  },
  {
   "cell_type": "code",
   "execution_count": 36,
   "metadata": {
    "tags": []
   },
   "outputs": [
    {
     "data": {
      "text/plain": [
       "array([ 50, 104,  15,  14,   0,  10,  37,  19,   4,  21])"
      ]
     },
     "execution_count": 36,
     "metadata": {},
     "output_type": "execute_result"
    }
   ],
   "source": [
    "importancias"
   ]
  },
  {
   "cell_type": "code",
   "execution_count": 25,
   "metadata": {
    "id": "VZn2trUzG48Q"
   },
   "outputs": [],
   "source": [
    "# Cálculo de medida de importância de Gini\n",
    "importancias = modelo_final.best_estimator_.feature_importances_"
   ]
  },
  {
   "cell_type": "code",
   "execution_count": 26,
   "metadata": {
    "colab": {
     "base_uri": "https://localhost:8080/",
     "height": 522
    },
    "executionInfo": {
     "elapsed": 548,
     "status": "ok",
     "timestamp": 1727669394606,
     "user": {
      "displayName": "A. C.",
      "userId": "00912246211498097173"
     },
     "user_tz": 180
    },
    "id": "XCXFhDdPfb4b",
    "outputId": "050ab03d-d772-4c67-d02e-ffc49e1e4864"
   },
   "outputs": [
    {
     "data": {
      "image/png": "[encoded data removed]",
      "text/plain": [
       "<Figure size 800x600 with 1 Axes>"
      ]
     },
     "metadata": {},
     "output_type": "display_data"
    }
   ],
   "source": [
    "# Gráfico das importâncias de Gini\n",
    "df_importancias = pd.DataFrame({'Feature': features, 'Importancia': importancias}).sort_values(by = 'Importancia', ascending = True)\n",
    "df_importancias.plot.barh(x = 'Feature', y = 'Importancia', figsize = (8, 6))\n",
    "plt.show()"
   ]
  },
  {
   "cell_type": "code",
   "execution_count": 27,
   "metadata": {
    "id": "Qc1iaw9jfii7"
   },
   "outputs": [],
   "source": [
    "# Cálculo de valores SHAP para as observações\n",
    "explainer = shap.Explainer(modelo_final.best_estimator_)\n",
    "valores_shap = explainer(X_sample_transformed)"
   ]
  },
  {
   "cell_type": "code",
   "execution_count": 28,
   "metadata": {
    "colab": {
     "base_uri": "https://localhost:8080/",
     "height": 585
    },
    "executionInfo": {
     "elapsed": 682,
     "status": "ok",
     "timestamp": 1727669395286,
     "user": {
      "displayName": "A. C.",
      "userId": "00912246211498097173"
     },
     "user_tz": 180
    },
    "id": "ohbGuDGwfwcG",
    "outputId": "1d9d9c0b-38d5-411a-bec7-3ef1767b724e"
   },
   "outputs": [
    {
     "data": {
      "image/png": "[encoded data removed]",
      "text/plain": [
       "<Figure size 800x650 with 1 Axes>"
      ]
     },
     "metadata": {},
     "output_type": "display_data"
    }
   ],
   "source": [
    "# Gráfico do SHAP absoluto médio por feature\n",
    "if melhor_algoritmo == 'ÁRVORE DE DECISÃO' or melhor_algoritmo == 'FLORESTA ALEATÓRIA':\n",
    "  shap.plots.bar(shap.Explanation(values = valores_shap[:,:,0], feature_names = features))\n",
    "else:\n",
    "  shap.plots.bar(shap.Explanation(values = valores_shap, feature_names = features))"
   ]
  },
  {
   "cell_type": "code",
   "execution_count": 29,
   "metadata": {
    "colab": {
     "base_uri": "https://localhost:8080/",
     "height": 557
    },
    "executionInfo": {
     "elapsed": 1857,
     "status": "ok",
     "timestamp": 1727669397140,
     "user": {
      "displayName": "A. C.",
      "userId": "00912246211498097173"
     },
     "user_tz": 180
    },
    "id": "-OMRqv1Qfx64",
    "outputId": "b5026d32-293e-45a0-ed73-8e5cf915240e"
   },
   "outputs": [
    {
     "data": {
      "image/png": "[encoded data removed]",
      "text/plain": [
       "<Figure size 800x550 with 2 Axes>"
      ]
     },
     "metadata": {},
     "output_type": "display_data"
    }
   ],
   "source": [
    "# Gráfico de distribuição de valores SHAP por feature: \"enxame de abelhas\" (beeswarm plot)\n",
    "if melhor_algoritmo == 'ÁRVORE DE DECISÃO' or melhor_algoritmo == 'FLORESTA ALEATÓRIA':\n",
    "  shap.summary_plot(shap.Explanation(values = valores_shap[:,:,0], feature_names = features))\n",
    "else:\n",
    "  shap.summary_plot(shap.Explanation(values = valores_shap, feature_names = features))"
   ]
  },
  {
   "cell_type": "markdown",
   "metadata": {
    "id": "FZGZPj9DGPof",
    "tags": []
   },
   "source": [
    "### Aplicação de modelo final na base completa (caso tenha havido redução da base para a modelagem)\n",
    "\n"
   ]
  },
  {
   "cell_type": "code",
   "execution_count": 30,
   "metadata": {
    "id": "NT-86r1vGPof"
   },
   "outputs": [],
   "source": [
    "# Aplicação do modelo (cálculo das probabilidades preditas)\n",
    "y_prob = modelo_final.best_estimator_.predict_proba(X_transformed)[:,1]"
   ]
  },
  {
   "cell_type": "code",
   "execution_count": 31,
   "metadata": {
    "id": "Gdi41VxmGPog"
   },
   "outputs": [],
   "source": [
    "# Definição de ponto de corte\n",
    "ponto_corte = y_sample.astype(int).mean()"
   ]
  },
  {
   "cell_type": "code",
   "execution_count": 32,
   "metadata": {
    "id": "sShQnSCbilkO"
   },
   "outputs": [],
   "source": [
    "# Atribuição da categoria predita\n",
    "dados['y_pred'] = (y_prob >= ponto_corte).astype(int)"
   ]
  },
  {
   "cell_type": "code",
   "execution_count": 33,
   "metadata": {
    "colab": {
     "base_uri": "https://localhost:8080/",
     "height": 143
    },
    "executionInfo": {
     "elapsed": 15,
     "status": "ok",
     "timestamp": 1727669397140,
     "user": {
      "displayName": "A. C.",
      "userId": "00912246211498097173"
     },
     "user_tz": 180
    },
    "id": "lOlV9WHsisqF",
    "outputId": "64a37f74-b59c-4dc9-9081-11bee579af2f"
   },
   "outputs": [
    {
     "data": {
      "text/html": [
       "<div>\n",
       "<style scoped>\n",
       "    .dataframe tbody tr th:only-of-type {\n",
       "        vertical-align: middle;\n",
       "    }\n",
       "\n",
       "    .dataframe tbody tr th {\n",
       "        vertical-align: top;\n",
       "    }\n",
       "\n",
       "    .dataframe thead th {\n",
       "        text-align: right;\n",
       "    }\n",
       "</style>\n",
       "<table border=\"1\" class=\"dataframe\">\n",
       "  <thead>\n",
       "    <tr style=\"text-align: right;\">\n",
       "      <th>y_pred</th>\n",
       "      <th>0</th>\n",
       "      <th>1</th>\n",
       "    </tr>\n",
       "    <tr>\n",
       "      <th>FLAG_RECOMPRA_PROX_3_MESES</th>\n",
       "      <th></th>\n",
       "      <th></th>\n",
       "    </tr>\n",
       "  </thead>\n",
       "  <tbody>\n",
       "    <tr>\n",
       "      <th>0</th>\n",
       "      <td>510</td>\n",
       "      <td>93</td>\n",
       "    </tr>\n",
       "    <tr>\n",
       "      <th>1</th>\n",
       "      <td>83</td>\n",
       "      <td>588</td>\n",
       "    </tr>\n",
       "  </tbody>\n",
       "</table>\n",
       "</div>"
      ],
      "text/plain": [
       "y_pred                        0    1\n",
       "FLAG_RECOMPRA_PROX_3_MESES          \n",
       "0                           510   93\n",
       "1                            83  588"
      ]
     },
     "execution_count": 33,
     "metadata": {},
     "output_type": "execute_result"
    }
   ],
   "source": [
    "# Tabela de classificação: real vs. predito (frequências absolutas)\n",
    "pd.crosstab(y, dados['y_pred'])"
   ]
  },
  {
   "cell_type": "code",
   "execution_count": 34,
   "metadata": {
    "colab": {
     "base_uri": "https://localhost:8080/",
     "height": 143
    },
    "executionInfo": {
     "elapsed": 14,
     "status": "ok",
     "timestamp": 1727669397140,
     "user": {
      "displayName": "A. C.",
      "userId": "00912246211498097173"
     },
     "user_tz": 180
    },
    "id": "8B6pHo9jjEh2",
    "outputId": "d865f5c0-c455-40e3-f35b-8cf8825fa5ee"
   },
   "outputs": [
    {
     "data": {
      "text/html": [
       "<div>\n",
       "<style scoped>\n",
       "    .dataframe tbody tr th:only-of-type {\n",
       "        vertical-align: middle;\n",
       "    }\n",
       "\n",
       "    .dataframe tbody tr th {\n",
       "        vertical-align: top;\n",
       "    }\n",
       "\n",
       "    .dataframe thead th {\n",
       "        text-align: right;\n",
       "    }\n",
       "</style>\n",
       "<table border=\"1\" class=\"dataframe\">\n",
       "  <thead>\n",
       "    <tr style=\"text-align: right;\">\n",
       "      <th>y_pred</th>\n",
       "      <th>0</th>\n",
       "      <th>1</th>\n",
       "    </tr>\n",
       "    <tr>\n",
       "      <th>FLAG_RECOMPRA_PROX_3_MESES</th>\n",
       "      <th></th>\n",
       "      <th></th>\n",
       "    </tr>\n",
       "  </thead>\n",
       "  <tbody>\n",
       "    <tr>\n",
       "      <th>0</th>\n",
       "      <td>84.6</td>\n",
       "      <td>15.4</td>\n",
       "    </tr>\n",
       "    <tr>\n",
       "      <th>1</th>\n",
       "      <td>12.4</td>\n",
       "      <td>87.6</td>\n",
       "    </tr>\n",
       "  </tbody>\n",
       "</table>\n",
       "</div>"
      ],
      "text/plain": [
       "y_pred                         0     1\n",
       "FLAG_RECOMPRA_PROX_3_MESES            \n",
       "0                           84.6  15.4\n",
       "1                           12.4  87.6"
      ]
     },
     "execution_count": 34,
     "metadata": {},
     "output_type": "execute_result"
    }
   ],
   "source": [
    "# Tabela de classificação: real vs. predito (frequências relativas)\n",
    "pd.crosstab(y, dados['y_pred'], normalize = 'index').round(3) * 100"
   ]
  },
  {
   "cell_type": "markdown",
   "metadata": {
    "id": "LJUk__OGF7Eo"
   },
   "source": [
    "### Aplicação de modelo final em outra base (por exemplo, para validação out of time)"
   ]
  },
  {
   "cell_type": "code",
   "execution_count": 35,
   "metadata": {
    "id": "69cvG-oUF47q"
   },
   "outputs": [
    {
     "ename": "FileNotFoundError",
     "evalue": "[Errno 2] No such file or directory: 'Recompra_eCommerce.txt'",
     "output_type": "error",
     "traceback": [
      "\u001b[1;31m---------------------------------------------------------------------------\u001b[0m",
      "\u001b[1;31mFileNotFoundError\u001b[0m                         Traceback (most recent call last)",
      "Cell \u001b[1;32mIn[35], line 2\u001b[0m\n\u001b[0;32m      1\u001b[0m \u001b[38;5;66;03m# Leitura da nova base de dados (altere os separadores de coluna e de decimal, conforme a necessidade)\u001b[39;00m\n\u001b[1;32m----> 2\u001b[0m novos_dados \u001b[38;5;241m=\u001b[39m pd\u001b[38;5;241m.\u001b[39mread_table(\u001b[38;5;124m\"\u001b[39m\u001b[38;5;124mRecompra_eCommerce.txt\u001b[39m\u001b[38;5;124m\"\u001b[39m,\n\u001b[0;32m      3\u001b[0m                             decimal \u001b[38;5;241m=\u001b[39m \u001b[38;5;124m\"\u001b[39m\u001b[38;5;124m.\u001b[39m\u001b[38;5;124m\"\u001b[39m,\n\u001b[0;32m      4\u001b[0m                             sep \u001b[38;5;241m=\u001b[39m \u001b[38;5;124m\"\u001b[39m\u001b[38;5;130;01m\\t\u001b[39;00m\u001b[38;5;124m\"\u001b[39m)\n",
      "File \u001b[1;32m~\\anaconda3\\Lib\\site-packages\\pandas\\util\\_decorators.py:211\u001b[0m, in \u001b[0;36mdeprecate_kwarg.<locals>._deprecate_kwarg.<locals>.wrapper\u001b[1;34m(*args, **kwargs)\u001b[0m\n\u001b[0;32m    209\u001b[0m     \u001b[38;5;28;01melse\u001b[39;00m:\n\u001b[0;32m    210\u001b[0m         kwargs[new_arg_name] \u001b[38;5;241m=\u001b[39m new_arg_value\n\u001b[1;32m--> 211\u001b[0m \u001b[38;5;28;01mreturn\u001b[39;00m func(\u001b[38;5;241m*\u001b[39margs, \u001b[38;5;241m*\u001b[39m\u001b[38;5;241m*\u001b[39mkwargs)\n",
      "File \u001b[1;32m~\\anaconda3\\Lib\\site-packages\\pandas\\util\\_decorators.py:331\u001b[0m, in \u001b[0;36mdeprecate_nonkeyword_arguments.<locals>.decorate.<locals>.wrapper\u001b[1;34m(*args, **kwargs)\u001b[0m\n\u001b[0;32m    325\u001b[0m \u001b[38;5;28;01mif\u001b[39;00m \u001b[38;5;28mlen\u001b[39m(args) \u001b[38;5;241m>\u001b[39m num_allow_args:\n\u001b[0;32m    326\u001b[0m     warnings\u001b[38;5;241m.\u001b[39mwarn(\n\u001b[0;32m    327\u001b[0m         msg\u001b[38;5;241m.\u001b[39mformat(arguments\u001b[38;5;241m=\u001b[39m_format_argument_list(allow_args)),\n\u001b[0;32m    328\u001b[0m         \u001b[38;5;167;01mFutureWarning\u001b[39;00m,\n\u001b[0;32m    329\u001b[0m         stacklevel\u001b[38;5;241m=\u001b[39mfind_stack_level(),\n\u001b[0;32m    330\u001b[0m     )\n\u001b[1;32m--> 331\u001b[0m \u001b[38;5;28;01mreturn\u001b[39;00m func(\u001b[38;5;241m*\u001b[39margs, \u001b[38;5;241m*\u001b[39m\u001b[38;5;241m*\u001b[39mkwargs)\n",
      "File \u001b[1;32m~\\anaconda3\\Lib\\site-packages\\pandas\\io\\parsers\\readers.py:1289\u001b[0m, in \u001b[0;36mread_table\u001b[1;34m(filepath_or_buffer, sep, delimiter, header, names, index_col, usecols, squeeze, prefix, mangle_dupe_cols, dtype, engine, converters, true_values, false_values, skipinitialspace, skiprows, skipfooter, nrows, na_values, keep_default_na, na_filter, verbose, skip_blank_lines, parse_dates, infer_datetime_format, keep_date_col, date_parser, dayfirst, cache_dates, iterator, chunksize, compression, thousands, decimal, lineterminator, quotechar, quoting, doublequote, escapechar, comment, encoding, encoding_errors, dialect, error_bad_lines, warn_bad_lines, on_bad_lines, delim_whitespace, low_memory, memory_map, float_precision, storage_options)\u001b[0m\n\u001b[0;32m   1274\u001b[0m kwds_defaults \u001b[38;5;241m=\u001b[39m _refine_defaults_read(\n\u001b[0;32m   1275\u001b[0m     dialect,\n\u001b[0;32m   1276\u001b[0m     delimiter,\n\u001b[1;32m   (...)\u001b[0m\n\u001b[0;32m   1285\u001b[0m     defaults\u001b[38;5;241m=\u001b[39m{\u001b[38;5;124m\"\u001b[39m\u001b[38;5;124mdelimiter\u001b[39m\u001b[38;5;124m\"\u001b[39m: \u001b[38;5;124m\"\u001b[39m\u001b[38;5;130;01m\\t\u001b[39;00m\u001b[38;5;124m\"\u001b[39m},\n\u001b[0;32m   1286\u001b[0m )\n\u001b[0;32m   1287\u001b[0m kwds\u001b[38;5;241m.\u001b[39mupdate(kwds_defaults)\n\u001b[1;32m-> 1289\u001b[0m \u001b[38;5;28;01mreturn\u001b[39;00m _read(filepath_or_buffer, kwds)\n",
      "File \u001b[1;32m~\\anaconda3\\Lib\\site-packages\\pandas\\io\\parsers\\readers.py:605\u001b[0m, in \u001b[0;36m_read\u001b[1;34m(filepath_or_buffer, kwds)\u001b[0m\n\u001b[0;32m    602\u001b[0m _validate_names(kwds\u001b[38;5;241m.\u001b[39mget(\u001b[38;5;124m\"\u001b[39m\u001b[38;5;124mnames\u001b[39m\u001b[38;5;124m\"\u001b[39m, \u001b[38;5;28;01mNone\u001b[39;00m))\n\u001b[0;32m    604\u001b[0m \u001b[38;5;66;03m# Create the parser.\u001b[39;00m\n\u001b[1;32m--> 605\u001b[0m parser \u001b[38;5;241m=\u001b[39m TextFileReader(filepath_or_buffer, \u001b[38;5;241m*\u001b[39m\u001b[38;5;241m*\u001b[39mkwds)\n\u001b[0;32m    607\u001b[0m \u001b[38;5;28;01mif\u001b[39;00m chunksize \u001b[38;5;129;01mor\u001b[39;00m iterator:\n\u001b[0;32m    608\u001b[0m     \u001b[38;5;28;01mreturn\u001b[39;00m parser\n",
      "File \u001b[1;32m~\\anaconda3\\Lib\\site-packages\\pandas\\io\\parsers\\readers.py:1442\u001b[0m, in \u001b[0;36mTextFileReader.__init__\u001b[1;34m(self, f, engine, **kwds)\u001b[0m\n\u001b[0;32m   1439\u001b[0m     \u001b[38;5;28mself\u001b[39m\u001b[38;5;241m.\u001b[39moptions[\u001b[38;5;124m\"\u001b[39m\u001b[38;5;124mhas_index_names\u001b[39m\u001b[38;5;124m\"\u001b[39m] \u001b[38;5;241m=\u001b[39m kwds[\u001b[38;5;124m\"\u001b[39m\u001b[38;5;124mhas_index_names\u001b[39m\u001b[38;5;124m\"\u001b[39m]\n\u001b[0;32m   1441\u001b[0m \u001b[38;5;28mself\u001b[39m\u001b[38;5;241m.\u001b[39mhandles: IOHandles \u001b[38;5;241m|\u001b[39m \u001b[38;5;28;01mNone\u001b[39;00m \u001b[38;5;241m=\u001b[39m \u001b[38;5;28;01mNone\u001b[39;00m\n\u001b[1;32m-> 1442\u001b[0m \u001b[38;5;28mself\u001b[39m\u001b[38;5;241m.\u001b[39m_engine \u001b[38;5;241m=\u001b[39m \u001b[38;5;28mself\u001b[39m\u001b[38;5;241m.\u001b[39m_make_engine(f, \u001b[38;5;28mself\u001b[39m\u001b[38;5;241m.\u001b[39mengine)\n",
      "File \u001b[1;32m~\\anaconda3\\Lib\\site-packages\\pandas\\io\\parsers\\readers.py:1735\u001b[0m, in \u001b[0;36mTextFileReader._make_engine\u001b[1;34m(self, f, engine)\u001b[0m\n\u001b[0;32m   1733\u001b[0m     \u001b[38;5;28;01mif\u001b[39;00m \u001b[38;5;124m\"\u001b[39m\u001b[38;5;124mb\u001b[39m\u001b[38;5;124m\"\u001b[39m \u001b[38;5;129;01mnot\u001b[39;00m \u001b[38;5;129;01min\u001b[39;00m mode:\n\u001b[0;32m   1734\u001b[0m         mode \u001b[38;5;241m+\u001b[39m\u001b[38;5;241m=\u001b[39m \u001b[38;5;124m\"\u001b[39m\u001b[38;5;124mb\u001b[39m\u001b[38;5;124m\"\u001b[39m\n\u001b[1;32m-> 1735\u001b[0m \u001b[38;5;28mself\u001b[39m\u001b[38;5;241m.\u001b[39mhandles \u001b[38;5;241m=\u001b[39m get_handle(\n\u001b[0;32m   1736\u001b[0m     f,\n\u001b[0;32m   1737\u001b[0m     mode,\n\u001b[0;32m   1738\u001b[0m     encoding\u001b[38;5;241m=\u001b[39m\u001b[38;5;28mself\u001b[39m\u001b[38;5;241m.\u001b[39moptions\u001b[38;5;241m.\u001b[39mget(\u001b[38;5;124m\"\u001b[39m\u001b[38;5;124mencoding\u001b[39m\u001b[38;5;124m\"\u001b[39m, \u001b[38;5;28;01mNone\u001b[39;00m),\n\u001b[0;32m   1739\u001b[0m     compression\u001b[38;5;241m=\u001b[39m\u001b[38;5;28mself\u001b[39m\u001b[38;5;241m.\u001b[39moptions\u001b[38;5;241m.\u001b[39mget(\u001b[38;5;124m\"\u001b[39m\u001b[38;5;124mcompression\u001b[39m\u001b[38;5;124m\"\u001b[39m, \u001b[38;5;28;01mNone\u001b[39;00m),\n\u001b[0;32m   1740\u001b[0m     memory_map\u001b[38;5;241m=\u001b[39m\u001b[38;5;28mself\u001b[39m\u001b[38;5;241m.\u001b[39moptions\u001b[38;5;241m.\u001b[39mget(\u001b[38;5;124m\"\u001b[39m\u001b[38;5;124mmemory_map\u001b[39m\u001b[38;5;124m\"\u001b[39m, \u001b[38;5;28;01mFalse\u001b[39;00m),\n\u001b[0;32m   1741\u001b[0m     is_text\u001b[38;5;241m=\u001b[39mis_text,\n\u001b[0;32m   1742\u001b[0m     errors\u001b[38;5;241m=\u001b[39m\u001b[38;5;28mself\u001b[39m\u001b[38;5;241m.\u001b[39moptions\u001b[38;5;241m.\u001b[39mget(\u001b[38;5;124m\"\u001b[39m\u001b[38;5;124mencoding_errors\u001b[39m\u001b[38;5;124m\"\u001b[39m, \u001b[38;5;124m\"\u001b[39m\u001b[38;5;124mstrict\u001b[39m\u001b[38;5;124m\"\u001b[39m),\n\u001b[0;32m   1743\u001b[0m     storage_options\u001b[38;5;241m=\u001b[39m\u001b[38;5;28mself\u001b[39m\u001b[38;5;241m.\u001b[39moptions\u001b[38;5;241m.\u001b[39mget(\u001b[38;5;124m\"\u001b[39m\u001b[38;5;124mstorage_options\u001b[39m\u001b[38;5;124m\"\u001b[39m, \u001b[38;5;28;01mNone\u001b[39;00m),\n\u001b[0;32m   1744\u001b[0m )\n\u001b[0;32m   1745\u001b[0m \u001b[38;5;28;01massert\u001b[39;00m \u001b[38;5;28mself\u001b[39m\u001b[38;5;241m.\u001b[39mhandles \u001b[38;5;129;01mis\u001b[39;00m \u001b[38;5;129;01mnot\u001b[39;00m \u001b[38;5;28;01mNone\u001b[39;00m\n\u001b[0;32m   1746\u001b[0m f \u001b[38;5;241m=\u001b[39m \u001b[38;5;28mself\u001b[39m\u001b[38;5;241m.\u001b[39mhandles\u001b[38;5;241m.\u001b[39mhandle\n",
      "File \u001b[1;32m~\\anaconda3\\Lib\\site-packages\\pandas\\io\\common.py:856\u001b[0m, in \u001b[0;36mget_handle\u001b[1;34m(path_or_buf, mode, encoding, compression, memory_map, is_text, errors, storage_options)\u001b[0m\n\u001b[0;32m    851\u001b[0m \u001b[38;5;28;01melif\u001b[39;00m \u001b[38;5;28misinstance\u001b[39m(handle, \u001b[38;5;28mstr\u001b[39m):\n\u001b[0;32m    852\u001b[0m     \u001b[38;5;66;03m# Check whether the filename is to be opened in binary mode.\u001b[39;00m\n\u001b[0;32m    853\u001b[0m     \u001b[38;5;66;03m# Binary mode does not support 'encoding' and 'newline'.\u001b[39;00m\n\u001b[0;32m    854\u001b[0m     \u001b[38;5;28;01mif\u001b[39;00m ioargs\u001b[38;5;241m.\u001b[39mencoding \u001b[38;5;129;01mand\u001b[39;00m \u001b[38;5;124m\"\u001b[39m\u001b[38;5;124mb\u001b[39m\u001b[38;5;124m\"\u001b[39m \u001b[38;5;129;01mnot\u001b[39;00m \u001b[38;5;129;01min\u001b[39;00m ioargs\u001b[38;5;241m.\u001b[39mmode:\n\u001b[0;32m    855\u001b[0m         \u001b[38;5;66;03m# Encoding\u001b[39;00m\n\u001b[1;32m--> 856\u001b[0m         handle \u001b[38;5;241m=\u001b[39m \u001b[38;5;28mopen\u001b[39m(\n\u001b[0;32m    857\u001b[0m             handle,\n\u001b[0;32m    858\u001b[0m             ioargs\u001b[38;5;241m.\u001b[39mmode,\n\u001b[0;32m    859\u001b[0m             encoding\u001b[38;5;241m=\u001b[39mioargs\u001b[38;5;241m.\u001b[39mencoding,\n\u001b[0;32m    860\u001b[0m             errors\u001b[38;5;241m=\u001b[39merrors,\n\u001b[0;32m    861\u001b[0m             newline\u001b[38;5;241m=\u001b[39m\u001b[38;5;124m\"\u001b[39m\u001b[38;5;124m\"\u001b[39m,\n\u001b[0;32m    862\u001b[0m         )\n\u001b[0;32m    863\u001b[0m     \u001b[38;5;28;01melse\u001b[39;00m:\n\u001b[0;32m    864\u001b[0m         \u001b[38;5;66;03m# Binary mode\u001b[39;00m\n\u001b[0;32m    865\u001b[0m         handle \u001b[38;5;241m=\u001b[39m \u001b[38;5;28mopen\u001b[39m(handle, ioargs\u001b[38;5;241m.\u001b[39mmode)\n",
      "\u001b[1;31mFileNotFoundError\u001b[0m: [Errno 2] No such file or directory: 'Recompra_eCommerce.txt'"
     ]
    }
   ],
   "source": [
    "# Leitura da nova base de dados (altere os separadores de coluna e de decimal, conforme a necessidade)\n",
    "novos_dados = pd.read_table(\"Recompra_eCommerce.txt\",\n",
    "                            decimal = \".\",\n",
    "                            sep = \"\\t\")"
   ]
  },
  {
   "cell_type": "code",
   "execution_count": null,
   "metadata": {
    "colab": {
     "base_uri": "https://localhost:8080/",
     "height": 460
    },
    "executionInfo": {
     "elapsed": 15,
     "status": "ok",
     "timestamp": 1727669397141,
     "user": {
      "displayName": "A. C.",
      "userId": "00912246211498097173"
     },
     "user_tz": 180
    },
    "id": "rUmoCxVNjsn0",
    "outputId": "ebdf1b0d-582a-4534-fec1-34080de09cd8"
   },
   "outputs": [],
   "source": [
    "# Verificação de tipos das variáveis da voca base de dados\n",
    "novos_dados.dtypes"
   ]
  },
  {
   "cell_type": "code",
   "execution_count": null,
   "metadata": {
    "id": "hxXfH4U_jjyz"
   },
   "outputs": [],
   "source": [
    "# Alteração de tipos de variáveis, se necessário (devem ser realizadas as mesmas alterações aplicadas na base de desenvolvimento)\n",
    "# novos_dados['NOME_DA_VARIAVEL'] = novos_dados['NOME_DA_VARIAVEL'].astype('int64')\n",
    "# novos_dados['NOME_DA_VARIAVEL'] = novos_dados['NOME_DA_VARIAVEL'].astype('float64')\n",
    "# novos_dados['NOME_DA_VARIAVEL'] = novos_dados['NOME_DA_VARIAVEL'].astype('bool')\n",
    "# novos_dados['NOME_DA_VARIAVEL'] = novos_dados['NOME_DA_VARIAVEL'].astype('object')\n",
    "# novos_dados['NOME_DA_VARIAVEL'] = novos_dados['NOME_DA_VARIAVEL'].astype('category')"
   ]
  },
  {
   "cell_type": "code",
   "execution_count": null,
   "metadata": {
    "colab": {
     "base_uri": "https://localhost:8080/",
     "height": 444
    },
    "executionInfo": {
     "elapsed": 14,
     "status": "ok",
     "timestamp": 1727669397141,
     "user": {
      "displayName": "A. C.",
      "userId": "00912246211498097173"
     },
     "user_tz": 180
    },
    "id": "t8-Yo24tjoCY",
    "outputId": "987caaf2-7330-4c4e-e6eb-2dcf1ec81abd"
   },
   "outputs": [],
   "source": [
    "# Visualização da base de dados\n",
    "display(novos_dados)"
   ]
  },
  {
   "cell_type": "code",
   "execution_count": null,
   "metadata": {
    "id": "JKe8R439VWBT"
   },
   "outputs": [],
   "source": [
    "# Tratamento de valores ausentes nas variáveis explicativas (EXEMPLO)\n",
    "# dados['VAR_COM_MISSINGS_CAT'] = pd.qcut(dados['VAR_COM_MISSINGS'].dropna(), 10, duplicates = \"drop\")\n",
    "# dados['VAR_COM_MISSINGS_CAT'].value_counts(dropna = False)"
   ]
  },
  {
   "cell_type": "code",
   "execution_count": null,
   "metadata": {
    "id": "p5I3USCeju4d"
   },
   "outputs": [],
   "source": [
    "# Separação de features e target\n",
    "X = novos_dados.drop(columns = ['FLAG_RECOMPRA_PROX_3_MESES', 'ID_CLIENTE']) # Remover variável target, variáveis chave ou outras variáveis meramente auxiliares\n",
    "y = novos_dados['FLAG_RECOMPRA_PROX_3_MESES'] # Variável target"
   ]
  },
  {
   "cell_type": "code",
   "execution_count": null,
   "metadata": {
    "id": "Vhk6-Umvjyu9"
   },
   "outputs": [],
   "source": [
    "# Aplicação do pré-processamento\n",
    "X_transformed = pre_processamento.fit_transform(X)"
   ]
  },
  {
   "cell_type": "code",
   "execution_count": null,
   "metadata": {
    "id": "MLPTDzPpj0zg"
   },
   "outputs": [],
   "source": [
    "# Aplicação do modelo (cálculo das probabilidades preditas)\n",
    "y_prob = modelo_final.best_estimator_.predict_proba(X_transformed)[:,1]"
   ]
  },
  {
   "cell_type": "code",
   "execution_count": null,
   "metadata": {
    "id": "582QLs5gj019"
   },
   "outputs": [],
   "source": [
    "# Definição de ponto de corte\n",
    "ponto_corte = y_sample.astype(int).mean()"
   ]
  },
  {
   "cell_type": "code",
   "execution_count": null,
   "metadata": {
    "id": "WfxP1RSJj04g"
   },
   "outputs": [],
   "source": [
    "# Atribuição da categoria predita\n",
    "novos_dados['y_pred'] = (y_prob >= ponto_corte).astype(int)"
   ]
  },
  {
   "cell_type": "code",
   "execution_count": null,
   "metadata": {
    "colab": {
     "base_uri": "https://localhost:8080/",
     "height": 143
    },
    "executionInfo": {
     "elapsed": 12,
     "status": "ok",
     "timestamp": 1727669397141,
     "user": {
      "displayName": "A. C.",
      "userId": "00912246211498097173"
     },
     "user_tz": 180
    },
    "id": "5zen45Z3j4rd",
    "outputId": "3ab6c32d-daa1-47da-c646-ffe4db7ff3da"
   },
   "outputs": [],
   "source": [
    "# Tabela de classificação: real vs. predito (frequências absolutas)\n",
    "pd.crosstab(y, novos_dados['y_pred'])"
   ]
  },
  {
   "cell_type": "code",
   "execution_count": null,
   "metadata": {
    "colab": {
     "base_uri": "https://localhost:8080/",
     "height": 143
    },
    "executionInfo": {
     "elapsed": 11,
     "status": "ok",
     "timestamp": 1727669397141,
     "user": {
      "displayName": "A. C.",
      "userId": "00912246211498097173"
     },
     "user_tz": 180
    },
    "id": "FkO6JP3gj4t8",
    "outputId": "af4579c3-4e54-4396-b642-88b5e17da78d",
    "tags": []
   },
   "outputs": [],
   "source": [
    "# Tabela de classificação: real vs. predito (frequências relativas)\n",
    "pd.crosstab(y, novos_dados['y_pred'], normalize = 'index').round(3) * 100"
   ]
  }
 ],
 "metadata": {
  "colab": {
   "authorship_tag": "ABX9TyOYErzUrgpk0TPRtjV3TYse",
   "provenance": []
  },
  "kernelspec": {
   "display_name": "Python 3 (ipykernel)",
   "language": "python",
   "name": "python3"
  },
  "language_info": {
   "codemirror_mode": {
    "name": "ipython",
    "version": 3
   },
   "file_extension": ".py",
   "mimetype": "text/x-python",
   "name": "python",
   "nbconvert_exporter": "python",
   "pygments_lexer": "ipython3",
   "version": "3.11.4"
  }
 },
 "nbformat": 4,
 "nbformat_minor": 4
}

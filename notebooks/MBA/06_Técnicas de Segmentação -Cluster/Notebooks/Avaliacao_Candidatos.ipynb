{
 "cells": [
  {
   "cell_type": "markdown",
   "metadata": {
    "id": "L2vudERBJTiT"
   },
   "source": [
    "# **CASE: AVALIAÇÃO DE CANDIDATOS**\n",
    "\n",
    "---"
   ]
  },
  {
   "cell_type": "markdown",
   "metadata": {
    "id": "nGD5Csd2q7VV"
   },
   "source": [
    "### Instalação de bibliotecas"
   ]
  },
  {
   "cell_type": "code",
   "execution_count": 2,
   "metadata": {
    "id": "DY4aICW6q8Eb"
   },
   "outputs": [
    {
     "name": "stderr",
     "output_type": "stream",
     "text": [
      "Installing package into ‘/usr/local/lib/R/site-library’\n",
      "(as ‘lib’ is unspecified)\n",
      "\n",
      "Installing package into ‘/usr/local/lib/R/site-library’\n",
      "(as ‘lib’ is unspecified)\n",
      "\n",
      "Installing package into ‘/usr/local/lib/R/site-library’\n",
      "(as ‘lib’ is unspecified)\n",
      "\n"
     ]
    }
   ],
   "source": [
    "# Para visualização dos clusters com k-médias\n",
    "install.packages(\"factoextra\")\n",
    "# Para criação de grid de gráficos\n",
    "install.packages(\"gridExtra\")\n",
    "# Para utilização do algoritmo k-medoides\n",
    "install.packages(\"cluster\")"
   ]
  },
  {
   "cell_type": "markdown",
   "metadata": {
    "id": "99PaLHQgvG4X"
   },
   "source": [
    "### Carregamento de bibliotecas"
   ]
  },
  {
   "cell_type": "code",
   "execution_count": 3,
   "metadata": {
    "id": "ypvOgRlIrJaq"
   },
   "outputs": [],
   "source": [
    "library(tidyverse) # já pré-instalado, se for em Google Colab\n",
    "library(factoextra)\n",
    "library(gridExtra)\n",
    "library(cluster)"
   ]
  },
  {
   "cell_type": "markdown",
   "metadata": {
    "id": "AppXoGlSJa4f"
   },
   "source": [
    "### Leitura da base de dados"
   ]
  },
  {
   "cell_type": "code",
   "execution_count": 5,
   "metadata": {
    "id": "BKIVxb-yO6kt"
   },
   "outputs": [],
   "source": [
    "dados_candidatos <- read.table(file   = \"../Dados/Avaliacao_Candidatos.txt\",\n",
    "                               sep    = \"\\t\",\n",
    "                               header = TRUE)"
   ]
  },
  {
   "cell_type": "markdown",
   "metadata": {
    "id": "QjxtmJktJf24"
   },
   "source": [
    "### Visualização da base de dados"
   ]
  },
  {
   "cell_type": "code",
   "execution_count": 6,
   "metadata": {
    "id": "FJUJqh-_O4Dh"
   },
   "outputs": [
    {
     "data": {
      "text/html": [
       "<table class=\"dataframe\">\n",
       "<caption>A data.frame: 10 × 7</caption>\n",
       "<thead>\n",
       "\t<tr><th scope=col>Candidato</th><th scope=col>Tempo_Experiencia</th><th scope=col>Qtde_Cursos_Especializacoes</th><th scope=col>Idade</th><th scope=col>Area_Formacao</th><th scope=col>Salario_Atual</th><th scope=col>Nivel_Hierarquico_Atual</th></tr>\n",
       "\t<tr><th scope=col>&lt;chr&gt;</th><th scope=col>&lt;int&gt;</th><th scope=col>&lt;int&gt;</th><th scope=col>&lt;int&gt;</th><th scope=col>&lt;chr&gt;</th><th scope=col>&lt;int&gt;</th><th scope=col>&lt;chr&gt;</th></tr>\n",
       "</thead>\n",
       "<tbody>\n",
       "\t<tr><td>Ana     </td><td> 9</td><td>9</td><td>33</td><td>Engenharia        </td><td>9500</td><td>Senior</td></tr>\n",
       "\t<tr><td>Beatriz </td><td> 3</td><td>4</td><td>26</td><td>Ciencia_Computacao</td><td>6000</td><td>Pleno </td></tr>\n",
       "\t<tr><td>Carlos  </td><td>10</td><td>7</td><td>34</td><td>Analise_Sistemas  </td><td>8000</td><td>Senior</td></tr>\n",
       "\t<tr><td>Fernando</td><td> 8</td><td>2</td><td>32</td><td>Ciencia_Computacao</td><td>7300</td><td>Senior</td></tr>\n",
       "\t<tr><td>João    </td><td> 1</td><td>3</td><td>23</td><td>Engenharia        </td><td>5800</td><td>Pleno </td></tr>\n",
       "\t<tr><td>Mariana </td><td>11</td><td>1</td><td>35</td><td>Ciencia_Computacao</td><td>6400</td><td>Pleno </td></tr>\n",
       "\t<tr><td>Paula   </td><td> 4</td><td>3</td><td>25</td><td>Analise_Sistemas  </td><td>7000</td><td>Senior</td></tr>\n",
       "\t<tr><td>Pedro   </td><td> 9</td><td>0</td><td>30</td><td>Analise_Sistemas  </td><td>6500</td><td>Pleno </td></tr>\n",
       "\t<tr><td>Ronaldo </td><td> 2</td><td>5</td><td>25</td><td>Ciencia_Computacao</td><td>6200</td><td>Pleno </td></tr>\n",
       "\t<tr><td>Sueli   </td><td>12</td><td>8</td><td>38</td><td>Engenharia        </td><td>8300</td><td>Senior</td></tr>\n",
       "</tbody>\n",
       "</table>\n"
      ],
      "text/latex": [
       "A data.frame: 10 × 7\n",
       "\\begin{tabular}{lllllll}\n",
       " Candidato & Tempo\\_Experiencia & Qtde\\_Cursos\\_Especializacoes & Idade & Area\\_Formacao & Salario\\_Atual & Nivel\\_Hierarquico\\_Atual\\\\\n",
       " <chr> & <int> & <int> & <int> & <chr> & <int> & <chr>\\\\\n",
       "\\hline\n",
       "\t Ana      &  9 & 9 & 33 & Engenharia         & 9500 & Senior\\\\\n",
       "\t Beatriz  &  3 & 4 & 26 & Ciencia\\_Computacao & 6000 & Pleno \\\\\n",
       "\t Carlos   & 10 & 7 & 34 & Analise\\_Sistemas   & 8000 & Senior\\\\\n",
       "\t Fernando &  8 & 2 & 32 & Ciencia\\_Computacao & 7300 & Senior\\\\\n",
       "\t João     &  1 & 3 & 23 & Engenharia         & 5800 & Pleno \\\\\n",
       "\t Mariana  & 11 & 1 & 35 & Ciencia\\_Computacao & 6400 & Pleno \\\\\n",
       "\t Paula    &  4 & 3 & 25 & Analise\\_Sistemas   & 7000 & Senior\\\\\n",
       "\t Pedro    &  9 & 0 & 30 & Analise\\_Sistemas   & 6500 & Pleno \\\\\n",
       "\t Ronaldo  &  2 & 5 & 25 & Ciencia\\_Computacao & 6200 & Pleno \\\\\n",
       "\t Sueli    & 12 & 8 & 38 & Engenharia         & 8300 & Senior\\\\\n",
       "\\end{tabular}\n"
      ],
      "text/markdown": [
       "\n",
       "A data.frame: 10 × 7\n",
       "\n",
       "| Candidato &lt;chr&gt; | Tempo_Experiencia &lt;int&gt; | Qtde_Cursos_Especializacoes &lt;int&gt; | Idade &lt;int&gt; | Area_Formacao &lt;chr&gt; | Salario_Atual &lt;int&gt; | Nivel_Hierarquico_Atual &lt;chr&gt; |\n",
       "|---|---|---|---|---|---|---|\n",
       "| Ana      |  9 | 9 | 33 | Engenharia         | 9500 | Senior |\n",
       "| Beatriz  |  3 | 4 | 26 | Ciencia_Computacao | 6000 | Pleno  |\n",
       "| Carlos   | 10 | 7 | 34 | Analise_Sistemas   | 8000 | Senior |\n",
       "| Fernando |  8 | 2 | 32 | Ciencia_Computacao | 7300 | Senior |\n",
       "| João     |  1 | 3 | 23 | Engenharia         | 5800 | Pleno  |\n",
       "| Mariana  | 11 | 1 | 35 | Ciencia_Computacao | 6400 | Pleno  |\n",
       "| Paula    |  4 | 3 | 25 | Analise_Sistemas   | 7000 | Senior |\n",
       "| Pedro    |  9 | 0 | 30 | Analise_Sistemas   | 6500 | Pleno  |\n",
       "| Ronaldo  |  2 | 5 | 25 | Ciencia_Computacao | 6200 | Pleno  |\n",
       "| Sueli    | 12 | 8 | 38 | Engenharia         | 8300 | Senior |\n",
       "\n"
      ],
      "text/plain": [
       "   Candidato Tempo_Experiencia Qtde_Cursos_Especializacoes Idade\n",
       "1  Ana        9                9                           33   \n",
       "2  Beatriz    3                4                           26   \n",
       "3  Carlos    10                7                           34   \n",
       "4  Fernando   8                2                           32   \n",
       "5  João       1                3                           23   \n",
       "6  Mariana   11                1                           35   \n",
       "7  Paula      4                3                           25   \n",
       "8  Pedro      9                0                           30   \n",
       "9  Ronaldo    2                5                           25   \n",
       "10 Sueli     12                8                           38   \n",
       "   Area_Formacao      Salario_Atual Nivel_Hierarquico_Atual\n",
       "1  Engenharia         9500          Senior                 \n",
       "2  Ciencia_Computacao 6000          Pleno                  \n",
       "3  Analise_Sistemas   8000          Senior                 \n",
       "4  Ciencia_Computacao 7300          Senior                 \n",
       "5  Engenharia         5800          Pleno                  \n",
       "6  Ciencia_Computacao 6400          Pleno                  \n",
       "7  Analise_Sistemas   7000          Senior                 \n",
       "8  Analise_Sistemas   6500          Pleno                  \n",
       "9  Ciencia_Computacao 6200          Pleno                  \n",
       "10 Engenharia         8300          Senior                 "
      ]
     },
     "metadata": {},
     "output_type": "display_data"
    }
   ],
   "source": [
    "View(dados_candidatos)"
   ]
  },
  {
   "cell_type": "markdown",
   "metadata": {
    "id": "PYTvweDFJimD"
   },
   "source": [
    "### Análise exploratória breve"
   ]
  },
  {
   "cell_type": "code",
   "execution_count": 7,
   "metadata": {
    "id": "TD_M_1CzO0L8"
   },
   "outputs": [
    {
     "data": {
      "text/plain": [
       "  Candidato         Tempo_Experiencia Qtde_Cursos_Especializacoes\n",
       " Length:10          Min.   : 1.00     Min.   :0.00               \n",
       " Class :character   1st Qu.: 3.25     1st Qu.:2.25               \n",
       " Mode  :character   Median : 8.50     Median :3.50               \n",
       "                    Mean   : 6.90     Mean   :4.20               \n",
       "                    3rd Qu.: 9.75     3rd Qu.:6.50               \n",
       "                    Max.   :12.00     Max.   :9.00               \n",
       "     Idade       Area_Formacao      Salario_Atual  Nivel_Hierarquico_Atual\n",
       " Min.   :23.00   Length:10          Min.   :5800   Length:10              \n",
       " 1st Qu.:25.25   Class :character   1st Qu.:6250   Class :character       \n",
       " Median :31.00   Mode  :character   Median :6750   Mode  :character       \n",
       " Mean   :30.10                      Mean   :7100                          \n",
       " 3rd Qu.:33.75                      3rd Qu.:7825                          \n",
       " Max.   :38.00                      Max.   :9500                          "
      ]
     },
     "metadata": {},
     "output_type": "display_data"
    }
   ],
   "source": [
    "# Medidas resumo\n",
    "summary(dados_candidatos)"
   ]
  },
  {
   "cell_type": "code",
   "execution_count": 8,
   "metadata": {
    "id": "vYNjIYAsAgVi"
   },
   "outputs": [
    {
     "data": {
      "text/plain": [
       "\n",
       "  Analise_Sistemas Ciencia_Computacao         Engenharia \n",
       "                 3                  4                  3 "
      ]
     },
     "metadata": {},
     "output_type": "display_data"
    },
    {
     "data": {
      "text/plain": [
       "\n",
       "  Analise_Sistemas Ciencia_Computacao         Engenharia \n",
       "               0.3                0.4                0.3 "
      ]
     },
     "metadata": {},
     "output_type": "display_data"
    }
   ],
   "source": [
    "# Tabela de frequências: área de formação\n",
    "table(dados_candidatos$Area_Formacao)\n",
    "prop.table(table(dados_candidatos$Area_Formacao))"
   ]
  },
  {
   "cell_type": "code",
   "execution_count": 9,
   "metadata": {
    "id": "BBN_VyP6AoHm"
   },
   "outputs": [
    {
     "data": {
      "text/plain": [
       "\n",
       " Pleno Senior \n",
       "     5      5 "
      ]
     },
     "metadata": {},
     "output_type": "display_data"
    },
    {
     "data": {
      "text/plain": [
       "\n",
       " Pleno Senior \n",
       "   0.5    0.5 "
      ]
     },
     "metadata": {},
     "output_type": "display_data"
    }
   ],
   "source": [
    "# Tabela de frequências: nível hierárquico\n",
    "table(dados_candidatos$Nivel_Hierarquico_Atual)\n",
    "prop.table(table(dados_candidatos$Nivel_Hierarquico_Atual))"
   ]
  },
  {
   "cell_type": "markdown",
   "metadata": {
    "id": "hvZQdAvYJn80"
   },
   "source": [
    "### Padronização e cálculo da matriz de distâncias"
   ]
  },
  {
   "cell_type": "code",
   "execution_count": 10,
   "metadata": {
    "id": "YugAaIaWxki8"
   },
   "outputs": [],
   "source": [
    "# Padronização das variaveis quantitativas de interesse (correspondentes às colunas 2 e 3)\n",
    "dados_candidatos_padronizada <- scale(dados_candidatos[,c(2:3)])"
   ]
  },
  {
   "cell_type": "code",
   "execution_count": 11,
   "metadata": {
    "id": "M6Pat478PQGL"
   },
   "outputs": [],
   "source": [
    "# Cálculo da matriz de distâncias euclidianas\n",
    "dist_candidatos <- dist(dados_candidatos_padronizada, method = \"euclidean\")"
   ]
  },
  {
   "cell_type": "markdown",
   "metadata": {
    "id": "usjTOesQJpQI"
   },
   "source": [
    "### Agrupamento pelo algoritmo hierárquico (com duas variáveis quantitativas)"
   ]
  },
  {
   "cell_type": "code",
   "execution_count": 12,
   "metadata": {
    "id": "jzOA-NoBPTuv"
   },
   "outputs": [],
   "source": [
    "# Execução do algoritmo para diferentes critérios de ligação\n",
    "clust_candidatos_complete <- hclust(dist_candidatos, method = \"complete\")\n",
    "clust_candidatos_single   <- hclust(dist_candidatos, method = \"single\")\n",
    "clust_candidatos_average  <- hclust(dist_candidatos, method = \"average\")\n",
    "clust_candidatos_ward     <- hclust(dist_candidatos, method = \"ward.D\")"
   ]
  },
  {
   "cell_type": "code",
   "execution_count": 13,
   "metadata": {
    "id": "ExaZo4PHEvtP"
   },
   "outputs": [],
   "source": [
    "# Comando auxiliar para aumentar resolução do gráfico (recomendado apenas no Colab)\n",
    "options(repr.plot.width = 10, repr.plot.height = 10)"
   ]
  },
  {
   "cell_type": "code",
   "execution_count": 14,
   "metadata": {
    "id": "_chXPFxunWD9"
   },
   "outputs": [
    {
     "data": {
      "image/png": "[encoded data removed]",
      "text/plain": [
       "Plot with title “Ward”"
      ]
     },
     "metadata": {
      "image/png": {
       "height": 600,
       "width": 600
      }
     },
     "output_type": "display_data"
    }
   ],
   "source": [
    "# Visualização dos dendrogramas resultantes\n",
    "par(mfrow = c(2,2))\n",
    "plot(clust_candidatos_complete, main = \"Complete\", hang = -1, labels = dados_candidatos$Candidato, xlab = \"\", sub = \"\")\n",
    "plot(clust_candidatos_single,   main = \"Single\",   hang = -1, labels = dados_candidatos$Candidato, xlab = \"\", sub = \"\")\n",
    "plot(clust_candidatos_average,  main = \"Average\",  hang = -1, labels = dados_candidatos$Candidato, xlab = \"\", sub = \"\")\n",
    "plot(clust_candidatos_ward,     main = \"Ward\",     hang = -1, labels = dados_candidatos$Candidato, xlab = \"\", sub = \"\")"
   ]
  },
  {
   "cell_type": "code",
   "execution_count": null,
   "metadata": {
    "id": "ShBhKw3knXvH"
   },
   "outputs": [],
   "source": [
    "# Substitua o ponto (.) pelo nome do objeto correspondente ao critério de ligação que você considera mais adequado\n",
    "segmentacao_escolhida <- .  # por exemplo: clust_candidatos_single"
   ]
  },
  {
   "cell_type": "code",
   "execution_count": null,
   "metadata": {
    "id": "GmUlRRizqdWP"
   },
   "outputs": [],
   "source": [
    "# Substitua o ponto (.) pela quantidade k de grupos que deseja, para o método escolhido\n",
    "k_escolhido <- . # por exemplo: 2"
   ]
  },
  {
   "cell_type": "code",
   "execution_count": null,
   "metadata": {
    "id": "OITx-7KBnY36"
   },
   "outputs": [],
   "source": [
    "# Registrando os clusters da segmentação escolhida como uma nova coluna na base de dados\n",
    "dados_candidatos$cluster_hierarquico <- as.factor(cutree(segmentacao_escolhida, k_escolhido))"
   ]
  },
  {
   "cell_type": "markdown",
   "metadata": {
    "id": "8FPh79Xd8ST1"
   },
   "source": [
    "### Análise descritiva dos clusters do algoritmo hierárquico"
   ]
  },
  {
   "cell_type": "code",
   "execution_count": null,
   "metadata": {
    "id": "qVTodUSmz15X"
   },
   "outputs": [],
   "source": [
    "# Gráficos de boxplot\n",
    "par(mfrow = c(2,2))\n",
    "boxplot(Tempo_Experiencia ~           cluster_hierarquico, data = dados_candidatos, col = \"darkturquoise\", xlab = \"Cluster\", main = \"Tempo de Experiência\")\n",
    "boxplot(Qtde_Cursos_Especializacoes ~ cluster_hierarquico, data = dados_candidatos, col = \"darkturquoise\", xlab = \"Cluster\", main = \"Qtde. de Cursos e Especializações\")\n",
    "boxplot(Idade ~                       cluster_hierarquico, data = dados_candidatos, col = \"darkturquoise\", xlab = \"Cluster\", main = \"Idade\")\n",
    "boxplot(Salario_Atual ~               cluster_hierarquico, data = dados_candidatos, col = \"darkturquoise\", xlab = \"Cluster\", main = \"Salário Atual\")"
   ]
  },
  {
   "cell_type": "code",
   "execution_count": null,
   "metadata": {
    "id": "rBg7mDoO70cm"
   },
   "outputs": [],
   "source": [
    "# Médias das variáveis quantitativas disponíveis\n",
    "dados_candidatos %>%\n",
    "  group_by(cluster_hierarquico) %>%\n",
    "  summarise(tempo_experiencia_medio = round(mean(Tempo_Experiencia), 0),\n",
    "            qtde_cursos_media       = round(mean(Qtde_Cursos_Especializacoes), 0),\n",
    "            idade_media             = round(mean(Idade), 0),\n",
    "            salario_atual_medio     = round(mean(Salario_Atual), 0)) %>%\n",
    "  View()"
   ]
  },
  {
   "cell_type": "markdown",
   "metadata": {
    "id": "l82_95h3JsBP"
   },
   "source": [
    "### Agrupamento pelo algoritmo k-médias (com duas variáveis quantitativas)"
   ]
  },
  {
   "cell_type": "code",
   "execution_count": null,
   "metadata": {
    "id": "B_tsIjDaPVwI"
   },
   "outputs": [],
   "source": [
    "# Definição de semente aleatória, para reprodutibilidade dos resultados\n",
    "set.seed(12345)"
   ]
  },
  {
   "cell_type": "code",
   "execution_count": null,
   "metadata": {
    "id": "izk0HXXIALP4"
   },
   "outputs": [],
   "source": [
    "# Execução do algoritmo para diferentes valores de k\n",
    "clust_candidatos_kmedias_k2 <- kmeans(dados_candidatos_padronizada, centers = 2, nstart = 25, iter.max = 100)\n",
    "clust_candidatos_kmedias_k3 <- kmeans(dados_candidatos_padronizada, centers = 3, nstart = 25, iter.max = 100)\n",
    "clust_candidatos_kmedias_k4 <- kmeans(dados_candidatos_padronizada, centers = 4, nstart = 25, iter.max = 100)\n",
    "clust_candidatos_kmedias_k5 <- kmeans(dados_candidatos_padronizada, centers = 5, nstart = 25, iter.max = 100)"
   ]
  },
  {
   "cell_type": "code",
   "execution_count": null,
   "metadata": {
    "id": "X1UCyp2OPW8w"
   },
   "outputs": [],
   "source": [
    "# Visualização dos clusters de forma aproximada, reduzindo para 2 dimensões\n",
    "grafico_k2 <- fviz_cluster(clust_candidatos_kmedias_k2, data = dados_candidatos_padronizada, geom = \"point\", main = \"k = 2\")\n",
    "grafico_k3 <- fviz_cluster(clust_candidatos_kmedias_k3, data = dados_candidatos_padronizada, geom = \"point\", main = \"k = 3\")\n",
    "grafico_k4 <- fviz_cluster(clust_candidatos_kmedias_k4, data = dados_candidatos_padronizada, geom = \"point\", main = \"k = 4\")\n",
    "grafico_k5 <- fviz_cluster(clust_candidatos_kmedias_k5, data = dados_candidatos_padronizada, geom = \"point\", main = \"k = 5\")\n",
    "grid.arrange(grafico_k2, grafico_k3, grafico_k4, grafico_k5, nrow = 2)"
   ]
  },
  {
   "cell_type": "code",
   "execution_count": null,
   "metadata": {
    "id": "4B7EZbvPCvmg"
   },
   "outputs": [],
   "source": [
    "# Substitua o ponto (.) pelo nome do objeto correspondente ao valor de k que você considera mais adequado\n",
    "segmentacao_escolhida <- .  # por exemplo: clust_candidatos_kmedias_k2"
   ]
  },
  {
   "cell_type": "code",
   "execution_count": null,
   "metadata": {
    "id": "dMtWg5RwDEIo"
   },
   "outputs": [],
   "source": [
    "# Registrando os clusters da segmentação escolhida como uma nova coluna na base de dados\n",
    "dados_candidatos$cluster_kmedias <- segmentacao_escolhida$cluster"
   ]
  },
  {
   "cell_type": "markdown",
   "metadata": {
    "id": "MzwttZwDDJYD"
   },
   "source": [
    "### Análise descritiva dos clusters do algoritmo k-médias"
   ]
  },
  {
   "cell_type": "code",
   "execution_count": null,
   "metadata": {
    "id": "IO813WwbDJYI"
   },
   "outputs": [],
   "source": [
    "# Gráficos de boxplot\n",
    "par(mfrow = c(2,2))\n",
    "boxplot(Tempo_Experiencia ~           cluster_kmedias, data = dados_candidatos, col = \"darkturquoise\", xlab = \"Cluster\", main = \"Tempo de experiência\")\n",
    "boxplot(Qtde_Cursos_Especializacoes ~ cluster_kmedias, data = dados_candidatos, col = \"darkturquoise\", xlab = \"Cluster\", main = \"Qtde. de cursos e especializações\")\n",
    "boxplot(Idade ~                       cluster_kmedias, data = dados_candidatos, col = \"darkturquoise\", xlab = \"Cluster\", main = \"Idade\")\n",
    "boxplot(Salario_Atual ~               cluster_kmedias, data = dados_candidatos, col = \"darkturquoise\", xlab = \"Cluster\", main = \"Salário atual\")"
   ]
  },
  {
   "cell_type": "code",
   "execution_count": null,
   "metadata": {
    "id": "efU5uC9uDJYI"
   },
   "outputs": [],
   "source": [
    "# Médias das variáveis quantitativas disponíveis\n",
    "dados_candidatos %>%\n",
    "  group_by(cluster_kmedias) %>%\n",
    "  summarise(tempo_experiencia_medio = round(mean(Tempo_Experiencia), 0),\n",
    "            qtde_cursos_media       = round(mean(Qtde_Cursos_Especializacoes), 0),\n",
    "            idade_media             = round(mean(Idade), 0),\n",
    "            salario_atual_medio     = round(mean(Salario_Atual), 0)) %>%\n",
    "  View()"
   ]
  },
  {
   "cell_type": "markdown",
   "metadata": {
    "id": "HIigFeGjJwpL"
   },
   "source": [
    "### Agrupamento pelo algoritmo k-medoides (com duas variáveis quantitativas e duas variáveis qualitativas)"
   ]
  },
  {
   "cell_type": "code",
   "execution_count": null,
   "metadata": {
    "id": "jP0o0OMaPdR8"
   },
   "outputs": [],
   "source": [
    "# Transformação das variáveis qualitativas em 'fatores' (requisito para o algoritmo k-medoides no R)\n",
    "dados_candidatos$Area_Formacao_Factor           <- as.factor(dados_candidatos$Area_Formacao)\n",
    "dados_candidatos$Nivel_Hierarquico_Atual_Factor <- as.factor(dados_candidatos$Nivel_Hierarquico_Atual)"
   ]
  },
  {
   "cell_type": "code",
   "execution_count": null,
   "metadata": {
    "id": "kT3zNDqXFP3e"
   },
   "outputs": [],
   "source": [
    "# Cálculo da matriz de distâncias para as variáveis de interesse, utilizando a distância de Gower\n",
    "dist_candidatos_gower <- daisy(dados_candidatos[, c(\"Tempo_Experiencia\",\n",
    "                                                    \"Qtde_Cursos_Especializacoes\",\n",
    "                                                    \"Area_Formacao_Factor\",\n",
    "                                                    \"Nivel_Hierarquico_Atual_Factor\")],\n",
    "                               metric = \"gower\")"
   ]
  },
  {
   "cell_type": "code",
   "execution_count": null,
   "metadata": {
    "id": "3DJQQKxwDYTU"
   },
   "outputs": [],
   "source": [
    "# Definição de semente aleatória, para reprodutibilidade dos resultados\n",
    "set.seed(12345)"
   ]
  },
  {
   "cell_type": "code",
   "execution_count": null,
   "metadata": {
    "id": "0XeBMTHgFRlK"
   },
   "outputs": [],
   "source": [
    "# Execução do algoritmo para diferentes valores de k\n",
    "clust_candidatos_kmedoides_k2 <- pam(dist_candidatos_gower, diss = TRUE, k = 2)\n",
    "clust_candidatos_kmedoides_k3 <- pam(dist_candidatos_gower, diss = TRUE, k = 3)\n",
    "clust_candidatos_kmedoides_k4 <- pam(dist_candidatos_gower, diss = TRUE, k = 4)"
   ]
  },
  {
   "cell_type": "code",
   "execution_count": null,
   "metadata": {
    "id": "08m2XxcsDvaG"
   },
   "outputs": [],
   "source": [
    "# Registrando os clusters das simulações como novas colunas na base de dados\n",
    "dados_candidatos$cluster_kmedoides_k2 <- clust_candidatos_kmedoides_k2$clustering\n",
    "dados_candidatos$cluster_kmedoides_k3 <- clust_candidatos_kmedoides_k3$clustering\n",
    "dados_candidatos$cluster_kmedoides_k4 <- clust_candidatos_kmedoides_k4$clustering"
   ]
  },
  {
   "cell_type": "markdown",
   "metadata": {
    "id": "jVg-t0b6WD8S"
   },
   "source": [
    "### Análise descritiva dos clusters do algoritmo k-medoides"
   ]
  },
  {
   "cell_type": "markdown",
   "metadata": {
    "id": "LZQJF_JzEEZt"
   },
   "source": [
    "### k = 2"
   ]
  },
  {
   "cell_type": "code",
   "execution_count": null,
   "metadata": {
    "id": "lU6Z4u1BWEJq"
   },
   "outputs": [],
   "source": [
    "# Médias das variáveis quantitativas\n",
    "dados_candidatos %>%\n",
    "  group_by(cluster_kmedoides_k2) %>%\n",
    "  summarise(tempo_experiencia_medio = round(mean(Tempo_Experiencia), 0),\n",
    "            qtde_cursos_media       = round(mean(Qtde_Cursos_Especializacoes), 0),\n",
    "            idade_media             = round(mean(Idade), 0),\n",
    "            salario_atual_medio     = round(mean(Salario_Atual), 0)) %>%\n",
    "  View()"
   ]
  },
  {
   "cell_type": "code",
   "execution_count": null,
   "metadata": {
    "id": "Xj6tful6W9lv"
   },
   "outputs": [],
   "source": [
    "# Distribuições (em %) das variáveis qualitativas, por cluster\n",
    "round(prop.table(table(dados_candidatos$cluster_kmedoides_k2, dados_candidatos$Area_Formacao), 1), 2)\n",
    "round(prop.table(table(dados_candidatos$cluster_kmedoides_k2, dados_candidatos$Nivel_Hierarquico_Atual), 1), 2)"
   ]
  },
  {
   "cell_type": "markdown",
   "metadata": {
    "id": "PSvtcCbeFaqs"
   },
   "source": [
    "### k = 3"
   ]
  },
  {
   "cell_type": "code",
   "execution_count": null,
   "metadata": {
    "id": "Xa6JIEgbFaqy"
   },
   "outputs": [],
   "source": [
    "# Médias das variáveis quantitativas\n",
    "dados_candidatos %>%\n",
    "  group_by(cluster_kmedoides_k3) %>%\n",
    "  summarise(tempo_experiencia_medio = round(mean(Tempo_Experiencia), 0),\n",
    "            qtde_cursos_media       = round(mean(Qtde_Cursos_Especializacoes), 0),\n",
    "            idade_media             = round(mean(Idade), 0),\n",
    "            salario_atual_medio     = round(mean(Salario_Atual), 0)) %>%\n",
    "  View()"
   ]
  },
  {
   "cell_type": "code",
   "execution_count": null,
   "metadata": {
    "id": "kfW2ofLHFaqy"
   },
   "outputs": [],
   "source": [
    "# Distribuições (em %) das variáveis qualitativas, por cluster\n",
    "round(prop.table(table(dados_candidatos$cluster_kmedoides_k3, dados_candidatos$Area_Formacao), 1), 2)\n",
    "round(prop.table(table(dados_candidatos$cluster_kmedoides_k3, dados_candidatos$Nivel_Hierarquico_Atual), 1), 2)"
   ]
  },
  {
   "cell_type": "markdown",
   "metadata": {
    "id": "PfK1WPUbFbCs"
   },
   "source": [
    "### k = 4"
   ]
  },
  {
   "cell_type": "code",
   "execution_count": null,
   "metadata": {
    "id": "Q-K6to6iFbCs"
   },
   "outputs": [],
   "source": [
    "# Médias das variáveis quantitativas\n",
    "dados_candidatos %>%\n",
    "  group_by(cluster_kmedoides_k4) %>%\n",
    "  summarise(tempo_experiencia_medio = round(mean(Tempo_Experiencia), 0),\n",
    "            qtde_cursos_media       = round(mean(Qtde_Cursos_Especializacoes), 0),\n",
    "            idade_media             = round(mean(Idade), 0),\n",
    "            salario_atual_medio     = round(mean(Salario_Atual), 0)) %>%\n",
    "  View()"
   ]
  },
  {
   "cell_type": "code",
   "execution_count": null,
   "metadata": {
    "id": "6KMkZS7ZFbCs"
   },
   "outputs": [],
   "source": [
    "# Distribuições (em %) das variáveis qualitativas, por cluster\n",
    "round(prop.table(table(dados_candidatos$cluster_kmedoides_k4, dados_candidatos$Area_Formacao), 1), 2)\n",
    "round(prop.table(table(dados_candidatos$cluster_kmedoides_k4, dados_candidatos$Nivel_Hierarquico_Atual), 1), 2)"
   ]
  }
 ],
 "metadata": {
  "colab": {
   "provenance": []
  },
  "kernelspec": {
   "display_name": "R",
   "language": "R",
   "name": "ir"
  },
  "language_info": {
   "codemirror_mode": "r",
   "file_extension": ".r",
   "mimetype": "text/x-r-source",
   "name": "R",
   "pygments_lexer": "r",
   "version": "4.4.1"
  }
 },
 "nbformat": 4,
 "nbformat_minor": 4
}

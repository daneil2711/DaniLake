{
 "cells": [
  {
   "cell_type": "markdown",
   "metadata": {
    "id": "L2vudERBJTiT"
   },
   "source": [
    "# **CASE: eCOMMERCE**\n",
    "\n",
    "---"
   ]
  },
  {
   "cell_type": "markdown",
   "metadata": {
    "id": "nGD5Csd2q7VV"
   },
   "source": [
    "### Instalação de bibliotecas"
   ]
  },
  {
   "cell_type": "code",
   "execution_count": 1,
   "metadata": {
    "id": "DY4aICW6q8Eb"
   },
   "outputs": [],
   "source": [
    "# # Para utilização do algoritmo k-medoides\n",
    "# install.packages(\"cluster\")"
   ]
  },
  {
   "cell_type": "markdown",
   "metadata": {
    "id": "99PaLHQgvG4X"
   },
   "source": [
    "### Carregamento de bibliotecas"
   ]
  },
  {
   "cell_type": "code",
   "execution_count": 2,
   "metadata": {
    "id": "ypvOgRlIrJaq"
   },
   "outputs": [
    {
     "name": "stderr",
     "output_type": "stream",
     "text": [
      "── \u001b[1mAttaching core tidyverse packages\u001b[22m ──────────────────────── tidyverse 2.0.0 ──\n",
      "\u001b[32m✔\u001b[39m \u001b[34mdplyr    \u001b[39m 1.1.4     \u001b[32m✔\u001b[39m \u001b[34mreadr    \u001b[39m 2.1.5\n",
      "\u001b[32m✔\u001b[39m \u001b[34mforcats  \u001b[39m 1.0.0     \u001b[32m✔\u001b[39m \u001b[34mstringr  \u001b[39m 1.5.1\n",
      "\u001b[32m✔\u001b[39m \u001b[34mggplot2  \u001b[39m 3.5.1     \u001b[32m✔\u001b[39m \u001b[34mtibble   \u001b[39m 3.2.1\n",
      "\u001b[32m✔\u001b[39m \u001b[34mlubridate\u001b[39m 1.9.3     \u001b[32m✔\u001b[39m \u001b[34mtidyr    \u001b[39m 1.3.1\n",
      "\u001b[32m✔\u001b[39m \u001b[34mpurrr    \u001b[39m 1.0.2     \n",
      "── \u001b[1mConflicts\u001b[22m ────────────────────────────────────────── tidyverse_conflicts() ──\n",
      "\u001b[31m✖\u001b[39m \u001b[34mdplyr\u001b[39m::\u001b[32mfilter()\u001b[39m masks \u001b[34mstats\u001b[39m::filter()\n",
      "\u001b[31m✖\u001b[39m \u001b[34mdplyr\u001b[39m::\u001b[32mlag()\u001b[39m    masks \u001b[34mstats\u001b[39m::lag()\n",
      "\u001b[36mℹ\u001b[39m Use the conflicted package (\u001b[3m\u001b[34m<http://conflicted.r-lib.org/>\u001b[39m\u001b[23m) to force all conflicts to become errors\n"
     ]
    }
   ],
   "source": [
    "library(tidyverse) # já pré-instalado, se for em Google Colab\n",
    "library(cluster)"
   ]
  },
  {
   "cell_type": "markdown",
   "metadata": {
    "id": "AppXoGlSJa4f"
   },
   "source": [
    "### Leitura da base de dados"
   ]
  },
  {
   "cell_type": "code",
   "execution_count": 3,
   "metadata": {
    "id": "BKIVxb-yO6kt"
   },
   "outputs": [],
   "source": [
    "dados_ecommerce <- read.table(file   = \"../Dados/eCommerce.txt\",\n",
    "                              sep    = \"\\t\",\n",
    "                              header = TRUE)"
   ]
  },
  {
   "cell_type": "markdown",
   "metadata": {
    "id": "QjxtmJktJf24"
   },
   "source": [
    "### Visualização da base de dados"
   ]
  },
  {
   "cell_type": "code",
   "execution_count": 4,
   "metadata": {
    "id": "FJUJqh-_O4Dh"
   },
   "outputs": [
    {
     "data": {
      "text/html": [
       "<table class=\"dataframe\">\n",
       "<caption>A data.frame: 2992 × 4</caption>\n",
       "<thead>\n",
       "\t<tr><th scope=col>ID_CLIENTE</th><th scope=col>CATEGORIA</th><th scope=col>VALOR_PAGO</th><th scope=col>NOTA_SATISFACAO</th></tr>\n",
       "\t<tr><th scope=col>&lt;int&gt;</th><th scope=col>&lt;chr&gt;</th><th scope=col>&lt;int&gt;</th><th scope=col>&lt;int&gt;</th></tr>\n",
       "</thead>\n",
       "<tbody>\n",
       "\t<tr><td> 1</td><td>televisao </td><td>2190</td><td> 6</td></tr>\n",
       "\t<tr><td> 2</td><td>celular   </td><td>1140</td><td> 9</td></tr>\n",
       "\t<tr><td> 3</td><td>celular   </td><td>1570</td><td> 7</td></tr>\n",
       "\t<tr><td> 4</td><td>celular   </td><td> 970</td><td> 6</td></tr>\n",
       "\t<tr><td> 5</td><td>celular   </td><td> 970</td><td>10</td></tr>\n",
       "\t<tr><td> 6</td><td>computador</td><td>1800</td><td> 6</td></tr>\n",
       "\t<tr><td> 7</td><td>televisao </td><td>1690</td><td> 0</td></tr>\n",
       "\t<tr><td> 8</td><td>celular   </td><td>1070</td><td>10</td></tr>\n",
       "\t<tr><td> 9</td><td>televisao </td><td>1610</td><td> 7</td></tr>\n",
       "\t<tr><td>10</td><td>computador</td><td>1870</td><td> 2</td></tr>\n",
       "\t<tr><td>11</td><td>celular   </td><td>1800</td><td>10</td></tr>\n",
       "\t<tr><td>12</td><td>computador</td><td>1820</td><td> 5</td></tr>\n",
       "\t<tr><td>13</td><td>televisao </td><td>1600</td><td>10</td></tr>\n",
       "\t<tr><td>14</td><td>televisao </td><td>1990</td><td> 1</td></tr>\n",
       "\t<tr><td>15</td><td>televisao </td><td>1710</td><td> 5</td></tr>\n",
       "\t<tr><td>16</td><td>celular   </td><td>1000</td><td>10</td></tr>\n",
       "\t<tr><td>17</td><td>televisao </td><td>2350</td><td> 6</td></tr>\n",
       "\t<tr><td>18</td><td>celular   </td><td>1410</td><td> 7</td></tr>\n",
       "\t<tr><td>19</td><td>celular   </td><td>1200</td><td> 8</td></tr>\n",
       "\t<tr><td>20</td><td>celular   </td><td>1080</td><td> 5</td></tr>\n",
       "\t<tr><td>21</td><td>celular   </td><td>1110</td><td> 8</td></tr>\n",
       "\t<tr><td>22</td><td>celular   </td><td>1030</td><td> 6</td></tr>\n",
       "\t<tr><td>23</td><td>celular   </td><td>1080</td><td>10</td></tr>\n",
       "\t<tr><td>24</td><td>celular   </td><td>1720</td><td> 7</td></tr>\n",
       "\t<tr><td>25</td><td>celular   </td><td>1370</td><td> 8</td></tr>\n",
       "\t<tr><td>26</td><td>celular   </td><td>1580</td><td>10</td></tr>\n",
       "\t<tr><td>27</td><td>televisao </td><td>1740</td><td> 6</td></tr>\n",
       "\t<tr><td>28</td><td>computador</td><td>1720</td><td> 3</td></tr>\n",
       "\t<tr><td>29</td><td>computador</td><td>1740</td><td> 4</td></tr>\n",
       "\t<tr><td>30</td><td>televisao </td><td>1860</td><td> 8</td></tr>\n",
       "\t<tr><td>⋮</td><td>⋮</td><td>⋮</td><td>⋮</td></tr>\n",
       "\t<tr><td>2963</td><td>computador</td><td>2000</td><td> 5</td></tr>\n",
       "\t<tr><td>2964</td><td>celular   </td><td> 910</td><td> 8</td></tr>\n",
       "\t<tr><td>2965</td><td>computador</td><td>2830</td><td> 9</td></tr>\n",
       "\t<tr><td>2966</td><td>celular   </td><td>1100</td><td> 9</td></tr>\n",
       "\t<tr><td>2967</td><td>televisao </td><td>2180</td><td> 8</td></tr>\n",
       "\t<tr><td>2968</td><td>televisao </td><td>1220</td><td> 2</td></tr>\n",
       "\t<tr><td>2969</td><td>computador</td><td>2510</td><td>10</td></tr>\n",
       "\t<tr><td>2970</td><td>computador</td><td>2710</td><td> 7</td></tr>\n",
       "\t<tr><td>2971</td><td>celular   </td><td>1090</td><td> 9</td></tr>\n",
       "\t<tr><td>2972</td><td>computador</td><td>2450</td><td> 8</td></tr>\n",
       "\t<tr><td>2973</td><td>celular   </td><td>1420</td><td> 9</td></tr>\n",
       "\t<tr><td>2974</td><td>televisao </td><td>1840</td><td> 7</td></tr>\n",
       "\t<tr><td>2975</td><td>celular   </td><td>1370</td><td> 8</td></tr>\n",
       "\t<tr><td>2976</td><td>celular   </td><td>1640</td><td>10</td></tr>\n",
       "\t<tr><td>2977</td><td>computador</td><td>2600</td><td>10</td></tr>\n",
       "\t<tr><td>2978</td><td>televisao </td><td>1430</td><td> 5</td></tr>\n",
       "\t<tr><td>2979</td><td>computador</td><td>2080</td><td> 2</td></tr>\n",
       "\t<tr><td>2980</td><td>computador</td><td>1780</td><td> 1</td></tr>\n",
       "\t<tr><td>2981</td><td>celular   </td><td>1220</td><td> 9</td></tr>\n",
       "\t<tr><td>2982</td><td>celular   </td><td>1400</td><td> 9</td></tr>\n",
       "\t<tr><td>2983</td><td>televisao </td><td>1640</td><td> 9</td></tr>\n",
       "\t<tr><td>2984</td><td>celular   </td><td>1150</td><td>10</td></tr>\n",
       "\t<tr><td>2985</td><td>computador</td><td>1890</td><td> 6</td></tr>\n",
       "\t<tr><td>2986</td><td>computador</td><td>2500</td><td> 9</td></tr>\n",
       "\t<tr><td>2987</td><td>celular   </td><td>1070</td><td>10</td></tr>\n",
       "\t<tr><td>2988</td><td>celular   </td><td>1040</td><td>10</td></tr>\n",
       "\t<tr><td>2989</td><td>celular   </td><td>1060</td><td> 7</td></tr>\n",
       "\t<tr><td>2990</td><td>celular   </td><td>1760</td><td> 9</td></tr>\n",
       "\t<tr><td>2991</td><td>computador</td><td>1660</td><td> 5</td></tr>\n",
       "\t<tr><td>2992</td><td>celular   </td><td>1790</td><td> 8</td></tr>\n",
       "</tbody>\n",
       "</table>\n"
      ],
      "text/latex": [
       "A data.frame: 2992 × 4\n",
       "\\begin{tabular}{llll}\n",
       " ID\\_CLIENTE & CATEGORIA & VALOR\\_PAGO & NOTA\\_SATISFACAO\\\\\n",
       " <int> & <chr> & <int> & <int>\\\\\n",
       "\\hline\n",
       "\t  1 & televisao  & 2190 &  6\\\\\n",
       "\t  2 & celular    & 1140 &  9\\\\\n",
       "\t  3 & celular    & 1570 &  7\\\\\n",
       "\t  4 & celular    &  970 &  6\\\\\n",
       "\t  5 & celular    &  970 & 10\\\\\n",
       "\t  6 & computador & 1800 &  6\\\\\n",
       "\t  7 & televisao  & 1690 &  0\\\\\n",
       "\t  8 & celular    & 1070 & 10\\\\\n",
       "\t  9 & televisao  & 1610 &  7\\\\\n",
       "\t 10 & computador & 1870 &  2\\\\\n",
       "\t 11 & celular    & 1800 & 10\\\\\n",
       "\t 12 & computador & 1820 &  5\\\\\n",
       "\t 13 & televisao  & 1600 & 10\\\\\n",
       "\t 14 & televisao  & 1990 &  1\\\\\n",
       "\t 15 & televisao  & 1710 &  5\\\\\n",
       "\t 16 & celular    & 1000 & 10\\\\\n",
       "\t 17 & televisao  & 2350 &  6\\\\\n",
       "\t 18 & celular    & 1410 &  7\\\\\n",
       "\t 19 & celular    & 1200 &  8\\\\\n",
       "\t 20 & celular    & 1080 &  5\\\\\n",
       "\t 21 & celular    & 1110 &  8\\\\\n",
       "\t 22 & celular    & 1030 &  6\\\\\n",
       "\t 23 & celular    & 1080 & 10\\\\\n",
       "\t 24 & celular    & 1720 &  7\\\\\n",
       "\t 25 & celular    & 1370 &  8\\\\\n",
       "\t 26 & celular    & 1580 & 10\\\\\n",
       "\t 27 & televisao  & 1740 &  6\\\\\n",
       "\t 28 & computador & 1720 &  3\\\\\n",
       "\t 29 & computador & 1740 &  4\\\\\n",
       "\t 30 & televisao  & 1860 &  8\\\\\n",
       "\t ⋮ & ⋮ & ⋮ & ⋮\\\\\n",
       "\t 2963 & computador & 2000 &  5\\\\\n",
       "\t 2964 & celular    &  910 &  8\\\\\n",
       "\t 2965 & computador & 2830 &  9\\\\\n",
       "\t 2966 & celular    & 1100 &  9\\\\\n",
       "\t 2967 & televisao  & 2180 &  8\\\\\n",
       "\t 2968 & televisao  & 1220 &  2\\\\\n",
       "\t 2969 & computador & 2510 & 10\\\\\n",
       "\t 2970 & computador & 2710 &  7\\\\\n",
       "\t 2971 & celular    & 1090 &  9\\\\\n",
       "\t 2972 & computador & 2450 &  8\\\\\n",
       "\t 2973 & celular    & 1420 &  9\\\\\n",
       "\t 2974 & televisao  & 1840 &  7\\\\\n",
       "\t 2975 & celular    & 1370 &  8\\\\\n",
       "\t 2976 & celular    & 1640 & 10\\\\\n",
       "\t 2977 & computador & 2600 & 10\\\\\n",
       "\t 2978 & televisao  & 1430 &  5\\\\\n",
       "\t 2979 & computador & 2080 &  2\\\\\n",
       "\t 2980 & computador & 1780 &  1\\\\\n",
       "\t 2981 & celular    & 1220 &  9\\\\\n",
       "\t 2982 & celular    & 1400 &  9\\\\\n",
       "\t 2983 & televisao  & 1640 &  9\\\\\n",
       "\t 2984 & celular    & 1150 & 10\\\\\n",
       "\t 2985 & computador & 1890 &  6\\\\\n",
       "\t 2986 & computador & 2500 &  9\\\\\n",
       "\t 2987 & celular    & 1070 & 10\\\\\n",
       "\t 2988 & celular    & 1040 & 10\\\\\n",
       "\t 2989 & celular    & 1060 &  7\\\\\n",
       "\t 2990 & celular    & 1760 &  9\\\\\n",
       "\t 2991 & computador & 1660 &  5\\\\\n",
       "\t 2992 & celular    & 1790 &  8\\\\\n",
       "\\end{tabular}\n"
      ],
      "text/markdown": [
       "\n",
       "A data.frame: 2992 × 4\n",
       "\n",
       "| ID_CLIENTE &lt;int&gt; | CATEGORIA &lt;chr&gt; | VALOR_PAGO &lt;int&gt; | NOTA_SATISFACAO &lt;int&gt; |\n",
       "|---|---|---|---|\n",
       "|  1 | televisao  | 2190 |  6 |\n",
       "|  2 | celular    | 1140 |  9 |\n",
       "|  3 | celular    | 1570 |  7 |\n",
       "|  4 | celular    |  970 |  6 |\n",
       "|  5 | celular    |  970 | 10 |\n",
       "|  6 | computador | 1800 |  6 |\n",
       "|  7 | televisao  | 1690 |  0 |\n",
       "|  8 | celular    | 1070 | 10 |\n",
       "|  9 | televisao  | 1610 |  7 |\n",
       "| 10 | computador | 1870 |  2 |\n",
       "| 11 | celular    | 1800 | 10 |\n",
       "| 12 | computador | 1820 |  5 |\n",
       "| 13 | televisao  | 1600 | 10 |\n",
       "| 14 | televisao  | 1990 |  1 |\n",
       "| 15 | televisao  | 1710 |  5 |\n",
       "| 16 | celular    | 1000 | 10 |\n",
       "| 17 | televisao  | 2350 |  6 |\n",
       "| 18 | celular    | 1410 |  7 |\n",
       "| 19 | celular    | 1200 |  8 |\n",
       "| 20 | celular    | 1080 |  5 |\n",
       "| 21 | celular    | 1110 |  8 |\n",
       "| 22 | celular    | 1030 |  6 |\n",
       "| 23 | celular    | 1080 | 10 |\n",
       "| 24 | celular    | 1720 |  7 |\n",
       "| 25 | celular    | 1370 |  8 |\n",
       "| 26 | celular    | 1580 | 10 |\n",
       "| 27 | televisao  | 1740 |  6 |\n",
       "| 28 | computador | 1720 |  3 |\n",
       "| 29 | computador | 1740 |  4 |\n",
       "| 30 | televisao  | 1860 |  8 |\n",
       "| ⋮ | ⋮ | ⋮ | ⋮ |\n",
       "| 2963 | computador | 2000 |  5 |\n",
       "| 2964 | celular    |  910 |  8 |\n",
       "| 2965 | computador | 2830 |  9 |\n",
       "| 2966 | celular    | 1100 |  9 |\n",
       "| 2967 | televisao  | 2180 |  8 |\n",
       "| 2968 | televisao  | 1220 |  2 |\n",
       "| 2969 | computador | 2510 | 10 |\n",
       "| 2970 | computador | 2710 |  7 |\n",
       "| 2971 | celular    | 1090 |  9 |\n",
       "| 2972 | computador | 2450 |  8 |\n",
       "| 2973 | celular    | 1420 |  9 |\n",
       "| 2974 | televisao  | 1840 |  7 |\n",
       "| 2975 | celular    | 1370 |  8 |\n",
       "| 2976 | celular    | 1640 | 10 |\n",
       "| 2977 | computador | 2600 | 10 |\n",
       "| 2978 | televisao  | 1430 |  5 |\n",
       "| 2979 | computador | 2080 |  2 |\n",
       "| 2980 | computador | 1780 |  1 |\n",
       "| 2981 | celular    | 1220 |  9 |\n",
       "| 2982 | celular    | 1400 |  9 |\n",
       "| 2983 | televisao  | 1640 |  9 |\n",
       "| 2984 | celular    | 1150 | 10 |\n",
       "| 2985 | computador | 1890 |  6 |\n",
       "| 2986 | computador | 2500 |  9 |\n",
       "| 2987 | celular    | 1070 | 10 |\n",
       "| 2988 | celular    | 1040 | 10 |\n",
       "| 2989 | celular    | 1060 |  7 |\n",
       "| 2990 | celular    | 1760 |  9 |\n",
       "| 2991 | computador | 1660 |  5 |\n",
       "| 2992 | celular    | 1790 |  8 |\n",
       "\n"
      ],
      "text/plain": [
       "     ID_CLIENTE CATEGORIA  VALOR_PAGO NOTA_SATISFACAO\n",
       "1     1         televisao  2190        6             \n",
       "2     2         celular    1140        9             \n",
       "3     3         celular    1570        7             \n",
       "4     4         celular     970        6             \n",
       "5     5         celular     970       10             \n",
       "6     6         computador 1800        6             \n",
       "7     7         televisao  1690        0             \n",
       "8     8         celular    1070       10             \n",
       "9     9         televisao  1610        7             \n",
       "10   10         computador 1870        2             \n",
       "11   11         celular    1800       10             \n",
       "12   12         computador 1820        5             \n",
       "13   13         televisao  1600       10             \n",
       "14   14         televisao  1990        1             \n",
       "15   15         televisao  1710        5             \n",
       "16   16         celular    1000       10             \n",
       "17   17         televisao  2350        6             \n",
       "18   18         celular    1410        7             \n",
       "19   19         celular    1200        8             \n",
       "20   20         celular    1080        5             \n",
       "21   21         celular    1110        8             \n",
       "22   22         celular    1030        6             \n",
       "23   23         celular    1080       10             \n",
       "24   24         celular    1720        7             \n",
       "25   25         celular    1370        8             \n",
       "26   26         celular    1580       10             \n",
       "27   27         televisao  1740        6             \n",
       "28   28         computador 1720        3             \n",
       "29   29         computador 1740        4             \n",
       "30   30         televisao  1860        8             \n",
       "⋮    ⋮          ⋮          ⋮          ⋮              \n",
       "2963 2963       computador 2000        5             \n",
       "2964 2964       celular     910        8             \n",
       "2965 2965       computador 2830        9             \n",
       "2966 2966       celular    1100        9             \n",
       "2967 2967       televisao  2180        8             \n",
       "2968 2968       televisao  1220        2             \n",
       "2969 2969       computador 2510       10             \n",
       "2970 2970       computador 2710        7             \n",
       "2971 2971       celular    1090        9             \n",
       "2972 2972       computador 2450        8             \n",
       "2973 2973       celular    1420        9             \n",
       "2974 2974       televisao  1840        7             \n",
       "2975 2975       celular    1370        8             \n",
       "2976 2976       celular    1640       10             \n",
       "2977 2977       computador 2600       10             \n",
       "2978 2978       televisao  1430        5             \n",
       "2979 2979       computador 2080        2             \n",
       "2980 2980       computador 1780        1             \n",
       "2981 2981       celular    1220        9             \n",
       "2982 2982       celular    1400        9             \n",
       "2983 2983       televisao  1640        9             \n",
       "2984 2984       celular    1150       10             \n",
       "2985 2985       computador 1890        6             \n",
       "2986 2986       computador 2500        9             \n",
       "2987 2987       celular    1070       10             \n",
       "2988 2988       celular    1040       10             \n",
       "2989 2989       celular    1060        7             \n",
       "2990 2990       celular    1760        9             \n",
       "2991 2991       computador 1660        5             \n",
       "2992 2992       celular    1790        8             "
      ]
     },
     "metadata": {},
     "output_type": "display_data"
    }
   ],
   "source": [
    "View(dados_ecommerce)"
   ]
  },
  {
   "cell_type": "markdown",
   "metadata": {
    "id": "PYTvweDFJimD"
   },
   "source": [
    "### Análise exploratória breve"
   ]
  },
  {
   "cell_type": "code",
   "execution_count": 5,
   "metadata": {
    "id": "TD_M_1CzO0L8"
   },
   "outputs": [
    {
     "data": {
      "text/plain": [
       "   ID_CLIENTE      CATEGORIA           VALOR_PAGO   NOTA_SATISFACAO\n",
       " Min.   :   1.0   Length:2992        Min.   : 910   Min.   : 0.00  \n",
       " 1st Qu.: 748.8   Class :character   1st Qu.:1120   1st Qu.: 6.00  \n",
       " Median :1496.5   Mode  :character   Median :1530   Median : 8.00  \n",
       " Mean   :1496.5                      Mean   :1609   Mean   : 7.42  \n",
       " 3rd Qu.:2244.2                      3rd Qu.:1880   3rd Qu.:10.00  \n",
       " Max.   :2992.0                      Max.   :3660   Max.   :10.00  "
      ]
     },
     "metadata": {},
     "output_type": "display_data"
    }
   ],
   "source": [
    "# Medidas resumo\n",
    "summary(dados_ecommerce)"
   ]
  },
  {
   "cell_type": "code",
   "execution_count": 6,
   "metadata": {
    "id": "vYNjIYAsAgVi"
   },
   "outputs": [
    {
     "data": {
      "text/plain": [
       "\n",
       "   celular computador  televisao \n",
       "      1446        690        856 "
      ]
     },
     "metadata": {},
     "output_type": "display_data"
    },
    {
     "data": {
      "text/plain": [
       "\n",
       "   celular computador  televisao \n",
       " 0.4832888  0.2306150  0.2860963 "
      ]
     },
     "metadata": {},
     "output_type": "display_data"
    }
   ],
   "source": [
    "# Tabela de frequências: categoria\n",
    "table(dados_ecommerce$CATEGORIA)\n",
    "prop.table(table(dados_ecommerce$CATEGORIA))"
   ]
  },
  {
   "cell_type": "markdown",
   "metadata": {
    "id": "HIigFeGjJwpL"
   },
   "source": [
    "### Agrupamento pelo algoritmo k-medoides"
   ]
  },
  {
   "cell_type": "code",
   "execution_count": 7,
   "metadata": {
    "id": "jP0o0OMaPdR8"
   },
   "outputs": [],
   "source": [
    "# Transformação das variáveis qualitativas em 'fatores' (requisito para o algoritmo k-medoides no R)\n",
    "dados_ecommerce$CATEGORIA <- as.factor(dados_ecommerce$CATEGORIA)"
   ]
  },
  {
   "cell_type": "code",
   "execution_count": 8,
   "metadata": {
    "id": "kT3zNDqXFP3e"
   },
   "outputs": [],
   "source": [
    "# Cálculo da matriz de distâncias para as variáveis de interesse, utilizando a distância de Gower\n",
    "dist_ecommerce_gower <- daisy(dados_ecommerce[, c(\"CATEGORIA\",\n",
    "                                                  \"VALOR_PAGO\",\n",
    "                                                  \"NOTA_SATISFACAO\")],\n",
    "                              metric = \"gower\")"
   ]
  },
  {
   "cell_type": "code",
   "execution_count": 9,
   "metadata": {
    "id": "3DJQQKxwDYTU"
   },
   "outputs": [],
   "source": [
    "# Definição de semente aleatória, para reprodutibilidade dos resultados\n",
    "set.seed(12345)"
   ]
  },
  {
   "cell_type": "code",
   "execution_count": 10,
   "metadata": {
    "id": "0XeBMTHgFRlK"
   },
   "outputs": [],
   "source": [
    "# Execução do algoritmo para diferentes valores de k\n",
    "clust_ecommerce_k3 <- pam(dist_ecommerce_gower, diss = TRUE, k = 3)\n",
    "clust_ecommerce_k4 <- pam(dist_ecommerce_gower, diss = TRUE, k = 4)\n",
    "clust_ecommerce_k5 <- pam(dist_ecommerce_gower, diss = TRUE, k = 5)"
   ]
  },
  {
   "cell_type": "code",
   "execution_count": 11,
   "metadata": {
    "id": "08m2XxcsDvaG"
   },
   "outputs": [],
   "source": [
    "# Registrando os clusters das simulações como novas colunas na base de dados\n",
    "dados_ecommerce$cluster_k3 <- clust_ecommerce_k3$clustering\n",
    "dados_ecommerce$cluster_k4 <- clust_ecommerce_k4$clustering\n",
    "dados_ecommerce$cluster_k5 <- clust_ecommerce_k5$clustering"
   ]
  },
  {
   "cell_type": "markdown",
   "metadata": {
    "id": "jVg-t0b6WD8S"
   },
   "source": [
    "### Análise descritiva dos clusters do algoritmo k-medoides"
   ]
  },
  {
   "cell_type": "markdown",
   "metadata": {
    "id": "PfK1WPUbFbCs"
   },
   "source": [
    "### k = 3"
   ]
  },
  {
   "cell_type": "code",
   "execution_count": 12,
   "metadata": {
    "id": "Q-K6to6iFbCs"
   },
   "outputs": [
    {
     "data": {
      "text/html": [
       "<table class=\"dataframe\">\n",
       "<caption>A tibble: 3 × 5</caption>\n",
       "<thead>\n",
       "\t<tr><th scope=col>cluster_k3</th><th scope=col>valor_pago_medio</th><th scope=col>nota_satisfacao_media</th><th scope=col>qtde_clientes</th><th scope=col>perc_clientes</th></tr>\n",
       "\t<tr><th scope=col>&lt;int&gt;</th><th scope=col>&lt;dbl&gt;</th><th scope=col>&lt;dbl&gt;</th><th scope=col>&lt;int&gt;</th><th scope=col>&lt;dbl&gt;</th></tr>\n",
       "</thead>\n",
       "<tbody>\n",
       "\t<tr><td>1</td><td>1822</td><td>6.2</td><td> 856</td><td>0.29</td></tr>\n",
       "\t<tr><td>2</td><td>1201</td><td>8.6</td><td>1446</td><td>0.48</td></tr>\n",
       "\t<tr><td>3</td><td>2201</td><td>6.5</td><td> 690</td><td>0.23</td></tr>\n",
       "</tbody>\n",
       "</table>\n"
      ],
      "text/latex": [
       "A tibble: 3 × 5\n",
       "\\begin{tabular}{lllll}\n",
       " cluster\\_k3 & valor\\_pago\\_medio & nota\\_satisfacao\\_media & qtde\\_clientes & perc\\_clientes\\\\\n",
       " <int> & <dbl> & <dbl> & <int> & <dbl>\\\\\n",
       "\\hline\n",
       "\t 1 & 1822 & 6.2 &  856 & 0.29\\\\\n",
       "\t 2 & 1201 & 8.6 & 1446 & 0.48\\\\\n",
       "\t 3 & 2201 & 6.5 &  690 & 0.23\\\\\n",
       "\\end{tabular}\n"
      ],
      "text/markdown": [
       "\n",
       "A tibble: 3 × 5\n",
       "\n",
       "| cluster_k3 &lt;int&gt; | valor_pago_medio &lt;dbl&gt; | nota_satisfacao_media &lt;dbl&gt; | qtde_clientes &lt;int&gt; | perc_clientes &lt;dbl&gt; |\n",
       "|---|---|---|---|---|\n",
       "| 1 | 1822 | 6.2 |  856 | 0.29 |\n",
       "| 2 | 1201 | 8.6 | 1446 | 0.48 |\n",
       "| 3 | 2201 | 6.5 |  690 | 0.23 |\n",
       "\n"
      ],
      "text/plain": [
       "  cluster_k3 valor_pago_medio nota_satisfacao_media qtde_clientes perc_clientes\n",
       "1 1          1822             6.2                    856          0.29         \n",
       "2 2          1201             8.6                   1446          0.48         \n",
       "3 3          2201             6.5                    690          0.23         "
      ]
     },
     "metadata": {},
     "output_type": "display_data"
    }
   ],
   "source": [
    "# Médias das variáveis quantitativas\n",
    "dados_ecommerce %>%\n",
    "  group_by(cluster_k3) %>%\n",
    "  summarise(valor_pago_medio      = round(mean(VALOR_PAGO), 0),\n",
    "            nota_satisfacao_media = round(mean(NOTA_SATISFACAO), 1),\n",
    "            qtde_clientes         = n(),\n",
    "            perc_clientes         = round(n()/nrow(dados_ecommerce),2)) %>%\n",
    "  View()"
   ]
  },
  {
   "cell_type": "code",
   "execution_count": 13,
   "metadata": {
    "id": "6KMkZS7ZFbCs"
   },
   "outputs": [
    {
     "data": {
      "text/plain": [
       "   \n",
       "    celular computador televisao\n",
       "  1       0          0         1\n",
       "  2       1          0         0\n",
       "  3       0          1         0"
      ]
     },
     "metadata": {},
     "output_type": "display_data"
    }
   ],
   "source": [
    "# Distribuição (em %) da variável qualitativa, por cluster\n",
    "round(prop.table(table(dados_ecommerce$cluster_k3, dados_ecommerce$CATEGORIA), 1), 2)"
   ]
  },
  {
   "cell_type": "markdown",
   "metadata": {
    "id": "LZQJF_JzEEZt"
   },
   "source": [
    "### k = 4"
   ]
  },
  {
   "cell_type": "code",
   "execution_count": 14,
   "metadata": {
    "id": "lU6Z4u1BWEJq"
   },
   "outputs": [
    {
     "data": {
      "text/html": [
       "<table class=\"dataframe\">\n",
       "<caption>A tibble: 4 × 5</caption>\n",
       "<thead>\n",
       "\t<tr><th scope=col>cluster_k4</th><th scope=col>valor_pago_medio</th><th scope=col>nota_satisfacao_media</th><th scope=col>qtde_clientes</th><th scope=col>perc_clientes</th></tr>\n",
       "\t<tr><th scope=col>&lt;int&gt;</th><th scope=col>&lt;dbl&gt;</th><th scope=col>&lt;dbl&gt;</th><th scope=col>&lt;int&gt;</th><th scope=col>&lt;dbl&gt;</th></tr>\n",
       "</thead>\n",
       "<tbody>\n",
       "\t<tr><td>1</td><td>1822</td><td>6.2</td><td>856</td><td>0.29</td></tr>\n",
       "\t<tr><td>2</td><td>1205</td><td>9.6</td><td>941</td><td>0.31</td></tr>\n",
       "\t<tr><td>3</td><td>1193</td><td>6.8</td><td>505</td><td>0.17</td></tr>\n",
       "\t<tr><td>4</td><td>2201</td><td>6.5</td><td>690</td><td>0.23</td></tr>\n",
       "</tbody>\n",
       "</table>\n"
      ],
      "text/latex": [
       "A tibble: 4 × 5\n",
       "\\begin{tabular}{lllll}\n",
       " cluster\\_k4 & valor\\_pago\\_medio & nota\\_satisfacao\\_media & qtde\\_clientes & perc\\_clientes\\\\\n",
       " <int> & <dbl> & <dbl> & <int> & <dbl>\\\\\n",
       "\\hline\n",
       "\t 1 & 1822 & 6.2 & 856 & 0.29\\\\\n",
       "\t 2 & 1205 & 9.6 & 941 & 0.31\\\\\n",
       "\t 3 & 1193 & 6.8 & 505 & 0.17\\\\\n",
       "\t 4 & 2201 & 6.5 & 690 & 0.23\\\\\n",
       "\\end{tabular}\n"
      ],
      "text/markdown": [
       "\n",
       "A tibble: 4 × 5\n",
       "\n",
       "| cluster_k4 &lt;int&gt; | valor_pago_medio &lt;dbl&gt; | nota_satisfacao_media &lt;dbl&gt; | qtde_clientes &lt;int&gt; | perc_clientes &lt;dbl&gt; |\n",
       "|---|---|---|---|---|\n",
       "| 1 | 1822 | 6.2 | 856 | 0.29 |\n",
       "| 2 | 1205 | 9.6 | 941 | 0.31 |\n",
       "| 3 | 1193 | 6.8 | 505 | 0.17 |\n",
       "| 4 | 2201 | 6.5 | 690 | 0.23 |\n",
       "\n"
      ],
      "text/plain": [
       "  cluster_k4 valor_pago_medio nota_satisfacao_media qtde_clientes perc_clientes\n",
       "1 1          1822             6.2                   856           0.29         \n",
       "2 2          1205             9.6                   941           0.31         \n",
       "3 3          1193             6.8                   505           0.17         \n",
       "4 4          2201             6.5                   690           0.23         "
      ]
     },
     "metadata": {},
     "output_type": "display_data"
    }
   ],
   "source": [
    "# Médias das variáveis quantitativas\n",
    "dados_ecommerce %>%\n",
    "  group_by(cluster_k4) %>%\n",
    "  summarise(valor_pago_medio      = round(mean(VALOR_PAGO), 0),\n",
    "            nota_satisfacao_media = round(mean(NOTA_SATISFACAO), 1),\n",
    "            qtde_clientes         = n(),\n",
    "            perc_clientes         = round(n()/nrow(dados_ecommerce),2)) %>%\n",
    "  View()"
   ]
  },
  {
   "cell_type": "code",
   "execution_count": 15,
   "metadata": {
    "id": "Xj6tful6W9lv"
   },
   "outputs": [
    {
     "data": {
      "text/plain": [
       "   \n",
       "    celular computador televisao\n",
       "  1       0          0         1\n",
       "  2       1          0         0\n",
       "  3       1          0         0\n",
       "  4       0          1         0"
      ]
     },
     "metadata": {},
     "output_type": "display_data"
    }
   ],
   "source": [
    "# Distribuição (em %) da variável qualitativa, por cluster\n",
    "round(prop.table(table(dados_ecommerce$cluster_k4, dados_ecommerce$CATEGORIA), 1), 2)"
   ]
  },
  {
   "cell_type": "markdown",
   "metadata": {
    "id": "PSvtcCbeFaqs"
   },
   "source": [
    "### k = 5"
   ]
  },
  {
   "cell_type": "code",
   "execution_count": 16,
   "metadata": {
    "id": "Xa6JIEgbFaqy"
   },
   "outputs": [
    {
     "data": {
      "text/html": [
       "<table class=\"dataframe\">\n",
       "<caption>A tibble: 5 × 5</caption>\n",
       "<thead>\n",
       "\t<tr><th scope=col>cluster_k5</th><th scope=col>valor_pago_medio</th><th scope=col>nota_satisfacao_media</th><th scope=col>qtde_clientes</th><th scope=col>perc_clientes</th></tr>\n",
       "\t<tr><th scope=col>&lt;int&gt;</th><th scope=col>&lt;dbl&gt;</th><th scope=col>&lt;dbl&gt;</th><th scope=col>&lt;int&gt;</th><th scope=col>&lt;dbl&gt;</th></tr>\n",
       "</thead>\n",
       "<tbody>\n",
       "\t<tr><td>1</td><td>1822</td><td>6.2</td><td>856</td><td>0.29</td></tr>\n",
       "\t<tr><td>2</td><td>1205</td><td>9.6</td><td>941</td><td>0.31</td></tr>\n",
       "\t<tr><td>3</td><td>1193</td><td>6.8</td><td>505</td><td>0.17</td></tr>\n",
       "\t<tr><td>4</td><td>1809</td><td>3.9</td><td>342</td><td>0.11</td></tr>\n",
       "\t<tr><td>5</td><td>2585</td><td>9.0</td><td>348</td><td>0.12</td></tr>\n",
       "</tbody>\n",
       "</table>\n"
      ],
      "text/latex": [
       "A tibble: 5 × 5\n",
       "\\begin{tabular}{lllll}\n",
       " cluster\\_k5 & valor\\_pago\\_medio & nota\\_satisfacao\\_media & qtde\\_clientes & perc\\_clientes\\\\\n",
       " <int> & <dbl> & <dbl> & <int> & <dbl>\\\\\n",
       "\\hline\n",
       "\t 1 & 1822 & 6.2 & 856 & 0.29\\\\\n",
       "\t 2 & 1205 & 9.6 & 941 & 0.31\\\\\n",
       "\t 3 & 1193 & 6.8 & 505 & 0.17\\\\\n",
       "\t 4 & 1809 & 3.9 & 342 & 0.11\\\\\n",
       "\t 5 & 2585 & 9.0 & 348 & 0.12\\\\\n",
       "\\end{tabular}\n"
      ],
      "text/markdown": [
       "\n",
       "A tibble: 5 × 5\n",
       "\n",
       "| cluster_k5 &lt;int&gt; | valor_pago_medio &lt;dbl&gt; | nota_satisfacao_media &lt;dbl&gt; | qtde_clientes &lt;int&gt; | perc_clientes &lt;dbl&gt; |\n",
       "|---|---|---|---|---|\n",
       "| 1 | 1822 | 6.2 | 856 | 0.29 |\n",
       "| 2 | 1205 | 9.6 | 941 | 0.31 |\n",
       "| 3 | 1193 | 6.8 | 505 | 0.17 |\n",
       "| 4 | 1809 | 3.9 | 342 | 0.11 |\n",
       "| 5 | 2585 | 9.0 | 348 | 0.12 |\n",
       "\n"
      ],
      "text/plain": [
       "  cluster_k5 valor_pago_medio nota_satisfacao_media qtde_clientes perc_clientes\n",
       "1 1          1822             6.2                   856           0.29         \n",
       "2 2          1205             9.6                   941           0.31         \n",
       "3 3          1193             6.8                   505           0.17         \n",
       "4 4          1809             3.9                   342           0.11         \n",
       "5 5          2585             9.0                   348           0.12         "
      ]
     },
     "metadata": {},
     "output_type": "display_data"
    }
   ],
   "source": [
    "# Médias das variáveis quantitativas\n",
    "dados_ecommerce %>%\n",
    "  group_by(cluster_k5) %>%\n",
    "  summarise(valor_pago_medio      = round(mean(VALOR_PAGO), 0),\n",
    "            nota_satisfacao_media = round(mean(NOTA_SATISFACAO), 1),\n",
    "            qtde_clientes         = n(),\n",
    "            perc_clientes         = round(n()/nrow(dados_ecommerce),2)) %>%\n",
    "  View()"
   ]
  },
  {
   "cell_type": "code",
   "execution_count": 17,
   "metadata": {
    "id": "kfW2ofLHFaqy"
   },
   "outputs": [
    {
     "data": {
      "text/plain": [
       "   \n",
       "    celular computador televisao\n",
       "  1       0          0         1\n",
       "  2       1          0         0\n",
       "  3       1          0         0\n",
       "  4       0          1         0\n",
       "  5       0          1         0"
      ]
     },
     "metadata": {},
     "output_type": "display_data"
    }
   ],
   "source": [
    "# Distribuição (em %) da variável qualitativa, por cluster\n",
    "round(prop.table(table(dados_ecommerce$cluster_k5, dados_ecommerce$CATEGORIA), 1), 2)"
   ]
  }
 ],
 "metadata": {
  "colab": {
   "provenance": []
  },
  "kernelspec": {
   "display_name": "R",
   "language": "R",
   "name": "ir"
  },
  "language_info": {
   "codemirror_mode": "r",
   "file_extension": ".r",
   "mimetype": "text/x-r-source",
   "name": "R",
   "pygments_lexer": "r",
   "version": "4.4.1"
  }
 },
 "nbformat": 4,
 "nbformat_minor": 4
}

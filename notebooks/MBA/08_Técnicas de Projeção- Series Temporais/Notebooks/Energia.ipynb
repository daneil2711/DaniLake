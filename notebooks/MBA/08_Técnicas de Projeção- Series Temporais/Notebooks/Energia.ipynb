{
  "nbformat": 4,
  "nbformat_minor": 0,
  "metadata": {
    "colab": {
      "provenance": []
    },
    "kernelspec": {
      "name": "ir",
      "display_name": "R"
    },
    "language_info": {
      "name": "R"
    }
  },
  "cells": [
    {
      "cell_type": "markdown",
      "source": [
        "# **CASE: ENERGIA**\n",
        "\n",
        "---"
      ],
      "metadata": {
        "id": "L2vudERBJTiT"
      }
    },
    {
      "cell_type": "markdown",
      "source": [
        "### Instalação de bibliotecas"
      ],
      "metadata": {
        "id": "nGD5Csd2q7VV"
      }
    },
    {
      "cell_type": "code",
      "source": [
        "# Para teste de estacionariedade\n",
        "install.packages(\"urca\")\n",
        "# Para ajuste automático de modelo ARIMA e realização de previsões\n",
        "install.packages(\"forecast\")"
      ],
      "metadata": {
        "id": "DY4aICW6q8Eb"
      },
      "execution_count": null,
      "outputs": []
    },
    {
      "cell_type": "markdown",
      "source": [
        "### Carregamento de bibliotecas"
      ],
      "metadata": {
        "id": "99PaLHQgvG4X"
      }
    },
    {
      "cell_type": "code",
      "source": [
        "library(urca)\n",
        "library(forecast)"
      ],
      "metadata": {
        "id": "ypvOgRlIrJaq"
      },
      "execution_count": null,
      "outputs": []
    },
    {
      "cell_type": "markdown",
      "source": [
        "### Leitura da base de dados"
      ],
      "metadata": {
        "id": "AppXoGlSJa4f"
      }
    },
    {
      "cell_type": "code",
      "source": [
        "dados_energia <- read.table(file = \"Energia.txt\",\n",
        "                            sep = \"\\t\",\n",
        "                            dec = \".\",\n",
        "                            header = TRUE)"
      ],
      "metadata": {
        "id": "BKIVxb-yO6kt"
      },
      "execution_count": null,
      "outputs": []
    },
    {
      "cell_type": "markdown",
      "source": [
        "### Visualização da base de dados"
      ],
      "metadata": {
        "id": "QjxtmJktJf24"
      }
    },
    {
      "cell_type": "code",
      "source": [
        "View(dados_energia)"
      ],
      "metadata": {
        "id": "FJUJqh-_O4Dh"
      },
      "execution_count": null,
      "outputs": []
    },
    {
      "cell_type": "markdown",
      "source": [
        "### Definição das séries"
      ],
      "metadata": {
        "id": "Ycao5AfBFjJJ"
      }
    },
    {
      "cell_type": "code",
      "source": [
        "# Série de consumo (resposta)\n",
        "serie_consumo <- ts(dados_energia$CONSUMO_GWH)"
      ],
      "metadata": {
        "id": "TOedEX9JFjjd"
      },
      "execution_count": null,
      "outputs": []
    },
    {
      "cell_type": "code",
      "source": [
        "# Série de capacidade instalada (explicativa)\n",
        "serie_capacidade <- ts(dados_energia$CAPACIDADE_INSTALADA_MW)"
      ],
      "metadata": {
        "id": "lH5HWaRsfVbP"
      },
      "execution_count": null,
      "outputs": []
    },
    {
      "cell_type": "markdown",
      "source": [
        "### Análise exploratória das séries"
      ],
      "metadata": {
        "id": "PYTvweDFJimD"
      }
    },
    {
      "cell_type": "code",
      "source": [
        "# Comando auxiliar para aumentar resolução do gráfico (recomendado apenas no Colab)\n",
        "reset_options <- options()\n",
        "options(repr.plot.width = 14, repr.plot.height = 5)"
      ],
      "metadata": {
        "id": "N1orY0I9fhXd"
      },
      "execution_count": null,
      "outputs": []
    },
    {
      "cell_type": "code",
      "source": [
        "# Gráficos individuais das séries e gráfico de dispersão\n",
        "par(mfrow = c(1,3))\n",
        "plot(serie_consumo,\n",
        "     type = \"l\",\n",
        "     lwd  = 1.5,\n",
        "     col  = \"darkturquoise\",\n",
        "     main = \"Consumo de energia (GWh)\",\n",
        "     xlab = \"Quinzena\",\n",
        "     ylab = \"Índice (GWh)\")\n",
        "plot(serie_capacidade,\n",
        "     type = \"l\",\n",
        "     lwd  = 1.5,\n",
        "     col  = \"darkturquoise\",\n",
        "     main = \"Capacidade instalada (MW)\",\n",
        "     xlab = \"Quinzena\",\n",
        "     ylab = \"Índice (MW)\")\n",
        "plot(dados_energia$CAPACIDADE_INSTALADA_MW,\n",
        "     dados_energia$CONSUMO_GWH,\n",
        "     col  = \"darkturquoise\",\n",
        "     pch  = 19,\n",
        "     main = \"Consumo de energia (GWh) versus capacidade instalada (MW)\",\n",
        "     xlab = \"Capacidade instalada (MW)\",\n",
        "     ylab = \"Consumo (GWh)\")"
      ],
      "metadata": {
        "id": "TD_M_1CzO0L8"
      },
      "execution_count": null,
      "outputs": []
    },
    {
      "cell_type": "code",
      "source": [
        "# Teste de estacionariedade de Dickey-Fuller Generalizado (DF-GLS) para série de consumo de energia\n",
        "teste_consumo <- ur.ers(serie_consumo)\n",
        "summary(teste_consumo)"
      ],
      "metadata": {
        "id": "xJ7mGpUpO_7M"
      },
      "execution_count": null,
      "outputs": []
    },
    {
      "cell_type": "code",
      "source": [
        "# Verificação de se é possível rejeitar a hipótese nula de não estacionariedade (TRUE representa sim, FALSE representa não)\n",
        "teste_consumo@teststat < teste_consumo@cval"
      ],
      "metadata": {
        "id": "ETglmSFiKEmM"
      },
      "execution_count": null,
      "outputs": []
    },
    {
      "cell_type": "code",
      "source": [
        "# Teste de estacionariedade de Dickey-Fuller Generalizado (DF-GLS) para série de capacidade instalada\n",
        "teste_capacidade <- ur.ers(serie_capacidade)\n",
        "summary(teste_capacidade)"
      ],
      "metadata": {
        "id": "qJn48fscfICD"
      },
      "execution_count": null,
      "outputs": []
    },
    {
      "cell_type": "code",
      "source": [
        "# Verificação de se é possível rejeitar a hipótese nula de não estacionariedade (TRUE representa sim, FALSE representa não)\n",
        "teste_capacidade@teststat < teste_capacidade@cval"
      ],
      "metadata": {
        "id": "E25zXnSNfQ1i"
      },
      "execution_count": null,
      "outputs": []
    },
    {
      "cell_type": "markdown",
      "source": [
        "### Modelo da classe (S)ARIMA"
      ],
      "metadata": {
        "id": "CY5TJmDHOBbB"
      }
    },
    {
      "cell_type": "code",
      "source": [
        "# Ajuste do melhor modelo\n",
        "modelo_arima <- auto.arima(serie_consumo)\n",
        "print(modelo_arima)"
      ],
      "metadata": {
        "id": "viHY4ki-ON8_"
      },
      "execution_count": null,
      "outputs": []
    },
    {
      "cell_type": "markdown",
      "source": [
        "### Modelo de regressão linear simples"
      ],
      "metadata": {
        "id": "hvZQdAvYJn80"
      }
    },
    {
      "cell_type": "code",
      "source": [
        "# Comando auxiliar para para omitir notação científica nos p-valores\n",
        "options(scipen = 999)"
      ],
      "metadata": {
        "id": "AHPiXct_PCD-"
      },
      "execution_count": null,
      "outputs": []
    },
    {
      "cell_type": "code",
      "source": [
        "# Ajuste do modelo\n",
        "modelo_lin <- lm(serie_consumo ~ serie_capacidade)\n",
        "summary(modelo_lin)"
      ],
      "metadata": {
        "id": "9JrY9HFWkDvz"
      },
      "execution_count": null,
      "outputs": []
    },
    {
      "cell_type": "code",
      "source": [
        "# Cálculo dos valores preditos\n",
        "predito_modelo_lin <- ts(modelo_lin$fitted.values)"
      ],
      "metadata": {
        "id": "lc3EPCw4j_Li"
      },
      "execution_count": null,
      "outputs": []
    },
    {
      "cell_type": "markdown",
      "source": [
        "### Modelo de regressão linear temporal com erros (S)ARIMA"
      ],
      "metadata": {
        "id": "liLVwlHQkZsG"
      }
    },
    {
      "cell_type": "code",
      "source": [
        "# Ajuste do melhor modelo\n",
        "modelo_lin_arima <- auto.arima(serie_consumo, xreg = serie_capacidade)\n",
        "print(modelo_lin_arima)"
      ],
      "metadata": {
        "id": "YugAaIaWxki8"
      },
      "execution_count": null,
      "outputs": []
    },
    {
      "cell_type": "markdown",
      "source": [
        "### Comparação visual dos modelos"
      ],
      "metadata": {
        "id": "7-OKU5_9k7mo"
      }
    },
    {
      "cell_type": "code",
      "source": [
        "# Gráfico dos valores observados da série versus valores preditos pelos dois modelos anteriores\n",
        "par(mfrow = c(1,1))\n",
        "plot(serie_consumo,\n",
        "     type = \"l\",\n",
        "     lwd = 1.5,\n",
        "     col = \"grey\",\n",
        "     main = \"Comparação dos modelos para o consumo de energia (GWh)\",\n",
        "     xlab = \"Quinzena\",\n",
        "     ylab = \"Índice (GWh)\")\n",
        "points(modelo_arima$fitted,\n",
        "       type = \"l\",\n",
        "       lty = 3,\n",
        "       lwd = 3,\n",
        "       col = \"orange\")\n",
        "points(predito_modelo_lin,\n",
        "       type = \"l\",\n",
        "       lty = 3,\n",
        "       lwd = 3,\n",
        "       col = \"red\")\n",
        "points(modelo_lin_arima$fitted,\n",
        "       type = \"l\",\n",
        "       lwd = 2,\n",
        "       col = \"darkturquoise\")"
      ],
      "metadata": {
        "id": "pSDMSoOYvSCu"
      },
      "execution_count": null,
      "outputs": []
    },
    {
      "cell_type": "markdown",
      "source": [
        "### Diagnóstico dos modelos"
      ],
      "metadata": {
        "id": "EaZKP6-FwSVI"
      }
    },
    {
      "cell_type": "code",
      "source": [
        "# Cálculo do REQM para modelo da classe (S)ARIMA\n",
        "sqrt(mean(modelo_arima$residuals^2))"
      ],
      "metadata": {
        "id": "WDXgujGCwYJE"
      },
      "execution_count": null,
      "outputs": []
    },
    {
      "cell_type": "code",
      "source": [
        "# Cálculo do REQM para modelo de regressão linear simples\n",
        "sqrt(mean(modelo_lin$residuals^2))"
      ],
      "metadata": {
        "id": "9j46WdUMQP0e"
      },
      "execution_count": null,
      "outputs": []
    },
    {
      "cell_type": "code",
      "source": [
        "# Cálculo do REQM para modelo de regressão linear temporal com erros (S)ARIMA\n",
        "sqrt(mean(modelo_lin_arima$residuals^2))"
      ],
      "metadata": {
        "id": "UELfYpS-lEgD"
      },
      "execution_count": null,
      "outputs": []
    },
    {
      "cell_type": "markdown",
      "source": [
        "### Previsões do melhor modelo\n",
        "\n",
        "\n",
        "\n"
      ],
      "metadata": {
        "id": "usjTOesQJpQI"
      }
    },
    {
      "cell_type": "code",
      "source": [
        "# Salvando num objeto à parte os índices de capacidade instalada para as próximas duas quinzenas\n",
        "dados_xreg <- c(200, 230)"
      ],
      "metadata": {
        "id": "SRr0HokUyf6E"
      },
      "execution_count": null,
      "outputs": []
    },
    {
      "cell_type": "code",
      "source": [
        "# Previsões para as próximas duas quinzenas\n",
        "previsoes <- forecast(modelo_lin_arima, h = 2, xreg = dados_xreg)\n",
        "round(previsoes$mean, 1)"
      ],
      "metadata": {
        "id": "R-40Qmvyldua"
      },
      "execution_count": null,
      "outputs": []
    },
    {
      "cell_type": "code",
      "source": [
        "# Gráfico da série de consumo, incluindo previsões\n",
        "plot(previsoes,\n",
        "     type = \"l\",\n",
        "     lwd = 2,\n",
        "     col = \"darkturquoise\",\n",
        "     main = \"Consumo de energia (GWh)\",\n",
        "     xlab = \"Quinzena\",\n",
        "     ylab = \"Índice (GWh)\")"
      ],
      "metadata": {
        "id": "jzOA-NoBPTuv"
      },
      "execution_count": null,
      "outputs": []
    }
  ]
}
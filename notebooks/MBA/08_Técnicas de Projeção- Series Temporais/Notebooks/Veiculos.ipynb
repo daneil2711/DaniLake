{
  "nbformat": 4,
  "nbformat_minor": 0,
  "metadata": {
    "colab": {
      "provenance": []
    },
    "kernelspec": {
      "name": "ir",
      "display_name": "R"
    },
    "language_info": {
      "name": "R"
    }
  },
  "cells": [
    {
      "cell_type": "markdown",
      "source": [
        "# **CASE: VEÍCULOS**\n",
        "\n",
        "---"
      ],
      "metadata": {
        "id": "L2vudERBJTiT"
      }
    },
    {
      "cell_type": "markdown",
      "source": [
        "### Instalação de bibliotecas"
      ],
      "metadata": {
        "id": "nGD5Csd2q7VV"
      }
    },
    {
      "cell_type": "code",
      "source": [
        "# Para teste de estacionariedade\n",
        "install.packages(\"urca\")\n",
        "# Para ajuste automático de modelo ARIMA e realização de previsões\n",
        "install.packages(\"forecast\")"
      ],
      "metadata": {
        "id": "DY4aICW6q8Eb"
      },
      "execution_count": null,
      "outputs": []
    },
    {
      "cell_type": "markdown",
      "source": [
        "### Carregamento de bibliotecas"
      ],
      "metadata": {
        "id": "99PaLHQgvG4X"
      }
    },
    {
      "cell_type": "code",
      "source": [
        "library(urca)\n",
        "library(forecast)"
      ],
      "metadata": {
        "id": "ypvOgRlIrJaq"
      },
      "execution_count": null,
      "outputs": []
    },
    {
      "cell_type": "markdown",
      "source": [
        "### Leitura da base de dados"
      ],
      "metadata": {
        "id": "AppXoGlSJa4f"
      }
    },
    {
      "cell_type": "code",
      "source": [
        "dados_veiculos <- read.table(file = \"Veiculos.txt\",\n",
        "                             sep = \"\\t\",\n",
        "                             dec = \".\",\n",
        "                             header = TRUE)"
      ],
      "metadata": {
        "id": "BKIVxb-yO6kt"
      },
      "execution_count": null,
      "outputs": []
    },
    {
      "cell_type": "markdown",
      "source": [
        "### Visualização da base de dados"
      ],
      "metadata": {
        "id": "QjxtmJktJf24"
      }
    },
    {
      "cell_type": "code",
      "source": [
        "View(dados_veiculos)"
      ],
      "metadata": {
        "id": "FJUJqh-_O4Dh"
      },
      "execution_count": null,
      "outputs": []
    },
    {
      "cell_type": "markdown",
      "source": [
        "### Definição da série"
      ],
      "metadata": {
        "id": "Ycao5AfBFjJJ"
      }
    },
    {
      "cell_type": "code",
      "source": [
        "serie <- ts(dados_veiculos$QTDE_VEICULOS,\n",
        "            start = c(2011, 6),\n",
        "            end = c(2023, 5),\n",
        "            frequency = 12)"
      ],
      "metadata": {
        "id": "TOedEX9JFjjd"
      },
      "execution_count": null,
      "outputs": []
    },
    {
      "cell_type": "markdown",
      "source": [
        "### Análise exploratória da série"
      ],
      "metadata": {
        "id": "PYTvweDFJimD"
      }
    },
    {
      "cell_type": "code",
      "source": [
        "# Gráfico da série\n",
        "plot(serie,\n",
        "     type = \"l\",\n",
        "     lwd = 2,\n",
        "     col = \"darkturquoise\",\n",
        "     main = \"Volume de tráfego de veículos\",\n",
        "     xlab = \"Mês\",\n",
        "     ylab = \"Qtde. de veículos\")\n",
        "points(serie,\n",
        "       pch = 19,\n",
        "       col = \"darkturquoise\")"
      ],
      "metadata": {
        "id": "TD_M_1CzO0L8"
      },
      "execution_count": null,
      "outputs": []
    },
    {
      "cell_type": "code",
      "source": [
        "# Teste de estacionariedade de Dickey-Fuller Generalizado (DF-GLS)\n",
        "teste <- ur.ers(serie)\n",
        "summary(teste)"
      ],
      "metadata": {
        "id": "xJ7mGpUpO_7M"
      },
      "execution_count": null,
      "outputs": []
    },
    {
      "cell_type": "code",
      "source": [
        "# Verificação de se é possível rejeitar a hipótese nula de não estacionariedade (TRUE representa sim, FALSE representa não)\n",
        "teste@teststat < teste@cval"
      ],
      "metadata": {
        "id": "ETglmSFiKEmM"
      },
      "execution_count": null,
      "outputs": []
    },
    {
      "cell_type": "markdown",
      "source": [
        "### Identificação do modelo da classe (S)ARIMA"
      ],
      "metadata": {
        "id": "hvZQdAvYJn80"
      }
    },
    {
      "cell_type": "code",
      "source": [
        "# Ajuste do melhor modelo\n",
        "modelo <- auto.arima(serie)\n",
        "print(modelo)"
      ],
      "metadata": {
        "id": "YugAaIaWxki8"
      },
      "execution_count": null,
      "outputs": []
    },
    {
      "cell_type": "code",
      "source": [
        "# Gráfico dos valores observados da série versus valores preditos pelo modelo\n",
        "plot(serie,\n",
        "     type = \"l\",\n",
        "     lwd = 2,\n",
        "     col = \"darkturquoise\",\n",
        "     main = \"Volume de tráfego de veículos\",\n",
        "     xlab = \"Mês\",\n",
        "     ylab = \"Qtde. de veículos\")\n",
        "points(modelo$fitted,\n",
        "       type = \"l\",\n",
        "       lwd = 2,\n",
        "       lty = 2,\n",
        "       col = \"red\")"
      ],
      "metadata": {
        "id": "pSDMSoOYvSCu"
      },
      "execution_count": null,
      "outputs": []
    },
    {
      "cell_type": "markdown",
      "source": [
        "### Diagnóstico do modelo"
      ],
      "metadata": {
        "id": "EaZKP6-FwSVI"
      }
    },
    {
      "cell_type": "code",
      "source": [
        "# Cálculo do REQM\n",
        "sqrt(mean(modelo$residuals^2))"
      ],
      "metadata": {
        "id": "WDXgujGCwYJE"
      },
      "execution_count": null,
      "outputs": []
    },
    {
      "cell_type": "markdown",
      "source": [
        "### Previsões do modelo\n",
        "\n",
        "\n",
        "\n"
      ],
      "metadata": {
        "id": "usjTOesQJpQI"
      }
    },
    {
      "cell_type": "code",
      "source": [
        "# Previsões para os próximos 12 meses\n",
        "previsoes <- forecast(modelo, h = 12)\n",
        "round(previsoes$mean, 2)"
      ],
      "metadata": {
        "id": "SRr0HokUyf6E"
      },
      "execution_count": null,
      "outputs": []
    },
    {
      "cell_type": "code",
      "source": [
        "# Gráfico da série, incluindo previsões\n",
        "plot(previsoes,\n",
        "     type = \"l\",\n",
        "     lwd = 2,\n",
        "     col = \"darkturquoise\",\n",
        "     main = \"Volume de tráfego de veículos\",\n",
        "     xlab = \"Mês\",\n",
        "     ylab = \"Qtde. de veículos\")"
      ],
      "metadata": {
        "id": "jzOA-NoBPTuv"
      },
      "execution_count": null,
      "outputs": []
    }
  ]
}
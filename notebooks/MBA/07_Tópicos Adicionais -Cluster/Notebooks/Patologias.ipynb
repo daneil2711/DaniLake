{
 "cells": [
  {
   "cell_type": "markdown",
   "metadata": {
    "id": "L2vudERBJTiT"
   },
   "source": [
    "# **CASE: PATOLOGIAS**\n",
    "\n",
    "---"
   ]
  },
  {
   "cell_type": "markdown",
   "metadata": {
    "id": "nGD5Csd2q7VV"
   },
   "source": [
    "### Instalação de bibliotecas"
   ]
  },
  {
   "cell_type": "code",
   "execution_count": 1,
   "metadata": {
    "id": "DY4aICW6q8Eb"
   },
   "outputs": [],
   "source": [
    "# # Para análise de cesta de compras\n",
    "# install.packages(\"arules\")\n",
    "# install.packages(\"arulesViz\")"
   ]
  },
  {
   "cell_type": "markdown",
   "metadata": {
    "id": "99PaLHQgvG4X"
   },
   "source": [
    "### Carregamento de bibliotecas"
   ]
  },
  {
   "cell_type": "code",
   "execution_count": 2,
   "metadata": {
    "id": "ypvOgRlIrJaq"
   },
   "outputs": [
    {
     "name": "stderr",
     "output_type": "stream",
     "text": [
      "Loading required package: Matrix\n",
      "\n",
      "\n",
      "Attaching package: ‘arules’\n",
      "\n",
      "\n",
      "The following objects are masked from ‘package:base’:\n",
      "\n",
      "    abbreviate, write\n",
      "\n",
      "\n"
     ]
    }
   ],
   "source": [
    "library(arules)\n",
    "library(arulesViz)"
   ]
  },
  {
   "cell_type": "markdown",
   "metadata": {
    "id": "AppXoGlSJa4f"
   },
   "source": [
    "### Leitura da base de dados"
   ]
  },
  {
   "cell_type": "code",
   "execution_count": 3,
   "metadata": {
    "id": "BKIVxb-yO6kt"
   },
   "outputs": [],
   "source": [
    "dados_patologias <- read.table(\"../Dados/Patologias.txt\",\n",
    "                               sep = \"\\t\",\n",
    "                               header = TRUE)"
   ]
  },
  {
   "cell_type": "code",
   "execution_count": 4,
   "metadata": {
    "colab": {
     "base_uri": "https://localhost:8080/",
     "height": 286
    },
    "id": "FJUJqh-_O4Dh",
    "outputId": "4f793fef-7909-4892-c97c-6690f1df5220"
   },
   "outputs": [
    {
     "data": {
      "text/html": [
       "<table class=\"dataframe\">\n",
       "<caption>A data.frame: 6 × 2</caption>\n",
       "<thead>\n",
       "\t<tr><th></th><th scope=col>ID_PACIENTE</th><th scope=col>PATOLOGIA</th></tr>\n",
       "\t<tr><th></th><th scope=col>&lt;int&gt;</th><th scope=col>&lt;chr&gt;</th></tr>\n",
       "</thead>\n",
       "<tbody>\n",
       "\t<tr><th scope=row>1</th><td>1</td><td>Hipertensao              </td></tr>\n",
       "\t<tr><th scope=row>2</th><td>1</td><td>ApneiaDoSono             </td></tr>\n",
       "\t<tr><th scope=row>3</th><td>1</td><td>SindrMetabolica          </td></tr>\n",
       "\t<tr><th scope=row>4</th><td>2</td><td>InsuficienciaCardiaca    </td></tr>\n",
       "\t<tr><th scope=row>5</th><td>2</td><td>ApneiaDoSono             </td></tr>\n",
       "\t<tr><th scope=row>6</th><td>2</td><td>DoencaArterialCoronariana</td></tr>\n",
       "</tbody>\n",
       "</table>\n"
      ],
      "text/latex": [
       "A data.frame: 6 × 2\n",
       "\\begin{tabular}{r|ll}\n",
       "  & ID\\_PACIENTE & PATOLOGIA\\\\\n",
       "  & <int> & <chr>\\\\\n",
       "\\hline\n",
       "\t1 & 1 & Hipertensao              \\\\\n",
       "\t2 & 1 & ApneiaDoSono             \\\\\n",
       "\t3 & 1 & SindrMetabolica          \\\\\n",
       "\t4 & 2 & InsuficienciaCardiaca    \\\\\n",
       "\t5 & 2 & ApneiaDoSono             \\\\\n",
       "\t6 & 2 & DoencaArterialCoronariana\\\\\n",
       "\\end{tabular}\n"
      ],
      "text/markdown": [
       "\n",
       "A data.frame: 6 × 2\n",
       "\n",
       "| <!--/--> | ID_PACIENTE &lt;int&gt; | PATOLOGIA &lt;chr&gt; |\n",
       "|---|---|---|\n",
       "| 1 | 1 | Hipertensao               |\n",
       "| 2 | 1 | ApneiaDoSono              |\n",
       "| 3 | 1 | SindrMetabolica           |\n",
       "| 4 | 2 | InsuficienciaCardiaca     |\n",
       "| 5 | 2 | ApneiaDoSono              |\n",
       "| 6 | 2 | DoencaArterialCoronariana |\n",
       "\n"
      ],
      "text/plain": [
       "  ID_PACIENTE PATOLOGIA                \n",
       "1 1           Hipertensao              \n",
       "2 1           ApneiaDoSono             \n",
       "3 1           SindrMetabolica          \n",
       "4 2           InsuficienciaCardiaca    \n",
       "5 2           ApneiaDoSono             \n",
       "6 2           DoencaArterialCoronariana"
      ]
     },
     "metadata": {},
     "output_type": "display_data"
    }
   ],
   "source": [
    "head(dados_patologias)"
   ]
  },
  {
   "cell_type": "markdown",
   "metadata": {
    "id": "PYTvweDFJimD"
   },
   "source": [
    "### Converter os dados para formato de transações (no caso, pacientes)"
   ]
  },
  {
   "cell_type": "code",
   "execution_count": 5,
   "metadata": {
    "id": "TD_M_1CzO0L8"
   },
   "outputs": [],
   "source": [
    "pacientes <- as(split(dados_patologias$PATOLOGIA, dados_patologias$ID_PACIENTE), \"transactions\")"
   ]
  },
  {
   "cell_type": "markdown",
   "metadata": {
    "id": "hvZQdAvYJn80"
   },
   "source": [
    "### Visualizar os 10 primeiros pacientes"
   ]
  },
  {
   "cell_type": "code",
   "execution_count": 6,
   "metadata": {
    "colab": {
     "base_uri": "https://localhost:8080/"
    },
    "id": "sVlrFM4iep7L",
    "outputId": "aee7d512-1cf2-4ad8-b038-b6b7b21b411c"
   },
   "outputs": [
    {
     "name": "stdout",
     "output_type": "stream",
     "text": [
      "     items                        transactionID\n",
      "[1]  {ApneiaDoSono,                            \n",
      "      Hipertensao,                             \n",
      "      SindrMetabolica}                       1 \n",
      "[2]  {ApneiaDoSono,                            \n",
      "      DoencaArterialCoronariana,               \n",
      "      InsuficienciaCardiaca}                 2 \n",
      "[3]  {DiabetesTipo2,                           \n",
      "      DoencaRenalCronica,                      \n",
      "      Hipertensao}                           3 \n",
      "[4]  {Dislipidemia,                            \n",
      "      DoencaArterialCoronariana,               \n",
      "      SindrMetabolica}                       4 \n",
      "[5]  {DiabetesTipo2,                           \n",
      "      DoencaRenalCronica,                      \n",
      "      Hipertensao}                           5 \n",
      "[6]  {DiabetesTipo2,                           \n",
      "      DoencaRenalCronica,                      \n",
      "      Hipertensao,                             \n",
      "      InsuficienciaCardiaca}                 6 \n",
      "[7]  {DiabetesTipo2,                           \n",
      "      DoencaRenalCronica,                      \n",
      "      Hipertensao}                           7 \n",
      "[8]  {ApneiaDoSono,                            \n",
      "      DoencaArterialCoronariana,               \n",
      "      InsuficienciaCardiaca}                 8 \n",
      "[9]  {Dislipidemia,                            \n",
      "      DoencaArterialCoronariana,               \n",
      "      SindrMetabolica}                       9 \n",
      "[10] {ApneiaDoSono,                            \n",
      "      DiabetesTipo2,                           \n",
      "      Dislipidemia,                            \n",
      "      DoencaArterialCoronariana}             10\n"
     ]
    }
   ],
   "source": [
    "inspect(pacientes[1:10])"
   ]
  },
  {
   "cell_type": "markdown",
   "metadata": {
    "id": "usjTOesQJpQI"
   },
   "source": [
    "### Análise exploratória"
   ]
  },
  {
   "cell_type": "code",
   "execution_count": 7,
   "metadata": {
    "colab": {
     "base_uri": "https://localhost:8080/",
     "height": 121
    },
    "id": "jzOA-NoBPTuv",
    "outputId": "229b98c6-e066-43d6-d2f1-1a893dad09e6"
   },
   "outputs": [
    {
     "data": {
      "text/plain": [
       "\n",
       "  2   3   4 \n",
       "174 549 287 "
      ]
     },
     "metadata": {},
     "output_type": "display_data"
    },
    {
     "data": {
      "text/plain": [
       "\n",
       "        2         3         4 \n",
       "0.1722772 0.5435644 0.2841584 "
      ]
     },
     "metadata": {},
     "output_type": "display_data"
    }
   ],
   "source": [
    "# Distribuição da quantidade de patologias por paciente\n",
    "table(size(pacientes))\n",
    "prop.table(table(size(pacientes)))"
   ]
  },
  {
   "cell_type": "code",
   "execution_count": 8,
   "metadata": {
    "colab": {
     "base_uri": "https://localhost:8080/",
     "height": 412
    },
    "id": "_chXPFxunWD9",
    "outputId": "3e1cd5cb-5bc8-4a73-8760-4f9ac73f737e"
   },
   "outputs": [
    {
     "data": {
      "text/html": [
       "<table class=\"dataframe\">\n",
       "<caption>A data.frame: 10 × 1</caption>\n",
       "<thead>\n",
       "\t<tr><th></th><th scope=col>frequencias</th></tr>\n",
       "\t<tr><th></th><th scope=col>&lt;dbl&gt;</th></tr>\n",
       "</thead>\n",
       "<tbody>\n",
       "\t<tr><th scope=row>DiabetesTipo2</th><td>0.4653465</td></tr>\n",
       "\t<tr><th scope=row>DoencaArterialCoronariana</th><td>0.3732673</td></tr>\n",
       "\t<tr><th scope=row>Hipertensao</th><td>0.3425743</td></tr>\n",
       "\t<tr><th scope=row>DoencaRenalCronica</th><td>0.3138614</td></tr>\n",
       "\t<tr><th scope=row>Obesidade</th><td>0.3029703</td></tr>\n",
       "\t<tr><th scope=row>ApneiaDoSono</th><td>0.2960396</td></tr>\n",
       "\t<tr><th scope=row>Dislipidemia</th><td>0.2752475</td></tr>\n",
       "\t<tr><th scope=row>InsuficienciaCardiaca</th><td>0.2673267</td></tr>\n",
       "\t<tr><th scope=row>EsteatoseHepatica</th><td>0.2386139</td></tr>\n",
       "\t<tr><th scope=row>SindrMetabolica</th><td>0.2366337</td></tr>\n",
       "</tbody>\n",
       "</table>\n"
      ],
      "text/latex": [
       "A data.frame: 10 × 1\n",
       "\\begin{tabular}{r|l}\n",
       "  & frequencias\\\\\n",
       "  & <dbl>\\\\\n",
       "\\hline\n",
       "\tDiabetesTipo2 & 0.4653465\\\\\n",
       "\tDoencaArterialCoronariana & 0.3732673\\\\\n",
       "\tHipertensao & 0.3425743\\\\\n",
       "\tDoencaRenalCronica & 0.3138614\\\\\n",
       "\tObesidade & 0.3029703\\\\\n",
       "\tApneiaDoSono & 0.2960396\\\\\n",
       "\tDislipidemia & 0.2752475\\\\\n",
       "\tInsuficienciaCardiaca & 0.2673267\\\\\n",
       "\tEsteatoseHepatica & 0.2386139\\\\\n",
       "\tSindrMetabolica & 0.2366337\\\\\n",
       "\\end{tabular}\n"
      ],
      "text/markdown": [
       "\n",
       "A data.frame: 10 × 1\n",
       "\n",
       "| <!--/--> | frequencias &lt;dbl&gt; |\n",
       "|---|---|\n",
       "| DiabetesTipo2 | 0.4653465 |\n",
       "| DoencaArterialCoronariana | 0.3732673 |\n",
       "| Hipertensao | 0.3425743 |\n",
       "| DoencaRenalCronica | 0.3138614 |\n",
       "| Obesidade | 0.3029703 |\n",
       "| ApneiaDoSono | 0.2960396 |\n",
       "| Dislipidemia | 0.2752475 |\n",
       "| InsuficienciaCardiaca | 0.2673267 |\n",
       "| EsteatoseHepatica | 0.2386139 |\n",
       "| SindrMetabolica | 0.2366337 |\n",
       "\n"
      ],
      "text/plain": [
       "                          frequencias\n",
       "DiabetesTipo2             0.4653465  \n",
       "DoencaArterialCoronariana 0.3732673  \n",
       "Hipertensao               0.3425743  \n",
       "DoencaRenalCronica        0.3138614  \n",
       "Obesidade                 0.3029703  \n",
       "ApneiaDoSono              0.2960396  \n",
       "Dislipidemia              0.2752475  \n",
       "InsuficienciaCardiaca     0.2673267  \n",
       "EsteatoseHepatica         0.2386139  \n",
       "SindrMetabolica           0.2366337  "
      ]
     },
     "metadata": {},
     "output_type": "display_data"
    }
   ],
   "source": [
    "# Tabela de frequências das patologias\n",
    "frequencias <- sort(itemFrequency(pacientes), decreasing = TRUE)\n",
    "View(as.data.frame(frequencias))"
   ]
  },
  {
   "cell_type": "code",
   "execution_count": 9,
   "metadata": {
    "colab": {
     "base_uri": "https://localhost:8080/",
     "height": 437
    },
    "id": "GmUlRRizqdWP",
    "outputId": "e46ee334-3fe8-42c9-e384-03f0cb72dd12"
   },
   "outputs": [
    {
     "data": {
      "image/png": "[encoded data removed]",
      "text/plain": [
       "Plot with title “Distribuição das patologias”"
      ]
     },
     "metadata": {
      "image/png": {
       "height": 420,
       "width": 420
      }
     },
     "output_type": "display_data"
    }
   ],
   "source": [
    "# Gráfico de barras com frequências das patologias\n",
    "par(mar = c(bottom = 2, left = 12, top = 5, right = 4))\n",
    "bp <- barplot(rev(frequencias),\n",
    "              horiz = TRUE,\n",
    "              las = 1,\n",
    "              axes = FALSE,\n",
    "              xlim = c(0, max(frequencias) * 1.2),\n",
    "              col = \"darkturquoise\",\n",
    "              border = \"white\",\n",
    "              main = \"Distribuição das patologias\")\n",
    "text(x = rev(frequencias),\n",
    "     y = bp,\n",
    "     labels = paste0(sub(\"\\\\.\", \",\", round(rev(frequencias), 3) * 100), \"%\"),\n",
    "     pos = 4,\n",
    "     col = \"black\")"
   ]
  },
  {
   "cell_type": "markdown",
   "metadata": {
    "id": "8FPh79Xd8ST1"
   },
   "source": [
    "### Aplicação do algoritmo apriori"
   ]
  },
  {
   "cell_type": "code",
   "execution_count": 10,
   "metadata": {
    "colab": {
     "base_uri": "https://localhost:8080/"
    },
    "id": "qVTodUSmz15X",
    "outputId": "36561c54-06e4-448c-ffbf-405553c57fe6"
   },
   "outputs": [
    {
     "name": "stdout",
     "output_type": "stream",
     "text": [
      "Apriori\n",
      "\n",
      "Parameter specification:\n",
      " confidence minval smax arem  aval originalSupport maxtime support minlen\n",
      "        0.7    0.1    1 none FALSE            TRUE       5    0.05      2\n",
      " maxlen target  ext\n",
      "     10  rules TRUE\n",
      "\n",
      "Algorithmic control:\n",
      " filter tree heap memopt load sort verbose\n",
      "    0.1 TRUE TRUE  FALSE TRUE    2    TRUE\n",
      "\n",
      "Absolute minimum support count: 50 \n",
      "\n",
      "set item appearances ...[0 item(s)] done [0.00s].\n",
      "set transactions ...[10 item(s), 1010 transaction(s)] done [0.00s].\n",
      "sorting and recoding items ... [10 item(s)] done [0.00s].\n",
      "creating transaction tree ... done [0.00s].\n",
      "checking subsets of size 1 2 3 4 done [0.00s].\n",
      "writing ... [15 rule(s)] done [0.00s].\n",
      "creating S4 object  ... done [0.00s].\n"
     ]
    }
   ],
   "source": [
    "regras <- apriori(pacientes, parameter = list(supp = 0.05, conf = 0.7, minlen = 2))"
   ]
  },
  {
   "cell_type": "markdown",
   "metadata": {
    "id": "l82_95h3JsBP"
   },
   "source": [
    "### Remoção de regras redundantes"
   ]
  },
  {
   "cell_type": "code",
   "execution_count": 11,
   "metadata": {
    "id": "izk0HXXIALP4"
   },
   "outputs": [],
   "source": [
    "regras <- regras[!is.redundant(regras)]"
   ]
  },
  {
   "cell_type": "markdown",
   "metadata": {
    "id": "MzwttZwDDJYD"
   },
   "source": [
    "### Seleção de regras com lift maior do que 1"
   ]
  },
  {
   "cell_type": "code",
   "execution_count": 12,
   "metadata": {
    "id": "0KgEKdxv8VMp"
   },
   "outputs": [],
   "source": [
    "regras <- subset(regras, lift > 1)"
   ]
  },
  {
   "cell_type": "markdown",
   "metadata": {
    "id": "pFPO7NQiaUAV"
   },
   "source": [
    "### Verificação das regras identificadas"
   ]
  },
  {
   "cell_type": "code",
   "execution_count": 13,
   "metadata": {
    "colab": {
     "base_uri": "https://localhost:8080/",
     "height": 538
    },
    "id": "e1CmpG1aadMD",
    "outputId": "e1e85cae-ed73-4e6c-cf4b-40ff37da9446"
   },
   "outputs": [
    {
     "data": {
      "text/plain": [
       "set of 15 rules\n",
       "\n",
       "rule length distribution (lhs + rhs):sizes\n",
       " 3  4 \n",
       "11  4 \n",
       "\n",
       "   Min. 1st Qu.  Median    Mean 3rd Qu.    Max. \n",
       "  3.000   3.000   3.000   3.267   3.500   4.000 \n",
       "\n",
       "summary of quality measures:\n",
       "    support          confidence        coverage            lift      \n",
       " Min.   :0.05050   Min.   :0.7011   Min.   :0.05545   Min.   :1.612  \n",
       " 1st Qu.:0.05297   1st Qu.:0.7343   1st Qu.:0.06832   1st Qu.:1.905  \n",
       " Median :0.07129   Median :0.7561   Median :0.09307   Median :2.404  \n",
       " Mean   :0.07855   Mean   :0.7890   Mean   :0.10033   Mean   :2.284  \n",
       " 3rd Qu.:0.08861   3rd Qu.:0.8342   3rd Qu.:0.12030   3rd Qu.:2.516  \n",
       " Max.   :0.15248   Max.   :0.9107   Max.   :0.18515   Max.   :3.076  \n",
       "     count       \n",
       " Min.   : 51.00  \n",
       " 1st Qu.: 53.50  \n",
       " Median : 72.00  \n",
       " Mean   : 79.33  \n",
       " 3rd Qu.: 89.50  \n",
       " Max.   :154.00  \n",
       "\n",
       "mining info:\n",
       "      data ntransactions support confidence\n",
       " pacientes          1010    0.05        0.7\n",
       "                                                                             call\n",
       " apriori(data = pacientes, parameter = list(supp = 0.05, conf = 0.7, minlen = 2))"
      ]
     },
     "metadata": {},
     "output_type": "display_data"
    }
   ],
   "source": [
    "# Resumo\n",
    "summary(regras)"
   ]
  },
  {
   "cell_type": "code",
   "execution_count": 14,
   "metadata": {
    "colab": {
     "base_uri": "https://localhost:8080/",
     "height": 437
    },
    "id": "IO813WwbDJYI",
    "outputId": "5deddf70-e887-435b-d4f7-ad92f9abbe02"
   },
   "outputs": [
    {
     "data": {
      "image/png": "[encoded data removed]",
      "text/plain": [
       "plot without title"
      ]
     },
     "metadata": {
      "image/png": {
       "height": 420,
       "width": 420
      }
     },
     "output_type": "display_data"
    }
   ],
   "source": [
    "# Examinar graficamente os indicadores (suporte, confiança, lift) das regras identificadas\n",
    "plot(regras, jitter = TRUE)"
   ]
  },
  {
   "cell_type": "code",
   "execution_count": 15,
   "metadata": {
    "colab": {
     "base_uri": "https://localhost:8080/",
     "height": 642
    },
    "id": "efU5uC9uDJYI",
    "outputId": "a5d2c25b-5331-4684-d5d3-d3cd8c4a9a12"
   },
   "outputs": [
    {
     "data": {
      "text/plain": [
       "NULL"
      ]
     },
     "metadata": {},
     "output_type": "display_data"
    },
    {
     "name": "stdout",
     "output_type": "stream",
     "text": [
      "     lhs                             rhs                            support confidence   coverage     lift count\n",
      "[1]  {ApneiaDoSono,                                                                                             \n",
      "      DiabetesTipo2,                                                                                            \n",
      "      Dislipidemia}               => {DoencaArterialCoronariana} 0.05049505  0.9107143 0.05544554 2.439845    51\n",
      "[2]  {DiabetesTipo2,                                                                                            \n",
      "      Dislipidemia,                                                                                             \n",
      "      DoencaArterialCoronariana}  => {ApneiaDoSono}              0.05049505  0.9107143 0.05544554 3.076326    51\n",
      "[3]  {ApneiaDoSono,                                                                                             \n",
      "      Dislipidemia,                                                                                             \n",
      "      DoencaArterialCoronariana}  => {DiabetesTipo2}             0.05049505  0.8793103 0.05742574 1.889582    51\n",
      "[4]  {ApneiaDoSono,                                                                                             \n",
      "      DiabetesTipo2,                                                                                            \n",
      "      DoencaArterialCoronariana}  => {Dislipidemia}              0.05049505  0.8360656 0.06039604 3.037504    51\n",
      "[5]  {DoencaRenalCronica,                                                                                       \n",
      "      Hipertensao}                => {DiabetesTipo2}             0.15247525  0.8324324 0.18316832 1.788844   154\n",
      "[6]  {DiabetesTipo2,                                                                                            \n",
      "      DoencaRenalCronica}         => {Hipertensao}               0.15247525  0.8235294 0.18514851 2.403944   154\n",
      "[7]  {DiabetesTipo2,                                                                                            \n",
      "      EsteatoseHepatica}          => {Obesidade}                 0.07128713  0.7659574 0.09306931 2.528160    72\n",
      "[8]  {Dislipidemia,                                                                                             \n",
      "      SindrMetabolica}            => {DoencaArterialCoronariana} 0.09207921  0.7560976 0.12178218 2.025619    93\n",
      "[9]  {DoencaArterialCoronariana,                                                                                \n",
      "      SindrMetabolica}            => {Dislipidemia}              0.09207921  0.7560976 0.12178218 2.746973    93\n",
      "[10] {Hipertensao,                                                                                              \n",
      "      Obesidade}                  => {DiabetesTipo2}             0.07425743  0.7500000 0.09900990 1.611702    75\n",
      "[11] {DoencaArterialCoronariana,                                                                                \n",
      "      InsuficienciaCardiaca}      => {ApneiaDoSono}              0.08514851  0.7413793 0.11485149 2.504325    86\n",
      "[12] {DiabetesTipo2,                                                                                            \n",
      "      Dislipidemia}               => {ApneiaDoSono}              0.05544554  0.7272727 0.07623762 2.456674    56\n",
      "[13] {DiabetesTipo2,                                                                                            \n",
      "      Dislipidemia}               => {DoencaArterialCoronariana} 0.05544554  0.7272727 0.07623762 1.948396    56\n",
      "[14] {ApneiaDoSono,                                                                                             \n",
      "      InsuficienciaCardiaca}      => {DoencaArterialCoronariana} 0.08514851  0.7166667 0.11881188 1.919982    86\n",
      "[15] {ApneiaDoSono,                                                                                             \n",
      "      DiabetesTipo2}              => {DoencaArterialCoronariana} 0.06039604  0.7011494 0.08613861 1.878411    61\n"
     ]
    }
   ],
   "source": [
    "# Visualizar regras, da maior para a menor confiança\n",
    "regras <- sort(regras, by = \"confidence\")\n",
    "View(inspect(regras))"
   ]
  },
  {
   "cell_type": "code",
   "execution_count": 16,
   "metadata": {
    "colab": {
     "base_uri": "https://localhost:8080/",
     "height": 380
    },
    "id": "e08jzEFibFYg",
    "outputId": "194fa562-f9df-4a3c-c4f3-c3f62cd6dedc"
   },
   "outputs": [
    {
     "data": {
      "text/html": [
       "<table class=\"dataframe\">\n",
       "<caption>A matrix: 10 × 10 of type dbl</caption>\n",
       "<thead>\n",
       "\t<tr><th></th><th scope=col>ApneiaDoSono</th><th scope=col>DiabetesTipo2</th><th scope=col>Dislipidemia</th><th scope=col>DoencaArterialCoronariana</th><th scope=col>DoencaRenalCronica</th><th scope=col>EsteatoseHepatica</th><th scope=col>Hipertensao</th><th scope=col>InsuficienciaCardiaca</th><th scope=col>Obesidade</th><th scope=col>SindrMetabolica</th></tr>\n",
       "</thead>\n",
       "<tbody>\n",
       "\t<tr><th scope=row>ApneiaDoSono</th><td>       NA</td><td>0.6252757</td><td>1.1421766</td><td>1.6038430</td><td>0.4582045</td><td>0.4485214</td><td>0.3416978</td><td>1.5013006</td><td>0.5409098</td><td>0.6642784</td></tr>\n",
       "\t<tr><th scope=row>DiabetesTipo2</th><td>0.6252757</td><td>       NA</td><td>0.5952089</td><td>0.5016084</td><td>1.2676690</td><td>0.8381743</td><td>1.4968024</td><td>0.5412136</td><td>1.2078988</td><td>0.3057064</td></tr>\n",
       "\t<tr><th scope=row>Dislipidemia</th><td>1.1421766</td><td>0.5952089</td><td>       NA</td><td>1.6286281</td><td>0.4011302</td><td>1.0251052</td><td>0.3150081</td><td>0.4978684</td><td>0.5105328</td><td>1.8697511</td></tr>\n",
       "\t<tr><th scope=row>DoencaArterialCoronariana</th><td>1.6038430</td><td>0.5016084</td><td>1.6286281</td><td>       NA</td><td>0.3803061</td><td>0.8226114</td><td>0.2710017</td><td>1.1509972</td><td>0.4114873</td><td>1.3787554</td></tr>\n",
       "\t<tr><th scope=row>DoencaRenalCronica</th><td>0.4582045</td><td>1.2676690</td><td>0.4011302</td><td>0.3803061</td><td>       NA</td><td>0.5684778</td><td>1.7035612</td><td>0.8614324</td><td>0.4685470</td><td>0.6132281</td></tr>\n",
       "\t<tr><th scope=row>EsteatoseHepatica</th><td>0.4485214</td><td>0.8381743</td><td>1.0251052</td><td>0.8226114</td><td>0.5684778</td><td>       NA</td><td>0.3633703</td><td>0.4811741</td><td>1.4791311</td><td>1.1923818</td></tr>\n",
       "\t<tr><th scope=row>Hipertensao</th><td>0.3416978</td><td>1.4968024</td><td>0.3150081</td><td>0.2710017</td><td>1.7035612</td><td>0.3633703</td><td>       NA</td><td>0.6919289</td><td>0.9539461</td><td>0.3419837</td></tr>\n",
       "\t<tr><th scope=row>InsuficienciaCardiaca</th><td>1.5013006</td><td>0.5412136</td><td>0.4978684</td><td>1.1509972</td><td>0.8614324</td><td>0.4811741</td><td>0.6919289</td><td>       NA</td><td>0.5745582</td><td>0.7669301</td></tr>\n",
       "\t<tr><th scope=row>Obesidade</th><td>0.5409098</td><td>1.2078988</td><td>0.5105328</td><td>0.4114873</td><td>0.4685470</td><td>1.4791311</td><td>0.9539461</td><td>0.5745582</td><td>       NA</td><td>0.4695490</td></tr>\n",
       "\t<tr><th scope=row>SindrMetabolica</th><td>0.6642784</td><td>0.3057064</td><td>1.8697511</td><td>1.3787554</td><td>0.6132281</td><td>1.1923818</td><td>0.3419837</td><td>0.7669301</td><td>0.4695490</td><td>       NA</td></tr>\n",
       "</tbody>\n",
       "</table>\n"
      ],
      "text/latex": [
       "A matrix: 10 × 10 of type dbl\n",
       "\\begin{tabular}{r|llllllllll}\n",
       "  & ApneiaDoSono & DiabetesTipo2 & Dislipidemia & DoencaArterialCoronariana & DoencaRenalCronica & EsteatoseHepatica & Hipertensao & InsuficienciaCardiaca & Obesidade & SindrMetabolica\\\\\n",
       "\\hline\n",
       "\tApneiaDoSono &        NA & 0.6252757 & 1.1421766 & 1.6038430 & 0.4582045 & 0.4485214 & 0.3416978 & 1.5013006 & 0.5409098 & 0.6642784\\\\\n",
       "\tDiabetesTipo2 & 0.6252757 &        NA & 0.5952089 & 0.5016084 & 1.2676690 & 0.8381743 & 1.4968024 & 0.5412136 & 1.2078988 & 0.3057064\\\\\n",
       "\tDislipidemia & 1.1421766 & 0.5952089 &        NA & 1.6286281 & 0.4011302 & 1.0251052 & 0.3150081 & 0.4978684 & 0.5105328 & 1.8697511\\\\\n",
       "\tDoencaArterialCoronariana & 1.6038430 & 0.5016084 & 1.6286281 &        NA & 0.3803061 & 0.8226114 & 0.2710017 & 1.1509972 & 0.4114873 & 1.3787554\\\\\n",
       "\tDoencaRenalCronica & 0.4582045 & 1.2676690 & 0.4011302 & 0.3803061 &        NA & 0.5684778 & 1.7035612 & 0.8614324 & 0.4685470 & 0.6132281\\\\\n",
       "\tEsteatoseHepatica & 0.4485214 & 0.8381743 & 1.0251052 & 0.8226114 & 0.5684778 &        NA & 0.3633703 & 0.4811741 & 1.4791311 & 1.1923818\\\\\n",
       "\tHipertensao & 0.3416978 & 1.4968024 & 0.3150081 & 0.2710017 & 1.7035612 & 0.3633703 &        NA & 0.6919289 & 0.9539461 & 0.3419837\\\\\n",
       "\tInsuficienciaCardiaca & 1.5013006 & 0.5412136 & 0.4978684 & 1.1509972 & 0.8614324 & 0.4811741 & 0.6919289 &        NA & 0.5745582 & 0.7669301\\\\\n",
       "\tObesidade & 0.5409098 & 1.2078988 & 0.5105328 & 0.4114873 & 0.4685470 & 1.4791311 & 0.9539461 & 0.5745582 &        NA & 0.4695490\\\\\n",
       "\tSindrMetabolica & 0.6642784 & 0.3057064 & 1.8697511 & 1.3787554 & 0.6132281 & 1.1923818 & 0.3419837 & 0.7669301 & 0.4695490 &        NA\\\\\n",
       "\\end{tabular}\n"
      ],
      "text/markdown": [
       "\n",
       "A matrix: 10 × 10 of type dbl\n",
       "\n",
       "| <!--/--> | ApneiaDoSono | DiabetesTipo2 | Dislipidemia | DoencaArterialCoronariana | DoencaRenalCronica | EsteatoseHepatica | Hipertensao | InsuficienciaCardiaca | Obesidade | SindrMetabolica |\n",
       "|---|---|---|---|---|---|---|---|---|---|---|\n",
       "| ApneiaDoSono |        NA | 0.6252757 | 1.1421766 | 1.6038430 | 0.4582045 | 0.4485214 | 0.3416978 | 1.5013006 | 0.5409098 | 0.6642784 |\n",
       "| DiabetesTipo2 | 0.6252757 |        NA | 0.5952089 | 0.5016084 | 1.2676690 | 0.8381743 | 1.4968024 | 0.5412136 | 1.2078988 | 0.3057064 |\n",
       "| Dislipidemia | 1.1421766 | 0.5952089 |        NA | 1.6286281 | 0.4011302 | 1.0251052 | 0.3150081 | 0.4978684 | 0.5105328 | 1.8697511 |\n",
       "| DoencaArterialCoronariana | 1.6038430 | 0.5016084 | 1.6286281 |        NA | 0.3803061 | 0.8226114 | 0.2710017 | 1.1509972 | 0.4114873 | 1.3787554 |\n",
       "| DoencaRenalCronica | 0.4582045 | 1.2676690 | 0.4011302 | 0.3803061 |        NA | 0.5684778 | 1.7035612 | 0.8614324 | 0.4685470 | 0.6132281 |\n",
       "| EsteatoseHepatica | 0.4485214 | 0.8381743 | 1.0251052 | 0.8226114 | 0.5684778 |        NA | 0.3633703 | 0.4811741 | 1.4791311 | 1.1923818 |\n",
       "| Hipertensao | 0.3416978 | 1.4968024 | 0.3150081 | 0.2710017 | 1.7035612 | 0.3633703 |        NA | 0.6919289 | 0.9539461 | 0.3419837 |\n",
       "| InsuficienciaCardiaca | 1.5013006 | 0.5412136 | 0.4978684 | 1.1509972 | 0.8614324 | 0.4811741 | 0.6919289 |        NA | 0.5745582 | 0.7669301 |\n",
       "| Obesidade | 0.5409098 | 1.2078988 | 0.5105328 | 0.4114873 | 0.4685470 | 1.4791311 | 0.9539461 | 0.5745582 |        NA | 0.4695490 |\n",
       "| SindrMetabolica | 0.6642784 | 0.3057064 | 1.8697511 | 1.3787554 | 0.6132281 | 1.1923818 | 0.3419837 | 0.7669301 | 0.4695490 |        NA |\n",
       "\n"
      ],
      "text/plain": [
       "                          ApneiaDoSono DiabetesTipo2 Dislipidemia\n",
       "ApneiaDoSono                     NA    0.6252757     1.1421766   \n",
       "DiabetesTipo2             0.6252757           NA     0.5952089   \n",
       "Dislipidemia              1.1421766    0.5952089            NA   \n",
       "DoencaArterialCoronariana 1.6038430    0.5016084     1.6286281   \n",
       "DoencaRenalCronica        0.4582045    1.2676690     0.4011302   \n",
       "EsteatoseHepatica         0.4485214    0.8381743     1.0251052   \n",
       "Hipertensao               0.3416978    1.4968024     0.3150081   \n",
       "InsuficienciaCardiaca     1.5013006    0.5412136     0.4978684   \n",
       "Obesidade                 0.5409098    1.2078988     0.5105328   \n",
       "SindrMetabolica           0.6642784    0.3057064     1.8697511   \n",
       "                          DoencaArterialCoronariana DoencaRenalCronica\n",
       "ApneiaDoSono              1.6038430                 0.4582045         \n",
       "DiabetesTipo2             0.5016084                 1.2676690         \n",
       "Dislipidemia              1.6286281                 0.4011302         \n",
       "DoencaArterialCoronariana        NA                 0.3803061         \n",
       "DoencaRenalCronica        0.3803061                        NA         \n",
       "EsteatoseHepatica         0.8226114                 0.5684778         \n",
       "Hipertensao               0.2710017                 1.7035612         \n",
       "InsuficienciaCardiaca     1.1509972                 0.8614324         \n",
       "Obesidade                 0.4114873                 0.4685470         \n",
       "SindrMetabolica           1.3787554                 0.6132281         \n",
       "                          EsteatoseHepatica Hipertensao InsuficienciaCardiaca\n",
       "ApneiaDoSono              0.4485214         0.3416978   1.5013006            \n",
       "DiabetesTipo2             0.8381743         1.4968024   0.5412136            \n",
       "Dislipidemia              1.0251052         0.3150081   0.4978684            \n",
       "DoencaArterialCoronariana 0.8226114         0.2710017   1.1509972            \n",
       "DoencaRenalCronica        0.5684778         1.7035612   0.8614324            \n",
       "EsteatoseHepatica                NA         0.3633703   0.4811741            \n",
       "Hipertensao               0.3633703                NA   0.6919289            \n",
       "InsuficienciaCardiaca     0.4811741         0.6919289          NA            \n",
       "Obesidade                 1.4791311         0.9539461   0.5745582            \n",
       "SindrMetabolica           1.1923818         0.3419837   0.7669301            \n",
       "                          Obesidade SindrMetabolica\n",
       "ApneiaDoSono              0.5409098 0.6642784      \n",
       "DiabetesTipo2             1.2078988 0.3057064      \n",
       "Dislipidemia              0.5105328 1.8697511      \n",
       "DoencaArterialCoronariana 0.4114873 1.3787554      \n",
       "DoencaRenalCronica        0.4685470 0.6132281      \n",
       "EsteatoseHepatica         1.4791311 1.1923818      \n",
       "Hipertensao               0.9539461 0.3419837      \n",
       "InsuficienciaCardiaca     0.5745582 0.7669301      \n",
       "Obesidade                        NA 0.4695490      \n",
       "SindrMetabolica           0.4695490        NA      "
      ]
     },
     "metadata": {},
     "output_type": "display_data"
    }
   ],
   "source": [
    "# Extra: Matriz de lifts entre todas as patologias, duas a duas\n",
    "View(crossTable(pacientes, measure = \"lift\"))"
   ]
  }
 ],
 "metadata": {
  "colab": {
   "provenance": []
  },
  "kernelspec": {
   "display_name": "Python 3 (ipykernel)",
   "language": "python",
   "name": "python3"
  },
  "language_info": {
   "codemirror_mode": {
    "name": "ipython",
    "version": 3
   },
   "file_extension": ".py",
   "mimetype": "text/x-python",
   "name": "python",
   "nbconvert_exporter": "python",
   "pygments_lexer": "ipython3",
   "version": "3.9.2"
  }
 },
 "nbformat": 4,
 "nbformat_minor": 4
}

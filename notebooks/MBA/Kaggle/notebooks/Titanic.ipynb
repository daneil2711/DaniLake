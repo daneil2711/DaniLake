{
 "cells": [
  {
   "cell_type": "markdown",
   "metadata": {
    "id": "L2vudERBJTiT"
   },
   "source": [
    "# **CASE: Titanic Kaggle**\n",
    "\n",
    "---"
   ]
  },
  {
   "cell_type": "markdown",
   "metadata": {
    "id": "nGD5Csd2q7VV"
   },
   "source": [
    "### Instalação de bibliotecas"
   ]
  },
  {
   "cell_type": "code",
   "execution_count": null,
   "metadata": {
    "id": "DY4aICW6q8Eb"
   },
   "outputs": [],
   "source": [
    "# Para cálculo do VIF\n",
    "install.packages(\"rms\")\n",
    "# Para cálculo do KS e AUC\n",
    "install.packages(\"ROCR\")"
   ]
  },
  {
   "cell_type": "markdown",
   "metadata": {
    "id": "99PaLHQgvG4X"
   },
   "source": [
    "### Carregamento de bibliotecas"
   ]
  },
  {
   "cell_type": "code",
   "execution_count": 44,
   "metadata": {
    "id": "ypvOgRlIrJaq"
   },
   "outputs": [
    {
     "name": "stderr",
     "output_type": "stream",
     "text": [
      "Loading required package: Hmisc\n",
      "\n",
      "\n",
      "Attaching package: ‘Hmisc’\n",
      "\n",
      "\n",
      "The following objects are masked from ‘package:base’:\n",
      "\n",
      "    format.pval, units\n",
      "\n",
      "\n"
     ]
    }
   ],
   "source": [
    "library(rms)\n",
    "library(ROCR)"
   ]
  },
  {
   "cell_type": "markdown",
   "metadata": {
    "id": "AppXoGlSJa4f"
   },
   "source": [
    "### Leitura da base de dados"
   ]
  },
  {
   "cell_type": "code",
   "execution_count": 3,
   "metadata": {
    "id": "BKIVxb-yO6kt"
   },
   "outputs": [],
   "source": [
    "dados_titanic <- read.table(file = \"../data/titanic_train.csv\",\n",
    "                            sep = \",\",\n",
    "                            dec = \".\",\n",
    "                            header = TRUE)"
   ]
  },
  {
   "cell_type": "code",
   "execution_count": 62,
   "metadata": {},
   "outputs": [],
   "source": [
    "#Removendo embarque vazio e tirando NA da idade\n",
    "dados_titanic <- dados_titanic[dados_titanic$Embarked != \"\",]\n",
    "dados_titanic$Age[is.na(dados_titanic$Age)] <- 0\n"
   ]
  },
  {
   "cell_type": "markdown",
   "metadata": {
    "id": "QjxtmJktJf24"
   },
   "source": [
    "### Visualização da base de dados"
   ]
  },
  {
   "cell_type": "code",
   "execution_count": 63,
   "metadata": {
    "id": "FJUJqh-_O4Dh",
    "scrolled": true
   },
   "outputs": [
    {
     "data": {
      "text/html": [
       "<table class=\"dataframe\">\n",
       "<caption>A data.frame: 889 × 14</caption>\n",
       "<thead>\n",
       "\t<tr><th></th><th scope=col>PassengerId</th><th scope=col>Survived</th><th scope=col>Pclass</th><th scope=col>Name</th><th scope=col>Sex</th><th scope=col>Age</th><th scope=col>SibSp</th><th scope=col>Parch</th><th scope=col>Ticket</th><th scope=col>Fare</th><th scope=col>Cabin</th><th scope=col>Embarked</th><th scope=col>probabilidade</th><th scope=col>predito</th></tr>\n",
       "\t<tr><th></th><th scope=col>&lt;int&gt;</th><th scope=col>&lt;int&gt;</th><th scope=col>&lt;int&gt;</th><th scope=col>&lt;chr&gt;</th><th scope=col>&lt;chr&gt;</th><th scope=col>&lt;dbl&gt;</th><th scope=col>&lt;int&gt;</th><th scope=col>&lt;int&gt;</th><th scope=col>&lt;chr&gt;</th><th scope=col>&lt;dbl&gt;</th><th scope=col>&lt;chr&gt;</th><th scope=col>&lt;chr&gt;</th><th scope=col>&lt;dbl&gt;</th><th scope=col>&lt;fct&gt;</th></tr>\n",
       "</thead>\n",
       "<tbody>\n",
       "\t<tr><th scope=row>1</th><td> 1</td><td>0</td><td>3</td><td>Braund, Mr. Owen Harris                                  </td><td>male  </td><td>22</td><td>1</td><td>0</td><td>A/5 21171       </td><td>  7.2500</td><td>           </td><td>S</td><td>0.08938019</td><td>0 </td></tr>\n",
       "\t<tr><th scope=row>2</th><td> 2</td><td>1</td><td>1</td><td>Cumings, Mrs. John Bradley (Florence Briggs Thayer)      </td><td>female</td><td>38</td><td>1</td><td>0</td><td>PC 17599        </td><td> 71.2833</td><td>C85        </td><td>C</td><td>0.90096553</td><td>1 </td></tr>\n",
       "\t<tr><th scope=row>3</th><td> 3</td><td>1</td><td>3</td><td>Heikkinen, Miss. Laina                                   </td><td>female</td><td>26</td><td>0</td><td>0</td><td>STON/O2. 3101282</td><td>  7.9250</td><td>           </td><td>S</td><td>0.62007138</td><td>1 </td></tr>\n",
       "\t<tr><th scope=row>4</th><td> 4</td><td>1</td><td>1</td><td>Futrelle, Mrs. Jacques Heath (Lily May Peel)             </td><td>female</td><td>35</td><td>1</td><td>0</td><td>113803          </td><td> 53.1000</td><td>C123       </td><td>S</td><td>0.91227677</td><td>1 </td></tr>\n",
       "\t<tr><th scope=row>5</th><td> 5</td><td>0</td><td>3</td><td>Allen, Mr. William Henry                                 </td><td>male  </td><td>35</td><td>0</td><td>0</td><td>373450          </td><td>  8.0500</td><td>           </td><td>S</td><td>0.07404249</td><td>0 </td></tr>\n",
       "\t<tr><th scope=row>6</th><td> 6</td><td>0</td><td>3</td><td>Moran, Mr. James                                         </td><td>male  </td><td> 0</td><td>0</td><td>0</td><td>330877          </td><td>  8.4583</td><td>           </td><td>Q</td><td>        NA</td><td>NA</td></tr>\n",
       "\t<tr><th scope=row>7</th><td> 7</td><td>0</td><td>1</td><td>McCarthy, Mr. Timothy J                                  </td><td>male  </td><td>54</td><td>0</td><td>0</td><td>17463           </td><td> 51.8625</td><td>E46        </td><td>S</td><td>0.32180509</td><td>0 </td></tr>\n",
       "\t<tr><th scope=row>8</th><td> 8</td><td>0</td><td>3</td><td>Palsson, Master. Gosta Leonard                           </td><td>male  </td><td> 2</td><td>3</td><td>1</td><td>349909          </td><td> 21.0750</td><td>           </td><td>S</td><td>0.10166898</td><td>0 </td></tr>\n",
       "\t<tr><th scope=row>9</th><td> 9</td><td>1</td><td>3</td><td>Johnson, Mrs. Oscar W (Elisabeth Vilhelmina Berg)        </td><td>female</td><td>27</td><td>0</td><td>2</td><td>347742          </td><td> 11.1333</td><td>           </td><td>S</td><td>0.60951293</td><td>1 </td></tr>\n",
       "\t<tr><th scope=row>10</th><td>10</td><td>1</td><td>2</td><td>Nasser, Mrs. Nicholas (Adele Achem)                      </td><td>female</td><td>14</td><td>1</td><td>0</td><td>237736          </td><td> 30.0708</td><td>           </td><td>C</td><td>0.87698076</td><td>1 </td></tr>\n",
       "\t<tr><th scope=row>11</th><td>11</td><td>1</td><td>3</td><td>Sandstrom, Miss. Marguerite Rut                          </td><td>female</td><td> 4</td><td>1</td><td>1</td><td>PP 9549         </td><td> 16.7000</td><td>G6         </td><td>S</td><td>0.74952621</td><td>1 </td></tr>\n",
       "\t<tr><th scope=row>12</th><td>12</td><td>1</td><td>1</td><td>Bonnell, Miss. Elizabeth                                 </td><td>female</td><td>58</td><td>0</td><td>0</td><td>113783          </td><td> 26.5500</td><td>C103       </td><td>S</td><td>0.84434709</td><td>1 </td></tr>\n",
       "\t<tr><th scope=row>13</th><td>13</td><td>0</td><td>3</td><td>Saundercock, Mr. William Henry                           </td><td>male  </td><td>20</td><td>0</td><td>0</td><td>A/5. 2151       </td><td>  8.0500</td><td>           </td><td>S</td><td>0.13500631</td><td>0 </td></tr>\n",
       "\t<tr><th scope=row>14</th><td>14</td><td>0</td><td>3</td><td>Andersson, Mr. Anders Johan                              </td><td>male  </td><td>39</td><td>1</td><td>5</td><td>347082          </td><td> 31.2750</td><td>           </td><td>S</td><td>0.04397399</td><td>0 </td></tr>\n",
       "\t<tr><th scope=row>15</th><td>15</td><td>0</td><td>3</td><td>Vestrom, Miss. Hulda Amanda Adolfina                     </td><td>female</td><td>14</td><td>0</td><td>0</td><td>350406          </td><td>  7.8542</td><td>           </td><td>S</td><td>0.73592246</td><td>1 </td></tr>\n",
       "\t<tr><th scope=row>16</th><td>16</td><td>1</td><td>2</td><td>Hewlett, Mrs. (Mary D Kingcome)                          </td><td>female</td><td>55</td><td>0</td><td>0</td><td>248706          </td><td> 16.0000</td><td>           </td><td>S</td><td>0.62498847</td><td>1 </td></tr>\n",
       "\t<tr><th scope=row>17</th><td>17</td><td>0</td><td>3</td><td>Rice, Master. Eugene                                     </td><td>male  </td><td> 2</td><td>4</td><td>1</td><td>382652          </td><td> 29.1250</td><td>           </td><td>Q</td><td>0.07219369</td><td>0 </td></tr>\n",
       "\t<tr><th scope=row>18</th><td>18</td><td>1</td><td>2</td><td>Williams, Mr. Charles Eugene                             </td><td>male  </td><td> 0</td><td>0</td><td>0</td><td>244373          </td><td> 13.0000</td><td>           </td><td>S</td><td>        NA</td><td>NA</td></tr>\n",
       "\t<tr><th scope=row>19</th><td>19</td><td>0</td><td>3</td><td>Vander Planke, Mrs. Julius (Emelia Maria Vandemoortele)  </td><td>female</td><td>31</td><td>1</td><td>0</td><td>345763          </td><td> 18.0000</td><td>           </td><td>S</td><td>0.47309296</td><td>1 </td></tr>\n",
       "\t<tr><th scope=row>20</th><td>20</td><td>1</td><td>3</td><td>Masselmani, Mrs. Fatima                                  </td><td>female</td><td> 0</td><td>0</td><td>0</td><td>2649            </td><td>  7.2250</td><td>           </td><td>C</td><td>        NA</td><td>NA</td></tr>\n",
       "\t<tr><th scope=row>21</th><td>21</td><td>0</td><td>2</td><td>Fynney, Mr. Joseph J                                     </td><td>male  </td><td>35</td><td>0</td><td>0</td><td>239865          </td><td> 26.0000</td><td>           </td><td>S</td><td>0.22929914</td><td>0 </td></tr>\n",
       "\t<tr><th scope=row>22</th><td>22</td><td>1</td><td>2</td><td>Beesley, Mr. Lawrence                                    </td><td>male  </td><td>34</td><td>0</td><td>0</td><td>248698          </td><td> 13.0000</td><td>D56        </td><td>S</td><td>0.23727333</td><td>0 </td></tr>\n",
       "\t<tr><th scope=row>23</th><td>23</td><td>1</td><td>3</td><td>McGowan, Miss. Anna \"Annie\"                              </td><td>female</td><td>15</td><td>0</td><td>0</td><td>330923          </td><td>  8.0292</td><td>           </td><td>Q</td><td>0.72716696</td><td>1 </td></tr>\n",
       "\t<tr><th scope=row>24</th><td>24</td><td>1</td><td>1</td><td>Sloper, Mr. William Thompson                             </td><td>male  </td><td>28</td><td>0</td><td>0</td><td>113788          </td><td> 35.5000</td><td>A6         </td><td>S</td><td>0.60198544</td><td>1 </td></tr>\n",
       "\t<tr><th scope=row>25</th><td>25</td><td>0</td><td>3</td><td>Palsson, Miss. Torborg Danira                            </td><td>female</td><td> 8</td><td>3</td><td>1</td><td>349909          </td><td> 21.0750</td><td>           </td><td>S</td><td>0.54200960</td><td>1 </td></tr>\n",
       "\t<tr><th scope=row>26</th><td>26</td><td>1</td><td>3</td><td>Asplund, Mrs. Carl Oscar (Selma Augusta Emilia Johansson)</td><td>female</td><td>38</td><td>1</td><td>5</td><td>347077          </td><td> 31.3875</td><td>           </td><td>S</td><td>0.39655658</td><td>1 </td></tr>\n",
       "\t<tr><th scope=row>27</th><td>27</td><td>0</td><td>3</td><td>Emir, Mr. Farred Chehab                                  </td><td>male  </td><td> 0</td><td>0</td><td>0</td><td>2631            </td><td>  7.2250</td><td>           </td><td>C</td><td>        NA</td><td>NA</td></tr>\n",
       "\t<tr><th scope=row>28</th><td>28</td><td>0</td><td>1</td><td>Fortune, Mr. Charles Alexander                           </td><td>male  </td><td>19</td><td>3</td><td>2</td><td>19950           </td><td>263.0000</td><td>C23 C25 C27</td><td>S</td><td>0.42337249</td><td>1 </td></tr>\n",
       "\t<tr><th scope=row>29</th><td>29</td><td>1</td><td>3</td><td>O'Dwyer, Miss. Ellen \"Nellie\"                            </td><td>female</td><td> 0</td><td>0</td><td>0</td><td>330959          </td><td>  7.8792</td><td>           </td><td>Q</td><td>        NA</td><td>NA</td></tr>\n",
       "\t<tr><th scope=row>30</th><td>30</td><td>0</td><td>3</td><td>Todoroff, Mr. Lalio                                      </td><td>male  </td><td> 0</td><td>0</td><td>0</td><td>349216          </td><td>  7.8958</td><td>           </td><td>S</td><td>        NA</td><td>NA</td></tr>\n",
       "\t<tr><th scope=row>⋮</th><td>⋮</td><td>⋮</td><td>⋮</td><td>⋮</td><td>⋮</td><td>⋮</td><td>⋮</td><td>⋮</td><td>⋮</td><td>⋮</td><td>⋮</td><td>⋮</td><td>⋮</td><td>⋮</td></tr>\n",
       "\t<tr><th scope=row>862</th><td>862</td><td>0</td><td>2</td><td>Giles, Mr. Frederick Edward                        </td><td>male  </td><td>21</td><td>1</td><td>0</td><td>28134           </td><td>11.5000</td><td>           </td><td>S</td><td>0.27633308</td><td>0 </td></tr>\n",
       "\t<tr><th scope=row>863</th><td>863</td><td>1</td><td>1</td><td>Swift, Mrs. Frederick Joel (Margaret Welles Barron)</td><td>female</td><td>48</td><td>0</td><td>0</td><td>17466           </td><td>25.9292</td><td>D17        </td><td>S</td><td>0.89442826</td><td>1 </td></tr>\n",
       "\t<tr><th scope=row>864</th><td>864</td><td>0</td><td>3</td><td>Sage, Miss. Dorothy Edith \"Dolly\"                  </td><td>female</td><td> 0</td><td>8</td><td>2</td><td>CA. 2343        </td><td>69.5500</td><td>           </td><td>S</td><td>        NA</td><td>NA</td></tr>\n",
       "\t<tr><th scope=row>865</th><td>865</td><td>0</td><td>2</td><td>Gill, Mr. John William                             </td><td>male  </td><td>24</td><td>0</td><td>0</td><td>233866          </td><td>13.0000</td><td>           </td><td>S</td><td>0.32699057</td><td>0 </td></tr>\n",
       "\t<tr><th scope=row>866</th><td>866</td><td>1</td><td>2</td><td>Bystrom, Mrs. (Karolina)                           </td><td>female</td><td>42</td><td>0</td><td>0</td><td>236852          </td><td>13.0000</td><td>           </td><td>S</td><td>0.74845574</td><td>1 </td></tr>\n",
       "\t<tr><th scope=row>867</th><td>867</td><td>1</td><td>2</td><td>Duran y More, Miss. Asuncion                       </td><td>female</td><td>27</td><td>1</td><td>0</td><td>SC/PARIS 2149   </td><td>13.8583</td><td>           </td><td>C</td><td>0.79971717</td><td>1 </td></tr>\n",
       "\t<tr><th scope=row>868</th><td>868</td><td>0</td><td>1</td><td>Roebling, Mr. Washington Augustus II               </td><td>male  </td><td>31</td><td>0</td><td>0</td><td>PC 17590        </td><td>50.4958</td><td>A24        </td><td>S</td><td>0.56954304</td><td>1 </td></tr>\n",
       "\t<tr><th scope=row>869</th><td>869</td><td>0</td><td>3</td><td>van Melkebeke, Mr. Philemon                        </td><td>male  </td><td> 0</td><td>0</td><td>0</td><td>345777          </td><td> 9.5000</td><td>           </td><td>S</td><td>        NA</td><td>NA</td></tr>\n",
       "\t<tr><th scope=row>870</th><td>870</td><td>1</td><td>3</td><td>Johnson, Master. Harold Theodor                    </td><td>male  </td><td> 4</td><td>1</td><td>1</td><td>347742          </td><td>11.1333</td><td>           </td><td>S</td><td>0.17965594</td><td>0 </td></tr>\n",
       "\t<tr><th scope=row>871</th><td>871</td><td>0</td><td>3</td><td>Balkic, Mr. Cerin                                  </td><td>male  </td><td>26</td><td>0</td><td>0</td><td>349248          </td><td> 7.8958</td><td>           </td><td>S</td><td>0.10669859</td><td>0 </td></tr>\n",
       "\t<tr><th scope=row>872</th><td>872</td><td>1</td><td>1</td><td>Beckwith, Mrs. Richard Leonard (Sallie Monypeny)   </td><td>female</td><td>47</td><td>1</td><td>1</td><td>11751           </td><td>52.5542</td><td>D35        </td><td>S</td><td>0.85896571</td><td>1 </td></tr>\n",
       "\t<tr><th scope=row>873</th><td>873</td><td>0</td><td>1</td><td>Carlsson, Mr. Frans Olof                           </td><td>male  </td><td>33</td><td>0</td><td>0</td><td>695             </td><td> 5.0000</td><td>B51 B53 B55</td><td>S</td><td>0.54755958</td><td>1 </td></tr>\n",
       "\t<tr><th scope=row>874</th><td>874</td><td>0</td><td>3</td><td>Vander Cruyssen, Mr. Victor                        </td><td>male  </td><td>47</td><td>0</td><td>0</td><td>345765          </td><td> 9.0000</td><td>           </td><td>S</td><td>0.04473554</td><td>0 </td></tr>\n",
       "\t<tr><th scope=row>875</th><td>875</td><td>1</td><td>2</td><td>Abelson, Mrs. Samuel (Hannah Wizosky)              </td><td>female</td><td>28</td><td>1</td><td>0</td><td>P/PP 3381       </td><td>24.0000</td><td>           </td><td>C</td><td>0.79248036</td><td>1 </td></tr>\n",
       "\t<tr><th scope=row>876</th><td>876</td><td>1</td><td>3</td><td>Najib, Miss. Adele Kiamie \"Jane\"                   </td><td>female</td><td>15</td><td>0</td><td>0</td><td>2667            </td><td> 7.2250</td><td>           </td><td>C</td><td>0.72716696</td><td>1 </td></tr>\n",
       "\t<tr><th scope=row>877</th><td>877</td><td>0</td><td>3</td><td>Gustafsson, Mr. Alfred Ossian                      </td><td>male  </td><td>20</td><td>0</td><td>0</td><td>7534            </td><td> 9.8458</td><td>           </td><td>S</td><td>0.13500631</td><td>0 </td></tr>\n",
       "\t<tr><th scope=row>878</th><td>878</td><td>0</td><td>3</td><td>Petroff, Mr. Nedelio                               </td><td>male  </td><td>19</td><td>0</td><td>0</td><td>349212          </td><td> 7.8958</td><td>           </td><td>S</td><td>0.14029828</td><td>0 </td></tr>\n",
       "\t<tr><th scope=row>879</th><td>879</td><td>0</td><td>3</td><td>Laleff, Mr. Kristo                                 </td><td>male  </td><td> 0</td><td>0</td><td>0</td><td>349217          </td><td> 7.8958</td><td>           </td><td>S</td><td>        NA</td><td>NA</td></tr>\n",
       "\t<tr><th scope=row>880</th><td>880</td><td>1</td><td>1</td><td>Potter, Mrs. Thomas Jr (Lily Alexenia Wilson)      </td><td>female</td><td>56</td><td>0</td><td>1</td><td>11767           </td><td>83.1583</td><td>C50        </td><td>C</td><td>0.85571006</td><td>1 </td></tr>\n",
       "\t<tr><th scope=row>881</th><td>881</td><td>1</td><td>2</td><td>Shelley, Mrs. William (Imanita Parrish Hall)       </td><td>female</td><td>25</td><td>0</td><td>1</td><td>230433          </td><td>26.0000</td><td>           </td><td>S</td><td>0.86393366</td><td>1 </td></tr>\n",
       "\t<tr><th scope=row>882</th><td>882</td><td>0</td><td>3</td><td>Markun, Mr. Johann                                 </td><td>male  </td><td>33</td><td>0</td><td>0</td><td>349257          </td><td> 7.8958</td><td>           </td><td>S</td><td>0.08039314</td><td>0 </td></tr>\n",
       "\t<tr><th scope=row>883</th><td>883</td><td>0</td><td>3</td><td>Dahlberg, Miss. Gerda Ulrika                       </td><td>female</td><td>22</td><td>0</td><td>0</td><td>7552            </td><td>10.5167</td><td>           </td><td>S</td><td>0.66109883</td><td>1 </td></tr>\n",
       "\t<tr><th scope=row>884</th><td>884</td><td>0</td><td>2</td><td>Banfield, Mr. Frederick James                      </td><td>male  </td><td>28</td><td>0</td><td>0</td><td>C.A./SOTON 34068</td><td>10.5000</td><td>           </td><td>S</td><td>0.28901523</td><td>0 </td></tr>\n",
       "\t<tr><th scope=row>885</th><td>885</td><td>0</td><td>3</td><td>Sutehall, Mr. Henry Jr                             </td><td>male  </td><td>25</td><td>0</td><td>0</td><td>SOTON/OQ 392076 </td><td> 7.0500</td><td>           </td><td>S</td><td>0.11102337</td><td>0 </td></tr>\n",
       "\t<tr><th scope=row>886</th><td>886</td><td>0</td><td>3</td><td>Rice, Mrs. William (Margaret Norton)               </td><td>female</td><td>39</td><td>0</td><td>5</td><td>382652          </td><td>29.1250</td><td>           </td><td>Q</td><td>0.47757369</td><td>1 </td></tr>\n",
       "\t<tr><th scope=row>887</th><td>887</td><td>0</td><td>2</td><td>Montvila, Rev. Juozas                              </td><td>male  </td><td>27</td><td>0</td><td>0</td><td>211536          </td><td>13.0000</td><td>           </td><td>S</td><td>0.29826244</td><td>0 </td></tr>\n",
       "\t<tr><th scope=row>888</th><td>888</td><td>1</td><td>1</td><td>Graham, Miss. Margaret Edith                       </td><td>female</td><td>19</td><td>0</td><td>0</td><td>112053          </td><td>30.0000</td><td>B42        </td><td>S</td><td>0.96862254</td><td>1 </td></tr>\n",
       "\t<tr><th scope=row>889</th><td>889</td><td>0</td><td>3</td><td>Johnston, Miss. Catherine Helen \"Carrie\"           </td><td>female</td><td> 0</td><td>1</td><td>2</td><td>W./C. 6607      </td><td>23.4500</td><td>           </td><td>S</td><td>        NA</td><td>NA</td></tr>\n",
       "\t<tr><th scope=row>890</th><td>890</td><td>1</td><td>1</td><td>Behr, Mr. Karl Howell                              </td><td>male  </td><td>26</td><td>0</td><td>0</td><td>111369          </td><td>30.0000</td><td>C148       </td><td>C</td><td>0.62314447</td><td>1 </td></tr>\n",
       "\t<tr><th scope=row>891</th><td>891</td><td>0</td><td>3</td><td>Dooley, Mr. Patrick                                </td><td>male  </td><td>32</td><td>0</td><td>0</td><td>370376          </td><td> 7.7500</td><td>           </td><td>Q</td><td>0.08375166</td><td>0 </td></tr>\n",
       "</tbody>\n",
       "</table>\n"
      ],
      "text/latex": [
       "A data.frame: 889 × 14\n",
       "\\begin{tabular}{r|llllllllllllll}\n",
       "  & PassengerId & Survived & Pclass & Name & Sex & Age & SibSp & Parch & Ticket & Fare & Cabin & Embarked & probabilidade & predito\\\\\n",
       "  & <int> & <int> & <int> & <chr> & <chr> & <dbl> & <int> & <int> & <chr> & <dbl> & <chr> & <chr> & <dbl> & <fct>\\\\\n",
       "\\hline\n",
       "\t1 &  1 & 0 & 3 & Braund, Mr. Owen Harris                                   & male   & 22 & 1 & 0 & A/5 21171        &   7.2500 &             & S & 0.08938019 & 0 \\\\\n",
       "\t2 &  2 & 1 & 1 & Cumings, Mrs. John Bradley (Florence Briggs Thayer)       & female & 38 & 1 & 0 & PC 17599         &  71.2833 & C85         & C & 0.90096553 & 1 \\\\\n",
       "\t3 &  3 & 1 & 3 & Heikkinen, Miss. Laina                                    & female & 26 & 0 & 0 & STON/O2. 3101282 &   7.9250 &             & S & 0.62007138 & 1 \\\\\n",
       "\t4 &  4 & 1 & 1 & Futrelle, Mrs. Jacques Heath (Lily May Peel)              & female & 35 & 1 & 0 & 113803           &  53.1000 & C123        & S & 0.91227677 & 1 \\\\\n",
       "\t5 &  5 & 0 & 3 & Allen, Mr. William Henry                                  & male   & 35 & 0 & 0 & 373450           &   8.0500 &             & S & 0.07404249 & 0 \\\\\n",
       "\t6 &  6 & 0 & 3 & Moran, Mr. James                                          & male   &  0 & 0 & 0 & 330877           &   8.4583 &             & Q &         NA & NA\\\\\n",
       "\t7 &  7 & 0 & 1 & McCarthy, Mr. Timothy J                                   & male   & 54 & 0 & 0 & 17463            &  51.8625 & E46         & S & 0.32180509 & 0 \\\\\n",
       "\t8 &  8 & 0 & 3 & Palsson, Master. Gosta Leonard                            & male   &  2 & 3 & 1 & 349909           &  21.0750 &             & S & 0.10166898 & 0 \\\\\n",
       "\t9 &  9 & 1 & 3 & Johnson, Mrs. Oscar W (Elisabeth Vilhelmina Berg)         & female & 27 & 0 & 2 & 347742           &  11.1333 &             & S & 0.60951293 & 1 \\\\\n",
       "\t10 & 10 & 1 & 2 & Nasser, Mrs. Nicholas (Adele Achem)                       & female & 14 & 1 & 0 & 237736           &  30.0708 &             & C & 0.87698076 & 1 \\\\\n",
       "\t11 & 11 & 1 & 3 & Sandstrom, Miss. Marguerite Rut                           & female &  4 & 1 & 1 & PP 9549          &  16.7000 & G6          & S & 0.74952621 & 1 \\\\\n",
       "\t12 & 12 & 1 & 1 & Bonnell, Miss. Elizabeth                                  & female & 58 & 0 & 0 & 113783           &  26.5500 & C103        & S & 0.84434709 & 1 \\\\\n",
       "\t13 & 13 & 0 & 3 & Saundercock, Mr. William Henry                            & male   & 20 & 0 & 0 & A/5. 2151        &   8.0500 &             & S & 0.13500631 & 0 \\\\\n",
       "\t14 & 14 & 0 & 3 & Andersson, Mr. Anders Johan                               & male   & 39 & 1 & 5 & 347082           &  31.2750 &             & S & 0.04397399 & 0 \\\\\n",
       "\t15 & 15 & 0 & 3 & Vestrom, Miss. Hulda Amanda Adolfina                      & female & 14 & 0 & 0 & 350406           &   7.8542 &             & S & 0.73592246 & 1 \\\\\n",
       "\t16 & 16 & 1 & 2 & Hewlett, Mrs. (Mary D Kingcome)                           & female & 55 & 0 & 0 & 248706           &  16.0000 &             & S & 0.62498847 & 1 \\\\\n",
       "\t17 & 17 & 0 & 3 & Rice, Master. Eugene                                      & male   &  2 & 4 & 1 & 382652           &  29.1250 &             & Q & 0.07219369 & 0 \\\\\n",
       "\t18 & 18 & 1 & 2 & Williams, Mr. Charles Eugene                              & male   &  0 & 0 & 0 & 244373           &  13.0000 &             & S &         NA & NA\\\\\n",
       "\t19 & 19 & 0 & 3 & Vander Planke, Mrs. Julius (Emelia Maria Vandemoortele)   & female & 31 & 1 & 0 & 345763           &  18.0000 &             & S & 0.47309296 & 1 \\\\\n",
       "\t20 & 20 & 1 & 3 & Masselmani, Mrs. Fatima                                   & female &  0 & 0 & 0 & 2649             &   7.2250 &             & C &         NA & NA\\\\\n",
       "\t21 & 21 & 0 & 2 & Fynney, Mr. Joseph J                                      & male   & 35 & 0 & 0 & 239865           &  26.0000 &             & S & 0.22929914 & 0 \\\\\n",
       "\t22 & 22 & 1 & 2 & Beesley, Mr. Lawrence                                     & male   & 34 & 0 & 0 & 248698           &  13.0000 & D56         & S & 0.23727333 & 0 \\\\\n",
       "\t23 & 23 & 1 & 3 & McGowan, Miss. Anna \"Annie\"                               & female & 15 & 0 & 0 & 330923           &   8.0292 &             & Q & 0.72716696 & 1 \\\\\n",
       "\t24 & 24 & 1 & 1 & Sloper, Mr. William Thompson                              & male   & 28 & 0 & 0 & 113788           &  35.5000 & A6          & S & 0.60198544 & 1 \\\\\n",
       "\t25 & 25 & 0 & 3 & Palsson, Miss. Torborg Danira                             & female &  8 & 3 & 1 & 349909           &  21.0750 &             & S & 0.54200960 & 1 \\\\\n",
       "\t26 & 26 & 1 & 3 & Asplund, Mrs. Carl Oscar (Selma Augusta Emilia Johansson) & female & 38 & 1 & 5 & 347077           &  31.3875 &             & S & 0.39655658 & 1 \\\\\n",
       "\t27 & 27 & 0 & 3 & Emir, Mr. Farred Chehab                                   & male   &  0 & 0 & 0 & 2631             &   7.2250 &             & C &         NA & NA\\\\\n",
       "\t28 & 28 & 0 & 1 & Fortune, Mr. Charles Alexander                            & male   & 19 & 3 & 2 & 19950            & 263.0000 & C23 C25 C27 & S & 0.42337249 & 1 \\\\\n",
       "\t29 & 29 & 1 & 3 & O'Dwyer, Miss. Ellen \"Nellie\"                             & female &  0 & 0 & 0 & 330959           &   7.8792 &             & Q &         NA & NA\\\\\n",
       "\t30 & 30 & 0 & 3 & Todoroff, Mr. Lalio                                       & male   &  0 & 0 & 0 & 349216           &   7.8958 &             & S &         NA & NA\\\\\n",
       "\t⋮ & ⋮ & ⋮ & ⋮ & ⋮ & ⋮ & ⋮ & ⋮ & ⋮ & ⋮ & ⋮ & ⋮ & ⋮ & ⋮ & ⋮\\\\\n",
       "\t862 & 862 & 0 & 2 & Giles, Mr. Frederick Edward                         & male   & 21 & 1 & 0 & 28134            & 11.5000 &             & S & 0.27633308 & 0 \\\\\n",
       "\t863 & 863 & 1 & 1 & Swift, Mrs. Frederick Joel (Margaret Welles Barron) & female & 48 & 0 & 0 & 17466            & 25.9292 & D17         & S & 0.89442826 & 1 \\\\\n",
       "\t864 & 864 & 0 & 3 & Sage, Miss. Dorothy Edith \"Dolly\"                   & female &  0 & 8 & 2 & CA. 2343         & 69.5500 &             & S &         NA & NA\\\\\n",
       "\t865 & 865 & 0 & 2 & Gill, Mr. John William                              & male   & 24 & 0 & 0 & 233866           & 13.0000 &             & S & 0.32699057 & 0 \\\\\n",
       "\t866 & 866 & 1 & 2 & Bystrom, Mrs. (Karolina)                            & female & 42 & 0 & 0 & 236852           & 13.0000 &             & S & 0.74845574 & 1 \\\\\n",
       "\t867 & 867 & 1 & 2 & Duran y More, Miss. Asuncion                        & female & 27 & 1 & 0 & SC/PARIS 2149    & 13.8583 &             & C & 0.79971717 & 1 \\\\\n",
       "\t868 & 868 & 0 & 1 & Roebling, Mr. Washington Augustus II                & male   & 31 & 0 & 0 & PC 17590         & 50.4958 & A24         & S & 0.56954304 & 1 \\\\\n",
       "\t869 & 869 & 0 & 3 & van Melkebeke, Mr. Philemon                         & male   &  0 & 0 & 0 & 345777           &  9.5000 &             & S &         NA & NA\\\\\n",
       "\t870 & 870 & 1 & 3 & Johnson, Master. Harold Theodor                     & male   &  4 & 1 & 1 & 347742           & 11.1333 &             & S & 0.17965594 & 0 \\\\\n",
       "\t871 & 871 & 0 & 3 & Balkic, Mr. Cerin                                   & male   & 26 & 0 & 0 & 349248           &  7.8958 &             & S & 0.10669859 & 0 \\\\\n",
       "\t872 & 872 & 1 & 1 & Beckwith, Mrs. Richard Leonard (Sallie Monypeny)    & female & 47 & 1 & 1 & 11751            & 52.5542 & D35         & S & 0.85896571 & 1 \\\\\n",
       "\t873 & 873 & 0 & 1 & Carlsson, Mr. Frans Olof                            & male   & 33 & 0 & 0 & 695              &  5.0000 & B51 B53 B55 & S & 0.54755958 & 1 \\\\\n",
       "\t874 & 874 & 0 & 3 & Vander Cruyssen, Mr. Victor                         & male   & 47 & 0 & 0 & 345765           &  9.0000 &             & S & 0.04473554 & 0 \\\\\n",
       "\t875 & 875 & 1 & 2 & Abelson, Mrs. Samuel (Hannah Wizosky)               & female & 28 & 1 & 0 & P/PP 3381        & 24.0000 &             & C & 0.79248036 & 1 \\\\\n",
       "\t876 & 876 & 1 & 3 & Najib, Miss. Adele Kiamie \"Jane\"                    & female & 15 & 0 & 0 & 2667             &  7.2250 &             & C & 0.72716696 & 1 \\\\\n",
       "\t877 & 877 & 0 & 3 & Gustafsson, Mr. Alfred Ossian                       & male   & 20 & 0 & 0 & 7534             &  9.8458 &             & S & 0.13500631 & 0 \\\\\n",
       "\t878 & 878 & 0 & 3 & Petroff, Mr. Nedelio                                & male   & 19 & 0 & 0 & 349212           &  7.8958 &             & S & 0.14029828 & 0 \\\\\n",
       "\t879 & 879 & 0 & 3 & Laleff, Mr. Kristo                                  & male   &  0 & 0 & 0 & 349217           &  7.8958 &             & S &         NA & NA\\\\\n",
       "\t880 & 880 & 1 & 1 & Potter, Mrs. Thomas Jr (Lily Alexenia Wilson)       & female & 56 & 0 & 1 & 11767            & 83.1583 & C50         & C & 0.85571006 & 1 \\\\\n",
       "\t881 & 881 & 1 & 2 & Shelley, Mrs. William (Imanita Parrish Hall)        & female & 25 & 0 & 1 & 230433           & 26.0000 &             & S & 0.86393366 & 1 \\\\\n",
       "\t882 & 882 & 0 & 3 & Markun, Mr. Johann                                  & male   & 33 & 0 & 0 & 349257           &  7.8958 &             & S & 0.08039314 & 0 \\\\\n",
       "\t883 & 883 & 0 & 3 & Dahlberg, Miss. Gerda Ulrika                        & female & 22 & 0 & 0 & 7552             & 10.5167 &             & S & 0.66109883 & 1 \\\\\n",
       "\t884 & 884 & 0 & 2 & Banfield, Mr. Frederick James                       & male   & 28 & 0 & 0 & C.A./SOTON 34068 & 10.5000 &             & S & 0.28901523 & 0 \\\\\n",
       "\t885 & 885 & 0 & 3 & Sutehall, Mr. Henry Jr                              & male   & 25 & 0 & 0 & SOTON/OQ 392076  &  7.0500 &             & S & 0.11102337 & 0 \\\\\n",
       "\t886 & 886 & 0 & 3 & Rice, Mrs. William (Margaret Norton)                & female & 39 & 0 & 5 & 382652           & 29.1250 &             & Q & 0.47757369 & 1 \\\\\n",
       "\t887 & 887 & 0 & 2 & Montvila, Rev. Juozas                               & male   & 27 & 0 & 0 & 211536           & 13.0000 &             & S & 0.29826244 & 0 \\\\\n",
       "\t888 & 888 & 1 & 1 & Graham, Miss. Margaret Edith                        & female & 19 & 0 & 0 & 112053           & 30.0000 & B42         & S & 0.96862254 & 1 \\\\\n",
       "\t889 & 889 & 0 & 3 & Johnston, Miss. Catherine Helen \"Carrie\"            & female &  0 & 1 & 2 & W./C. 6607       & 23.4500 &             & S &         NA & NA\\\\\n",
       "\t890 & 890 & 1 & 1 & Behr, Mr. Karl Howell                               & male   & 26 & 0 & 0 & 111369           & 30.0000 & C148        & C & 0.62314447 & 1 \\\\\n",
       "\t891 & 891 & 0 & 3 & Dooley, Mr. Patrick                                 & male   & 32 & 0 & 0 & 370376           &  7.7500 &             & Q & 0.08375166 & 0 \\\\\n",
       "\\end{tabular}\n"
      ],
      "text/markdown": [
       "\n",
       "A data.frame: 889 × 14\n",
       "\n",
       "| <!--/--> | PassengerId &lt;int&gt; | Survived &lt;int&gt; | Pclass &lt;int&gt; | Name &lt;chr&gt; | Sex &lt;chr&gt; | Age &lt;dbl&gt; | SibSp &lt;int&gt; | Parch &lt;int&gt; | Ticket &lt;chr&gt; | Fare &lt;dbl&gt; | Cabin &lt;chr&gt; | Embarked &lt;chr&gt; | probabilidade &lt;dbl&gt; | predito &lt;fct&gt; |\n",
       "|---|---|---|---|---|---|---|---|---|---|---|---|---|---|---|\n",
       "| 1 |  1 | 0 | 3 | Braund, Mr. Owen Harris                                   | male   | 22 | 1 | 0 | A/5 21171        |   7.2500 | <!----> | S | 0.08938019 | 0  |\n",
       "| 2 |  2 | 1 | 1 | Cumings, Mrs. John Bradley (Florence Briggs Thayer)       | female | 38 | 1 | 0 | PC 17599         |  71.2833 | C85         | C | 0.90096553 | 1  |\n",
       "| 3 |  3 | 1 | 3 | Heikkinen, Miss. Laina                                    | female | 26 | 0 | 0 | STON/O2. 3101282 |   7.9250 | <!----> | S | 0.62007138 | 1  |\n",
       "| 4 |  4 | 1 | 1 | Futrelle, Mrs. Jacques Heath (Lily May Peel)              | female | 35 | 1 | 0 | 113803           |  53.1000 | C123        | S | 0.91227677 | 1  |\n",
       "| 5 |  5 | 0 | 3 | Allen, Mr. William Henry                                  | male   | 35 | 0 | 0 | 373450           |   8.0500 | <!----> | S | 0.07404249 | 0  |\n",
       "| 6 |  6 | 0 | 3 | Moran, Mr. James                                          | male   |  0 | 0 | 0 | 330877           |   8.4583 | <!----> | Q |         NA | NA |\n",
       "| 7 |  7 | 0 | 1 | McCarthy, Mr. Timothy J                                   | male   | 54 | 0 | 0 | 17463            |  51.8625 | E46         | S | 0.32180509 | 0  |\n",
       "| 8 |  8 | 0 | 3 | Palsson, Master. Gosta Leonard                            | male   |  2 | 3 | 1 | 349909           |  21.0750 | <!----> | S | 0.10166898 | 0  |\n",
       "| 9 |  9 | 1 | 3 | Johnson, Mrs. Oscar W (Elisabeth Vilhelmina Berg)         | female | 27 | 0 | 2 | 347742           |  11.1333 | <!----> | S | 0.60951293 | 1  |\n",
       "| 10 | 10 | 1 | 2 | Nasser, Mrs. Nicholas (Adele Achem)                       | female | 14 | 1 | 0 | 237736           |  30.0708 | <!----> | C | 0.87698076 | 1  |\n",
       "| 11 | 11 | 1 | 3 | Sandstrom, Miss. Marguerite Rut                           | female |  4 | 1 | 1 | PP 9549          |  16.7000 | G6          | S | 0.74952621 | 1  |\n",
       "| 12 | 12 | 1 | 1 | Bonnell, Miss. Elizabeth                                  | female | 58 | 0 | 0 | 113783           |  26.5500 | C103        | S | 0.84434709 | 1  |\n",
       "| 13 | 13 | 0 | 3 | Saundercock, Mr. William Henry                            | male   | 20 | 0 | 0 | A/5. 2151        |   8.0500 | <!----> | S | 0.13500631 | 0  |\n",
       "| 14 | 14 | 0 | 3 | Andersson, Mr. Anders Johan                               | male   | 39 | 1 | 5 | 347082           |  31.2750 | <!----> | S | 0.04397399 | 0  |\n",
       "| 15 | 15 | 0 | 3 | Vestrom, Miss. Hulda Amanda Adolfina                      | female | 14 | 0 | 0 | 350406           |   7.8542 | <!----> | S | 0.73592246 | 1  |\n",
       "| 16 | 16 | 1 | 2 | Hewlett, Mrs. (Mary D Kingcome)                           | female | 55 | 0 | 0 | 248706           |  16.0000 | <!----> | S | 0.62498847 | 1  |\n",
       "| 17 | 17 | 0 | 3 | Rice, Master. Eugene                                      | male   |  2 | 4 | 1 | 382652           |  29.1250 | <!----> | Q | 0.07219369 | 0  |\n",
       "| 18 | 18 | 1 | 2 | Williams, Mr. Charles Eugene                              | male   |  0 | 0 | 0 | 244373           |  13.0000 | <!----> | S |         NA | NA |\n",
       "| 19 | 19 | 0 | 3 | Vander Planke, Mrs. Julius (Emelia Maria Vandemoortele)   | female | 31 | 1 | 0 | 345763           |  18.0000 | <!----> | S | 0.47309296 | 1  |\n",
       "| 20 | 20 | 1 | 3 | Masselmani, Mrs. Fatima                                   | female |  0 | 0 | 0 | 2649             |   7.2250 | <!----> | C |         NA | NA |\n",
       "| 21 | 21 | 0 | 2 | Fynney, Mr. Joseph J                                      | male   | 35 | 0 | 0 | 239865           |  26.0000 | <!----> | S | 0.22929914 | 0  |\n",
       "| 22 | 22 | 1 | 2 | Beesley, Mr. Lawrence                                     | male   | 34 | 0 | 0 | 248698           |  13.0000 | D56         | S | 0.23727333 | 0  |\n",
       "| 23 | 23 | 1 | 3 | McGowan, Miss. Anna \"Annie\"                               | female | 15 | 0 | 0 | 330923           |   8.0292 | <!----> | Q | 0.72716696 | 1  |\n",
       "| 24 | 24 | 1 | 1 | Sloper, Mr. William Thompson                              | male   | 28 | 0 | 0 | 113788           |  35.5000 | A6          | S | 0.60198544 | 1  |\n",
       "| 25 | 25 | 0 | 3 | Palsson, Miss. Torborg Danira                             | female |  8 | 3 | 1 | 349909           |  21.0750 | <!----> | S | 0.54200960 | 1  |\n",
       "| 26 | 26 | 1 | 3 | Asplund, Mrs. Carl Oscar (Selma Augusta Emilia Johansson) | female | 38 | 1 | 5 | 347077           |  31.3875 | <!----> | S | 0.39655658 | 1  |\n",
       "| 27 | 27 | 0 | 3 | Emir, Mr. Farred Chehab                                   | male   |  0 | 0 | 0 | 2631             |   7.2250 | <!----> | C |         NA | NA |\n",
       "| 28 | 28 | 0 | 1 | Fortune, Mr. Charles Alexander                            | male   | 19 | 3 | 2 | 19950            | 263.0000 | C23 C25 C27 | S | 0.42337249 | 1  |\n",
       "| 29 | 29 | 1 | 3 | O'Dwyer, Miss. Ellen \"Nellie\"                             | female |  0 | 0 | 0 | 330959           |   7.8792 | <!----> | Q |         NA | NA |\n",
       "| 30 | 30 | 0 | 3 | Todoroff, Mr. Lalio                                       | male   |  0 | 0 | 0 | 349216           |   7.8958 | <!----> | S |         NA | NA |\n",
       "| ⋮ | ⋮ | ⋮ | ⋮ | ⋮ | ⋮ | ⋮ | ⋮ | ⋮ | ⋮ | ⋮ | ⋮ | ⋮ | ⋮ | ⋮ |\n",
       "| 862 | 862 | 0 | 2 | Giles, Mr. Frederick Edward                         | male   | 21 | 1 | 0 | 28134            | 11.5000 | <!----> | S | 0.27633308 | 0  |\n",
       "| 863 | 863 | 1 | 1 | Swift, Mrs. Frederick Joel (Margaret Welles Barron) | female | 48 | 0 | 0 | 17466            | 25.9292 | D17         | S | 0.89442826 | 1  |\n",
       "| 864 | 864 | 0 | 3 | Sage, Miss. Dorothy Edith \"Dolly\"                   | female |  0 | 8 | 2 | CA. 2343         | 69.5500 | <!----> | S |         NA | NA |\n",
       "| 865 | 865 | 0 | 2 | Gill, Mr. John William                              | male   | 24 | 0 | 0 | 233866           | 13.0000 | <!----> | S | 0.32699057 | 0  |\n",
       "| 866 | 866 | 1 | 2 | Bystrom, Mrs. (Karolina)                            | female | 42 | 0 | 0 | 236852           | 13.0000 | <!----> | S | 0.74845574 | 1  |\n",
       "| 867 | 867 | 1 | 2 | Duran y More, Miss. Asuncion                        | female | 27 | 1 | 0 | SC/PARIS 2149    | 13.8583 | <!----> | C | 0.79971717 | 1  |\n",
       "| 868 | 868 | 0 | 1 | Roebling, Mr. Washington Augustus II                | male   | 31 | 0 | 0 | PC 17590         | 50.4958 | A24         | S | 0.56954304 | 1  |\n",
       "| 869 | 869 | 0 | 3 | van Melkebeke, Mr. Philemon                         | male   |  0 | 0 | 0 | 345777           |  9.5000 | <!----> | S |         NA | NA |\n",
       "| 870 | 870 | 1 | 3 | Johnson, Master. Harold Theodor                     | male   |  4 | 1 | 1 | 347742           | 11.1333 | <!----> | S | 0.17965594 | 0  |\n",
       "| 871 | 871 | 0 | 3 | Balkic, Mr. Cerin                                   | male   | 26 | 0 | 0 | 349248           |  7.8958 | <!----> | S | 0.10669859 | 0  |\n",
       "| 872 | 872 | 1 | 1 | Beckwith, Mrs. Richard Leonard (Sallie Monypeny)    | female | 47 | 1 | 1 | 11751            | 52.5542 | D35         | S | 0.85896571 | 1  |\n",
       "| 873 | 873 | 0 | 1 | Carlsson, Mr. Frans Olof                            | male   | 33 | 0 | 0 | 695              |  5.0000 | B51 B53 B55 | S | 0.54755958 | 1  |\n",
       "| 874 | 874 | 0 | 3 | Vander Cruyssen, Mr. Victor                         | male   | 47 | 0 | 0 | 345765           |  9.0000 | <!----> | S | 0.04473554 | 0  |\n",
       "| 875 | 875 | 1 | 2 | Abelson, Mrs. Samuel (Hannah Wizosky)               | female | 28 | 1 | 0 | P/PP 3381        | 24.0000 | <!----> | C | 0.79248036 | 1  |\n",
       "| 876 | 876 | 1 | 3 | Najib, Miss. Adele Kiamie \"Jane\"                    | female | 15 | 0 | 0 | 2667             |  7.2250 | <!----> | C | 0.72716696 | 1  |\n",
       "| 877 | 877 | 0 | 3 | Gustafsson, Mr. Alfred Ossian                       | male   | 20 | 0 | 0 | 7534             |  9.8458 | <!----> | S | 0.13500631 | 0  |\n",
       "| 878 | 878 | 0 | 3 | Petroff, Mr. Nedelio                                | male   | 19 | 0 | 0 | 349212           |  7.8958 | <!----> | S | 0.14029828 | 0  |\n",
       "| 879 | 879 | 0 | 3 | Laleff, Mr. Kristo                                  | male   |  0 | 0 | 0 | 349217           |  7.8958 | <!----> | S |         NA | NA |\n",
       "| 880 | 880 | 1 | 1 | Potter, Mrs. Thomas Jr (Lily Alexenia Wilson)       | female | 56 | 0 | 1 | 11767            | 83.1583 | C50         | C | 0.85571006 | 1  |\n",
       "| 881 | 881 | 1 | 2 | Shelley, Mrs. William (Imanita Parrish Hall)        | female | 25 | 0 | 1 | 230433           | 26.0000 | <!----> | S | 0.86393366 | 1  |\n",
       "| 882 | 882 | 0 | 3 | Markun, Mr. Johann                                  | male   | 33 | 0 | 0 | 349257           |  7.8958 | <!----> | S | 0.08039314 | 0  |\n",
       "| 883 | 883 | 0 | 3 | Dahlberg, Miss. Gerda Ulrika                        | female | 22 | 0 | 0 | 7552             | 10.5167 | <!----> | S | 0.66109883 | 1  |\n",
       "| 884 | 884 | 0 | 2 | Banfield, Mr. Frederick James                       | male   | 28 | 0 | 0 | C.A./SOTON 34068 | 10.5000 | <!----> | S | 0.28901523 | 0  |\n",
       "| 885 | 885 | 0 | 3 | Sutehall, Mr. Henry Jr                              | male   | 25 | 0 | 0 | SOTON/OQ 392076  |  7.0500 | <!----> | S | 0.11102337 | 0  |\n",
       "| 886 | 886 | 0 | 3 | Rice, Mrs. William (Margaret Norton)                | female | 39 | 0 | 5 | 382652           | 29.1250 | <!----> | Q | 0.47757369 | 1  |\n",
       "| 887 | 887 | 0 | 2 | Montvila, Rev. Juozas                               | male   | 27 | 0 | 0 | 211536           | 13.0000 | <!----> | S | 0.29826244 | 0  |\n",
       "| 888 | 888 | 1 | 1 | Graham, Miss. Margaret Edith                        | female | 19 | 0 | 0 | 112053           | 30.0000 | B42         | S | 0.96862254 | 1  |\n",
       "| 889 | 889 | 0 | 3 | Johnston, Miss. Catherine Helen \"Carrie\"            | female |  0 | 1 | 2 | W./C. 6607       | 23.4500 | <!----> | S |         NA | NA |\n",
       "| 890 | 890 | 1 | 1 | Behr, Mr. Karl Howell                               | male   | 26 | 0 | 0 | 111369           | 30.0000 | C148        | C | 0.62314447 | 1  |\n",
       "| 891 | 891 | 0 | 3 | Dooley, Mr. Patrick                                 | male   | 32 | 0 | 0 | 370376           |  7.7500 | <!----> | Q | 0.08375166 | 0  |\n",
       "\n"
      ],
      "text/plain": [
       "    PassengerId Survived Pclass\n",
       "1    1          0        3     \n",
       "2    2          1        1     \n",
       "3    3          1        3     \n",
       "4    4          1        1     \n",
       "5    5          0        3     \n",
       "6    6          0        3     \n",
       "7    7          0        1     \n",
       "8    8          0        3     \n",
       "9    9          1        3     \n",
       "10  10          1        2     \n",
       "11  11          1        3     \n",
       "12  12          1        1     \n",
       "13  13          0        3     \n",
       "14  14          0        3     \n",
       "15  15          0        3     \n",
       "16  16          1        2     \n",
       "17  17          0        3     \n",
       "18  18          1        2     \n",
       "19  19          0        3     \n",
       "20  20          1        3     \n",
       "21  21          0        2     \n",
       "22  22          1        2     \n",
       "23  23          1        3     \n",
       "24  24          1        1     \n",
       "25  25          0        3     \n",
       "26  26          1        3     \n",
       "27  27          0        3     \n",
       "28  28          0        1     \n",
       "29  29          1        3     \n",
       "30  30          0        3     \n",
       "⋮   ⋮           ⋮        ⋮     \n",
       "862 862         0        2     \n",
       "863 863         1        1     \n",
       "864 864         0        3     \n",
       "865 865         0        2     \n",
       "866 866         1        2     \n",
       "867 867         1        2     \n",
       "868 868         0        1     \n",
       "869 869         0        3     \n",
       "870 870         1        3     \n",
       "871 871         0        3     \n",
       "872 872         1        1     \n",
       "873 873         0        1     \n",
       "874 874         0        3     \n",
       "875 875         1        2     \n",
       "876 876         1        3     \n",
       "877 877         0        3     \n",
       "878 878         0        3     \n",
       "879 879         0        3     \n",
       "880 880         1        1     \n",
       "881 881         1        2     \n",
       "882 882         0        3     \n",
       "883 883         0        3     \n",
       "884 884         0        2     \n",
       "885 885         0        3     \n",
       "886 886         0        3     \n",
       "887 887         0        2     \n",
       "888 888         1        1     \n",
       "889 889         0        3     \n",
       "890 890         1        1     \n",
       "891 891         0        3     \n",
       "    Name                                                      Sex    Age SibSp\n",
       "1   Braund, Mr. Owen Harris                                   male   22  1    \n",
       "2   Cumings, Mrs. John Bradley (Florence Briggs Thayer)       female 38  1    \n",
       "3   Heikkinen, Miss. Laina                                    female 26  0    \n",
       "4   Futrelle, Mrs. Jacques Heath (Lily May Peel)              female 35  1    \n",
       "5   Allen, Mr. William Henry                                  male   35  0    \n",
       "6   Moran, Mr. James                                          male    0  0    \n",
       "7   McCarthy, Mr. Timothy J                                   male   54  0    \n",
       "8   Palsson, Master. Gosta Leonard                            male    2  3    \n",
       "9   Johnson, Mrs. Oscar W (Elisabeth Vilhelmina Berg)         female 27  0    \n",
       "10  Nasser, Mrs. Nicholas (Adele Achem)                       female 14  1    \n",
       "11  Sandstrom, Miss. Marguerite Rut                           female  4  1    \n",
       "12  Bonnell, Miss. Elizabeth                                  female 58  0    \n",
       "13  Saundercock, Mr. William Henry                            male   20  0    \n",
       "14  Andersson, Mr. Anders Johan                               male   39  1    \n",
       "15  Vestrom, Miss. Hulda Amanda Adolfina                      female 14  0    \n",
       "16  Hewlett, Mrs. (Mary D Kingcome)                           female 55  0    \n",
       "17  Rice, Master. Eugene                                      male    2  4    \n",
       "18  Williams, Mr. Charles Eugene                              male    0  0    \n",
       "19  Vander Planke, Mrs. Julius (Emelia Maria Vandemoortele)   female 31  1    \n",
       "20  Masselmani, Mrs. Fatima                                   female  0  0    \n",
       "21  Fynney, Mr. Joseph J                                      male   35  0    \n",
       "22  Beesley, Mr. Lawrence                                     male   34  0    \n",
       "23  McGowan, Miss. Anna \"Annie\"                               female 15  0    \n",
       "24  Sloper, Mr. William Thompson                              male   28  0    \n",
       "25  Palsson, Miss. Torborg Danira                             female  8  3    \n",
       "26  Asplund, Mrs. Carl Oscar (Selma Augusta Emilia Johansson) female 38  1    \n",
       "27  Emir, Mr. Farred Chehab                                   male    0  0    \n",
       "28  Fortune, Mr. Charles Alexander                            male   19  3    \n",
       "29  O'Dwyer, Miss. Ellen \"Nellie\"                             female  0  0    \n",
       "30  Todoroff, Mr. Lalio                                       male    0  0    \n",
       "⋮   ⋮                                                         ⋮      ⋮   ⋮    \n",
       "862 Giles, Mr. Frederick Edward                               male   21  1    \n",
       "863 Swift, Mrs. Frederick Joel (Margaret Welles Barron)       female 48  0    \n",
       "864 Sage, Miss. Dorothy Edith \"Dolly\"                         female  0  8    \n",
       "865 Gill, Mr. John William                                    male   24  0    \n",
       "866 Bystrom, Mrs. (Karolina)                                  female 42  0    \n",
       "867 Duran y More, Miss. Asuncion                              female 27  1    \n",
       "868 Roebling, Mr. Washington Augustus II                      male   31  0    \n",
       "869 van Melkebeke, Mr. Philemon                               male    0  0    \n",
       "870 Johnson, Master. Harold Theodor                           male    4  1    \n",
       "871 Balkic, Mr. Cerin                                         male   26  0    \n",
       "872 Beckwith, Mrs. Richard Leonard (Sallie Monypeny)          female 47  1    \n",
       "873 Carlsson, Mr. Frans Olof                                  male   33  0    \n",
       "874 Vander Cruyssen, Mr. Victor                               male   47  0    \n",
       "875 Abelson, Mrs. Samuel (Hannah Wizosky)                     female 28  1    \n",
       "876 Najib, Miss. Adele Kiamie \"Jane\"                          female 15  0    \n",
       "877 Gustafsson, Mr. Alfred Ossian                             male   20  0    \n",
       "878 Petroff, Mr. Nedelio                                      male   19  0    \n",
       "879 Laleff, Mr. Kristo                                        male    0  0    \n",
       "880 Potter, Mrs. Thomas Jr (Lily Alexenia Wilson)             female 56  0    \n",
       "881 Shelley, Mrs. William (Imanita Parrish Hall)              female 25  0    \n",
       "882 Markun, Mr. Johann                                        male   33  0    \n",
       "883 Dahlberg, Miss. Gerda Ulrika                              female 22  0    \n",
       "884 Banfield, Mr. Frederick James                             male   28  0    \n",
       "885 Sutehall, Mr. Henry Jr                                    male   25  0    \n",
       "886 Rice, Mrs. William (Margaret Norton)                      female 39  0    \n",
       "887 Montvila, Rev. Juozas                                     male   27  0    \n",
       "888 Graham, Miss. Margaret Edith                              female 19  0    \n",
       "889 Johnston, Miss. Catherine Helen \"Carrie\"                  female  0  1    \n",
       "890 Behr, Mr. Karl Howell                                     male   26  0    \n",
       "891 Dooley, Mr. Patrick                                       male   32  0    \n",
       "    Parch Ticket           Fare     Cabin       Embarked probabilidade predito\n",
       "1   0     A/5 21171          7.2500             S        0.08938019    0      \n",
       "2   0     PC 17599          71.2833 C85         C        0.90096553    1      \n",
       "3   0     STON/O2. 3101282   7.9250             S        0.62007138    1      \n",
       "4   0     113803            53.1000 C123        S        0.91227677    1      \n",
       "5   0     373450             8.0500             S        0.07404249    0      \n",
       "6   0     330877             8.4583             Q                NA    NA     \n",
       "7   0     17463             51.8625 E46         S        0.32180509    0      \n",
       "8   1     349909            21.0750             S        0.10166898    0      \n",
       "9   2     347742            11.1333             S        0.60951293    1      \n",
       "10  0     237736            30.0708             C        0.87698076    1      \n",
       "11  1     PP 9549           16.7000 G6          S        0.74952621    1      \n",
       "12  0     113783            26.5500 C103        S        0.84434709    1      \n",
       "13  0     A/5. 2151          8.0500             S        0.13500631    0      \n",
       "14  5     347082            31.2750             S        0.04397399    0      \n",
       "15  0     350406             7.8542             S        0.73592246    1      \n",
       "16  0     248706            16.0000             S        0.62498847    1      \n",
       "17  1     382652            29.1250             Q        0.07219369    0      \n",
       "18  0     244373            13.0000             S                NA    NA     \n",
       "19  0     345763            18.0000             S        0.47309296    1      \n",
       "20  0     2649               7.2250             C                NA    NA     \n",
       "21  0     239865            26.0000             S        0.22929914    0      \n",
       "22  0     248698            13.0000 D56         S        0.23727333    0      \n",
       "23  0     330923             8.0292             Q        0.72716696    1      \n",
       "24  0     113788            35.5000 A6          S        0.60198544    1      \n",
       "25  1     349909            21.0750             S        0.54200960    1      \n",
       "26  5     347077            31.3875             S        0.39655658    1      \n",
       "27  0     2631               7.2250             C                NA    NA     \n",
       "28  2     19950            263.0000 C23 C25 C27 S        0.42337249    1      \n",
       "29  0     330959             7.8792             Q                NA    NA     \n",
       "30  0     349216             7.8958             S                NA    NA     \n",
       "⋮   ⋮     ⋮                ⋮        ⋮           ⋮        ⋮             ⋮      \n",
       "862 0     28134            11.5000              S        0.27633308    0      \n",
       "863 0     17466            25.9292  D17         S        0.89442826    1      \n",
       "864 2     CA. 2343         69.5500              S                NA    NA     \n",
       "865 0     233866           13.0000              S        0.32699057    0      \n",
       "866 0     236852           13.0000              S        0.74845574    1      \n",
       "867 0     SC/PARIS 2149    13.8583              C        0.79971717    1      \n",
       "868 0     PC 17590         50.4958  A24         S        0.56954304    1      \n",
       "869 0     345777            9.5000              S                NA    NA     \n",
       "870 1     347742           11.1333              S        0.17965594    0      \n",
       "871 0     349248            7.8958              S        0.10669859    0      \n",
       "872 1     11751            52.5542  D35         S        0.85896571    1      \n",
       "873 0     695               5.0000  B51 B53 B55 S        0.54755958    1      \n",
       "874 0     345765            9.0000              S        0.04473554    0      \n",
       "875 0     P/PP 3381        24.0000              C        0.79248036    1      \n",
       "876 0     2667              7.2250              C        0.72716696    1      \n",
       "877 0     7534              9.8458              S        0.13500631    0      \n",
       "878 0     349212            7.8958              S        0.14029828    0      \n",
       "879 0     349217            7.8958              S                NA    NA     \n",
       "880 1     11767            83.1583  C50         C        0.85571006    1      \n",
       "881 1     230433           26.0000              S        0.86393366    1      \n",
       "882 0     349257            7.8958              S        0.08039314    0      \n",
       "883 0     7552             10.5167              S        0.66109883    1      \n",
       "884 0     C.A./SOTON 34068 10.5000              S        0.28901523    0      \n",
       "885 0     SOTON/OQ 392076   7.0500              S        0.11102337    0      \n",
       "886 5     382652           29.1250              Q        0.47757369    1      \n",
       "887 0     211536           13.0000              S        0.29826244    0      \n",
       "888 0     112053           30.0000  B42         S        0.96862254    1      \n",
       "889 2     W./C. 6607       23.4500              S                NA    NA     \n",
       "890 0     111369           30.0000  C148        C        0.62314447    1      \n",
       "891 0     370376            7.7500              Q        0.08375166    0      "
      ]
     },
     "metadata": {},
     "output_type": "display_data"
    }
   ],
   "source": [
    "View(dados_titanic)"
   ]
  },
  {
   "cell_type": "markdown",
   "metadata": {
    "id": "PYTvweDFJimD"
   },
   "source": [
    "### Análise exploratória breve"
   ]
  },
  {
   "cell_type": "code",
   "execution_count": 64,
   "metadata": {
    "id": "TD_M_1CzO0L8",
    "scrolled": true
   },
   "outputs": [
    {
     "data": {
      "text/plain": [
       "  PassengerId     Survived          Pclass          Name          \n",
       " Min.   :  1   Min.   :0.0000   Min.   :1.000   Length:889        \n",
       " 1st Qu.:224   1st Qu.:0.0000   1st Qu.:2.000   Class :character  \n",
       " Median :446   Median :0.0000   Median :3.000   Mode  :character  \n",
       " Mean   :446   Mean   :0.3825   Mean   :2.312                     \n",
       " 3rd Qu.:668   3rd Qu.:1.0000   3rd Qu.:3.000                     \n",
       " Max.   :891   Max.   :1.0000   Max.   :3.000                     \n",
       "                                                                  \n",
       "     Sex                 Age            SibSp            Parch       \n",
       " Length:889         Min.   : 0.00   Min.   :0.0000   Min.   :0.0000  \n",
       " Class :character   1st Qu.: 6.00   1st Qu.:0.0000   1st Qu.:0.0000  \n",
       " Mode  :character   Median :24.00   Median :0.0000   Median :0.0000  \n",
       "                    Mean   :23.74   Mean   :0.5242   Mean   :0.3825  \n",
       "                    3rd Qu.:35.00   3rd Qu.:1.0000   3rd Qu.:0.0000  \n",
       "                    Max.   :80.00   Max.   :8.0000   Max.   :6.0000  \n",
       "                                                                     \n",
       "    Ticket               Fare            Cabin             Embarked        \n",
       " Length:889         Min.   :  0.000   Length:889         Length:889        \n",
       " Class :character   1st Qu.:  7.896   Class :character   Class :character  \n",
       " Mode  :character   Median : 14.454   Mode  :character   Mode  :character  \n",
       "                    Mean   : 32.097                                        \n",
       "                    3rd Qu.: 31.000                                        \n",
       "                    Max.   :512.329                                        \n",
       "                                                                           \n",
       " probabilidade     predito   \n",
       " Min.   :0.01386   0   :385  \n",
       " 1st Qu.:0.11550   1   :327  \n",
       " Median :0.30660   NA's:177  \n",
       " Mean   :0.40449             \n",
       " 3rd Qu.:0.67562             \n",
       " Max.   :0.97840             \n",
       " NA's   :177                 "
      ]
     },
     "metadata": {},
     "output_type": "display_data"
    }
   ],
   "source": [
    "# Medidas resumo\n",
    "summary(dados_titanic)"
   ]
  },
  {
   "cell_type": "code",
   "execution_count": 65,
   "metadata": {
    "id": "xJ7mGpUpO_7M",
    "scrolled": true
   },
   "outputs": [
    {
     "data": {
      "text/plain": [
       "\n",
       "female   male \n",
       "   312    577 "
      ]
     },
     "metadata": {},
     "output_type": "display_data"
    },
    {
     "data": {
      "text/plain": [
       "\n",
       "   female      male \n",
       "0.3509561 0.6490439 "
      ]
     },
     "metadata": {},
     "output_type": "display_data"
    }
   ],
   "source": [
    "# Tabela de frequências: gênero\n",
    "table(dados_titanic$Sex)\n",
    "prop.table(table(dados_titanic$Sex))"
   ]
  },
  {
   "cell_type": "code",
   "execution_count": 66,
   "metadata": {
    "id": "7Zci06gGPACI"
   },
   "outputs": [
    {
     "data": {
      "text/plain": [
       "\n",
       "  C   Q   S \n",
       "168  77 644 "
      ]
     },
     "metadata": {},
     "output_type": "display_data"
    },
    {
     "data": {
      "text/plain": [
       "\n",
       "         C          Q          S \n",
       "0.18897638 0.08661417 0.72440945 "
      ]
     },
     "metadata": {},
     "output_type": "display_data"
    }
   ],
   "source": [
    "# Tabela de frequências: Local de Embarque\n",
    "table(dados_titanic$Embarked)\n",
    "prop.table(table(dados_titanic$Embarked))"
   ]
  },
  {
   "cell_type": "code",
   "execution_count": 67,
   "metadata": {
    "id": "7Zci06gGPACI"
   },
   "outputs": [
    {
     "data": {
      "text/plain": [
       "\n",
       "  1   2   3 \n",
       "214 184 491 "
      ]
     },
     "metadata": {},
     "output_type": "display_data"
    },
    {
     "data": {
      "text/plain": [
       "\n",
       "        1         2         3 \n",
       "0.2407199 0.2069741 0.5523060 "
      ]
     },
     "metadata": {},
     "output_type": "display_data"
    }
   ],
   "source": [
    "# Tabela de frequências: Tipo Ticket\n",
    "table(dados_titanic$Pclass)\n",
    "prop.table(table(dados_titanic$Pclass))"
   ]
  },
  {
   "cell_type": "code",
   "execution_count": 35,
   "metadata": {
    "id": "qcrhoBJ3PAKH"
   },
   "outputs": [
    {
     "data": {
      "text/plain": [
       "\n",
       "  0   1 \n",
       "549 340 "
      ]
     },
     "metadata": {},
     "output_type": "display_data"
    },
    {
     "data": {
      "text/plain": [
       "\n",
       "        0         1 \n",
       "0.6175478 0.3824522 "
      ]
     },
     "metadata": {},
     "output_type": "display_data"
    }
   ],
   "source": [
    "# Tabela de frequências: Survival\n",
    "table(dados_titanic$Survived)\n",
    "prop.table(table(dados_titanic$Survived))"
   ]
  },
  {
   "cell_type": "markdown",
   "metadata": {
    "id": "hvZQdAvYJn80"
   },
   "source": [
    "### Análise bivariada: variável resposta vs. variáveis explicativas"
   ]
  },
  {
   "cell_type": "code",
   "execution_count": 68,
   "metadata": {
    "id": "lg03z-MAv53B"
   },
   "outputs": [],
   "source": [
    "# Comando auxiliar para aumentar resolução do gráfico (recomendado apenas no Colab)\n",
    "reset_options <- options()\n",
    "options(repr.plot.width = 20, repr.plot.height = 7)"
   ]
  },
  {
   "cell_type": "code",
   "execution_count": 71,
   "metadata": {
    "id": "YugAaIaWxki8"
   },
   "outputs": [
    {
     "data": {
      "image/png": "[encoded data removed]",
      "text/plain": [
       "Plot with title “Idade”"
      ]
     },
     "metadata": {
      "image/png": {
       "height": 420,
       "width": 420
      }
     },
     "output_type": "display_data"
    }
   ],
   "source": [
    "# Gráficos de boxplots\n",
    "boxplot(Age ~ Survived, data = dados_titanic, col = \"darkturquoise\", main = \"Idade\")"
   ]
  },
  {
   "cell_type": "code",
   "execution_count": 70,
   "metadata": {
    "id": "UDz8lfptvcag"
   },
   "outputs": [],
   "source": [
    "# Resetando parâmetros gráficos (recomendado apenas no Colab)\n",
    "options(reset_options)"
   ]
  },
  {
   "cell_type": "code",
   "execution_count": 72,
   "metadata": {
    "id": "M6Pat478PQGL"
   },
   "outputs": [
    {
     "data": {
      "text/plain": [
       "        \n",
       "           0   1\n",
       "  female  81 231\n",
       "  male   468 109"
      ]
     },
     "metadata": {},
     "output_type": "display_data"
    },
    {
     "data": {
      "text/plain": [
       "        \n",
       "                 0         1\n",
       "  female 0.2596154 0.7403846\n",
       "  male   0.8110919 0.1889081"
      ]
     },
     "metadata": {},
     "output_type": "display_data"
    }
   ],
   "source": [
    "# Tabela de frequências: gênero versus sobrevivencia\n",
    "table(dados_titanic$Sex, dados_titanic$Survived)\n",
    "prop.table(table(dados_titanic$Sex, dados_titanic$Survived), 1)"
   ]
  },
  {
   "cell_type": "code",
   "execution_count": 73,
   "metadata": {
    "id": "jA2nn-WhxiOD"
   },
   "outputs": [
    {
     "data": {
      "text/plain": [
       "   \n",
       "      0   1\n",
       "  1  80 134\n",
       "  2  97  87\n",
       "  3 372 119"
      ]
     },
     "metadata": {},
     "output_type": "display_data"
    },
    {
     "data": {
      "text/plain": [
       "   \n",
       "            0         1\n",
       "  1 0.3738318 0.6261682\n",
       "  2 0.5271739 0.4728261\n",
       "  3 0.7576375 0.2423625"
      ]
     },
     "metadata": {},
     "output_type": "display_data"
    }
   ],
   "source": [
    "# Tabela de frequências: Tipo ticket versus sobrevivencia\n",
    "table(dados_titanic$Pclass, dados_titanic$Survived)\n",
    "prop.table(table(dados_titanic$Pclass, dados_titanic$Survived), 1)"
   ]
  },
  {
   "cell_type": "code",
   "execution_count": 74,
   "metadata": {
    "id": "jA2nn-WhxiOD"
   },
   "outputs": [
    {
     "data": {
      "text/plain": [
       "   \n",
       "      0   1\n",
       "  C  75  93\n",
       "  Q  47  30\n",
       "  S 427 217"
      ]
     },
     "metadata": {},
     "output_type": "display_data"
    },
    {
     "data": {
      "text/plain": [
       "   \n",
       "            0         1\n",
       "  C 0.4464286 0.5535714\n",
       "  Q 0.6103896 0.3896104\n",
       "  S 0.6630435 0.3369565"
      ]
     },
     "metadata": {},
     "output_type": "display_data"
    }
   ],
   "source": [
    "# Tabela de frequências: Local embarque versus sobrevivencia\n",
    "table(dados_titanic$Embarked, dados_titanic$Survived)\n",
    "prop.table(table(dados_titanic$Embarked, dados_titanic$Survived), 1)"
   ]
  },
  {
   "cell_type": "code",
   "execution_count": 75,
   "metadata": {},
   "outputs": [
    {
     "data": {
      "text/plain": [
       "   \n",
       "      1   2   3\n",
       "  C  85  17  66\n",
       "  Q   2   3  72\n",
       "  S 127 164 353"
      ]
     },
     "metadata": {},
     "output_type": "display_data"
    },
    {
     "data": {
      "text/plain": [
       "   \n",
       "             1          2          3\n",
       "  C 0.50595238 0.10119048 0.39285714\n",
       "  Q 0.02597403 0.03896104 0.93506494\n",
       "  S 0.19720497 0.25465839 0.54813665"
      ]
     },
     "metadata": {},
     "output_type": "display_data"
    }
   ],
   "source": [
    "# Tabela de frequências: Local embarque versus Ticket\n",
    "table(dados_titanic$Embarked, dados_titanic$Pclass)\n",
    "prop.table(table(dados_titanic$Embarked, dados_titanic$Pclass), 1)"
   ]
  },
  {
   "cell_type": "markdown",
   "metadata": {
    "id": "usjTOesQJpQI"
   },
   "source": [
    "### Modelo de regressão logística múltipla"
   ]
  },
  {
   "cell_type": "code",
   "execution_count": 76,
   "metadata": {
    "id": "SRr0HokUyf6E"
   },
   "outputs": [],
   "source": [
    "# Comando auxiliar para para omitir notação científica nos p-valores e controlar largura dos outputs na tela do Colab\n",
    "options(scipen = 999, width = 200)"
   ]
  },
  {
   "cell_type": "code",
   "execution_count": 77,
   "metadata": {
    "id": "jzOA-NoBPTuv"
   },
   "outputs": [
    {
     "data": {
      "text/plain": [
       "\n",
       "Call:\n",
       "glm(formula = Survived ~ Pclass + Sex + Age + SibSp + Parch + \n",
       "    Fare + Embarked, family = binomial(link = \"logit\"), data = dados_titanic)\n",
       "\n",
       "Coefficients:\n",
       "             Estimate Std. Error z value             Pr(>|z|)    \n",
       "(Intercept)  4.165653   0.479537   8.687 < 0.0000000000000002 ***\n",
       "Pclass      -0.971245   0.138982  -6.988     0.00000000000278 ***\n",
       "Sexmale     -2.735807   0.198774 -13.763 < 0.0000000000000002 ***\n",
       "Age         -0.016617   0.005537  -3.001              0.00269 ** \n",
       "SibSp       -0.276860   0.102103  -2.712              0.00670 ** \n",
       "Parch       -0.052242   0.115147  -0.454              0.65004    \n",
       "Fare         0.002296   0.002356   0.975              0.32979    \n",
       "EmbarkedQ   -0.315779   0.378073  -0.835              0.40359    \n",
       "EmbarkedS   -0.386173   0.232745  -1.659              0.09707 .  \n",
       "---\n",
       "Signif. codes:  0 ‘***’ 0.001 ‘**’ 0.01 ‘*’ 0.05 ‘.’ 0.1 ‘ ’ 1\n",
       "\n",
       "(Dispersion parameter for binomial family taken to be 1)\n",
       "\n",
       "    Null deviance: 1182.82  on 888  degrees of freedom\n",
       "Residual deviance:  802.83  on 880  degrees of freedom\n",
       "AIC: 820.83\n",
       "\n",
       "Number of Fisher Scoring iterations: 5\n"
      ]
     },
     "metadata": {},
     "output_type": "display_data"
    }
   ],
   "source": [
    "# Ajuste do modelo 1: inicial\n",
    "regressao_1 <- glm(Survived ~\n",
    "                     Pclass +\n",
    "                     Sex +\n",
    "                     Age +\n",
    "                     SibSp +\n",
    "                     Parch +\n",
    "                     Fare +\n",
    "                     Embarked,\n",
    "                   family = binomial(link = 'logit'),\n",
    "                   data = dados_titanic)\n",
    "\n",
    "summary(regressao_1)"
   ]
  },
  {
   "cell_type": "code",
   "execution_count": 78,
   "metadata": {
    "id": "_chXPFxunWD9"
   },
   "outputs": [
    {
     "data": {
      "text/plain": [
       "\n",
       "Call:\n",
       "glm(formula = Survived ~ Pclass + Sex + Age + SibSp + Fare + \n",
       "    Embarked, family = binomial(link = \"logit\"), data = dados_titanic)\n",
       "\n",
       "Coefficients:\n",
       "             Estimate Std. Error z value             Pr(>|z|)    \n",
       "(Intercept)  4.170147   0.478525   8.715 < 0.0000000000000002 ***\n",
       "Pclass      -0.980629   0.137306  -7.142    0.000000000000921 ***\n",
       "Sexmale     -2.716299   0.193661 -14.026 < 0.0000000000000002 ***\n",
       "Age         -0.016762   0.005527  -3.033              0.00243 ** \n",
       "SibSp       -0.288831   0.098817  -2.923              0.00347 ** \n",
       "Fare         0.002050   0.002265   0.905              0.36534    \n",
       "EmbarkedQ   -0.301604   0.376420  -0.801              0.42299    \n",
       "EmbarkedS   -0.388426   0.232597  -1.670              0.09493 .  \n",
       "---\n",
       "Signif. codes:  0 ‘***’ 0.001 ‘**’ 0.01 ‘*’ 0.05 ‘.’ 0.1 ‘ ’ 1\n",
       "\n",
       "(Dispersion parameter for binomial family taken to be 1)\n",
       "\n",
       "    Null deviance: 1182.82  on 888  degrees of freedom\n",
       "Residual deviance:  803.04  on 881  degrees of freedom\n",
       "AIC: 819.04\n",
       "\n",
       "Number of Fisher Scoring iterations: 5\n"
      ]
     },
     "metadata": {},
     "output_type": "display_data"
    }
   ],
   "source": [
    "# Ajuste do modelo 2 tirando parch\n",
    "regressao_2 <- glm(Survived ~\n",
    "                     Pclass +\n",
    "                     Sex +\n",
    "                     Age +\n",
    "                     SibSp +\n",
    "                     Fare +\n",
    "                     Embarked,\n",
    "                   family = binomial(link = 'logit'),\n",
    "                   data = dados_titanic)\n",
    "\n",
    "summary(regressao_2)"
   ]
  },
  {
   "cell_type": "code",
   "execution_count": 79,
   "metadata": {
    "id": "8E7yJXxviNAg"
   },
   "outputs": [
    {
     "data": {
      "text/plain": [
       "\n",
       "Call:\n",
       "glm(formula = Survived ~ Pclass + Sex + Age + SibSp + Embarked, \n",
       "    family = binomial(link = \"logit\"), data = dados_titanic)\n",
       "\n",
       "Coefficients:\n",
       "             Estimate Std. Error z value             Pr(>|z|)    \n",
       "(Intercept)  4.396049   0.412479  10.658 < 0.0000000000000002 ***\n",
       "Pclass      -1.040355   0.121080  -8.592 < 0.0000000000000002 ***\n",
       "Sexmale     -2.725832   0.193318 -14.100 < 0.0000000000000002 ***\n",
       "Age         -0.016794   0.005524  -3.040              0.00237 ** \n",
       "SibSp       -0.268354   0.095839  -2.800              0.00511 ** \n",
       "EmbarkedQ   -0.329739   0.375313  -0.879              0.37963    \n",
       "EmbarkedS   -0.429719   0.227807  -1.886              0.05925 .  \n",
       "---\n",
       "Signif. codes:  0 ‘***’ 0.001 ‘**’ 0.01 ‘*’ 0.05 ‘.’ 0.1 ‘ ’ 1\n",
       "\n",
       "(Dispersion parameter for binomial family taken to be 1)\n",
       "\n",
       "    Null deviance: 1182.82  on 888  degrees of freedom\n",
       "Residual deviance:  803.91  on 882  degrees of freedom\n",
       "AIC: 817.91\n",
       "\n",
       "Number of Fisher Scoring iterations: 5\n"
      ]
     },
     "metadata": {},
     "output_type": "display_data"
    }
   ],
   "source": [
    "# Ajuste do modelo 3 tirando Fare\n",
    "regressao_3 <- glm(Survived ~\n",
    "                     Pclass +\n",
    "                     Sex +\n",
    "                     Age +\n",
    "                     SibSp +\n",
    "                     Embarked,\n",
    "                   family = binomial(link = 'logit'),\n",
    "                   data = dados_titanic)\n",
    "\n",
    "summary(regressao_3)"
   ]
  },
  {
   "cell_type": "code",
   "execution_count": 80,
   "metadata": {},
   "outputs": [
    {
     "data": {
      "text/html": [
       "<table class=\"dataframe\">\n",
       "<caption>A data.frame: 6 × 1</caption>\n",
       "<thead>\n",
       "\t<tr><th></th><th scope=col>VIF</th></tr>\n",
       "\t<tr><th></th><th scope=col>&lt;dbl&gt;</th></tr>\n",
       "</thead>\n",
       "<tbody>\n",
       "\t<tr><th scope=row>Pclass</th><td>1.357321</td></tr>\n",
       "\t<tr><th scope=row>Sexmale</th><td>1.158347</td></tr>\n",
       "\t<tr><th scope=row>Age</th><td>1.279277</td></tr>\n",
       "\t<tr><th scope=row>SibSp</th><td>1.105406</td></tr>\n",
       "\t<tr><th scope=row>EmbarkedQ</th><td>1.492985</td></tr>\n",
       "\t<tr><th scope=row>EmbarkedS</th><td>1.375996</td></tr>\n",
       "</tbody>\n",
       "</table>\n"
      ],
      "text/latex": [
       "A data.frame: 6 × 1\n",
       "\\begin{tabular}{r|l}\n",
       "  & VIF\\\\\n",
       "  & <dbl>\\\\\n",
       "\\hline\n",
       "\tPclass & 1.357321\\\\\n",
       "\tSexmale & 1.158347\\\\\n",
       "\tAge & 1.279277\\\\\n",
       "\tSibSp & 1.105406\\\\\n",
       "\tEmbarkedQ & 1.492985\\\\\n",
       "\tEmbarkedS & 1.375996\\\\\n",
       "\\end{tabular}\n"
      ],
      "text/markdown": [
       "\n",
       "A data.frame: 6 × 1\n",
       "\n",
       "| <!--/--> | VIF &lt;dbl&gt; |\n",
       "|---|---|\n",
       "| Pclass | 1.357321 |\n",
       "| Sexmale | 1.158347 |\n",
       "| Age | 1.279277 |\n",
       "| SibSp | 1.105406 |\n",
       "| EmbarkedQ | 1.492985 |\n",
       "| EmbarkedS | 1.375996 |\n",
       "\n"
      ],
      "text/plain": [
       "          VIF     \n",
       "Pclass    1.357321\n",
       "Sexmale   1.158347\n",
       "Age       1.279277\n",
       "SibSp     1.105406\n",
       "EmbarkedQ 1.492985\n",
       "EmbarkedS 1.375996"
      ]
     },
     "metadata": {},
     "output_type": "display_data"
    }
   ],
   "source": [
    "# Avaliação de colinearidade no modelo 3\n",
    "data.frame(VIF = vif(regressao_3))"
   ]
  },
  {
   "cell_type": "code",
   "execution_count": 81,
   "metadata": {
    "id": "OuBCpVx2iUY9"
   },
   "outputs": [
    {
     "data": {
      "text/plain": [
       "\n",
       "Call:\n",
       "glm(formula = Survived ~ Pclass + Sex + Age + SibSp, family = binomial(link = \"logit\"), \n",
       "    data = dados_titanic)\n",
       "\n",
       "Coefficients:\n",
       "             Estimate Std. Error z value             Pr(>|z|)    \n",
       "(Intercept)  4.198889   0.393180  10.679 < 0.0000000000000002 ***\n",
       "Pclass      -1.083528   0.117690  -9.207 < 0.0000000000000002 ***\n",
       "Sexmale     -2.736577   0.191555 -14.286 < 0.0000000000000002 ***\n",
       "Age         -0.018054   0.005387  -3.351             0.000804 ***\n",
       "SibSp       -0.281480   0.094634  -2.974             0.002936 ** \n",
       "---\n",
       "Signif. codes:  0 ‘***’ 0.001 ‘**’ 0.01 ‘*’ 0.05 ‘.’ 0.1 ‘ ’ 1\n",
       "\n",
       "(Dispersion parameter for binomial family taken to be 1)\n",
       "\n",
       "    Null deviance: 1182.82  on 888  degrees of freedom\n",
       "Residual deviance:  807.45  on 884  degrees of freedom\n",
       "AIC: 817.45\n",
       "\n",
       "Number of Fisher Scoring iterations: 5\n"
      ]
     },
     "metadata": {},
     "output_type": "display_data"
    }
   ],
   "source": [
    "# Ajuste do modelo 4 tirando embarked\n",
    "regressao_4 <- glm(Survived ~\n",
    "                     Pclass +\n",
    "                     Sex +\n",
    "                     Age +\n",
    "                     SibSp,\n",
    "                   family = binomial(link = 'logit'),\n",
    "                   data = dados_titanic)\n",
    "\n",
    "summary(regressao_4)"
   ]
  },
  {
   "cell_type": "code",
   "execution_count": 82,
   "metadata": {
    "id": "GmUlRRizqdWP"
   },
   "outputs": [
    {
     "data": {
      "text/html": [
       "<table class=\"dataframe\">\n",
       "<caption>A data.frame: 4 × 1</caption>\n",
       "<thead>\n",
       "\t<tr><th></th><th scope=col>VIF</th></tr>\n",
       "\t<tr><th></th><th scope=col>&lt;dbl&gt;</th></tr>\n",
       "</thead>\n",
       "<tbody>\n",
       "\t<tr><th scope=row>Pclass</th><td>1.291203</td></tr>\n",
       "\t<tr><th scope=row>Sexmale</th><td>1.142970</td></tr>\n",
       "\t<tr><th scope=row>Age</th><td>1.220213</td></tr>\n",
       "\t<tr><th scope=row>SibSp</th><td>1.081327</td></tr>\n",
       "</tbody>\n",
       "</table>\n"
      ],
      "text/latex": [
       "A data.frame: 4 × 1\n",
       "\\begin{tabular}{r|l}\n",
       "  & VIF\\\\\n",
       "  & <dbl>\\\\\n",
       "\\hline\n",
       "\tPclass & 1.291203\\\\\n",
       "\tSexmale & 1.142970\\\\\n",
       "\tAge & 1.220213\\\\\n",
       "\tSibSp & 1.081327\\\\\n",
       "\\end{tabular}\n"
      ],
      "text/markdown": [
       "\n",
       "A data.frame: 4 × 1\n",
       "\n",
       "| <!--/--> | VIF &lt;dbl&gt; |\n",
       "|---|---|\n",
       "| Pclass | 1.291203 |\n",
       "| Sexmale | 1.142970 |\n",
       "| Age | 1.220213 |\n",
       "| SibSp | 1.081327 |\n",
       "\n"
      ],
      "text/plain": [
       "        VIF     \n",
       "Pclass  1.291203\n",
       "Sexmale 1.142970\n",
       "Age     1.220213\n",
       "SibSp   1.081327"
      ]
     },
     "metadata": {},
     "output_type": "display_data"
    }
   ],
   "source": [
    "# Avaliação de colinearidade no modelo 4\n",
    "data.frame(VIF = vif(regressao_4))"
   ]
  },
  {
   "cell_type": "markdown",
   "metadata": {
    "id": "8FPh79Xd8ST1"
   },
   "source": [
    "### Intervalos de confiança"
   ]
  },
  {
   "cell_type": "code",
   "execution_count": 83,
   "metadata": {
    "id": "qVTodUSmz15X"
   },
   "outputs": [],
   "source": [
    "# Escolha do beta (0 para intercepto, ou 1, 2, ... para os parâmetros referentes a cada variável explicativa)\n",
    "beta = 0"
   ]
  },
  {
   "cell_type": "code",
   "execution_count": 84,
   "metadata": {
    "id": "rBg7mDoO70cm"
   },
   "outputs": [
    {
     "name": "stdout",
     "output_type": "stream",
     "text": [
      "[1] \"Limite inferior\"\n"
     ]
    },
    {
     "data": {
      "text/html": [
       "3.42825552406815"
      ],
      "text/latex": [
       "3.42825552406815"
      ],
      "text/markdown": [
       "3.42825552406815"
      ],
      "text/plain": [
       "[1] 3.428256"
      ]
     },
     "metadata": {},
     "output_type": "display_data"
    },
    {
     "name": "stdout",
     "output_type": "stream",
     "text": [
      "[1] \"Limite superior\"\n"
     ]
    },
    {
     "data": {
      "text/html": [
       "4.9695219275704"
      ],
      "text/latex": [
       "4.9695219275704"
      ],
      "text/markdown": [
       "4.9695219275704"
      ],
      "text/plain": [
       "[1] 4.969522"
      ]
     },
     "metadata": {},
     "output_type": "display_data"
    }
   ],
   "source": [
    "# Cálculo do intervalo\n",
    "print(\"Limite inferior\")\n",
    "as.numeric(regressao_4$coefficients[beta + 1] - 1.96 * coef(summary(regressao_4))[beta + 1, \"Std. Error\"])\n",
    "print(\"Limite superior\")\n",
    "as.numeric(regressao_4$coefficients[beta + 1] + 1.96 * coef(summary(regressao_4))[beta + 1, \"Std. Error\"])"
   ]
  },
  {
   "cell_type": "markdown",
   "metadata": {
    "id": "HIigFeGjJwpL"
   },
   "source": [
    "### Aplicação do modelo e definição de resposta predita"
   ]
  },
  {
   "cell_type": "code",
   "execution_count": 85,
   "metadata": {
    "id": "EqfzhugvQ8qj"
   },
   "outputs": [],
   "source": [
    "# Aplicação do modelo na base (criação de uma nova coluna chamada \"probabilidade\")\n",
    "dados_titanic$probabilidade <- predict(regressao_4,\n",
    "                                       dados_titanic,\n",
    "                                       type = \"response\")"
   ]
  },
  {
   "cell_type": "code",
   "execution_count": 86,
   "metadata": {
    "id": "OsmFiZrHRJHw"
   },
   "outputs": [
    {
     "data": {
      "text/html": [
       "0.382452193475816"
      ],
      "text/latex": [
       "0.382452193475816"
      ],
      "text/markdown": [
       "0.382452193475816"
      ],
      "text/plain": [
       "[1] 0.3824522"
      ]
     },
     "metadata": {},
     "output_type": "display_data"
    }
   ],
   "source": [
    "# Definição de ponto de corte (padrão: % de 1's na amostra)\n",
    "ponto_corte <- mean(dados_titanic$Survived)\n",
    "ponto_corte"
   ]
  },
  {
   "cell_type": "code",
   "execution_count": 87,
   "metadata": {
    "id": "RNC-k-s4RSS4"
   },
   "outputs": [],
   "source": [
    "# Definição da resposta predita pelo modelo (criação de uma nova coluna chamada \"predito\")\n",
    "dados_titanic$predito <- as.factor(ifelse(dados_titanic$probabilidade > ponto_corte, 1, 0))"
   ]
  },
  {
   "cell_type": "markdown",
   "metadata": {
    "id": "l82_95h3JsBP"
   },
   "source": [
    "### Análise de desempenho"
   ]
  },
  {
   "cell_type": "code",
   "execution_count": 88,
   "metadata": {
    "id": "B_tsIjDaPVwI"
   },
   "outputs": [],
   "source": [
    "# Tabela de classificação\n",
    "tabela <- table(dados_titanic$Survived, dados_titanic$predito)"
   ]
  },
  {
   "cell_type": "code",
   "execution_count": 89,
   "metadata": {
    "id": "XIH_nvQ9RfyC"
   },
   "outputs": [
    {
     "data": {
      "text/html": [
       "0.770528683914511"
      ],
      "text/latex": [
       "0.770528683914511"
      ],
      "text/markdown": [
       "0.770528683914511"
      ],
      "text/plain": [
       "[1] 0.7705287"
      ]
     },
     "metadata": {},
     "output_type": "display_data"
    }
   ],
   "source": [
    "# Acurácia\n",
    "(tabela[1,1] + tabela[2,2]) / sum(tabela)"
   ]
  },
  {
   "cell_type": "code",
   "execution_count": 90,
   "metadata": {
    "id": "izk0HXXIALP4"
   },
   "outputs": [
    {
     "data": {
      "text/html": [
       "0.775956284153005"
      ],
      "text/latex": [
       "0.775956284153005"
      ],
      "text/markdown": [
       "0.775956284153005"
      ],
      "text/plain": [
       "[1] 0.7759563"
      ]
     },
     "metadata": {},
     "output_type": "display_data"
    }
   ],
   "source": [
    "# Especificidade\n",
    "tabela[1,1] / (tabela[1,1] + tabela[1,2])"
   ]
  },
  {
   "cell_type": "code",
   "execution_count": 91,
   "metadata": {
    "id": "X1UCyp2OPW8w"
   },
   "outputs": [
    {
     "data": {
      "text/html": [
       "0.761764705882353"
      ],
      "text/latex": [
       "0.761764705882353"
      ],
      "text/markdown": [
       "0.761764705882353"
      ],
      "text/plain": [
       "[1] 0.7617647"
      ]
     },
     "metadata": {},
     "output_type": "display_data"
    }
   ],
   "source": [
    "# Sensibilidade\n",
    "tabela[2,2] / (tabela[2,1] + tabela[2,2])"
   ]
  },
  {
   "cell_type": "code",
   "execution_count": 92,
   "metadata": {
    "id": "BVca4OaaUfqZ"
   },
   "outputs": [
    {
     "name": "stdout",
     "output_type": "stream",
     "text": [
      "[1] 0.5664952\n"
     ]
    }
   ],
   "source": [
    "# KS\n",
    "pred <- prediction(dados_titanic$probabilidade, dados_titanic$Survived)\n",
    "perf <- performance(pred, \"tpr\", \"fpr\")\n",
    "ks <- max(attr(perf, 'y.values')[[1]] - attr(perf, 'x.values')[[1]])\n",
    "\n",
    "print(ks)"
   ]
  },
  {
   "cell_type": "code",
   "execution_count": 94,
   "metadata": {
    "id": "JsaFkT9yU5v5"
   },
   "outputs": [
    {
     "name": "stdout",
     "output_type": "stream",
     "text": [
      "[1] 0.844348\n"
     ]
    }
   ],
   "source": [
    "# AUC\n",
    "pred <- prediction(dados_titanic$probabilidade, dados_titanic$Survived)\n",
    "auc <- performance(pred, \"auc\")\n",
    "auc <- auc@y.values[[1]]\n",
    "\n",
    "print(auc)"
   ]
  },
  {
   "cell_type": "markdown",
   "metadata": {
    "id": "jVg-t0b6WD8S"
   },
   "source": [
    "### Exemplo de uso (aplicação) do modelo"
   ]
  },
  {
   "cell_type": "code",
   "execution_count": 153,
   "metadata": {},
   "outputs": [],
   "source": [
    "test_titanic <- read.table(file = \"../data/test.csv\",\n",
    "                            sep = \",\",\n",
    "                            dec = \".\",\n",
    "                            header = TRUE)"
   ]
  },
  {
   "cell_type": "code",
   "execution_count": 154,
   "metadata": {},
   "outputs": [],
   "source": [
    "test_titanic$Age[is.na(test_titanic$Age)] <- 0"
   ]
  },
  {
   "cell_type": "code",
   "execution_count": 155,
   "metadata": {
    "id": "Xj6tful6W9lv",
    "scrolled": true
   },
   "outputs": [],
   "source": [
    "# Aplicação do modelo\n",
    "test_titanic$Prob_survive <- predict(regressao_4, test_titanic, type = \"response\")"
   ]
  },
  {
   "cell_type": "code",
   "execution_count": 156,
   "metadata": {},
   "outputs": [],
   "source": [
    "#Criação da coluna binaria\n",
    "test_titanic$Survived <- ifelse(test_titanic$Prob_survive > ponto_corte, 1, 0)"
   ]
  },
  {
   "cell_type": "code",
   "execution_count": 157,
   "metadata": {},
   "outputs": [],
   "source": [
    "csv_test_titanic <- test_titanic[, c(\"PassengerId\", \"Survived\")]"
   ]
  },
  {
   "cell_type": "code",
   "execution_count": 159,
   "metadata": {},
   "outputs": [],
   "source": [
    "write.csv(csv_test_titanic, \"../data/test_titanic.csv\", row.names = FALSE)"
   ]
  },
  {
   "cell_type": "code",
   "execution_count": 151,
   "metadata": {},
   "outputs": [
    {
     "data": {
      "text/plain": [
       "\n",
       "  0   1 \n",
       "234 184 "
      ]
     },
     "metadata": {},
     "output_type": "display_data"
    },
    {
     "data": {
      "text/plain": [
       "\n",
       "        0         1 \n",
       "0.5598086 0.4401914 "
      ]
     },
     "metadata": {},
     "output_type": "display_data"
    }
   ],
   "source": [
    "# Tabela de frequências: Ponto de Corte Original\n",
    "table(csv_test_titanic$Survived)\n",
    "prop.table(table(csv_test_titanic$Survived))"
   ]
  },
  {
   "cell_type": "code",
   "execution_count": 158,
   "metadata": {},
   "outputs": [
    {
     "data": {
      "text/plain": [
       "\n",
       "  0   1 \n",
       "251 167 "
      ]
     },
     "metadata": {},
     "output_type": "display_data"
    },
    {
     "data": {
      "text/plain": [
       "\n",
       "        0         1 \n",
       "0.6004785 0.3995215 "
      ]
     },
     "metadata": {},
     "output_type": "display_data"
    }
   ],
   "source": [
    "# Tabela de frequências: Ponto de Corte Novo\n",
    "table(csv_test_titanic$Survived)\n",
    "prop.table(table(csv_test_titanic$Survived))"
   ]
  },
  {
   "cell_type": "markdown",
   "metadata": {
    "id": "8FPh79Xd8ST1"
   },
   "source": [
    "### Intervalos de confiança"
   ]
  },
  {
   "cell_type": "markdown",
   "metadata": {
    "id": "HIigFeGjJwpL"
   },
   "source": [
    "### Aplicação do modelo e definição de resposta predita"
   ]
  },
  {
   "cell_type": "code",
   "execution_count": 152,
   "metadata": {
    "id": "OsmFiZrHRJHw"
   },
   "outputs": [
    {
     "data": {
      "text/html": [
       "0.440191387559809"
      ],
      "text/latex": [
       "0.440191387559809"
      ],
      "text/markdown": [
       "0.440191387559809"
      ],
      "text/plain": [
       "[1] 0.4401914"
      ]
     },
     "metadata": {},
     "output_type": "display_data"
    }
   ],
   "source": [
    "# Definição de ponto de corte (padrão: % de 1's na amostra)\n",
    "ponto_corte <- mean(test_titanic$Survived)\n",
    "ponto_corte"
   ]
  },
  {
   "cell_type": "code",
   "execution_count": 139,
   "metadata": {
    "id": "RNC-k-s4RSS4"
   },
   "outputs": [],
   "source": [
    "# Definição da resposta predita pelo modelo (criação de uma nova coluna chamada \"predito\")\n",
    "test_titanic$predito <- as.factor(ifelse(test_titanic$Prob_survive > ponto_corte, 1, 0))"
   ]
  },
  {
   "cell_type": "markdown",
   "metadata": {
    "id": "l82_95h3JsBP"
   },
   "source": [
    "### Análise de desempenho"
   ]
  },
  {
   "cell_type": "code",
   "execution_count": 140,
   "metadata": {
    "id": "B_tsIjDaPVwI"
   },
   "outputs": [],
   "source": [
    "# Tabela de classificação\n",
    "tabela <- table(test_titanic$Survived, test_titanic$predito)"
   ]
  },
  {
   "cell_type": "code",
   "execution_count": 141,
   "metadata": {
    "id": "XIH_nvQ9RfyC"
   },
   "outputs": [
    {
     "data": {
      "text/html": [
       "1"
      ],
      "text/latex": [
       "1"
      ],
      "text/markdown": [
       "1"
      ],
      "text/plain": [
       "[1] 1"
      ]
     },
     "metadata": {},
     "output_type": "display_data"
    }
   ],
   "source": [
    "# Acurácia\n",
    "(tabela[1,1] + tabela[2,2]) / sum(tabela)"
   ]
  },
  {
   "cell_type": "code",
   "execution_count": 142,
   "metadata": {
    "id": "izk0HXXIALP4"
   },
   "outputs": [
    {
     "data": {
      "text/html": [
       "1"
      ],
      "text/latex": [
       "1"
      ],
      "text/markdown": [
       "1"
      ],
      "text/plain": [
       "[1] 1"
      ]
     },
     "metadata": {},
     "output_type": "display_data"
    }
   ],
   "source": [
    "# Especificidade\n",
    "tabela[1,1] / (tabela[1,1] + tabela[1,2])"
   ]
  },
  {
   "cell_type": "code",
   "execution_count": 143,
   "metadata": {
    "id": "X1UCyp2OPW8w"
   },
   "outputs": [
    {
     "data": {
      "text/html": [
       "1"
      ],
      "text/latex": [
       "1"
      ],
      "text/markdown": [
       "1"
      ],
      "text/plain": [
       "[1] 1"
      ]
     },
     "metadata": {},
     "output_type": "display_data"
    }
   ],
   "source": [
    "# Sensibilidade\n",
    "tabela[2,2] / (tabela[2,1] + tabela[2,2])"
   ]
  },
  {
   "cell_type": "code",
   "execution_count": 144,
   "metadata": {
    "id": "BVca4OaaUfqZ"
   },
   "outputs": [
    {
     "name": "stdout",
     "output_type": "stream",
     "text": [
      "[1] 1\n"
     ]
    }
   ],
   "source": [
    "# KS\n",
    "pred <- prediction(test_titanic$Prob_survive, test_titanic$Survived)\n",
    "perf <- performance(pred, \"tpr\", \"fpr\")\n",
    "ks <- max(attr(perf, 'y.values')[[1]] - attr(perf, 'x.values')[[1]])\n",
    "\n",
    "print(ks)"
   ]
  },
  {
   "cell_type": "code",
   "execution_count": 145,
   "metadata": {
    "id": "JsaFkT9yU5v5"
   },
   "outputs": [
    {
     "name": "stdout",
     "output_type": "stream",
     "text": [
      "[1] 1\n"
     ]
    }
   ],
   "source": [
    "# AUC\n",
    "pred <- prediction(test_titanic$Prob_survive, test_titanic$Survived)\n",
    "auc <- performance(pred, \"auc\")\n",
    "auc <- auc@y.values[[1]]\n",
    "\n",
    "print(auc)"
   ]
  },
  {
   "cell_type": "code",
   "execution_count": null,
   "metadata": {},
   "outputs": [],
   "source": []
  }
 ],
 "metadata": {
  "colab": {
   "provenance": []
  },
  "kernelspec": {
   "display_name": "R",
   "language": "R",
   "name": "ir"
  },
  "language_info": {
   "codemirror_mode": "r",
   "file_extension": ".r",
   "mimetype": "text/x-r-source",
   "name": "R",
   "pygments_lexer": "r",
   "version": "4.4.1"
  }
 },
 "nbformat": 4,
 "nbformat_minor": 4
}

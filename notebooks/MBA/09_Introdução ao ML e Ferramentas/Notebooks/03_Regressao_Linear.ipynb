{
 "cells": [
  {
   "cell_type": "markdown",
   "metadata": {
    "id": "L2vudERBJTiT"
   },
   "source": [
    "# **REGRESSÃO LINEAR**\n",
    "*   ### **Case**: *Livraria*\n",
    "\n"
   ]
  },
  {
   "cell_type": "markdown",
   "metadata": {
    "id": "nGD5Csd2q7VV"
   },
   "source": [
    "### Instalação de bibliotecas"
   ]
  },
  {
   "cell_type": "code",
   "execution_count": null,
   "metadata": {
    "id": "DY4aICW6q8Eb"
   },
   "outputs": [],
   "source": [
    "# As bibliotecas utilizadas neste notebook já vêm pré-instaladas no Google Colab"
   ]
  },
  {
   "cell_type": "markdown",
   "metadata": {
    "id": "99PaLHQgvG4X"
   },
   "source": [
    "### Carregamento de bibliotecas"
   ]
  },
  {
   "cell_type": "code",
   "execution_count": null,
   "metadata": {
    "id": "XY369Yf7IsFC"
   },
   "outputs": [],
   "source": [
    "from IPython.display import display\n",
    "import pandas as pd\n",
    "import numpy as np\n",
    "import seaborn as sns\n",
    "import matplotlib.pyplot as plt\n",
    "import statsmodels.formula.api as smf                                           # Ajuste de modelos de regressão\n",
    "import statsmodels.api as sm                                                    # Gráfico de Q-Q plot\n",
    "from statsmodels.stats.outliers_influence import variance_inflation_factor      # Cálculo do VIF"
   ]
  },
  {
   "cell_type": "markdown",
   "metadata": {
    "id": "AppXoGlSJa4f"
   },
   "source": [
    "### Leitura da base de dados"
   ]
  },
  {
   "cell_type": "code",
   "execution_count": null,
   "metadata": {
    "id": "BKIVxb-yO6kt"
   },
   "outputs": [],
   "source": [
    "dados_estoque = pd.read_table(\"Livraria_Estoque.txt\", sep = \"\\t\")"
   ]
  },
  {
   "cell_type": "markdown",
   "metadata": {
    "id": "QjxtmJktJf24"
   },
   "source": [
    "### Visualização da base de dados"
   ]
  },
  {
   "cell_type": "code",
   "execution_count": null,
   "metadata": {
    "id": "FJUJqh-_O4Dh"
   },
   "outputs": [],
   "source": [
    "display(dados_estoque)"
   ]
  },
  {
   "cell_type": "markdown",
   "metadata": {
    "id": "hvZQdAvYJn80"
   },
   "source": [
    "### Análise bivariada: variável resposta vs. variáveis explicativas"
   ]
  },
  {
   "cell_type": "markdown",
   "metadata": {
    "id": "sGxgeey23gQE"
   },
   "source": [
    "*Gráficos de dispersão para variáveis explicativas quantitativas*\n"
   ]
  },
  {
   "cell_type": "code",
   "execution_count": null,
   "metadata": {
    "id": "YugAaIaWxki8"
   },
   "outputs": [],
   "source": [
    "sns.pairplot(dados_estoque[['qtde_paginas', 'preco']],\n",
    "             plot_kws = {'color':'darkturquoise'},\n",
    "             diag_kws = {'color':'darkturquoise'})\n",
    "\n",
    "plt.suptitle(\"Correlograma\", y = 1.05)\n",
    "\n",
    "plt.show()"
   ]
  },
  {
   "cell_type": "markdown",
   "metadata": {
    "id": "WJBE0aEpL8wi"
   },
   "source": [
    "*Matriz de correlações*"
   ]
  },
  {
   "cell_type": "code",
   "execution_count": null,
   "metadata": {
    "id": "PsLuoxFBLxSv"
   },
   "outputs": [],
   "source": [
    "dados_estoque[['qtde_paginas', 'preco']].corr()"
   ]
  },
  {
   "cell_type": "markdown",
   "metadata": {
    "id": "kzfxdcq1tUdI"
   },
   "source": [
    "*Boxpots para variáveis explicativas qualitativas*"
   ]
  },
  {
   "cell_type": "code",
   "execution_count": null,
   "metadata": {
    "id": "M6Pat478PQGL"
   },
   "outputs": [],
   "source": [
    "fig, axes = plt.subplots(nrows = 2, ncols = 3, figsize = (12, 6))\n",
    "\n",
    "variaveis = ['categoria', 'edicao', 'tipo_capa', 'densidade_papel', 'cor', 'ano']\n",
    "\n",
    "for ax, variavel in zip(axes.flat, variaveis):\n",
    "\n",
    "  sns.boxplot(y = variavel,\n",
    "              x = 'preco',\n",
    "              data = dados_estoque,\n",
    "              width = 0.4,\n",
    "              boxprops = {'facecolor':'darkturquoise', 'edgecolor':'white'},\n",
    "              whiskerprops = {'color':'turquoise'},\n",
    "              capprops     = {'color': 'darkturquoise'},\n",
    "              medianprops  = {'color':'white'},\n",
    "              flierprops   = {'markerfacecolor': 'white', 'markeredgecolor': 'darkturquoise', 'marker': 'o', 'markersize': 3, 'color': 'turquoise', 'linestyle': 'none'},\n",
    "              ax = ax)\n",
    "  ax.set_title(f'{variavel} vs. preço')\n",
    "\n",
    "plt.tight_layout()\n",
    "plt.show()"
   ]
  },
  {
   "cell_type": "markdown",
   "metadata": {
    "id": "usjTOesQJpQI"
   },
   "source": [
    "### Modelo de regressão linear múltipla"
   ]
  },
  {
   "cell_type": "markdown",
   "metadata": {
    "id": "TvonouH4OuMy"
   },
   "source": [
    "*Ajuste do modelo*"
   ]
  },
  {
   "cell_type": "code",
   "execution_count": null,
   "metadata": {
    "id": "xQnyY57j1QwX"
   },
   "outputs": [],
   "source": [
    "modelo = smf.ols('preco ~ categoria + qtde_paginas + edicao + tipo_capa\t+ densidade_papel\t+ cor +\tano',\n",
    "                 data = dados_estoque).fit()\n",
    "\n",
    "print(modelo.summary())"
   ]
  },
  {
   "cell_type": "markdown",
   "metadata": {
    "id": "-N-_cENp6Ao-"
   },
   "source": [
    "*Avaliação de colinearidade*"
   ]
  },
  {
   "cell_type": "code",
   "execution_count": null,
   "metadata": {
    "id": "_nBhmvP-64Ne"
   },
   "outputs": [],
   "source": [
    "vif = pd.DataFrame({\n",
    "    \"Variável\": modelo.model.exog_names,\n",
    "    \"VIF\": [variance_inflation_factor(modelo.model.exog, i) for i in range(modelo.model.exog.shape[1])]\n",
    "})\n",
    "\n",
    "print(vif)"
   ]
  },
  {
   "cell_type": "markdown",
   "metadata": {
    "id": "l82_95h3JsBP"
   },
   "source": [
    "### Qualidade de ajuste"
   ]
  },
  {
   "cell_type": "code",
   "execution_count": null,
   "metadata": {
    "id": "B_tsIjDaPVwI"
   },
   "outputs": [],
   "source": [
    "# Coeficiente de determinação ajustado (R² ajustado)\n",
    "modelo.rsquared"
   ]
  },
  {
   "cell_type": "code",
   "execution_count": null,
   "metadata": {
    "id": "izk0HXXIALP4"
   },
   "outputs": [],
   "source": [
    "# MAE\n",
    "np.mean(np.abs(dados_estoque['preco'] - modelo.predict(dados_estoque)))"
   ]
  },
  {
   "cell_type": "code",
   "execution_count": null,
   "metadata": {
    "id": "X1UCyp2OPW8w"
   },
   "outputs": [],
   "source": [
    "# MAPE\n",
    "np.mean(np.abs((dados_estoque['preco'] - modelo.predict(dados_estoque)) / dados_estoque['preco']))"
   ]
  },
  {
   "cell_type": "markdown",
   "metadata": {
    "id": "HIigFeGjJwpL"
   },
   "source": [
    "### Análise de resíduos"
   ]
  },
  {
   "cell_type": "code",
   "execution_count": null,
   "metadata": {
    "id": "jP0o0OMaPdR8"
   },
   "outputs": [],
   "source": [
    "# Histograma dos resíduos\n",
    "plt.hist(modelo.resid,\n",
    "         bins = 30,\n",
    "         color = \"darkturquoise\",\n",
    "         edgecolor = \"white\")\n",
    "plt.title(\"Histograma dos resíduos\")\n",
    "plt.show()"
   ]
  },
  {
   "cell_type": "code",
   "execution_count": null,
   "metadata": {
    "id": "kT3zNDqXFP3e"
   },
   "outputs": [],
   "source": [
    "# QQ plot dos resíduos\n",
    "sm.qqplot(modelo.resid,\n",
    "          line = '45',\n",
    "          fit = True,\n",
    "          markerfacecolor = 'darkturquoise',\n",
    "          markeredgecolor = 'darkturquoise')\n",
    "plt.title(\"QQ-plot dos resíduos\")\n",
    "plt.show()"
   ]
  },
  {
   "cell_type": "code",
   "execution_count": null,
   "metadata": {
    "id": "0XeBMTHgFRlK"
   },
   "outputs": [],
   "source": [
    "# Resíduos vs. valores preditos\n",
    "plt.scatter(modelo.predict(dados_estoque),\n",
    "            modelo.resid,\n",
    "            color = \"darkturquoise\",\n",
    "            alpha = 0.4)\n",
    "plt.xlabel(\"Valores preditos\")\n",
    "plt.ylabel(\"Resíduos\")\n",
    "plt.title(\"Resíduos vs. valores preditos\")\n",
    "plt.show()"
   ]
  },
  {
   "cell_type": "markdown",
   "metadata": {
    "id": "jVg-t0b6WD8S"
   },
   "source": [
    "### Exemplo de uso (aplicação) do modelo"
   ]
  },
  {
   "cell_type": "code",
   "execution_count": null,
   "metadata": {
    "id": "lU6Z4u1BWEJq"
   },
   "outputs": [],
   "source": [
    "# Criação de base de dados com um novo título\n",
    "# Obs.: os nomes das colunas devem ser idênticos aos da base utilizada para construção do modelo\n",
    "novos_dados = pd.DataFrame({\n",
    "    'categoria'      : ['Autoajuda'],\n",
    "    'qtde_paginas'   : [500],\n",
    "    'edicao'         : ['Original'],\n",
    "    'tipo_capa'      : ['Flexivel'],\n",
    "    'densidade_papel': ['Baixa'],\n",
    "    'cor'            : ['Preto'],\n",
    "    'ano'            : ['2021-2023']\n",
    "})"
   ]
  },
  {
   "cell_type": "code",
   "execution_count": null,
   "metadata": {
    "id": "Xj6tful6W9lv"
   },
   "outputs": [],
   "source": [
    "# Aplicação do modelo\n",
    "modelo.predict(novos_dados)"
   ]
  }
 ],
 "metadata": {
  "colab": {
   "provenance": [
    {
     "file_id": "1EyxfvHmKcdWoUiUi2C7opXDduSzQK3kY",
     "timestamp": 1720925011465
    }
   ]
  },
  "kernelspec": {
   "display_name": "Python 3 (ipykernel)",
   "language": "python",
   "name": "python3"
  },
  "language_info": {
   "codemirror_mode": {
    "name": "ipython",
    "version": 3
   },
   "file_extension": ".py",
   "mimetype": "text/x-python",
   "name": "python",
   "nbconvert_exporter": "python",
   "pygments_lexer": "ipython3",
   "version": "3.9.2"
  }
 },
 "nbformat": 4,
 "nbformat_minor": 4
}

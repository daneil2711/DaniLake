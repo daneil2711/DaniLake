{
 "cells": [
  {
   "cell_type": "markdown",
   "metadata": {
    "id": "L2vudERBJTiT"
   },
   "source": [
    "# **REGRESSÃO LOGÍSTICA**\n",
    "*   ### **Case**: *Livraria*\n",
    "\n"
   ]
  },
  {
   "cell_type": "markdown",
   "metadata": {
    "id": "nGD5Csd2q7VV"
   },
   "source": [
    "### Instalação de bibliotecas"
   ]
  },
  {
   "cell_type": "code",
   "execution_count": 1,
   "metadata": {
    "id": "DY4aICW6q8Eb"
   },
   "outputs": [],
   "source": [
    "# As bibliotecas utilizadas neste notebook já vêm pré-instaladas no Google Colab"
   ]
  },
  {
   "cell_type": "markdown",
   "metadata": {
    "id": "99PaLHQgvG4X"
   },
   "source": [
    "### Carregamento de bibliotecas"
   ]
  },
  {
   "cell_type": "code",
   "execution_count": 2,
   "metadata": {
    "id": "XY369Yf7IsFC"
   },
   "outputs": [],
   "source": [
    "from IPython.display import display\n",
    "import pandas as pd\n",
    "import seaborn as sns\n",
    "import matplotlib.pyplot as plt\n",
    "import statsmodels.formula.api as smf                                           # Ajuste de modelos de regressão\n",
    "from statsmodels.stats.outliers_influence import variance_inflation_factor      # Cálculo do VIF\n",
    "from sklearn.metrics import roc_auc_score, roc_curve                            # Cálculo do KS e AUC"
   ]
  },
  {
   "cell_type": "markdown",
   "metadata": {
    "id": "AppXoGlSJa4f"
   },
   "source": [
    "### Leitura das bases de dados"
   ]
  },
  {
   "cell_type": "code",
   "execution_count": 3,
   "metadata": {
    "id": "BKIVxb-yO6kt"
   },
   "outputs": [],
   "source": [
    "dados_estoque      = pd.read_table(\"../Dados/Livraria_Estoque.txt\", sep = \"\\t\")\n",
    "dados_concorrencia = pd.read_table(\"../Dados/Livraria_Concorrencia.txt\", sep = \"\\t\")"
   ]
  },
  {
   "cell_type": "markdown",
   "metadata": {
    "id": "sBg0Nkni1VQB"
   },
   "source": [
    "### Cruzamento das bases de dados"
   ]
  },
  {
   "cell_type": "code",
   "execution_count": 4,
   "metadata": {
    "id": "Vu2ntnXk1VQG"
   },
   "outputs": [],
   "source": [
    "# Criação de coluna 'flag_concorrente_vende' na 'dados_estoque' que assume 1 quando o concorrente vende o título ou 0 caso contrário\n",
    "dados_estoque['flag_concorrente_vende'] = dados_estoque['id_titulo'].isin(dados_concorrencia['id_titulo']).astype(int)"
   ]
  },
  {
   "cell_type": "markdown",
   "metadata": {
    "id": "QjxtmJktJf24"
   },
   "source": [
    "### Visualização da base de dados"
   ]
  },
  {
   "cell_type": "code",
   "execution_count": 5,
   "metadata": {
    "id": "FJUJqh-_O4Dh"
   },
   "outputs": [
    {
     "data": {
      "text/html": [
       "<div>\n",
       "<style scoped>\n",
       "    .dataframe tbody tr th:only-of-type {\n",
       "        vertical-align: middle;\n",
       "    }\n",
       "\n",
       "    .dataframe tbody tr th {\n",
       "        vertical-align: top;\n",
       "    }\n",
       "\n",
       "    .dataframe thead th {\n",
       "        text-align: right;\n",
       "    }\n",
       "</style>\n",
       "<table border=\"1\" class=\"dataframe\">\n",
       "  <thead>\n",
       "    <tr style=\"text-align: right;\">\n",
       "      <th></th>\n",
       "      <th>id_titulo</th>\n",
       "      <th>categoria</th>\n",
       "      <th>qtde_paginas</th>\n",
       "      <th>edicao</th>\n",
       "      <th>tipo_capa</th>\n",
       "      <th>densidade_papel</th>\n",
       "      <th>cor</th>\n",
       "      <th>ano</th>\n",
       "      <th>preco</th>\n",
       "      <th>flag_concorrente_vende</th>\n",
       "    </tr>\n",
       "  </thead>\n",
       "  <tbody>\n",
       "    <tr>\n",
       "      <th>0</th>\n",
       "      <td>1</td>\n",
       "      <td>Autoajuda</td>\n",
       "      <td>462</td>\n",
       "      <td>Reedicao</td>\n",
       "      <td>Flexivel</td>\n",
       "      <td>Baixa</td>\n",
       "      <td>Preto</td>\n",
       "      <td>Até 2017</td>\n",
       "      <td>72.49</td>\n",
       "      <td>1</td>\n",
       "    </tr>\n",
       "    <tr>\n",
       "      <th>1</th>\n",
       "      <td>2</td>\n",
       "      <td>Artes</td>\n",
       "      <td>559</td>\n",
       "      <td>Reedicao</td>\n",
       "      <td>Dura</td>\n",
       "      <td>Alta</td>\n",
       "      <td>Preto</td>\n",
       "      <td>Até 2017</td>\n",
       "      <td>68.58</td>\n",
       "      <td>1</td>\n",
       "    </tr>\n",
       "    <tr>\n",
       "      <th>2</th>\n",
       "      <td>3</td>\n",
       "      <td>Artes</td>\n",
       "      <td>475</td>\n",
       "      <td>Reedicao</td>\n",
       "      <td>Dura</td>\n",
       "      <td>Alta</td>\n",
       "      <td>Cores</td>\n",
       "      <td>2018-2020</td>\n",
       "      <td>69.57</td>\n",
       "      <td>0</td>\n",
       "    </tr>\n",
       "    <tr>\n",
       "      <th>3</th>\n",
       "      <td>4</td>\n",
       "      <td>Autoajuda</td>\n",
       "      <td>65</td>\n",
       "      <td>Original</td>\n",
       "      <td>Flexivel</td>\n",
       "      <td>Baixa</td>\n",
       "      <td>Preto</td>\n",
       "      <td>2021-2023</td>\n",
       "      <td>32.66</td>\n",
       "      <td>0</td>\n",
       "    </tr>\n",
       "    <tr>\n",
       "      <th>4</th>\n",
       "      <td>5</td>\n",
       "      <td>Infantil</td>\n",
       "      <td>560</td>\n",
       "      <td>Reedicao</td>\n",
       "      <td>Flexivel</td>\n",
       "      <td>Baixa</td>\n",
       "      <td>Cores</td>\n",
       "      <td>2018-2020</td>\n",
       "      <td>64.10</td>\n",
       "      <td>1</td>\n",
       "    </tr>\n",
       "    <tr>\n",
       "      <th>...</th>\n",
       "      <td>...</td>\n",
       "      <td>...</td>\n",
       "      <td>...</td>\n",
       "      <td>...</td>\n",
       "      <td>...</td>\n",
       "      <td>...</td>\n",
       "      <td>...</td>\n",
       "      <td>...</td>\n",
       "      <td>...</td>\n",
       "      <td>...</td>\n",
       "    </tr>\n",
       "    <tr>\n",
       "      <th>16995</th>\n",
       "      <td>16996</td>\n",
       "      <td>Autoajuda</td>\n",
       "      <td>194</td>\n",
       "      <td>Reedicao</td>\n",
       "      <td>Flexivel</td>\n",
       "      <td>Baixa</td>\n",
       "      <td>Preto</td>\n",
       "      <td>2021-2023</td>\n",
       "      <td>30.33</td>\n",
       "      <td>0</td>\n",
       "    </tr>\n",
       "    <tr>\n",
       "      <th>16996</th>\n",
       "      <td>16997</td>\n",
       "      <td>Culinaria</td>\n",
       "      <td>573</td>\n",
       "      <td>Original</td>\n",
       "      <td>Flexivel</td>\n",
       "      <td>Baixa</td>\n",
       "      <td>Cores</td>\n",
       "      <td>2018-2020</td>\n",
       "      <td>60.26</td>\n",
       "      <td>0</td>\n",
       "    </tr>\n",
       "    <tr>\n",
       "      <th>16997</th>\n",
       "      <td>16998</td>\n",
       "      <td>Culinaria</td>\n",
       "      <td>608</td>\n",
       "      <td>Original</td>\n",
       "      <td>Flexivel</td>\n",
       "      <td>Alta</td>\n",
       "      <td>Cores</td>\n",
       "      <td>2021-2023</td>\n",
       "      <td>77.59</td>\n",
       "      <td>1</td>\n",
       "    </tr>\n",
       "    <tr>\n",
       "      <th>16998</th>\n",
       "      <td>16999</td>\n",
       "      <td>Ciencias</td>\n",
       "      <td>485</td>\n",
       "      <td>Reedicao</td>\n",
       "      <td>Flexivel</td>\n",
       "      <td>Baixa</td>\n",
       "      <td>Preto</td>\n",
       "      <td>Até 2017</td>\n",
       "      <td>71.57</td>\n",
       "      <td>1</td>\n",
       "    </tr>\n",
       "    <tr>\n",
       "      <th>16999</th>\n",
       "      <td>17000</td>\n",
       "      <td>Historia</td>\n",
       "      <td>68</td>\n",
       "      <td>Reedicao</td>\n",
       "      <td>Flexivel</td>\n",
       "      <td>Baixa</td>\n",
       "      <td>Preto</td>\n",
       "      <td>2021-2023</td>\n",
       "      <td>20.16</td>\n",
       "      <td>0</td>\n",
       "    </tr>\n",
       "  </tbody>\n",
       "</table>\n",
       "<p>17000 rows × 10 columns</p>\n",
       "</div>"
      ],
      "text/plain": [
       "       id_titulo  categoria  qtde_paginas    edicao tipo_capa densidade_papel  \\\n",
       "0              1  Autoajuda           462  Reedicao  Flexivel           Baixa   \n",
       "1              2      Artes           559  Reedicao      Dura            Alta   \n",
       "2              3      Artes           475  Reedicao      Dura            Alta   \n",
       "3              4  Autoajuda            65  Original  Flexivel           Baixa   \n",
       "4              5   Infantil           560  Reedicao  Flexivel           Baixa   \n",
       "...          ...        ...           ...       ...       ...             ...   \n",
       "16995      16996  Autoajuda           194  Reedicao  Flexivel           Baixa   \n",
       "16996      16997  Culinaria           573  Original  Flexivel           Baixa   \n",
       "16997      16998  Culinaria           608  Original  Flexivel            Alta   \n",
       "16998      16999   Ciencias           485  Reedicao  Flexivel           Baixa   \n",
       "16999      17000   Historia            68  Reedicao  Flexivel           Baixa   \n",
       "\n",
       "         cor        ano  preco  flag_concorrente_vende  \n",
       "0      Preto   Até 2017  72.49                       1  \n",
       "1      Preto   Até 2017  68.58                       1  \n",
       "2      Cores  2018-2020  69.57                       0  \n",
       "3      Preto  2021-2023  32.66                       0  \n",
       "4      Cores  2018-2020  64.10                       1  \n",
       "...      ...        ...    ...                     ...  \n",
       "16995  Preto  2021-2023  30.33                       0  \n",
       "16996  Cores  2018-2020  60.26                       0  \n",
       "16997  Cores  2021-2023  77.59                       1  \n",
       "16998  Preto   Até 2017  71.57                       1  \n",
       "16999  Preto  2021-2023  20.16                       0  \n",
       "\n",
       "[17000 rows x 10 columns]"
      ]
     },
     "metadata": {},
     "output_type": "display_data"
    }
   ],
   "source": [
    "display(dados_estoque)"
   ]
  },
  {
   "cell_type": "markdown",
   "metadata": {
    "id": "hvZQdAvYJn80"
   },
   "source": [
    "### Análise bivariada: variável resposta vs. variáveis explicativas"
   ]
  },
  {
   "cell_type": "markdown",
   "metadata": {
    "id": "sGxgeey23gQE"
   },
   "source": [
    "*Boxplots para variáveis explicativas quantitativas*\n"
   ]
  },
  {
   "cell_type": "code",
   "execution_count": 6,
   "metadata": {
    "id": "YugAaIaWxki8"
   },
   "outputs": [
    {
     "data": {
      "image/png": "[encoded data removed]",
      "text/plain": [
       "<Figure size 640x480 with 1 Axes>"
      ]
     },
     "metadata": {},
     "output_type": "display_data"
    }
   ],
   "source": [
    "sns.boxplot(y = 'qtde_paginas',\n",
    "            x = 'flag_concorrente_vende',\n",
    "            data = dados_estoque,\n",
    "            width = 0.8,\n",
    "            boxprops = {'facecolor':'darkturquoise', 'edgecolor':'white'},\n",
    "            whiskerprops = {'color':'turquoise'},\n",
    "            capprops     = {'color': 'darkturquoise'},\n",
    "            medianprops  = {'color':'white'},\n",
    "            flierprops   = {'markerfacecolor': 'white', 'markeredgecolor': 'darkturquoise', 'marker': 'o', 'markersize': 3, 'color': 'turquoise', 'linestyle': 'none'})\n",
    "\n",
    "plt.title('Venda pelo concorrente vs. qtde. de páginas')\n",
    "plt.ylabel('Qtde. de páginas')\n",
    "plt.xlabel('Venda pelo concorrente')\n",
    "plt.show()"
   ]
  },
  {
   "cell_type": "markdown",
   "metadata": {
    "id": "kzfxdcq1tUdI"
   },
   "source": [
    "*Tabelas de frequências para variáveis explicativas qualitativas*"
   ]
  },
  {
   "cell_type": "code",
   "execution_count": 7,
   "metadata": {
    "id": "M6Pat478PQGL"
   },
   "outputs": [
    {
     "data": {
      "text/html": [
       "<div>\n",
       "<style scoped>\n",
       "    .dataframe tbody tr th:only-of-type {\n",
       "        vertical-align: middle;\n",
       "    }\n",
       "\n",
       "    .dataframe tbody tr th {\n",
       "        vertical-align: top;\n",
       "    }\n",
       "\n",
       "    .dataframe thead th {\n",
       "        text-align: right;\n",
       "    }\n",
       "</style>\n",
       "<table border=\"1\" class=\"dataframe\">\n",
       "  <thead>\n",
       "    <tr style=\"text-align: right;\">\n",
       "      <th>flag_concorrente_vende</th>\n",
       "      <th>0</th>\n",
       "      <th>1</th>\n",
       "    </tr>\n",
       "    <tr>\n",
       "      <th>categoria</th>\n",
       "      <th></th>\n",
       "      <th></th>\n",
       "    </tr>\n",
       "  </thead>\n",
       "  <tbody>\n",
       "    <tr>\n",
       "      <th>Artes</th>\n",
       "      <td>56.7</td>\n",
       "      <td>43.3</td>\n",
       "    </tr>\n",
       "    <tr>\n",
       "      <th>Autoajuda</th>\n",
       "      <td>60.5</td>\n",
       "      <td>39.5</td>\n",
       "    </tr>\n",
       "    <tr>\n",
       "      <th>Biografia</th>\n",
       "      <td>46.2</td>\n",
       "      <td>53.8</td>\n",
       "    </tr>\n",
       "    <tr>\n",
       "      <th>Ciencias</th>\n",
       "      <td>51.2</td>\n",
       "      <td>48.8</td>\n",
       "    </tr>\n",
       "    <tr>\n",
       "      <th>Culinaria</th>\n",
       "      <td>55.7</td>\n",
       "      <td>44.3</td>\n",
       "    </tr>\n",
       "    <tr>\n",
       "      <th>Espiritualidade</th>\n",
       "      <td>60.9</td>\n",
       "      <td>39.1</td>\n",
       "    </tr>\n",
       "    <tr>\n",
       "      <th>Gestao</th>\n",
       "      <td>55.0</td>\n",
       "      <td>45.0</td>\n",
       "    </tr>\n",
       "    <tr>\n",
       "      <th>Historia</th>\n",
       "      <td>60.6</td>\n",
       "      <td>39.4</td>\n",
       "    </tr>\n",
       "    <tr>\n",
       "      <th>Infantil</th>\n",
       "      <td>48.3</td>\n",
       "      <td>51.7</td>\n",
       "    </tr>\n",
       "    <tr>\n",
       "      <th>Literatura</th>\n",
       "      <td>55.2</td>\n",
       "      <td>44.8</td>\n",
       "    </tr>\n",
       "    <tr>\n",
       "      <th>Universitario</th>\n",
       "      <td>25.2</td>\n",
       "      <td>74.8</td>\n",
       "    </tr>\n",
       "    <tr>\n",
       "      <th>Viagem</th>\n",
       "      <td>60.4</td>\n",
       "      <td>39.6</td>\n",
       "    </tr>\n",
       "  </tbody>\n",
       "</table>\n",
       "</div>"
      ],
      "text/plain": [
       "flag_concorrente_vende     0     1\n",
       "categoria                         \n",
       "Artes                   56.7  43.3\n",
       "Autoajuda               60.5  39.5\n",
       "Biografia               46.2  53.8\n",
       "Ciencias                51.2  48.8\n",
       "Culinaria               55.7  44.3\n",
       "Espiritualidade         60.9  39.1\n",
       "Gestao                  55.0  45.0\n",
       "Historia                60.6  39.4\n",
       "Infantil                48.3  51.7\n",
       "Literatura              55.2  44.8\n",
       "Universitario           25.2  74.8\n",
       "Viagem                  60.4  39.6"
      ]
     },
     "execution_count": 7,
     "metadata": {},
     "output_type": "execute_result"
    }
   ],
   "source": [
    "# Categoria\n",
    "(pd.crosstab(dados_estoque['categoria'], dados_estoque['flag_concorrente_vende'], dropna = False, normalize = 'index') * 100).round(1)"
   ]
  },
  {
   "cell_type": "code",
   "execution_count": 8,
   "metadata": {
    "id": "rTckwnImhLxM"
   },
   "outputs": [
    {
     "data": {
      "text/html": [
       "<div>\n",
       "<style scoped>\n",
       "    .dataframe tbody tr th:only-of-type {\n",
       "        vertical-align: middle;\n",
       "    }\n",
       "\n",
       "    .dataframe tbody tr th {\n",
       "        vertical-align: top;\n",
       "    }\n",
       "\n",
       "    .dataframe thead th {\n",
       "        text-align: right;\n",
       "    }\n",
       "</style>\n",
       "<table border=\"1\" class=\"dataframe\">\n",
       "  <thead>\n",
       "    <tr style=\"text-align: right;\">\n",
       "      <th>flag_concorrente_vende</th>\n",
       "      <th>0</th>\n",
       "      <th>1</th>\n",
       "    </tr>\n",
       "    <tr>\n",
       "      <th>edicao</th>\n",
       "      <th></th>\n",
       "      <th></th>\n",
       "    </tr>\n",
       "  </thead>\n",
       "  <tbody>\n",
       "    <tr>\n",
       "      <th>Original</th>\n",
       "      <td>55.2</td>\n",
       "      <td>44.8</td>\n",
       "    </tr>\n",
       "    <tr>\n",
       "      <th>Reedicao</th>\n",
       "      <td>53.2</td>\n",
       "      <td>46.8</td>\n",
       "    </tr>\n",
       "  </tbody>\n",
       "</table>\n",
       "</div>"
      ],
      "text/plain": [
       "flag_concorrente_vende     0     1\n",
       "edicao                            \n",
       "Original                55.2  44.8\n",
       "Reedicao                53.2  46.8"
      ]
     },
     "execution_count": 8,
     "metadata": {},
     "output_type": "execute_result"
    }
   ],
   "source": [
    "# Edição\n",
    "(pd.crosstab(dados_estoque['edicao'], dados_estoque['flag_concorrente_vende'], dropna = False, normalize = 'index') * 100).round(1)"
   ]
  },
  {
   "cell_type": "code",
   "execution_count": 9,
   "metadata": {
    "id": "plPrmIzDgMZZ"
   },
   "outputs": [
    {
     "data": {
      "text/html": [
       "<div>\n",
       "<style scoped>\n",
       "    .dataframe tbody tr th:only-of-type {\n",
       "        vertical-align: middle;\n",
       "    }\n",
       "\n",
       "    .dataframe tbody tr th {\n",
       "        vertical-align: top;\n",
       "    }\n",
       "\n",
       "    .dataframe thead th {\n",
       "        text-align: right;\n",
       "    }\n",
       "</style>\n",
       "<table border=\"1\" class=\"dataframe\">\n",
       "  <thead>\n",
       "    <tr style=\"text-align: right;\">\n",
       "      <th>flag_concorrente_vende</th>\n",
       "      <th>0</th>\n",
       "      <th>1</th>\n",
       "    </tr>\n",
       "    <tr>\n",
       "      <th>tipo_capa</th>\n",
       "      <th></th>\n",
       "      <th></th>\n",
       "    </tr>\n",
       "  </thead>\n",
       "  <tbody>\n",
       "    <tr>\n",
       "      <th>Dura</th>\n",
       "      <td>44.0</td>\n",
       "      <td>56.0</td>\n",
       "    </tr>\n",
       "    <tr>\n",
       "      <th>Flexivel</th>\n",
       "      <td>57.9</td>\n",
       "      <td>42.1</td>\n",
       "    </tr>\n",
       "  </tbody>\n",
       "</table>\n",
       "</div>"
      ],
      "text/plain": [
       "flag_concorrente_vende     0     1\n",
       "tipo_capa                         \n",
       "Dura                    44.0  56.0\n",
       "Flexivel                57.9  42.1"
      ]
     },
     "execution_count": 9,
     "metadata": {},
     "output_type": "execute_result"
    }
   ],
   "source": [
    "# Tipo de capa\n",
    "(pd.crosstab(dados_estoque['tipo_capa'], dados_estoque['flag_concorrente_vende'], dropna = False, normalize = 'index') * 100).round(1)"
   ]
  },
  {
   "cell_type": "code",
   "execution_count": 10,
   "metadata": {
    "id": "fiYztozRhWAl"
   },
   "outputs": [
    {
     "data": {
      "text/html": [
       "<div>\n",
       "<style scoped>\n",
       "    .dataframe tbody tr th:only-of-type {\n",
       "        vertical-align: middle;\n",
       "    }\n",
       "\n",
       "    .dataframe tbody tr th {\n",
       "        vertical-align: top;\n",
       "    }\n",
       "\n",
       "    .dataframe thead th {\n",
       "        text-align: right;\n",
       "    }\n",
       "</style>\n",
       "<table border=\"1\" class=\"dataframe\">\n",
       "  <thead>\n",
       "    <tr style=\"text-align: right;\">\n",
       "      <th>flag_concorrente_vende</th>\n",
       "      <th>0</th>\n",
       "      <th>1</th>\n",
       "    </tr>\n",
       "    <tr>\n",
       "      <th>densidade_papel</th>\n",
       "      <th></th>\n",
       "      <th></th>\n",
       "    </tr>\n",
       "  </thead>\n",
       "  <tbody>\n",
       "    <tr>\n",
       "      <th>Alta</th>\n",
       "      <td>40.3</td>\n",
       "      <td>59.7</td>\n",
       "    </tr>\n",
       "    <tr>\n",
       "      <th>Baixa</th>\n",
       "      <td>59.3</td>\n",
       "      <td>40.7</td>\n",
       "    </tr>\n",
       "  </tbody>\n",
       "</table>\n",
       "</div>"
      ],
      "text/plain": [
       "flag_concorrente_vende     0     1\n",
       "densidade_papel                   \n",
       "Alta                    40.3  59.7\n",
       "Baixa                   59.3  40.7"
      ]
     },
     "execution_count": 10,
     "metadata": {},
     "output_type": "execute_result"
    }
   ],
   "source": [
    "# Densidade do papel\n",
    "(pd.crosstab(dados_estoque['densidade_papel'], dados_estoque['flag_concorrente_vende'], dropna = False, normalize = 'index') * 100).round(1)"
   ]
  },
  {
   "cell_type": "code",
   "execution_count": 11,
   "metadata": {
    "id": "7cPc4gulhggK"
   },
   "outputs": [
    {
     "data": {
      "text/html": [
       "<div>\n",
       "<style scoped>\n",
       "    .dataframe tbody tr th:only-of-type {\n",
       "        vertical-align: middle;\n",
       "    }\n",
       "\n",
       "    .dataframe tbody tr th {\n",
       "        vertical-align: top;\n",
       "    }\n",
       "\n",
       "    .dataframe thead th {\n",
       "        text-align: right;\n",
       "    }\n",
       "</style>\n",
       "<table border=\"1\" class=\"dataframe\">\n",
       "  <thead>\n",
       "    <tr style=\"text-align: right;\">\n",
       "      <th>flag_concorrente_vende</th>\n",
       "      <th>0</th>\n",
       "      <th>1</th>\n",
       "    </tr>\n",
       "    <tr>\n",
       "      <th>cor</th>\n",
       "      <th></th>\n",
       "      <th></th>\n",
       "    </tr>\n",
       "  </thead>\n",
       "  <tbody>\n",
       "    <tr>\n",
       "      <th>Cores</th>\n",
       "      <td>48.5</td>\n",
       "      <td>51.5</td>\n",
       "    </tr>\n",
       "    <tr>\n",
       "      <th>Preto</th>\n",
       "      <td>55.5</td>\n",
       "      <td>44.5</td>\n",
       "    </tr>\n",
       "  </tbody>\n",
       "</table>\n",
       "</div>"
      ],
      "text/plain": [
       "flag_concorrente_vende     0     1\n",
       "cor                               \n",
       "Cores                   48.5  51.5\n",
       "Preto                   55.5  44.5"
      ]
     },
     "execution_count": 11,
     "metadata": {},
     "output_type": "execute_result"
    }
   ],
   "source": [
    "# Cor\n",
    "(pd.crosstab(dados_estoque['cor'], dados_estoque['flag_concorrente_vende'], dropna = False, normalize = 'index') * 100).round(1)"
   ]
  },
  {
   "cell_type": "code",
   "execution_count": 12,
   "metadata": {
    "id": "3IztAMPOhmDF"
   },
   "outputs": [
    {
     "data": {
      "text/html": [
       "<div>\n",
       "<style scoped>\n",
       "    .dataframe tbody tr th:only-of-type {\n",
       "        vertical-align: middle;\n",
       "    }\n",
       "\n",
       "    .dataframe tbody tr th {\n",
       "        vertical-align: top;\n",
       "    }\n",
       "\n",
       "    .dataframe thead th {\n",
       "        text-align: right;\n",
       "    }\n",
       "</style>\n",
       "<table border=\"1\" class=\"dataframe\">\n",
       "  <thead>\n",
       "    <tr style=\"text-align: right;\">\n",
       "      <th>flag_concorrente_vende</th>\n",
       "      <th>0</th>\n",
       "      <th>1</th>\n",
       "    </tr>\n",
       "    <tr>\n",
       "      <th>ano</th>\n",
       "      <th></th>\n",
       "      <th></th>\n",
       "    </tr>\n",
       "  </thead>\n",
       "  <tbody>\n",
       "    <tr>\n",
       "      <th>2018-2020</th>\n",
       "      <td>72.3</td>\n",
       "      <td>27.7</td>\n",
       "    </tr>\n",
       "    <tr>\n",
       "      <th>2021-2023</th>\n",
       "      <td>69.4</td>\n",
       "      <td>30.6</td>\n",
       "    </tr>\n",
       "    <tr>\n",
       "      <th>Até 2017</th>\n",
       "      <td>28.1</td>\n",
       "      <td>71.9</td>\n",
       "    </tr>\n",
       "  </tbody>\n",
       "</table>\n",
       "</div>"
      ],
      "text/plain": [
       "flag_concorrente_vende     0     1\n",
       "ano                               \n",
       "2018-2020               72.3  27.7\n",
       "2021-2023               69.4  30.6\n",
       "Até 2017                28.1  71.9"
      ]
     },
     "execution_count": 12,
     "metadata": {},
     "output_type": "execute_result"
    }
   ],
   "source": [
    "# Ano\n",
    "(pd.crosstab(dados_estoque['ano'], dados_estoque['flag_concorrente_vende'], dropna = False, normalize = 'index') * 100).round(1)"
   ]
  },
  {
   "cell_type": "markdown",
   "metadata": {
    "id": "usjTOesQJpQI"
   },
   "source": [
    "### Modelo de regressão logística múltipla"
   ]
  },
  {
   "cell_type": "markdown",
   "metadata": {
    "id": "TvonouH4OuMy"
   },
   "source": [
    "*Ajuste do modelo*"
   ]
  },
  {
   "cell_type": "code",
   "execution_count": 13,
   "metadata": {
    "id": "xQnyY57j1QwX"
   },
   "outputs": [
    {
     "name": "stdout",
     "output_type": "stream",
     "text": [
      "Optimization terminated successfully.\n",
      "         Current function value: 0.535493\n",
      "         Iterations 6\n",
      "                             Logit Regression Results                             \n",
      "==================================================================================\n",
      "Dep. Variable:     flag_concorrente_vende   No. Observations:                17000\n",
      "Model:                              Logit   Df Residuals:                    16981\n",
      "Method:                               MLE   Df Model:                           18\n",
      "Date:                    Thu, 10 Oct 2024   Pseudo R-squ.:                  0.2238\n",
      "Time:                            22:55:09   Log-Likelihood:                -9103.4\n",
      "converged:                           True   LL-Null:                       -11727.\n",
      "Covariance Type:                nonrobust   LLR p-value:                     0.000\n",
      "================================================================================================\n",
      "                                   coef    std err          z      P>|z|      [0.025      0.975]\n",
      "------------------------------------------------------------------------------------------------\n",
      "Intercept                       -1.6841      0.112    -15.050      0.000      -1.903      -1.465\n",
      "categoria[T.Autoajuda]           0.2745      0.103      2.662      0.008       0.072       0.477\n",
      "categoria[T.Biografia]           0.6682      0.116      5.767      0.000       0.441       0.895\n",
      "categoria[T.Ciencias]            0.4536      0.103      4.418      0.000       0.252       0.655\n",
      "categoria[T.Culinaria]          -0.0126      0.106     -0.119      0.905      -0.220       0.194\n",
      "categoria[T.Espiritualidade]     0.2117      0.112      1.891      0.059      -0.008       0.431\n",
      "categoria[T.Gestao]              0.3754      0.101      3.729      0.000       0.178       0.573\n",
      "categoria[T.Historia]            0.2499      0.112      2.241      0.025       0.031       0.469\n",
      "categoria[T.Infantil]            0.7213      0.101      7.123      0.000       0.523       0.920\n",
      "categoria[T.Literatura]          0.3827      0.102      3.767      0.000       0.184       0.582\n",
      "categoria[T.Universitario]       1.3930      0.133     10.499      0.000       1.133       1.653\n",
      "categoria[T.Viagem]             -0.1069      0.145     -0.735      0.462      -0.392       0.178\n",
      "edicao[T.Reedicao]               0.1670      0.037      4.527      0.000       0.095       0.239\n",
      "tipo_capa[T.Flexivel]           -0.5199      0.044    -11.808      0.000      -0.606      -0.434\n",
      "densidade_papel[T.Baixa]        -0.8255      0.042    -19.587      0.000      -0.908      -0.743\n",
      "cor[T.Preto]                    -0.1236      0.047     -2.610      0.009      -0.216      -0.031\n",
      "ano[T.2021-2023]                 0.1921      0.048      3.966      0.000       0.097       0.287\n",
      "ano[T.Até 2017]                  2.2586      0.044     51.375      0.000       2.172       2.345\n",
      "qtde_paginas                     0.0030      0.000     24.455      0.000       0.003       0.003\n",
      "================================================================================================\n"
     ]
    }
   ],
   "source": [
    "modelo = smf.logit('flag_concorrente_vende ~ categoria + qtde_paginas + edicao + tipo_capa + densidade_papel + cor + ano',\n",
    "                   data = dados_estoque).fit()\n",
    "\n",
    "print(modelo.summary())"
   ]
  },
  {
   "cell_type": "markdown",
   "metadata": {
    "id": "-N-_cENp6Ao-"
   },
   "source": [
    "*Avaliação de colinearidade*"
   ]
  },
  {
   "cell_type": "code",
   "execution_count": 14,
   "metadata": {
    "id": "_nBhmvP-64Ne"
   },
   "outputs": [
    {
     "name": "stdout",
     "output_type": "stream",
     "text": [
      "                        Variável        VIF\n",
      "0                      Intercept  37.422961\n",
      "1         categoria[T.Autoajuda]   3.428177\n",
      "2         categoria[T.Biografia]   2.091180\n",
      "3          categoria[T.Ciencias]   3.086914\n",
      "4         categoria[T.Culinaria]   2.556959\n",
      "5   categoria[T.Espiritualidade]   2.521657\n",
      "6            categoria[T.Gestao]   3.681950\n",
      "7          categoria[T.Historia]   2.577776\n",
      "8          categoria[T.Infantil]   3.041178\n",
      "9        categoria[T.Literatura]   3.457483\n",
      "10    categoria[T.Universitario]   1.834825\n",
      "11           categoria[T.Viagem]   1.507914\n",
      "12            edicao[T.Reedicao]   1.004446\n",
      "13         tipo_capa[T.Flexivel]   1.192221\n",
      "14      densidade_papel[T.Baixa]   1.083885\n",
      "15                  cor[T.Preto]   1.123409\n",
      "16              ano[T.2021-2023]   1.251259\n",
      "17               ano[T.Até 2017]   1.254807\n",
      "18                  qtde_paginas   1.190334\n"
     ]
    }
   ],
   "source": [
    "vif = pd.DataFrame({\n",
    "    \"Variável\": modelo.model.exog_names,\n",
    "    \"VIF\": [variance_inflation_factor(modelo.model.exog, i) for i in range(modelo.model.exog.shape[1])]\n",
    "})\n",
    "\n",
    "print(vif)"
   ]
  },
  {
   "cell_type": "markdown",
   "metadata": {
    "id": "HIigFeGjJwpL"
   },
   "source": [
    "### Aplicação do modelo e definição de resposta predita"
   ]
  },
  {
   "cell_type": "code",
   "execution_count": 15,
   "metadata": {
    "id": "EqfzhugvQ8qj"
   },
   "outputs": [],
   "source": [
    "# Aplicação do modelo na base (criação de uma nova coluna chamada \"probabilidade\")\n",
    "dados_estoque['probabilidade'] = modelo.predict()"
   ]
  },
  {
   "cell_type": "code",
   "execution_count": 16,
   "metadata": {
    "id": "OsmFiZrHRJHw"
   },
   "outputs": [
    {
     "data": {
      "text/plain": [
       "np.float64(0.45941176470588235)"
      ]
     },
     "execution_count": 16,
     "metadata": {},
     "output_type": "execute_result"
    }
   ],
   "source": [
    "# Definição de ponto de corte (padrão: % de 1's na amostra)\n",
    "ponto_corte = dados_estoque['flag_concorrente_vende'].mean()\n",
    "ponto_corte"
   ]
  },
  {
   "cell_type": "code",
   "execution_count": 17,
   "metadata": {
    "id": "RNC-k-s4RSS4"
   },
   "outputs": [],
   "source": [
    "# Definição da resposta predita pelo modelo (criação de uma nova coluna chamada \"predito\")\n",
    "dados_estoque['predito'] = (dados_estoque['probabilidade'] > ponto_corte).astype(int)"
   ]
  },
  {
   "cell_type": "markdown",
   "metadata": {
    "id": "l82_95h3JsBP"
   },
   "source": [
    "### Análise de desempenho"
   ]
  },
  {
   "cell_type": "code",
   "execution_count": 18,
   "metadata": {
    "id": "B_tsIjDaPVwI"
   },
   "outputs": [],
   "source": [
    "# Tabela de classificação\n",
    "tabela = pd.crosstab(dados_estoque['flag_concorrente_vende'], dados_estoque['predito'])"
   ]
  },
  {
   "cell_type": "code",
   "execution_count": 19,
   "metadata": {
    "id": "XIH_nvQ9RfyC"
   },
   "outputs": [
    {
     "data": {
      "text/plain": [
       "np.float64(0.7238235294117648)"
      ]
     },
     "execution_count": 19,
     "metadata": {},
     "output_type": "execute_result"
    }
   ],
   "source": [
    "# Acurácia\n",
    "(tabela.iloc[0,0] + tabela.iloc[1,1]) / tabela.sum().sum()"
   ]
  },
  {
   "cell_type": "code",
   "execution_count": 20,
   "metadata": {
    "id": "izk0HXXIALP4"
   },
   "outputs": [
    {
     "data": {
      "text/plain": [
       "np.float64(0.7205658324265506)"
      ]
     },
     "execution_count": 20,
     "metadata": {},
     "output_type": "execute_result"
    }
   ],
   "source": [
    "# Especificidade\n",
    "tabela.iloc[0,0] / (tabela.iloc[0,0] + tabela.iloc[0,1])"
   ]
  },
  {
   "cell_type": "code",
   "execution_count": 21,
   "metadata": {
    "id": "X1UCyp2OPW8w"
   },
   "outputs": [
    {
     "data": {
      "text/plain": [
       "np.float64(0.7276568501920615)"
      ]
     },
     "execution_count": 21,
     "metadata": {},
     "output_type": "execute_result"
    }
   ],
   "source": [
    "# Sensibilidade\n",
    "tabela.iloc[1,1] / (tabela.iloc[1,0] + tabela.iloc[1,1])"
   ]
  },
  {
   "cell_type": "code",
   "execution_count": 22,
   "metadata": {
    "id": "BVca4OaaUfqZ"
   },
   "outputs": [
    {
     "data": {
      "text/plain": [
       "np.float64(0.44887514820847135)"
      ]
     },
     "execution_count": 22,
     "metadata": {},
     "output_type": "execute_result"
    }
   ],
   "source": [
    "# KS\n",
    "fpr, tpr, _ = roc_curve(dados_estoque['flag_concorrente_vende'], dados_estoque['probabilidade'])\n",
    "max(tpr - fpr)"
   ]
  },
  {
   "cell_type": "code",
   "execution_count": 23,
   "metadata": {
    "id": "JsaFkT9yU5v5"
   },
   "outputs": [
    {
     "data": {
      "text/plain": [
       "np.float64(0.8050443406307864)"
      ]
     },
     "execution_count": 23,
     "metadata": {},
     "output_type": "execute_result"
    }
   ],
   "source": [
    "# AUC\n",
    "roc_auc_score(dados_estoque['flag_concorrente_vende'], dados_estoque['probabilidade'])"
   ]
  },
  {
   "cell_type": "markdown",
   "metadata": {
    "id": "jVg-t0b6WD8S"
   },
   "source": [
    "### Exemplo de uso (aplicação) do modelo"
   ]
  },
  {
   "cell_type": "code",
   "execution_count": 24,
   "metadata": {
    "id": "lU6Z4u1BWEJq"
   },
   "outputs": [],
   "source": [
    "# Criação de base de dados com um novo título\n",
    "# Obs.: os nomes das colunas devem ser idênticos aos da base utilizada para construção do modelo\n",
    "novos_dados = pd.DataFrame({\n",
    "    'categoria'      : ['Autoajuda'],\n",
    "    'qtde_paginas'   : [500],\n",
    "    'edicao'         : ['Original'],\n",
    "    'tipo_capa'      : ['Flexivel'],\n",
    "    'densidade_papel': ['Baixa'],\n",
    "    'cor'            : ['Preto'],\n",
    "    'ano'            : ['2021-2023']\n",
    "})"
   ]
  },
  {
   "cell_type": "code",
   "execution_count": 25,
   "metadata": {
    "id": "Xj6tful6W9lv"
   },
   "outputs": [
    {
     "data": {
      "text/plain": [
       "0    0.232391\n",
       "dtype: float64"
      ]
     },
     "execution_count": 25,
     "metadata": {},
     "output_type": "execute_result"
    }
   ],
   "source": [
    "# Aplicação do modelo\n",
    "modelo.predict(novos_dados)"
   ]
  }
 ],
 "metadata": {
  "colab": {
   "provenance": []
  },
  "kernelspec": {
   "display_name": "Python 3 (ipykernel)",
   "language": "python",
   "name": "python3"
  },
  "language_info": {
   "codemirror_mode": {
    "name": "ipython",
    "version": 3
   },
   "file_extension": ".py",
   "mimetype": "text/x-python",
   "name": "python",
   "nbconvert_exporter": "python",
   "pygments_lexer": "ipython3",
   "version": "3.11.4"
  }
 },
 "nbformat": 4,
 "nbformat_minor": 4
}

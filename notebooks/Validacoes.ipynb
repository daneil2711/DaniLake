{
 "cells": [
  {
   "cell_type": "code",
   "execution_count": 1,
   "id": "d3ec815b",
   "metadata": {
    "scrolled": true
   },
   "outputs": [
    {
     "name": "stderr",
     "output_type": "stream",
     "text": [
      "Warning: Ignoring non-Spark config property: hive.metastore.uris\n",
      "Setting default log level to \"WARN\".\n",
      "To adjust logging level use sc.setLogLevel(newLevel). For SparkR, use setLogLevel(newLevel).\n",
      "24/06/30 03:00:45 WARN NativeCodeLoader: Unable to load native-hadoop library for your platform... using builtin-java classes where applicable\n"
     ]
    },
    {
     "data": {
      "text/html": [
       "\n",
       "            <div>\n",
       "                <p><b>SparkSession - hive</b></p>\n",
       "                \n",
       "        <div>\n",
       "            <p><b>SparkContext</b></p>\n",
       "\n",
       "            <p><a href=\"http://hadoop:4040\">Spark UI</a></p>\n",
       "\n",
       "            <dl>\n",
       "              <dt>Version</dt>\n",
       "                <dd><code>v3.4.3</code></dd>\n",
       "              <dt>Master</dt>\n",
       "                <dd><code>local[*]</code></dd>\n",
       "              <dt>AppName</dt>\n",
       "                <dd><code>MyApp</code></dd>\n",
       "            </dl>\n",
       "        </div>\n",
       "        \n",
       "            </div>\n",
       "        "
      ],
      "text/plain": [
       "<pyspark.sql.session.SparkSession at 0x7f5e99a70580>"
      ]
     },
     "execution_count": 1,
     "metadata": {},
     "output_type": "execute_result"
    }
   ],
   "source": [
    "import platform \n",
    "from pyspark.sql import SparkSession\n",
    "\n",
    "spark = (SparkSession.builder.appName(\"MyApp\")\n",
    "        .config(\"spark.sql.warehouse.dir\",\"hdfs://localhost:9000/users/hive/warehouse\")\n",
    "        .config(\"spark.driver.memory\",\"2g\")\n",
    "        .config(\"hive.metastore.uris\", \"thrift://localhost:9083\")\n",
    "        .enableHiveSupport()\n",
    "        .getOrCreate())\n",
    "    \n",
    "    # spark = configure_spark_with_delta_pip(builder).getOrCreate()\n",
    "spark"
   ]
  },
  {
   "cell_type": "code",
   "execution_count": 8,
   "id": "a511bafc-335d-41c4-9e4b-c9c01a2bbcec",
   "metadata": {},
   "outputs": [],
   "source": [
    "spark.stop()"
   ]
  },
  {
   "cell_type": "code",
   "execution_count": 2,
   "id": "fc59506f",
   "metadata": {},
   "outputs": [
    {
     "name": "stdout",
     "output_type": "stream",
     "text": [
      "+---+\n",
      "| id|\n",
      "+---+\n",
      "|  0|\n",
      "|  1|\n",
      "|  2|\n",
      "|  3|\n",
      "|  4|\n",
      "|  5|\n",
      "|  6|\n",
      "|  7|\n",
      "|  8|\n",
      "|  9|\n",
      "+---+\n",
      "\n"
     ]
    }
   ],
   "source": [
    "spark.range(10).show()"
   ]
  },
  {
   "cell_type": "code",
   "execution_count": 1,
   "id": "45bcfc3f-a03f-4013-a34c-712ce8813539",
   "metadata": {},
   "outputs": [],
   "source": [
    "!hdfs dfs -put /usr/notebooks/Farmacias.csv /user/Daniel"
   ]
  },
  {
   "cell_type": "code",
   "execution_count": 3,
   "id": "5d57898e-0816-4b2f-8bf1-c12840fd1bba",
   "metadata": {},
   "outputs": [
    {
     "name": "stdout",
     "output_type": "stream",
     "text": [
      "Found 1 items\n",
      "-rw-r--r--   1 Daniel root        758 2024-06-26 02:05 /user/Daniel/Farmacias.csv\n"
     ]
    }
   ],
   "source": [
    "!hdfs dfs -ls /user/Daniel/"
   ]
  },
  {
   "cell_type": "code",
   "execution_count": 2,
   "id": "f9edf08b-a3ae-429d-9e40-89a956e7fe14",
   "metadata": {
    "scrolled": true
   },
   "outputs": [
    {
     "name": "stdout",
     "output_type": "stream",
     "text": [
      "++\n",
      "||\n",
      "++\n",
      "++\n",
      "\n"
     ]
    }
   ],
   "source": [
    "spark.sql(\"create database silver\").show()"
   ]
  },
  {
   "cell_type": "code",
   "execution_count": 4,
   "id": "76d1db53",
   "metadata": {},
   "outputs": [
    {
     "name": "stdout",
     "output_type": "stream",
     "text": [
      "+--------------------+-------------+-----------------------+---------------+\n",
      "|              CIDADE|FLAG_SHOPPING|SEGUNDO_PRINCIPAL_SETOR|FATURAMENTO_TRI|\n",
      "+--------------------+-------------+-----------------------+---------------+\n",
      "|           São Paulo|          Sim|             Cosméticos|           34,8|\n",
      "|            Campinas|          Sim|             Cosméticos|           28,6|\n",
      "|           Guarulhos|          Sim|        Higiene pessoal|           27,3|\n",
      "|              Osasco|          Sim|             Perfumaria|           24,5|\n",
      "|São Bernardo do C...|          Sim|             Cosméticos|           24,1|\n",
      "|      Ribeirão Preto|          Sim|             Cosméticos|           23,6|\n",
      "|             Diadema|          Não|             Perfumaria|           21,8|\n",
      "|            Sorocaba|          Sim|             Cosméticos|           19,8|\n",
      "|        Praia Grande|          Não|        Higiene pessoal|           19,4|\n",
      "|             Jundiaí|          Não|             Perfumaria|           18,5|\n",
      "|         Santo André|          Sim|        Higiene pessoal|           17,6|\n",
      "|              Santos|          Não|        Higiene pessoal|           16,2|\n",
      "|          Piracicaba|          Sim|             Perfumaria|           14,9|\n",
      "|São José do Rio P...|          Não|             Cosméticos|           13,4|\n",
      "|             Limeira|          Sim|             Perfumaria|           13,2|\n",
      "|     Mogi das Cruzes|          Sim|        Higiene pessoal|           12,6|\n",
      "|              Suzano|          Não|             Perfumaria|            8,9|\n",
      "|           Americana|          Não|        Higiene pessoal|            6,3|\n",
      "|              Franca|          Não|             Perfumaria|            2,1|\n",
      "|                null|         null|                   null|           null|\n",
      "+--------------------+-------------+-----------------------+---------------+\n",
      "only showing top 20 rows\n",
      "\n"
     ]
    }
   ],
   "source": [
    "df = spark.read.csv(\"/user/Daniel/Farmacias.csv\",sep=\";\",header=True)\n",
    "df.show()"
   ]
  },
  {
   "cell_type": "code",
   "execution_count": 3,
   "id": "5b5181e2",
   "metadata": {},
   "outputs": [
    {
     "name": "stdout",
     "output_type": "stream",
     "text": [
      "+--------------------------------------+--------+\n",
      "|count(DISTINCT N_AIH, DT_SAIDA, IDENT)|count(1)|\n",
      "+--------------------------------------+--------+\n",
      "|                                299648|  299648|\n",
      "+--------------------------------------+--------+\n",
      "\n"
     ]
    }
   ],
   "source": [
    "spark.sql('''\n",
    "\n",
    "select \n",
    "\n",
    "--substring(UF_zi,1,2) as UF,\n",
    "--count (distinct ano_cmpt),\n",
    "--count (distinct mes_cmpt),\n",
    "count (distinct N_AIH,DT_SAIDA,IDENT),\n",
    "count(*)\n",
    "\n",
    "from bronze.rd_sih\n",
    "\n",
    "--group by 1\n",
    "--order by 1\n",
    "''').show(30)"
   ]
  },
  {
   "cell_type": "code",
   "execution_count": 4,
   "id": "fa04f5a7",
   "metadata": {},
   "outputs": [
    {
     "name": "stdout",
     "output_type": "stream",
     "text": [
      "+--------------------------------------+--------+\n",
      "|count(DISTINCT N_AIH, DT_SAIDA, IDENT)|count(1)|\n",
      "+--------------------------------------+--------+\n",
      "|                                299648|  345124|\n",
      "+--------------------------------------+--------+\n",
      "\n"
     ]
    }
   ],
   "source": [
    "df = spark.read.csv('/DataSus/rd/csv',sep=\";\",header=True)\n",
    "df.createOrReplaceTempView(\"test\")\n",
    "\n",
    "spark.sql('''\n",
    "\n",
    "select \n",
    "\n",
    "--substring(UF_zi,1,2) as UF,\n",
    "--count (distinct ano_cmpt),\n",
    "--count (distinct mes_cmpt),\n",
    "count (distinct N_AIH,DT_SAIDA,IDENT),\n",
    "count(*)\n",
    "\n",
    "from test\n",
    "\n",
    "--group by 1\n",
    "--order by 1\n",
    "''').show(30)"
   ]
  },
  {
   "cell_type": "code",
   "execution_count": 20,
   "id": "098f6676-ca1d-4c11-93d1-3e954b0dacd5",
   "metadata": {},
   "outputs": [],
   "source": [
    "df = pd.DataFrame({'name': ['Raphael', 'Donatello'],\n",
    "                   'mask': ['red', 'purple'],\n",
    "                   'weapon': ['sai', 'bo staff']})\n"
   ]
  },
  {
   "cell_type": "code",
   "execution_count": 25,
   "id": "0ecabc18-829b-4327-99f3-4eda65ef7ad2",
   "metadata": {},
   "outputs": [],
   "source": [
    "\n",
    "df.to_csv('df.csv')"
   ]
  },
  {
   "cell_type": "code",
   "execution_count": null,
   "id": "a8694ed9-8da4-4090-832c-01b76da7b61f",
   "metadata": {},
   "outputs": [],
   "source": []
  }
 ],
 "metadata": {
  "kernelspec": {
   "display_name": "Python 3 (ipykernel)",
   "language": "python",
   "name": "python3"
  },
  "language_info": {
   "codemirror_mode": {
    "name": "ipython",
    "version": 3
   },
   "file_extension": ".py",
   "mimetype": "text/x-python",
   "name": "python",
   "nbconvert_exporter": "python",
   "pygments_lexer": "ipython3",
   "version": "3.9.2"
  }
 },
 "nbformat": 4,
 "nbformat_minor": 5
}

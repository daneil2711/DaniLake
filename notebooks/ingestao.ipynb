{
 "cells": [
  {
   "cell_type": "code",
   "execution_count": 1,
   "id": "56386965",
   "metadata": {},
   "outputs": [
    {
     "ename": "ERROR",
     "evalue": "Error in parse(text = x, srcfile = src): <text>:1:8: unexpected symbol\n1: import platform\n           ^\n",
     "output_type": "error",
     "traceback": [
      "Error in parse(text = x, srcfile = src): <text>:1:8: unexpected symbol\n1: import platform\n           ^\nTraceback:\n"
     ]
    }
   ],
   "source": [
    "import platform\n",
    "if platform.system() == \"Windows\":\n",
    "    path = \"C:\"\n",
    "else:\n",
    "    path = \"/mnt/c\""
   ]
  },
  {
   "cell_type": "code",
   "execution_count": 2,
   "id": "f7b95cbb",
   "metadata": {},
   "outputs": [
    {
     "ename": "ModuleNotFoundError",
     "evalue": "No module named 'get_dbc'",
     "output_type": "error",
     "traceback": [
      "\u001b[0;31m---------------------------------------------------------------------------\u001b[0m",
      "\u001b[0;31mModuleNotFoundError\u001b[0m                       Traceback (most recent call last)",
      "Cell \u001b[0;32mIn[2], line 3\u001b[0m\n\u001b[1;32m      1\u001b[0m \u001b[38;5;28;01mimport\u001b[39;00m \u001b[38;5;21;01msys\u001b[39;00m\n\u001b[1;32m      2\u001b[0m sys\u001b[38;5;241m.\u001b[39mpath\u001b[38;5;241m.\u001b[39minsert(\u001b[38;5;241m0\u001b[39m, \u001b[38;5;124mf\u001b[39m\u001b[38;5;124m\"\u001b[39m\u001b[38;5;132;01m{\u001b[39;00mpath\u001b[38;5;132;01m}\u001b[39;00m\u001b[38;5;124m/Users/Daniel/Desktop/Estudos/DataSus/scripts\u001b[39m\u001b[38;5;124m\"\u001b[39m)\n\u001b[0;32m----> 3\u001b[0m \u001b[38;5;28;01mfrom\u001b[39;00m \u001b[38;5;21;01mget_dbc\u001b[39;00m \u001b[38;5;28;01mimport\u001b[39;00m \u001b[38;5;241m*\u001b[39m \u001b[38;5;66;03m#Tive que fazer um .py da função pra rodar usando o Pool\u001b[39;00m\n\u001b[1;32m      4\u001b[0m \u001b[38;5;28;01mfrom\u001b[39;00m \u001b[38;5;21;01mmultiprocessing\u001b[39;00m \u001b[38;5;28;01mimport\u001b[39;00m Pool\n\u001b[1;32m      5\u001b[0m \u001b[38;5;28;01mimport\u001b[39;00m \u001b[38;5;21;01mdatetime\u001b[39;00m\n",
      "\u001b[0;31mModuleNotFoundError\u001b[0m: No module named 'get_dbc'"
     ]
    }
   ],
   "source": [
    "import sys\n",
    "sys.path.insert(0, f\"{path}/Users/Daniel/Desktop/Estudos/DataSus/scripts\")\n",
    "from get_dbc import * #Tive que fazer um .py da função pra rodar usando o Pool\n",
    "from multiprocessing import Pool\n",
    "import datetime\n",
    "from dateutil.relativedelta import relativedelta"
   ]
  },
  {
   "cell_type": "code",
   "execution_count": 7,
   "id": "dc99381c",
   "metadata": {},
   "outputs": [],
   "source": [
    "\n",
    "# ufs =[\"RO\",\"AC\",\"AM\",\"RR\",\"PA\",\"AP\",\"TO\",\"MA\",\"PI\",\"CE\",\n",
    "#       \"RN\",\"PB\",\"PE\",\"AL\",\"SE\",\"BA\",\"MG\",\"ES\",\"RJ\",\"SP\",\n",
    "#       \"PR\",\"SC\",\"RS\",\"MS\",\"MT\",\"GO\",\"DF\"]\n",
    "\n",
    "ufs = [\"AP\"]\n",
    "# dt_start = '2023-08-26'\n",
    "# dt_stop = '2023-08-26'\n",
    "# delay = 3\n",
    "\n",
    "dt_start = ((datetime.datetime.strptime(dt_start, \"%Y-%m-%d\")) - relativedelta(months=delay)).strftime(\"%Y-%m-01\")\n",
    "\n",
    "datas = date_range(dt_start, dt_stop, monthly=True)\n",
    "\n",
    "to_download = [(uf, datas, path) for uf in ufs]\n",
    "to_download\n",
    "with Pool(3) as pool:\n",
    "    pool.starmap(get_data_uf, to_download)"
   ]
  }
 ],
 "metadata": {
  "celltoolbar": "Tags",
  "kernelspec": {
   "display_name": "R",
   "language": "R",
   "name": "ir"
  },
  "language_info": {
   "codemirror_mode": "r",
   "file_extension": ".r",
   "mimetype": "text/x-r-source",
   "name": "R",
   "pygments_lexer": "r",
   "version": "4.2.2"
  }
 },
 "nbformat": 4,
 "nbformat_minor": 5
}

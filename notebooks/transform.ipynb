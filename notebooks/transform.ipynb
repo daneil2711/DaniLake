{
 "cells": [
  {
   "cell_type": "code",
   "execution_count": 1,
   "id": "6a1a71c8",
   "metadata": {
    "vscode": {
     "languageId": "r"
    }
   },
   "outputs": [
    {
     "name": "stderr",
     "output_type": "stream",
     "text": [
      "Installing package into ‘/usr/local/lib/R/site-library’\n",
      "(as ‘lib’ is unspecified)\n",
      "\n"
     ]
    }
   ],
   "source": [
    "install.packages(\"read.dbc\")\n",
    "\n",
    "sysinf <- Sys.info()\n",
    "ambiente <- sysinf['sysname']\n",
    "if (ambiente == \"Windows\"){\n",
    "    path <- \"C:\"\n",
    "    py <- \"python \"\n",
    "} else {\n",
    "    path <- \"/mnt/c\"\n",
    "    py <- \"python3 \"\n",
    "}"
   ]
  },
  {
   "cell_type": "code",
   "execution_count": 2,
   "id": "57ad6cd0",
   "metadata": {
    "vscode": {
     "languageId": "r"
    }
   },
   "outputs": [],
   "source": [
    "library (read.dbc)\n",
    "\n",
    "date = format(Sys.time(), \"%Y%m%d\")\n",
    "\n",
    "dbc_folder <- paste(path,\"/Users/Daniel/Desktop/Estudos/DataSus/rd/dbc/landing/\",sep = \"\")\n",
    "csv_folder <- paste(path,\"/Users/Daniel/Desktop/Estudos/DataSus/rd/csv/\",sep = \"\")\n",
    "files <- list.files(dbc_folder, full.names=TRUE)\n",
    "for (f in files){\n",
    "    df = read.dbc(f)\n",
    "    lista = strsplit(f, \"/\")[[1]]\n",
    "    file = gsub(\".dbc\", paste(date, \".csv\", sep=\"\"), lista[length(lista)])\n",
    "    write.csv2(df, paste(csv_folder, file, sep=\"\"),row.names=FALSE)\n",
    "    file.rename(from=f, to= gsub(\"landing\", \"proceeded\", f))\n",
    "}"
   ]
  },
  {
   "cell_type": "code",
   "execution_count": 3,
   "id": "dc14d951",
   "metadata": {
    "vscode": {
     "languageId": "r"
    }
   },
   "outputs": [],
   "source": [
    "#1:59 \n",
    "\n",
    "system(paste(py,path,'/Users/Daniel/Desktop/Estudos/DataSus/scripts/MoveArquivos.py',sep=\"\")) "
   ]
  }
 ],
 "metadata": {
  "celltoolbar": "Tags",
  "kernelspec": {
   "display_name": "R",
   "language": "R",
   "name": "ir"
  },
  "language_info": {
   "codemirror_mode": "r",
   "file_extension": ".r",
   "mimetype": "text/x-r-source",
   "name": "R",
   "pygments_lexer": "r",
   "version": "4.2.2"
  }
 },
 "nbformat": 4,
 "nbformat_minor": 5
}

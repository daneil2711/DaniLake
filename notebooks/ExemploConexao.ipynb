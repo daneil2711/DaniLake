{
 "cells": [
  {
   "cell_type": "code",
   "execution_count": 1,
   "id": "586f3b46-9dda-419b-8746-5380a89e007c",
   "metadata": {
    "scrolled": true
   },
   "outputs": [
    {
     "name": "stdout",
     "output_type": "stream",
     "text": [
      ":: loading settings :: url = jar:file:/usr/spark/jars/ivy-2.5.1.jar!/org/apache/ivy/core/settings/ivysettings.xml\n"
     ]
    },
    {
     "name": "stderr",
     "output_type": "stream",
     "text": [
      "Ivy Default Cache set to: /root/.ivy2/cache\n",
      "The jars for the packages stored in: /root/.ivy2/jars\n",
      "io.delta#delta-core_2.12 added as a dependency\n",
      ":: resolving dependencies :: org.apache.spark#spark-submit-parent-18a3159c-00c9-4d36-93f1-0f4de7f85f7c;1.0\n",
      "\tconfs: [default]\n",
      "\tfound io.delta#delta-core_2.12;2.4.0 in central\n",
      "\tfound io.delta#delta-storage;2.4.0 in central\n",
      "\tfound org.antlr#antlr4-runtime;4.9.3 in central\n",
      ":: resolution report :: resolve 126ms :: artifacts dl 5ms\n",
      "\t:: modules in use:\n",
      "\tio.delta#delta-core_2.12;2.4.0 from central in [default]\n",
      "\tio.delta#delta-storage;2.4.0 from central in [default]\n",
      "\torg.antlr#antlr4-runtime;4.9.3 from central in [default]\n",
      "\t---------------------------------------------------------------------\n",
      "\t|                  |            modules            ||   artifacts   |\n",
      "\t|       conf       | number| search|dwnlded|evicted|| number|dwnlded|\n",
      "\t---------------------------------------------------------------------\n",
      "\t|      default     |   3   |   0   |   0   |   0   ||   3   |   0   |\n",
      "\t---------------------------------------------------------------------\n",
      ":: retrieving :: org.apache.spark#spark-submit-parent-18a3159c-00c9-4d36-93f1-0f4de7f85f7c\n",
      "\tconfs: [default]\n",
      "\t0 artifacts copied, 3 already retrieved (0kB/6ms)\n",
      "24/08/18 02:37:36 WARN NativeCodeLoader: Unable to load native-hadoop library for your platform... using builtin-java classes where applicable\n",
      "Setting default log level to \"WARN\".\n",
      "To adjust logging level use sc.setLogLevel(newLevel). For SparkR, use setLogLevel(newLevel).\n",
      "24/08/18 02:37:37 WARN Utils: Service 'SparkUI' could not bind on port 4040. Attempting port 4041.\n"
     ]
    },
    {
     "data": {
      "text/html": [
       "\n",
       "            <div>\n",
       "                <p><b>SparkSession - hive</b></p>\n",
       "                \n",
       "        <div>\n",
       "            <p><b>SparkContext</b></p>\n",
       "\n",
       "            <p><a href=\"http://hadoop:4041\">Spark UI</a></p>\n",
       "\n",
       "            <dl>\n",
       "              <dt>Version</dt>\n",
       "                <dd><code>v3.4.3</code></dd>\n",
       "              <dt>Master</dt>\n",
       "                <dd><code>spark://spark-master:7077</code></dd>\n",
       "              <dt>AppName</dt>\n",
       "                <dd><code>Jupyter</code></dd>\n",
       "            </dl>\n",
       "        </div>\n",
       "        \n",
       "            </div>\n",
       "        "
      ],
      "text/plain": [
       "<pyspark.sql.session.SparkSession at 0x7f94b40a6fd0>"
      ]
     },
     "execution_count": 1,
     "metadata": {},
     "output_type": "execute_result"
    }
   ],
   "source": [
    "import pyspark\n",
    "from delta import *\n",
    "\n",
    "builder = pyspark.sql.SparkSession.builder.appName(\"Jupyter\") \\\n",
    "    .config(\"spark.master\", \"spark://spark-master:7077\") \\\n",
    "    .config(\"spark.executor.cores\", \"2\") \\\n",
    "    .config(\"spark.executor.memory\", \"2g\") \\\n",
    "    .config(\"spark.driver.cores\", \"2\") \\\n",
    "    .config(\"spark.driver.memory\", \"2g\") \\\n",
    "    .config(\"spark.cores.max\", \"4\") \\\n",
    "    .config(\"spark.sql.extensions\", \"io.delta.sql.DeltaSparkSessionExtension\") \\\n",
    "    .config(\"spark.sql.catalog.spark_catalog\", \"org.apache.spark.sql.delta.catalog.DeltaCatalog\") \\\n",
    "    .enableHiveSupport()\n",
    "\n",
    "spark = configure_spark_with_delta_pip(builder).getOrCreate()\n",
    "spark"
   ]
  },
  {
   "cell_type": "markdown",
   "id": "3ee53bae-2ecb-4c0a-97f4-d57b35f5c84d",
   "metadata": {},
   "source": [
    "## Testando Conexão HDFS"
   ]
  },
  {
   "cell_type": "code",
   "execution_count": 2,
   "id": "ad9893b2",
   "metadata": {},
   "outputs": [],
   "source": [
    "#Criando diretorio\n",
    "!hdfs dfs -mkdir /users/Teste"
   ]
  },
  {
   "cell_type": "code",
   "execution_count": 3,
   "id": "45bcfc3f-a03f-4013-a34c-712ce8813539",
   "metadata": {},
   "outputs": [],
   "source": [
    "#movendo arquivos do local para o HDFS\n",
    "!hdfs dfs -put /usr/notebooks/curva.csv /users/Teste"
   ]
  },
  {
   "cell_type": "code",
   "execution_count": 4,
   "id": "7caa37da-cf89-474e-95b5-68e22d3300c8",
   "metadata": {},
   "outputs": [
    {
     "name": "stdout",
     "output_type": "stream",
     "text": [
      "Found 1 items\n",
      "-rw-r--r--   1 root supergroup         46 2024-08-18 02:37 /users/Teste/curva.csv\n"
     ]
    }
   ],
   "source": [
    "#Listando diretorios/arquivos\n",
    "!hdfs dfs -ls /users/Teste/"
   ]
  },
  {
   "cell_type": "markdown",
   "id": "ea75bcf4-1942-41b4-9894-06cf19715711",
   "metadata": {},
   "source": [
    "## Testando Hive"
   ]
  },
  {
   "cell_type": "code",
   "execution_count": 5,
   "id": "4d80d1e6-d213-4404-8ce3-7d2a37ed34e5",
   "metadata": {},
   "outputs": [
    {
     "data": {
      "text/plain": [
       "DataFrame[]"
      ]
     },
     "execution_count": 5,
     "metadata": {},
     "output_type": "execute_result"
    }
   ],
   "source": [
    "spark.sql('CREATE DATABASE IF NOT EXISTS teste')"
   ]
  },
  {
   "cell_type": "code",
   "execution_count": 6,
   "id": "2123c9cf-7e2c-4edc-8bed-42605ac371fa",
   "metadata": {},
   "outputs": [
    {
     "name": "stdout",
     "output_type": "stream",
     "text": [
      "+---------+\n",
      "|namespace|\n",
      "+---------+\n",
      "|  default|\n",
      "|    teste|\n",
      "+---------+\n",
      "\n"
     ]
    }
   ],
   "source": [
    "spark.sql('show databases').show()"
   ]
  },
  {
   "cell_type": "markdown",
   "id": "bdc3e1ee-873a-4996-ad58-4926bc70c9af",
   "metadata": {},
   "source": [
    "## Testando Spark"
   ]
  },
  {
   "cell_type": "code",
   "execution_count": 7,
   "id": "fb5a664d-ac32-4131-a608-02ba0299afa5",
   "metadata": {},
   "outputs": [
    {
     "name": "stderr",
     "output_type": "stream",
     "text": [
      "[Stage 0:>                                                          (0 + 4) / 4]\r"
     ]
    },
    {
     "name": "stdout",
     "output_type": "stream",
     "text": [
      "+---+\n",
      "| id|\n",
      "+---+\n",
      "|  0|\n",
      "|  1|\n",
      "|  2|\n",
      "|  3|\n",
      "|  4|\n",
      "|  5|\n",
      "|  6|\n",
      "|  7|\n",
      "|  8|\n",
      "|  9|\n",
      "+---+\n",
      "\n"
     ]
    },
    {
     "name": "stderr",
     "output_type": "stream",
     "text": [
      "                                                                                \r"
     ]
    }
   ],
   "source": [
    "spark.range(10).show()"
   ]
  },
  {
   "cell_type": "code",
   "execution_count": 8,
   "id": "a7bd6be9-4284-46f6-bde9-f323b48aea7d",
   "metadata": {
    "scrolled": true
   },
   "outputs": [
    {
     "name": "stderr",
     "output_type": "stream",
     "text": [
      "                                                                                \r"
     ]
    },
    {
     "name": "stdout",
     "output_type": "stream",
     "text": [
      "+-----+-------+\n",
      "|curva|funding|\n",
      "+-----+-------+\n",
      "|SELIC|   0.75|\n",
      "|SELIC|   0.65|\n",
      "|SELIC|   0.70|\n",
      "+-----+-------+\n",
      "\n"
     ]
    },
    {
     "name": "stderr",
     "output_type": "stream",
     "text": [
      "                                                                                \r"
     ]
    }
   ],
   "source": [
    "#Lendo arquivos do HDFS\n",
    "df = spark.read.csv('/users/Teste/curva.csv',header=True,sep=';')\n",
    "\n",
    "df.show()"
   ]
  },
  {
   "cell_type": "code",
   "execution_count": 9,
   "id": "c0e1b757-f3cb-44bf-949f-2522141dce7b",
   "metadata": {
    "scrolled": true
   },
   "outputs": [
    {
     "name": "stderr",
     "output_type": "stream",
     "text": [
      "24/08/18 02:37:54 WARN package: Truncated the string representation of a plan since it was too large. This behavior can be adjusted by setting 'spark.sql.debug.maxToStringFields'.\n",
      "24/08/18 02:37:59 WARN HiveExternalCatalog: Couldn't find corresponding Hive SerDe for data source provider delta. Persisting data source table `spark_catalog`.`teste`.`curva` into Hive metastore in Spark SQL specific format, which is NOT compatible with Hive.\n"
     ]
    }
   ],
   "source": [
    "#salvando tabela delta\n",
    "df.write.format(\"delta\").mode(\"overwrite\").saveAsTable('teste.curva')"
   ]
  },
  {
   "cell_type": "code",
   "execution_count": 10,
   "id": "f9edf08b-a3ae-429d-9e40-89a956e7fe14",
   "metadata": {
    "scrolled": true
   },
   "outputs": [
    {
     "name": "stderr",
     "output_type": "stream",
     "text": [
      "                                                                                \r"
     ]
    },
    {
     "name": "stdout",
     "output_type": "stream",
     "text": [
      "+-----+-------+\n",
      "|curva|funding|\n",
      "+-----+-------+\n",
      "|SELIC|   0.75|\n",
      "|SELIC|   0.65|\n",
      "|SELIC|   0.70|\n",
      "+-----+-------+\n",
      "\n"
     ]
    }
   ],
   "source": [
    "#Verificando resultados\n",
    "spark.sql(\"select * from teste.curva\").show()"
   ]
  },
  {
   "cell_type": "markdown",
   "id": "11059450-a9e8-43f3-956c-18fcd91955aa",
   "metadata": {},
   "source": [
    "## Testando SQL Server"
   ]
  },
  {
   "cell_type": "code",
   "execution_count": 11,
   "id": "6010f46a-6911-417f-a5b0-854b461c85ca",
   "metadata": {},
   "outputs": [
    {
     "name": "stdout",
     "output_type": "stream",
     "text": [
      "+-----+---+\n",
      "| Nome| ID|\n",
      "+-----+---+\n",
      "| Dani|  1|\n",
      "| Jess|  2|\n",
      "|Jamal|  3|\n",
      "+-----+---+\n",
      "\n"
     ]
    }
   ],
   "source": [
    "# jdbc_url = \"jdbc:sqlserver://sqlserver:1433;databaseName=testeDani\"\n",
    "# connection_properties = {\n",
    "#     \"user\": \"SA\",\n",
    "#     \"password\": \"YourStrong!Passw0rd\",\n",
    "#     \"driver\": \"com.microsoft.sqlserver.jdbc.SQLServerDriver\"\n",
    "# }\n",
    "\n",
    "# df = spark.read.jdbc(url=jdbc_url, table=\"daniBoy\", properties=connection_properties)\n",
    "# df.show()\n"
   ]
  }
 ],
 "metadata": {
  "kernelspec": {
   "display_name": "Python 3 (ipykernel)",
   "language": "python",
   "name": "python3"
  },
  "language_info": {
   "codemirror_mode": {
    "name": "ipython",
    "version": 3
   },
   "file_extension": ".py",
   "mimetype": "text/x-python",
   "name": "python",
   "nbconvert_exporter": "python",
   "pygments_lexer": "ipython3",
   "version": "3.9.2"
  }
 },
 "nbformat": 4,
 "nbformat_minor": 5
}

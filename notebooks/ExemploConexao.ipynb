{
 "cells": [
  {
   "cell_type": "code",
   "execution_count": 4,
   "id": "586f3b46-9dda-419b-8746-5380a89e007c",
   "metadata": {},
   "outputs": [
    {
     "name": "stdout",
     "output_type": "stream",
     "text": [
      ":: loading settings :: url = jar:file:/usr/spark/jars/ivy-2.5.1.jar!/org/apache/ivy/core/settings/ivysettings.xml\n"
     ]
    },
    {
     "name": "stderr",
     "output_type": "stream",
     "text": [
      "Ivy Default Cache set to: /root/.ivy2/cache\n",
      "The jars for the packages stored in: /root/.ivy2/jars\n",
      "io.delta#delta-core_2.12 added as a dependency\n",
      ":: resolving dependencies :: org.apache.spark#spark-submit-parent-a1870ca9-875f-4874-88dd-2fe5c07b4ce5;1.0\n",
      "\tconfs: [default]\n",
      "\tfound io.delta#delta-core_2.12;2.4.0 in local-m2-cache\n",
      "\tfound io.delta#delta-storage;2.4.0 in local-m2-cache\n",
      "\tfound org.antlr#antlr4-runtime;4.9.3 in local-m2-cache\n",
      ":: resolution report :: resolve 109ms :: artifacts dl 5ms\n",
      "\t:: modules in use:\n",
      "\tio.delta#delta-core_2.12;2.4.0 from local-m2-cache in [default]\n",
      "\tio.delta#delta-storage;2.4.0 from local-m2-cache in [default]\n",
      "\torg.antlr#antlr4-runtime;4.9.3 from local-m2-cache in [default]\n",
      "\t---------------------------------------------------------------------\n",
      "\t|                  |            modules            ||   artifacts   |\n",
      "\t|       conf       | number| search|dwnlded|evicted|| number|dwnlded|\n",
      "\t---------------------------------------------------------------------\n",
      "\t|      default     |   3   |   0   |   0   |   0   ||   3   |   0   |\n",
      "\t---------------------------------------------------------------------\n",
      ":: retrieving :: org.apache.spark#spark-submit-parent-a1870ca9-875f-4874-88dd-2fe5c07b4ce5\n",
      "\tconfs: [default]\n",
      "\t0 artifacts copied, 3 already retrieved (0kB/5ms)\n",
      "24/08/26 19:23:08 WARN NativeCodeLoader: Unable to load native-hadoop library for your platform... using builtin-java classes where applicable\n",
      "Setting default log level to \"WARN\".\n",
      "To adjust logging level use sc.setLogLevel(newLevel). For SparkR, use setLogLevel(newLevel).\n",
      "24/08/26 19:23:09 WARN Utils: Service 'SparkUI' could not bind on port 4040. Attempting port 4041.\n"
     ]
    },
    {
     "data": {
      "text/html": [
       "\n",
       "            <div>\n",
       "                <p><b>SparkSession - hive</b></p>\n",
       "                \n",
       "        <div>\n",
       "            <p><b>SparkContext</b></p>\n",
       "\n",
       "            <p><a href=\"http://hadoop:4041\">Spark UI</a></p>\n",
       "\n",
       "            <dl>\n",
       "              <dt>Version</dt>\n",
       "                <dd><code>v3.4.3</code></dd>\n",
       "              <dt>Master</dt>\n",
       "                <dd><code>spark://spark-master:7077</code></dd>\n",
       "              <dt>AppName</dt>\n",
       "                <dd><code>Jupyter</code></dd>\n",
       "            </dl>\n",
       "        </div>\n",
       "        \n",
       "            </div>\n",
       "        "
      ],
      "text/plain": [
       "<pyspark.sql.session.SparkSession at 0x7fb6ab8d3bb0>"
      ]
     },
     "execution_count": 4,
     "metadata": {},
     "output_type": "execute_result"
    }
   ],
   "source": [
    "import pyspark\n",
    "from delta import *\n",
    "\n",
    "builder = pyspark.sql.SparkSession.builder.appName(\"Jupyter\") \\\n",
    "    .config(\"spark.master\", \"spark://spark-master:7077\") \\\n",
    "    .config(\"spark.executor.cores\", \"2\") \\\n",
    "    .config(\"spark.executor.memory\", \"2g\") \\\n",
    "    .config(\"spark.driver.cores\", \"2\") \\\n",
    "    .config(\"spark.driver.memory\", \"2g\") \\\n",
    "    .config(\"spark.cores.max\", \"4\") \\\n",
    "    .config(\"spark.sql.extensions\", \"io.delta.sql.DeltaSparkSessionExtension\") \\\n",
    "    .config(\"spark.sql.catalog.spark_catalog\", \"org.apache.spark.sql.delta.catalog.DeltaCatalog\") \\\n",
    "    .enableHiveSupport()\n",
    "\n",
    "spark = configure_spark_with_delta_pip(builder).getOrCreate()\n",
    "spark"
   ]
  },
  {
   "cell_type": "markdown",
   "id": "3ee53bae-2ecb-4c0a-97f4-d57b35f5c84d",
   "metadata": {},
   "source": [
    "## Testando Conexão HDFS"
   ]
  },
  {
   "cell_type": "code",
   "execution_count": 2,
   "id": "ad9893b2",
   "metadata": {},
   "outputs": [],
   "source": [
    "#Criando diretorio\n",
    "!hdfs dfs -mkdir /users/Teste"
   ]
  },
  {
   "cell_type": "code",
   "execution_count": 3,
   "id": "45bcfc3f-a03f-4013-a34c-712ce8813539",
   "metadata": {},
   "outputs": [],
   "source": [
    "#movendo arquivos do local para o HDFS\n",
    "!hdfs dfs -put /usr/notebooks/curva.csv /users/Teste"
   ]
  },
  {
   "cell_type": "code",
   "execution_count": 4,
   "id": "7caa37da-cf89-474e-95b5-68e22d3300c8",
   "metadata": {},
   "outputs": [
    {
     "name": "stdout",
     "output_type": "stream",
     "text": [
      "Found 1 items\n",
      "-rw-r--r--   1 root supergroup         46 2024-08-18 02:37 /users/Teste/curva.csv\n"
     ]
    }
   ],
   "source": [
    "#Listando diretorios/arquivos\n",
    "!hdfs dfs -ls /users/Teste/"
   ]
  },
  {
   "cell_type": "markdown",
   "id": "ea75bcf4-1942-41b4-9894-06cf19715711",
   "metadata": {},
   "source": [
    "## Testando Hive"
   ]
  },
  {
   "cell_type": "code",
   "execution_count": 5,
   "id": "4d80d1e6-d213-4404-8ce3-7d2a37ed34e5",
   "metadata": {},
   "outputs": [
    {
     "data": {
      "text/plain": [
       "DataFrame[]"
      ]
     },
     "execution_count": 5,
     "metadata": {},
     "output_type": "execute_result"
    }
   ],
   "source": [
    "spark.sql('CREATE DATABASE IF NOT EXISTS teste')"
   ]
  },
  {
   "cell_type": "code",
   "execution_count": 6,
   "id": "2123c9cf-7e2c-4edc-8bed-42605ac371fa",
   "metadata": {},
   "outputs": [
    {
     "name": "stdout",
     "output_type": "stream",
     "text": [
      "+---------+\n",
      "|namespace|\n",
      "+---------+\n",
      "|  default|\n",
      "|    teste|\n",
      "+---------+\n",
      "\n"
     ]
    }
   ],
   "source": [
    "spark.sql('show databases').show()"
   ]
  },
  {
   "cell_type": "markdown",
   "id": "bdc3e1ee-873a-4996-ad58-4926bc70c9af",
   "metadata": {},
   "source": [
    "## Testando Spark"
   ]
  },
  {
   "cell_type": "code",
   "execution_count": 7,
   "id": "fb5a664d-ac32-4131-a608-02ba0299afa5",
   "metadata": {},
   "outputs": [
    {
     "name": "stderr",
     "output_type": "stream",
     "text": [
      "[Stage 0:>                                                          (0 + 4) / 4]\r"
     ]
    },
    {
     "name": "stdout",
     "output_type": "stream",
     "text": [
      "+---+\n",
      "| id|\n",
      "+---+\n",
      "|  0|\n",
      "|  1|\n",
      "|  2|\n",
      "|  3|\n",
      "|  4|\n",
      "|  5|\n",
      "|  6|\n",
      "|  7|\n",
      "|  8|\n",
      "|  9|\n",
      "+---+\n",
      "\n"
     ]
    },
    {
     "name": "stderr",
     "output_type": "stream",
     "text": [
      "                                                                                \r"
     ]
    }
   ],
   "source": [
    "spark.range(10).show()"
   ]
  },
  {
   "cell_type": "code",
   "execution_count": 8,
   "id": "a7bd6be9-4284-46f6-bde9-f323b48aea7d",
   "metadata": {
    "scrolled": true
   },
   "outputs": [
    {
     "name": "stderr",
     "output_type": "stream",
     "text": [
      "                                                                                \r"
     ]
    },
    {
     "name": "stdout",
     "output_type": "stream",
     "text": [
      "+-----+-------+\n",
      "|curva|funding|\n",
      "+-----+-------+\n",
      "|SELIC|   0.75|\n",
      "|SELIC|   0.65|\n",
      "|SELIC|   0.70|\n",
      "+-----+-------+\n",
      "\n"
     ]
    },
    {
     "name": "stderr",
     "output_type": "stream",
     "text": [
      "                                                                                \r"
     ]
    }
   ],
   "source": [
    "#Lendo arquivos do HDFS\n",
    "df = spark.read.csv('/users/Teste/curva.csv',header=True,sep=';')\n",
    "\n",
    "df.show()"
   ]
  },
  {
   "cell_type": "code",
   "execution_count": 9,
   "id": "c0e1b757-f3cb-44bf-949f-2522141dce7b",
   "metadata": {
    "scrolled": true
   },
   "outputs": [
    {
     "name": "stderr",
     "output_type": "stream",
     "text": [
      "24/08/18 02:37:54 WARN package: Truncated the string representation of a plan since it was too large. This behavior can be adjusted by setting 'spark.sql.debug.maxToStringFields'.\n",
      "24/08/18 02:37:59 WARN HiveExternalCatalog: Couldn't find corresponding Hive SerDe for data source provider delta. Persisting data source table `spark_catalog`.`teste`.`curva` into Hive metastore in Spark SQL specific format, which is NOT compatible with Hive.\n"
     ]
    }
   ],
   "source": [
    "#salvando tabela delta\n",
    "df.write.format(\"delta\").mode(\"overwrite\").saveAsTable('teste.curva')"
   ]
  },
  {
   "cell_type": "code",
   "execution_count": 10,
   "id": "f9edf08b-a3ae-429d-9e40-89a956e7fe14",
   "metadata": {
    "scrolled": true
   },
   "outputs": [
    {
     "name": "stderr",
     "output_type": "stream",
     "text": [
      "                                                                                \r"
     ]
    },
    {
     "name": "stdout",
     "output_type": "stream",
     "text": [
      "+-----+-------+\n",
      "|curva|funding|\n",
      "+-----+-------+\n",
      "|SELIC|   0.75|\n",
      "|SELIC|   0.65|\n",
      "|SELIC|   0.70|\n",
      "+-----+-------+\n",
      "\n"
     ]
    }
   ],
   "source": [
    "#Verificando resultados\n",
    "spark.sql(\"select * from teste.curva\").show()"
   ]
  },
  {
   "cell_type": "markdown",
   "id": "11059450-a9e8-43f3-956c-18fcd91955aa",
   "metadata": {},
   "source": [
    "## Testando SQL Server"
   ]
  },
  {
   "cell_type": "code",
   "execution_count": 14,
   "id": "7b5e5dab-a3ee-413a-9e04-8702ca4f2805",
   "metadata": {},
   "outputs": [],
   "source": [
    "connection_properties = {\n",
    "    \"user\": \"SA\",\n",
    "    \"password\": \"YourStrong!Passw0rd\",\n",
    "    \"driver\": \"com.microsoft.sqlserver.jdbc.SQLServerDriver\"\n",
    "}"
   ]
  },
  {
   "cell_type": "markdown",
   "id": "635a8c75-b45a-4acc-b3a5-e734f4e4928f",
   "metadata": {},
   "source": [
    "### Full load table"
   ]
  },
  {
   "cell_type": "code",
   "execution_count": 7,
   "id": "6010f46a-6911-417f-a5b0-854b461c85ca",
   "metadata": {
    "scrolled": true
   },
   "outputs": [
    {
     "name": "stderr",
     "output_type": "stream",
     "text": [
      "[Stage 0:>                                                          (0 + 1) / 1]\r"
     ]
    },
    {
     "name": "stdout",
     "output_type": "stream",
     "text": [
      "+-----+---+\n",
      "| Nome| ID|\n",
      "+-----+---+\n",
      "| Dani|  1|\n",
      "| Jess|  2|\n",
      "|Jamal|  3|\n",
      "+-----+---+\n",
      "\n"
     ]
    },
    {
     "name": "stderr",
     "output_type": "stream",
     "text": [
      "                                                                                \r"
     ]
    }
   ],
   "source": [
    "jdbc_url = \"jdbc:sqlserver://sqlserver:1433;databaseName=testeDani\"\n",
    "\n",
    "df = spark.read.jdbc(url=jdbc_url, table=\"daniBoy\", properties=connection_properties)\n",
    "df.show()"
   ]
  },
  {
   "cell_type": "markdown",
   "id": "087507ee-cb09-4f9e-9958-33970e584cc8",
   "metadata": {},
   "source": [
    "### Select"
   ]
  },
  {
   "cell_type": "code",
   "execution_count": 21,
   "id": "b1066d34-33ef-406d-8164-34d9e377b595",
   "metadata": {},
   "outputs": [],
   "source": [
    "query_cliente = '''(\n",
    "SELECT\n",
    "\n",
    "PAR.CODPARC AS 'Cód Parceiro',\n",
    "PAR.RAZAOSOCIAL AS 'Razão Social',\n",
    "PAR.CGC_CPF AS CNPJ,\n",
    "ISNULL (PAR.TELEFONE,'') AS Telefone,\n",
    "isnull (par.fax,'') as Celular,\n",
    "ISNULL (PAR.EMAIL,'') AS 'E-mail',\n",
    "ISNULL (UFS.UF,'')AS UF,\n",
    "ISNULL (CID.NOMECID,'') AS Cidade\n",
    "\n",
    "FROM SANKHYA.TGFPAR PAR\n",
    "JOIN SANKHYA.TSIEND END1 ON PAR.CODEND = END1.CODEND\n",
    "JOIN SANKHYA.TSIBAI BAI ON PAR.CODBAI = BAI.CODBAI\n",
    "JOIN SANKHYA.TSICID CID ON CID.CODCID = PAR.CODCID\n",
    "JOIN SANKHYA.TSIUFS UFS ON UFS.CODUF = CID.UF\n",
    "\n",
    "WHERE PAR.ATIVO = 'S'\n",
    "AND PAR.CLIENTE = 'S'\n",
    "AND CGC_CPF IS NOT NULL\n",
    "AND PAR.CODPARC > 3\n",
    "AND PAR.TIPPESSOA = 'J'\n",
    ") as cliente\n",
    "'''"
   ]
  },
  {
   "cell_type": "code",
   "execution_count": 23,
   "id": "cda7c581-5562-4a35-aefc-81211e589821",
   "metadata": {},
   "outputs": [],
   "source": [
    "query_produto = '''\n",
    "(SELECT\n",
    "PRO.CODPROD AS 'Cod_Prod',\n",
    "PRO.DESCRPROD AS 'Descricao',\n",
    "RTRIM (PRO.REFFORN) AS 'Ref_Forn',\n",
    "PRO.FABRICANTE AS 'Ref_Futura',\n",
    "RTRIM (PRO.COMPLDESC) AS Complemento,\n",
    "PRO.Ativo,\n",
    "PRO.AD_DHINCLUSAO AS 'Dt_Cad',\n",
    "PRO.CODLOCALPADRAO AS 'Cod_local_padrao',\n",
    "GRU.DESCRGRUPOPROD AS Grupo,\n",
    "GRU1.DESCRGRUPOPROD AS 'Sub_Grupo_1',\n",
    "GRU2.DESCRGRUPOPROD AS 'Sub_Grupo_2',\n",
    "GRU3.DESCRGRUPOPROd AS 'Sub_Grupo_3'\n",
    "\n",
    "FROM SANKHYA.TGFPRO PRO\n",
    "JOIN SANKHYA.TGFGRU GRU ON GRU.CODGRUPOPROD = (SELECT (CASE WHEN LEN(CODGRUPOPROD) = 8 THEN CONCAT(SUBSTRING(CONVERT(VARCHAR(10),CODGRUPOPROD),1,2), '000000')\n",
    "\t ELSE CONCAT(SUBSTRING(right(rtrim(CODGRUPOPROD),8),1,1), '000000') END)\n",
    "\t FROM SANKHYA.TGFGRU WHERE CODGRUPOPROD = PRO.CODGRUPOPROD)\n",
    "JOIN SANKHYA.TGFGRU GRU1 ON GRU1.CODGRUPOPROD = (SELECT (CASE WHEN LEN(CODGRUPOPROD) = 8 THEN CONCAT(SUBSTRING(CONVERT(VARCHAR(10),CODGRUPOPROD),1,4), '0000')\n",
    "\t ELSE CONCAT(SUBSTRING(right(rtrim(CODGRUPOPROD),8),1,3), '0000') END)\n",
    "\t FROM SANKHYA.TGFGRU WHERE CODGRUPOPROD = PRO.CODGRUPOPROD)\n",
    "JOIN SANKHYA.TGFGRU GRU2 ON GRU2.CODGRUPOPROD = (SELECT (CASE WHEN LEN(CODGRUPOPROD) = 8 THEN CONCAT(SUBSTRING(CONVERT(VARCHAR(10),CODGRUPOPROD),1,6), '00')\n",
    "\t ELSE CONCAT(SUBSTRING(right(rtrim(CODGRUPOPROD),8),1,5), '00') END)\n",
    "\t FROM SANKHYA.TGFGRU WHERE CODGRUPOPROD = PRO.CODGRUPOPROD)\n",
    "JOIN SANKHYA.TGFGRU GRU3 ON GRU3.CODGRUPOPROD = PRO.CODGRUPOPROD\n",
    "\n",
    "WHERE PRO.CODPROD > 12) as prod\n",
    "\n",
    "'''"
   ]
  },
  {
   "cell_type": "code",
   "execution_count": 24,
   "id": "5991df28-2509-4f31-9ae1-18749ac5169b",
   "metadata": {},
   "outputs": [
    {
     "name": "stdout",
     "output_type": "stream",
     "text": [
      "+--------+--------------------+--------+----------+-----------+-----+-------------------+----------------+--------------------+--------------------+--------------------+--------------------+\n",
      "|Cod_Prod|           Descricao|Ref_Forn|Ref_Futura|Complemento|Ativo|             Dt_Cad|Cod_local_padrao|               Grupo|         Sub_Grupo_1|         Sub_Grupo_2|         Sub_Grupo_3|\n",
      "+--------+--------------------+--------+----------+-----------+-----+-------------------+----------------+--------------------+--------------------+--------------------+--------------------+\n",
      "|     774|Cubo Mágico 3x3 6...| AKT2635|      null|       null|    S|               null|         1001000|Brinquedos       ...|Jogos            ...|Cubo Magico      ...|Cubo Magico      ...|\n",
      "|   71108|ALMOFADA DE PELÚC...| TGS1259|     71108|       null|    S|2024-02-15 00:00:00|         1001000|Decoracao e Prese...|Capas e Almofadas...|Almofada         ...|Almofada         ...|\n",
      "|   71109|URSO DE PELÚCIA C...| TGS1260|      null|       null|    S|               null|         1001000|Decoracao e Prese...|Capas e Almofadas...|Almofada         ...|Almofada         ...|\n",
      "|   71447|ALMOFADA DE PELÚC...| TGS1251|      null|       null|    S|               null|         1001000|Decoracao e Prese...|Capas e Almofadas...|Almofada         ...|Almofada         ...|\n",
      "|   71448|ALMOFADA DE PELÚC...| TGS1252|      null|       null|    S|               null|         1001000|Decoracao e Prese...|Capas e Almofadas...|Almofada         ...|Almofada         ...|\n",
      "|   71449|ALMOFADA DE PELÚC...| TGS1256|      null|       null|    S|               null|         1001000|Decoracao e Prese...|Capas e Almofadas...|Almofada         ...|Almofada         ...|\n",
      "|   72333|ALMOFADA DE PELÚC...| TGS1249|      null|       null|    S|               null|         1001000|Decoracao e Prese...|Capas e Almofadas...|Almofada         ...|Almofada         ...|\n",
      "|   72334|ALMOFADA DE PELÚC...| TGS1250|      null|       null|    S|               null|         1001000|Decoracao e Prese...|Capas e Almofadas...|Almofada         ...|Almofada         ...|\n",
      "|   72336|ALMOFADA DE PELÚC...| TGS1253|      null|       null|    S|               null|         1001000|Decoracao e Prese...|Capas e Almofadas...|Almofada         ...|Almofada         ...|\n",
      "|   71111|URSO DE PELÚCIA L...| TGS1263|      null|       null|    S|               null|         1001000|Decoracao e Prese...|Capas e Almofadas...|Almofada         ...|Almofada         ...|\n",
      "|   71112|URSO DE PELÚCIA L...| TGS1264|      null|       null|    S|               null|         1001000|Decoracao e Prese...|Capas e Almofadas...|Almofada         ...|Almofada         ...|\n",
      "|     267|Chaveiro de Metal...| TGS0285|        57|    TGS0285|    S|               null|         1001000|Decoracao e Prese...|Chaveiro         ...|Metal            ...|Metal            ...|\n",
      "|     268|Chaveiro de Metal...| TGS0286|        57|    TGS0286|    S|               null|         1001000|Decoracao e Prese...|Chaveiro         ...|Metal            ...|Metal            ...|\n",
      "|     269|Chaveiro de Couro...| TGS0287|        57|    TGS0287|    N|               null|         1001000|Decoracao e Prese...|Chaveiro         ...|Metal            ...|Metal            ...|\n",
      "|     270|Chaveiro de Metal...| TGS0288|        57|    TGS0288|    S|               null|         1001000|Decoracao e Prese...|Chaveiro         ...|Metal            ...|Metal            ...|\n",
      "|     271|KIT 12 CHAVEIROS ...| TGS0289|        57|       null|    S|               null|         1001000|Decoracao e Prese...|Chaveiro         ...|Metal            ...|Metal            ...|\n",
      "|     272|Chaveiro de Metal...| TGS0290|        57|    TGS0290|    S|               null|         1001000|Decoracao e Prese...|Chaveiro         ...|Metal            ...|Metal            ...|\n",
      "|     273|Chaveiro de Metal...| TGS0291|        57|    TGS0291|    S|               null|         1001000|Decoracao e Prese...|Chaveiro         ...|Metal            ...|Metal            ...|\n",
      "|   71113|ROSA DE PLÁSTICO ...| TGS1266|      null|       null|    S|               null|         1001000|Decoracao e Prese...|Frutas e Flores  ...|Flores Artificiai...|Flores Artificiai...|\n",
      "|   71098|FLOR ARTIFICIAL D...| TGS1244|      null|       null|    S|               null|         1001000|Decoracao e Prese...|Frutas e Flores  ...|Flores Artificiai...|Flores Artificiai...|\n",
      "+--------+--------------------+--------+----------+-----------+-----+-------------------+----------------+--------------------+--------------------+--------------------+--------------------+\n",
      "only showing top 20 rows\n",
      "\n"
     ]
    }
   ],
   "source": [
    "jdbc_url = \"jdbc:sqlserver://sqlserver:1433;databaseName=SANKHYA_PARI\"\n",
    "df = spark.read.jdbc(url=jdbc_url,\n",
    "table=query_produto, properties=connection_properties)\n",
    "df.show()"
   ]
  },
  {
   "cell_type": "code",
   "execution_count": null,
   "id": "dcb5238d-ee5a-49ca-9c18-4538a1aac4f4",
   "metadata": {},
   "outputs": [],
   "source": []
  }
 ],
 "metadata": {
  "kernelspec": {
   "display_name": "Python 3 (ipykernel)",
   "language": "python",
   "name": "python3"
  },
  "language_info": {
   "codemirror_mode": {
    "name": "ipython",
    "version": 3
   },
   "file_extension": ".py",
   "mimetype": "text/x-python",
   "name": "python",
   "nbconvert_exporter": "python",
   "pygments_lexer": "ipython3",
   "version": "3.9.2"
  }
 },
 "nbformat": 4,
 "nbformat_minor": 5
}
